{
 "cells": [
  {
   "cell_type": "code",
   "execution_count": 1,
   "metadata": {
    "ExecuteTime": {
     "end_time": "2022-09-27T06:18:40.104774Z",
     "start_time": "2022-09-27T06:18:36.090630Z"
    },
    "scrolled": true
   },
   "outputs": [
    {
     "name": "stdout",
     "output_type": "stream",
     "text": [
      "Created TAP+ (v1.2.1) - Connection:\n",
      "\tHost: gea.esac.esa.int\n",
      "\tUse HTTPS: True\n",
      "\tPort: 443\n",
      "\tSSL Port: 443\n",
      "Created TAP+ (v1.2.1) - Connection:\n",
      "\tHost: geadata.esac.esa.int\n",
      "\tUse HTTPS: True\n",
      "\tPort: 443\n",
      "\tSSL Port: 443\n"
     ]
    }
   ],
   "source": [
    "from tqdm import tqdm\n",
    "import pandas as pd\n",
    "\n",
    "import chronos as cr"
   ]
  },
  {
   "cell_type": "markdown",
   "metadata": {},
   "source": [
    "## query gaiaid of new TOIs"
   ]
  },
  {
   "cell_type": "code",
   "execution_count": 2,
   "metadata": {
    "ExecuteTime": {
     "end_time": "2022-09-27T06:18:40.368205Z",
     "start_time": "2022-09-27T06:18:40.107134Z"
    }
   },
   "outputs": [
    {
     "name": "stdout",
     "output_type": "stream",
     "text": [
      "Loaded: /home/jp/github/research/project/chronos/chronos/data/TOIs.csv\n",
      "TOIs with TFPWG disposition==FP are removed.\n",
      "Saved: /home/jp/github/research/project/chronos/chronos/data/TOIs.csv\n",
      "\n"
     ]
    },
    {
     "data": {
      "text/html": [
       "<div>\n",
       "<style scoped>\n",
       "    .dataframe tbody tr th:only-of-type {\n",
       "        vertical-align: middle;\n",
       "    }\n",
       "\n",
       "    .dataframe tbody tr th {\n",
       "        vertical-align: top;\n",
       "    }\n",
       "\n",
       "    .dataframe thead th {\n",
       "        text-align: right;\n",
       "    }\n",
       "</style>\n",
       "<table border=\"1\" class=\"dataframe\">\n",
       "  <thead>\n",
       "    <tr style=\"text-align: right;\">\n",
       "      <th></th>\n",
       "      <th>TIC ID</th>\n",
       "      <th>TOI</th>\n",
       "      <th>Previous CTOI</th>\n",
       "      <th>Master</th>\n",
       "      <th>SG1A</th>\n",
       "      <th>SG1B</th>\n",
       "      <th>SG2</th>\n",
       "      <th>SG3</th>\n",
       "      <th>SG4</th>\n",
       "      <th>SG5</th>\n",
       "      <th>...</th>\n",
       "      <th>Stellar Radius (R_Sun) err</th>\n",
       "      <th>Stellar Metallicity</th>\n",
       "      <th>Stellar Metallicity err</th>\n",
       "      <th>Stellar Mass (M_Sun)</th>\n",
       "      <th>Stellar Mass (M_Sun) err</th>\n",
       "      <th>Sectors</th>\n",
       "      <th>Date TOI Alerted (UTC)</th>\n",
       "      <th>Date TOI Updated (UTC)</th>\n",
       "      <th>Date Modified</th>\n",
       "      <th>Comments</th>\n",
       "    </tr>\n",
       "  </thead>\n",
       "  <tbody>\n",
       "    <tr>\n",
       "      <th>5905</th>\n",
       "      <td>151759246</td>\n",
       "      <td>5800.01</td>\n",
       "      <td>NaN</td>\n",
       "      <td>1</td>\n",
       "      <td>4</td>\n",
       "      <td>1</td>\n",
       "      <td>1</td>\n",
       "      <td>1</td>\n",
       "      <td>4</td>\n",
       "      <td>4</td>\n",
       "      <td>...</td>\n",
       "      <td>0.054573</td>\n",
       "      <td>NaN</td>\n",
       "      <td>NaN</td>\n",
       "      <td>0.780000</td>\n",
       "      <td>0.097380</td>\n",
       "      <td>54</td>\n",
       "      <td>2022-09-22</td>\n",
       "      <td>2022-09-22</td>\n",
       "      <td>2022-09-24 12:03:34</td>\n",
       "      <td>NaN</td>\n",
       "    </tr>\n",
       "    <tr>\n",
       "      <th>5906</th>\n",
       "      <td>243921117</td>\n",
       "      <td>5801.01</td>\n",
       "      <td>NaN</td>\n",
       "      <td>5</td>\n",
       "      <td>5</td>\n",
       "      <td>5</td>\n",
       "      <td>5</td>\n",
       "      <td>5</td>\n",
       "      <td>5</td>\n",
       "      <td>5</td>\n",
       "      <td>...</td>\n",
       "      <td>0.018883</td>\n",
       "      <td>NaN</td>\n",
       "      <td>NaN</td>\n",
       "      <td>0.616961</td>\n",
       "      <td>0.020263</td>\n",
       "      <td>54</td>\n",
       "      <td>2022-09-22</td>\n",
       "      <td>2022-09-22</td>\n",
       "      <td>2022-09-24 12:03:33</td>\n",
       "      <td>WASP-80 b</td>\n",
       "    </tr>\n",
       "    <tr>\n",
       "      <th>5907</th>\n",
       "      <td>399402994</td>\n",
       "      <td>5802.01</td>\n",
       "      <td>NaN</td>\n",
       "      <td>5</td>\n",
       "      <td>5</td>\n",
       "      <td>5</td>\n",
       "      <td>5</td>\n",
       "      <td>5</td>\n",
       "      <td>5</td>\n",
       "      <td>5</td>\n",
       "      <td>...</td>\n",
       "      <td>0.056784</td>\n",
       "      <td>NaN</td>\n",
       "      <td>NaN</td>\n",
       "      <td>1.093000</td>\n",
       "      <td>0.135176</td>\n",
       "      <td>54</td>\n",
       "      <td>2022-09-22</td>\n",
       "      <td>2022-09-22</td>\n",
       "      <td>2022-09-24 12:03:35</td>\n",
       "      <td>WASP-81 b</td>\n",
       "    </tr>\n",
       "  </tbody>\n",
       "</table>\n",
       "<p>3 rows × 61 columns</p>\n",
       "</div>"
      ],
      "text/plain": [
       "         TIC ID      TOI Previous CTOI  Master  SG1A  SG1B  SG2  SG3  SG4  \\\n",
       "5905  151759246  5800.01           NaN       1     4     1    1    1    4   \n",
       "5906  243921117  5801.01           NaN       5     5     5    5    5    5   \n",
       "5907  399402994  5802.01           NaN       5     5     5    5    5    5   \n",
       "\n",
       "      SG5  ...  Stellar Radius (R_Sun) err  Stellar Metallicity  \\\n",
       "5905    4  ...                    0.054573                  NaN   \n",
       "5906    5  ...                    0.018883                  NaN   \n",
       "5907    5  ...                    0.056784                  NaN   \n",
       "\n",
       "      Stellar Metallicity err  Stellar Mass (M_Sun)  Stellar Mass (M_Sun) err  \\\n",
       "5905                      NaN              0.780000                  0.097380   \n",
       "5906                      NaN              0.616961                  0.020263   \n",
       "5907                      NaN              1.093000                  0.135176   \n",
       "\n",
       "     Sectors Date TOI Alerted (UTC)  Date TOI Updated (UTC)  \\\n",
       "5905      54             2022-09-22              2022-09-22   \n",
       "5906      54             2022-09-22              2022-09-22   \n",
       "5907      54             2022-09-22              2022-09-22   \n",
       "\n",
       "            Date Modified   Comments  \n",
       "5905  2022-09-24 12:03:34        NaN  \n",
       "5906  2022-09-24 12:03:33  WASP-80 b  \n",
       "5907  2022-09-24 12:03:35  WASP-81 b  \n",
       "\n",
       "[3 rows x 61 columns]"
      ]
     },
     "execution_count": 2,
     "metadata": {},
     "output_type": "execute_result"
    }
   ],
   "source": [
    "tois = cr.get_tois(clobber=False, verbose=True, remove_FP=True)\n",
    "tois.tail(3)"
   ]
  },
  {
   "cell_type": "raw",
   "metadata": {
    "ExecuteTime": {
     "end_time": "2021-09-15T01:57:50.147191Z",
     "start_time": "2021-09-15T01:57:50.120240Z"
    }
   },
   "source": [
    "tois.query(\"TOI=='1018.01'\").squeeze()"
   ]
  },
  {
   "cell_type": "code",
   "execution_count": 3,
   "metadata": {
    "ExecuteTime": {
     "end_time": "2022-09-27T06:18:40.404131Z",
     "start_time": "2022-09-27T06:18:40.373716Z"
    }
   },
   "outputs": [
    {
     "data": {
      "text/html": [
       "<div>\n",
       "<style scoped>\n",
       "    .dataframe tbody tr th:only-of-type {\n",
       "        vertical-align: middle;\n",
       "    }\n",
       "\n",
       "    .dataframe tbody tr th {\n",
       "        vertical-align: top;\n",
       "    }\n",
       "\n",
       "    .dataframe thead th {\n",
       "        text-align: right;\n",
       "    }\n",
       "</style>\n",
       "<table border=\"1\" class=\"dataframe\">\n",
       "  <thead>\n",
       "    <tr style=\"text-align: right;\">\n",
       "      <th></th>\n",
       "      <th>TIC ID</th>\n",
       "      <th>TOI</th>\n",
       "      <th>Previous CTOI</th>\n",
       "      <th>Master</th>\n",
       "      <th>SG1A</th>\n",
       "      <th>SG1B</th>\n",
       "      <th>SG2</th>\n",
       "      <th>SG3</th>\n",
       "      <th>SG4</th>\n",
       "      <th>SG5</th>\n",
       "      <th>...</th>\n",
       "      <th>Stellar Radius (R_Sun) err</th>\n",
       "      <th>Stellar Metallicity</th>\n",
       "      <th>Stellar Metallicity err</th>\n",
       "      <th>Stellar Mass (M_Sun)</th>\n",
       "      <th>Stellar Mass (M_Sun) err</th>\n",
       "      <th>Sectors</th>\n",
       "      <th>Date TOI Alerted (UTC)</th>\n",
       "      <th>Date TOI Updated (UTC)</th>\n",
       "      <th>Date Modified</th>\n",
       "      <th>Comments</th>\n",
       "    </tr>\n",
       "  </thead>\n",
       "  <tbody>\n",
       "    <tr>\n",
       "      <th>924</th>\n",
       "      <td>146520535</td>\n",
       "      <td>942.01</td>\n",
       "      <td>NaN</td>\n",
       "      <td>3</td>\n",
       "      <td>5</td>\n",
       "      <td>5</td>\n",
       "      <td>3</td>\n",
       "      <td>4</td>\n",
       "      <td>4</td>\n",
       "      <td>4</td>\n",
       "      <td>...</td>\n",
       "      <td>0.06</td>\n",
       "      <td>NaN</td>\n",
       "      <td>NaN</td>\n",
       "      <td>0.814</td>\n",
       "      <td>0.097250</td>\n",
       "      <td>5</td>\n",
       "      <td>2019-07-24</td>\n",
       "      <td>2020-05-20</td>\n",
       "      <td>2022-08-17 12:08:12</td>\n",
       "      <td>Probable young K dwarf. Transit is believable ...</td>\n",
       "    </tr>\n",
       "    <tr>\n",
       "      <th>5847</th>\n",
       "      <td>308300731</td>\n",
       "      <td>5743.01</td>\n",
       "      <td>NaN</td>\n",
       "      <td>3</td>\n",
       "      <td>4</td>\n",
       "      <td>3</td>\n",
       "      <td>3</td>\n",
       "      <td>1</td>\n",
       "      <td>4</td>\n",
       "      <td>4</td>\n",
       "      <td>...</td>\n",
       "      <td>0.05</td>\n",
       "      <td>NaN</td>\n",
       "      <td>NaN</td>\n",
       "      <td>0.898</td>\n",
       "      <td>0.109025</td>\n",
       "      <td>26,53</td>\n",
       "      <td>2022-09-01</td>\n",
       "      <td>2022-09-01</td>\n",
       "      <td>2022-09-03 12:09:09</td>\n",
       "      <td>radius possibly underestimated; potentially yo...</td>\n",
       "    </tr>\n",
       "  </tbody>\n",
       "</table>\n",
       "<p>2 rows × 61 columns</p>\n",
       "</div>"
      ],
      "text/plain": [
       "         TIC ID      TOI Previous CTOI  Master  SG1A  SG1B  SG2  SG3  SG4  \\\n",
       "924   146520535   942.01           NaN       3     5     5    3    4    4   \n",
       "5847  308300731  5743.01           NaN       3     4     3    3    1    4   \n",
       "\n",
       "      SG5  ...  Stellar Radius (R_Sun) err  Stellar Metallicity  \\\n",
       "924     4  ...                        0.06                  NaN   \n",
       "5847    4  ...                        0.05                  NaN   \n",
       "\n",
       "      Stellar Metallicity err  Stellar Mass (M_Sun)  Stellar Mass (M_Sun) err  \\\n",
       "924                       NaN                 0.814                  0.097250   \n",
       "5847                      NaN                 0.898                  0.109025   \n",
       "\n",
       "     Sectors Date TOI Alerted (UTC)  Date TOI Updated (UTC)  \\\n",
       "924        5             2019-07-24              2020-05-20   \n",
       "5847   26,53             2022-09-01              2022-09-01   \n",
       "\n",
       "            Date Modified                                           Comments  \n",
       "924   2022-08-17 12:08:12  Probable young K dwarf. Transit is believable ...  \n",
       "5847  2022-09-03 12:09:09  radius possibly underestimated; potentially yo...  \n",
       "\n",
       "[2 rows x 61 columns]"
      ]
     },
     "execution_count": 3,
     "metadata": {},
     "output_type": "execute_result"
    }
   ],
   "source": [
    "tois[tois.Comments.apply(lambda x: 'young' in str(x))]"
   ]
  },
  {
   "cell_type": "raw",
   "metadata": {},
   "source": [
    "#new candidates: \n",
    "tois[tois.TOI.astype(int).isin([1018,1162,1191,1198,1335,1497])].to_csv(\"TOI_near_cluster.csv\")"
   ]
  },
  {
   "cell_type": "raw",
   "metadata": {},
   "source": [
    "tois.loc[tois['TOI']>1730.01,['Comments','TOI']]"
   ]
  },
  {
   "cell_type": "raw",
   "metadata": {
    "scrolled": true
   },
   "source": [
    "#recent 20 TOIs\n",
    "cluster_planets = {}\n",
    "for toi in tqdm(tois['TOI'].values[-20:]):\n",
    "    t = Target(toiid=toi)\n",
    "    #get gaia id match\n",
    "    d = t.query_gaia_dr2_catalog(return_nearest_xmatch=True)\n",
    "    #check if gaiaid is in cluster catalog\n",
    "    idx = df_mem.source_id.isin([t.gaiaid])\n",
    "    if idx.sum()>0:\n",
    "        #find nearest cluster\n",
    "        try:\n",
    "            cluster = t.find_nearest_cluster_member(match_id=True)\n",
    "            cluster_planets[toi]=(t.gaiaid, cluster)\n",
    "        except:\n",
    "            pass"
   ]
  },
  {
   "cell_type": "raw",
   "metadata": {
    "scrolled": true
   },
   "source": [
    "cluster_planets.keys()"
   ]
  },
  {
   "cell_type": "markdown",
   "metadata": {},
   "source": [
    "## parameters of interest"
   ]
  },
  {
   "cell_type": "raw",
   "metadata": {
    "scrolled": true
   },
   "source": [
    "t=cr.Target(ticid=2663)"
   ]
  },
  {
   "cell_type": "markdown",
   "metadata": {},
   "source": [
    "* get ra,dec,pmra,pmdec,plx,rv of TOI \n",
    "  - available in exofop?"
   ]
  },
  {
   "cell_type": "markdown",
   "metadata": {},
   "source": [
    "## update pre-querried TOI gaia IDs"
   ]
  },
  {
   "cell_type": "code",
   "execution_count": 4,
   "metadata": {
    "ExecuteTime": {
     "end_time": "2022-09-27T06:18:48.710315Z",
     "start_time": "2022-09-27T06:18:45.104622Z"
    }
   },
   "outputs": [],
   "source": [
    "import flammkuchen as fk\n",
    "from pathlib import Path\n",
    "\n",
    "fp = Path(cr.DATA_PATH+\"/toi_gaia_params.hdf5\")\n",
    "if fp.exists():\n",
    "    tois_gaia = fk.load(fp)\n",
    "else:\n",
    "    tois_gaia = cr.query_gaia_params_of_all_tois(clobber=False, update=True)\n",
    "    tois_gaia.source_id = tois_gaia.source_id.astype(int)"
   ]
  },
  {
   "cell_type": "code",
   "execution_count": 5,
   "metadata": {
    "ExecuteTime": {
     "end_time": "2022-09-27T06:19:02.849371Z",
     "start_time": "2022-09-27T06:18:48.712994Z"
    }
   },
   "outputs": [
    {
     "name": "stdout",
     "output_type": "stream",
     "text": [
      "Loaded: /home/jp/github/research/project/chronos/chronos/data/TOIs.csv\n",
      "TOIs with TFPWG disposition==FP are removed.\n",
      "Saved: /home/jp/github/research/project/chronos/chronos/data/TOIs.csv\n",
      "\n",
      "Querying Gaia DR2 catalog for new TOIs\n",
      "\n"
     ]
    },
    {
     "name": "stderr",
     "output_type": "stream",
     "text": [
      "\r",
      "  0%|          | 0/5085 [00:00<?, ?it/s]"
     ]
    },
    {
     "name": "stdout",
     "output_type": "stream",
     "text": [
      "Target: TOI 798\n",
      "Querying Gaia DR2 catalog for ra,dec=(97.8205 -58.3204) within 30.00 arcsec.\n"
     ]
    },
    {
     "name": "stderr",
     "output_type": "stream",
     "text": [
      "\r",
      " 12%|█▏        | 617/5085 [00:01<00:13, 325.71it/s]"
     ]
    },
    {
     "name": "stdout",
     "output_type": "stream",
     "text": [
      "No gaia star within 30.0 arcsec. Use radius>30.0 arcsec\n",
      "Target: TOI 3634\n",
      "Querying Gaia DR2 catalog for ra,dec=(12.5696 27.5688) within 30.00 arcsec.\n"
     ]
    },
    {
     "name": "stderr",
     "output_type": "stream",
     "text": [
      "100%|██████████| 5085/5085 [00:02<00:00, 2077.58it/s]"
     ]
    },
    {
     "name": "stdout",
     "output_type": "stream",
     "text": [
      "No gaia star within 30.0 arcsec. Use radius>30.0 arcsec\n"
     ]
    },
    {
     "name": "stderr",
     "output_type": "stream",
     "text": [
      "\n"
     ]
    },
    {
     "name": "stdout",
     "output_type": "stream",
     "text": [
      "Saved: /home/jp/github/research/project/chronos/chronos/data/toi_gaia_params.hdf5\n"
     ]
    }
   ],
   "source": [
    "tois_gaia = cr.query_gaia_params_of_all_tois(clobber=False, update=True)"
   ]
  },
  {
   "cell_type": "markdown",
   "metadata": {},
   "source": [
    "### CantatGaudin2020"
   ]
  },
  {
   "cell_type": "raw",
   "metadata": {},
   "source": [
    "cr.cluster.CATALOG_LIST"
   ]
  },
  {
   "cell_type": "raw",
   "metadata": {},
   "source": [
    "tois = cr.get_tois()"
   ]
  },
  {
   "cell_type": "raw",
   "metadata": {},
   "source": [
    "t=cr.Planet(toiid=700)"
   ]
  },
  {
   "cell_type": "code",
   "execution_count": 6,
   "metadata": {
    "ExecuteTime": {
     "end_time": "2022-09-27T06:19:06.713630Z",
     "start_time": "2022-09-27T06:19:05.303453Z"
    }
   },
   "outputs": [
    {
     "name": "stdout",
     "output_type": "stream",
     "text": [
      "Using He2022b catalog.\n"
     ]
    },
    {
     "data": {
      "text/plain": [
       "Index(['source_id', 'GLON', 'GLAT', 'parallax', 'e_parallax', 'pmra', 'e_pmra',\n",
       "       'pmdec', 'e_pmdec', 'RUWE', 'Gmag', 'BP-RP', 'nre', 'Cluster', 'ra',\n",
       "       'dec', 'distance'],\n",
       "      dtype='object')"
      ]
     },
     "execution_count": 6,
     "metadata": {},
     "output_type": "execute_result"
    }
   ],
   "source": [
    "#note that Bouma has larger crossmatches while CastroGinard2019/20 yields None\n",
    "# cc = cr.ClusterCatalog(catalog_name=\"CantatGaudin2020\")\n",
    "cc = cr.ClusterCatalog(catalog_name=\"He2022b\")\n",
    "df_mem = cc.query_catalog(return_members=True)\n",
    "df_mem.columns"
   ]
  },
  {
   "cell_type": "code",
   "execution_count": 7,
   "metadata": {
    "ExecuteTime": {
     "end_time": "2022-09-27T06:19:06.720277Z",
     "start_time": "2022-09-27T06:19:06.716821Z"
    }
   },
   "outputs": [],
   "source": [
    "tois_gaia = pd.DataFrame(tois_gaia)"
   ]
  },
  {
   "cell_type": "code",
   "execution_count": 8,
   "metadata": {
    "ExecuteTime": {
     "end_time": "2022-09-27T06:19:06.733175Z",
     "start_time": "2022-09-27T06:19:06.723360Z"
    },
    "scrolled": true
   },
   "outputs": [
    {
     "data": {
      "text/plain": [
       "30"
      ]
     },
     "execution_count": 8,
     "metadata": {},
     "output_type": "execute_result"
    }
   ],
   "source": [
    "idx1 = df_mem.source_id.isin(tois_gaia.source_id)\n",
    "idx1.sum()"
   ]
  },
  {
   "cell_type": "code",
   "execution_count": 9,
   "metadata": {
    "ExecuteTime": {
     "end_time": "2022-09-27T06:19:06.784944Z",
     "start_time": "2022-09-27T06:19:06.735378Z"
    }
   },
   "outputs": [
    {
     "data": {
      "text/html": [
       "<div>\n",
       "<style scoped>\n",
       "    .dataframe tbody tr th:only-of-type {\n",
       "        vertical-align: middle;\n",
       "    }\n",
       "\n",
       "    .dataframe tbody tr th {\n",
       "        vertical-align: top;\n",
       "    }\n",
       "\n",
       "    .dataframe thead th {\n",
       "        text-align: right;\n",
       "    }\n",
       "</style>\n",
       "<table border=\"1\" class=\"dataframe\">\n",
       "  <thead>\n",
       "    <tr style=\"text-align: right;\">\n",
       "      <th></th>\n",
       "      <th>source_id</th>\n",
       "      <th>GLON</th>\n",
       "      <th>GLAT</th>\n",
       "      <th>parallax</th>\n",
       "      <th>e_parallax</th>\n",
       "      <th>pmra</th>\n",
       "      <th>e_pmra</th>\n",
       "      <th>pmdec</th>\n",
       "      <th>e_pmdec</th>\n",
       "      <th>RUWE</th>\n",
       "      <th>Gmag</th>\n",
       "      <th>BP-RP</th>\n",
       "      <th>nre</th>\n",
       "      <th>Cluster</th>\n",
       "      <th>ra</th>\n",
       "      <th>dec</th>\n",
       "      <th>distance</th>\n",
       "    </tr>\n",
       "  </thead>\n",
       "  <tbody>\n",
       "    <tr>\n",
       "      <th>6738</th>\n",
       "      <td>5290968085934209152</td>\n",
       "      <td>273.1234</td>\n",
       "      <td>-16.4111</td>\n",
       "      <td>2.442</td>\n",
       "      <td>0.013</td>\n",
       "      <td>-3.994</td>\n",
       "      <td>0.017</td>\n",
       "      <td>11.326</td>\n",
       "      <td>0.017</td>\n",
       "      <td>0.91</td>\n",
       "      <td>10.907</td>\n",
       "      <td>0.434</td>\n",
       "      <td>7</td>\n",
       "      <td>NGC_2516</td>\n",
       "      <td>117.8949</td>\n",
       "      <td>-60.4124</td>\n",
       "      <td>409.500410</td>\n",
       "    </tr>\n",
       "    <tr>\n",
       "      <th>13381</th>\n",
       "      <td>2094015466995434624</td>\n",
       "      <td>67.6815</td>\n",
       "      <td>15.7104</td>\n",
       "      <td>2.819</td>\n",
       "      <td>0.016</td>\n",
       "      <td>1.236</td>\n",
       "      <td>0.020</td>\n",
       "      <td>-2.385</td>\n",
       "      <td>0.018</td>\n",
       "      <td>1.42</td>\n",
       "      <td>10.089</td>\n",
       "      <td>0.561</td>\n",
       "      <td>10</td>\n",
       "      <td>Stephenson_1</td>\n",
       "      <td>283.5266</td>\n",
       "      <td>37.7200</td>\n",
       "      <td>354.735722</td>\n",
       "    </tr>\n",
       "    <tr>\n",
       "      <th>21946</th>\n",
       "      <td>4860787013426321664</td>\n",
       "      <td>236.3762</td>\n",
       "      <td>-55.2528</td>\n",
       "      <td>9.434</td>\n",
       "      <td>0.024</td>\n",
       "      <td>35.719</td>\n",
       "      <td>0.021</td>\n",
       "      <td>-4.416</td>\n",
       "      <td>0.028</td>\n",
       "      <td>1.06</td>\n",
       "      <td>15.163</td>\n",
       "      <td>2.934</td>\n",
       "      <td>11</td>\n",
       "      <td>Alessi_13</td>\n",
       "      <td>52.6473</td>\n",
       "      <td>-35.2037</td>\n",
       "      <td>105.999576</td>\n",
       "    </tr>\n",
       "    <tr>\n",
       "      <th>23265</th>\n",
       "      <td>3222453935725951488</td>\n",
       "      <td>203.3339</td>\n",
       "      <td>-16.1572</td>\n",
       "      <td>2.863</td>\n",
       "      <td>0.015</td>\n",
       "      <td>2.537</td>\n",
       "      <td>0.018</td>\n",
       "      <td>2.635</td>\n",
       "      <td>0.012</td>\n",
       "      <td>1.01</td>\n",
       "      <td>12.353</td>\n",
       "      <td>0.843</td>\n",
       "      <td>6</td>\n",
       "      <td>LP_2371</td>\n",
       "      <td>84.1527</td>\n",
       "      <td>0.8963</td>\n",
       "      <td>349.283968</td>\n",
       "    </tr>\n",
       "    <tr>\n",
       "      <th>24380</th>\n",
       "      <td>2015357191117217920</td>\n",
       "      <td>112.7221</td>\n",
       "      <td>2.2311</td>\n",
       "      <td>2.281</td>\n",
       "      <td>0.010</td>\n",
       "      <td>5.846</td>\n",
       "      <td>0.011</td>\n",
       "      <td>-1.584</td>\n",
       "      <td>0.010</td>\n",
       "      <td>0.78</td>\n",
       "      <td>11.969</td>\n",
       "      <td>0.771</td>\n",
       "      <td>5</td>\n",
       "      <td>ASCC_127</td>\n",
       "      <td>349.6859</td>\n",
       "      <td>63.2505</td>\n",
       "      <td>438.404209</td>\n",
       "    </tr>\n",
       "    <tr>\n",
       "      <th>28743</th>\n",
       "      <td>2072431332214824576</td>\n",
       "      <td>74.1581</td>\n",
       "      <td>4.5788</td>\n",
       "      <td>0.887</td>\n",
       "      <td>0.012</td>\n",
       "      <td>-3.046</td>\n",
       "      <td>0.012</td>\n",
       "      <td>-7.877</td>\n",
       "      <td>0.013</td>\n",
       "      <td>1.08</td>\n",
       "      <td>13.109</td>\n",
       "      <td>0.461</td>\n",
       "      <td>11</td>\n",
       "      <td>UBC_582</td>\n",
       "      <td>299.8099</td>\n",
       "      <td>38.3937</td>\n",
       "      <td>1127.395716</td>\n",
       "    </tr>\n",
       "    <tr>\n",
       "      <th>36498</th>\n",
       "      <td>119520079331712896</td>\n",
       "      <td>161.5488</td>\n",
       "      <td>-21.6640</td>\n",
       "      <td>7.236</td>\n",
       "      <td>0.015</td>\n",
       "      <td>19.719</td>\n",
       "      <td>0.016</td>\n",
       "      <td>-45.515</td>\n",
       "      <td>0.012</td>\n",
       "      <td>1.06</td>\n",
       "      <td>12.182</td>\n",
       "      <td>1.295</td>\n",
       "      <td>11</td>\n",
       "      <td>Melotte_22</td>\n",
       "      <td>54.1839</td>\n",
       "      <td>28.5503</td>\n",
       "      <td>138.197899</td>\n",
       "    </tr>\n",
       "    <tr>\n",
       "      <th>38888</th>\n",
       "      <td>5295126507633392128</td>\n",
       "      <td>270.9243</td>\n",
       "      <td>-16.6665</td>\n",
       "      <td>2.722</td>\n",
       "      <td>0.010</td>\n",
       "      <td>-4.748</td>\n",
       "      <td>0.015</td>\n",
       "      <td>7.612</td>\n",
       "      <td>0.013</td>\n",
       "      <td>0.89</td>\n",
       "      <td>10.549</td>\n",
       "      <td>0.376</td>\n",
       "      <td>11</td>\n",
       "      <td>UPK_540</td>\n",
       "      <td>115.6391</td>\n",
       "      <td>-58.6232</td>\n",
       "      <td>367.376929</td>\n",
       "    </tr>\n",
       "    <tr>\n",
       "      <th>39617</th>\n",
       "      <td>3064530810048196352</td>\n",
       "      <td>227.7174</td>\n",
       "      <td>15.0984</td>\n",
       "      <td>1.317</td>\n",
       "      <td>0.016</td>\n",
       "      <td>-1.035</td>\n",
       "      <td>0.015</td>\n",
       "      <td>0.925</td>\n",
       "      <td>0.013</td>\n",
       "      <td>0.98</td>\n",
       "      <td>12.613</td>\n",
       "      <td>0.554</td>\n",
       "      <td>11</td>\n",
       "      <td>NGC_2548</td>\n",
       "      <td>123.0977</td>\n",
       "      <td>-5.7686</td>\n",
       "      <td>759.301443</td>\n",
       "    </tr>\n",
       "    <tr>\n",
       "      <th>42745</th>\n",
       "      <td>2014335027560174976</td>\n",
       "      <td>108.5557</td>\n",
       "      <td>0.3288</td>\n",
       "      <td>2.396</td>\n",
       "      <td>0.016</td>\n",
       "      <td>4.378</td>\n",
       "      <td>0.017</td>\n",
       "      <td>-2.399</td>\n",
       "      <td>0.017</td>\n",
       "      <td>1.00</td>\n",
       "      <td>10.090</td>\n",
       "      <td>0.289</td>\n",
       "      <td>9</td>\n",
       "      <td>RSG_7</td>\n",
       "      <td>343.2331</td>\n",
       "      <td>59.8510</td>\n",
       "      <td>417.362270</td>\n",
       "    </tr>\n",
       "    <tr>\n",
       "      <th>48584</th>\n",
       "      <td>170033017904053376</td>\n",
       "      <td>163.5336</td>\n",
       "      <td>-15.8644</td>\n",
       "      <td>3.328</td>\n",
       "      <td>0.112</td>\n",
       "      <td>4.026</td>\n",
       "      <td>0.125</td>\n",
       "      <td>-6.155</td>\n",
       "      <td>0.088</td>\n",
       "      <td>1.00</td>\n",
       "      <td>17.622</td>\n",
       "      <td>3.463</td>\n",
       "      <td>6</td>\n",
       "      <td>UBC_31</td>\n",
       "      <td>60.2266</td>\n",
       "      <td>31.6911</td>\n",
       "      <td>300.480769</td>\n",
       "    </tr>\n",
       "    <tr>\n",
       "      <th>50905</th>\n",
       "      <td>5510676828723793920</td>\n",
       "      <td>257.2293</td>\n",
       "      <td>-14.1330</td>\n",
       "      <td>3.537</td>\n",
       "      <td>0.013</td>\n",
       "      <td>-9.754</td>\n",
       "      <td>0.015</td>\n",
       "      <td>11.495</td>\n",
       "      <td>0.017</td>\n",
       "      <td>1.25</td>\n",
       "      <td>10.584</td>\n",
       "      <td>0.580</td>\n",
       "      <td>11</td>\n",
       "      <td>Alessi_3</td>\n",
       "      <td>110.3697</td>\n",
       "      <td>-45.5677</td>\n",
       "      <td>282.725474</td>\n",
       "    </tr>\n",
       "    <tr>\n",
       "      <th>51122</th>\n",
       "      <td>3007460040533835008</td>\n",
       "      <td>216.0173</td>\n",
       "      <td>-10.0897</td>\n",
       "      <td>1.087</td>\n",
       "      <td>0.026</td>\n",
       "      <td>0.389</td>\n",
       "      <td>0.023</td>\n",
       "      <td>-3.674</td>\n",
       "      <td>0.025</td>\n",
       "      <td>1.53</td>\n",
       "      <td>10.820</td>\n",
       "      <td>0.447</td>\n",
       "      <td>11</td>\n",
       "      <td>NGC_2215</td>\n",
       "      <td>95.2263</td>\n",
       "      <td>-7.2989</td>\n",
       "      <td>919.963201</td>\n",
       "    </tr>\n",
       "    <tr>\n",
       "      <th>54557</th>\n",
       "      <td>5339389268061191040</td>\n",
       "      <td>290.2177</td>\n",
       "      <td>1.3701</td>\n",
       "      <td>2.118</td>\n",
       "      <td>0.020</td>\n",
       "      <td>-10.247</td>\n",
       "      <td>0.023</td>\n",
       "      <td>4.410</td>\n",
       "      <td>0.019</td>\n",
       "      <td>1.45</td>\n",
       "      <td>12.673</td>\n",
       "      <td>0.744</td>\n",
       "      <td>11</td>\n",
       "      <td>NGC_3532</td>\n",
       "      <td>167.5827</td>\n",
       "      <td>-58.9830</td>\n",
       "      <td>472.143532</td>\n",
       "    </tr>\n",
       "    <tr>\n",
       "      <th>57350</th>\n",
       "      <td>3311804515502788352</td>\n",
       "      <td>178.2557</td>\n",
       "      <td>-25.2927</td>\n",
       "      <td>22.357</td>\n",
       "      <td>0.031</td>\n",
       "      <td>122.450</td>\n",
       "      <td>0.038</td>\n",
       "      <td>-18.603</td>\n",
       "      <td>0.026</td>\n",
       "      <td>1.30</td>\n",
       "      <td>14.355</td>\n",
       "      <td>2.961</td>\n",
       "      <td>9</td>\n",
       "      <td>Melotte_25</td>\n",
       "      <td>63.2739</td>\n",
       "      <td>15.2477</td>\n",
       "      <td>44.728720</td>\n",
       "    </tr>\n",
       "    <tr>\n",
       "      <th>59045</th>\n",
       "      <td>5525188767305211904</td>\n",
       "      <td>261.2098</td>\n",
       "      <td>0.3002</td>\n",
       "      <td>2.338</td>\n",
       "      <td>0.022</td>\n",
       "      <td>-11.616</td>\n",
       "      <td>0.023</td>\n",
       "      <td>7.173</td>\n",
       "      <td>0.024</td>\n",
       "      <td>1.07</td>\n",
       "      <td>9.484</td>\n",
       "      <td>-0.021</td>\n",
       "      <td>10</td>\n",
       "      <td>Trumpler_10</td>\n",
       "      <td>130.2614</td>\n",
       "      <td>-41.4428</td>\n",
       "      <td>427.715997</td>\n",
       "    </tr>\n",
       "    <tr>\n",
       "      <th>60799</th>\n",
       "      <td>5423774689545278592</td>\n",
       "      <td>268.0235</td>\n",
       "      <td>2.5756</td>\n",
       "      <td>2.455</td>\n",
       "      <td>0.010</td>\n",
       "      <td>-10.563</td>\n",
       "      <td>0.011</td>\n",
       "      <td>7.362</td>\n",
       "      <td>0.011</td>\n",
       "      <td>0.87</td>\n",
       "      <td>12.047</td>\n",
       "      <td>0.657</td>\n",
       "      <td>1</td>\n",
       "      <td>Trumpler_10</td>\n",
       "      <td>138.7411</td>\n",
       "      <td>-45.1229</td>\n",
       "      <td>407.331976</td>\n",
       "    </tr>\n",
       "    <tr>\n",
       "      <th>62142</th>\n",
       "      <td>5312673922948554880</td>\n",
       "      <td>275.1485</td>\n",
       "      <td>0.2663</td>\n",
       "      <td>2.071</td>\n",
       "      <td>0.213</td>\n",
       "      <td>-15.133</td>\n",
       "      <td>0.230</td>\n",
       "      <td>6.431</td>\n",
       "      <td>0.241</td>\n",
       "      <td>6.77</td>\n",
       "      <td>8.094</td>\n",
       "      <td>-0.049</td>\n",
       "      <td>1</td>\n",
       "      <td>Trumpler_10</td>\n",
       "      <td>144.0237</td>\n",
       "      <td>-51.7446</td>\n",
       "      <td>482.858522</td>\n",
       "    </tr>\n",
       "    <tr>\n",
       "      <th>63652</th>\n",
       "      <td>5537419940819841664</td>\n",
       "      <td>255.0039</td>\n",
       "      <td>-6.2867</td>\n",
       "      <td>2.917</td>\n",
       "      <td>0.016</td>\n",
       "      <td>-11.389</td>\n",
       "      <td>0.016</td>\n",
       "      <td>4.121</td>\n",
       "      <td>0.019</td>\n",
       "      <td>0.96</td>\n",
       "      <td>9.388</td>\n",
       "      <td>0.090</td>\n",
       "      <td>7</td>\n",
       "      <td>NGC_2451B</td>\n",
       "      <td>118.4764</td>\n",
       "      <td>-39.9930</td>\n",
       "      <td>342.817964</td>\n",
       "    </tr>\n",
       "    <tr>\n",
       "      <th>64858</th>\n",
       "      <td>2174318981622547712</td>\n",
       "      <td>97.8935</td>\n",
       "      <td>1.0885</td>\n",
       "      <td>2.250</td>\n",
       "      <td>0.009</td>\n",
       "      <td>3.982</td>\n",
       "      <td>0.011</td>\n",
       "      <td>0.221</td>\n",
       "      <td>0.011</td>\n",
       "      <td>0.85</td>\n",
       "      <td>12.149</td>\n",
       "      <td>0.775</td>\n",
       "      <td>6</td>\n",
       "      <td>Theia_178</td>\n",
       "      <td>325.9721</td>\n",
       "      <td>54.5743</td>\n",
       "      <td>444.444444</td>\n",
       "    </tr>\n",
       "    <tr>\n",
       "      <th>67816</th>\n",
       "      <td>5519619186857962112</td>\n",
       "      <td>262.0282</td>\n",
       "      <td>-6.6072</td>\n",
       "      <td>2.945</td>\n",
       "      <td>0.016</td>\n",
       "      <td>-6.241</td>\n",
       "      <td>0.017</td>\n",
       "      <td>10.025</td>\n",
       "      <td>0.017</td>\n",
       "      <td>0.92</td>\n",
       "      <td>9.582</td>\n",
       "      <td>0.131</td>\n",
       "      <td>9</td>\n",
       "      <td>Pozzo_1</td>\n",
       "      <td>123.1083</td>\n",
       "      <td>-46.1091</td>\n",
       "      <td>339.558574</td>\n",
       "    </tr>\n",
       "    <tr>\n",
       "      <th>84745</th>\n",
       "      <td>664337230586013312</td>\n",
       "      <td>205.2399</td>\n",
       "      <td>32.1954</td>\n",
       "      <td>5.472</td>\n",
       "      <td>0.024</td>\n",
       "      <td>-35.967</td>\n",
       "      <td>0.024</td>\n",
       "      <td>-12.986</td>\n",
       "      <td>0.016</td>\n",
       "      <td>0.95</td>\n",
       "      <td>10.410</td>\n",
       "      <td>0.739</td>\n",
       "      <td>11</td>\n",
       "      <td>NGC_2632</td>\n",
       "      <td>129.6010</td>\n",
       "      <td>20.1060</td>\n",
       "      <td>182.748538</td>\n",
       "    </tr>\n",
       "    <tr>\n",
       "      <th>85121</th>\n",
       "      <td>661229701489213824</td>\n",
       "      <td>206.4200</td>\n",
       "      <td>32.8953</td>\n",
       "      <td>5.349</td>\n",
       "      <td>0.094</td>\n",
       "      <td>-36.639</td>\n",
       "      <td>0.107</td>\n",
       "      <td>-13.133</td>\n",
       "      <td>0.069</td>\n",
       "      <td>1.00</td>\n",
       "      <td>17.378</td>\n",
       "      <td>2.971</td>\n",
       "      <td>11</td>\n",
       "      <td>NGC_2632</td>\n",
       "      <td>130.6642</td>\n",
       "      <td>19.4144</td>\n",
       "      <td>186.950832</td>\n",
       "    </tr>\n",
       "    <tr>\n",
       "      <th>96574</th>\n",
       "      <td>3345187475230297856</td>\n",
       "      <td>194.9347</td>\n",
       "      <td>-3.3382</td>\n",
       "      <td>4.694</td>\n",
       "      <td>0.019</td>\n",
       "      <td>6.422</td>\n",
       "      <td>0.022</td>\n",
       "      <td>-16.095</td>\n",
       "      <td>0.015</td>\n",
       "      <td>0.83</td>\n",
       "      <td>11.118</td>\n",
       "      <td>0.754</td>\n",
       "      <td>4</td>\n",
       "      <td>Theia_116</td>\n",
       "      <td>91.4000</td>\n",
       "      <td>14.3569</td>\n",
       "      <td>213.037921</td>\n",
       "    </tr>\n",
       "    <tr>\n",
       "      <th>108955</th>\n",
       "      <td>338236787755719936</td>\n",
       "      <td>142.0434</td>\n",
       "      <td>-18.3496</td>\n",
       "      <td>4.770</td>\n",
       "      <td>0.015</td>\n",
       "      <td>18.060</td>\n",
       "      <td>0.016</td>\n",
       "      <td>-25.257</td>\n",
       "      <td>0.015</td>\n",
       "      <td>0.93</td>\n",
       "      <td>10.828</td>\n",
       "      <td>0.728</td>\n",
       "      <td>3</td>\n",
       "      <td>UPK_303</td>\n",
       "      <td>37.1324</td>\n",
       "      <td>40.8913</td>\n",
       "      <td>209.643606</td>\n",
       "    </tr>\n",
       "    <tr>\n",
       "      <th>114505</th>\n",
       "      <td>2068399423045976320</td>\n",
       "      <td>79.0258</td>\n",
       "      <td>2.7193</td>\n",
       "      <td>2.943</td>\n",
       "      <td>0.017</td>\n",
       "      <td>5.439</td>\n",
       "      <td>0.019</td>\n",
       "      <td>1.757</td>\n",
       "      <td>0.019</td>\n",
       "      <td>1.16</td>\n",
       "      <td>9.764</td>\n",
       "      <td>0.220</td>\n",
       "      <td>4</td>\n",
       "      <td>Roslund_6</td>\n",
       "      <td>305.2894</td>\n",
       "      <td>41.4623</td>\n",
       "      <td>339.789331</td>\n",
       "    </tr>\n",
       "    <tr>\n",
       "      <th>123295</th>\n",
       "      <td>2206061061984055168</td>\n",
       "      <td>106.1108</td>\n",
       "      <td>6.0666</td>\n",
       "      <td>1.115</td>\n",
       "      <td>0.220</td>\n",
       "      <td>-1.708</td>\n",
       "      <td>0.261</td>\n",
       "      <td>-1.486</td>\n",
       "      <td>0.266</td>\n",
       "      <td>14.06</td>\n",
       "      <td>8.858</td>\n",
       "      <td>0.279</td>\n",
       "      <td>10</td>\n",
       "      <td>CWNU_1115</td>\n",
       "      <td>332.6137</td>\n",
       "      <td>63.5505</td>\n",
       "      <td>896.860987</td>\n",
       "    </tr>\n",
       "    <tr>\n",
       "      <th>125093</th>\n",
       "      <td>5842480953772012928</td>\n",
       "      <td>301.0718</td>\n",
       "      <td>-9.6682</td>\n",
       "      <td>9.905</td>\n",
       "      <td>0.024</td>\n",
       "      <td>-40.294</td>\n",
       "      <td>0.026</td>\n",
       "      <td>-10.808</td>\n",
       "      <td>0.030</td>\n",
       "      <td>1.06</td>\n",
       "      <td>15.218</td>\n",
       "      <td>3.290</td>\n",
       "      <td>9</td>\n",
       "      <td>CWNU_1136</td>\n",
       "      <td>186.7673</td>\n",
       "      <td>-72.4519</td>\n",
       "      <td>100.959112</td>\n",
       "    </tr>\n",
       "    <tr>\n",
       "      <th>126635</th>\n",
       "      <td>6818415476100569088</td>\n",
       "      <td>32.0546</td>\n",
       "      <td>-46.9571</td>\n",
       "      <td>3.633</td>\n",
       "      <td>0.083</td>\n",
       "      <td>13.178</td>\n",
       "      <td>0.089</td>\n",
       "      <td>1.331</td>\n",
       "      <td>0.071</td>\n",
       "      <td>4.60</td>\n",
       "      <td>12.612</td>\n",
       "      <td>1.003</td>\n",
       "      <td>3</td>\n",
       "      <td>CWNU_1012</td>\n",
       "      <td>326.2728</td>\n",
       "      <td>-20.0325</td>\n",
       "      <td>275.254611</td>\n",
       "    </tr>\n",
       "    <tr>\n",
       "      <th>126656</th>\n",
       "      <td>5579734916388215808</td>\n",
       "      <td>244.3563</td>\n",
       "      <td>-14.3257</td>\n",
       "      <td>4.547</td>\n",
       "      <td>0.030</td>\n",
       "      <td>-12.915</td>\n",
       "      <td>0.029</td>\n",
       "      <td>9.808</td>\n",
       "      <td>0.036</td>\n",
       "      <td>1.02</td>\n",
       "      <td>7.599</td>\n",
       "      <td>-0.059</td>\n",
       "      <td>4</td>\n",
       "      <td>CWNU_1013</td>\n",
       "      <td>103.5616</td>\n",
       "      <td>-34.2228</td>\n",
       "      <td>219.925225</td>\n",
       "    </tr>\n",
       "  </tbody>\n",
       "</table>\n",
       "</div>"
      ],
      "text/plain": [
       "                  source_id      GLON     GLAT  parallax  e_parallax     pmra  \\\n",
       "6738    5290968085934209152  273.1234 -16.4111     2.442       0.013   -3.994   \n",
       "13381   2094015466995434624   67.6815  15.7104     2.819       0.016    1.236   \n",
       "21946   4860787013426321664  236.3762 -55.2528     9.434       0.024   35.719   \n",
       "23265   3222453935725951488  203.3339 -16.1572     2.863       0.015    2.537   \n",
       "24380   2015357191117217920  112.7221   2.2311     2.281       0.010    5.846   \n",
       "28743   2072431332214824576   74.1581   4.5788     0.887       0.012   -3.046   \n",
       "36498    119520079331712896  161.5488 -21.6640     7.236       0.015   19.719   \n",
       "38888   5295126507633392128  270.9243 -16.6665     2.722       0.010   -4.748   \n",
       "39617   3064530810048196352  227.7174  15.0984     1.317       0.016   -1.035   \n",
       "42745   2014335027560174976  108.5557   0.3288     2.396       0.016    4.378   \n",
       "48584    170033017904053376  163.5336 -15.8644     3.328       0.112    4.026   \n",
       "50905   5510676828723793920  257.2293 -14.1330     3.537       0.013   -9.754   \n",
       "51122   3007460040533835008  216.0173 -10.0897     1.087       0.026    0.389   \n",
       "54557   5339389268061191040  290.2177   1.3701     2.118       0.020  -10.247   \n",
       "57350   3311804515502788352  178.2557 -25.2927    22.357       0.031  122.450   \n",
       "59045   5525188767305211904  261.2098   0.3002     2.338       0.022  -11.616   \n",
       "60799   5423774689545278592  268.0235   2.5756     2.455       0.010  -10.563   \n",
       "62142   5312673922948554880  275.1485   0.2663     2.071       0.213  -15.133   \n",
       "63652   5537419940819841664  255.0039  -6.2867     2.917       0.016  -11.389   \n",
       "64858   2174318981622547712   97.8935   1.0885     2.250       0.009    3.982   \n",
       "67816   5519619186857962112  262.0282  -6.6072     2.945       0.016   -6.241   \n",
       "84745    664337230586013312  205.2399  32.1954     5.472       0.024  -35.967   \n",
       "85121    661229701489213824  206.4200  32.8953     5.349       0.094  -36.639   \n",
       "96574   3345187475230297856  194.9347  -3.3382     4.694       0.019    6.422   \n",
       "108955   338236787755719936  142.0434 -18.3496     4.770       0.015   18.060   \n",
       "114505  2068399423045976320   79.0258   2.7193     2.943       0.017    5.439   \n",
       "123295  2206061061984055168  106.1108   6.0666     1.115       0.220   -1.708   \n",
       "125093  5842480953772012928  301.0718  -9.6682     9.905       0.024  -40.294   \n",
       "126635  6818415476100569088   32.0546 -46.9571     3.633       0.083   13.178   \n",
       "126656  5579734916388215808  244.3563 -14.3257     4.547       0.030  -12.915   \n",
       "\n",
       "        e_pmra   pmdec  e_pmdec   RUWE    Gmag  BP-RP  nre       Cluster  \\\n",
       "6738     0.017  11.326    0.017   0.91  10.907  0.434    7      NGC_2516   \n",
       "13381    0.020  -2.385    0.018   1.42  10.089  0.561   10  Stephenson_1   \n",
       "21946    0.021  -4.416    0.028   1.06  15.163  2.934   11     Alessi_13   \n",
       "23265    0.018   2.635    0.012   1.01  12.353  0.843    6       LP_2371   \n",
       "24380    0.011  -1.584    0.010   0.78  11.969  0.771    5      ASCC_127   \n",
       "28743    0.012  -7.877    0.013   1.08  13.109  0.461   11       UBC_582   \n",
       "36498    0.016 -45.515    0.012   1.06  12.182  1.295   11    Melotte_22   \n",
       "38888    0.015   7.612    0.013   0.89  10.549  0.376   11       UPK_540   \n",
       "39617    0.015   0.925    0.013   0.98  12.613  0.554   11      NGC_2548   \n",
       "42745    0.017  -2.399    0.017   1.00  10.090  0.289    9         RSG_7   \n",
       "48584    0.125  -6.155    0.088   1.00  17.622  3.463    6        UBC_31   \n",
       "50905    0.015  11.495    0.017   1.25  10.584  0.580   11      Alessi_3   \n",
       "51122    0.023  -3.674    0.025   1.53  10.820  0.447   11      NGC_2215   \n",
       "54557    0.023   4.410    0.019   1.45  12.673  0.744   11      NGC_3532   \n",
       "57350    0.038 -18.603    0.026   1.30  14.355  2.961    9    Melotte_25   \n",
       "59045    0.023   7.173    0.024   1.07   9.484 -0.021   10   Trumpler_10   \n",
       "60799    0.011   7.362    0.011   0.87  12.047  0.657    1   Trumpler_10   \n",
       "62142    0.230   6.431    0.241   6.77   8.094 -0.049    1   Trumpler_10   \n",
       "63652    0.016   4.121    0.019   0.96   9.388  0.090    7     NGC_2451B   \n",
       "64858    0.011   0.221    0.011   0.85  12.149  0.775    6     Theia_178   \n",
       "67816    0.017  10.025    0.017   0.92   9.582  0.131    9       Pozzo_1   \n",
       "84745    0.024 -12.986    0.016   0.95  10.410  0.739   11      NGC_2632   \n",
       "85121    0.107 -13.133    0.069   1.00  17.378  2.971   11      NGC_2632   \n",
       "96574    0.022 -16.095    0.015   0.83  11.118  0.754    4     Theia_116   \n",
       "108955   0.016 -25.257    0.015   0.93  10.828  0.728    3       UPK_303   \n",
       "114505   0.019   1.757    0.019   1.16   9.764  0.220    4     Roslund_6   \n",
       "123295   0.261  -1.486    0.266  14.06   8.858  0.279   10     CWNU_1115   \n",
       "125093   0.026 -10.808    0.030   1.06  15.218  3.290    9     CWNU_1136   \n",
       "126635   0.089   1.331    0.071   4.60  12.612  1.003    3     CWNU_1012   \n",
       "126656   0.029   9.808    0.036   1.02   7.599 -0.059    4     CWNU_1013   \n",
       "\n",
       "              ra      dec     distance  \n",
       "6738    117.8949 -60.4124   409.500410  \n",
       "13381   283.5266  37.7200   354.735722  \n",
       "21946    52.6473 -35.2037   105.999576  \n",
       "23265    84.1527   0.8963   349.283968  \n",
       "24380   349.6859  63.2505   438.404209  \n",
       "28743   299.8099  38.3937  1127.395716  \n",
       "36498    54.1839  28.5503   138.197899  \n",
       "38888   115.6391 -58.6232   367.376929  \n",
       "39617   123.0977  -5.7686   759.301443  \n",
       "42745   343.2331  59.8510   417.362270  \n",
       "48584    60.2266  31.6911   300.480769  \n",
       "50905   110.3697 -45.5677   282.725474  \n",
       "51122    95.2263  -7.2989   919.963201  \n",
       "54557   167.5827 -58.9830   472.143532  \n",
       "57350    63.2739  15.2477    44.728720  \n",
       "59045   130.2614 -41.4428   427.715997  \n",
       "60799   138.7411 -45.1229   407.331976  \n",
       "62142   144.0237 -51.7446   482.858522  \n",
       "63652   118.4764 -39.9930   342.817964  \n",
       "64858   325.9721  54.5743   444.444444  \n",
       "67816   123.1083 -46.1091   339.558574  \n",
       "84745   129.6010  20.1060   182.748538  \n",
       "85121   130.6642  19.4144   186.950832  \n",
       "96574    91.4000  14.3569   213.037921  \n",
       "108955   37.1324  40.8913   209.643606  \n",
       "114505  305.2894  41.4623   339.789331  \n",
       "123295  332.6137  63.5505   896.860987  \n",
       "125093  186.7673 -72.4519   100.959112  \n",
       "126635  326.2728 -20.0325   275.254611  \n",
       "126656  103.5616 -34.2228   219.925225  "
      ]
     },
     "execution_count": 9,
     "metadata": {},
     "output_type": "execute_result"
    }
   ],
   "source": [
    "df_mem[idx1]"
   ]
  },
  {
   "cell_type": "code",
   "execution_count": 10,
   "metadata": {
    "ExecuteTime": {
     "end_time": "2022-09-27T06:19:06.929061Z",
     "start_time": "2022-09-27T06:19:06.863936Z"
    }
   },
   "outputs": [
    {
     "data": {
      "text/html": [
       "<div>\n",
       "<style scoped>\n",
       "    .dataframe tbody tr th:only-of-type {\n",
       "        vertical-align: middle;\n",
       "    }\n",
       "\n",
       "    .dataframe tbody tr th {\n",
       "        vertical-align: top;\n",
       "    }\n",
       "\n",
       "    .dataframe thead th {\n",
       "        text-align: right;\n",
       "    }\n",
       "</style>\n",
       "<table border=\"1\" class=\"dataframe\">\n",
       "  <thead>\n",
       "    <tr style=\"text-align: right;\">\n",
       "      <th></th>\n",
       "      <th>source_id</th>\n",
       "      <th>GLON</th>\n",
       "      <th>GLAT</th>\n",
       "      <th>parallax</th>\n",
       "      <th>e_parallax</th>\n",
       "      <th>pmra</th>\n",
       "      <th>e_pmra</th>\n",
       "      <th>pmdec</th>\n",
       "      <th>e_pmdec</th>\n",
       "      <th>RUWE</th>\n",
       "      <th>Gmag</th>\n",
       "      <th>BP-RP</th>\n",
       "      <th>nre</th>\n",
       "      <th>Cluster</th>\n",
       "      <th>ra</th>\n",
       "      <th>dec</th>\n",
       "      <th>distance</th>\n",
       "    </tr>\n",
       "  </thead>\n",
       "  <tbody>\n",
       "    <tr>\n",
       "      <th>6738</th>\n",
       "      <td>5290968085934209152</td>\n",
       "      <td>273.1234</td>\n",
       "      <td>-16.4111</td>\n",
       "      <td>2.442</td>\n",
       "      <td>0.013</td>\n",
       "      <td>-3.994</td>\n",
       "      <td>0.017</td>\n",
       "      <td>11.326</td>\n",
       "      <td>0.017</td>\n",
       "      <td>0.91</td>\n",
       "      <td>10.907</td>\n",
       "      <td>0.434</td>\n",
       "      <td>7</td>\n",
       "      <td>NGC_2516</td>\n",
       "      <td>117.8949</td>\n",
       "      <td>-60.4124</td>\n",
       "      <td>409.500410</td>\n",
       "    </tr>\n",
       "    <tr>\n",
       "      <th>13381</th>\n",
       "      <td>2094015466995434624</td>\n",
       "      <td>67.6815</td>\n",
       "      <td>15.7104</td>\n",
       "      <td>2.819</td>\n",
       "      <td>0.016</td>\n",
       "      <td>1.236</td>\n",
       "      <td>0.020</td>\n",
       "      <td>-2.385</td>\n",
       "      <td>0.018</td>\n",
       "      <td>1.42</td>\n",
       "      <td>10.089</td>\n",
       "      <td>0.561</td>\n",
       "      <td>10</td>\n",
       "      <td>Stephenson_1</td>\n",
       "      <td>283.5266</td>\n",
       "      <td>37.7200</td>\n",
       "      <td>354.735722</td>\n",
       "    </tr>\n",
       "    <tr>\n",
       "      <th>21946</th>\n",
       "      <td>4860787013426321664</td>\n",
       "      <td>236.3762</td>\n",
       "      <td>-55.2528</td>\n",
       "      <td>9.434</td>\n",
       "      <td>0.024</td>\n",
       "      <td>35.719</td>\n",
       "      <td>0.021</td>\n",
       "      <td>-4.416</td>\n",
       "      <td>0.028</td>\n",
       "      <td>1.06</td>\n",
       "      <td>15.163</td>\n",
       "      <td>2.934</td>\n",
       "      <td>11</td>\n",
       "      <td>Alessi_13</td>\n",
       "      <td>52.6473</td>\n",
       "      <td>-35.2037</td>\n",
       "      <td>105.999576</td>\n",
       "    </tr>\n",
       "    <tr>\n",
       "      <th>23265</th>\n",
       "      <td>3222453935725951488</td>\n",
       "      <td>203.3339</td>\n",
       "      <td>-16.1572</td>\n",
       "      <td>2.863</td>\n",
       "      <td>0.015</td>\n",
       "      <td>2.537</td>\n",
       "      <td>0.018</td>\n",
       "      <td>2.635</td>\n",
       "      <td>0.012</td>\n",
       "      <td>1.01</td>\n",
       "      <td>12.353</td>\n",
       "      <td>0.843</td>\n",
       "      <td>6</td>\n",
       "      <td>LP_2371</td>\n",
       "      <td>84.1527</td>\n",
       "      <td>0.8963</td>\n",
       "      <td>349.283968</td>\n",
       "    </tr>\n",
       "    <tr>\n",
       "      <th>24380</th>\n",
       "      <td>2015357191117217920</td>\n",
       "      <td>112.7221</td>\n",
       "      <td>2.2311</td>\n",
       "      <td>2.281</td>\n",
       "      <td>0.010</td>\n",
       "      <td>5.846</td>\n",
       "      <td>0.011</td>\n",
       "      <td>-1.584</td>\n",
       "      <td>0.010</td>\n",
       "      <td>0.78</td>\n",
       "      <td>11.969</td>\n",
       "      <td>0.771</td>\n",
       "      <td>5</td>\n",
       "      <td>ASCC_127</td>\n",
       "      <td>349.6859</td>\n",
       "      <td>63.2505</td>\n",
       "      <td>438.404209</td>\n",
       "    </tr>\n",
       "    <tr>\n",
       "      <th>28743</th>\n",
       "      <td>2072431332214824576</td>\n",
       "      <td>74.1581</td>\n",
       "      <td>4.5788</td>\n",
       "      <td>0.887</td>\n",
       "      <td>0.012</td>\n",
       "      <td>-3.046</td>\n",
       "      <td>0.012</td>\n",
       "      <td>-7.877</td>\n",
       "      <td>0.013</td>\n",
       "      <td>1.08</td>\n",
       "      <td>13.109</td>\n",
       "      <td>0.461</td>\n",
       "      <td>11</td>\n",
       "      <td>UBC_582</td>\n",
       "      <td>299.8099</td>\n",
       "      <td>38.3937</td>\n",
       "      <td>1127.395716</td>\n",
       "    </tr>\n",
       "    <tr>\n",
       "      <th>36498</th>\n",
       "      <td>119520079331712896</td>\n",
       "      <td>161.5488</td>\n",
       "      <td>-21.6640</td>\n",
       "      <td>7.236</td>\n",
       "      <td>0.015</td>\n",
       "      <td>19.719</td>\n",
       "      <td>0.016</td>\n",
       "      <td>-45.515</td>\n",
       "      <td>0.012</td>\n",
       "      <td>1.06</td>\n",
       "      <td>12.182</td>\n",
       "      <td>1.295</td>\n",
       "      <td>11</td>\n",
       "      <td>Melotte_22</td>\n",
       "      <td>54.1839</td>\n",
       "      <td>28.5503</td>\n",
       "      <td>138.197899</td>\n",
       "    </tr>\n",
       "    <tr>\n",
       "      <th>38888</th>\n",
       "      <td>5295126507633392128</td>\n",
       "      <td>270.9243</td>\n",
       "      <td>-16.6665</td>\n",
       "      <td>2.722</td>\n",
       "      <td>0.010</td>\n",
       "      <td>-4.748</td>\n",
       "      <td>0.015</td>\n",
       "      <td>7.612</td>\n",
       "      <td>0.013</td>\n",
       "      <td>0.89</td>\n",
       "      <td>10.549</td>\n",
       "      <td>0.376</td>\n",
       "      <td>11</td>\n",
       "      <td>UPK_540</td>\n",
       "      <td>115.6391</td>\n",
       "      <td>-58.6232</td>\n",
       "      <td>367.376929</td>\n",
       "    </tr>\n",
       "    <tr>\n",
       "      <th>39617</th>\n",
       "      <td>3064530810048196352</td>\n",
       "      <td>227.7174</td>\n",
       "      <td>15.0984</td>\n",
       "      <td>1.317</td>\n",
       "      <td>0.016</td>\n",
       "      <td>-1.035</td>\n",
       "      <td>0.015</td>\n",
       "      <td>0.925</td>\n",
       "      <td>0.013</td>\n",
       "      <td>0.98</td>\n",
       "      <td>12.613</td>\n",
       "      <td>0.554</td>\n",
       "      <td>11</td>\n",
       "      <td>NGC_2548</td>\n",
       "      <td>123.0977</td>\n",
       "      <td>-5.7686</td>\n",
       "      <td>759.301443</td>\n",
       "    </tr>\n",
       "    <tr>\n",
       "      <th>42745</th>\n",
       "      <td>2014335027560174976</td>\n",
       "      <td>108.5557</td>\n",
       "      <td>0.3288</td>\n",
       "      <td>2.396</td>\n",
       "      <td>0.016</td>\n",
       "      <td>4.378</td>\n",
       "      <td>0.017</td>\n",
       "      <td>-2.399</td>\n",
       "      <td>0.017</td>\n",
       "      <td>1.00</td>\n",
       "      <td>10.090</td>\n",
       "      <td>0.289</td>\n",
       "      <td>9</td>\n",
       "      <td>RSG_7</td>\n",
       "      <td>343.2331</td>\n",
       "      <td>59.8510</td>\n",
       "      <td>417.362270</td>\n",
       "    </tr>\n",
       "    <tr>\n",
       "      <th>48584</th>\n",
       "      <td>170033017904053376</td>\n",
       "      <td>163.5336</td>\n",
       "      <td>-15.8644</td>\n",
       "      <td>3.328</td>\n",
       "      <td>0.112</td>\n",
       "      <td>4.026</td>\n",
       "      <td>0.125</td>\n",
       "      <td>-6.155</td>\n",
       "      <td>0.088</td>\n",
       "      <td>1.00</td>\n",
       "      <td>17.622</td>\n",
       "      <td>3.463</td>\n",
       "      <td>6</td>\n",
       "      <td>UBC_31</td>\n",
       "      <td>60.2266</td>\n",
       "      <td>31.6911</td>\n",
       "      <td>300.480769</td>\n",
       "    </tr>\n",
       "    <tr>\n",
       "      <th>50905</th>\n",
       "      <td>5510676828723793920</td>\n",
       "      <td>257.2293</td>\n",
       "      <td>-14.1330</td>\n",
       "      <td>3.537</td>\n",
       "      <td>0.013</td>\n",
       "      <td>-9.754</td>\n",
       "      <td>0.015</td>\n",
       "      <td>11.495</td>\n",
       "      <td>0.017</td>\n",
       "      <td>1.25</td>\n",
       "      <td>10.584</td>\n",
       "      <td>0.580</td>\n",
       "      <td>11</td>\n",
       "      <td>Alessi_3</td>\n",
       "      <td>110.3697</td>\n",
       "      <td>-45.5677</td>\n",
       "      <td>282.725474</td>\n",
       "    </tr>\n",
       "    <tr>\n",
       "      <th>51122</th>\n",
       "      <td>3007460040533835008</td>\n",
       "      <td>216.0173</td>\n",
       "      <td>-10.0897</td>\n",
       "      <td>1.087</td>\n",
       "      <td>0.026</td>\n",
       "      <td>0.389</td>\n",
       "      <td>0.023</td>\n",
       "      <td>-3.674</td>\n",
       "      <td>0.025</td>\n",
       "      <td>1.53</td>\n",
       "      <td>10.820</td>\n",
       "      <td>0.447</td>\n",
       "      <td>11</td>\n",
       "      <td>NGC_2215</td>\n",
       "      <td>95.2263</td>\n",
       "      <td>-7.2989</td>\n",
       "      <td>919.963201</td>\n",
       "    </tr>\n",
       "    <tr>\n",
       "      <th>54557</th>\n",
       "      <td>5339389268061191040</td>\n",
       "      <td>290.2177</td>\n",
       "      <td>1.3701</td>\n",
       "      <td>2.118</td>\n",
       "      <td>0.020</td>\n",
       "      <td>-10.247</td>\n",
       "      <td>0.023</td>\n",
       "      <td>4.410</td>\n",
       "      <td>0.019</td>\n",
       "      <td>1.45</td>\n",
       "      <td>12.673</td>\n",
       "      <td>0.744</td>\n",
       "      <td>11</td>\n",
       "      <td>NGC_3532</td>\n",
       "      <td>167.5827</td>\n",
       "      <td>-58.9830</td>\n",
       "      <td>472.143532</td>\n",
       "    </tr>\n",
       "    <tr>\n",
       "      <th>57350</th>\n",
       "      <td>3311804515502788352</td>\n",
       "      <td>178.2557</td>\n",
       "      <td>-25.2927</td>\n",
       "      <td>22.357</td>\n",
       "      <td>0.031</td>\n",
       "      <td>122.450</td>\n",
       "      <td>0.038</td>\n",
       "      <td>-18.603</td>\n",
       "      <td>0.026</td>\n",
       "      <td>1.30</td>\n",
       "      <td>14.355</td>\n",
       "      <td>2.961</td>\n",
       "      <td>9</td>\n",
       "      <td>Melotte_25</td>\n",
       "      <td>63.2739</td>\n",
       "      <td>15.2477</td>\n",
       "      <td>44.728720</td>\n",
       "    </tr>\n",
       "    <tr>\n",
       "      <th>59045</th>\n",
       "      <td>5525188767305211904</td>\n",
       "      <td>261.2098</td>\n",
       "      <td>0.3002</td>\n",
       "      <td>2.338</td>\n",
       "      <td>0.022</td>\n",
       "      <td>-11.616</td>\n",
       "      <td>0.023</td>\n",
       "      <td>7.173</td>\n",
       "      <td>0.024</td>\n",
       "      <td>1.07</td>\n",
       "      <td>9.484</td>\n",
       "      <td>-0.021</td>\n",
       "      <td>10</td>\n",
       "      <td>Trumpler_10</td>\n",
       "      <td>130.2614</td>\n",
       "      <td>-41.4428</td>\n",
       "      <td>427.715997</td>\n",
       "    </tr>\n",
       "    <tr>\n",
       "      <th>60799</th>\n",
       "      <td>5423774689545278592</td>\n",
       "      <td>268.0235</td>\n",
       "      <td>2.5756</td>\n",
       "      <td>2.455</td>\n",
       "      <td>0.010</td>\n",
       "      <td>-10.563</td>\n",
       "      <td>0.011</td>\n",
       "      <td>7.362</td>\n",
       "      <td>0.011</td>\n",
       "      <td>0.87</td>\n",
       "      <td>12.047</td>\n",
       "      <td>0.657</td>\n",
       "      <td>1</td>\n",
       "      <td>Trumpler_10</td>\n",
       "      <td>138.7411</td>\n",
       "      <td>-45.1229</td>\n",
       "      <td>407.331976</td>\n",
       "    </tr>\n",
       "    <tr>\n",
       "      <th>62142</th>\n",
       "      <td>5312673922948554880</td>\n",
       "      <td>275.1485</td>\n",
       "      <td>0.2663</td>\n",
       "      <td>2.071</td>\n",
       "      <td>0.213</td>\n",
       "      <td>-15.133</td>\n",
       "      <td>0.230</td>\n",
       "      <td>6.431</td>\n",
       "      <td>0.241</td>\n",
       "      <td>6.77</td>\n",
       "      <td>8.094</td>\n",
       "      <td>-0.049</td>\n",
       "      <td>1</td>\n",
       "      <td>Trumpler_10</td>\n",
       "      <td>144.0237</td>\n",
       "      <td>-51.7446</td>\n",
       "      <td>482.858522</td>\n",
       "    </tr>\n",
       "    <tr>\n",
       "      <th>63652</th>\n",
       "      <td>5537419940819841664</td>\n",
       "      <td>255.0039</td>\n",
       "      <td>-6.2867</td>\n",
       "      <td>2.917</td>\n",
       "      <td>0.016</td>\n",
       "      <td>-11.389</td>\n",
       "      <td>0.016</td>\n",
       "      <td>4.121</td>\n",
       "      <td>0.019</td>\n",
       "      <td>0.96</td>\n",
       "      <td>9.388</td>\n",
       "      <td>0.090</td>\n",
       "      <td>7</td>\n",
       "      <td>NGC_2451B</td>\n",
       "      <td>118.4764</td>\n",
       "      <td>-39.9930</td>\n",
       "      <td>342.817964</td>\n",
       "    </tr>\n",
       "    <tr>\n",
       "      <th>64858</th>\n",
       "      <td>2174318981622547712</td>\n",
       "      <td>97.8935</td>\n",
       "      <td>1.0885</td>\n",
       "      <td>2.250</td>\n",
       "      <td>0.009</td>\n",
       "      <td>3.982</td>\n",
       "      <td>0.011</td>\n",
       "      <td>0.221</td>\n",
       "      <td>0.011</td>\n",
       "      <td>0.85</td>\n",
       "      <td>12.149</td>\n",
       "      <td>0.775</td>\n",
       "      <td>6</td>\n",
       "      <td>Theia_178</td>\n",
       "      <td>325.9721</td>\n",
       "      <td>54.5743</td>\n",
       "      <td>444.444444</td>\n",
       "    </tr>\n",
       "    <tr>\n",
       "      <th>67816</th>\n",
       "      <td>5519619186857962112</td>\n",
       "      <td>262.0282</td>\n",
       "      <td>-6.6072</td>\n",
       "      <td>2.945</td>\n",
       "      <td>0.016</td>\n",
       "      <td>-6.241</td>\n",
       "      <td>0.017</td>\n",
       "      <td>10.025</td>\n",
       "      <td>0.017</td>\n",
       "      <td>0.92</td>\n",
       "      <td>9.582</td>\n",
       "      <td>0.131</td>\n",
       "      <td>9</td>\n",
       "      <td>Pozzo_1</td>\n",
       "      <td>123.1083</td>\n",
       "      <td>-46.1091</td>\n",
       "      <td>339.558574</td>\n",
       "    </tr>\n",
       "    <tr>\n",
       "      <th>84745</th>\n",
       "      <td>664337230586013312</td>\n",
       "      <td>205.2399</td>\n",
       "      <td>32.1954</td>\n",
       "      <td>5.472</td>\n",
       "      <td>0.024</td>\n",
       "      <td>-35.967</td>\n",
       "      <td>0.024</td>\n",
       "      <td>-12.986</td>\n",
       "      <td>0.016</td>\n",
       "      <td>0.95</td>\n",
       "      <td>10.410</td>\n",
       "      <td>0.739</td>\n",
       "      <td>11</td>\n",
       "      <td>NGC_2632</td>\n",
       "      <td>129.6010</td>\n",
       "      <td>20.1060</td>\n",
       "      <td>182.748538</td>\n",
       "    </tr>\n",
       "    <tr>\n",
       "      <th>85121</th>\n",
       "      <td>661229701489213824</td>\n",
       "      <td>206.4200</td>\n",
       "      <td>32.8953</td>\n",
       "      <td>5.349</td>\n",
       "      <td>0.094</td>\n",
       "      <td>-36.639</td>\n",
       "      <td>0.107</td>\n",
       "      <td>-13.133</td>\n",
       "      <td>0.069</td>\n",
       "      <td>1.00</td>\n",
       "      <td>17.378</td>\n",
       "      <td>2.971</td>\n",
       "      <td>11</td>\n",
       "      <td>NGC_2632</td>\n",
       "      <td>130.6642</td>\n",
       "      <td>19.4144</td>\n",
       "      <td>186.950832</td>\n",
       "    </tr>\n",
       "    <tr>\n",
       "      <th>96574</th>\n",
       "      <td>3345187475230297856</td>\n",
       "      <td>194.9347</td>\n",
       "      <td>-3.3382</td>\n",
       "      <td>4.694</td>\n",
       "      <td>0.019</td>\n",
       "      <td>6.422</td>\n",
       "      <td>0.022</td>\n",
       "      <td>-16.095</td>\n",
       "      <td>0.015</td>\n",
       "      <td>0.83</td>\n",
       "      <td>11.118</td>\n",
       "      <td>0.754</td>\n",
       "      <td>4</td>\n",
       "      <td>Theia_116</td>\n",
       "      <td>91.4000</td>\n",
       "      <td>14.3569</td>\n",
       "      <td>213.037921</td>\n",
       "    </tr>\n",
       "    <tr>\n",
       "      <th>108955</th>\n",
       "      <td>338236787755719936</td>\n",
       "      <td>142.0434</td>\n",
       "      <td>-18.3496</td>\n",
       "      <td>4.770</td>\n",
       "      <td>0.015</td>\n",
       "      <td>18.060</td>\n",
       "      <td>0.016</td>\n",
       "      <td>-25.257</td>\n",
       "      <td>0.015</td>\n",
       "      <td>0.93</td>\n",
       "      <td>10.828</td>\n",
       "      <td>0.728</td>\n",
       "      <td>3</td>\n",
       "      <td>UPK_303</td>\n",
       "      <td>37.1324</td>\n",
       "      <td>40.8913</td>\n",
       "      <td>209.643606</td>\n",
       "    </tr>\n",
       "    <tr>\n",
       "      <th>114505</th>\n",
       "      <td>2068399423045976320</td>\n",
       "      <td>79.0258</td>\n",
       "      <td>2.7193</td>\n",
       "      <td>2.943</td>\n",
       "      <td>0.017</td>\n",
       "      <td>5.439</td>\n",
       "      <td>0.019</td>\n",
       "      <td>1.757</td>\n",
       "      <td>0.019</td>\n",
       "      <td>1.16</td>\n",
       "      <td>9.764</td>\n",
       "      <td>0.220</td>\n",
       "      <td>4</td>\n",
       "      <td>Roslund_6</td>\n",
       "      <td>305.2894</td>\n",
       "      <td>41.4623</td>\n",
       "      <td>339.789331</td>\n",
       "    </tr>\n",
       "    <tr>\n",
       "      <th>123295</th>\n",
       "      <td>2206061061984055168</td>\n",
       "      <td>106.1108</td>\n",
       "      <td>6.0666</td>\n",
       "      <td>1.115</td>\n",
       "      <td>0.220</td>\n",
       "      <td>-1.708</td>\n",
       "      <td>0.261</td>\n",
       "      <td>-1.486</td>\n",
       "      <td>0.266</td>\n",
       "      <td>14.06</td>\n",
       "      <td>8.858</td>\n",
       "      <td>0.279</td>\n",
       "      <td>10</td>\n",
       "      <td>CWNU_1115</td>\n",
       "      <td>332.6137</td>\n",
       "      <td>63.5505</td>\n",
       "      <td>896.860987</td>\n",
       "    </tr>\n",
       "    <tr>\n",
       "      <th>125093</th>\n",
       "      <td>5842480953772012928</td>\n",
       "      <td>301.0718</td>\n",
       "      <td>-9.6682</td>\n",
       "      <td>9.905</td>\n",
       "      <td>0.024</td>\n",
       "      <td>-40.294</td>\n",
       "      <td>0.026</td>\n",
       "      <td>-10.808</td>\n",
       "      <td>0.030</td>\n",
       "      <td>1.06</td>\n",
       "      <td>15.218</td>\n",
       "      <td>3.290</td>\n",
       "      <td>9</td>\n",
       "      <td>CWNU_1136</td>\n",
       "      <td>186.7673</td>\n",
       "      <td>-72.4519</td>\n",
       "      <td>100.959112</td>\n",
       "    </tr>\n",
       "    <tr>\n",
       "      <th>126635</th>\n",
       "      <td>6818415476100569088</td>\n",
       "      <td>32.0546</td>\n",
       "      <td>-46.9571</td>\n",
       "      <td>3.633</td>\n",
       "      <td>0.083</td>\n",
       "      <td>13.178</td>\n",
       "      <td>0.089</td>\n",
       "      <td>1.331</td>\n",
       "      <td>0.071</td>\n",
       "      <td>4.60</td>\n",
       "      <td>12.612</td>\n",
       "      <td>1.003</td>\n",
       "      <td>3</td>\n",
       "      <td>CWNU_1012</td>\n",
       "      <td>326.2728</td>\n",
       "      <td>-20.0325</td>\n",
       "      <td>275.254611</td>\n",
       "    </tr>\n",
       "    <tr>\n",
       "      <th>126656</th>\n",
       "      <td>5579734916388215808</td>\n",
       "      <td>244.3563</td>\n",
       "      <td>-14.3257</td>\n",
       "      <td>4.547</td>\n",
       "      <td>0.030</td>\n",
       "      <td>-12.915</td>\n",
       "      <td>0.029</td>\n",
       "      <td>9.808</td>\n",
       "      <td>0.036</td>\n",
       "      <td>1.02</td>\n",
       "      <td>7.599</td>\n",
       "      <td>-0.059</td>\n",
       "      <td>4</td>\n",
       "      <td>CWNU_1013</td>\n",
       "      <td>103.5616</td>\n",
       "      <td>-34.2228</td>\n",
       "      <td>219.925225</td>\n",
       "    </tr>\n",
       "  </tbody>\n",
       "</table>\n",
       "</div>"
      ],
      "text/plain": [
       "                  source_id      GLON     GLAT  parallax  e_parallax     pmra  \\\n",
       "6738    5290968085934209152  273.1234 -16.4111     2.442       0.013   -3.994   \n",
       "13381   2094015466995434624   67.6815  15.7104     2.819       0.016    1.236   \n",
       "21946   4860787013426321664  236.3762 -55.2528     9.434       0.024   35.719   \n",
       "23265   3222453935725951488  203.3339 -16.1572     2.863       0.015    2.537   \n",
       "24380   2015357191117217920  112.7221   2.2311     2.281       0.010    5.846   \n",
       "28743   2072431332214824576   74.1581   4.5788     0.887       0.012   -3.046   \n",
       "36498    119520079331712896  161.5488 -21.6640     7.236       0.015   19.719   \n",
       "38888   5295126507633392128  270.9243 -16.6665     2.722       0.010   -4.748   \n",
       "39617   3064530810048196352  227.7174  15.0984     1.317       0.016   -1.035   \n",
       "42745   2014335027560174976  108.5557   0.3288     2.396       0.016    4.378   \n",
       "48584    170033017904053376  163.5336 -15.8644     3.328       0.112    4.026   \n",
       "50905   5510676828723793920  257.2293 -14.1330     3.537       0.013   -9.754   \n",
       "51122   3007460040533835008  216.0173 -10.0897     1.087       0.026    0.389   \n",
       "54557   5339389268061191040  290.2177   1.3701     2.118       0.020  -10.247   \n",
       "57350   3311804515502788352  178.2557 -25.2927    22.357       0.031  122.450   \n",
       "59045   5525188767305211904  261.2098   0.3002     2.338       0.022  -11.616   \n",
       "60799   5423774689545278592  268.0235   2.5756     2.455       0.010  -10.563   \n",
       "62142   5312673922948554880  275.1485   0.2663     2.071       0.213  -15.133   \n",
       "63652   5537419940819841664  255.0039  -6.2867     2.917       0.016  -11.389   \n",
       "64858   2174318981622547712   97.8935   1.0885     2.250       0.009    3.982   \n",
       "67816   5519619186857962112  262.0282  -6.6072     2.945       0.016   -6.241   \n",
       "84745    664337230586013312  205.2399  32.1954     5.472       0.024  -35.967   \n",
       "85121    661229701489213824  206.4200  32.8953     5.349       0.094  -36.639   \n",
       "96574   3345187475230297856  194.9347  -3.3382     4.694       0.019    6.422   \n",
       "108955   338236787755719936  142.0434 -18.3496     4.770       0.015   18.060   \n",
       "114505  2068399423045976320   79.0258   2.7193     2.943       0.017    5.439   \n",
       "123295  2206061061984055168  106.1108   6.0666     1.115       0.220   -1.708   \n",
       "125093  5842480953772012928  301.0718  -9.6682     9.905       0.024  -40.294   \n",
       "126635  6818415476100569088   32.0546 -46.9571     3.633       0.083   13.178   \n",
       "126656  5579734916388215808  244.3563 -14.3257     4.547       0.030  -12.915   \n",
       "\n",
       "        e_pmra   pmdec  e_pmdec   RUWE    Gmag  BP-RP  nre       Cluster  \\\n",
       "6738     0.017  11.326    0.017   0.91  10.907  0.434    7      NGC_2516   \n",
       "13381    0.020  -2.385    0.018   1.42  10.089  0.561   10  Stephenson_1   \n",
       "21946    0.021  -4.416    0.028   1.06  15.163  2.934   11     Alessi_13   \n",
       "23265    0.018   2.635    0.012   1.01  12.353  0.843    6       LP_2371   \n",
       "24380    0.011  -1.584    0.010   0.78  11.969  0.771    5      ASCC_127   \n",
       "28743    0.012  -7.877    0.013   1.08  13.109  0.461   11       UBC_582   \n",
       "36498    0.016 -45.515    0.012   1.06  12.182  1.295   11    Melotte_22   \n",
       "38888    0.015   7.612    0.013   0.89  10.549  0.376   11       UPK_540   \n",
       "39617    0.015   0.925    0.013   0.98  12.613  0.554   11      NGC_2548   \n",
       "42745    0.017  -2.399    0.017   1.00  10.090  0.289    9         RSG_7   \n",
       "48584    0.125  -6.155    0.088   1.00  17.622  3.463    6        UBC_31   \n",
       "50905    0.015  11.495    0.017   1.25  10.584  0.580   11      Alessi_3   \n",
       "51122    0.023  -3.674    0.025   1.53  10.820  0.447   11      NGC_2215   \n",
       "54557    0.023   4.410    0.019   1.45  12.673  0.744   11      NGC_3532   \n",
       "57350    0.038 -18.603    0.026   1.30  14.355  2.961    9    Melotte_25   \n",
       "59045    0.023   7.173    0.024   1.07   9.484 -0.021   10   Trumpler_10   \n",
       "60799    0.011   7.362    0.011   0.87  12.047  0.657    1   Trumpler_10   \n",
       "62142    0.230   6.431    0.241   6.77   8.094 -0.049    1   Trumpler_10   \n",
       "63652    0.016   4.121    0.019   0.96   9.388  0.090    7     NGC_2451B   \n",
       "64858    0.011   0.221    0.011   0.85  12.149  0.775    6     Theia_178   \n",
       "67816    0.017  10.025    0.017   0.92   9.582  0.131    9       Pozzo_1   \n",
       "84745    0.024 -12.986    0.016   0.95  10.410  0.739   11      NGC_2632   \n",
       "85121    0.107 -13.133    0.069   1.00  17.378  2.971   11      NGC_2632   \n",
       "96574    0.022 -16.095    0.015   0.83  11.118  0.754    4     Theia_116   \n",
       "108955   0.016 -25.257    0.015   0.93  10.828  0.728    3       UPK_303   \n",
       "114505   0.019   1.757    0.019   1.16   9.764  0.220    4     Roslund_6   \n",
       "123295   0.261  -1.486    0.266  14.06   8.858  0.279   10     CWNU_1115   \n",
       "125093   0.026 -10.808    0.030   1.06  15.218  3.290    9     CWNU_1136   \n",
       "126635   0.089   1.331    0.071   4.60  12.612  1.003    3     CWNU_1012   \n",
       "126656   0.029   9.808    0.036   1.02   7.599 -0.059    4     CWNU_1013   \n",
       "\n",
       "              ra      dec     distance  \n",
       "6738    117.8949 -60.4124   409.500410  \n",
       "13381   283.5266  37.7200   354.735722  \n",
       "21946    52.6473 -35.2037   105.999576  \n",
       "23265    84.1527   0.8963   349.283968  \n",
       "24380   349.6859  63.2505   438.404209  \n",
       "28743   299.8099  38.3937  1127.395716  \n",
       "36498    54.1839  28.5503   138.197899  \n",
       "38888   115.6391 -58.6232   367.376929  \n",
       "39617   123.0977  -5.7686   759.301443  \n",
       "42745   343.2331  59.8510   417.362270  \n",
       "48584    60.2266  31.6911   300.480769  \n",
       "50905   110.3697 -45.5677   282.725474  \n",
       "51122    95.2263  -7.2989   919.963201  \n",
       "54557   167.5827 -58.9830   472.143532  \n",
       "57350    63.2739  15.2477    44.728720  \n",
       "59045   130.2614 -41.4428   427.715997  \n",
       "60799   138.7411 -45.1229   407.331976  \n",
       "62142   144.0237 -51.7446   482.858522  \n",
       "63652   118.4764 -39.9930   342.817964  \n",
       "64858   325.9721  54.5743   444.444444  \n",
       "67816   123.1083 -46.1091   339.558574  \n",
       "84745   129.6010  20.1060   182.748538  \n",
       "85121   130.6642  19.4144   186.950832  \n",
       "96574    91.4000  14.3569   213.037921  \n",
       "108955   37.1324  40.8913   209.643606  \n",
       "114505  305.2894  41.4623   339.789331  \n",
       "123295  332.6137  63.5505   896.860987  \n",
       "125093  186.7673 -72.4519   100.959112  \n",
       "126635  326.2728 -20.0325   275.254611  \n",
       "126656  103.5616 -34.2228   219.925225  "
      ]
     },
     "execution_count": 10,
     "metadata": {},
     "output_type": "execute_result"
    }
   ],
   "source": [
    "df_mem[idx1]"
   ]
  },
  {
   "cell_type": "code",
   "execution_count": 11,
   "metadata": {
    "ExecuteTime": {
     "end_time": "2022-09-27T06:19:07.609145Z",
     "start_time": "2022-09-27T06:19:07.535737Z"
    },
    "scrolled": true
   },
   "outputs": [
    {
     "data": {
      "text/plain": [
       "30"
      ]
     },
     "execution_count": 11,
     "metadata": {},
     "output_type": "execute_result"
    }
   ],
   "source": [
    "idx2 = tois_gaia.source_id.isin(df_mem.source_id)\n",
    "idx2.sum()"
   ]
  },
  {
   "cell_type": "code",
   "execution_count": 12,
   "metadata": {
    "ExecuteTime": {
     "end_time": "2022-09-27T06:19:07.811232Z",
     "start_time": "2022-09-27T06:19:07.803712Z"
    }
   },
   "outputs": [
    {
     "data": {
      "text/plain": [
       "Index(['TIC ID', 'TOI', 'Previous CTOI', 'Master', 'SG1A', 'SG1B', 'SG2',\n",
       "       'SG3', 'SG4', 'SG5', 'ACWG ESM', 'ACWG TSM', 'Time Series Observations',\n",
       "       'Spectroscopy Observations', 'Imaging Observations', 'TESS Disposition',\n",
       "       'TFOPWG Disposition', 'TESS Mag', 'TESS Mag err', 'Planet Name',\n",
       "       'Pipeline Signal ID', 'Source', 'Detection', 'RA', 'Dec',\n",
       "       'PM RA (mas/yr)', 'PM RA err (mas/yr)', 'PM Dec (mas/yr)',\n",
       "       'PM Dec err (mas/yr)', 'Epoch (BJD)', 'Epoch (BJD) err',\n",
       "       'Period (days)', 'Period (days) err', 'Duration (hours)',\n",
       "       'Duration (hours) err', 'Depth (mmag)', 'Depth (mmag) err',\n",
       "       'Depth (ppm)', 'Depth (ppm) err', 'Planet Radius (R_Earth)',\n",
       "       'Planet Radius (R_Earth) err', 'Planet Insolation (Earth Flux)',\n",
       "       'Planet Equil Temp (K)', 'Planet SNR', 'Stellar Distance (pc)',\n",
       "       'Stellar Distance (pc) err', 'Stellar Eff Temp (K)',\n",
       "       'Stellar Eff Temp (K) err', 'Stellar log(g) (cm/s^2)',\n",
       "       'Stellar log(g) (cm/s^2) err', 'Stellar Radius (R_Sun)',\n",
       "       'Stellar Radius (R_Sun) err', 'Stellar Metallicity',\n",
       "       'Stellar Metallicity err', 'Stellar Mass (M_Sun)',\n",
       "       'Stellar Mass (M_Sun) err', 'Sectors', 'Date TOI Alerted (UTC)',\n",
       "       'Date TOI Updated (UTC)', 'Date Modified', 'Comments'],\n",
       "      dtype='object')"
      ]
     },
     "execution_count": 12,
     "metadata": {},
     "output_type": "execute_result"
    }
   ],
   "source": [
    "tois.columns"
   ]
  },
  {
   "cell_type": "code",
   "execution_count": 13,
   "metadata": {
    "ExecuteTime": {
     "end_time": "2022-09-27T06:19:08.404603Z",
     "start_time": "2022-09-27T06:19:08.361060Z"
    }
   },
   "outputs": [
    {
     "data": {
      "text/html": [
       "<div>\n",
       "<style scoped>\n",
       "    .dataframe tbody tr th:only-of-type {\n",
       "        vertical-align: middle;\n",
       "    }\n",
       "\n",
       "    .dataframe tbody tr th {\n",
       "        vertical-align: top;\n",
       "    }\n",
       "\n",
       "    .dataframe thead th {\n",
       "        text-align: right;\n",
       "    }\n",
       "</style>\n",
       "<table border=\"1\" class=\"dataframe\">\n",
       "  <thead>\n",
       "    <tr style=\"text-align: right;\">\n",
       "      <th></th>\n",
       "      <th>solution_id</th>\n",
       "      <th>designation</th>\n",
       "      <th>source_id</th>\n",
       "      <th>random_index</th>\n",
       "      <th>ref_epoch</th>\n",
       "      <th>ra</th>\n",
       "      <th>ra_error</th>\n",
       "      <th>dec</th>\n",
       "      <th>dec_error</th>\n",
       "      <th>parallax</th>\n",
       "      <th>...</th>\n",
       "      <th>e_bp_min_rp_percentile_lower</th>\n",
       "      <th>e_bp_min_rp_percentile_upper</th>\n",
       "      <th>flame_flags</th>\n",
       "      <th>radius_val</th>\n",
       "      <th>radius_percentile_lower</th>\n",
       "      <th>radius_percentile_upper</th>\n",
       "      <th>lum_val</th>\n",
       "      <th>lum_percentile_lower</th>\n",
       "      <th>lum_percentile_upper</th>\n",
       "      <th>separation</th>\n",
       "    </tr>\n",
       "    <tr>\n",
       "      <th>TOI</th>\n",
       "      <th></th>\n",
       "      <th></th>\n",
       "      <th></th>\n",
       "      <th></th>\n",
       "      <th></th>\n",
       "      <th></th>\n",
       "      <th></th>\n",
       "      <th></th>\n",
       "      <th></th>\n",
       "      <th></th>\n",
       "      <th></th>\n",
       "      <th></th>\n",
       "      <th></th>\n",
       "      <th></th>\n",
       "      <th></th>\n",
       "      <th></th>\n",
       "      <th></th>\n",
       "      <th></th>\n",
       "      <th></th>\n",
       "      <th></th>\n",
       "      <th></th>\n",
       "    </tr>\n",
       "  </thead>\n",
       "  <tbody>\n",
       "    <tr>\n",
       "      <th>580.01</th>\n",
       "      <td>1635721458409799680</td>\n",
       "      <td>Gaia DR2 5519619186857962112</td>\n",
       "      <td>5519619186857962112</td>\n",
       "      <td>233066008</td>\n",
       "      <td>2015.5</td>\n",
       "      <td>123.108</td>\n",
       "      <td>0.0380418</td>\n",
       "      <td>-46.1091</td>\n",
       "      <td>0.0437696</td>\n",
       "      <td>2.85852</td>\n",
       "      <td>...</td>\n",
       "      <td>0.05</td>\n",
       "      <td>0.1643</td>\n",
       "      <td>NaN</td>\n",
       "      <td>NaN</td>\n",
       "      <td>NaN</td>\n",
       "      <td>NaN</td>\n",
       "      <td>NaN</td>\n",
       "      <td>NaN</td>\n",
       "      <td>NaN</td>\n",
       "      <td>0.0447443</td>\n",
       "    </tr>\n",
       "    <tr>\n",
       "      <th>581.01</th>\n",
       "      <td>1635721458409799680</td>\n",
       "      <td>Gaia DR2 5525188767305211904</td>\n",
       "      <td>5525188767305211904</td>\n",
       "      <td>779154607</td>\n",
       "      <td>2015.5</td>\n",
       "      <td>130.261</td>\n",
       "      <td>0.0327744</td>\n",
       "      <td>-41.4428</td>\n",
       "      <td>0.0345303</td>\n",
       "      <td>2.27513</td>\n",
       "      <td>...</td>\n",
       "      <td>0.0223</td>\n",
       "      <td>0.0971</td>\n",
       "      <td>NaN</td>\n",
       "      <td>NaN</td>\n",
       "      <td>NaN</td>\n",
       "      <td>NaN</td>\n",
       "      <td>NaN</td>\n",
       "      <td>NaN</td>\n",
       "      <td>NaN</td>\n",
       "      <td>0.00967848</td>\n",
       "    </tr>\n",
       "    <tr>\n",
       "      <th>583.01</th>\n",
       "      <td>1635721458409799680</td>\n",
       "      <td>Gaia DR2 5537419940819841664</td>\n",
       "      <td>5537419940819841664</td>\n",
       "      <td>440783037</td>\n",
       "      <td>2015.5</td>\n",
       "      <td>118.476</td>\n",
       "      <td>0.0269665</td>\n",
       "      <td>-39.993</td>\n",
       "      <td>0.0310648</td>\n",
       "      <td>2.79312</td>\n",
       "      <td>...</td>\n",
       "      <td>0.065</td>\n",
       "      <td>0.191</td>\n",
       "      <td>NaN</td>\n",
       "      <td>NaN</td>\n",
       "      <td>NaN</td>\n",
       "      <td>NaN</td>\n",
       "      <td>NaN</td>\n",
       "      <td>NaN</td>\n",
       "      <td>NaN</td>\n",
       "      <td>0.00949149</td>\n",
       "    </tr>\n",
       "    <tr>\n",
       "      <th>681.01</th>\n",
       "      <td>1635721458409799680</td>\n",
       "      <td>Gaia DR2 5290968085934209152</td>\n",
       "      <td>5290968085934209152</td>\n",
       "      <td>1295528116</td>\n",
       "      <td>2015.5</td>\n",
       "      <td>117.895</td>\n",
       "      <td>0.0250456</td>\n",
       "      <td>-60.4124</td>\n",
       "      <td>0.0300555</td>\n",
       "      <td>2.34473</td>\n",
       "      <td>...</td>\n",
       "      <td>0.0376</td>\n",
       "      <td>0.281</td>\n",
       "      <td>200111</td>\n",
       "      <td>1.53227</td>\n",
       "      <td>1.48233</td>\n",
       "      <td>1.57395</td>\n",
       "      <td>5.81764</td>\n",
       "      <td>5.70983</td>\n",
       "      <td>5.92545</td>\n",
       "      <td>0.0224964</td>\n",
       "    </tr>\n",
       "    <tr>\n",
       "      <th>1014.01</th>\n",
       "      <td>1635721458409799680</td>\n",
       "      <td>Gaia DR2 5579734916388215808</td>\n",
       "      <td>5579734916388215808</td>\n",
       "      <td>875337388</td>\n",
       "      <td>2015.5</td>\n",
       "      <td>103.562</td>\n",
       "      <td>0.0350409</td>\n",
       "      <td>-34.2228</td>\n",
       "      <td>0.0616137</td>\n",
       "      <td>4.42315</td>\n",
       "      <td>...</td>\n",
       "      <td>NaN</td>\n",
       "      <td>NaN</td>\n",
       "      <td>NaN</td>\n",
       "      <td>NaN</td>\n",
       "      <td>NaN</td>\n",
       "      <td>NaN</td>\n",
       "      <td>NaN</td>\n",
       "      <td>NaN</td>\n",
       "      <td>NaN</td>\n",
       "      <td>0.0675739</td>\n",
       "    </tr>\n",
       "    <tr>\n",
       "      <th>1162.01</th>\n",
       "      <td>1635721458409799680</td>\n",
       "      <td>Gaia DR2 2068399423045976320</td>\n",
       "      <td>2068399423045976320</td>\n",
       "      <td>1079655631</td>\n",
       "      <td>2015.5</td>\n",
       "      <td>305.289</td>\n",
       "      <td>0.04077</td>\n",
       "      <td>41.4624</td>\n",
       "      <td>0.0501174</td>\n",
       "      <td>2.84234</td>\n",
       "      <td>...</td>\n",
       "      <td>NaN</td>\n",
       "      <td>NaN</td>\n",
       "      <td>NaN</td>\n",
       "      <td>NaN</td>\n",
       "      <td>NaN</td>\n",
       "      <td>NaN</td>\n",
       "      <td>NaN</td>\n",
       "      <td>NaN</td>\n",
       "      <td>NaN</td>\n",
       "      <td>0.030128</td>\n",
       "    </tr>\n",
       "    <tr>\n",
       "      <th>1191.01</th>\n",
       "      <td>1635721458409799680</td>\n",
       "      <td>Gaia DR2 2094015466995434624</td>\n",
       "      <td>2094015466995434624</td>\n",
       "      <td>1086866567</td>\n",
       "      <td>2015.5</td>\n",
       "      <td>283.527</td>\n",
       "      <td>0.0160431</td>\n",
       "      <td>37.72</td>\n",
       "      <td>0.0179766</td>\n",
       "      <td>2.7817</td>\n",
       "      <td>...</td>\n",
       "      <td>NaN</td>\n",
       "      <td>NaN</td>\n",
       "      <td>200111</td>\n",
       "      <td>2.2708</td>\n",
       "      <td>2.18399</td>\n",
       "      <td>2.31713</td>\n",
       "      <td>8.74498</td>\n",
       "      <td>8.6317</td>\n",
       "      <td>8.85825</td>\n",
       "      <td>0.0326255</td>\n",
       "    </tr>\n",
       "    <tr>\n",
       "      <th>1227.01</th>\n",
       "      <td>1635721458409799680</td>\n",
       "      <td>Gaia DR2 5842480953772012928</td>\n",
       "      <td>5842480953772012928</td>\n",
       "      <td>301027036</td>\n",
       "      <td>2015.5</td>\n",
       "      <td>186.767</td>\n",
       "      <td>0.0504103</td>\n",
       "      <td>-72.4519</td>\n",
       "      <td>0.0445355</td>\n",
       "      <td>9.9079</td>\n",
       "      <td>...</td>\n",
       "      <td>NaN</td>\n",
       "      <td>NaN</td>\n",
       "      <td>NaN</td>\n",
       "      <td>NaN</td>\n",
       "      <td>NaN</td>\n",
       "      <td>NaN</td>\n",
       "      <td>NaN</td>\n",
       "      <td>NaN</td>\n",
       "      <td>NaN</td>\n",
       "      <td>0.012524</td>\n",
       "    </tr>\n",
       "    <tr>\n",
       "      <th>1480.01</th>\n",
       "      <td>1635721458409799680</td>\n",
       "      <td>Gaia DR2 2206061061984055168</td>\n",
       "      <td>2206061061984055168</td>\n",
       "      <td>980292697</td>\n",
       "      <td>2015.5</td>\n",
       "      <td>332.614</td>\n",
       "      <td>0.209447</td>\n",
       "      <td>63.5506</td>\n",
       "      <td>0.245442</td>\n",
       "      <td>1.1759</td>\n",
       "      <td>...</td>\n",
       "      <td>0.3229</td>\n",
       "      <td>0.6235</td>\n",
       "      <td>NaN</td>\n",
       "      <td>NaN</td>\n",
       "      <td>NaN</td>\n",
       "      <td>NaN</td>\n",
       "      <td>NaN</td>\n",
       "      <td>NaN</td>\n",
       "      <td>NaN</td>\n",
       "      <td>0.0225408</td>\n",
       "    </tr>\n",
       "    <tr>\n",
       "      <th>1497.01</th>\n",
       "      <td>1635721458409799680</td>\n",
       "      <td>Gaia DR2 2014335027560174976</td>\n",
       "      <td>2014335027560174976</td>\n",
       "      <td>879691543</td>\n",
       "      <td>2015.5</td>\n",
       "      <td>343.233</td>\n",
       "      <td>0.0211884</td>\n",
       "      <td>59.851</td>\n",
       "      <td>0.0235762</td>\n",
       "      <td>2.43959</td>\n",
       "      <td>...</td>\n",
       "      <td>0.256</td>\n",
       "      <td>0.3656</td>\n",
       "      <td>200111</td>\n",
       "      <td>1.85487</td>\n",
       "      <td>1.69875</td>\n",
       "      <td>1.99079</td>\n",
       "      <td>11.8581</td>\n",
       "      <td>11.6362</td>\n",
       "      <td>12.0801</td>\n",
       "      <td>0.0156831</td>\n",
       "    </tr>\n",
       "    <tr>\n",
       "      <th>1602.01</th>\n",
       "      <td>1635721458409799680</td>\n",
       "      <td>Gaia DR2 338236787755719936</td>\n",
       "      <td>338236787755719936</td>\n",
       "      <td>636234213</td>\n",
       "      <td>2015.5</td>\n",
       "      <td>37.1324</td>\n",
       "      <td>0.0668136</td>\n",
       "      <td>40.8913</td>\n",
       "      <td>0.0377012</td>\n",
       "      <td>4.76252</td>\n",
       "      <td>...</td>\n",
       "      <td>0.0099</td>\n",
       "      <td>0.105</td>\n",
       "      <td>200111</td>\n",
       "      <td>1.13239</td>\n",
       "      <td>0.998331</td>\n",
       "      <td>1.18656</td>\n",
       "      <td>1.51731</td>\n",
       "      <td>1.48923</td>\n",
       "      <td>1.5454</td>\n",
       "      <td>0.0171759</td>\n",
       "    </tr>\n",
       "    <tr>\n",
       "      <th>1881.01</th>\n",
       "      <td>1635721458409799680</td>\n",
       "      <td>Gaia DR2 5510676828723793920</td>\n",
       "      <td>5510676828723793920</td>\n",
       "      <td>87126477</td>\n",
       "      <td>2015.5</td>\n",
       "      <td>110.37</td>\n",
       "      <td>0.0193442</td>\n",
       "      <td>-45.5677</td>\n",
       "      <td>0.026202</td>\n",
       "      <td>3.36942</td>\n",
       "      <td>...</td>\n",
       "      <td>NaN</td>\n",
       "      <td>NaN</td>\n",
       "      <td>200111</td>\n",
       "      <td>1.49815</td>\n",
       "      <td>1.40314</td>\n",
       "      <td>1.56656</td>\n",
       "      <td>3.7548</td>\n",
       "      <td>3.70717</td>\n",
       "      <td>3.80243</td>\n",
       "      <td>0.0220508</td>\n",
       "    </tr>\n",
       "    <tr>\n",
       "      <th>1918.01</th>\n",
       "      <td>1635721458409799680</td>\n",
       "      <td>Gaia DR2 5339389268061191040</td>\n",
       "      <td>5339389268061191040</td>\n",
       "      <td>818908334</td>\n",
       "      <td>2015.5</td>\n",
       "      <td>167.583</td>\n",
       "      <td>0.0303791</td>\n",
       "      <td>-58.983</td>\n",
       "      <td>0.0233408</td>\n",
       "      <td>2.06677</td>\n",
       "      <td>...</td>\n",
       "      <td>0.0032</td>\n",
       "      <td>0.1121</td>\n",
       "      <td>200111</td>\n",
       "      <td>1.12359</td>\n",
       "      <td>1.02587</td>\n",
       "      <td>1.18584</td>\n",
       "      <td>1.45743</td>\n",
       "      <td>1.42191</td>\n",
       "      <td>1.49294</td>\n",
       "      <td>0.0327892</td>\n",
       "    </tr>\n",
       "    <tr>\n",
       "      <th>1986.01</th>\n",
       "      <td>1635721458409799680</td>\n",
       "      <td>Gaia DR2 5312673922948554880</td>\n",
       "      <td>5312673922948554880</td>\n",
       "      <td>1298318145</td>\n",
       "      <td>2015.5</td>\n",
       "      <td>144.024</td>\n",
       "      <td>0.36012</td>\n",
       "      <td>-51.7446</td>\n",
       "      <td>0.355227</td>\n",
       "      <td>0.814208</td>\n",
       "      <td>...</td>\n",
       "      <td>0.0447</td>\n",
       "      <td>0.2555</td>\n",
       "      <td>NaN</td>\n",
       "      <td>NaN</td>\n",
       "      <td>NaN</td>\n",
       "      <td>NaN</td>\n",
       "      <td>NaN</td>\n",
       "      <td>NaN</td>\n",
       "      <td>NaN</td>\n",
       "      <td>0.0180355</td>\n",
       "    </tr>\n",
       "    <tr>\n",
       "      <th>496.01</th>\n",
       "      <td>1635721458409799680</td>\n",
       "      <td>Gaia DR2 3064530810048196352</td>\n",
       "      <td>3064530810048196352</td>\n",
       "      <td>711826201</td>\n",
       "      <td>2015.5</td>\n",
       "      <td>123.098</td>\n",
       "      <td>0.036783</td>\n",
       "      <td>-5.76866</td>\n",
       "      <td>0.0301859</td>\n",
       "      <td>1.23575</td>\n",
       "      <td>...</td>\n",
       "      <td>0.1865</td>\n",
       "      <td>0.3671</td>\n",
       "      <td>200111</td>\n",
       "      <td>1.36409</td>\n",
       "      <td>1.25089</td>\n",
       "      <td>1.46106</td>\n",
       "      <td>4.2841</td>\n",
       "      <td>4.05763</td>\n",
       "      <td>4.51056</td>\n",
       "      <td>0.00499295</td>\n",
       "    </tr>\n",
       "    <tr>\n",
       "      <th>2311.01</th>\n",
       "      <td>1635721458409799680</td>\n",
       "      <td>Gaia DR2 6818415476100569088</td>\n",
       "      <td>6818415476100569088</td>\n",
       "      <td>1432354600</td>\n",
       "      <td>2015.5</td>\n",
       "      <td>326.273</td>\n",
       "      <td>0.312816</td>\n",
       "      <td>-20.0325</td>\n",
       "      <td>0.313753</td>\n",
       "      <td>1.80841</td>\n",
       "      <td>...</td>\n",
       "      <td>0.631</td>\n",
       "      <td>0.9121</td>\n",
       "      <td>NaN</td>\n",
       "      <td>NaN</td>\n",
       "      <td>NaN</td>\n",
       "      <td>NaN</td>\n",
       "      <td>NaN</td>\n",
       "      <td>NaN</td>\n",
       "      <td>NaN</td>\n",
       "      <td>0.0118011</td>\n",
       "    </tr>\n",
       "    <tr>\n",
       "      <th>2538.01</th>\n",
       "      <td>1635721458409799680</td>\n",
       "      <td>Gaia DR2 3007460040533835008</td>\n",
       "      <td>3007460040533835008</td>\n",
       "      <td>289231596</td>\n",
       "      <td>2015.5</td>\n",
       "      <td>95.2263</td>\n",
       "      <td>0.0540234</td>\n",
       "      <td>-7.29894</td>\n",
       "      <td>0.062278</td>\n",
       "      <td>1.07878</td>\n",
       "      <td>...</td>\n",
       "      <td>0.4547</td>\n",
       "      <td>0.7337</td>\n",
       "      <td>200111</td>\n",
       "      <td>3.37658</td>\n",
       "      <td>3.23935</td>\n",
       "      <td>3.50798</td>\n",
       "      <td>29.8277</td>\n",
       "      <td>27.3561</td>\n",
       "      <td>32.2994</td>\n",
       "      <td>0.0553439</td>\n",
       "    </tr>\n",
       "    <tr>\n",
       "      <th>2595.01</th>\n",
       "      <td>1635721458409799680</td>\n",
       "      <td>Gaia DR2 3345187475230297856</td>\n",
       "      <td>3345187475230297856</td>\n",
       "      <td>749122398</td>\n",
       "      <td>2015.5</td>\n",
       "      <td>91.4</td>\n",
       "      <td>0.0420795</td>\n",
       "      <td>14.3569</td>\n",
       "      <td>0.0400517</td>\n",
       "      <td>4.68048</td>\n",
       "      <td>...</td>\n",
       "      <td>0.0034</td>\n",
       "      <td>0.0431</td>\n",
       "      <td>200111</td>\n",
       "      <td>1.06814</td>\n",
       "      <td>1.01525</td>\n",
       "      <td>1.15639</td>\n",
       "      <td>1.20269</td>\n",
       "      <td>1.18482</td>\n",
       "      <td>1.22056</td>\n",
       "      <td>0.0367721</td>\n",
       "    </tr>\n",
       "    <tr>\n",
       "      <th>2796.01</th>\n",
       "      <td>1635721458409799680</td>\n",
       "      <td>Gaia DR2 3222453935725951488</td>\n",
       "      <td>3222453935725951488</td>\n",
       "      <td>85631278</td>\n",
       "      <td>2015.5</td>\n",
       "      <td>84.1527</td>\n",
       "      <td>0.0541572</td>\n",
       "      <td>0.896279</td>\n",
       "      <td>0.0475729</td>\n",
       "      <td>2.82651</td>\n",
       "      <td>...</td>\n",
       "      <td>0.0065</td>\n",
       "      <td>0.144</td>\n",
       "      <td>200111</td>\n",
       "      <td>1.01665</td>\n",
       "      <td>0.795135</td>\n",
       "      <td>1.13118</td>\n",
       "      <td>1.0545</td>\n",
       "      <td>1.02969</td>\n",
       "      <td>1.07932</td>\n",
       "      <td>0.0389422</td>\n",
       "    </tr>\n",
       "    <tr>\n",
       "      <th>3561.01</th>\n",
       "      <td>1635721458409799680</td>\n",
       "      <td>Gaia DR2 2072431332214824576</td>\n",
       "      <td>2072431332214824576</td>\n",
       "      <td>350167961</td>\n",
       "      <td>2015.5</td>\n",
       "      <td>299.81</td>\n",
       "      <td>0.0126614</td>\n",
       "      <td>38.3937</td>\n",
       "      <td>0.0149344</td>\n",
       "      <td>0.908127</td>\n",
       "      <td>...</td>\n",
       "      <td>0.0125</td>\n",
       "      <td>0.234</td>\n",
       "      <td>200111</td>\n",
       "      <td>1.29195</td>\n",
       "      <td>1.22235</td>\n",
       "      <td>1.39516</td>\n",
       "      <td>5.12345</td>\n",
       "      <td>4.86185</td>\n",
       "      <td>5.38505</td>\n",
       "      <td>0.0514943</td>\n",
       "    </tr>\n",
       "    <tr>\n",
       "      <th>3602.01</th>\n",
       "      <td>1635721458409799680</td>\n",
       "      <td>Gaia DR2 2174318981622547712</td>\n",
       "      <td>2174318981622547712</td>\n",
       "      <td>639652443</td>\n",
       "      <td>2015.5</td>\n",
       "      <td>325.972</td>\n",
       "      <td>0.0252251</td>\n",
       "      <td>54.5743</td>\n",
       "      <td>0.0237886</td>\n",
       "      <td>2.28406</td>\n",
       "      <td>...</td>\n",
       "      <td>0.0535</td>\n",
       "      <td>0.2231</td>\n",
       "      <td>200111</td>\n",
       "      <td>1.32291</td>\n",
       "      <td>1.0512</td>\n",
       "      <td>1.35567</td>\n",
       "      <td>1.93987</td>\n",
       "      <td>1.90167</td>\n",
       "      <td>1.97808</td>\n",
       "      <td>0.0379706</td>\n",
       "    </tr>\n",
       "    <tr>\n",
       "      <th>3958.01</th>\n",
       "      <td>1635721458409799680</td>\n",
       "      <td>Gaia DR2 2015357191117217920</td>\n",
       "      <td>2015357191117217920</td>\n",
       "      <td>1638841963</td>\n",
       "      <td>2015.5</td>\n",
       "      <td>349.686</td>\n",
       "      <td>0.025791</td>\n",
       "      <td>63.2505</td>\n",
       "      <td>0.0242066</td>\n",
       "      <td>2.2637</td>\n",
       "      <td>...</td>\n",
       "      <td>0.1635</td>\n",
       "      <td>0.3545</td>\n",
       "      <td>200111</td>\n",
       "      <td>1.43142</td>\n",
       "      <td>1.08968</td>\n",
       "      <td>1.46092</td>\n",
       "      <td>2.33079</td>\n",
       "      <td>2.27937</td>\n",
       "      <td>2.38222</td>\n",
       "      <td>0.00390301</td>\n",
       "    </tr>\n",
       "    <tr>\n",
       "      <th>4257.01</th>\n",
       "      <td>1635721458409799680</td>\n",
       "      <td>Gaia DR2 5423774689545278592</td>\n",
       "      <td>5423774689545278592</td>\n",
       "      <td>148009001</td>\n",
       "      <td>2015.5</td>\n",
       "      <td>138.741</td>\n",
       "      <td>0.0222439</td>\n",
       "      <td>-45.123</td>\n",
       "      <td>0.0250201</td>\n",
       "      <td>2.4262</td>\n",
       "      <td>...</td>\n",
       "      <td>0.0013</td>\n",
       "      <td>0.094</td>\n",
       "      <td>200111</td>\n",
       "      <td>1.10882</td>\n",
       "      <td>1.06648</td>\n",
       "      <td>1.12095</td>\n",
       "      <td>1.86744</td>\n",
       "      <td>1.83311</td>\n",
       "      <td>1.90177</td>\n",
       "      <td>0.0312288</td>\n",
       "    </tr>\n",
       "    <tr>\n",
       "      <th>4510.01</th>\n",
       "      <td>1635721458409799680</td>\n",
       "      <td>Gaia DR2 5295126507633392128</td>\n",
       "      <td>5295126507633392128</td>\n",
       "      <td>912945758</td>\n",
       "      <td>2015.5</td>\n",
       "      <td>115.639</td>\n",
       "      <td>0.0208036</td>\n",
       "      <td>-58.6233</td>\n",
       "      <td>0.0179287</td>\n",
       "      <td>2.65011</td>\n",
       "      <td>...</td>\n",
       "      <td>0.0499</td>\n",
       "      <td>0.3511</td>\n",
       "      <td>200111</td>\n",
       "      <td>1.45135</td>\n",
       "      <td>1.34964</td>\n",
       "      <td>1.53382</td>\n",
       "      <td>6.45212</td>\n",
       "      <td>6.3628</td>\n",
       "      <td>6.54144</td>\n",
       "      <td>0.0126204</td>\n",
       "    </tr>\n",
       "    <tr>\n",
       "      <th>4622.01</th>\n",
       "      <td>1635721458409799680</td>\n",
       "      <td>Gaia DR2 170033017904053376</td>\n",
       "      <td>170033017904053376</td>\n",
       "      <td>1627702877</td>\n",
       "      <td>2015.5</td>\n",
       "      <td>60.2266</td>\n",
       "      <td>0.139321</td>\n",
       "      <td>31.6911</td>\n",
       "      <td>0.0741932</td>\n",
       "      <td>3.34092</td>\n",
       "      <td>...</td>\n",
       "      <td>NaN</td>\n",
       "      <td>NaN</td>\n",
       "      <td>NaN</td>\n",
       "      <td>NaN</td>\n",
       "      <td>NaN</td>\n",
       "      <td>NaN</td>\n",
       "      <td>NaN</td>\n",
       "      <td>NaN</td>\n",
       "      <td>NaN</td>\n",
       "      <td>0.0549132</td>\n",
       "    </tr>\n",
       "    <tr>\n",
       "      <th>4668.01</th>\n",
       "      <td>1635721458409799680</td>\n",
       "      <td>Gaia DR2 4860787013426321664</td>\n",
       "      <td>4860787013426321664</td>\n",
       "      <td>463466513</td>\n",
       "      <td>2015.5</td>\n",
       "      <td>52.6474</td>\n",
       "      <td>0.0340145</td>\n",
       "      <td>-35.2037</td>\n",
       "      <td>0.0475797</td>\n",
       "      <td>9.38875</td>\n",
       "      <td>...</td>\n",
       "      <td>NaN</td>\n",
       "      <td>NaN</td>\n",
       "      <td>NaN</td>\n",
       "      <td>NaN</td>\n",
       "      <td>NaN</td>\n",
       "      <td>NaN</td>\n",
       "      <td>NaN</td>\n",
       "      <td>NaN</td>\n",
       "      <td>NaN</td>\n",
       "      <td>0.0588737</td>\n",
       "    </tr>\n",
       "    <tr>\n",
       "      <th>5071.01</th>\n",
       "      <td>1635721458409799680</td>\n",
       "      <td>Gaia DR2 664337230586013312</td>\n",
       "      <td>664337230586013312</td>\n",
       "      <td>672933698</td>\n",
       "      <td>2015.5</td>\n",
       "      <td>129.601</td>\n",
       "      <td>0.0557329</td>\n",
       "      <td>20.106</td>\n",
       "      <td>0.0318548</td>\n",
       "      <td>5.26448</td>\n",
       "      <td>...</td>\n",
       "      <td>0.0866</td>\n",
       "      <td>0.1851</td>\n",
       "      <td>200111</td>\n",
       "      <td>1.27261</td>\n",
       "      <td>1.18738</td>\n",
       "      <td>1.32703</td>\n",
       "      <td>1.83274</td>\n",
       "      <td>1.80247</td>\n",
       "      <td>1.86301</td>\n",
       "      <td>0.0106033</td>\n",
       "    </tr>\n",
       "    <tr>\n",
       "      <th>5090.01</th>\n",
       "      <td>1635721458409799680</td>\n",
       "      <td>Gaia DR2 661229701489213824</td>\n",
       "      <td>661229701489213824</td>\n",
       "      <td>501485885</td>\n",
       "      <td>2015.5</td>\n",
       "      <td>130.664</td>\n",
       "      <td>0.113531</td>\n",
       "      <td>19.4144</td>\n",
       "      <td>0.0643697</td>\n",
       "      <td>5.36069</td>\n",
       "      <td>...</td>\n",
       "      <td>NaN</td>\n",
       "      <td>NaN</td>\n",
       "      <td>NaN</td>\n",
       "      <td>NaN</td>\n",
       "      <td>NaN</td>\n",
       "      <td>NaN</td>\n",
       "      <td>NaN</td>\n",
       "      <td>NaN</td>\n",
       "      <td>NaN</td>\n",
       "      <td>0.00663385</td>\n",
       "    </tr>\n",
       "    <tr>\n",
       "      <th>5095.01</th>\n",
       "      <td>1635721458409799680</td>\n",
       "      <td>Gaia DR2 3311804515502788352</td>\n",
       "      <td>3311804515502788352</td>\n",
       "      <td>249186032</td>\n",
       "      <td>2015.5</td>\n",
       "      <td>63.2739</td>\n",
       "      <td>0.0783231</td>\n",
       "      <td>15.2477</td>\n",
       "      <td>0.0380725</td>\n",
       "      <td>22.2153</td>\n",
       "      <td>...</td>\n",
       "      <td>0.0949</td>\n",
       "      <td>0.3597</td>\n",
       "      <td>NaN</td>\n",
       "      <td>NaN</td>\n",
       "      <td>NaN</td>\n",
       "      <td>NaN</td>\n",
       "      <td>NaN</td>\n",
       "      <td>NaN</td>\n",
       "      <td>NaN</td>\n",
       "      <td>0.0621693</td>\n",
       "    </tr>\n",
       "    <tr>\n",
       "      <th>5358.01</th>\n",
       "      <td>1635721458409799680</td>\n",
       "      <td>Gaia DR2 119520079331712896</td>\n",
       "      <td>119520079331712896</td>\n",
       "      <td>425319771</td>\n",
       "      <td>2015.5</td>\n",
       "      <td>54.1839</td>\n",
       "      <td>0.0485325</td>\n",
       "      <td>28.5503</td>\n",
       "      <td>0.0282591</td>\n",
       "      <td>7.18109</td>\n",
       "      <td>...</td>\n",
       "      <td>NaN</td>\n",
       "      <td>NaN</td>\n",
       "      <td>200111</td>\n",
       "      <td>0.7155</td>\n",
       "      <td>0.689148</td>\n",
       "      <td>0.732217</td>\n",
       "      <td>0.228165</td>\n",
       "      <td>0.225824</td>\n",
       "      <td>0.230506</td>\n",
       "      <td>0.0613786</td>\n",
       "    </tr>\n",
       "  </tbody>\n",
       "</table>\n",
       "<p>30 rows × 95 columns</p>\n",
       "</div>"
      ],
      "text/plain": [
       "                 solution_id                   designation  \\\n",
       "TOI                                                          \n",
       "580.01   1635721458409799680  Gaia DR2 5519619186857962112   \n",
       "581.01   1635721458409799680  Gaia DR2 5525188767305211904   \n",
       "583.01   1635721458409799680  Gaia DR2 5537419940819841664   \n",
       "681.01   1635721458409799680  Gaia DR2 5290968085934209152   \n",
       "1014.01  1635721458409799680  Gaia DR2 5579734916388215808   \n",
       "1162.01  1635721458409799680  Gaia DR2 2068399423045976320   \n",
       "1191.01  1635721458409799680  Gaia DR2 2094015466995434624   \n",
       "1227.01  1635721458409799680  Gaia DR2 5842480953772012928   \n",
       "1480.01  1635721458409799680  Gaia DR2 2206061061984055168   \n",
       "1497.01  1635721458409799680  Gaia DR2 2014335027560174976   \n",
       "1602.01  1635721458409799680   Gaia DR2 338236787755719936   \n",
       "1881.01  1635721458409799680  Gaia DR2 5510676828723793920   \n",
       "1918.01  1635721458409799680  Gaia DR2 5339389268061191040   \n",
       "1986.01  1635721458409799680  Gaia DR2 5312673922948554880   \n",
       "496.01   1635721458409799680  Gaia DR2 3064530810048196352   \n",
       "2311.01  1635721458409799680  Gaia DR2 6818415476100569088   \n",
       "2538.01  1635721458409799680  Gaia DR2 3007460040533835008   \n",
       "2595.01  1635721458409799680  Gaia DR2 3345187475230297856   \n",
       "2796.01  1635721458409799680  Gaia DR2 3222453935725951488   \n",
       "3561.01  1635721458409799680  Gaia DR2 2072431332214824576   \n",
       "3602.01  1635721458409799680  Gaia DR2 2174318981622547712   \n",
       "3958.01  1635721458409799680  Gaia DR2 2015357191117217920   \n",
       "4257.01  1635721458409799680  Gaia DR2 5423774689545278592   \n",
       "4510.01  1635721458409799680  Gaia DR2 5295126507633392128   \n",
       "4622.01  1635721458409799680   Gaia DR2 170033017904053376   \n",
       "4668.01  1635721458409799680  Gaia DR2 4860787013426321664   \n",
       "5071.01  1635721458409799680   Gaia DR2 664337230586013312   \n",
       "5090.01  1635721458409799680   Gaia DR2 661229701489213824   \n",
       "5095.01  1635721458409799680  Gaia DR2 3311804515502788352   \n",
       "5358.01  1635721458409799680   Gaia DR2 119520079331712896   \n",
       "\n",
       "                   source_id random_index ref_epoch       ra   ra_error  \\\n",
       "TOI                                                                       \n",
       "580.01   5519619186857962112    233066008    2015.5  123.108  0.0380418   \n",
       "581.01   5525188767305211904    779154607    2015.5  130.261  0.0327744   \n",
       "583.01   5537419940819841664    440783037    2015.5  118.476  0.0269665   \n",
       "681.01   5290968085934209152   1295528116    2015.5  117.895  0.0250456   \n",
       "1014.01  5579734916388215808    875337388    2015.5  103.562  0.0350409   \n",
       "1162.01  2068399423045976320   1079655631    2015.5  305.289    0.04077   \n",
       "1191.01  2094015466995434624   1086866567    2015.5  283.527  0.0160431   \n",
       "1227.01  5842480953772012928    301027036    2015.5  186.767  0.0504103   \n",
       "1480.01  2206061061984055168    980292697    2015.5  332.614   0.209447   \n",
       "1497.01  2014335027560174976    879691543    2015.5  343.233  0.0211884   \n",
       "1602.01   338236787755719936    636234213    2015.5  37.1324  0.0668136   \n",
       "1881.01  5510676828723793920     87126477    2015.5   110.37  0.0193442   \n",
       "1918.01  5339389268061191040    818908334    2015.5  167.583  0.0303791   \n",
       "1986.01  5312673922948554880   1298318145    2015.5  144.024    0.36012   \n",
       "496.01   3064530810048196352    711826201    2015.5  123.098   0.036783   \n",
       "2311.01  6818415476100569088   1432354600    2015.5  326.273   0.312816   \n",
       "2538.01  3007460040533835008    289231596    2015.5  95.2263  0.0540234   \n",
       "2595.01  3345187475230297856    749122398    2015.5     91.4  0.0420795   \n",
       "2796.01  3222453935725951488     85631278    2015.5  84.1527  0.0541572   \n",
       "3561.01  2072431332214824576    350167961    2015.5   299.81  0.0126614   \n",
       "3602.01  2174318981622547712    639652443    2015.5  325.972  0.0252251   \n",
       "3958.01  2015357191117217920   1638841963    2015.5  349.686   0.025791   \n",
       "4257.01  5423774689545278592    148009001    2015.5  138.741  0.0222439   \n",
       "4510.01  5295126507633392128    912945758    2015.5  115.639  0.0208036   \n",
       "4622.01   170033017904053376   1627702877    2015.5  60.2266   0.139321   \n",
       "4668.01  4860787013426321664    463466513    2015.5  52.6474  0.0340145   \n",
       "5071.01   664337230586013312    672933698    2015.5  129.601  0.0557329   \n",
       "5090.01   661229701489213824    501485885    2015.5  130.664   0.113531   \n",
       "5095.01  3311804515502788352    249186032    2015.5  63.2739  0.0783231   \n",
       "5358.01   119520079331712896    425319771    2015.5  54.1839  0.0485325   \n",
       "\n",
       "              dec  dec_error  parallax  ... e_bp_min_rp_percentile_lower  \\\n",
       "TOI                                     ...                                \n",
       "580.01   -46.1091  0.0437696   2.85852  ...                         0.05   \n",
       "581.01   -41.4428  0.0345303   2.27513  ...                       0.0223   \n",
       "583.01    -39.993  0.0310648   2.79312  ...                        0.065   \n",
       "681.01   -60.4124  0.0300555   2.34473  ...                       0.0376   \n",
       "1014.01  -34.2228  0.0616137   4.42315  ...                          NaN   \n",
       "1162.01   41.4624  0.0501174   2.84234  ...                          NaN   \n",
       "1191.01     37.72  0.0179766    2.7817  ...                          NaN   \n",
       "1227.01  -72.4519  0.0445355    9.9079  ...                          NaN   \n",
       "1480.01   63.5506   0.245442    1.1759  ...                       0.3229   \n",
       "1497.01    59.851  0.0235762   2.43959  ...                        0.256   \n",
       "1602.01   40.8913  0.0377012   4.76252  ...                       0.0099   \n",
       "1881.01  -45.5677   0.026202   3.36942  ...                          NaN   \n",
       "1918.01   -58.983  0.0233408   2.06677  ...                       0.0032   \n",
       "1986.01  -51.7446   0.355227  0.814208  ...                       0.0447   \n",
       "496.01   -5.76866  0.0301859   1.23575  ...                       0.1865   \n",
       "2311.01  -20.0325   0.313753   1.80841  ...                        0.631   \n",
       "2538.01  -7.29894   0.062278   1.07878  ...                       0.4547   \n",
       "2595.01   14.3569  0.0400517   4.68048  ...                       0.0034   \n",
       "2796.01  0.896279  0.0475729   2.82651  ...                       0.0065   \n",
       "3561.01   38.3937  0.0149344  0.908127  ...                       0.0125   \n",
       "3602.01   54.5743  0.0237886   2.28406  ...                       0.0535   \n",
       "3958.01   63.2505  0.0242066    2.2637  ...                       0.1635   \n",
       "4257.01   -45.123  0.0250201    2.4262  ...                       0.0013   \n",
       "4510.01  -58.6233  0.0179287   2.65011  ...                       0.0499   \n",
       "4622.01   31.6911  0.0741932   3.34092  ...                          NaN   \n",
       "4668.01  -35.2037  0.0475797   9.38875  ...                          NaN   \n",
       "5071.01    20.106  0.0318548   5.26448  ...                       0.0866   \n",
       "5090.01   19.4144  0.0643697   5.36069  ...                          NaN   \n",
       "5095.01   15.2477  0.0380725   22.2153  ...                       0.0949   \n",
       "5358.01   28.5503  0.0282591   7.18109  ...                          NaN   \n",
       "\n",
       "        e_bp_min_rp_percentile_upper flame_flags radius_val  \\\n",
       "TOI                                                           \n",
       "580.01                        0.1643         NaN        NaN   \n",
       "581.01                        0.0971         NaN        NaN   \n",
       "583.01                         0.191         NaN        NaN   \n",
       "681.01                         0.281      200111    1.53227   \n",
       "1014.01                          NaN         NaN        NaN   \n",
       "1162.01                          NaN         NaN        NaN   \n",
       "1191.01                          NaN      200111     2.2708   \n",
       "1227.01                          NaN         NaN        NaN   \n",
       "1480.01                       0.6235         NaN        NaN   \n",
       "1497.01                       0.3656      200111    1.85487   \n",
       "1602.01                        0.105      200111    1.13239   \n",
       "1881.01                          NaN      200111    1.49815   \n",
       "1918.01                       0.1121      200111    1.12359   \n",
       "1986.01                       0.2555         NaN        NaN   \n",
       "496.01                        0.3671      200111    1.36409   \n",
       "2311.01                       0.9121         NaN        NaN   \n",
       "2538.01                       0.7337      200111    3.37658   \n",
       "2595.01                       0.0431      200111    1.06814   \n",
       "2796.01                        0.144      200111    1.01665   \n",
       "3561.01                        0.234      200111    1.29195   \n",
       "3602.01                       0.2231      200111    1.32291   \n",
       "3958.01                       0.3545      200111    1.43142   \n",
       "4257.01                        0.094      200111    1.10882   \n",
       "4510.01                       0.3511      200111    1.45135   \n",
       "4622.01                          NaN         NaN        NaN   \n",
       "4668.01                          NaN         NaN        NaN   \n",
       "5071.01                       0.1851      200111    1.27261   \n",
       "5090.01                          NaN         NaN        NaN   \n",
       "5095.01                       0.3597         NaN        NaN   \n",
       "5358.01                          NaN      200111     0.7155   \n",
       "\n",
       "        radius_percentile_lower radius_percentile_upper   lum_val  \\\n",
       "TOI                                                                 \n",
       "580.01                      NaN                     NaN       NaN   \n",
       "581.01                      NaN                     NaN       NaN   \n",
       "583.01                      NaN                     NaN       NaN   \n",
       "681.01                  1.48233                 1.57395   5.81764   \n",
       "1014.01                     NaN                     NaN       NaN   \n",
       "1162.01                     NaN                     NaN       NaN   \n",
       "1191.01                 2.18399                 2.31713   8.74498   \n",
       "1227.01                     NaN                     NaN       NaN   \n",
       "1480.01                     NaN                     NaN       NaN   \n",
       "1497.01                 1.69875                 1.99079   11.8581   \n",
       "1602.01                0.998331                 1.18656   1.51731   \n",
       "1881.01                 1.40314                 1.56656    3.7548   \n",
       "1918.01                 1.02587                 1.18584   1.45743   \n",
       "1986.01                     NaN                     NaN       NaN   \n",
       "496.01                  1.25089                 1.46106    4.2841   \n",
       "2311.01                     NaN                     NaN       NaN   \n",
       "2538.01                 3.23935                 3.50798   29.8277   \n",
       "2595.01                 1.01525                 1.15639   1.20269   \n",
       "2796.01                0.795135                 1.13118    1.0545   \n",
       "3561.01                 1.22235                 1.39516   5.12345   \n",
       "3602.01                  1.0512                 1.35567   1.93987   \n",
       "3958.01                 1.08968                 1.46092   2.33079   \n",
       "4257.01                 1.06648                 1.12095   1.86744   \n",
       "4510.01                 1.34964                 1.53382   6.45212   \n",
       "4622.01                     NaN                     NaN       NaN   \n",
       "4668.01                     NaN                     NaN       NaN   \n",
       "5071.01                 1.18738                 1.32703   1.83274   \n",
       "5090.01                     NaN                     NaN       NaN   \n",
       "5095.01                     NaN                     NaN       NaN   \n",
       "5358.01                0.689148                0.732217  0.228165   \n",
       "\n",
       "        lum_percentile_lower lum_percentile_upper  separation  \n",
       "TOI                                                            \n",
       "580.01                   NaN                  NaN   0.0447443  \n",
       "581.01                   NaN                  NaN  0.00967848  \n",
       "583.01                   NaN                  NaN  0.00949149  \n",
       "681.01               5.70983              5.92545   0.0224964  \n",
       "1014.01                  NaN                  NaN   0.0675739  \n",
       "1162.01                  NaN                  NaN    0.030128  \n",
       "1191.01               8.6317              8.85825   0.0326255  \n",
       "1227.01                  NaN                  NaN    0.012524  \n",
       "1480.01                  NaN                  NaN   0.0225408  \n",
       "1497.01              11.6362              12.0801   0.0156831  \n",
       "1602.01              1.48923               1.5454   0.0171759  \n",
       "1881.01              3.70717              3.80243   0.0220508  \n",
       "1918.01              1.42191              1.49294   0.0327892  \n",
       "1986.01                  NaN                  NaN   0.0180355  \n",
       "496.01               4.05763              4.51056  0.00499295  \n",
       "2311.01                  NaN                  NaN   0.0118011  \n",
       "2538.01              27.3561              32.2994   0.0553439  \n",
       "2595.01              1.18482              1.22056   0.0367721  \n",
       "2796.01              1.02969              1.07932   0.0389422  \n",
       "3561.01              4.86185              5.38505   0.0514943  \n",
       "3602.01              1.90167              1.97808   0.0379706  \n",
       "3958.01              2.27937              2.38222  0.00390301  \n",
       "4257.01              1.83311              1.90177   0.0312288  \n",
       "4510.01               6.3628              6.54144   0.0126204  \n",
       "4622.01                  NaN                  NaN   0.0549132  \n",
       "4668.01                  NaN                  NaN   0.0588737  \n",
       "5071.01              1.80247              1.86301   0.0106033  \n",
       "5090.01                  NaN                  NaN  0.00663385  \n",
       "5095.01                  NaN                  NaN   0.0621693  \n",
       "5358.01             0.225824             0.230506   0.0613786  \n",
       "\n",
       "[30 rows x 95 columns]"
      ]
     },
     "execution_count": 13,
     "metadata": {},
     "output_type": "execute_result"
    }
   ],
   "source": [
    "tois_gaia[idx2]"
   ]
  },
  {
   "cell_type": "raw",
   "metadata": {
    "ExecuteTime": {
     "end_time": "2021-11-11T05:39:04.423729Z",
     "start_time": "2021-11-11T05:37:17.690285Z"
    }
   },
   "source": [
    "#note that Bouma has larger crossmatches while CastroGinard2019/20 yields None\n",
    "cc = cr.ClusterCatalog(catalog_name=\"Bouma2019\")\n",
    "df_mem = cc.query_catalog(return_members=True)\n",
    "df_mem.columns"
   ]
  },
  {
   "cell_type": "raw",
   "metadata": {
    "ExecuteTime": {
     "end_time": "2021-11-11T05:39:04.425999Z",
     "start_time": "2021-11-11T05:37:19.061Z"
    },
    "scrolled": true
   },
   "source": [
    "idx1 = df_mem.source_id.isin(tois_gaia.source_id)\n",
    "idx1.sum()"
   ]
  },
  {
   "cell_type": "raw",
   "metadata": {},
   "source": [
    "df_mem[idx1]"
   ]
  },
  {
   "cell_type": "raw",
   "metadata": {
    "ExecuteTime": {
     "end_time": "2021-09-15T00:27:17.938687Z",
     "start_time": "2021-09-15T00:27:17.899882Z"
    }
   },
   "source": [
    "idx2 = tois_gaia.source_id.isin(df_mem.source_id)\n",
    "idx2.sum()"
   ]
  },
  {
   "cell_type": "raw",
   "metadata": {},
   "source": [
    "tois_gaia[idx2]"
   ]
  },
  {
   "cell_type": "code",
   "execution_count": 14,
   "metadata": {
    "ExecuteTime": {
     "end_time": "2022-09-27T06:19:12.914148Z",
     "start_time": "2022-09-27T06:19:12.815204Z"
    }
   },
   "outputs": [],
   "source": [
    "idx1 = df_mem.source_id.isin(tois_gaia.source_id)\n",
    "idx2 = tois_gaia.source_id.isin(df_mem.source_id)\n",
    "\n",
    "#merge\n",
    "# cols = ['source_id','clusters','reference','Cluster','k13_name_match','k13_logt','distance']\n",
    "cols = df_mem.columns\n",
    "short_list = pd.merge(left=tois_gaia.loc[idx2, 'source_id'].reset_index(),\n",
    "                      right=df_mem.loc[idx1, cols], \n",
    "                     on='source_id')"
   ]
  },
  {
   "cell_type": "code",
   "execution_count": 15,
   "metadata": {
    "ExecuteTime": {
     "end_time": "2022-09-27T06:19:13.659883Z",
     "start_time": "2022-09-27T06:19:13.646391Z"
    }
   },
   "outputs": [
    {
     "data": {
      "text/plain": [
       "30"
      ]
     },
     "execution_count": 15,
     "metadata": {},
     "output_type": "execute_result"
    }
   ],
   "source": [
    "len(short_list)"
   ]
  },
  {
   "cell_type": "code",
   "execution_count": 16,
   "metadata": {
    "ExecuteTime": {
     "end_time": "2022-09-27T06:19:14.356597Z",
     "start_time": "2022-09-27T06:19:14.311430Z"
    }
   },
   "outputs": [
    {
     "data": {
      "text/html": [
       "<div>\n",
       "<style scoped>\n",
       "    .dataframe tbody tr th:only-of-type {\n",
       "        vertical-align: middle;\n",
       "    }\n",
       "\n",
       "    .dataframe tbody tr th {\n",
       "        vertical-align: top;\n",
       "    }\n",
       "\n",
       "    .dataframe thead th {\n",
       "        text-align: right;\n",
       "    }\n",
       "</style>\n",
       "<table border=\"1\" class=\"dataframe\">\n",
       "  <thead>\n",
       "    <tr style=\"text-align: right;\">\n",
       "      <th></th>\n",
       "      <th>TOI</th>\n",
       "      <th>source_id</th>\n",
       "      <th>GLON</th>\n",
       "      <th>GLAT</th>\n",
       "      <th>parallax</th>\n",
       "      <th>e_parallax</th>\n",
       "      <th>pmra</th>\n",
       "      <th>e_pmra</th>\n",
       "      <th>pmdec</th>\n",
       "      <th>e_pmdec</th>\n",
       "      <th>RUWE</th>\n",
       "      <th>Gmag</th>\n",
       "      <th>BP-RP</th>\n",
       "      <th>nre</th>\n",
       "      <th>Cluster</th>\n",
       "      <th>ra</th>\n",
       "      <th>dec</th>\n",
       "      <th>distance</th>\n",
       "    </tr>\n",
       "  </thead>\n",
       "  <tbody>\n",
       "    <tr>\n",
       "      <th>0</th>\n",
       "      <td>580.01</td>\n",
       "      <td>5519619186857962112</td>\n",
       "      <td>262.0282</td>\n",
       "      <td>-6.6072</td>\n",
       "      <td>2.945</td>\n",
       "      <td>0.016</td>\n",
       "      <td>-6.241</td>\n",
       "      <td>0.017</td>\n",
       "      <td>10.025</td>\n",
       "      <td>0.017</td>\n",
       "      <td>0.92</td>\n",
       "      <td>9.582</td>\n",
       "      <td>0.131</td>\n",
       "      <td>9</td>\n",
       "      <td>Pozzo_1</td>\n",
       "      <td>123.1083</td>\n",
       "      <td>-46.1091</td>\n",
       "      <td>339.558574</td>\n",
       "    </tr>\n",
       "    <tr>\n",
       "      <th>1</th>\n",
       "      <td>581.01</td>\n",
       "      <td>5525188767305211904</td>\n",
       "      <td>261.2098</td>\n",
       "      <td>0.3002</td>\n",
       "      <td>2.338</td>\n",
       "      <td>0.022</td>\n",
       "      <td>-11.616</td>\n",
       "      <td>0.023</td>\n",
       "      <td>7.173</td>\n",
       "      <td>0.024</td>\n",
       "      <td>1.07</td>\n",
       "      <td>9.484</td>\n",
       "      <td>-0.021</td>\n",
       "      <td>10</td>\n",
       "      <td>Trumpler_10</td>\n",
       "      <td>130.2614</td>\n",
       "      <td>-41.4428</td>\n",
       "      <td>427.715997</td>\n",
       "    </tr>\n",
       "    <tr>\n",
       "      <th>2</th>\n",
       "      <td>583.01</td>\n",
       "      <td>5537419940819841664</td>\n",
       "      <td>255.0039</td>\n",
       "      <td>-6.2867</td>\n",
       "      <td>2.917</td>\n",
       "      <td>0.016</td>\n",
       "      <td>-11.389</td>\n",
       "      <td>0.016</td>\n",
       "      <td>4.121</td>\n",
       "      <td>0.019</td>\n",
       "      <td>0.96</td>\n",
       "      <td>9.388</td>\n",
       "      <td>0.090</td>\n",
       "      <td>7</td>\n",
       "      <td>NGC_2451B</td>\n",
       "      <td>118.4764</td>\n",
       "      <td>-39.9930</td>\n",
       "      <td>342.817964</td>\n",
       "    </tr>\n",
       "    <tr>\n",
       "      <th>3</th>\n",
       "      <td>681.01</td>\n",
       "      <td>5290968085934209152</td>\n",
       "      <td>273.1234</td>\n",
       "      <td>-16.4111</td>\n",
       "      <td>2.442</td>\n",
       "      <td>0.013</td>\n",
       "      <td>-3.994</td>\n",
       "      <td>0.017</td>\n",
       "      <td>11.326</td>\n",
       "      <td>0.017</td>\n",
       "      <td>0.91</td>\n",
       "      <td>10.907</td>\n",
       "      <td>0.434</td>\n",
       "      <td>7</td>\n",
       "      <td>NGC_2516</td>\n",
       "      <td>117.8949</td>\n",
       "      <td>-60.4124</td>\n",
       "      <td>409.500410</td>\n",
       "    </tr>\n",
       "    <tr>\n",
       "      <th>4</th>\n",
       "      <td>1014.01</td>\n",
       "      <td>5579734916388215808</td>\n",
       "      <td>244.3563</td>\n",
       "      <td>-14.3257</td>\n",
       "      <td>4.547</td>\n",
       "      <td>0.030</td>\n",
       "      <td>-12.915</td>\n",
       "      <td>0.029</td>\n",
       "      <td>9.808</td>\n",
       "      <td>0.036</td>\n",
       "      <td>1.02</td>\n",
       "      <td>7.599</td>\n",
       "      <td>-0.059</td>\n",
       "      <td>4</td>\n",
       "      <td>CWNU_1013</td>\n",
       "      <td>103.5616</td>\n",
       "      <td>-34.2228</td>\n",
       "      <td>219.925225</td>\n",
       "    </tr>\n",
       "    <tr>\n",
       "      <th>5</th>\n",
       "      <td>1162.01</td>\n",
       "      <td>2068399423045976320</td>\n",
       "      <td>79.0258</td>\n",
       "      <td>2.7193</td>\n",
       "      <td>2.943</td>\n",
       "      <td>0.017</td>\n",
       "      <td>5.439</td>\n",
       "      <td>0.019</td>\n",
       "      <td>1.757</td>\n",
       "      <td>0.019</td>\n",
       "      <td>1.16</td>\n",
       "      <td>9.764</td>\n",
       "      <td>0.220</td>\n",
       "      <td>4</td>\n",
       "      <td>Roslund_6</td>\n",
       "      <td>305.2894</td>\n",
       "      <td>41.4623</td>\n",
       "      <td>339.789331</td>\n",
       "    </tr>\n",
       "    <tr>\n",
       "      <th>6</th>\n",
       "      <td>1191.01</td>\n",
       "      <td>2094015466995434624</td>\n",
       "      <td>67.6815</td>\n",
       "      <td>15.7104</td>\n",
       "      <td>2.819</td>\n",
       "      <td>0.016</td>\n",
       "      <td>1.236</td>\n",
       "      <td>0.020</td>\n",
       "      <td>-2.385</td>\n",
       "      <td>0.018</td>\n",
       "      <td>1.42</td>\n",
       "      <td>10.089</td>\n",
       "      <td>0.561</td>\n",
       "      <td>10</td>\n",
       "      <td>Stephenson_1</td>\n",
       "      <td>283.5266</td>\n",
       "      <td>37.7200</td>\n",
       "      <td>354.735722</td>\n",
       "    </tr>\n",
       "    <tr>\n",
       "      <th>7</th>\n",
       "      <td>1227.01</td>\n",
       "      <td>5842480953772012928</td>\n",
       "      <td>301.0718</td>\n",
       "      <td>-9.6682</td>\n",
       "      <td>9.905</td>\n",
       "      <td>0.024</td>\n",
       "      <td>-40.294</td>\n",
       "      <td>0.026</td>\n",
       "      <td>-10.808</td>\n",
       "      <td>0.030</td>\n",
       "      <td>1.06</td>\n",
       "      <td>15.218</td>\n",
       "      <td>3.290</td>\n",
       "      <td>9</td>\n",
       "      <td>CWNU_1136</td>\n",
       "      <td>186.7673</td>\n",
       "      <td>-72.4519</td>\n",
       "      <td>100.959112</td>\n",
       "    </tr>\n",
       "    <tr>\n",
       "      <th>8</th>\n",
       "      <td>1480.01</td>\n",
       "      <td>2206061061984055168</td>\n",
       "      <td>106.1108</td>\n",
       "      <td>6.0666</td>\n",
       "      <td>1.115</td>\n",
       "      <td>0.220</td>\n",
       "      <td>-1.708</td>\n",
       "      <td>0.261</td>\n",
       "      <td>-1.486</td>\n",
       "      <td>0.266</td>\n",
       "      <td>14.06</td>\n",
       "      <td>8.858</td>\n",
       "      <td>0.279</td>\n",
       "      <td>10</td>\n",
       "      <td>CWNU_1115</td>\n",
       "      <td>332.6137</td>\n",
       "      <td>63.5505</td>\n",
       "      <td>896.860987</td>\n",
       "    </tr>\n",
       "    <tr>\n",
       "      <th>9</th>\n",
       "      <td>1497.01</td>\n",
       "      <td>2014335027560174976</td>\n",
       "      <td>108.5557</td>\n",
       "      <td>0.3288</td>\n",
       "      <td>2.396</td>\n",
       "      <td>0.016</td>\n",
       "      <td>4.378</td>\n",
       "      <td>0.017</td>\n",
       "      <td>-2.399</td>\n",
       "      <td>0.017</td>\n",
       "      <td>1.00</td>\n",
       "      <td>10.090</td>\n",
       "      <td>0.289</td>\n",
       "      <td>9</td>\n",
       "      <td>RSG_7</td>\n",
       "      <td>343.2331</td>\n",
       "      <td>59.8510</td>\n",
       "      <td>417.362270</td>\n",
       "    </tr>\n",
       "    <tr>\n",
       "      <th>10</th>\n",
       "      <td>1602.01</td>\n",
       "      <td>338236787755719936</td>\n",
       "      <td>142.0434</td>\n",
       "      <td>-18.3496</td>\n",
       "      <td>4.770</td>\n",
       "      <td>0.015</td>\n",
       "      <td>18.060</td>\n",
       "      <td>0.016</td>\n",
       "      <td>-25.257</td>\n",
       "      <td>0.015</td>\n",
       "      <td>0.93</td>\n",
       "      <td>10.828</td>\n",
       "      <td>0.728</td>\n",
       "      <td>3</td>\n",
       "      <td>UPK_303</td>\n",
       "      <td>37.1324</td>\n",
       "      <td>40.8913</td>\n",
       "      <td>209.643606</td>\n",
       "    </tr>\n",
       "    <tr>\n",
       "      <th>11</th>\n",
       "      <td>1881.01</td>\n",
       "      <td>5510676828723793920</td>\n",
       "      <td>257.2293</td>\n",
       "      <td>-14.1330</td>\n",
       "      <td>3.537</td>\n",
       "      <td>0.013</td>\n",
       "      <td>-9.754</td>\n",
       "      <td>0.015</td>\n",
       "      <td>11.495</td>\n",
       "      <td>0.017</td>\n",
       "      <td>1.25</td>\n",
       "      <td>10.584</td>\n",
       "      <td>0.580</td>\n",
       "      <td>11</td>\n",
       "      <td>Alessi_3</td>\n",
       "      <td>110.3697</td>\n",
       "      <td>-45.5677</td>\n",
       "      <td>282.725474</td>\n",
       "    </tr>\n",
       "    <tr>\n",
       "      <th>12</th>\n",
       "      <td>1918.01</td>\n",
       "      <td>5339389268061191040</td>\n",
       "      <td>290.2177</td>\n",
       "      <td>1.3701</td>\n",
       "      <td>2.118</td>\n",
       "      <td>0.020</td>\n",
       "      <td>-10.247</td>\n",
       "      <td>0.023</td>\n",
       "      <td>4.410</td>\n",
       "      <td>0.019</td>\n",
       "      <td>1.45</td>\n",
       "      <td>12.673</td>\n",
       "      <td>0.744</td>\n",
       "      <td>11</td>\n",
       "      <td>NGC_3532</td>\n",
       "      <td>167.5827</td>\n",
       "      <td>-58.9830</td>\n",
       "      <td>472.143532</td>\n",
       "    </tr>\n",
       "    <tr>\n",
       "      <th>13</th>\n",
       "      <td>1986.01</td>\n",
       "      <td>5312673922948554880</td>\n",
       "      <td>275.1485</td>\n",
       "      <td>0.2663</td>\n",
       "      <td>2.071</td>\n",
       "      <td>0.213</td>\n",
       "      <td>-15.133</td>\n",
       "      <td>0.230</td>\n",
       "      <td>6.431</td>\n",
       "      <td>0.241</td>\n",
       "      <td>6.77</td>\n",
       "      <td>8.094</td>\n",
       "      <td>-0.049</td>\n",
       "      <td>1</td>\n",
       "      <td>Trumpler_10</td>\n",
       "      <td>144.0237</td>\n",
       "      <td>-51.7446</td>\n",
       "      <td>482.858522</td>\n",
       "    </tr>\n",
       "    <tr>\n",
       "      <th>14</th>\n",
       "      <td>496.01</td>\n",
       "      <td>3064530810048196352</td>\n",
       "      <td>227.7174</td>\n",
       "      <td>15.0984</td>\n",
       "      <td>1.317</td>\n",
       "      <td>0.016</td>\n",
       "      <td>-1.035</td>\n",
       "      <td>0.015</td>\n",
       "      <td>0.925</td>\n",
       "      <td>0.013</td>\n",
       "      <td>0.98</td>\n",
       "      <td>12.613</td>\n",
       "      <td>0.554</td>\n",
       "      <td>11</td>\n",
       "      <td>NGC_2548</td>\n",
       "      <td>123.0977</td>\n",
       "      <td>-5.7686</td>\n",
       "      <td>759.301443</td>\n",
       "    </tr>\n",
       "    <tr>\n",
       "      <th>15</th>\n",
       "      <td>2311.01</td>\n",
       "      <td>6818415476100569088</td>\n",
       "      <td>32.0546</td>\n",
       "      <td>-46.9571</td>\n",
       "      <td>3.633</td>\n",
       "      <td>0.083</td>\n",
       "      <td>13.178</td>\n",
       "      <td>0.089</td>\n",
       "      <td>1.331</td>\n",
       "      <td>0.071</td>\n",
       "      <td>4.60</td>\n",
       "      <td>12.612</td>\n",
       "      <td>1.003</td>\n",
       "      <td>3</td>\n",
       "      <td>CWNU_1012</td>\n",
       "      <td>326.2728</td>\n",
       "      <td>-20.0325</td>\n",
       "      <td>275.254611</td>\n",
       "    </tr>\n",
       "    <tr>\n",
       "      <th>16</th>\n",
       "      <td>2538.01</td>\n",
       "      <td>3007460040533835008</td>\n",
       "      <td>216.0173</td>\n",
       "      <td>-10.0897</td>\n",
       "      <td>1.087</td>\n",
       "      <td>0.026</td>\n",
       "      <td>0.389</td>\n",
       "      <td>0.023</td>\n",
       "      <td>-3.674</td>\n",
       "      <td>0.025</td>\n",
       "      <td>1.53</td>\n",
       "      <td>10.820</td>\n",
       "      <td>0.447</td>\n",
       "      <td>11</td>\n",
       "      <td>NGC_2215</td>\n",
       "      <td>95.2263</td>\n",
       "      <td>-7.2989</td>\n",
       "      <td>919.963201</td>\n",
       "    </tr>\n",
       "    <tr>\n",
       "      <th>17</th>\n",
       "      <td>2595.01</td>\n",
       "      <td>3345187475230297856</td>\n",
       "      <td>194.9347</td>\n",
       "      <td>-3.3382</td>\n",
       "      <td>4.694</td>\n",
       "      <td>0.019</td>\n",
       "      <td>6.422</td>\n",
       "      <td>0.022</td>\n",
       "      <td>-16.095</td>\n",
       "      <td>0.015</td>\n",
       "      <td>0.83</td>\n",
       "      <td>11.118</td>\n",
       "      <td>0.754</td>\n",
       "      <td>4</td>\n",
       "      <td>Theia_116</td>\n",
       "      <td>91.4000</td>\n",
       "      <td>14.3569</td>\n",
       "      <td>213.037921</td>\n",
       "    </tr>\n",
       "    <tr>\n",
       "      <th>18</th>\n",
       "      <td>2796.01</td>\n",
       "      <td>3222453935725951488</td>\n",
       "      <td>203.3339</td>\n",
       "      <td>-16.1572</td>\n",
       "      <td>2.863</td>\n",
       "      <td>0.015</td>\n",
       "      <td>2.537</td>\n",
       "      <td>0.018</td>\n",
       "      <td>2.635</td>\n",
       "      <td>0.012</td>\n",
       "      <td>1.01</td>\n",
       "      <td>12.353</td>\n",
       "      <td>0.843</td>\n",
       "      <td>6</td>\n",
       "      <td>LP_2371</td>\n",
       "      <td>84.1527</td>\n",
       "      <td>0.8963</td>\n",
       "      <td>349.283968</td>\n",
       "    </tr>\n",
       "    <tr>\n",
       "      <th>19</th>\n",
       "      <td>3561.01</td>\n",
       "      <td>2072431332214824576</td>\n",
       "      <td>74.1581</td>\n",
       "      <td>4.5788</td>\n",
       "      <td>0.887</td>\n",
       "      <td>0.012</td>\n",
       "      <td>-3.046</td>\n",
       "      <td>0.012</td>\n",
       "      <td>-7.877</td>\n",
       "      <td>0.013</td>\n",
       "      <td>1.08</td>\n",
       "      <td>13.109</td>\n",
       "      <td>0.461</td>\n",
       "      <td>11</td>\n",
       "      <td>UBC_582</td>\n",
       "      <td>299.8099</td>\n",
       "      <td>38.3937</td>\n",
       "      <td>1127.395716</td>\n",
       "    </tr>\n",
       "    <tr>\n",
       "      <th>20</th>\n",
       "      <td>3602.01</td>\n",
       "      <td>2174318981622547712</td>\n",
       "      <td>97.8935</td>\n",
       "      <td>1.0885</td>\n",
       "      <td>2.250</td>\n",
       "      <td>0.009</td>\n",
       "      <td>3.982</td>\n",
       "      <td>0.011</td>\n",
       "      <td>0.221</td>\n",
       "      <td>0.011</td>\n",
       "      <td>0.85</td>\n",
       "      <td>12.149</td>\n",
       "      <td>0.775</td>\n",
       "      <td>6</td>\n",
       "      <td>Theia_178</td>\n",
       "      <td>325.9721</td>\n",
       "      <td>54.5743</td>\n",
       "      <td>444.444444</td>\n",
       "    </tr>\n",
       "    <tr>\n",
       "      <th>21</th>\n",
       "      <td>3958.01</td>\n",
       "      <td>2015357191117217920</td>\n",
       "      <td>112.7221</td>\n",
       "      <td>2.2311</td>\n",
       "      <td>2.281</td>\n",
       "      <td>0.010</td>\n",
       "      <td>5.846</td>\n",
       "      <td>0.011</td>\n",
       "      <td>-1.584</td>\n",
       "      <td>0.010</td>\n",
       "      <td>0.78</td>\n",
       "      <td>11.969</td>\n",
       "      <td>0.771</td>\n",
       "      <td>5</td>\n",
       "      <td>ASCC_127</td>\n",
       "      <td>349.6859</td>\n",
       "      <td>63.2505</td>\n",
       "      <td>438.404209</td>\n",
       "    </tr>\n",
       "    <tr>\n",
       "      <th>22</th>\n",
       "      <td>4257.01</td>\n",
       "      <td>5423774689545278592</td>\n",
       "      <td>268.0235</td>\n",
       "      <td>2.5756</td>\n",
       "      <td>2.455</td>\n",
       "      <td>0.010</td>\n",
       "      <td>-10.563</td>\n",
       "      <td>0.011</td>\n",
       "      <td>7.362</td>\n",
       "      <td>0.011</td>\n",
       "      <td>0.87</td>\n",
       "      <td>12.047</td>\n",
       "      <td>0.657</td>\n",
       "      <td>1</td>\n",
       "      <td>Trumpler_10</td>\n",
       "      <td>138.7411</td>\n",
       "      <td>-45.1229</td>\n",
       "      <td>407.331976</td>\n",
       "    </tr>\n",
       "    <tr>\n",
       "      <th>23</th>\n",
       "      <td>4510.01</td>\n",
       "      <td>5295126507633392128</td>\n",
       "      <td>270.9243</td>\n",
       "      <td>-16.6665</td>\n",
       "      <td>2.722</td>\n",
       "      <td>0.010</td>\n",
       "      <td>-4.748</td>\n",
       "      <td>0.015</td>\n",
       "      <td>7.612</td>\n",
       "      <td>0.013</td>\n",
       "      <td>0.89</td>\n",
       "      <td>10.549</td>\n",
       "      <td>0.376</td>\n",
       "      <td>11</td>\n",
       "      <td>UPK_540</td>\n",
       "      <td>115.6391</td>\n",
       "      <td>-58.6232</td>\n",
       "      <td>367.376929</td>\n",
       "    </tr>\n",
       "    <tr>\n",
       "      <th>24</th>\n",
       "      <td>4622.01</td>\n",
       "      <td>170033017904053376</td>\n",
       "      <td>163.5336</td>\n",
       "      <td>-15.8644</td>\n",
       "      <td>3.328</td>\n",
       "      <td>0.112</td>\n",
       "      <td>4.026</td>\n",
       "      <td>0.125</td>\n",
       "      <td>-6.155</td>\n",
       "      <td>0.088</td>\n",
       "      <td>1.00</td>\n",
       "      <td>17.622</td>\n",
       "      <td>3.463</td>\n",
       "      <td>6</td>\n",
       "      <td>UBC_31</td>\n",
       "      <td>60.2266</td>\n",
       "      <td>31.6911</td>\n",
       "      <td>300.480769</td>\n",
       "    </tr>\n",
       "    <tr>\n",
       "      <th>25</th>\n",
       "      <td>4668.01</td>\n",
       "      <td>4860787013426321664</td>\n",
       "      <td>236.3762</td>\n",
       "      <td>-55.2528</td>\n",
       "      <td>9.434</td>\n",
       "      <td>0.024</td>\n",
       "      <td>35.719</td>\n",
       "      <td>0.021</td>\n",
       "      <td>-4.416</td>\n",
       "      <td>0.028</td>\n",
       "      <td>1.06</td>\n",
       "      <td>15.163</td>\n",
       "      <td>2.934</td>\n",
       "      <td>11</td>\n",
       "      <td>Alessi_13</td>\n",
       "      <td>52.6473</td>\n",
       "      <td>-35.2037</td>\n",
       "      <td>105.999576</td>\n",
       "    </tr>\n",
       "    <tr>\n",
       "      <th>26</th>\n",
       "      <td>5071.01</td>\n",
       "      <td>664337230586013312</td>\n",
       "      <td>205.2399</td>\n",
       "      <td>32.1954</td>\n",
       "      <td>5.472</td>\n",
       "      <td>0.024</td>\n",
       "      <td>-35.967</td>\n",
       "      <td>0.024</td>\n",
       "      <td>-12.986</td>\n",
       "      <td>0.016</td>\n",
       "      <td>0.95</td>\n",
       "      <td>10.410</td>\n",
       "      <td>0.739</td>\n",
       "      <td>11</td>\n",
       "      <td>NGC_2632</td>\n",
       "      <td>129.6010</td>\n",
       "      <td>20.1060</td>\n",
       "      <td>182.748538</td>\n",
       "    </tr>\n",
       "    <tr>\n",
       "      <th>27</th>\n",
       "      <td>5090.01</td>\n",
       "      <td>661229701489213824</td>\n",
       "      <td>206.4200</td>\n",
       "      <td>32.8953</td>\n",
       "      <td>5.349</td>\n",
       "      <td>0.094</td>\n",
       "      <td>-36.639</td>\n",
       "      <td>0.107</td>\n",
       "      <td>-13.133</td>\n",
       "      <td>0.069</td>\n",
       "      <td>1.00</td>\n",
       "      <td>17.378</td>\n",
       "      <td>2.971</td>\n",
       "      <td>11</td>\n",
       "      <td>NGC_2632</td>\n",
       "      <td>130.6642</td>\n",
       "      <td>19.4144</td>\n",
       "      <td>186.950832</td>\n",
       "    </tr>\n",
       "    <tr>\n",
       "      <th>28</th>\n",
       "      <td>5095.01</td>\n",
       "      <td>3311804515502788352</td>\n",
       "      <td>178.2557</td>\n",
       "      <td>-25.2927</td>\n",
       "      <td>22.357</td>\n",
       "      <td>0.031</td>\n",
       "      <td>122.450</td>\n",
       "      <td>0.038</td>\n",
       "      <td>-18.603</td>\n",
       "      <td>0.026</td>\n",
       "      <td>1.30</td>\n",
       "      <td>14.355</td>\n",
       "      <td>2.961</td>\n",
       "      <td>9</td>\n",
       "      <td>Melotte_25</td>\n",
       "      <td>63.2739</td>\n",
       "      <td>15.2477</td>\n",
       "      <td>44.728720</td>\n",
       "    </tr>\n",
       "    <tr>\n",
       "      <th>29</th>\n",
       "      <td>5358.01</td>\n",
       "      <td>119520079331712896</td>\n",
       "      <td>161.5488</td>\n",
       "      <td>-21.6640</td>\n",
       "      <td>7.236</td>\n",
       "      <td>0.015</td>\n",
       "      <td>19.719</td>\n",
       "      <td>0.016</td>\n",
       "      <td>-45.515</td>\n",
       "      <td>0.012</td>\n",
       "      <td>1.06</td>\n",
       "      <td>12.182</td>\n",
       "      <td>1.295</td>\n",
       "      <td>11</td>\n",
       "      <td>Melotte_22</td>\n",
       "      <td>54.1839</td>\n",
       "      <td>28.5503</td>\n",
       "      <td>138.197899</td>\n",
       "    </tr>\n",
       "  </tbody>\n",
       "</table>\n",
       "</div>"
      ],
      "text/plain": [
       "        TOI            source_id      GLON     GLAT  parallax  e_parallax  \\\n",
       "0    580.01  5519619186857962112  262.0282  -6.6072     2.945       0.016   \n",
       "1    581.01  5525188767305211904  261.2098   0.3002     2.338       0.022   \n",
       "2    583.01  5537419940819841664  255.0039  -6.2867     2.917       0.016   \n",
       "3    681.01  5290968085934209152  273.1234 -16.4111     2.442       0.013   \n",
       "4   1014.01  5579734916388215808  244.3563 -14.3257     4.547       0.030   \n",
       "5   1162.01  2068399423045976320   79.0258   2.7193     2.943       0.017   \n",
       "6   1191.01  2094015466995434624   67.6815  15.7104     2.819       0.016   \n",
       "7   1227.01  5842480953772012928  301.0718  -9.6682     9.905       0.024   \n",
       "8   1480.01  2206061061984055168  106.1108   6.0666     1.115       0.220   \n",
       "9   1497.01  2014335027560174976  108.5557   0.3288     2.396       0.016   \n",
       "10  1602.01   338236787755719936  142.0434 -18.3496     4.770       0.015   \n",
       "11  1881.01  5510676828723793920  257.2293 -14.1330     3.537       0.013   \n",
       "12  1918.01  5339389268061191040  290.2177   1.3701     2.118       0.020   \n",
       "13  1986.01  5312673922948554880  275.1485   0.2663     2.071       0.213   \n",
       "14   496.01  3064530810048196352  227.7174  15.0984     1.317       0.016   \n",
       "15  2311.01  6818415476100569088   32.0546 -46.9571     3.633       0.083   \n",
       "16  2538.01  3007460040533835008  216.0173 -10.0897     1.087       0.026   \n",
       "17  2595.01  3345187475230297856  194.9347  -3.3382     4.694       0.019   \n",
       "18  2796.01  3222453935725951488  203.3339 -16.1572     2.863       0.015   \n",
       "19  3561.01  2072431332214824576   74.1581   4.5788     0.887       0.012   \n",
       "20  3602.01  2174318981622547712   97.8935   1.0885     2.250       0.009   \n",
       "21  3958.01  2015357191117217920  112.7221   2.2311     2.281       0.010   \n",
       "22  4257.01  5423774689545278592  268.0235   2.5756     2.455       0.010   \n",
       "23  4510.01  5295126507633392128  270.9243 -16.6665     2.722       0.010   \n",
       "24  4622.01   170033017904053376  163.5336 -15.8644     3.328       0.112   \n",
       "25  4668.01  4860787013426321664  236.3762 -55.2528     9.434       0.024   \n",
       "26  5071.01   664337230586013312  205.2399  32.1954     5.472       0.024   \n",
       "27  5090.01   661229701489213824  206.4200  32.8953     5.349       0.094   \n",
       "28  5095.01  3311804515502788352  178.2557 -25.2927    22.357       0.031   \n",
       "29  5358.01   119520079331712896  161.5488 -21.6640     7.236       0.015   \n",
       "\n",
       "       pmra  e_pmra   pmdec  e_pmdec   RUWE    Gmag  BP-RP  nre       Cluster  \\\n",
       "0    -6.241   0.017  10.025    0.017   0.92   9.582  0.131    9       Pozzo_1   \n",
       "1   -11.616   0.023   7.173    0.024   1.07   9.484 -0.021   10   Trumpler_10   \n",
       "2   -11.389   0.016   4.121    0.019   0.96   9.388  0.090    7     NGC_2451B   \n",
       "3    -3.994   0.017  11.326    0.017   0.91  10.907  0.434    7      NGC_2516   \n",
       "4   -12.915   0.029   9.808    0.036   1.02   7.599 -0.059    4     CWNU_1013   \n",
       "5     5.439   0.019   1.757    0.019   1.16   9.764  0.220    4     Roslund_6   \n",
       "6     1.236   0.020  -2.385    0.018   1.42  10.089  0.561   10  Stephenson_1   \n",
       "7   -40.294   0.026 -10.808    0.030   1.06  15.218  3.290    9     CWNU_1136   \n",
       "8    -1.708   0.261  -1.486    0.266  14.06   8.858  0.279   10     CWNU_1115   \n",
       "9     4.378   0.017  -2.399    0.017   1.00  10.090  0.289    9         RSG_7   \n",
       "10   18.060   0.016 -25.257    0.015   0.93  10.828  0.728    3       UPK_303   \n",
       "11   -9.754   0.015  11.495    0.017   1.25  10.584  0.580   11      Alessi_3   \n",
       "12  -10.247   0.023   4.410    0.019   1.45  12.673  0.744   11      NGC_3532   \n",
       "13  -15.133   0.230   6.431    0.241   6.77   8.094 -0.049    1   Trumpler_10   \n",
       "14   -1.035   0.015   0.925    0.013   0.98  12.613  0.554   11      NGC_2548   \n",
       "15   13.178   0.089   1.331    0.071   4.60  12.612  1.003    3     CWNU_1012   \n",
       "16    0.389   0.023  -3.674    0.025   1.53  10.820  0.447   11      NGC_2215   \n",
       "17    6.422   0.022 -16.095    0.015   0.83  11.118  0.754    4     Theia_116   \n",
       "18    2.537   0.018   2.635    0.012   1.01  12.353  0.843    6       LP_2371   \n",
       "19   -3.046   0.012  -7.877    0.013   1.08  13.109  0.461   11       UBC_582   \n",
       "20    3.982   0.011   0.221    0.011   0.85  12.149  0.775    6     Theia_178   \n",
       "21    5.846   0.011  -1.584    0.010   0.78  11.969  0.771    5      ASCC_127   \n",
       "22  -10.563   0.011   7.362    0.011   0.87  12.047  0.657    1   Trumpler_10   \n",
       "23   -4.748   0.015   7.612    0.013   0.89  10.549  0.376   11       UPK_540   \n",
       "24    4.026   0.125  -6.155    0.088   1.00  17.622  3.463    6        UBC_31   \n",
       "25   35.719   0.021  -4.416    0.028   1.06  15.163  2.934   11     Alessi_13   \n",
       "26  -35.967   0.024 -12.986    0.016   0.95  10.410  0.739   11      NGC_2632   \n",
       "27  -36.639   0.107 -13.133    0.069   1.00  17.378  2.971   11      NGC_2632   \n",
       "28  122.450   0.038 -18.603    0.026   1.30  14.355  2.961    9    Melotte_25   \n",
       "29   19.719   0.016 -45.515    0.012   1.06  12.182  1.295   11    Melotte_22   \n",
       "\n",
       "          ra      dec     distance  \n",
       "0   123.1083 -46.1091   339.558574  \n",
       "1   130.2614 -41.4428   427.715997  \n",
       "2   118.4764 -39.9930   342.817964  \n",
       "3   117.8949 -60.4124   409.500410  \n",
       "4   103.5616 -34.2228   219.925225  \n",
       "5   305.2894  41.4623   339.789331  \n",
       "6   283.5266  37.7200   354.735722  \n",
       "7   186.7673 -72.4519   100.959112  \n",
       "8   332.6137  63.5505   896.860987  \n",
       "9   343.2331  59.8510   417.362270  \n",
       "10   37.1324  40.8913   209.643606  \n",
       "11  110.3697 -45.5677   282.725474  \n",
       "12  167.5827 -58.9830   472.143532  \n",
       "13  144.0237 -51.7446   482.858522  \n",
       "14  123.0977  -5.7686   759.301443  \n",
       "15  326.2728 -20.0325   275.254611  \n",
       "16   95.2263  -7.2989   919.963201  \n",
       "17   91.4000  14.3569   213.037921  \n",
       "18   84.1527   0.8963   349.283968  \n",
       "19  299.8099  38.3937  1127.395716  \n",
       "20  325.9721  54.5743   444.444444  \n",
       "21  349.6859  63.2505   438.404209  \n",
       "22  138.7411 -45.1229   407.331976  \n",
       "23  115.6391 -58.6232   367.376929  \n",
       "24   60.2266  31.6911   300.480769  \n",
       "25   52.6473 -35.2037   105.999576  \n",
       "26  129.6010  20.1060   182.748538  \n",
       "27  130.6642  19.4144   186.950832  \n",
       "28   63.2739  15.2477    44.728720  \n",
       "29   54.1839  28.5503   138.197899  "
      ]
     },
     "execution_count": 16,
     "metadata": {},
     "output_type": "execute_result"
    }
   ],
   "source": [
    "short_list = short_list.loc[short_list.Cluster.dropna().index] \n",
    "short_list"
   ]
  },
  {
   "cell_type": "code",
   "execution_count": 17,
   "metadata": {
    "ExecuteTime": {
     "end_time": "2022-09-27T06:19:24.286617Z",
     "start_time": "2022-09-27T06:19:24.274929Z"
    }
   },
   "outputs": [],
   "source": [
    "toi_short_list = tois[tois.TOI.isin(short_list.TOI.tolist())]"
   ]
  },
  {
   "cell_type": "code",
   "execution_count": 18,
   "metadata": {
    "ExecuteTime": {
     "end_time": "2022-09-27T06:19:24.590109Z",
     "start_time": "2022-09-27T06:19:24.576023Z"
    }
   },
   "outputs": [],
   "source": [
    "short_list = pd.merge(left=short_list,\n",
    "                      right=toi_short_list, \n",
    "                     on='TOI')"
   ]
  },
  {
   "cell_type": "code",
   "execution_count": 19,
   "metadata": {
    "ExecuteTime": {
     "end_time": "2022-09-27T06:19:25.705284Z",
     "start_time": "2022-09-27T06:19:25.684961Z"
    }
   },
   "outputs": [],
   "source": [
    "short_list[['TOI','RA','Dec','Cluster','Comments']].to_csv('TOI_in_cluster_candidates.csv')"
   ]
  },
  {
   "cell_type": "raw",
   "metadata": {},
   "source": [
    "for toi in short_list.TOI:\n",
    "    t = cr.Target(toiid=toi,verbose=False)\n",
    "    _ = t.query_tic_catalog(return_nearest_xmatch=True)\n",
    "    print(toi, t.tic_params['ID'])"
   ]
  },
  {
   "cell_type": "code",
   "execution_count": 20,
   "metadata": {
    "ExecuteTime": {
     "end_time": "2022-09-27T06:19:28.014900Z",
     "start_time": "2022-09-27T06:19:27.994634Z"
    }
   },
   "outputs": [],
   "source": [
    "import astropy.units as u\n",
    "from astropy.coordinates import SkyCoord\n",
    "\n",
    "coords = SkyCoord(ra=short_list['RA'],\n",
    "         dec=short_list['Dec'], \n",
    "         unit=('hourangle','degree'))"
   ]
  },
  {
   "cell_type": "code",
   "execution_count": 21,
   "metadata": {
    "ExecuteTime": {
     "end_time": "2022-09-27T06:19:29.713394Z",
     "start_time": "2022-09-27T06:19:29.686937Z"
    }
   },
   "outputs": [
    {
     "data": {
      "text/html": [
       "<div>\n",
       "<style scoped>\n",
       "    .dataframe tbody tr th:only-of-type {\n",
       "        vertical-align: middle;\n",
       "    }\n",
       "\n",
       "    .dataframe tbody tr th {\n",
       "        vertical-align: top;\n",
       "    }\n",
       "\n",
       "    .dataframe thead th {\n",
       "        text-align: right;\n",
       "    }\n",
       "</style>\n",
       "<table border=\"1\" class=\"dataframe\">\n",
       "  <thead>\n",
       "    <tr style=\"text-align: right;\">\n",
       "      <th></th>\n",
       "      <th>TOI</th>\n",
       "      <th>RA</th>\n",
       "      <th>Dec</th>\n",
       "      <th>Cluster</th>\n",
       "      <th>Comments</th>\n",
       "    </tr>\n",
       "  </thead>\n",
       "  <tbody>\n",
       "    <tr>\n",
       "      <th>0</th>\n",
       "      <td>580.01</td>\n",
       "      <td>08:12:25.99</td>\n",
       "      <td>-46:06:32.9</td>\n",
       "      <td>Pozzo_1</td>\n",
       "      <td>possible centroid offset towards TIC 81419528;...</td>\n",
       "    </tr>\n",
       "    <tr>\n",
       "      <th>1</th>\n",
       "      <td>581.01</td>\n",
       "      <td>08:41:02.75</td>\n",
       "      <td>-41:26:34.06</td>\n",
       "      <td>Trumpler_10</td>\n",
       "      <td>NaN</td>\n",
       "    </tr>\n",
       "    <tr>\n",
       "      <th>2</th>\n",
       "      <td>583.01</td>\n",
       "      <td>07:53:54.33</td>\n",
       "      <td>-39:59:34.8</td>\n",
       "      <td>NGC_2451B</td>\n",
       "      <td>NaN</td>\n",
       "    </tr>\n",
       "    <tr>\n",
       "      <th>3</th>\n",
       "      <td>681.01</td>\n",
       "      <td>07:51:34.79</td>\n",
       "      <td>-60:24:44.6</td>\n",
       "      <td>NGC_2516</td>\n",
       "      <td>Likely EB;  likely too large to be a planet at...</td>\n",
       "    </tr>\n",
       "    <tr>\n",
       "      <th>4</th>\n",
       "      <td>1014.01</td>\n",
       "      <td>06:54:14.78</td>\n",
       "      <td>-34:13:22.15</td>\n",
       "      <td>CWNU_1013</td>\n",
       "      <td>phantom TIC; real stars are TIC 772008799 and ...</td>\n",
       "    </tr>\n",
       "    <tr>\n",
       "      <th>5</th>\n",
       "      <td>1162.01</td>\n",
       "      <td>20:21:09.44</td>\n",
       "      <td>41:27:44.52</td>\n",
       "      <td>Roslund_6</td>\n",
       "      <td>Matched to 1969293164</td>\n",
       "    </tr>\n",
       "    <tr>\n",
       "      <th>6</th>\n",
       "      <td>1227.01</td>\n",
       "      <td>12:27:04.17</td>\n",
       "      <td>-72:27:06.66</td>\n",
       "      <td>CWNU_1136</td>\n",
       "      <td>now have stellar radius</td>\n",
       "    </tr>\n",
       "    <tr>\n",
       "      <th>7</th>\n",
       "      <td>1480.01</td>\n",
       "      <td>22:10:27.27</td>\n",
       "      <td>63:33:01.98</td>\n",
       "      <td>CWNU_1115</td>\n",
       "      <td>Need stellar parameters; transiting object cou...</td>\n",
       "    </tr>\n",
       "    <tr>\n",
       "      <th>8</th>\n",
       "      <td>1602.01</td>\n",
       "      <td>02:28:31.78</td>\n",
       "      <td>40:53:28.51</td>\n",
       "      <td>UPK_303</td>\n",
       "      <td>2 stars in pixel; correlation with stellar var...</td>\n",
       "    </tr>\n",
       "    <tr>\n",
       "      <th>9</th>\n",
       "      <td>1881.01</td>\n",
       "      <td>07:21:28.72</td>\n",
       "      <td>-45:34:03.85</td>\n",
       "      <td>Alessi_3</td>\n",
       "      <td>V-shaped; some odd-even; crowded field; CTOI f...</td>\n",
       "    </tr>\n",
       "    <tr>\n",
       "      <th>10</th>\n",
       "      <td>1986.01</td>\n",
       "      <td>09:36:05.7</td>\n",
       "      <td>-51:44:40.73</td>\n",
       "      <td>Trumpler_10</td>\n",
       "      <td>no stellar radius; variable star; Host type is...</td>\n",
       "    </tr>\n",
       "    <tr>\n",
       "      <th>11</th>\n",
       "      <td>496.01</td>\n",
       "      <td>08:12:23.44</td>\n",
       "      <td>-05:46:07.17</td>\n",
       "      <td>NGC_2548</td>\n",
       "      <td>TFOP APC; previously retired as EBLM per Coal ...</td>\n",
       "    </tr>\n",
       "    <tr>\n",
       "      <th>12</th>\n",
       "      <td>2311.01</td>\n",
       "      <td>21:45:05.46</td>\n",
       "      <td>-20:01:57.05</td>\n",
       "      <td>CWNU_1012</td>\n",
       "      <td>Possible secondary consistent with planetary o...</td>\n",
       "    </tr>\n",
       "    <tr>\n",
       "      <th>13</th>\n",
       "      <td>2538.01</td>\n",
       "      <td>06:20:54.32</td>\n",
       "      <td>-07:17:56.19</td>\n",
       "      <td>NGC_2215</td>\n",
       "      <td>slight centroid offset; crowded</td>\n",
       "    </tr>\n",
       "    <tr>\n",
       "      <th>14</th>\n",
       "      <td>2595.01</td>\n",
       "      <td>06:05:35.99</td>\n",
       "      <td>14:21:24.89</td>\n",
       "      <td>Theia_116</td>\n",
       "      <td>possible centroid offset</td>\n",
       "    </tr>\n",
       "    <tr>\n",
       "      <th>15</th>\n",
       "      <td>2796.01</td>\n",
       "      <td>05:36:36.65</td>\n",
       "      <td>00:53:46.6</td>\n",
       "      <td>LP_2371</td>\n",
       "      <td>V-shaped; found in faint-star QLP search; CTOI...</td>\n",
       "    </tr>\n",
       "    <tr>\n",
       "      <th>16</th>\n",
       "      <td>3602.01</td>\n",
       "      <td>21:43:53.31</td>\n",
       "      <td>54:34:27.37</td>\n",
       "      <td>Theia_178</td>\n",
       "      <td>found in faint-star QLP search; CTOI from Olms...</td>\n",
       "    </tr>\n",
       "    <tr>\n",
       "      <th>17</th>\n",
       "      <td>3958.01</td>\n",
       "      <td>23:18:44.63</td>\n",
       "      <td>63:15:01.79</td>\n",
       "      <td>ASCC_127</td>\n",
       "      <td>found in faint-star QLP search; CTOI from Olms...</td>\n",
       "    </tr>\n",
       "    <tr>\n",
       "      <th>18</th>\n",
       "      <td>4257.01</td>\n",
       "      <td>09:14:57.86</td>\n",
       "      <td>-45:07:22.69</td>\n",
       "      <td>Trumpler_10</td>\n",
       "      <td>found in faint-star QLP search</td>\n",
       "    </tr>\n",
       "    <tr>\n",
       "      <th>19</th>\n",
       "      <td>4510.01</td>\n",
       "      <td>07:42:33.37</td>\n",
       "      <td>-58:37:23.78</td>\n",
       "      <td>UPK_540</td>\n",
       "      <td>weak signal; just 2 transits</td>\n",
       "    </tr>\n",
       "    <tr>\n",
       "      <th>20</th>\n",
       "      <td>4622.01</td>\n",
       "      <td>04:00:54.37</td>\n",
       "      <td>31:41:27.84</td>\n",
       "      <td>UBC_31</td>\n",
       "      <td>likely faint M dwarf host; low SNR</td>\n",
       "    </tr>\n",
       "    <tr>\n",
       "      <th>21</th>\n",
       "      <td>4668.01</td>\n",
       "      <td>03:30:35.36</td>\n",
       "      <td>-35:12:13.37</td>\n",
       "      <td>Alessi_13</td>\n",
       "      <td>V-shaped; found in faint-star QLP search</td>\n",
       "    </tr>\n",
       "    <tr>\n",
       "      <th>22</th>\n",
       "      <td>5071.01</td>\n",
       "      <td>08:38:24.26</td>\n",
       "      <td>20:06:21.63</td>\n",
       "      <td>NGC_2632</td>\n",
       "      <td>K2-100 b</td>\n",
       "    </tr>\n",
       "    <tr>\n",
       "      <th>23</th>\n",
       "      <td>5090.01</td>\n",
       "      <td>08:42:39.4</td>\n",
       "      <td>19:24:51.7</td>\n",
       "      <td>NGC_2632</td>\n",
       "      <td>AD 3116 b; 54 Mjup BD (Gillen+2017)</td>\n",
       "    </tr>\n",
       "    <tr>\n",
       "      <th>24</th>\n",
       "      <td>5095.01</td>\n",
       "      <td>04:13:05.74</td>\n",
       "      <td>15:14:51.73</td>\n",
       "      <td>Melotte_25</td>\n",
       "      <td>K2-25 b</td>\n",
       "    </tr>\n",
       "    <tr>\n",
       "      <th>25</th>\n",
       "      <td>5358.01</td>\n",
       "      <td>03:36:44.14</td>\n",
       "      <td>28:33:00.97</td>\n",
       "      <td>Melotte_22</td>\n",
       "      <td>found in faint-star QLP search; potential L1 c...</td>\n",
       "    </tr>\n",
       "  </tbody>\n",
       "</table>\n",
       "</div>"
      ],
      "text/plain": [
       "        TOI           RA           Dec      Cluster  \\\n",
       "0    580.01  08:12:25.99   -46:06:32.9      Pozzo_1   \n",
       "1    581.01  08:41:02.75  -41:26:34.06  Trumpler_10   \n",
       "2    583.01  07:53:54.33   -39:59:34.8    NGC_2451B   \n",
       "3    681.01  07:51:34.79   -60:24:44.6     NGC_2516   \n",
       "4   1014.01  06:54:14.78  -34:13:22.15    CWNU_1013   \n",
       "5   1162.01  20:21:09.44   41:27:44.52    Roslund_6   \n",
       "6   1227.01  12:27:04.17  -72:27:06.66    CWNU_1136   \n",
       "7   1480.01  22:10:27.27   63:33:01.98    CWNU_1115   \n",
       "8   1602.01  02:28:31.78   40:53:28.51      UPK_303   \n",
       "9   1881.01  07:21:28.72  -45:34:03.85     Alessi_3   \n",
       "10  1986.01   09:36:05.7  -51:44:40.73  Trumpler_10   \n",
       "11   496.01  08:12:23.44  -05:46:07.17     NGC_2548   \n",
       "12  2311.01  21:45:05.46  -20:01:57.05    CWNU_1012   \n",
       "13  2538.01  06:20:54.32  -07:17:56.19     NGC_2215   \n",
       "14  2595.01  06:05:35.99   14:21:24.89    Theia_116   \n",
       "15  2796.01  05:36:36.65    00:53:46.6      LP_2371   \n",
       "16  3602.01  21:43:53.31   54:34:27.37    Theia_178   \n",
       "17  3958.01  23:18:44.63   63:15:01.79     ASCC_127   \n",
       "18  4257.01  09:14:57.86  -45:07:22.69  Trumpler_10   \n",
       "19  4510.01  07:42:33.37  -58:37:23.78      UPK_540   \n",
       "20  4622.01  04:00:54.37   31:41:27.84       UBC_31   \n",
       "21  4668.01  03:30:35.36  -35:12:13.37    Alessi_13   \n",
       "22  5071.01  08:38:24.26   20:06:21.63     NGC_2632   \n",
       "23  5090.01   08:42:39.4    19:24:51.7     NGC_2632   \n",
       "24  5095.01  04:13:05.74   15:14:51.73   Melotte_25   \n",
       "25  5358.01  03:36:44.14   28:33:00.97   Melotte_22   \n",
       "\n",
       "                                             Comments  \n",
       "0   possible centroid offset towards TIC 81419528;...  \n",
       "1                                                 NaN  \n",
       "2                                                 NaN  \n",
       "3   Likely EB;  likely too large to be a planet at...  \n",
       "4   phantom TIC; real stars are TIC 772008799 and ...  \n",
       "5                               Matched to 1969293164  \n",
       "6                             now have stellar radius  \n",
       "7   Need stellar parameters; transiting object cou...  \n",
       "8   2 stars in pixel; correlation with stellar var...  \n",
       "9   V-shaped; some odd-even; crowded field; CTOI f...  \n",
       "10  no stellar radius; variable star; Host type is...  \n",
       "11  TFOP APC; previously retired as EBLM per Coal ...  \n",
       "12  Possible secondary consistent with planetary o...  \n",
       "13                    slight centroid offset; crowded  \n",
       "14                           possible centroid offset  \n",
       "15  V-shaped; found in faint-star QLP search; CTOI...  \n",
       "16  found in faint-star QLP search; CTOI from Olms...  \n",
       "17  found in faint-star QLP search; CTOI from Olms...  \n",
       "18                     found in faint-star QLP search  \n",
       "19                       weak signal; just 2 transits  \n",
       "20                 likely faint M dwarf host; low SNR  \n",
       "21           V-shaped; found in faint-star QLP search  \n",
       "22                                           K2-100 b  \n",
       "23                AD 3116 b; 54 Mjup BD (Gillen+2017)  \n",
       "24                                            K2-25 b  \n",
       "25  found in faint-star QLP search; potential L1 c...  "
      ]
     },
     "execution_count": 21,
     "metadata": {},
     "output_type": "execute_result"
    }
   ],
   "source": [
    "#observable with MuSCATs\n",
    "short_list[['TOI','RA','Dec','Cluster','Comments']].reset_index(drop=True)"
   ]
  },
  {
   "cell_type": "code",
   "execution_count": 22,
   "metadata": {
    "ExecuteTime": {
     "end_time": "2022-09-27T06:20:01.219481Z",
     "start_time": "2022-09-27T06:20:01.196041Z"
    }
   },
   "outputs": [
    {
     "data": {
      "text/html": [
       "<div>\n",
       "<style scoped>\n",
       "    .dataframe tbody tr th:only-of-type {\n",
       "        vertical-align: middle;\n",
       "    }\n",
       "\n",
       "    .dataframe tbody tr th {\n",
       "        vertical-align: top;\n",
       "    }\n",
       "\n",
       "    .dataframe thead th {\n",
       "        text-align: right;\n",
       "    }\n",
       "</style>\n",
       "<table border=\"1\" class=\"dataframe\">\n",
       "  <thead>\n",
       "    <tr style=\"text-align: right;\">\n",
       "      <th></th>\n",
       "      <th>TOI</th>\n",
       "      <th>RA</th>\n",
       "      <th>Dec</th>\n",
       "      <th>Cluster</th>\n",
       "      <th>Comments</th>\n",
       "    </tr>\n",
       "  </thead>\n",
       "  <tbody>\n",
       "    <tr>\n",
       "      <th>0</th>\n",
       "      <td>1162.01</td>\n",
       "      <td>20:21:09.44</td>\n",
       "      <td>41:27:44.52</td>\n",
       "      <td>Roslund_6</td>\n",
       "      <td>Matched to 1969293164</td>\n",
       "    </tr>\n",
       "    <tr>\n",
       "      <th>1</th>\n",
       "      <td>1480.01</td>\n",
       "      <td>22:10:27.27</td>\n",
       "      <td>63:33:01.98</td>\n",
       "      <td>CWNU_1115</td>\n",
       "      <td>Need stellar parameters; transiting object cou...</td>\n",
       "    </tr>\n",
       "    <tr>\n",
       "      <th>2</th>\n",
       "      <td>1602.01</td>\n",
       "      <td>02:28:31.78</td>\n",
       "      <td>40:53:28.51</td>\n",
       "      <td>UPK_303</td>\n",
       "      <td>2 stars in pixel; correlation with stellar var...</td>\n",
       "    </tr>\n",
       "    <tr>\n",
       "      <th>3</th>\n",
       "      <td>496.01</td>\n",
       "      <td>08:12:23.44</td>\n",
       "      <td>-05:46:07.17</td>\n",
       "      <td>NGC_2548</td>\n",
       "      <td>TFOP APC; previously retired as EBLM per Coal ...</td>\n",
       "    </tr>\n",
       "    <tr>\n",
       "      <th>4</th>\n",
       "      <td>2538.01</td>\n",
       "      <td>06:20:54.32</td>\n",
       "      <td>-07:17:56.19</td>\n",
       "      <td>NGC_2215</td>\n",
       "      <td>slight centroid offset; crowded</td>\n",
       "    </tr>\n",
       "    <tr>\n",
       "      <th>5</th>\n",
       "      <td>2595.01</td>\n",
       "      <td>06:05:35.99</td>\n",
       "      <td>14:21:24.89</td>\n",
       "      <td>Theia_116</td>\n",
       "      <td>possible centroid offset</td>\n",
       "    </tr>\n",
       "    <tr>\n",
       "      <th>6</th>\n",
       "      <td>2796.01</td>\n",
       "      <td>05:36:36.65</td>\n",
       "      <td>00:53:46.6</td>\n",
       "      <td>LP_2371</td>\n",
       "      <td>V-shaped; found in faint-star QLP search; CTOI...</td>\n",
       "    </tr>\n",
       "    <tr>\n",
       "      <th>7</th>\n",
       "      <td>3602.01</td>\n",
       "      <td>21:43:53.31</td>\n",
       "      <td>54:34:27.37</td>\n",
       "      <td>Theia_178</td>\n",
       "      <td>found in faint-star QLP search; CTOI from Olms...</td>\n",
       "    </tr>\n",
       "    <tr>\n",
       "      <th>8</th>\n",
       "      <td>3958.01</td>\n",
       "      <td>23:18:44.63</td>\n",
       "      <td>63:15:01.79</td>\n",
       "      <td>ASCC_127</td>\n",
       "      <td>found in faint-star QLP search; CTOI from Olms...</td>\n",
       "    </tr>\n",
       "    <tr>\n",
       "      <th>9</th>\n",
       "      <td>4622.01</td>\n",
       "      <td>04:00:54.37</td>\n",
       "      <td>31:41:27.84</td>\n",
       "      <td>UBC_31</td>\n",
       "      <td>likely faint M dwarf host; low SNR</td>\n",
       "    </tr>\n",
       "    <tr>\n",
       "      <th>10</th>\n",
       "      <td>5071.01</td>\n",
       "      <td>08:38:24.26</td>\n",
       "      <td>20:06:21.63</td>\n",
       "      <td>NGC_2632</td>\n",
       "      <td>K2-100 b</td>\n",
       "    </tr>\n",
       "    <tr>\n",
       "      <th>11</th>\n",
       "      <td>5090.01</td>\n",
       "      <td>08:42:39.4</td>\n",
       "      <td>19:24:51.7</td>\n",
       "      <td>NGC_2632</td>\n",
       "      <td>AD 3116 b; 54 Mjup BD (Gillen+2017)</td>\n",
       "    </tr>\n",
       "    <tr>\n",
       "      <th>12</th>\n",
       "      <td>5095.01</td>\n",
       "      <td>04:13:05.74</td>\n",
       "      <td>15:14:51.73</td>\n",
       "      <td>Melotte_25</td>\n",
       "      <td>K2-25 b</td>\n",
       "    </tr>\n",
       "    <tr>\n",
       "      <th>13</th>\n",
       "      <td>5358.01</td>\n",
       "      <td>03:36:44.14</td>\n",
       "      <td>28:33:00.97</td>\n",
       "      <td>Melotte_22</td>\n",
       "      <td>found in faint-star QLP search; potential L1 c...</td>\n",
       "    </tr>\n",
       "  </tbody>\n",
       "</table>\n",
       "</div>"
      ],
      "text/plain": [
       "        TOI           RA           Dec     Cluster  \\\n",
       "0   1162.01  20:21:09.44   41:27:44.52   Roslund_6   \n",
       "1   1480.01  22:10:27.27   63:33:01.98   CWNU_1115   \n",
       "2   1602.01  02:28:31.78   40:53:28.51     UPK_303   \n",
       "3    496.01  08:12:23.44  -05:46:07.17    NGC_2548   \n",
       "4   2538.01  06:20:54.32  -07:17:56.19    NGC_2215   \n",
       "5   2595.01  06:05:35.99   14:21:24.89   Theia_116   \n",
       "6   2796.01  05:36:36.65    00:53:46.6     LP_2371   \n",
       "7   3602.01  21:43:53.31   54:34:27.37   Theia_178   \n",
       "8   3958.01  23:18:44.63   63:15:01.79    ASCC_127   \n",
       "9   4622.01  04:00:54.37   31:41:27.84      UBC_31   \n",
       "10  5071.01  08:38:24.26   20:06:21.63    NGC_2632   \n",
       "11  5090.01   08:42:39.4    19:24:51.7    NGC_2632   \n",
       "12  5095.01  04:13:05.74   15:14:51.73  Melotte_25   \n",
       "13  5358.01  03:36:44.14   28:33:00.97  Melotte_22   \n",
       "\n",
       "                                             Comments  \n",
       "0                               Matched to 1969293164  \n",
       "1   Need stellar parameters; transiting object cou...  \n",
       "2   2 stars in pixel; correlation with stellar var...  \n",
       "3   TFOP APC; previously retired as EBLM per Coal ...  \n",
       "4                     slight centroid offset; crowded  \n",
       "5                            possible centroid offset  \n",
       "6   V-shaped; found in faint-star QLP search; CTOI...  \n",
       "7   found in faint-star QLP search; CTOI from Olms...  \n",
       "8   found in faint-star QLP search; CTOI from Olms...  \n",
       "9                  likely faint M dwarf host; low SNR  \n",
       "10                                           K2-100 b  \n",
       "11                AD 3116 b; 54 Mjup BD (Gillen+2017)  \n",
       "12                                            K2-25 b  \n",
       "13  found in faint-star QLP search; potential L1 c...  "
      ]
     },
     "execution_count": 22,
     "metadata": {},
     "output_type": "execute_result"
    }
   ],
   "source": [
    "#observable with MuSCATs\n",
    "short_list[coords.dec.deg>-20][['TOI','RA','Dec','Cluster','Comments']].reset_index(drop=True)"
   ]
  },
  {
   "cell_type": "code",
   "execution_count": 21,
   "metadata": {},
   "outputs": [],
   "source": [
    "clobber=True\n",
    "\n",
    "if clobber:\n",
    "    short_list.to_csv('./tois_in_cluster.csv')\n",
    "else:\n",
    "    short_list = pd.read_csv('./tois_in_cluster.csv')"
   ]
  },
  {
   "cell_type": "code",
   "execution_count": 19,
   "metadata": {},
   "outputs": [
    {
     "data": {
      "text/plain": [
       "Index(['TOI', 'source_id', 'clusters', 'reference', 'Cluster',\n",
       "       'k13_name_match', 'k13_logt', 'distance', 'TIC ID', 'Previous CTOI',\n",
       "       'Master', 'SG1A', 'SG1B', 'SG2', 'SG3', 'SG4', 'SG5', 'ACWG',\n",
       "       'TESS Disposition', 'TFOPWG Disposition', 'TESS Mag', 'TESS Mag err',\n",
       "       'Planet Name', 'Planet Num', 'Source', 'RA', 'Dec', 'PM RA (mas/yr)',\n",
       "       'PM RA err (mas/yr)', 'PM Dec (mas/yr)', 'PM Dec err (mas/yr)',\n",
       "       'Epoch (BJD)', 'Epoch (BJD) err', 'Period (days)', 'Period (days) err',\n",
       "       'Duration (hours)', 'Duration (hours) err', 'Depth (mmag)',\n",
       "       'Depth (mmag) err', 'Depth (ppm)', 'Depth (ppm) err',\n",
       "       'Planet Radius (R_Earth)', 'Planet Radius (R_Earth) err',\n",
       "       'Planet Insolation (Earth Flux)', 'Planet Equil Temp (K)', 'Planet SNR',\n",
       "       'Stellar Distance (pc)', 'Stellar Distance (pc) err',\n",
       "       'Stellar Eff Temp (K)', 'Stellar Eff Temp (K) err',\n",
       "       'Stellar log(g) (cm/s^2)', 'Stellar log(g) (cm/s^2) err',\n",
       "       'Stellar Radius (R_Sun)', 'Stellar Radius (R_Sun) err',\n",
       "       'Stellar Metallicity', ' Stellar Metallicity err', 'Sectors',\n",
       "       'Date TOI Alerted (UTC)', 'Date TOI Updated (UTC)', 'Date Modified',\n",
       "       'Comments', 'FPP', 'FPP-2m', 'FPP-30m'],\n",
       "      dtype='object')"
      ]
     },
     "execution_count": 19,
     "metadata": {},
     "output_type": "execute_result"
    }
   ],
   "source": [
    "short_list.columns"
   ]
  },
  {
   "cell_type": "code",
   "execution_count": 22,
   "metadata": {},
   "outputs": [
    {
     "data": {
      "text/plain": [
       "<matplotlib.axes._subplots.AxesSubplot at 0x7f97191adb50>"
      ]
     },
     "execution_count": 22,
     "metadata": {},
     "output_type": "execute_result"
    },
    {
     "data": {
      "image/png": "[encoded data removed]",
      "text/plain": [
       "<Figure size 640x480 with 1 Axes>"
      ]
     },
     "metadata": {},
     "output_type": "display_data"
    }
   ],
   "source": [
    "short_list.plot(x='Period (days)', y='Planet Radius (R_Earth)', marker='o', ls='', label='__no_legend__')"
   ]
  },
  {
   "cell_type": "code",
   "execution_count": 23,
   "metadata": {},
   "outputs": [
    {
     "data": {
      "text/html": [
       "<div>\n",
       "<style scoped>\n",
       "    .dataframe tbody tr th:only-of-type {\n",
       "        vertical-align: middle;\n",
       "    }\n",
       "\n",
       "    .dataframe tbody tr th {\n",
       "        vertical-align: top;\n",
       "    }\n",
       "\n",
       "    .dataframe thead th {\n",
       "        text-align: right;\n",
       "    }\n",
       "</style>\n",
       "<table border=\"1\" class=\"dataframe\">\n",
       "  <thead>\n",
       "    <tr style=\"text-align: right;\">\n",
       "      <th></th>\n",
       "      <th>TOI</th>\n",
       "      <th>Period (days)</th>\n",
       "      <th>Planet Radius (R_Earth)</th>\n",
       "    </tr>\n",
       "  </thead>\n",
       "  <tbody>\n",
       "    <tr>\n",
       "      <th>4</th>\n",
       "      <td>1497.01</td>\n",
       "      <td>0.815800</td>\n",
       "      <td>3.690880</td>\n",
       "    </tr>\n",
       "    <tr>\n",
       "      <th>5</th>\n",
       "      <td>1881.01</td>\n",
       "      <td>1.120270</td>\n",
       "      <td>12.845000</td>\n",
       "    </tr>\n",
       "    <tr>\n",
       "      <th>1</th>\n",
       "      <td>581.01</td>\n",
       "      <td>1.388460</td>\n",
       "      <td>4.767270</td>\n",
       "    </tr>\n",
       "    <tr>\n",
       "      <th>0</th>\n",
       "      <td>580.01</td>\n",
       "      <td>1.549590</td>\n",
       "      <td>13.922000</td>\n",
       "    </tr>\n",
       "    <tr>\n",
       "      <th>6</th>\n",
       "      <td>1882.01</td>\n",
       "      <td>3.089910</td>\n",
       "      <td>NaN</td>\n",
       "    </tr>\n",
       "    <tr>\n",
       "      <th>7</th>\n",
       "      <td>1918.01</td>\n",
       "      <td>3.398290</td>\n",
       "      <td>7.066330</td>\n",
       "    </tr>\n",
       "    <tr>\n",
       "      <th>3</th>\n",
       "      <td>837.01</td>\n",
       "      <td>8.322729</td>\n",
       "      <td>8.240570</td>\n",
       "    </tr>\n",
       "    <tr>\n",
       "      <th>2</th>\n",
       "      <td>681.01</td>\n",
       "      <td>15.778431</td>\n",
       "      <td>13.082777</td>\n",
       "    </tr>\n",
       "  </tbody>\n",
       "</table>\n",
       "</div>"
      ],
      "text/plain": [
       "       TOI  Period (days)  Planet Radius (R_Earth)\n",
       "4  1497.01       0.815800                 3.690880\n",
       "5  1881.01       1.120270                12.845000\n",
       "1   581.01       1.388460                 4.767270\n",
       "0   580.01       1.549590                13.922000\n",
       "6  1882.01       3.089910                      NaN\n",
       "7  1918.01       3.398290                 7.066330\n",
       "3   837.01       8.322729                 8.240570\n",
       "2   681.01      15.778431                13.082777"
      ]
     },
     "execution_count": 23,
     "metadata": {},
     "output_type": "execute_result"
    }
   ],
   "source": [
    "short_list[['TOI','Period (days)','Planet Radius (R_Earth)']].sort_values(by='Period (days)')"
   ]
  },
  {
   "cell_type": "markdown",
   "metadata": {},
   "source": [
    "## 6-D match"
   ]
  },
  {
   "cell_type": "code",
   "execution_count": 24,
   "metadata": {},
   "outputs": [
    {
     "name": "stderr",
     "output_type": "stream",
     "text": [
      "\r",
      "  0%|          | 0/690 [00:00<?, ?it/s]"
     ]
    },
    {
     "name": "stdout",
     "output_type": "stream",
     "text": [
      "Target: TOI 1000.01\n",
      "Querying Gaia DR2 catalog for ra,dec=(112.358 -12.696) within 3.0 arcsec.\n"
     ]
    },
    {
     "name": "stderr",
     "output_type": "stream",
     "text": [
      "\r",
      "  0%|          | 1/690 [00:05<1:04:22,  5.61s/it]"
     ]
    },
    {
     "name": "stdout",
     "output_type": "stream",
     "text": [
      "ra: 24 matched\n",
      "dec: 21 matched\n",
      "parallax: 121 matched\n",
      "pmra: 210 matched\n",
      "pmdec: 442 matched\n",
      "RV: 0 matched\n",
      "matched 3 params in BDSB96:\n",
      "['dec' 'pmra' 'pmdec']\n",
      "Target not likely a cluster member\n",
      "cannot unpack non-iterable NoneType object\n",
      "Target: TOI 1001.01\n",
      "Querying Gaia DR2 catalog for ra,dec=(122.58 -5.51385) within 3.0 arcsec.\n",
      "There are 2 gaia sources within 3.0 arcsec.\n"
     ]
    },
    {
     "name": "stderr",
     "output_type": "stream",
     "text": [
      "\r",
      "  0%|          | 2/690 [00:10<1:01:01,  5.32s/it]"
     ]
    },
    {
     "name": "stdout",
     "output_type": "stream",
     "text": [
      "ra: 28 matched\n",
      "dec: 22 matched\n",
      "parallax: 30 matched\n",
      "pmra: 287 matched\n",
      "pmdec: 5 matched\n",
      "RV: 0 matched\n",
      "matched 3 params in NGC_2232:\n",
      "['dec' 'parallax' 'pmra']\n",
      "Target not likely a cluster member\n",
      "cannot unpack non-iterable NoneType object\n",
      "Target: TOI 1002.01\n",
      "Querying Gaia DR2 catalog for ra,dec=(104.727 -10.5805) within 3.0 arcsec.\n"
     ]
    },
    {
     "name": "stderr",
     "output_type": "stream",
     "text": [
      "\r",
      "  0%|          | 3/690 [00:14<57:52,  5.06s/it]  "
     ]
    },
    {
     "name": "stdout",
     "output_type": "stream",
     "text": [
      "ra: 25 matched\n",
      "dec: 24 matched\n",
      "parallax: 455 matched\n",
      "pmra: 681 matched\n",
      "pmdec: 589 matched\n",
      "RV: 0 matched\n",
      "matched 4 params in NGC_2318:\n",
      "['ra' 'parallax' 'pmra' 'pmdec']\n",
      "Target not likely a cluster member\n",
      "cannot unpack non-iterable NoneType object\n",
      "Target: TOI 1004.01\n",
      "Querying Gaia DR2 catalog for ra,dec=(122.178 -48.8028) within 3.0 arcsec.\n"
     ]
    },
    {
     "name": "stderr",
     "output_type": "stream",
     "text": [
      "\r",
      "  1%|          | 4/690 [00:19<56:10,  4.91s/it]"
     ]
    },
    {
     "name": "stdout",
     "output_type": "stream",
     "text": [
      "ra: 26 matched\n",
      "dec: 35 matched\n",
      "parallax: 64 matched\n",
      "pmra: 335 matched\n",
      "pmdec: 9 matched\n",
      "RV: 0 matched\n",
      "matched 4 params in Alessi_3:\n",
      "['ra' 'dec' 'parallax' 'pmdec']\n",
      "Target: TOI 1006.01\n",
      "Querying Gaia DR2 catalog for ra,dec=(124.359 -27.2735) within 3.0 arcsec.\n",
      "Target parallax (nan mas) is omitted!\n"
     ]
    },
    {
     "name": "stderr",
     "output_type": "stream",
     "text": [
      "\r",
      "  1%|          | 5/690 [00:23<53:55,  4.72s/it]"
     ]
    },
    {
     "name": "stdout",
     "output_type": "stream",
     "text": [
      "ra: 35 matched\n",
      "dec: 25 matched\n",
      "parallax: 0 matched\n",
      "pmra: 0 matched\n",
      "pmdec: 0 matched\n",
      "RV: 530 matched\n",
      "matched 2 params in ASCC_32:\n",
      "['dec' 'RV']\n",
      "Target not likely a cluster member\n",
      "cannot unpack non-iterable NoneType object\n",
      "Target: TOI 1007.01\n",
      "Querying Gaia DR2 catalog for ra,dec=(112.752 -4.46336) within 3.0 arcsec.\n"
     ]
    },
    {
     "name": "stderr",
     "output_type": "stream",
     "text": [
      "\r",
      "  1%|          | 6/690 [00:27<52:03,  4.57s/it]"
     ]
    },
    {
     "name": "stdout",
     "output_type": "stream",
     "text": [
      "ra: 20 matched\n",
      "dec: 23 matched\n",
      "parallax: 29 matched\n",
      "pmra: 407 matched\n",
      "pmdec: 240 matched\n",
      "RV: 408 matched\n",
      "matched 3 params in ASCC_19:\n",
      "['dec' 'pmra' 'RV']\n",
      "Target not likely a cluster member\n",
      "cannot unpack non-iterable NoneType object\n",
      "Target: TOI 1009.01\n",
      "Querying Gaia DR2 catalog for ra,dec=(111.668 -24.4621) within 3.0 arcsec.\n"
     ]
    },
    {
     "name": "stderr",
     "output_type": "stream",
     "text": [
      "\r",
      "  1%|          | 7/690 [00:32<51:44,  4.55s/it]"
     ]
    },
    {
     "name": "stdout",
     "output_type": "stream",
     "text": [
      "ra: 24 matched\n",
      "dec: 12 matched\n",
      "parallax: 455 matched\n",
      "pmra: 560 matched\n",
      "pmdec: 166 matched\n",
      "RV: 0 matched\n",
      "matched 5 params in Collinder_132:\n",
      "['ra' 'dec' 'parallax' 'pmra' 'pmdec']\n",
      "Target: TOI 1010.01\n",
      "Querying Gaia DR2 catalog for ra,dec=(112.294 -21.8329) within 3.0 arcsec.\n"
     ]
    },
    {
     "name": "stderr",
     "output_type": "stream",
     "text": [
      "\r",
      "  1%|          | 8/690 [00:36<51:27,  4.53s/it]"
     ]
    },
    {
     "name": "stdout",
     "output_type": "stream",
     "text": [
      "ra: 24 matched\n",
      "dec: 15 matched\n",
      "parallax: 152 matched\n",
      "pmra: 241 matched\n",
      "pmdec: 189 matched\n",
      "RV: 0 matched\n",
      "matched 4 params in Collinder_132:\n",
      "['ra' 'parallax' 'pmra' 'pmdec']\n",
      "Target not likely a cluster member\n",
      "cannot unpack non-iterable NoneType object\n",
      "Target: TOI 1011.01\n",
      "Querying Gaia DR2 catalog for ra,dec=(113.985 -32.842) within 3.0 arcsec.\n"
     ]
    },
    {
     "name": "stderr",
     "output_type": "stream",
     "text": [
      "\r",
      "  1%|▏         | 9/690 [00:41<51:00,  4.49s/it]"
     ]
    },
    {
     "name": "stdout",
     "output_type": "stream",
     "text": [
      "ra: 21 matched\n",
      "dec: 24 matched\n",
      "parallax: 0 matched\n",
      "pmra: 0 matched\n",
      "pmdec: 0 matched\n",
      "RV: 400 matched\n",
      "matched 3 params in Collinder_140:\n",
      "['ra' 'dec' 'RV']\n",
      "Target not likely a cluster member\n",
      "cannot unpack non-iterable NoneType object\n",
      "Target: TOI 1012.01\n",
      "Querying Gaia DR2 catalog for ra,dec=(117.095 6.78506) within 3.0 arcsec.\n"
     ]
    },
    {
     "name": "stderr",
     "output_type": "stream",
     "text": [
      "\r",
      "  1%|▏         | 10/690 [00:45<50:42,  4.47s/it]"
     ]
    },
    {
     "name": "stdout",
     "output_type": "stream",
     "text": [
      "ra: 25 matched\n",
      "dec: 20 matched\n",
      "parallax: 34 matched\n",
      "pmra: 557 matched\n",
      "pmdec: 443 matched\n",
      "RV: 0 matched\n",
      "matched 3 params in Collinder_350:\n",
      "['parallax' 'pmra' 'pmdec']\n",
      "Target not likely a cluster member\n",
      "cannot unpack non-iterable NoneType object\n",
      "Target: TOI 1013.01\n",
      "Querying Gaia DR2 catalog for ra,dec=(107.286 -31.9335) within 3.0 arcsec.\n"
     ]
    },
    {
     "name": "stderr",
     "output_type": "stream",
     "text": [
      "\r",
      "  2%|▏         | 11/690 [00:49<50:15,  4.44s/it]"
     ]
    },
    {
     "name": "stdout",
     "output_type": "stream",
     "text": [
      "ra: 23 matched\n",
      "dec: 20 matched\n",
      "parallax: 140 matched\n",
      "pmra: 396 matched\n",
      "pmdec: 24 matched\n",
      "RV: 0 matched\n",
      "matched 4 params in Collinder_132:\n",
      "['ra' 'dec' 'parallax' 'pmra']\n",
      "Target: TOI 1014.01\n",
      "Querying Gaia DR2 catalog for ra,dec=(103.562 -34.2228) within 3.0 arcsec.\n",
      "There are 2 gaia sources within 3.0 arcsec.\n"
     ]
    },
    {
     "name": "stderr",
     "output_type": "stream",
     "text": [
      "\r",
      "  2%|▏         | 12/690 [00:54<49:59,  4.42s/it]"
     ]
    },
    {
     "name": "stdout",
     "output_type": "stream",
     "text": [
      "ra: 19 matched\n",
      "dec: 24 matched\n",
      "parallax: 10 matched\n",
      "pmra: 13 matched\n",
      "pmdec: 10 matched\n",
      "RV: 0 matched\n",
      "matched 5 params in Alessi_3:\n",
      "['ra' 'dec' 'parallax' 'pmra' 'pmdec']\n",
      "Target: TOI 1015.01\n",
      "Querying Gaia DR2 catalog for ra,dec=(122.896 -27.9719) within 3.0 arcsec.\n"
     ]
    },
    {
     "name": "stderr",
     "output_type": "stream",
     "text": [
      "\r",
      "  2%|▏         | 13/690 [00:58<49:47,  4.41s/it]"
     ]
    },
    {
     "name": "stdout",
     "output_type": "stream",
     "text": [
      "ra: 29 matched\n",
      "dec: 14 matched\n",
      "parallax: 361 matched\n",
      "pmra: 204 matched\n",
      "pmdec: 8 matched\n",
      "RV: 524 matched\n",
      "matched 3 params in ASCC_11:\n",
      "['parallax' 'pmra' 'RV']\n",
      "Target not likely a cluster member\n",
      "cannot unpack non-iterable NoneType object\n",
      "Target: TOI 1016.01\n",
      "Querying Gaia DR2 catalog for ra,dec=(116.111 -36.0983) within 3.0 arcsec.\n"
     ]
    },
    {
     "name": "stderr",
     "output_type": "stream",
     "text": [
      "\r",
      "  2%|▏         | 14/690 [01:03<49:52,  4.43s/it]"
     ]
    },
    {
     "name": "stdout",
     "output_type": "stream",
     "text": [
      "ra: 23 matched\n",
      "dec: 27 matched\n",
      "parallax: 65 matched\n",
      "pmra: 36 matched\n",
      "pmdec: 9 matched\n",
      "RV: 459 matched\n",
      "matched 5 params in Alessi_3:\n",
      "['ra' 'dec' 'parallax' 'pmra' 'pmdec']\n",
      "Target: TOI 1018.01\n",
      "Querying Gaia DR2 catalog for ra,dec=(111.716 -50.2666) within 3.0 arcsec.\n"
     ]
    },
    {
     "name": "stderr",
     "output_type": "stream",
     "text": [
      "\r",
      "  2%|▏         | 15/690 [01:07<49:55,  4.44s/it]"
     ]
    },
    {
     "name": "stdout",
     "output_type": "stream",
     "text": [
      "ra: 19 matched\n",
      "dec: 29 matched\n",
      "parallax: 64 matched\n",
      "pmra: 86 matched\n",
      "pmdec: 9 matched\n",
      "RV: 455 matched\n",
      "matched 5 params in Alessi_3:\n",
      "['ra' 'dec' 'parallax' 'pmra' 'pmdec']\n",
      "Target: TOI 1019.01\n",
      "Querying Gaia DR2 catalog for ra,dec=(120.148 -54.8786) within 3.0 arcsec.\n"
     ]
    },
    {
     "name": "stderr",
     "output_type": "stream",
     "text": [
      "\r",
      "  2%|▏         | 16/690 [01:12<50:49,  4.52s/it]"
     ]
    },
    {
     "name": "stdout",
     "output_type": "stream",
     "text": [
      "ra: 22 matched\n",
      "dec: 38 matched\n",
      "parallax: 72 matched\n",
      "pmra: 22 matched\n",
      "pmdec: 280 matched\n",
      "RV: 0 matched\n",
      "matched 4 params in UPK_533:\n",
      "['ra' 'dec' 'parallax' 'pmdec']\n",
      "Target: TOI 1022.01\n",
      "Querying Gaia DR2 catalog for ra,dec=(162.965 -5.78871) within 3.0 arcsec.\n"
     ]
    },
    {
     "name": "stderr",
     "output_type": "stream",
     "text": [
      "\r",
      "  2%|▏         | 17/690 [01:16<50:33,  4.51s/it]"
     ]
    },
    {
     "name": "stdout",
     "output_type": "stream",
     "text": [
      "ra: 13 matched\n",
      "dec: 19 matched\n",
      "parallax: 3 matched\n",
      "pmra: 7 matched\n",
      "pmdec: 12 matched\n",
      "RV: 0 matched\n",
      "matched 2 params in Alessi_5:\n",
      "['ra' 'pmra']\n",
      "Target not likely a cluster member\n",
      "cannot unpack non-iterable NoneType object\n",
      "Target: TOI 1024.01\n",
      "Querying Gaia DR2 catalog for ra,dec=(86.8207 -72.4226) within 3.0 arcsec.\n"
     ]
    },
    {
     "name": "stderr",
     "output_type": "stream",
     "text": [
      "\r",
      "  3%|▎         | 18/690 [01:21<51:28,  4.60s/it]"
     ]
    },
    {
     "name": "stdout",
     "output_type": "stream",
     "text": [
      "ra: 16 matched\n",
      "dec: 2 matched\n",
      "parallax: 266 matched\n",
      "pmra: 273 matched\n",
      "pmdec: 9 matched\n",
      "RV: 421 matched\n",
      "matched 3 params in ASCC_105:\n",
      "['parallax' 'pmra' 'RV']\n",
      "Target not likely a cluster member\n",
      "cannot unpack non-iterable NoneType object\n",
      "Target: TOI 1025.01\n",
      "Querying Gaia DR2 catalog for ra,dec=(142.521 -51.5171) within 3.0 arcsec.\n"
     ]
    },
    {
     "name": "stderr",
     "output_type": "stream",
     "text": [
      "\r",
      "  3%|▎         | 19/690 [01:26<52:29,  4.69s/it]"
     ]
    },
    {
     "name": "stdout",
     "output_type": "stream",
     "text": [
      "ra: 11 matched\n",
      "dec: 29 matched\n",
      "parallax: 2 matched\n",
      "pmra: 6 matched\n",
      "pmdec: 8 matched\n",
      "RV: 0 matched\n",
      "matched 5 params in Platais_8:\n",
      "['ra' 'dec' 'parallax' 'pmra' 'pmdec']\n",
      "Target: TOI 1026.01\n",
      "Querying Gaia DR2 catalog for ra,dec=(125.435 -51.7594) within 3.0 arcsec.\n"
     ]
    },
    {
     "name": "stderr",
     "output_type": "stream",
     "text": [
      "\r",
      "  3%|▎         | 20/690 [01:31<54:46,  4.90s/it]"
     ]
    },
    {
     "name": "stdout",
     "output_type": "stream",
     "text": [
      "ra: 21 matched\n",
      "dec: 27 matched\n",
      "parallax: 1 matched\n",
      "pmra: 0 matched\n",
      "pmdec: 133 matched\n",
      "RV: 514 matched\n",
      "matched 3 params in Alessi_13:\n",
      "['parallax' 'pmdec' 'RV']\n",
      "Target not likely a cluster member\n",
      "cannot unpack non-iterable NoneType object\n",
      "Target: TOI 1027.01\n",
      "Querying Gaia DR2 catalog for ra,dec=(167.133 -29.6531) within 3.0 arcsec.\n",
      "ra: 13 matched\n",
      "dec: 19 matched\n",
      "parallax: 0 matched\n",
      "pmra: 0 matched\n",
      "pmdec: 7 matched\n"
     ]
    },
    {
     "name": "stderr",
     "output_type": "stream",
     "text": [
      "\r",
      "  3%|▎         | 21/690 [01:37<56:27,  5.06s/it]"
     ]
    },
    {
     "name": "stdout",
     "output_type": "stream",
     "text": [
      "RV: 536 matched\n",
      "matched 3 params in IC_2602:\n",
      "['ra' 'pmdec' 'RV']\n",
      "Target not likely a cluster member\n",
      "cannot unpack non-iterable NoneType object\n",
      "Target: TOI 1031.01\n",
      "Querying Gaia DR2 catalog for ra,dec=(140.884 -67.026) within 3.0 arcsec.\n"
     ]
    },
    {
     "name": "stderr",
     "output_type": "stream",
     "text": [
      "\r",
      "  3%|▎         | 22/690 [01:42<57:17,  5.15s/it]"
     ]
    },
    {
     "name": "stdout",
     "output_type": "stream",
     "text": [
      "ra: 8 matched\n",
      "dec: 14 matched\n",
      "parallax: 24 matched\n",
      "pmra: 5 matched\n",
      "pmdec: 260 matched\n",
      "RV: 539 matched\n",
      "matched 3 params in Platais_8:\n",
      "['ra' 'dec' 'RV']\n",
      "Target not likely a cluster member\n",
      "cannot unpack non-iterable NoneType object\n",
      "Target: TOI 1032.01\n",
      "Querying Gaia DR2 catalog for ra,dec=(159.221 -42.5416) within 3.0 arcsec.\n",
      "There are 2 gaia sources within 3.0 arcsec.\n"
     ]
    },
    {
     "name": "stderr",
     "output_type": "stream",
     "text": [
      "\r",
      "  3%|▎         | 23/690 [01:47<56:34,  5.09s/it]"
     ]
    },
    {
     "name": "stdout",
     "output_type": "stream",
     "text": [
      "ra: 13 matched\n",
      "dec: 20 matched\n",
      "parallax: 208 matched\n",
      "pmra: 9 matched\n",
      "pmdec: 39 matched\n",
      "RV: 0 matched\n",
      "matched 3 params in IC_2602:\n",
      "['ra' 'pmra' 'pmdec']\n",
      "Target not likely a cluster member\n",
      "cannot unpack non-iterable NoneType object\n",
      "Target: TOI 1033.01\n",
      "Querying Gaia DR2 catalog for ra,dec=(87.2826 -60.4984) within 3.0 arcsec.\n"
     ]
    },
    {
     "name": "stderr",
     "output_type": "stream",
     "text": [
      "\r",
      "  3%|▎         | 24/690 [01:52<55:07,  4.97s/it]"
     ]
    },
    {
     "name": "stdout",
     "output_type": "stream",
     "text": [
      "ra: 28 matched\n",
      "dec: 76 matched\n",
      "parallax: 1233 matched\n",
      "pmra: 703 matched\n",
      "pmdec: 4 matched\n",
      "RV: 533 matched\n",
      "matched 4 params in ASCC_79:\n",
      "['dec' 'parallax' 'pmra' 'RV']\n",
      "Target not likely a cluster member\n",
      "cannot unpack non-iterable NoneType object\n",
      "Target: TOI 1034.01\n",
      "Querying Gaia DR2 catalog for ra,dec=(134.442 -49.0006) within 3.0 arcsec.\n"
     ]
    },
    {
     "name": "stderr",
     "output_type": "stream",
     "text": [
      "\r",
      "  4%|▎         | 25/690 [01:56<53:37,  4.84s/it]"
     ]
    },
    {
     "name": "stdout",
     "output_type": "stream",
     "text": [
      "ra: 15 matched\n",
      "dec: 31 matched\n",
      "parallax: 66 matched\n",
      "pmra: 292 matched\n",
      "pmdec: 197 matched\n",
      "RV: 0 matched\n",
      "matched 4 params in UPK_533:\n",
      "['dec' 'parallax' 'pmra' 'pmdec']\n",
      "Target not likely a cluster member\n",
      "cannot unpack non-iterable NoneType object\n",
      "Target: TOI 1035.01\n",
      "Querying Gaia DR2 catalog for ra,dec=(144.15 -61.5832) within 3.0 arcsec.\n"
     ]
    },
    {
     "name": "stderr",
     "output_type": "stream",
     "text": [
      "\r",
      "  4%|▍         | 26/690 [02:01<53:05,  4.80s/it]"
     ]
    },
    {
     "name": "stdout",
     "output_type": "stream",
     "text": [
      "ra: 6 matched\n",
      "dec: 37 matched\n",
      "parallax: 66 matched\n",
      "pmra: 40 matched\n",
      "pmdec: 3 matched\n",
      "RV: 586 matched\n",
      "matched 5 params in Platais_8:\n",
      "['ra' 'dec' 'pmra' 'pmdec' 'RV']\n",
      "Target: TOI 1036.01\n",
      "Querying Gaia DR2 catalog for ra,dec=(157.867 -42.2404) within 3.0 arcsec.\n"
     ]
    },
    {
     "name": "stderr",
     "output_type": "stream",
     "text": [
      "\r",
      "  4%|▍         | 27/690 [02:06<52:42,  4.77s/it]"
     ]
    },
    {
     "name": "stdout",
     "output_type": "stream",
     "text": [
      "ra: 11 matched\n",
      "dec: 22 matched\n",
      "parallax: 10 matched\n",
      "pmra: 5 matched\n",
      "pmdec: 0 matched\n",
      "RV: 474 matched\n",
      "matched 3 params in Alessi_9:\n",
      "['dec' 'parallax' 'pmra']\n",
      "Target not likely a cluster member\n",
      "cannot unpack non-iterable NoneType object\n",
      "Target: TOI 1037.01\n",
      "Querying Gaia DR2 catalog for ra,dec=(147.385 -63.3065) within 3.0 arcsec.\n"
     ]
    },
    {
     "name": "stderr",
     "output_type": "stream",
     "text": [
      "\r",
      "  4%|▍         | 28/690 [02:10<51:49,  4.70s/it]"
     ]
    },
    {
     "name": "stdout",
     "output_type": "stream",
     "text": [
      "ra: 10 matched\n",
      "dec: 22 matched\n",
      "parallax: 27 matched\n",
      "pmra: 6 matched\n",
      "pmdec: 8 matched\n",
      "RV: 0 matched\n",
      "matched 4 params in IC_2602:\n",
      "['ra' 'dec' 'pmra' 'pmdec']\n",
      "Target: TOI 1039.01\n",
      "Querying Gaia DR2 catalog for ra,dec=(149.689 -58.7605) within 3.0 arcsec.\n"
     ]
    },
    {
     "name": "stderr",
     "output_type": "stream",
     "text": [
      "\r",
      "  4%|▍         | 29/690 [02:15<51:12,  4.65s/it]"
     ]
    },
    {
     "name": "stdout",
     "output_type": "stream",
     "text": [
      "ra: 10 matched\n",
      "dec: 37 matched\n",
      "parallax: 853 matched\n",
      "pmra: 199 matched\n",
      "pmdec: 219 matched\n",
      "RV: 0 matched\n",
      "matched 5 params in Gulliver_35:\n",
      "['ra' 'dec' 'parallax' 'pmra' 'pmdec']\n",
      "Target: TOI 1041.01\n",
      "Querying Gaia DR2 catalog for ra,dec=(138.402 -55.1979) within 3.0 arcsec.\n"
     ]
    },
    {
     "name": "stderr",
     "output_type": "stream",
     "text": [
      "\r",
      "  4%|▍         | 30/690 [02:19<50:45,  4.61s/it]"
     ]
    },
    {
     "name": "stdout",
     "output_type": "stream",
     "text": [
      "ra: 7 matched\n",
      "dec: 37 matched\n",
      "parallax: 31 matched\n",
      "pmra: 11 matched\n",
      "pmdec: 5 matched\n",
      "RV: 0 matched\n",
      "matched 4 params in Platais_8:\n",
      "['ra' 'dec' 'pmra' 'pmdec']\n",
      "Target: TOI 1042.01\n",
      "Querying Gaia DR2 catalog for ra,dec=(141.975 -61.33) within 3.0 arcsec.\n"
     ]
    },
    {
     "name": "stderr",
     "output_type": "stream",
     "text": [
      "\r",
      "  4%|▍         | 31/690 [02:24<51:26,  4.68s/it]"
     ]
    },
    {
     "name": "stdout",
     "output_type": "stream",
     "text": [
      "ra: 10 matched\n",
      "dec: 36 matched\n",
      "parallax: 313 matched\n",
      "pmra: 23 matched\n",
      "pmdec: 255 matched\n",
      "RV: 0 matched\n",
      "matched 4 params in Ruprecht_161:\n",
      "['dec' 'parallax' 'pmra' 'pmdec']\n",
      "Target not likely a cluster member\n",
      "cannot unpack non-iterable NoneType object\n",
      "Target: TOI 1043.01\n",
      "Querying Gaia DR2 catalog for ra,dec=(128.302 -52.7142) within 3.0 arcsec.\n",
      "There are 2 gaia sources within 3.0 arcsec.\n"
     ]
    },
    {
     "name": "stderr",
     "output_type": "stream",
     "text": [
      "\r",
      "  5%|▍         | 32/690 [02:29<50:46,  4.63s/it]"
     ]
    },
    {
     "name": "stdout",
     "output_type": "stream",
     "text": [
      "ra: 18 matched\n",
      "dec: 31 matched\n",
      "parallax: 11 matched\n",
      "pmra: 36 matched\n",
      "pmdec: 5 matched\n",
      "RV: 516 matched\n",
      "matched 5 params in Platais_8:\n",
      "['ra' 'dec' 'pmra' 'pmdec' 'RV']\n",
      "Target: TOI 1044.01\n",
      "Querying Gaia DR2 catalog for ra,dec=(153.811 -58.7664) within 3.0 arcsec.\n",
      "There are 2 gaia sources within 3.0 arcsec.\n"
     ]
    },
    {
     "name": "stderr",
     "output_type": "stream",
     "text": [
      "\r",
      "  5%|▍         | 33/690 [02:33<50:33,  4.62s/it]"
     ]
    },
    {
     "name": "stdout",
     "output_type": "stream",
     "text": [
      "ra: 13 matched\n",
      "dec: 32 matched\n",
      "parallax: 123 matched\n",
      "pmra: 11 matched\n",
      "pmdec: 47 matched\n",
      "RV: 0 matched\n",
      "matched 4 params in BH_99:\n",
      "['ra' 'dec' 'parallax' 'pmra']\n",
      "Target: TOI 1046.01\n",
      "Querying Gaia DR2 catalog for ra,dec=(126.419 -60.9075) within 3.0 arcsec.\n"
     ]
    },
    {
     "name": "stderr",
     "output_type": "stream",
     "text": [
      "\r",
      "  5%|▍         | 34/690 [02:38<50:35,  4.63s/it]"
     ]
    },
    {
     "name": "stdout",
     "output_type": "stream",
     "text": [
      "ra: 21 matched\n",
      "dec: 38 matched\n",
      "parallax: 31 matched\n",
      "pmra: 634 matched\n",
      "pmdec: 24 matched\n",
      "RV: 488 matched\n",
      "matched 4 params in Alessi_Teutsch_12:\n",
      "['dec' 'pmra' 'pmdec' 'RV']\n",
      "Target not likely a cluster member\n",
      "cannot unpack non-iterable NoneType object\n",
      "Target: TOI 1047.01\n",
      "Querying Gaia DR2 catalog for ra,dec=(144.582 -67.5051) within 3.0 arcsec.\n"
     ]
    },
    {
     "name": "stderr",
     "output_type": "stream",
     "text": [
      "\r",
      "  5%|▌         | 35/690 [02:43<50:14,  4.60s/it]"
     ]
    },
    {
     "name": "stdout",
     "output_type": "stream",
     "text": [
      "ra: 6 matched\n",
      "dec: 11 matched\n",
      "parallax: 3 matched\n",
      "pmra: 2 matched\n",
      "pmdec: 2 matched\n",
      "RV: 536 matched\n",
      "matched 3 params in IC_2602:\n",
      "['dec' 'parallax' 'RV']\n",
      "Target not likely a cluster member\n",
      "cannot unpack non-iterable NoneType object\n",
      "Target: TOI 1048.01\n",
      "Querying Gaia DR2 catalog for ra,dec=(136.528 -54.9039) within 3.0 arcsec.\n"
     ]
    },
    {
     "name": "stderr",
     "output_type": "stream",
     "text": [
      "\r",
      "  5%|▌         | 36/690 [02:47<50:08,  4.60s/it]"
     ]
    },
    {
     "name": "stdout",
     "output_type": "stream",
     "text": [
      "ra: 12 matched\n",
      "dec: 41 matched\n",
      "parallax: 98 matched\n",
      "pmra: 27 matched\n",
      "pmdec: 24 matched\n",
      "RV: 0 matched\n",
      "matched 4 params in Trumpler_10:\n",
      "['ra' 'parallax' 'pmra' 'pmdec']\n",
      "Target not likely a cluster member\n",
      "cannot unpack non-iterable NoneType object\n",
      "Target: TOI 1049.01\n",
      "Querying Gaia DR2 catalog for ra,dec=(253.769 -28.7106) within 3.0 arcsec.\n"
     ]
    },
    {
     "name": "stderr",
     "output_type": "stream",
     "text": [
      "\r",
      "  5%|▌         | 37/690 [02:52<49:50,  4.58s/it]"
     ]
    },
    {
     "name": "stdout",
     "output_type": "stream",
     "text": [
      "ra: 20 matched\n",
      "dec: 13 matched\n",
      "parallax: 39 matched\n",
      "pmra: 59 matched\n",
      "pmdec: 190 matched\n",
      "RV: 517 matched\n",
      "matched 4 params in NGC_6475:\n",
      "['dec' 'parallax' 'pmdec' 'RV']\n",
      "Target not likely a cluster member\n",
      "cannot unpack non-iterable NoneType object\n",
      "Target: TOI 1050.01\n",
      "Querying Gaia DR2 catalog for ra,dec=(239.962 -28.0618) within 3.0 arcsec.\n"
     ]
    },
    {
     "name": "stderr",
     "output_type": "stream",
     "text": [
      "\r",
      "  6%|▌         | 38/690 [02:56<49:39,  4.57s/it]"
     ]
    },
    {
     "name": "stdout",
     "output_type": "stream",
     "text": [
      "ra: 9 matched\n",
      "dec: 13 matched\n",
      "parallax: 82 matched\n",
      "pmra: 86 matched\n",
      "pmdec: 28 matched\n",
      "RV: 405 matched\n",
      "matched 3 params in BH_164:\n",
      "['parallax' 'pmra' 'pmdec']\n",
      "Target not likely a cluster member\n",
      "cannot unpack non-iterable NoneType object\n",
      "Target: TOI 1051.01\n",
      "Querying Gaia DR2 catalog for ra,dec=(40.366 -71.4627) within 3.0 arcsec.\n"
     ]
    },
    {
     "name": "stderr",
     "output_type": "stream",
     "text": [
      "\r",
      "  6%|▌         | 39/690 [03:01<49:15,  4.54s/it]"
     ]
    },
    {
     "name": "stdout",
     "output_type": "stream",
     "text": [
      "ra: 21 matched\n",
      "dec: 6 matched\n",
      "parallax: 0 matched\n",
      "pmra: 0 matched\n",
      "pmdec: 1 matched\n",
      "RV: 0 matched\n",
      "matched 1 params in ASCC_73:\n",
      "['dec']\n",
      "Target not likely a cluster member\n",
      "cannot unpack non-iterable NoneType object\n",
      "Target: TOI 1052.01\n",
      "Querying Gaia DR2 catalog for ra,dec=(337.51 -75.6466) within 3.0 arcsec.\n"
     ]
    },
    {
     "name": "stderr",
     "output_type": "stream",
     "text": [
      "\r",
      "  6%|▌         | 40/690 [03:05<48:42,  4.50s/it]"
     ]
    },
    {
     "name": "stdout",
     "output_type": "stream",
     "text": [
      "ra: 13 matched\n",
      "dec: 2 matched\n",
      "parallax: 2 matched\n",
      "pmra: 0 matched\n",
      "pmdec: 577 matched\n",
      "RV: 345 matched\n",
      "matched 3 params in Berkeley_96:\n",
      "['ra' 'pmdec' 'RV']\n",
      "Target not likely a cluster member\n",
      "cannot unpack non-iterable NoneType object\n",
      "Target: TOI 1053.01\n",
      "Querying Gaia DR2 catalog for ra,dec=(290.977 -33.3514) within 3.0 arcsec.\n",
      "ra: 11 matched\n",
      "dec: 17 matched\n",
      "parallax: 22 matched\n",
      "pmra: 6 matched\n",
      "pmdec: 46 matched\n"
     ]
    },
    {
     "name": "stderr",
     "output_type": "stream",
     "text": [
      "\r",
      "  6%|▌         | 41/690 [03:10<49:13,  4.55s/it]"
     ]
    },
    {
     "name": "stdout",
     "output_type": "stream",
     "text": [
      "RV: 0 matched\n",
      "matched 3 params in NGC_6475:\n",
      "['dec' 'parallax' 'pmdec']\n",
      "Target not likely a cluster member\n",
      "cannot unpack non-iterable NoneType object\n",
      "Target: TOI 1054.01\n",
      "Querying Gaia DR2 catalog for ra,dec=(302.114 -54.3175) within 3.0 arcsec.\n"
     ]
    },
    {
     "name": "stderr",
     "output_type": "stream",
     "text": [
      "\r",
      "  6%|▌         | 42/690 [03:14<49:22,  4.57s/it]"
     ]
    },
    {
     "name": "stdout",
     "output_type": "stream",
     "text": [
      "ra: 16 matched\n",
      "dec: 38 matched\n",
      "parallax: 0 matched\n",
      "pmra: 199 matched\n",
      "pmdec: 5 matched\n",
      "RV: 521 matched\n",
      "matched 3 params in Alessi_10:\n",
      "['ra' 'pmra' 'RV']\n",
      "Target not likely a cluster member\n",
      "cannot unpack non-iterable NoneType object\n",
      "Target: TOI 1055.01\n",
      "Querying Gaia DR2 catalog for ra,dec=(293.287 -54.5327) within 3.0 arcsec.\n"
     ]
    },
    {
     "name": "stderr",
     "output_type": "stream",
     "text": [
      "\r",
      "  6%|▌         | 43/690 [03:19<50:25,  4.68s/it]"
     ]
    },
    {
     "name": "stdout",
     "output_type": "stream",
     "text": [
      "ra: 13 matched\n",
      "dec: 38 matched\n",
      "parallax: 0 matched\n",
      "pmra: 0 matched\n",
      "pmdec: 0 matched\n",
      "RV: 512 matched\n",
      "matched 2 params in ASCC_105:\n",
      "['ra' 'RV']\n",
      "Target not likely a cluster member\n",
      "cannot unpack non-iterable NoneType object\n",
      "Target: TOI 1056.01\n",
      "Querying Gaia DR2 catalog for ra,dec=(339.259 -76.9176) within 3.0 arcsec.\n"
     ]
    },
    {
     "name": "stderr",
     "output_type": "stream",
     "text": [
      "\r",
      "  6%|▋         | 44/690 [03:24<49:47,  4.62s/it]"
     ]
    },
    {
     "name": "stdout",
     "output_type": "stream",
     "text": [
      "ra: 11 matched\n",
      "dec: 3 matched\n",
      "parallax: 10 matched\n",
      "pmra: 8 matched\n",
      "pmdec: 6 matched\n",
      "RV: 524 matched\n",
      "matched 3 params in Alessi_9:\n",
      "['parallax' 'pmra' 'RV']\n",
      "Target not likely a cluster member\n",
      "cannot unpack non-iterable NoneType object\n",
      "Target: TOI 1057.01\n",
      "Querying Gaia DR2 catalog for ra,dec=(127.997 -78.4076) within 3.0 arcsec.\n",
      "There are 2 gaia sources within 3.0 arcsec.\n"
     ]
    },
    {
     "name": "stderr",
     "output_type": "stream",
     "text": [
      "\r",
      "  7%|▋         | 45/690 [03:28<49:45,  4.63s/it]"
     ]
    },
    {
     "name": "stdout",
     "output_type": "stream",
     "text": [
      "ra: 19 matched\n",
      "dec: 1 matched\n",
      "parallax: 2 matched\n",
      "pmra: 0 matched\n",
      "pmdec: 6 matched\n",
      "RV: 280 matched\n",
      "matched 3 params in Mamajek_1:\n",
      "['ra' 'dec' 'parallax']\n",
      "Target not likely a cluster member\n",
      "cannot unpack non-iterable NoneType object\n",
      "Target: TOI 1058.01\n",
      "Querying Gaia DR2 catalog for ra,dec=(288.912 -31.7908) within 3.0 arcsec.\n"
     ]
    },
    {
     "name": "stderr",
     "output_type": "stream",
     "text": [
      "\r",
      "  7%|▋         | 46/690 [03:33<50:23,  4.69s/it]"
     ]
    },
    {
     "name": "stdout",
     "output_type": "stream",
     "text": [
      "ra: 11 matched\n",
      "dec: 21 matched\n",
      "parallax: 56 matched\n",
      "pmra: 71 matched\n",
      "pmdec: 5 matched\n",
      "RV: 537 matched\n",
      "matched 4 params in NGC_6475:\n",
      "['dec' 'parallax' 'pmra' 'RV']\n",
      "Target not likely a cluster member\n",
      "cannot unpack non-iterable NoneType object\n",
      "Target: TOI 1059.01\n",
      "Querying Gaia DR2 catalog for ra,dec=(269.714 -60.9227) within 3.0 arcsec.\n"
     ]
    },
    {
     "name": "stderr",
     "output_type": "stream",
     "text": [
      "\r",
      "  7%|▋         | 47/690 [03:38<50:08,  4.68s/it]"
     ]
    },
    {
     "name": "stdout",
     "output_type": "stream",
     "text": [
      "ra: 14 matched\n",
      "dec: 38 matched\n",
      "parallax: 2 matched\n",
      "pmra: 34 matched\n",
      "pmdec: 0 matched\n",
      "RV: 564 matched\n",
      "matched 3 params in Mamajek_4:\n",
      "['ra' 'pmra' 'RV']\n",
      "Target not likely a cluster member\n",
      "cannot unpack non-iterable NoneType object\n",
      "Target: TOI 1060.01\n",
      "Querying Gaia DR2 catalog for ra,dec=(299.291 -48.9345) within 3.0 arcsec.\n"
     ]
    },
    {
     "name": "stderr",
     "output_type": "stream",
     "text": [
      "\r",
      "  7%|▋         | 48/690 [03:43<50:12,  4.69s/it]"
     ]
    },
    {
     "name": "stdout",
     "output_type": "stream",
     "text": [
      "ra: 18 matched\n",
      "dec: 34 matched\n",
      "parallax: 2 matched\n",
      "pmra: 168 matched\n",
      "pmdec: 5 matched\n",
      "RV: 528 matched\n",
      "matched 3 params in ASCC_105:\n",
      "['ra' 'pmra' 'RV']\n",
      "Target not likely a cluster member\n",
      "cannot unpack non-iterable NoneType object\n",
      "Target: TOI 1062.01\n",
      "Querying Gaia DR2 catalog for ra,dec=(38.121 -78.0237) within 3.0 arcsec.\n"
     ]
    },
    {
     "name": "stderr",
     "output_type": "stream",
     "text": [
      "\r",
      "  7%|▋         | 49/690 [03:48<50:50,  4.76s/it]"
     ]
    },
    {
     "name": "stdout",
     "output_type": "stream",
     "text": [
      "ra: 17 matched\n",
      "dec: 2 matched\n",
      "parallax: 0 matched\n",
      "pmra: 0 matched\n",
      "pmdec: 1 matched\n",
      "RV: 526 matched\n",
      "matched 2 params in COIN-Gaia_36:\n",
      "['ra' 'RV']\n",
      "Target not likely a cluster member\n",
      "cannot unpack non-iterable NoneType object\n",
      "Target: TOI 1063.01\n",
      "Querying Gaia DR2 catalog for ra,dec=(230.555 -83.0562) within 3.0 arcsec.\n"
     ]
    },
    {
     "name": "stderr",
     "output_type": "stream",
     "text": [
      "\r",
      "  7%|▋         | 50/690 [03:52<50:22,  4.72s/it]"
     ]
    },
    {
     "name": "stdout",
     "output_type": "stream",
     "text": [
      "ra: 8 matched\n",
      "dec: 0 matched\n",
      "parallax: 0 matched\n",
      "pmra: 0 matched\n",
      "pmdec: 28 matched\n",
      "RV: 536 matched\n",
      "matched 2 params in ASCC_79:\n",
      "['ra' 'RV']\n",
      "Target not likely a cluster member\n",
      "cannot unpack non-iterable NoneType object\n",
      "Target: TOI 1064.01\n",
      "Querying Gaia DR2 catalog for ra,dec=(296.004 -47.562) within 3.0 arcsec.\n"
     ]
    },
    {
     "name": "stderr",
     "output_type": "stream",
     "text": [
      "\r",
      "  7%|▋         | 51/690 [03:57<49:59,  4.69s/it]"
     ]
    },
    {
     "name": "stdout",
     "output_type": "stream",
     "text": [
      "ra: 21 matched\n",
      "dec: 24 matched\n",
      "parallax: 0 matched\n",
      "pmra: 471 matched\n",
      "pmdec: 0 matched\n",
      "RV: 514 matched\n",
      "matched 3 params in Gulliver_28:\n",
      "['ra' 'pmra' 'RV']\n",
      "Target not likely a cluster member\n",
      "cannot unpack non-iterable NoneType object\n",
      "Target: TOI 1064.02\n",
      "Querying Gaia DR2 catalog for ra,dec=(296.004 -47.562) within 3.0 arcsec.\n"
     ]
    },
    {
     "name": "stderr",
     "output_type": "stream",
     "text": [
      "\r",
      "  8%|▊         | 52/690 [04:01<49:07,  4.62s/it]"
     ]
    },
    {
     "name": "stdout",
     "output_type": "stream",
     "text": [
      "ra: 21 matched\n",
      "dec: 24 matched\n",
      "parallax: 0 matched\n",
      "pmra: 471 matched\n",
      "pmdec: 0 matched\n",
      "RV: 514 matched\n",
      "matched 3 params in Gulliver_28:\n",
      "['ra' 'pmra' 'RV']\n",
      "Target not likely a cluster member\n",
      "cannot unpack non-iterable NoneType object\n",
      "Target: TOI 1065.01\n",
      "Querying Gaia DR2 catalog for ra,dec=(286.367 -50.0674) within 3.0 arcsec.\n"
     ]
    },
    {
     "name": "stderr",
     "output_type": "stream",
     "text": [
      "\r",
      "  8%|▊         | 53/690 [04:06<48:59,  4.61s/it]"
     ]
    },
    {
     "name": "stdout",
     "output_type": "stream",
     "text": [
      "ra: 11 matched\n",
      "dec: 28 matched\n",
      "parallax: 227 matched\n",
      "pmra: 18 matched\n",
      "pmdec: 527 matched\n",
      "RV: 0 matched\n",
      "matched 3 params in RSG_8:\n",
      "['parallax' 'pmra' 'pmdec']\n",
      "Target not likely a cluster member\n",
      "cannot unpack non-iterable NoneType object\n",
      "Target: TOI 1066.01\n",
      "Querying Gaia DR2 catalog for ra,dec=(285.096 -54.8933) within 3.0 arcsec.\n"
     ]
    },
    {
     "name": "stderr",
     "output_type": "stream",
     "text": [
      "\r",
      "  8%|▊         | 54/690 [04:10<48:49,  4.61s/it]"
     ]
    },
    {
     "name": "stdout",
     "output_type": "stream",
     "text": [
      "ra: 13 matched\n",
      "dec: 38 matched\n",
      "parallax: 63 matched\n",
      "pmra: 39 matched\n",
      "pmdec: 0 matched\n",
      "RV: 518 matched\n",
      "matched 4 params in ASCC_99:\n",
      "['ra' 'parallax' 'pmra' 'RV']\n",
      "Target not likely a cluster member\n",
      "cannot unpack non-iterable NoneType object\n",
      "Target: TOI 1067.01\n",
      "Querying Gaia DR2 catalog for ra,dec=(288.672 -59.5794) within 3.0 arcsec.\n"
     ]
    },
    {
     "name": "stderr",
     "output_type": "stream",
     "text": [
      "\r",
      "  8%|▊         | 55/690 [04:15<49:21,  4.66s/it]"
     ]
    },
    {
     "name": "stdout",
     "output_type": "stream",
     "text": [
      "ra: 11 matched\n",
      "dec: 43 matched\n",
      "parallax: 22 matched\n",
      "pmra: 70 matched\n",
      "pmdec: 47 matched\n",
      "RV: 0 matched\n",
      "matched 2 params in Alessi_3:\n",
      "['dec' 'parallax']\n",
      "Target not likely a cluster member\n",
      "cannot unpack non-iterable NoneType object\n",
      "Target: TOI 1068.01\n",
      "Querying Gaia DR2 catalog for ra,dec=(284.4 -49.1385) within 3.0 arcsec.\n"
     ]
    },
    {
     "name": "stderr",
     "output_type": "stream",
     "text": [
      "\r",
      "  8%|▊         | 56/690 [04:20<49:27,  4.68s/it]"
     ]
    },
    {
     "name": "stdout",
     "output_type": "stream",
     "text": [
      "ra: 13 matched\n",
      "dec: 31 matched\n",
      "parallax: 155 matched\n",
      "pmra: 5 matched\n",
      "pmdec: 168 matched\n",
      "RV: 0 matched\n",
      "matched 3 params in Alessi_9:\n",
      "['dec' 'pmra' 'pmdec']\n",
      "Target not likely a cluster member\n",
      "cannot unpack non-iterable NoneType object\n",
      "Target: TOI 1069.01\n",
      "Querying Gaia DR2 catalog for ra,dec=(289.479 -32.8601) within 3.0 arcsec.\n"
     ]
    },
    {
     "name": "stderr",
     "output_type": "stream",
     "text": [
      "\r",
      "  8%|▊         | 57/690 [04:25<49:10,  4.66s/it]"
     ]
    },
    {
     "name": "stdout",
     "output_type": "stream",
     "text": [
      "ra: 10 matched\n",
      "dec: 25 matched\n",
      "parallax: 11 matched\n",
      "pmra: 7 matched\n",
      "pmdec: 1 matched\n",
      "RV: 521 matched\n",
      "matched 4 params in NGC_2451A:\n",
      "['dec' 'parallax' 'pmra' 'RV']\n",
      "Target not likely a cluster member\n",
      "cannot unpack non-iterable NoneType object\n",
      "Target: TOI 1071.01\n",
      "Querying Gaia DR2 catalog for ra,dec=(280.184 -58.4594) within 3.0 arcsec.\n"
     ]
    },
    {
     "name": "stderr",
     "output_type": "stream",
     "text": [
      "\r",
      "  8%|▊         | 58/690 [04:29<48:45,  4.63s/it]"
     ]
    },
    {
     "name": "stdout",
     "output_type": "stream",
     "text": [
      "ra: 13 matched\n",
      "dec: 38 matched\n",
      "parallax: 29 matched\n",
      "pmra: 3 matched\n",
      "pmdec: 1 matched\n",
      "RV: 465 matched\n",
      "matched 3 params in ASCC_99:\n",
      "['ra' 'parallax' 'RV']\n",
      "Target not likely a cluster member\n",
      "cannot unpack non-iterable NoneType object\n",
      "Target: TOI 1072.01\n",
      "Querying Gaia DR2 catalog for ra,dec=(75.6273 -72.914) within 3.0 arcsec.\n"
     ]
    },
    {
     "name": "stderr",
     "output_type": "stream",
     "text": [
      "\r",
      "  9%|▊         | 59/690 [04:34<49:01,  4.66s/it]"
     ]
    },
    {
     "name": "stdout",
     "output_type": "stream",
     "text": [
      "ra: 18 matched\n",
      "dec: 1 matched\n",
      "parallax: 273 matched\n",
      "pmra: 189 matched\n",
      "pmdec: 1 matched\n",
      "RV: 548 matched\n",
      "matched 4 params in COIN-Gaia_14:\n",
      "['ra' 'parallax' 'pmra' 'RV']\n",
      "Target not likely a cluster member\n",
      "cannot unpack non-iterable NoneType object\n",
      "Target: TOI 1073.01\n",
      "Querying Gaia DR2 catalog for ra,dec=(287.484 -49.6649) within 3.0 arcsec.\n"
     ]
    },
    {
     "name": "stderr",
     "output_type": "stream",
     "text": [
      "\r",
      "  9%|▊         | 60/690 [04:38<48:27,  4.61s/it]"
     ]
    },
    {
     "name": "stdout",
     "output_type": "stream",
     "text": [
      "ra: 10 matched\n",
      "dec: 27 matched\n",
      "parallax: 32 matched\n",
      "pmra: 43 matched\n",
      "pmdec: 125 matched\n",
      "RV: 0 matched\n",
      "matched 3 params in UPK_535:\n",
      "['dec' 'parallax' 'pmdec']\n",
      "Target not likely a cluster member\n",
      "cannot unpack non-iterable NoneType object\n",
      "Target: TOI 1074.01\n",
      "Querying Gaia DR2 catalog for ra,dec=(310.761 -72.0103) within 3.0 arcsec.\n"
     ]
    },
    {
     "name": "stderr",
     "output_type": "stream",
     "text": [
      "\r",
      "  9%|▉         | 61/690 [04:43<48:10,  4.60s/it]"
     ]
    },
    {
     "name": "stdout",
     "output_type": "stream",
     "text": [
      "ra: 11 matched\n",
      "dec: 3 matched\n",
      "parallax: 1 matched\n",
      "pmra: 3 matched\n",
      "pmdec: 0 matched\n",
      "RV: 513 matched\n",
      "matched 2 params in Melotte_20:\n",
      "['pmra' 'RV']\n",
      "Target not likely a cluster member\n",
      "cannot unpack non-iterable NoneType object\n",
      "Target: TOI 1075.01\n",
      "Querying Gaia DR2 catalog for ra,dec=(309.971 -65.4497) within 3.0 arcsec.\n"
     ]
    },
    {
     "name": "stderr",
     "output_type": "stream",
     "text": [
      "\r",
      "  9%|▉         | 62/690 [04:48<48:08,  4.60s/it]"
     ]
    },
    {
     "name": "stdout",
     "output_type": "stream",
     "text": [
      "ra: 9 matched\n",
      "dec: 15 matched\n",
      "parallax: 0 matched\n",
      "pmra: 0 matched\n",
      "pmdec: 0 matched\n",
      "RV: 464 matched\n",
      "matched 2 params in ASCC_73:\n",
      "['dec' 'RV']\n",
      "Target not likely a cluster member\n",
      "cannot unpack non-iterable NoneType object\n",
      "Target: TOI 1076.01\n",
      "Querying Gaia DR2 catalog for ra,dec=(294.634 -55.3303) within 3.0 arcsec.\n"
     ]
    },
    {
     "name": "stderr",
     "output_type": "stream",
     "text": [
      "\r",
      "  9%|▉         | 63/690 [04:53<49:20,  4.72s/it]"
     ]
    },
    {
     "name": "stdout",
     "output_type": "stream",
     "text": [
      "ra: 17 matched\n",
      "dec: 38 matched\n",
      "parallax: 12 matched\n",
      "pmra: 18 matched\n",
      "pmdec: 0 matched\n",
      "RV: 538 matched\n",
      "matched 3 params in ASCC_99:\n",
      "['parallax' 'pmra' 'RV']\n",
      "Target not likely a cluster member\n",
      "cannot unpack non-iterable NoneType object\n",
      "Target: TOI 1077.01\n",
      "Querying Gaia DR2 catalog for ra,dec=(173.811 -88.0962) within 3.0 arcsec.\n"
     ]
    },
    {
     "name": "stderr",
     "output_type": "stream",
     "text": [
      "\r",
      "  9%|▉         | 64/690 [04:57<48:40,  4.67s/it]"
     ]
    },
    {
     "name": "stdout",
     "output_type": "stream",
     "text": [
      "ra: 8 matched\n",
      "dec: 0 matched\n",
      "parallax: 98 matched\n",
      "pmra: 6 matched\n",
      "pmdec: 9 matched\n",
      "RV: 0 matched\n",
      "matched 2 params in IC_2602:\n",
      "['ra' 'pmdec']\n",
      "Target not likely a cluster member\n",
      "cannot unpack non-iterable NoneType object\n",
      "Target: TOI 1078.01\n",
      "Querying Gaia DR2 catalog for ra,dec=(306.929 -56.4623) within 3.0 arcsec.\n"
     ]
    },
    {
     "name": "stderr",
     "output_type": "stream",
     "text": [
      "\r",
      "  9%|▉         | 65/690 [05:02<49:08,  4.72s/it]"
     ]
    },
    {
     "name": "stdout",
     "output_type": "stream",
     "text": [
      "ra: 13 matched\n",
      "dec: 35 matched\n",
      "parallax: 0 matched\n",
      "pmra: 0 matched\n",
      "pmdec: 0 matched\n",
      "RV: 539 matched\n",
      "matched 2 params in ASCC_111:\n",
      "['ra' 'RV']\n",
      "Target not likely a cluster member\n",
      "cannot unpack non-iterable NoneType object\n",
      "Target: TOI 1079.01\n",
      "Querying Gaia DR2 catalog for ra,dec=(283.12 -55.3879) within 3.0 arcsec.\n"
     ]
    },
    {
     "name": "stderr",
     "output_type": "stream",
     "text": [
      "\r",
      " 10%|▉         | 66/690 [05:07<49:07,  4.72s/it]"
     ]
    },
    {
     "name": "stdout",
     "output_type": "stream",
     "text": [
      "ra: 17 matched\n",
      "dec: 36 matched\n",
      "parallax: 546 matched\n",
      "pmra: 634 matched\n",
      "pmdec: 521 matched\n",
      "RV: 0 matched\n",
      "matched 4 params in NGC_6705:\n",
      "['ra' 'parallax' 'pmra' 'pmdec']\n",
      "Target not likely a cluster member\n",
      "cannot unpack non-iterable NoneType object\n",
      "Target: TOI 1080.01\n",
      "Querying Gaia DR2 catalog for ra,dec=(276.368 -52.2146) within 3.0 arcsec.\n"
     ]
    },
    {
     "name": "stderr",
     "output_type": "stream",
     "text": [
      "\r",
      " 10%|▉         | 67/690 [05:11<48:21,  4.66s/it]"
     ]
    },
    {
     "name": "stdout",
     "output_type": "stream",
     "text": [
      "ra: 18 matched\n",
      "dec: 30 matched\n",
      "parallax: 0 matched\n",
      "pmra: 0 matched\n",
      "pmdec: 0 matched\n",
      "RV: 0 matched\n",
      "matched 2 params in Alessi_9:\n",
      "['ra' 'dec']\n",
      "Target not likely a cluster member\n",
      "cannot unpack non-iterable NoneType object\n",
      "Target: TOI 1081.01\n",
      "Querying Gaia DR2 catalog for ra,dec=(282.14 -40.1118) within 3.0 arcsec.\n"
     ]
    },
    {
     "name": "stderr",
     "output_type": "stream",
     "text": [
      "\r",
      " 10%|▉         | 68/690 [05:16<47:34,  4.59s/it]"
     ]
    },
    {
     "name": "stdout",
     "output_type": "stream",
     "text": [
      "ra: 27 matched\n",
      "dec: 39 matched\n",
      "parallax: 78 matched\n",
      "pmra: 12 matched\n",
      "pmdec: 603 matched\n",
      "RV: 0 matched\n",
      "matched 3 params in ASCC_99:\n",
      "['ra' 'parallax' 'pmdec']\n",
      "Target not likely a cluster member\n",
      "cannot unpack non-iterable NoneType object\n",
      "Target: TOI 1082.01\n",
      "Querying Gaia DR2 catalog for ra,dec=(83.2758 -80.8155) within 3.0 arcsec.\n"
     ]
    },
    {
     "name": "stderr",
     "output_type": "stream",
     "text": [
      "\r",
      " 10%|█         | 69/690 [05:20<47:25,  4.58s/it]"
     ]
    },
    {
     "name": "stdout",
     "output_type": "stream",
     "text": [
      "ra: 16 matched\n",
      "dec: 1 matched\n",
      "parallax: 2 matched\n",
      "pmra: 30 matched\n",
      "pmdec: 0 matched\n",
      "RV: 537 matched\n",
      "matched 2 params in ASCC_19:\n",
      "['ra' 'RV']\n",
      "Target not likely a cluster member\n",
      "cannot unpack non-iterable NoneType object\n",
      "Target: TOI 1083.01\n",
      "Querying Gaia DR2 catalog for ra,dec=(296.822 -87.3228) within 3.0 arcsec.\n"
     ]
    },
    {
     "name": "stderr",
     "output_type": "stream",
     "text": [
      "\r",
      " 10%|█         | 70/690 [05:25<47:31,  4.60s/it]"
     ]
    },
    {
     "name": "stdout",
     "output_type": "stream",
     "text": [
      "ra: 16 matched\n",
      "dec: 0 matched\n",
      "parallax: 0 matched\n",
      "pmra: 0 matched\n",
      "pmdec: 0 matched\n",
      "RV: 422 matched\n",
      "matched 2 params in ASCC_105:\n",
      "['ra' 'RV']\n",
      "Target not likely a cluster member\n",
      "cannot unpack non-iterable NoneType object\n",
      "Target: TOI 1084.01\n",
      "Querying Gaia DR2 catalog for ra,dec=(268.891 -61.7474) within 3.0 arcsec.\n"
     ]
    },
    {
     "name": "stderr",
     "output_type": "stream",
     "text": [
      "\r",
      " 10%|█         | 71/690 [05:29<47:20,  4.59s/it]"
     ]
    },
    {
     "name": "stdout",
     "output_type": "stream",
     "text": [
      "ra: 12 matched\n",
      "dec: 32 matched\n",
      "parallax: 124 matched\n",
      "pmra: 290 matched\n",
      "pmdec: 8 matched\n",
      "RV: 552 matched\n",
      "matched 4 params in UBC_11:\n",
      "['dec' 'parallax' 'pmra' 'RV']\n",
      "Target not likely a cluster member\n",
      "cannot unpack non-iterable NoneType object\n",
      "Target: TOI 1086.01\n",
      "Querying Gaia DR2 catalog for ra,dec=(305.57 -88.5685) within 3.0 arcsec.\n"
     ]
    },
    {
     "name": "stderr",
     "output_type": "stream",
     "text": [
      "\r",
      " 10%|█         | 72/690 [05:34<47:23,  4.60s/it]"
     ]
    },
    {
     "name": "stdout",
     "output_type": "stream",
     "text": [
      "ra: 16 matched\n",
      "dec: 0 matched\n",
      "parallax: 283 matched\n",
      "pmra: 4 matched\n",
      "pmdec: 5 matched\n",
      "RV: 470 matched\n",
      "matched 3 params in ASCC_111:\n",
      "['ra' 'parallax' 'RV']\n",
      "Target not likely a cluster member\n",
      "cannot unpack non-iterable NoneType object\n",
      "Target: TOI 1087.01\n",
      "Querying Gaia DR2 catalog for ra,dec=(238.001 -76.4935) within 3.0 arcsec.\n"
     ]
    },
    {
     "name": "stderr",
     "output_type": "stream",
     "text": [
      "\r",
      " 11%|█         | 73/690 [05:39<47:02,  4.57s/it]"
     ]
    },
    {
     "name": "stdout",
     "output_type": "stream",
     "text": [
      "ra: 11 matched\n",
      "dec: 3 matched\n",
      "parallax: 79 matched\n",
      "pmra: 243 matched\n",
      "pmdec: 32 matched\n",
      "RV: 0 matched\n",
      "matched 3 params in Ruprecht_98:\n",
      "['parallax' 'pmra' 'pmdec']\n",
      "Target not likely a cluster member\n",
      "cannot unpack non-iterable NoneType object\n",
      "Target: TOI 1089.01\n",
      "Querying Gaia DR2 catalog for ra,dec=(228.843 -52.886) within 3.0 arcsec.\n"
     ]
    },
    {
     "name": "stderr",
     "output_type": "stream",
     "text": [
      "\r",
      " 11%|█         | 74/690 [05:43<46:37,  4.54s/it]"
     ]
    },
    {
     "name": "stdout",
     "output_type": "stream",
     "text": [
      "ra: 9 matched\n",
      "dec: 32 matched\n",
      "parallax: 322 matched\n",
      "pmra: 32 matched\n",
      "pmdec: 170 matched\n",
      "RV: 0 matched\n",
      "matched 4 params in NGC_5822:\n",
      "['ra' 'dec' 'parallax' 'pmdec']\n",
      "Target: TOI 1091.01\n",
      "Querying Gaia DR2 catalog for ra,dec=(222.101 -56.0259) within 3.0 arcsec.\n"
     ]
    },
    {
     "name": "stderr",
     "output_type": "stream",
     "text": [
      "\r",
      " 11%|█         | 75/690 [05:47<46:24,  4.53s/it]"
     ]
    },
    {
     "name": "stdout",
     "output_type": "stream",
     "text": [
      "ra: 8 matched\n",
      "dec: 32 matched\n",
      "parallax: 40 matched\n",
      "pmra: 308 matched\n",
      "pmdec: 5 matched\n",
      "RV: 0 matched\n",
      "matched 3 params in UPK_533:\n",
      "['dec' 'parallax' 'pmra']\n",
      "Target not likely a cluster member\n",
      "cannot unpack non-iterable NoneType object\n",
      "Target: TOI 1094.01\n",
      "Querying Gaia DR2 catalog for ra,dec=(230.499 -53.8196) within 3.0 arcsec.\n"
     ]
    },
    {
     "name": "stderr",
     "output_type": "stream",
     "text": [
      "\r",
      " 11%|█         | 76/690 [05:52<45:43,  4.47s/it]"
     ]
    },
    {
     "name": "stdout",
     "output_type": "stream",
     "text": [
      "ra: 8 matched\n",
      "dec: 36 matched\n",
      "parallax: 87 matched\n",
      "pmra: 559 matched\n",
      "pmdec: 260 matched\n",
      "RV: 0 matched\n",
      "matched 4 params in NGC_5925:\n",
      "['ra' 'dec' 'pmra' 'pmdec']\n",
      "Target: TOI 1095.01\n",
      "Querying Gaia DR2 catalog for ra,dec=(133.969 -75.9262) within 3.0 arcsec.\n",
      "There are 2 gaia sources within 3.0 arcsec.\n"
     ]
    },
    {
     "name": "stderr",
     "output_type": "stream",
     "text": [
      "\r",
      " 11%|█         | 77/690 [05:56<45:30,  4.45s/it]"
     ]
    },
    {
     "name": "stdout",
     "output_type": "stream",
     "text": [
      "ra: 17 matched\n",
      "dec: 2 matched\n",
      "parallax: 191 matched\n",
      "pmra: 370 matched\n",
      "pmdec: 8 matched\n",
      "RV: 601 matched\n",
      "matched 3 params in Alessi_21:\n",
      "['parallax' 'pmra' 'RV']\n",
      "Target not likely a cluster member\n",
      "cannot unpack non-iterable NoneType object\n",
      "Target: TOI 1096.01\n",
      "Querying Gaia DR2 catalog for ra,dec=(133.827 -73.1733) within 3.0 arcsec.\n"
     ]
    },
    {
     "name": "stderr",
     "output_type": "stream",
     "text": [
      "\r",
      " 11%|█▏        | 78/690 [06:01<45:20,  4.44s/it]"
     ]
    },
    {
     "name": "stdout",
     "output_type": "stream",
     "text": [
      "ra: 16 matched\n",
      "dec: 1 matched\n",
      "parallax: 117 matched\n",
      "pmra: 8 matched\n",
      "pmdec: 2 matched\n",
      "RV: 599 matched\n",
      "matched 4 params in Platais_8:\n",
      "['ra' 'pmra' 'pmdec' 'RV']\n",
      "Target not likely a cluster member\n",
      "cannot unpack non-iterable NoneType object\n",
      "Target: TOI 1097.01\n",
      "Querying Gaia DR2 catalog for ra,dec=(189.776 -74.574) within 3.0 arcsec.\n"
     ]
    },
    {
     "name": "stderr",
     "output_type": "stream",
     "text": [
      "\r",
      " 11%|█▏        | 79/690 [06:05<45:05,  4.43s/it]"
     ]
    },
    {
     "name": "stdout",
     "output_type": "stream",
     "text": [
      "ra: 9 matched\n",
      "dec: 2 matched\n",
      "parallax: 0 matched\n",
      "pmra: 0 matched\n",
      "pmdec: 88 matched\n",
      "RV: 532 matched\n",
      "matched 3 params in Ruprecht_98:\n",
      "['ra' 'pmdec' 'RV']\n",
      "Target not likely a cluster member\n",
      "cannot unpack non-iterable NoneType object\n",
      "Target: TOI 1098.01\n",
      "Querying Gaia DR2 catalog for ra,dec=(192.589 -88.1211) within 3.0 arcsec.\n"
     ]
    },
    {
     "name": "stderr",
     "output_type": "stream",
     "text": [
      "\r",
      " 12%|█▏        | 80/690 [06:10<45:27,  4.47s/it]"
     ]
    },
    {
     "name": "stdout",
     "output_type": "stream",
     "text": [
      "ra: 5 matched\n",
      "dec: 0 matched\n",
      "parallax: 2 matched\n",
      "pmra: 6 matched\n",
      "pmdec: 8 matched\n",
      "RV: 540 matched\n",
      "matched 3 params in UPK_606:\n",
      "['pmra' 'pmdec' 'RV']\n",
      "Target not likely a cluster member\n",
      "cannot unpack non-iterable NoneType object\n",
      "Target: TOI 1099.01\n",
      "Querying Gaia DR2 catalog for ra,dec=(328.718 -77.3388) within 3.0 arcsec.\n"
     ]
    },
    {
     "name": "stderr",
     "output_type": "stream",
     "text": [
      "\r",
      " 12%|█▏        | 81/690 [06:14<45:15,  4.46s/it]"
     ]
    },
    {
     "name": "stdout",
     "output_type": "stream",
     "text": [
      "ra: 11 matched\n",
      "dec: 3 matched\n",
      "parallax: 0 matched\n",
      "pmra: 0 matched\n",
      "pmdec: 0 matched\n",
      "RV: 523 matched\n",
      "matched 2 params in Alessi_Teutsch_5:\n",
      "['ra' 'RV']\n",
      "Target not likely a cluster member\n",
      "cannot unpack non-iterable NoneType object\n",
      "Target: TOI 1100.01\n",
      "Querying Gaia DR2 catalog for ra,dec=(9.12612 -83.5671) within 3.0 arcsec.\n"
     ]
    },
    {
     "name": "stderr",
     "output_type": "stream",
     "text": [
      "\r",
      " 12%|█▏        | 82/690 [06:19<45:27,  4.49s/it]"
     ]
    },
    {
     "name": "stdout",
     "output_type": "stream",
     "text": [
      "ra: 8 matched\n",
      "dec: 0 matched\n",
      "parallax: 11 matched\n",
      "pmra: 494 matched\n",
      "pmdec: 273 matched\n",
      "RV: 481 matched\n",
      "matched 3 params in Alessi_60:\n",
      "['pmra' 'pmdec' 'RV']\n",
      "Target not likely a cluster member\n",
      "cannot unpack non-iterable NoneType object\n",
      "Target: TOI 1101.01\n",
      "Querying Gaia DR2 catalog for ra,dec=(319.551 -77.5291) within 3.0 arcsec.\n"
     ]
    },
    {
     "name": "stderr",
     "output_type": "stream",
     "text": [
      "\r",
      " 12%|█▏        | 83/690 [06:23<45:01,  4.45s/it]"
     ]
    },
    {
     "name": "stdout",
     "output_type": "stream",
     "text": [
      "ra: 14 matched\n",
      "dec: 3 matched\n",
      "parallax: 21 matched\n",
      "pmra: 3 matched\n",
      "pmdec: 192 matched\n",
      "RV: 536 matched\n",
      "matched 3 params in Alessi_9:\n",
      "['parallax' 'pmdec' 'RV']\n",
      "Target not likely a cluster member\n",
      "cannot unpack non-iterable NoneType object\n",
      "Target: TOI 1103.01\n",
      "Querying Gaia DR2 catalog for ra,dec=(310.087 -63.79) within 3.0 arcsec.\n"
     ]
    },
    {
     "name": "stderr",
     "output_type": "stream",
     "text": [
      "\r",
      " 12%|█▏        | 84/690 [06:28<45:14,  4.48s/it]"
     ]
    },
    {
     "name": "stdout",
     "output_type": "stream",
     "text": [
      "ra: 10 matched\n",
      "dec: 19 matched\n",
      "parallax: 39 matched\n",
      "pmra: 4 matched\n",
      "pmdec: 5 matched\n",
      "RV: 544 matched\n",
      "matched 3 params in Melotte_20:\n",
      "['pmra' 'pmdec' 'RV']\n",
      "Target not likely a cluster member\n",
      "cannot unpack non-iterable NoneType object\n",
      "Target: TOI 1104.01\n",
      "Querying Gaia DR2 catalog for ra,dec=(279.721 -85.7091) within 3.0 arcsec.\n"
     ]
    },
    {
     "name": "stderr",
     "output_type": "stream",
     "text": [
      "\r",
      " 12%|█▏        | 85/690 [06:32<45:12,  4.48s/it]"
     ]
    },
    {
     "name": "stdout",
     "output_type": "stream",
     "text": [
      "ra: 14 matched\n",
      "dec: 0 matched\n",
      "parallax: 0 matched\n",
      "pmra: 0 matched\n",
      "pmdec: 1 matched\n",
      "RV: 553 matched\n",
      "matched 2 params in ASCC_99:\n",
      "['ra' 'RV']\n",
      "Target not likely a cluster member\n",
      "cannot unpack non-iterable NoneType object\n",
      "Target: TOI 1105.01\n",
      "Querying Gaia DR2 catalog for ra,dec=(146.054 -89.4715) within 3.0 arcsec.\n"
     ]
    },
    {
     "name": "stderr",
     "output_type": "stream",
     "text": [
      "\r",
      " 12%|█▏        | 86/690 [06:36<44:59,  4.47s/it]"
     ]
    },
    {
     "name": "stdout",
     "output_type": "stream",
     "text": [
      "ra: 10 matched\n",
      "dec: 0 matched\n",
      "parallax: 0 matched\n",
      "pmra: 6 matched\n",
      "pmdec: 11 matched\n",
      "RV: 477 matched\n",
      "matched 4 params in IC_2602:\n",
      "['ra' 'pmra' 'pmdec' 'RV']\n",
      "Target not likely a cluster member\n",
      "cannot unpack non-iterable NoneType object\n",
      "Target: TOI 1106.01\n",
      "Querying Gaia DR2 catalog for ra,dec=(253.11 -79.1352) within 3.0 arcsec.\n"
     ]
    },
    {
     "name": "stderr",
     "output_type": "stream",
     "text": [
      "\r",
      " 13%|█▎        | 87/690 [06:41<44:52,  4.47s/it]"
     ]
    },
    {
     "name": "stdout",
     "output_type": "stream",
     "text": [
      "ra: 15 matched\n",
      "dec: 1 matched\n",
      "parallax: 155 matched\n",
      "pmra: 6 matched\n",
      "pmdec: 43 matched\n",
      "RV: 540 matched\n",
      "matched 4 params in Alessi_9:\n",
      "['ra' 'pmra' 'pmdec' 'RV']\n",
      "Target not likely a cluster member\n",
      "cannot unpack non-iterable NoneType object\n",
      "Target: TOI 1107.01\n",
      "Querying Gaia DR2 catalog for ra,dec=(155.608 -82.2189) within 3.0 arcsec.\n"
     ]
    },
    {
     "name": "stderr",
     "output_type": "stream",
     "text": [
      "\r",
      " 13%|█▎        | 88/690 [06:45<45:08,  4.50s/it]"
     ]
    },
    {
     "name": "stdout",
     "output_type": "stream",
     "text": [
      "ra: 15 matched\n",
      "dec: 0 matched\n",
      "parallax: 28 matched\n",
      "pmra: 9 matched\n",
      "pmdec: 273 matched\n",
      "RV: 426 matched\n",
      "matched 3 params in Collinder_220:\n",
      "['ra' 'pmdec' 'RV']\n",
      "Target not likely a cluster member\n",
      "cannot unpack non-iterable NoneType object\n",
      "Target: TOI 1110.01\n",
      "Querying Gaia DR2 catalog for ra,dec=(286.792 -58.6972) within 3.0 arcsec.\n"
     ]
    },
    {
     "name": "stderr",
     "output_type": "stream",
     "text": [
      "\r",
      " 13%|█▎        | 89/690 [06:50<45:37,  4.55s/it]"
     ]
    },
    {
     "name": "stdout",
     "output_type": "stream",
     "text": [
      "ra: 13 matched\n",
      "dec: 34 matched\n",
      "parallax: 10 matched\n",
      "pmra: 41 matched\n",
      "pmdec: 90 matched\n",
      "RV: 543 matched\n",
      "matched 4 params in NGC_6475:\n",
      "['parallax' 'pmra' 'pmdec' 'RV']\n",
      "Target not likely a cluster member\n",
      "cannot unpack non-iterable NoneType object\n",
      "Target: TOI 1111.01\n",
      "Querying Gaia DR2 catalog for ra,dec=(291.374 -60.941) within 3.0 arcsec.\n"
     ]
    },
    {
     "name": "stderr",
     "output_type": "stream",
     "text": [
      "\r",
      " 13%|█▎        | 90/690 [06:55<45:33,  4.56s/it]"
     ]
    },
    {
     "name": "stdout",
     "output_type": "stream",
     "text": [
      "ra: 13 matched\n",
      "dec: 38 matched\n",
      "parallax: 36 matched\n",
      "pmra: 3 matched\n",
      "pmdec: 38 matched\n",
      "RV: 0 matched\n",
      "matched 3 params in UPK_612:\n",
      "['dec' 'parallax' 'pmdec']\n",
      "Target not likely a cluster member\n",
      "cannot unpack non-iterable NoneType object\n",
      "Target: TOI 1113.01\n",
      "Querying Gaia DR2 catalog for ra,dec=(328.711 -77.3374) within 3.0 arcsec.\n"
     ]
    },
    {
     "name": "stderr",
     "output_type": "stream",
     "text": [
      "\r",
      " 13%|█▎        | 91/690 [06:59<45:43,  4.58s/it]"
     ]
    },
    {
     "name": "stdout",
     "output_type": "stream",
     "text": [
      "ra: 11 matched\n",
      "dec: 3 matched\n",
      "parallax: 0 matched\n",
      "pmra: 0 matched\n",
      "pmdec: 0 matched\n",
      "RV: 527 matched\n",
      "matched 2 params in Alessi_Teutsch_5:\n",
      "['ra' 'RV']\n",
      "Target not likely a cluster member\n",
      "cannot unpack non-iterable NoneType object\n",
      "Target: TOI 1114.01\n",
      "Querying Gaia DR2 catalog for ra,dec=(302.148 -71.5524) within 3.0 arcsec.\n"
     ]
    },
    {
     "name": "stderr",
     "output_type": "stream",
     "text": [
      "\r",
      " 13%|█▎        | 92/690 [07:04<45:54,  4.61s/it]"
     ]
    },
    {
     "name": "stdout",
     "output_type": "stream",
     "text": [
      "ra: 18 matched\n",
      "dec: 3 matched\n",
      "parallax: 32 matched\n",
      "pmra: 44 matched\n",
      "pmdec: 12 matched\n",
      "RV: 0 matched\n",
      "matched 3 params in RSG_5:\n",
      "['ra' 'parallax' 'pmra']\n",
      "Target not likely a cluster member\n",
      "cannot unpack non-iterable NoneType object\n",
      "Target: TOI 1116.01\n",
      "Querying Gaia DR2 catalog for ra,dec=(27.7 -75.8488) within 3.0 arcsec.\n"
     ]
    },
    {
     "name": "stderr",
     "output_type": "stream",
     "text": [
      "\r",
      " 13%|█▎        | 93/690 [07:09<45:46,  4.60s/it]"
     ]
    },
    {
     "name": "stdout",
     "output_type": "stream",
     "text": [
      "ra: 16 matched\n",
      "dec: 2 matched\n",
      "parallax: 2 matched\n",
      "pmra: 6 matched\n",
      "pmdec: 353 matched\n",
      "RV: 462 matched\n",
      "matched 3 params in Alessi_13:\n",
      "['parallax' 'pmdec' 'RV']\n",
      "Target not likely a cluster member\n",
      "cannot unpack non-iterable NoneType object\n",
      "Target: TOI 1117.01\n",
      "Querying Gaia DR2 catalog for ra,dec=(273.602 -66.42) within 3.0 arcsec.\n"
     ]
    },
    {
     "name": "stderr",
     "output_type": "stream",
     "text": [
      "\r",
      " 14%|█▎        | 94/690 [07:13<45:38,  4.59s/it]"
     ]
    },
    {
     "name": "stdout",
     "output_type": "stream",
     "text": [
      "ra: 13 matched\n",
      "dec: 15 matched\n",
      "parallax: 10 matched\n",
      "pmra: 8 matched\n",
      "pmdec: 0 matched\n",
      "RV: 502 matched\n",
      "matched 4 params in UPK_612:\n",
      "['ra' 'dec' 'parallax' 'pmra']\n",
      "Target: TOI 1120.01\n",
      "Querying Gaia DR2 catalog for ra,dec=(293.389 -45.8927) within 3.0 arcsec.\n"
     ]
    },
    {
     "name": "stderr",
     "output_type": "stream",
     "text": [
      "\r",
      " 14%|█▍        | 95/690 [07:18<45:05,  4.55s/it]"
     ]
    },
    {
     "name": "stdout",
     "output_type": "stream",
     "text": [
      "ra: 15 matched\n",
      "dec: 26 matched\n",
      "parallax: 72 matched\n",
      "pmra: 5 matched\n",
      "pmdec: 206 matched\n",
      "RV: 0 matched\n",
      "matched 3 params in UPK_535:\n",
      "['dec' 'parallax' 'pmdec']\n",
      "Target not likely a cluster member\n",
      "cannot unpack non-iterable NoneType object\n",
      "Target: TOI 1122.01\n",
      "Querying Gaia DR2 catalog for ra,dec=(281.37 -52.2629) within 3.0 arcsec.\n",
      "Target parallax (nan mas) is omitted!\n",
      "ra: 24 matched\n",
      "dec: 44 matched\n",
      "parallax: 0 matched\n",
      "pmra: 0 matched\n",
      "pmdec: 0 matched\n"
     ]
    },
    {
     "name": "stderr",
     "output_type": "stream",
     "text": [
      "\r",
      " 14%|█▍        | 96/690 [07:23<47:19,  4.78s/it]"
     ]
    },
    {
     "name": "stdout",
     "output_type": "stream",
     "text": [
      "RV: 0 matched\n",
      "matched 2 params in Mamajek_4:\n",
      "['ra' 'dec']\n",
      "Target not likely a cluster member\n",
      "cannot unpack non-iterable NoneType object\n",
      "Target: TOI 1124.01\n",
      "Querying Gaia DR2 catalog for ra,dec=(300.213 -43.9825) within 3.0 arcsec.\n",
      "ra: 23 matched\n",
      "dec: 23 matched\n",
      "parallax: 0 matched\n"
     ]
    },
    {
     "name": "stderr",
     "output_type": "stream",
     "text": [
      "\r",
      " 14%|█▍        | 97/690 [07:30<53:13,  5.39s/it]"
     ]
    },
    {
     "name": "stdout",
     "output_type": "stream",
     "text": [
      "pmra: 0 matched\n",
      "pmdec: 0 matched\n",
      "RV: 505 matched\n",
      "matched 2 params in ASCC_105:\n",
      "['ra' 'RV']\n",
      "Target not likely a cluster member\n",
      "cannot unpack non-iterable NoneType object\n",
      "Target: TOI 1125.01\n",
      "Querying Gaia DR2 catalog for ra,dec=(298.288 -46.37) within 3.0 arcsec.\n",
      "ra: 12 matched\n",
      "dec: 23 matched\n",
      "parallax: 10 matched\n",
      "pmra: 5 matched\n",
      "pmdec: 26 matched\n"
     ]
    },
    {
     "name": "stderr",
     "output_type": "stream",
     "text": [
      "\r",
      " 14%|█▍        | 98/690 [07:35<53:55,  5.47s/it]"
     ]
    },
    {
     "name": "stdout",
     "output_type": "stream",
     "text": [
      "RV: 0 matched\n",
      "matched 3 params in Alessi_9:\n",
      "['dec' 'parallax' 'pmra']\n",
      "Target not likely a cluster member\n",
      "cannot unpack non-iterable NoneType object\n",
      "Target: TOI 1129.01\n",
      "Querying Gaia DR2 catalog for ra,dec=(284.158 -29.3984) within 3.0 arcsec.\n"
     ]
    },
    {
     "name": "stderr",
     "output_type": "stream",
     "text": [
      "\r",
      " 14%|█▍        | 99/690 [07:40<52:37,  5.34s/it]"
     ]
    },
    {
     "name": "stdout",
     "output_type": "stream",
     "text": [
      "ra: 13 matched\n",
      "dec: 15 matched\n",
      "parallax: 12 matched\n",
      "pmra: 5 matched\n",
      "pmdec: 5 matched\n",
      "RV: 0 matched\n",
      "matched 3 params in Blanco_1:\n",
      "['dec' 'parallax' 'pmra']\n",
      "Target not likely a cluster member\n",
      "cannot unpack non-iterable NoneType object\n",
      "Target: TOI 1130.01\n",
      "Querying Gaia DR2 catalog for ra,dec=(286.376 -41.4376) within 3.0 arcsec.\n"
     ]
    },
    {
     "name": "stderr",
     "output_type": "stream",
     "text": [
      "\r",
      " 14%|█▍        | 100/690 [07:46<53:34,  5.45s/it]"
     ]
    },
    {
     "name": "stdout",
     "output_type": "stream",
     "text": [
      "ra: 11 matched\n",
      "dec: 22 matched\n",
      "parallax: 0 matched\n",
      "pmra: 3 matched\n",
      "pmdec: 2 matched\n",
      "RV: 521 matched\n",
      "matched 3 params in Alessi_9:\n",
      "['dec' 'pmra' 'RV']\n",
      "Target not likely a cluster member\n",
      "cannot unpack non-iterable NoneType object\n",
      "Target: TOI 1130.02\n",
      "Querying Gaia DR2 catalog for ra,dec=(286.376 -41.4376) within 3.0 arcsec.\n"
     ]
    },
    {
     "name": "stderr",
     "output_type": "stream",
     "text": [
      "\r",
      " 15%|█▍        | 101/690 [07:51<51:08,  5.21s/it]"
     ]
    },
    {
     "name": "stdout",
     "output_type": "stream",
     "text": [
      "ra: 11 matched\n",
      "dec: 22 matched\n",
      "parallax: 0 matched\n",
      "pmra: 3 matched\n",
      "pmdec: 2 matched\n",
      "RV: 521 matched\n",
      "matched 3 params in Alessi_9:\n",
      "['dec' 'pmra' 'RV']\n",
      "Target not likely a cluster member\n",
      "cannot unpack non-iterable NoneType object\n",
      "Target: TOI 1131.01\n",
      "Querying Gaia DR2 catalog for ra,dec=(248.434 61.7183) within 3.0 arcsec.\n"
     ]
    },
    {
     "name": "stderr",
     "output_type": "stream",
     "text": [
      "\r",
      " 15%|█▍        | 102/690 [07:56<49:43,  5.07s/it]"
     ]
    },
    {
     "name": "stdout",
     "output_type": "stream",
     "text": [
      "ra: 13 matched\n",
      "dec: 42 matched\n",
      "parallax: 12 matched\n",
      "pmra: 318 matched\n",
      "pmdec: 53 matched\n",
      "RV: 491 matched\n",
      "matched 3 params in BH_85:\n",
      "['pmra' 'pmdec' 'RV']\n",
      "Target not likely a cluster member\n",
      "cannot unpack non-iterable NoneType object\n",
      "Target: TOI 1133.01\n",
      "Querying Gaia DR2 catalog for ra,dec=(294.824 31.958) within 3.0 arcsec.\n"
     ]
    },
    {
     "name": "stderr",
     "output_type": "stream",
     "text": [
      "\r",
      " 15%|█▍        | 103/690 [08:00<47:58,  4.90s/it]"
     ]
    },
    {
     "name": "stdout",
     "output_type": "stream",
     "text": [
      "ra: 17 matched\n",
      "dec: 22 matched\n",
      "parallax: 11 matched\n",
      "pmra: 290 matched\n",
      "pmdec: 2 matched\n",
      "RV: 0 matched\n",
      "matched 2 params in ASCC_105:\n",
      "['ra' 'dec']\n",
      "Target not likely a cluster member\n",
      "cannot unpack non-iterable NoneType object\n",
      "Target: TOI 1135.01\n",
      "Querying Gaia DR2 catalog for ra,dec=(193.396 85.1295) within 3.0 arcsec.\n"
     ]
    },
    {
     "name": "stderr",
     "output_type": "stream",
     "text": [
      "\r",
      " 15%|█▌        | 104/690 [08:05<46:55,  4.80s/it]"
     ]
    },
    {
     "name": "stdout",
     "output_type": "stream",
     "text": [
      "ra: 8 matched\n",
      "dec: 1 matched\n",
      "parallax: 2 matched\n",
      "pmra: 4 matched\n",
      "pmdec: 103 matched\n",
      "RV: 507 matched\n",
      "matched 2 params in ASCC_73:\n",
      "['ra' 'RV']\n",
      "Target not likely a cluster member\n",
      "cannot unpack non-iterable NoneType object\n",
      "Target: TOI 1136.01\n",
      "Querying Gaia DR2 catalog for ra,dec=(192.185 64.8553) within 3.0 arcsec.\n"
     ]
    },
    {
     "name": "stderr",
     "output_type": "stream",
     "text": [
      "\r",
      " 15%|█▌        | 105/690 [08:09<46:12,  4.74s/it]"
     ]
    },
    {
     "name": "stdout",
     "output_type": "stream",
     "text": [
      "ra: 7 matched\n",
      "dec: 17 matched\n",
      "parallax: 0 matched\n",
      "pmra: 305 matched\n",
      "pmdec: 23 matched\n",
      "RV: 540 matched\n",
      "matched 3 params in Platais_3:\n",
      "['dec' 'pmra' 'RV']\n",
      "Target not likely a cluster member\n",
      "cannot unpack non-iterable NoneType object\n",
      "Target: TOI 1136.02\n",
      "Querying Gaia DR2 catalog for ra,dec=(192.185 64.8553) within 3.0 arcsec.\n"
     ]
    },
    {
     "name": "stderr",
     "output_type": "stream",
     "text": [
      "\r",
      " 15%|█▌        | 106/690 [08:14<45:50,  4.71s/it]"
     ]
    },
    {
     "name": "stdout",
     "output_type": "stream",
     "text": [
      "ra: 7 matched\n",
      "dec: 17 matched\n",
      "parallax: 0 matched\n",
      "pmra: 305 matched\n",
      "pmdec: 23 matched\n",
      "RV: 540 matched\n",
      "matched 3 params in Platais_3:\n",
      "['dec' 'pmra' 'RV']\n",
      "Target not likely a cluster member\n",
      "cannot unpack non-iterable NoneType object\n",
      "Target: TOI 1136.03\n",
      "Querying Gaia DR2 catalog for ra,dec=(192.185 64.8553) within 3.0 arcsec.\n"
     ]
    },
    {
     "name": "stderr",
     "output_type": "stream",
     "text": [
      "\r",
      " 16%|█▌        | 107/690 [08:18<45:29,  4.68s/it]"
     ]
    },
    {
     "name": "stdout",
     "output_type": "stream",
     "text": [
      "ra: 7 matched\n",
      "dec: 17 matched\n",
      "parallax: 0 matched\n",
      "pmra: 305 matched\n",
      "pmdec: 23 matched\n",
      "RV: 540 matched\n",
      "matched 3 params in Platais_3:\n",
      "['dec' 'pmra' 'RV']\n",
      "Target not likely a cluster member\n",
      "cannot unpack non-iterable NoneType object\n",
      "Target: TOI 1137.01\n",
      "Querying Gaia DR2 catalog for ra,dec=(301.178 30.4099) within 3.0 arcsec.\n"
     ]
    },
    {
     "name": "stderr",
     "output_type": "stream",
     "text": [
      "\r",
      " 16%|█▌        | 108/690 [08:23<45:07,  4.65s/it]"
     ]
    },
    {
     "name": "stdout",
     "output_type": "stream",
     "text": [
      "ra: 15 matched\n",
      "dec: 15 matched\n",
      "parallax: 81 matched\n",
      "pmra: 427 matched\n",
      "pmdec: 8 matched\n",
      "RV: 529 matched\n",
      "matched 4 params in Alessi_10:\n",
      "['ra' 'parallax' 'pmra' 'RV']\n",
      "Target not likely a cluster member\n",
      "cannot unpack non-iterable NoneType object\n",
      "Target: TOI 1138.01\n",
      "Querying Gaia DR2 catalog for ra,dec=(291.463 25.1894) within 3.0 arcsec.\n"
     ]
    },
    {
     "name": "stderr",
     "output_type": "stream",
     "text": [
      "\r",
      " 16%|█▌        | 109/690 [08:28<45:56,  4.74s/it]"
     ]
    },
    {
     "name": "stdout",
     "output_type": "stream",
     "text": [
      "ra: 14 matched\n",
      "dec: 18 matched\n",
      "parallax: 74 matched\n",
      "pmra: 224 matched\n",
      "pmdec: 291 matched\n",
      "RV: 0 matched\n",
      "matched 3 params in ASCC_105:\n",
      "['ra' 'dec' 'pmra']\n",
      "Target not likely a cluster member\n",
      "cannot unpack non-iterable NoneType object\n",
      "Target: TOI 1139.01\n",
      "Querying Gaia DR2 catalog for ra,dec=(304.034 31.9257) within 3.0 arcsec.\n"
     ]
    },
    {
     "name": "stderr",
     "output_type": "stream",
     "text": [
      "\r",
      " 16%|█▌        | 110/690 [08:33<45:39,  4.72s/it]"
     ]
    },
    {
     "name": "stdout",
     "output_type": "stream",
     "text": [
      "ra: 18 matched\n",
      "dec: 21 matched\n",
      "parallax: 10 matched\n",
      "pmra: 5 matched\n",
      "pmdec: 31 matched\n",
      "RV: 0 matched\n",
      "matched 2 params in Blanco_1:\n",
      "['parallax' 'pmra']\n",
      "Target not likely a cluster member\n",
      "cannot unpack non-iterable NoneType object\n",
      "Target: TOI 1144.01\n",
      "Querying Gaia DR2 catalog for ra,dec=(297.71 48.0819) within 3.0 arcsec.\n"
     ]
    },
    {
     "name": "stderr",
     "output_type": "stream",
     "text": [
      "\r",
      " 16%|█▌        | 111/690 [08:37<45:26,  4.71s/it]"
     ]
    },
    {
     "name": "stdout",
     "output_type": "stream",
     "text": [
      "ra: 14 matched\n",
      "dec: 23 matched\n",
      "parallax: 0 matched\n",
      "pmra: 0 matched\n",
      "pmdec: 0 matched\n",
      "RV: 344 matched\n",
      "matched 2 params in ASCC_105:\n",
      "['ra' 'RV']\n",
      "Target not likely a cluster member\n",
      "cannot unpack non-iterable NoneType object\n",
      "Target: TOI 1145.01\n",
      "Querying Gaia DR2 catalog for ra,dec=(291.921 36.5299) within 3.0 arcsec.\n"
     ]
    },
    {
     "name": "stderr",
     "output_type": "stream",
     "text": [
      "\r",
      " 16%|█▌        | 112/690 [08:42<44:54,  4.66s/it]"
     ]
    },
    {
     "name": "stdout",
     "output_type": "stream",
     "text": [
      "ra: 17 matched\n",
      "dec: 32 matched\n",
      "parallax: 96 matched\n",
      "pmra: 19 matched\n",
      "pmdec: 51 matched\n",
      "RV: 0 matched\n",
      "matched 3 params in Stock_1:\n",
      "['ra' 'parallax' 'pmra']\n",
      "Target not likely a cluster member\n",
      "cannot unpack non-iterable NoneType object\n",
      "Target: TOI 1148.01\n",
      "Querying Gaia DR2 catalog for ra,dec=(161.909 71.6557) within 3.0 arcsec.\n",
      "There are 2 gaia sources within 3.0 arcsec.\n"
     ]
    },
    {
     "name": "stderr",
     "output_type": "stream",
     "text": [
      "\r",
      " 16%|█▋        | 113/690 [08:47<47:01,  4.89s/it]"
     ]
    },
    {
     "name": "stdout",
     "output_type": "stream",
     "text": [
      "ra: 14 matched\n",
      "dec: 5 matched\n",
      "parallax: 2 matched\n",
      "pmra: 0 matched\n",
      "pmdec: 0 matched\n",
      "RV: 519 matched\n",
      "matched 2 params in COIN-Gaia_30:\n",
      "['dec' 'RV']\n",
      "Target not likely a cluster member\n",
      "cannot unpack non-iterable NoneType object\n",
      "Target: TOI 1149.01\n",
      "Querying Gaia DR2 catalog for ra,dec=(300.774 26.892) within 3.0 arcsec.\n"
     ]
    },
    {
     "name": "stderr",
     "output_type": "stream",
     "text": [
      "\r",
      " 17%|█▋        | 114/690 [08:52<46:17,  4.82s/it]"
     ]
    },
    {
     "name": "stdout",
     "output_type": "stream",
     "text": [
      "ra: 17 matched\n",
      "dec: 23 matched\n",
      "parallax: 236 matched\n",
      "pmra: 59 matched\n",
      "pmdec: 276 matched\n",
      "RV: 0 matched\n",
      "matched 3 params in ASCC_105:\n",
      "['ra' 'dec' 'parallax']\n",
      "Target not likely a cluster member\n",
      "cannot unpack non-iterable NoneType object\n",
      "Target: TOI 1150.01\n",
      "Querying Gaia DR2 catalog for ra,dec=(307.86 39.9389) within 3.0 arcsec.\n"
     ]
    },
    {
     "name": "stderr",
     "output_type": "stream",
     "text": [
      "\r",
      " 17%|█▋        | 115/690 [08:57<46:58,  4.90s/it]"
     ]
    },
    {
     "name": "stdout",
     "output_type": "stream",
     "text": [
      "ra: 13 matched\n",
      "dec: 22 matched\n",
      "parallax: 11 matched\n",
      "pmra: 4 matched\n",
      "pmdec: 2 matched\n",
      "RV: 0 matched\n",
      "matched 3 params in Melotte_20:\n",
      "['dec' 'parallax' 'pmra']\n",
      "Target not likely a cluster member\n",
      "cannot unpack non-iterable NoneType object\n",
      "Target: TOI 1151.01\n",
      "Querying Gaia DR2 catalog for ra,dec=(294.661 31.2192) within 3.0 arcsec.\n"
     ]
    },
    {
     "name": "stderr",
     "output_type": "stream",
     "text": [
      "\r",
      " 17%|█▋        | 116/690 [09:02<47:57,  5.01s/it]"
     ]
    },
    {
     "name": "stdout",
     "output_type": "stream",
     "text": [
      "ra: 16 matched\n",
      "dec: 19 matched\n",
      "parallax: 4 matched\n",
      "pmra: 72 matched\n",
      "pmdec: 146 matched\n",
      "RV: 0 matched\n",
      "matched 3 params in ASCC_105:\n",
      "['ra' 'dec' 'pmra']\n",
      "Target not likely a cluster member\n",
      "cannot unpack non-iterable NoneType object\n",
      "Target: TOI 1152.01\n",
      "Querying Gaia DR2 catalog for ra,dec=(283.49 37.3806) within 3.0 arcsec.\n",
      "There are 2 gaia sources within 3.0 arcsec.\n"
     ]
    },
    {
     "name": "stderr",
     "output_type": "stream",
     "text": [
      "\r",
      " 17%|█▋        | 117/690 [09:07<46:45,  4.90s/it]"
     ]
    },
    {
     "name": "stdout",
     "output_type": "stream",
     "text": [
      "ra: 18 matched\n",
      "dec: 30 matched\n",
      "parallax: 2 matched\n",
      "pmra: 7 matched\n",
      "pmdec: 0 matched\n",
      "RV: 0 matched\n",
      "matched 2 params in Stephenson_1:\n",
      "['ra' 'dec']\n",
      "Target not likely a cluster member\n",
      "cannot unpack non-iterable NoneType object\n",
      "Target: TOI 1154.01\n",
      "Querying Gaia DR2 catalog for ra,dec=(254.924 64.6992) within 3.0 arcsec.\n",
      "ra: 17 matched\n",
      "dec: 19 matched\n",
      "parallax: 2 matched\n",
      "pmra: 199 matched\n",
      "pmdec: 2 matched\n"
     ]
    },
    {
     "name": "stderr",
     "output_type": "stream",
     "text": [
      "\r",
      " 17%|█▋        | 118/690 [09:12<46:45,  4.90s/it]"
     ]
    },
    {
     "name": "stdout",
     "output_type": "stream",
     "text": [
      "RV: 518 matched\n",
      "matched 3 params in COIN-Gaia_1:\n",
      "['dec' 'pmra' 'RV']\n",
      "Target not likely a cluster member\n",
      "cannot unpack non-iterable NoneType object\n",
      "Target: TOI 1160.01\n",
      "Querying Gaia DR2 catalog for ra,dec=(301.318 30.6707) within 3.0 arcsec.\n"
     ]
    },
    {
     "name": "stderr",
     "output_type": "stream",
     "text": [
      "\r",
      " 17%|█▋        | 119/690 [09:16<45:24,  4.77s/it]"
     ]
    },
    {
     "name": "stdout",
     "output_type": "stream",
     "text": [
      "ra: 15 matched\n",
      "dec: 20 matched\n",
      "parallax: 907 matched\n",
      "pmra: 528 matched\n",
      "pmdec: 159 matched\n",
      "RV: 0 matched\n",
      "matched 4 params in Biurakan_2:\n",
      "['ra' 'parallax' 'pmra' 'pmdec']\n",
      "Target not likely a cluster member\n",
      "cannot unpack non-iterable NoneType object\n",
      "Target: TOI 1161.01\n",
      "Querying Gaia DR2 catalog for ra,dec=(286.971 46.8683) within 3.0 arcsec.\n",
      "There are 2 gaia sources within 3.0 arcsec.\n"
     ]
    },
    {
     "name": "stderr",
     "output_type": "stream",
     "text": [
      "\r",
      " 17%|█▋        | 120/690 [09:21<44:26,  4.68s/it]"
     ]
    },
    {
     "name": "stdout",
     "output_type": "stream",
     "text": [
      "ra: 14 matched\n",
      "dec: 30 matched\n",
      "parallax: 166 matched\n",
      "pmra: 375 matched\n",
      "pmdec: 5 matched\n",
      "RV: 0 matched\n",
      "matched 3 params in COIN-Gaia_13:\n",
      "['dec' 'parallax' 'pmra']\n",
      "Target not likely a cluster member\n",
      "cannot unpack non-iterable NoneType object\n",
      "Target: TOI 1162.01\n",
      "Querying Gaia DR2 catalog for ra,dec=(305.289 41.4624) within 3.0 arcsec.\n",
      "There are 2 gaia sources within 3.0 arcsec.\n"
     ]
    },
    {
     "name": "stderr",
     "output_type": "stream",
     "text": [
      "\r",
      " 18%|█▊        | 121/690 [09:25<43:55,  4.63s/it]"
     ]
    },
    {
     "name": "stdout",
     "output_type": "stream",
     "text": [
      "ra: 16 matched\n",
      "dec: 24 matched\n",
      "parallax: 63 matched\n",
      "pmra: 18 matched\n",
      "pmdec: 279 matched\n",
      "RV: 0 matched\n",
      "matched 5 params in Roslund_6:\n",
      "['ra' 'dec' 'parallax' 'pmra' 'pmdec']\n",
      "Target: TOI 1163.01\n",
      "Querying Gaia DR2 catalog for ra,dec=(294.092 19.6393) within 3.0 arcsec.\n",
      "There are 2 gaia sources within 3.0 arcsec.\n"
     ]
    },
    {
     "name": "stderr",
     "output_type": "stream",
     "text": [
      "\r",
      " 18%|█▊        | 122/690 [09:30<43:40,  4.61s/it]"
     ]
    },
    {
     "name": "stdout",
     "output_type": "stream",
     "text": [
      "ra: 16 matched\n",
      "dec: 14 matched\n",
      "parallax: 9 matched\n",
      "pmra: 755 matched\n",
      "pmdec: 13 matched\n",
      "RV: 0 matched\n",
      "matched 2 params in COIN-Gaia_25:\n",
      "['dec' 'pmra']\n",
      "Target not likely a cluster member\n",
      "cannot unpack non-iterable NoneType object\n",
      "Target: TOI 1165.01\n",
      "Querying Gaia DR2 catalog for ra,dec=(232.147 66.3587) within 3.0 arcsec.\n"
     ]
    },
    {
     "name": "stderr",
     "output_type": "stream",
     "text": [
      "\r",
      " 18%|█▊        | 123/690 [09:35<43:37,  4.62s/it]"
     ]
    },
    {
     "name": "stdout",
     "output_type": "stream",
     "text": [
      "ra: 8 matched\n",
      "dec: 15 matched\n",
      "parallax: 2 matched\n",
      "pmra: 387 matched\n",
      "pmdec: 10 matched\n",
      "RV: 512 matched\n",
      "matched 3 params in UPK_294:\n",
      "['dec' 'pmra' 'RV']\n",
      "Target not likely a cluster member\n",
      "cannot unpack non-iterable NoneType object\n",
      "Target: TOI 1169.01\n",
      "Querying Gaia DR2 catalog for ra,dec=(134.12 72.5333) within 3.0 arcsec.\n",
      "There are 2 gaia sources within 3.0 arcsec.\n"
     ]
    },
    {
     "name": "stderr",
     "output_type": "stream",
     "text": [
      "\r",
      " 18%|█▊        | 124/690 [09:39<43:26,  4.61s/it]"
     ]
    },
    {
     "name": "stdout",
     "output_type": "stream",
     "text": [
      "ra: 17 matched\n",
      "dec: 3 matched\n",
      "parallax: 21 matched\n",
      "pmra: 221 matched\n",
      "pmdec: 16 matched\n",
      "RV: 0 matched\n",
      "matched 2 params in Alessi_43:\n",
      "['ra' 'pmra']\n",
      "Target not likely a cluster member\n",
      "cannot unpack non-iterable NoneType object\n",
      "Target: TOI 1173.01\n",
      "Querying Gaia DR2 catalog for ra,dec=(197.683 70.768) within 3.0 arcsec.\n"
     ]
    },
    {
     "name": "stderr",
     "output_type": "stream",
     "text": [
      "\r",
      " 18%|█▊        | 125/690 [09:44<43:10,  4.59s/it]"
     ]
    },
    {
     "name": "stdout",
     "output_type": "stream",
     "text": [
      "ra: 5 matched\n",
      "dec: 4 matched\n",
      "parallax: 2 matched\n",
      "pmra: 0 matched\n",
      "pmdec: 0 matched\n",
      "RV: 410 matched\n",
      "matched 2 params in ASCC_73:\n",
      "['ra' 'RV']\n",
      "Target not likely a cluster member\n",
      "cannot unpack non-iterable NoneType object\n",
      "Target: TOI 1174.01\n",
      "Querying Gaia DR2 catalog for ra,dec=(209.217 68.6182) within 3.0 arcsec.\n"
     ]
    },
    {
     "name": "stderr",
     "output_type": "stream",
     "text": [
      "\r",
      " 18%|█▊        | 126/690 [09:48<42:57,  4.57s/it]"
     ]
    },
    {
     "name": "stdout",
     "output_type": "stream",
     "text": [
      "ra: 9 matched\n",
      "dec: 7 matched\n",
      "parallax: 2 matched\n",
      "pmra: 0 matched\n",
      "pmdec: 0 matched\n",
      "RV: 525 matched\n",
      "matched 2 params in COIN-Gaia_1:\n",
      "['dec' 'RV']\n",
      "Target not likely a cluster member\n",
      "cannot unpack non-iterable NoneType object\n",
      "Target: TOI 1175.01\n",
      "Querying Gaia DR2 catalog for ra,dec=(289.239 31.3236) within 3.0 arcsec.\n"
     ]
    },
    {
     "name": "stderr",
     "output_type": "stream",
     "text": [
      "\r",
      " 18%|█▊        | 127/690 [09:53<42:48,  4.56s/it]"
     ]
    },
    {
     "name": "stdout",
     "output_type": "stream",
     "text": [
      "ra: 10 matched\n",
      "dec: 17 matched\n",
      "parallax: 11 matched\n",
      "pmra: 34 matched\n",
      "pmdec: 1 matched\n",
      "RV: 528 matched\n",
      "matched 3 params in Stock_1:\n",
      "['ra' 'dec' 'RV']\n",
      "Target not likely a cluster member\n",
      "cannot unpack non-iterable NoneType object\n",
      "Target: TOI 1176.01\n",
      "Querying Gaia DR2 catalog for ra,dec=(247.357 71.5059) within 3.0 arcsec.\n"
     ]
    },
    {
     "name": "stderr",
     "output_type": "stream",
     "text": [
      "\r",
      " 19%|█▊        | 128/690 [09:57<42:26,  4.53s/it]"
     ]
    },
    {
     "name": "stdout",
     "output_type": "stream",
     "text": [
      "ra: 13 matched\n",
      "dec: 5 matched\n",
      "parallax: 29 matched\n",
      "pmra: 7 matched\n",
      "pmdec: 102 matched\n",
      "RV: 513 matched\n",
      "matched 3 params in UPK_612:\n",
      "['ra' 'parallax' 'pmra']\n",
      "Target not likely a cluster member\n",
      "cannot unpack non-iterable NoneType object\n",
      "Target: TOI 1180.01\n",
      "Querying Gaia DR2 catalog for ra,dec=(214.556 82.1938) within 3.0 arcsec.\n"
     ]
    },
    {
     "name": "stderr",
     "output_type": "stream",
     "text": [
      "\r",
      " 19%|█▊        | 129/690 [10:02<42:38,  4.56s/it]"
     ]
    },
    {
     "name": "stdout",
     "output_type": "stream",
     "text": [
      "ra: 10 matched\n",
      "dec: 0 matched\n",
      "parallax: 0 matched\n",
      "pmra: 0 matched\n",
      "pmdec: 0 matched\n",
      "RV: 450 matched\n",
      "matched 2 params in Alessi_6:\n",
      "['ra' 'RV']\n",
      "Target not likely a cluster member\n",
      "cannot unpack non-iterable NoneType object\n",
      "Target: TOI 1181.01\n",
      "Querying Gaia DR2 catalog for ra,dec=(297.216 64.3543) within 3.0 arcsec.\n"
     ]
    },
    {
     "name": "stderr",
     "output_type": "stream",
     "text": [
      "\r",
      " 19%|█▉        | 130/690 [10:06<42:08,  4.52s/it]"
     ]
    },
    {
     "name": "stdout",
     "output_type": "stream",
     "text": [
      "ra: 16 matched\n",
      "dec: 24 matched\n",
      "parallax: 31 matched\n",
      "pmra: 228 matched\n",
      "pmdec: 391 matched\n",
      "RV: 495 matched\n",
      "matched 4 params in Collinder_350:\n",
      "['parallax' 'pmra' 'pmdec' 'RV']\n",
      "Target not likely a cluster member\n",
      "cannot unpack non-iterable NoneType object\n",
      "Target: TOI 1184.01\n",
      "Querying Gaia DR2 catalog for ra,dec=(272.204 60.6788) within 3.0 arcsec.\n"
     ]
    },
    {
     "name": "stderr",
     "output_type": "stream",
     "text": [
      "\r",
      " 19%|█▉        | 131/690 [10:11<42:07,  4.52s/it]"
     ]
    },
    {
     "name": "stdout",
     "output_type": "stream",
     "text": [
      "ra: 12 matched\n",
      "dec: 37 matched\n",
      "parallax: 0 matched\n",
      "pmra: 0 matched\n",
      "pmdec: 0 matched\n",
      "RV: 511 matched\n",
      "matched 2 params in Alessi_19:\n",
      "['ra' 'RV']\n",
      "Target not likely a cluster member\n",
      "cannot unpack non-iterable NoneType object\n",
      "Target: TOI 1187.01\n",
      "Querying Gaia DR2 catalog for ra,dec=(162.893 81.3222) within 3.0 arcsec.\n"
     ]
    },
    {
     "name": "stderr",
     "output_type": "stream",
     "text": [
      "\r",
      " 19%|█▉        | 132/690 [10:15<42:26,  4.56s/it]"
     ]
    },
    {
     "name": "stdout",
     "output_type": "stream",
     "text": [
      "ra: 13 matched\n",
      "dec: 0 matched\n",
      "parallax: 12 matched\n",
      "pmra: 676 matched\n",
      "pmdec: 35 matched\n",
      "RV: 504 matched\n",
      "matched 3 params in Alessi_19:\n",
      "['pmra' 'pmdec' 'RV']\n",
      "Target not likely a cluster member\n",
      "cannot unpack non-iterable NoneType object\n",
      "Target: TOI 1189.01\n",
      "Querying Gaia DR2 catalog for ra,dec=(292.223 24.2012) within 3.0 arcsec.\n"
     ]
    },
    {
     "name": "stderr",
     "output_type": "stream",
     "text": [
      "\r",
      " 19%|█▉        | 133/690 [10:20<42:18,  4.56s/it]"
     ]
    },
    {
     "name": "stdout",
     "output_type": "stream",
     "text": [
      "ra: 17 matched\n",
      "dec: 23 matched\n",
      "parallax: 18 matched\n",
      "pmra: 7 matched\n",
      "pmdec: 1 matched\n",
      "RV: 553 matched\n",
      "matched 3 params in ASCC_105:\n",
      "['ra' 'dec' 'RV']\n",
      "Target not likely a cluster member\n",
      "cannot unpack non-iterable NoneType object\n",
      "Target: TOI 1191.01\n",
      "Querying Gaia DR2 catalog for ra,dec=(283.527 37.72) within 3.0 arcsec.\n"
     ]
    },
    {
     "name": "stderr",
     "output_type": "stream",
     "text": [
      "\r",
      " 19%|█▉        | 134/690 [10:24<42:02,  4.54s/it]"
     ]
    },
    {
     "name": "stdout",
     "output_type": "stream",
     "text": [
      "ra: 17 matched\n",
      "dec: 30 matched\n",
      "parallax: 62 matched\n",
      "pmra: 267 matched\n",
      "pmdec: 529 matched\n",
      "RV: 0 matched\n",
      "matched 5 params in Stephenson_1:\n",
      "['ra' 'dec' 'parallax' 'pmra' 'pmdec']\n",
      "Target: TOI 1192.01\n",
      "Querying Gaia DR2 catalog for ra,dec=(286.55 44.0808) within 3.0 arcsec.\n"
     ]
    },
    {
     "name": "stderr",
     "output_type": "stream",
     "text": [
      "\r",
      " 20%|█▉        | 135/690 [10:29<41:39,  4.50s/it]"
     ]
    },
    {
     "name": "stdout",
     "output_type": "stream",
     "text": [
      "ra: 11 matched\n",
      "dec: 32 matched\n",
      "parallax: 89 matched\n",
      "pmra: 95 matched\n",
      "pmdec: 5 matched\n",
      "RV: 587 matched\n",
      "matched 4 params in NGC_7092:\n",
      "['dec' 'pmra' 'pmdec' 'RV']\n",
      "Target not likely a cluster member\n",
      "cannot unpack non-iterable NoneType object\n",
      "Target: TOI 1194.01\n",
      "Querying Gaia DR2 catalog for ra,dec=(167.821 69.9648) within 3.0 arcsec.\n"
     ]
    },
    {
     "name": "stderr",
     "output_type": "stream",
     "text": [
      "\r",
      " 20%|█▉        | 136/690 [10:33<41:28,  4.49s/it]"
     ]
    },
    {
     "name": "stdout",
     "output_type": "stream",
     "text": [
      "ra: 14 matched\n",
      "dec: 3 matched\n",
      "parallax: 8 matched\n",
      "pmra: 0 matched\n",
      "pmdec: 3 matched\n",
      "RV: 380 matched\n",
      "matched 2 params in ASCC_66:\n",
      "['ra' 'RV']\n",
      "Target not likely a cluster member\n",
      "cannot unpack non-iterable NoneType object\n",
      "Target: TOI 1196.01\n",
      "Querying Gaia DR2 catalog for ra,dec=(291.708 17.8087) within 3.0 arcsec.\n",
      "There are 2 gaia sources within 3.0 arcsec.\n"
     ]
    },
    {
     "name": "stderr",
     "output_type": "stream",
     "text": [
      "\r",
      " 20%|█▉        | 137/690 [10:38<41:30,  4.50s/it]"
     ]
    },
    {
     "name": "stdout",
     "output_type": "stream",
     "text": [
      "ra: 13 matched\n",
      "dec: 9 matched\n",
      "parallax: 87 matched\n",
      "pmra: 438 matched\n",
      "pmdec: 520 matched\n",
      "RV: 0 matched\n",
      "matched 3 params in ASCC_105:\n",
      "['ra' 'pmra' 'pmdec']\n",
      "Target not likely a cluster member\n",
      "cannot unpack non-iterable NoneType object\n",
      "Target: TOI 1197.01\n",
      "Querying Gaia DR2 catalog for ra,dec=(293.268 15.7361) within 3.0 arcsec.\n",
      "There are 2 gaia sources within 3.0 arcsec.\n"
     ]
    },
    {
     "name": "stderr",
     "output_type": "stream",
     "text": [
      "\r",
      " 20%|██        | 138/690 [10:42<41:16,  4.49s/it]"
     ]
    },
    {
     "name": "stdout",
     "output_type": "stream",
     "text": [
      "ra: 13 matched\n",
      "dec: 13 matched\n",
      "parallax: 81 matched\n",
      "pmra: 12 matched\n",
      "pmdec: 484 matched\n",
      "RV: 521 matched\n",
      "matched 4 params in ASCC_127:\n",
      "['parallax' 'pmra' 'pmdec' 'RV']\n",
      "Target not likely a cluster member\n",
      "cannot unpack non-iterable NoneType object\n",
      "Target: TOI 1198.01\n",
      "Querying Gaia DR2 catalog for ra,dec=(304.8 32.581) within 3.0 arcsec.\n"
     ]
    },
    {
     "name": "stderr",
     "output_type": "stream",
     "text": [
      "\r",
      " 20%|██        | 139/690 [10:47<41:12,  4.49s/it]"
     ]
    },
    {
     "name": "stdout",
     "output_type": "stream",
     "text": [
      "ra: 15 matched\n",
      "dec: 19 matched\n",
      "parallax: 108 matched\n",
      "pmra: 145 matched\n",
      "pmdec: 436 matched\n",
      "RV: 0 matched\n",
      "matched 5 params in Roslund_5:\n",
      "['ra' 'dec' 'parallax' 'pmra' 'pmdec']\n",
      "Target: TOI 1199.01\n",
      "Querying Gaia DR2 catalog for ra,dec=(166.881 61.3526) within 3.0 arcsec.\n"
     ]
    },
    {
     "name": "stderr",
     "output_type": "stream",
     "text": [
      "\r",
      " 20%|██        | 140/690 [10:51<41:23,  4.52s/it]"
     ]
    },
    {
     "name": "stdout",
     "output_type": "stream",
     "text": [
      "ra: 10 matched\n",
      "dec: 42 matched\n",
      "parallax: 12 matched\n",
      "pmra: 384 matched\n",
      "pmdec: 0 matched\n",
      "RV: 513 matched\n",
      "matched 3 params in Alessi_Teutsch_5:\n",
      "['dec' 'pmra' 'RV']\n",
      "Target not likely a cluster member\n",
      "cannot unpack non-iterable NoneType object\n",
      "Target: TOI 1201.01\n",
      "Querying Gaia DR2 catalog for ra,dec=(42.2477 -14.5373) within 3.0 arcsec.\n"
     ]
    },
    {
     "name": "stderr",
     "output_type": "stream",
     "text": [
      "\r",
      " 20%|██        | 141/690 [10:56<41:05,  4.49s/it]"
     ]
    },
    {
     "name": "stdout",
     "output_type": "stream",
     "text": [
      "ra: 14 matched\n",
      "dec: 16 matched\n",
      "parallax: 0 matched\n",
      "pmra: 0 matched\n",
      "pmdec: 0 matched\n",
      "RV: 465 matched\n",
      "matched 2 params in ASCC_9:\n",
      "['ra' 'RV']\n",
      "Target not likely a cluster member\n",
      "cannot unpack non-iterable NoneType object\n",
      "Target: TOI 1203.01\n",
      "Querying Gaia DR2 catalog for ra,dec=(168.227 -34.4069) within 3.0 arcsec.\n"
     ]
    },
    {
     "name": "stderr",
     "output_type": "stream",
     "text": [
      "\r",
      " 21%|██        | 142/690 [11:00<40:50,  4.47s/it]"
     ]
    },
    {
     "name": "stdout",
     "output_type": "stream",
     "text": [
      "ra: 15 matched\n",
      "dec: 23 matched\n",
      "parallax: 0 matched\n",
      "pmra: 0 matched\n",
      "pmdec: 1 matched\n",
      "RV: 270 matched\n",
      "matched 2 params in Gulliver_29:\n",
      "['dec' 'RV']\n",
      "Target not likely a cluster member\n",
      "cannot unpack non-iterable NoneType object\n",
      "Target: TOI 1204.01\n",
      "Querying Gaia DR2 catalog for ra,dec=(169.119 -60.5677) within 3.0 arcsec.\n"
     ]
    },
    {
     "name": "stderr",
     "output_type": "stream",
     "text": [
      "\r",
      " 21%|██        | 143/690 [11:05<41:11,  4.52s/it]"
     ]
    },
    {
     "name": "stdout",
     "output_type": "stream",
     "text": [
      "ra: 9 matched\n",
      "dec: 37 matched\n",
      "parallax: 1 matched\n",
      "pmra: 0 matched\n",
      "pmdec: 0 matched\n",
      "RV: 410 matched\n",
      "matched 2 params in ASCC_66:\n",
      "['ra' 'RV']\n",
      "Target not likely a cluster member\n",
      "cannot unpack non-iterable NoneType object\n",
      "Target: TOI 1205.01\n",
      "Querying Gaia DR2 catalog for ra,dec=(127.128 -74.9547) within 3.0 arcsec.\n"
     ]
    },
    {
     "name": "stderr",
     "output_type": "stream",
     "text": [
      "\r",
      " 21%|██        | 144/690 [11:09<41:16,  4.54s/it]"
     ]
    },
    {
     "name": "stdout",
     "output_type": "stream",
     "text": [
      "ra: 16 matched\n",
      "dec: 2 matched\n",
      "parallax: 34 matched\n",
      "pmra: 6 matched\n",
      "pmdec: 2 matched\n",
      "RV: 545 matched\n",
      "matched 4 params in Platais_8:\n",
      "['ra' 'pmra' 'pmdec' 'RV']\n",
      "Target not likely a cluster member\n",
      "cannot unpack non-iterable NoneType object\n",
      "Target: TOI 1207.01\n",
      "Querying Gaia DR2 catalog for ra,dec=(116.594 -64.056) within 3.0 arcsec.\n"
     ]
    },
    {
     "name": "stderr",
     "output_type": "stream",
     "text": [
      "\r",
      " 21%|██        | 145/690 [11:14<40:57,  4.51s/it]"
     ]
    },
    {
     "name": "stdout",
     "output_type": "stream",
     "text": [
      "ra: 24 matched\n",
      "dec: 18 matched\n",
      "parallax: 2 matched\n",
      "pmra: 0 matched\n",
      "pmdec: 0 matched\n",
      "RV: 181 matched\n",
      "matched 2 params in ASCC_79:\n",
      "['dec' 'RV']\n",
      "Target not likely a cluster member\n",
      "cannot unpack non-iterable NoneType object\n",
      "Target: TOI 1208.01\n",
      "Querying Gaia DR2 catalog for ra,dec=(30.5087 -83.228) within 3.0 arcsec.\n"
     ]
    },
    {
     "name": "stderr",
     "output_type": "stream",
     "text": [
      "\r",
      " 21%|██        | 146/690 [11:18<40:32,  4.47s/it]"
     ]
    },
    {
     "name": "stdout",
     "output_type": "stream",
     "text": [
      "ra: 16 matched\n",
      "dec: 0 matched\n",
      "parallax: 3 matched\n",
      "pmra: 8 matched\n",
      "pmdec: 0 matched\n",
      "RV: 457 matched\n",
      "matched 2 params in Alessi_20:\n",
      "['pmra' 'RV']\n",
      "Target not likely a cluster member\n",
      "cannot unpack non-iterable NoneType object\n",
      "Target: TOI 1209.01\n",
      "Querying Gaia DR2 catalog for ra,dec=(73.5419 -70.3791) within 3.0 arcsec.\n"
     ]
    },
    {
     "name": "stderr",
     "output_type": "stream",
     "text": [
      "\r",
      " 21%|██▏       | 147/690 [11:23<40:21,  4.46s/it]"
     ]
    },
    {
     "name": "stdout",
     "output_type": "stream",
     "text": [
      "ra: 11 matched\n",
      "dec: 7 matched\n",
      "parallax: 10 matched\n",
      "pmra: 0 matched\n",
      "pmdec: 0 matched\n",
      "RV: 450 matched\n",
      "matched 2 params in ASCC_12:\n",
      "['ra' 'RV']\n",
      "Target not likely a cluster member\n",
      "cannot unpack non-iterable NoneType object\n",
      "Target: TOI 1211.01\n",
      "Querying Gaia DR2 catalog for ra,dec=(31.1789 -73.1268) within 3.0 arcsec.\n"
     ]
    },
    {
     "name": "stderr",
     "output_type": "stream",
     "text": [
      "\r",
      " 21%|██▏       | 148/690 [11:27<40:15,  4.46s/it]"
     ]
    },
    {
     "name": "stdout",
     "output_type": "stream",
     "text": [
      "ra: 14 matched\n",
      "dec: 1 matched\n",
      "parallax: 2 matched\n",
      "pmra: 0 matched\n",
      "pmdec: 0 matched\n",
      "RV: 516 matched\n",
      "matched 2 params in COIN-Gaia_33:\n",
      "['ra' 'RV']\n",
      "Target not likely a cluster member\n",
      "cannot unpack non-iterable NoneType object\n",
      "Target: TOI 1212.01\n",
      "Querying Gaia DR2 catalog for ra,dec=(87.8742 -70.9918) within 3.0 arcsec.\n"
     ]
    },
    {
     "name": "stderr",
     "output_type": "stream",
     "text": [
      "\r",
      " 22%|██▏       | 149/690 [11:32<40:38,  4.51s/it]"
     ]
    },
    {
     "name": "stdout",
     "output_type": "stream",
     "text": [
      "ra: 17 matched\n",
      "dec: 3 matched\n",
      "parallax: 10 matched\n",
      "pmra: 11 matched\n",
      "pmdec: 240 matched\n",
      "RV: 539 matched\n",
      "matched 4 params in UPK_612:\n",
      "['dec' 'parallax' 'pmra' 'pmdec']\n",
      "Target not likely a cluster member\n",
      "cannot unpack non-iterable NoneType object\n",
      "Target: TOI 1213.01\n",
      "Querying Gaia DR2 catalog for ra,dec=(163.199 -67.3875) within 3.0 arcsec.\n"
     ]
    },
    {
     "name": "stderr",
     "output_type": "stream",
     "text": [
      "\r",
      " 22%|██▏       | 150/690 [11:36<40:29,  4.50s/it]"
     ]
    },
    {
     "name": "stdout",
     "output_type": "stream",
     "text": [
      "ra: 14 matched\n",
      "dec: 12 matched\n",
      "parallax: 9 matched\n",
      "pmra: 0 matched\n",
      "pmdec: 0 matched\n",
      "RV: 523 matched\n",
      "matched 4 params in IC_2602:\n",
      "['ra' 'dec' 'parallax' 'RV']\n",
      "Target: TOI 1214.01\n",
      "Querying Gaia DR2 catalog for ra,dec=(285.049 -84.4482) within 3.0 arcsec.\n"
     ]
    },
    {
     "name": "stderr",
     "output_type": "stream",
     "text": [
      "\r",
      " 22%|██▏       | 151/690 [11:41<40:10,  4.47s/it]"
     ]
    },
    {
     "name": "stdout",
     "output_type": "stream",
     "text": [
      "ra: 12 matched\n",
      "dec: 0 matched\n",
      "parallax: 1 matched\n",
      "pmra: 5 matched\n",
      "pmdec: 8 matched\n",
      "RV: 515 matched\n",
      "matched 2 params in ASCC_99:\n",
      "['ra' 'RV']\n",
      "Target not likely a cluster member\n",
      "cannot unpack non-iterable NoneType object\n",
      "Target: TOI 1215.01\n",
      "Querying Gaia DR2 catalog for ra,dec=(146.877 -77.2968) within 3.0 arcsec.\n",
      "There are 2 gaia sources within 3.0 arcsec.\n"
     ]
    },
    {
     "name": "stderr",
     "output_type": "stream",
     "text": [
      "\r",
      " 22%|██▏       | 152/690 [11:45<40:21,  4.50s/it]"
     ]
    },
    {
     "name": "stdout",
     "output_type": "stream",
     "text": [
      "ra: 11 matched\n",
      "dec: 3 matched\n",
      "parallax: 0 matched\n",
      "pmra: 0 matched\n",
      "pmdec: 0 matched\n",
      "RV: 0 matched\n",
      "matched 1 params in FSR_1509:\n",
      "['ra']\n",
      "Target not likely a cluster member\n",
      "cannot unpack non-iterable NoneType object\n",
      "Target: TOI 1216.01\n",
      "Querying Gaia DR2 catalog for ra,dec=(87.7148 -75.6886) within 3.0 arcsec.\n"
     ]
    },
    {
     "name": "stderr",
     "output_type": "stream",
     "text": [
      "\r",
      " 22%|██▏       | 153/690 [11:50<39:51,  4.45s/it]"
     ]
    },
    {
     "name": "stdout",
     "output_type": "stream",
     "text": [
      "ra: 16 matched\n",
      "dec: 2 matched\n",
      "parallax: 2 matched\n",
      "pmra: 1 matched\n",
      "pmdec: 0 matched\n",
      "RV: 453 matched\n",
      "matched 3 params in Alessi_13:\n",
      "['parallax' 'pmra' 'RV']\n",
      "Target not likely a cluster member\n",
      "cannot unpack non-iterable NoneType object\n",
      "Target: TOI 1217.01\n",
      "Querying Gaia DR2 catalog for ra,dec=(193.261 -44.0994) within 3.0 arcsec.\n"
     ]
    },
    {
     "name": "stderr",
     "output_type": "stream",
     "text": [
      "\r",
      " 22%|██▏       | 154/690 [11:54<40:27,  4.53s/it]"
     ]
    },
    {
     "name": "stdout",
     "output_type": "stream",
     "text": [
      "ra: 8 matched\n",
      "dec: 22 matched\n",
      "parallax: 112 matched\n",
      "pmra: 6 matched\n",
      "pmdec: 530 matched\n",
      "RV: 549 matched\n",
      "matched 4 params in ASCC_73:\n",
      "['ra' 'parallax' 'pmdec' 'RV']\n",
      "Target not likely a cluster member\n",
      "cannot unpack non-iterable NoneType object\n",
      "Target: TOI 1218.01\n",
      "Querying Gaia DR2 catalog for ra,dec=(71.4841 -68.7618) within 3.0 arcsec.\n"
     ]
    },
    {
     "name": "stderr",
     "output_type": "stream",
     "text": [
      "\r",
      " 22%|██▏       | 155/690 [11:59<40:32,  4.55s/it]"
     ]
    },
    {
     "name": "stdout",
     "output_type": "stream",
     "text": [
      "ra: 11 matched\n",
      "dec: 10 matched\n",
      "parallax: 4 matched\n",
      "pmra: 13 matched\n",
      "pmdec: 7 matched\n",
      "RV: 518 matched\n",
      "matched 4 params in IC_2602:\n",
      "['dec' 'parallax' 'pmdec' 'RV']\n",
      "Target not likely a cluster member\n",
      "cannot unpack non-iterable NoneType object\n",
      "Target: TOI 1219.01\n",
      "Querying Gaia DR2 catalog for ra,dec=(72.3325 -67.3687) within 3.0 arcsec.\n"
     ]
    },
    {
     "name": "stderr",
     "output_type": "stream",
     "text": [
      "\r",
      " 23%|██▎       | 156/690 [12:03<40:15,  4.52s/it]"
     ]
    },
    {
     "name": "stdout",
     "output_type": "stream",
     "text": [
      "ra: 10 matched\n",
      "dec: 12 matched\n",
      "parallax: 30 matched\n",
      "pmra: 447 matched\n",
      "pmdec: 10 matched\n",
      "RV: 537 matched\n",
      "matched 3 params in ASCC_12:\n",
      "['ra' 'pmra' 'RV']\n",
      "Target not likely a cluster member\n",
      "cannot unpack non-iterable NoneType object\n",
      "Target: TOI 1220.01\n",
      "Querying Gaia DR2 catalog for ra,dec=(71.6508 -78.5616) within 3.0 arcsec.\n"
     ]
    },
    {
     "name": "stderr",
     "output_type": "stream",
     "text": [
      "\r",
      " 23%|██▎       | 157/690 [12:08<40:23,  4.55s/it]"
     ]
    },
    {
     "name": "stdout",
     "output_type": "stream",
     "text": [
      "ra: 10 matched\n",
      "dec: 1 matched\n",
      "parallax: 25 matched\n",
      "pmra: 3 matched\n",
      "pmdec: 137 matched\n",
      "RV: 561 matched\n",
      "matched 3 params in UPK_535:\n",
      "['parallax' 'pmdec' 'RV']\n",
      "Target not likely a cluster member\n",
      "cannot unpack non-iterable NoneType object\n",
      "Target: TOI 1221.01\n",
      "Querying Gaia DR2 catalog for ra,dec=(107.921 -65.5089) within 3.0 arcsec.\n"
     ]
    },
    {
     "name": "stderr",
     "output_type": "stream",
     "text": [
      "\r",
      " 23%|██▎       | 158/690 [12:12<40:04,  4.52s/it]"
     ]
    },
    {
     "name": "stdout",
     "output_type": "stream",
     "text": [
      "ra: 21 matched\n",
      "dec: 15 matched\n",
      "parallax: 4 matched\n",
      "pmra: 378 matched\n",
      "pmdec: 0 matched\n",
      "RV: 519 matched\n",
      "matched 3 params in Berkeley_35:\n",
      "['ra' 'pmra' 'RV']\n",
      "Target not likely a cluster member\n",
      "cannot unpack non-iterable NoneType object\n",
      "Target: TOI 1222.01\n",
      "Querying Gaia DR2 catalog for ra,dec=(99.2248 -63.0794) within 3.0 arcsec.\n"
     ]
    },
    {
     "name": "stderr",
     "output_type": "stream",
     "text": [
      "\r",
      " 23%|██▎       | 159/690 [12:17<40:04,  4.53s/it]"
     ]
    },
    {
     "name": "stdout",
     "output_type": "stream",
     "text": [
      "ra: 22 matched\n",
      "dec: 30 matched\n",
      "parallax: 10 matched\n",
      "pmra: 6 matched\n",
      "pmdec: 583 matched\n",
      "RV: 521 matched\n",
      "matched 3 params in ASCC_123:\n",
      "['parallax' 'pmdec' 'RV']\n",
      "Target not likely a cluster member\n",
      "cannot unpack non-iterable NoneType object\n",
      "Target: TOI 1223.01\n",
      "Querying Gaia DR2 catalog for ra,dec=(117.215 -63.7201) within 3.0 arcsec.\n"
     ]
    },
    {
     "name": "stderr",
     "output_type": "stream",
     "text": [
      "\r",
      " 23%|██▎       | 160/690 [12:21<39:36,  4.48s/it]"
     ]
    },
    {
     "name": "stdout",
     "output_type": "stream",
     "text": [
      "ra: 20 matched\n",
      "dec: 20 matched\n",
      "parallax: 10 matched\n",
      "pmra: 6 matched\n",
      "pmdec: 1 matched\n",
      "RV: 548 matched\n",
      "matched 3 params in IC_2602:\n",
      "['dec' 'pmra' 'RV']\n",
      "Target not likely a cluster member\n",
      "cannot unpack non-iterable NoneType object\n",
      "Target: TOI 1224.01\n",
      "Querying Gaia DR2 catalog for ra,dec=(37.1978 -80.8991) within 3.0 arcsec.\n"
     ]
    },
    {
     "name": "stderr",
     "output_type": "stream",
     "text": [
      "\r",
      " 23%|██▎       | 161/690 [12:26<39:38,  4.50s/it]"
     ]
    },
    {
     "name": "stdout",
     "output_type": "stream",
     "text": [
      "ra: 16 matched\n",
      "dec: 1 matched\n",
      "parallax: 0 matched\n",
      "pmra: 0 matched\n",
      "pmdec: 2 matched\n",
      "RV: 531 matched\n",
      "matched 3 params in Mamajek_1:\n",
      "['dec' 'pmdec' 'RV']\n",
      "Target not likely a cluster member\n",
      "cannot unpack non-iterable NoneType object\n",
      "Target: TOI 1225.01\n",
      "Querying Gaia DR2 catalog for ra,dec=(97.1663 -64.5964) within 3.0 arcsec.\n"
     ]
    },
    {
     "name": "stderr",
     "output_type": "stream",
     "text": [
      "\r",
      " 23%|██▎       | 162/690 [12:30<39:23,  4.48s/it]"
     ]
    },
    {
     "name": "stdout",
     "output_type": "stream",
     "text": [
      "ra: 19 matched\n",
      "dec: 20 matched\n",
      "parallax: 14 matched\n",
      "pmra: 6 matched\n",
      "pmdec: 66 matched\n",
      "RV: 537 matched\n",
      "matched 3 params in IC_2602:\n",
      "['dec' 'pmra' 'RV']\n",
      "Target not likely a cluster member\n",
      "cannot unpack non-iterable NoneType object\n",
      "Target: TOI 1226.01\n",
      "Querying Gaia DR2 catalog for ra,dec=(103.755 -69.8671) within 3.0 arcsec.\n"
     ]
    },
    {
     "name": "stderr",
     "output_type": "stream",
     "text": [
      "\r",
      " 24%|██▎       | 163/690 [12:35<39:23,  4.48s/it]"
     ]
    },
    {
     "name": "stdout",
     "output_type": "stream",
     "text": [
      "ra: 22 matched\n",
      "dec: 7 matched\n",
      "parallax: 20 matched\n",
      "pmra: 50 matched\n",
      "pmdec: 459 matched\n",
      "RV: 490 matched\n",
      "matched 4 params in UBC_7:\n",
      "['ra' 'parallax' 'pmra' 'RV']\n",
      "Target not likely a cluster member\n",
      "cannot unpack non-iterable NoneType object\n",
      "Target: TOI 1227.01\n",
      "Querying Gaia DR2 catalog for ra,dec=(186.767 -72.4519) within 3.0 arcsec.\n"
     ]
    },
    {
     "name": "stderr",
     "output_type": "stream",
     "text": [
      "\r",
      " 24%|██▍       | 164/690 [12:39<39:21,  4.49s/it]"
     ]
    },
    {
     "name": "stdout",
     "output_type": "stream",
     "text": [
      "ra: 10 matched\n",
      "dec: 2 matched\n",
      "parallax: 2 matched\n",
      "pmra: 1 matched\n",
      "pmdec: 20 matched\n",
      "RV: 0 matched\n",
      "matched 2 params in NGC_2632:\n",
      "['pmra' 'pmdec']\n",
      "Target not likely a cluster member\n",
      "cannot unpack non-iterable NoneType object\n",
      "Target: TOI 1228.01\n",
      "Querying Gaia DR2 catalog for ra,dec=(107.844 -68.8333) within 3.0 arcsec.\n"
     ]
    },
    {
     "name": "stderr",
     "output_type": "stream",
     "text": [
      "\r",
      " 24%|██▍       | 165/690 [12:44<40:03,  4.58s/it]"
     ]
    },
    {
     "name": "stdout",
     "output_type": "stream",
     "text": [
      "ra: 20 matched\n",
      "dec: 10 matched\n",
      "parallax: 24 matched\n",
      "pmra: 559 matched\n",
      "pmdec: 0 matched\n",
      "RV: 0 matched\n",
      "matched 2 params in ASCC_41:\n",
      "['parallax' 'pmra']\n",
      "Target not likely a cluster member\n",
      "cannot unpack non-iterable NoneType object\n",
      "Target: TOI 1230.01\n",
      "Querying Gaia DR2 catalog for ra,dec=(118.13 -83.8251) within 3.0 arcsec.\n"
     ]
    },
    {
     "name": "stderr",
     "output_type": "stream",
     "text": [
      "\r",
      " 24%|██▍       | 166/690 [12:49<39:41,  4.54s/it]"
     ]
    },
    {
     "name": "stdout",
     "output_type": "stream",
     "text": [
      "ra: 19 matched\n",
      "dec: 0 matched\n",
      "parallax: 6 matched\n",
      "pmra: 3 matched\n",
      "pmdec: 0 matched\n",
      "RV: 297 matched\n",
      "matched 2 params in FSR_1361:\n",
      "['ra' 'RV']\n",
      "Target not likely a cluster member\n",
      "cannot unpack non-iterable NoneType object\n",
      "Target: TOI 1231.01\n",
      "Querying Gaia DR2 catalog for ra,dec=(156.747 -52.4679) within 3.0 arcsec.\n"
     ]
    },
    {
     "name": "stderr",
     "output_type": "stream",
     "text": [
      "\r",
      " 24%|██▍       | 167/690 [12:53<39:47,  4.56s/it]"
     ]
    },
    {
     "name": "stdout",
     "output_type": "stream",
     "text": [
      "ra: 14 matched\n",
      "dec: 31 matched\n",
      "parallax: 0 matched\n",
      "pmra: 0 matched\n",
      "pmdec: 0 matched\n",
      "RV: 280 matched\n",
      "matched 2 params in ASCC_58:\n",
      "['ra' 'dec']\n",
      "Target not likely a cluster member\n",
      "cannot unpack non-iterable NoneType object\n",
      "Target: TOI 1232.01\n",
      "Querying Gaia DR2 catalog for ra,dec=(116.501 -61.8798) within 3.0 arcsec.\n"
     ]
    },
    {
     "name": "stderr",
     "output_type": "stream",
     "text": [
      "\r",
      " 24%|██▍       | 168/690 [12:58<39:57,  4.59s/it]"
     ]
    },
    {
     "name": "stdout",
     "output_type": "stream",
     "text": [
      "ra: 23 matched\n",
      "dec: 32 matched\n",
      "parallax: 41 matched\n",
      "pmra: 612 matched\n",
      "pmdec: 2 matched\n",
      "RV: 540 matched\n",
      "matched 4 params in NGC_2516:\n",
      "['ra' 'dec' 'pmra' 'RV']\n",
      "Target: TOI 1233.01\n",
      "Querying Gaia DR2 catalog for ra,dec=(186.574 -51.3631) within 3.0 arcsec.\n"
     ]
    },
    {
     "name": "stderr",
     "output_type": "stream",
     "text": [
      "\r",
      " 24%|██▍       | 169/690 [13:02<39:53,  4.59s/it]"
     ]
    },
    {
     "name": "stdout",
     "output_type": "stream",
     "text": [
      "ra: 11 matched\n",
      "dec: 27 matched\n",
      "parallax: 0 matched\n",
      "pmra: 0 matched\n",
      "pmdec: 1 matched\n",
      "RV: 517 matched\n",
      "matched 3 params in UPK_579:\n",
      "['ra' 'dec' 'RV']\n",
      "Target not likely a cluster member\n",
      "cannot unpack non-iterable NoneType object\n",
      "Target: TOI 1233.02\n",
      "Querying Gaia DR2 catalog for ra,dec=(186.574 -51.3631) within 3.0 arcsec.\n"
     ]
    },
    {
     "name": "stderr",
     "output_type": "stream",
     "text": [
      "\r",
      " 25%|██▍       | 170/690 [13:07<39:17,  4.53s/it]"
     ]
    },
    {
     "name": "stdout",
     "output_type": "stream",
     "text": [
      "ra: 11 matched\n",
      "dec: 27 matched\n",
      "parallax: 0 matched\n",
      "pmra: 0 matched\n",
      "pmdec: 1 matched\n",
      "RV: 517 matched\n",
      "matched 3 params in UPK_579:\n",
      "['ra' 'dec' 'RV']\n",
      "Target not likely a cluster member\n",
      "cannot unpack non-iterable NoneType object\n",
      "Target: TOI 1233.03\n",
      "Querying Gaia DR2 catalog for ra,dec=(186.574 -51.3631) within 3.0 arcsec.\n"
     ]
    },
    {
     "name": "stderr",
     "output_type": "stream",
     "text": [
      "\r",
      " 25%|██▍       | 171/690 [13:11<39:08,  4.52s/it]"
     ]
    },
    {
     "name": "stdout",
     "output_type": "stream",
     "text": [
      "ra: 11 matched\n",
      "dec: 27 matched\n",
      "parallax: 0 matched\n",
      "pmra: 0 matched\n",
      "pmdec: 1 matched\n",
      "RV: 517 matched\n",
      "matched 3 params in UPK_579:\n",
      "['ra' 'dec' 'RV']\n",
      "Target not likely a cluster member\n",
      "cannot unpack non-iterable NoneType object\n",
      "Target: TOI 1233.04\n",
      "Querying Gaia DR2 catalog for ra,dec=(186.574 -51.3631) within 3.0 arcsec.\n"
     ]
    },
    {
     "name": "stderr",
     "output_type": "stream",
     "text": [
      "\r",
      " 25%|██▍       | 172/690 [13:16<38:39,  4.48s/it]"
     ]
    },
    {
     "name": "stdout",
     "output_type": "stream",
     "text": [
      "ra: 11 matched\n",
      "dec: 27 matched\n",
      "parallax: 0 matched\n",
      "pmra: 0 matched\n",
      "pmdec: 1 matched\n",
      "RV: 517 matched\n",
      "matched 3 params in UPK_579:\n",
      "['ra' 'dec' 'RV']\n",
      "Target not likely a cluster member\n",
      "cannot unpack non-iterable NoneType object\n",
      "Target: TOI 1234.01\n",
      "Querying Gaia DR2 catalog for ra,dec=(290.572 26.3195) within 3.0 arcsec.\n",
      "There are 2 gaia sources within 3.0 arcsec.\n"
     ]
    },
    {
     "name": "stderr",
     "output_type": "stream",
     "text": [
      "\r",
      " 25%|██▌       | 173/690 [13:20<38:43,  4.49s/it]"
     ]
    },
    {
     "name": "stdout",
     "output_type": "stream",
     "text": [
      "ra: 14 matched\n",
      "dec: 20 matched\n",
      "parallax: 2 matched\n",
      "pmra: 3 matched\n",
      "pmdec: 5 matched\n",
      "RV: 0 matched\n",
      "matched 2 params in ASCC_105:\n",
      "['ra' 'dec']\n",
      "Target not likely a cluster member\n",
      "cannot unpack non-iterable NoneType object\n",
      "Target: TOI 1235.01\n",
      "Querying Gaia DR2 catalog for ra,dec=(152.218 69.2766) within 3.0 arcsec.\n"
     ]
    },
    {
     "name": "stderr",
     "output_type": "stream",
     "text": [
      "\r",
      " 25%|██▌       | 174/690 [13:25<38:44,  4.50s/it]"
     ]
    },
    {
     "name": "stdout",
     "output_type": "stream",
     "text": [
      "ra: 11 matched\n",
      "dec: 3 matched\n",
      "parallax: 0 matched\n",
      "pmra: 0 matched\n",
      "pmdec: 2 matched\n",
      "RV: 494 matched\n",
      "matched 2 params in FSR_1530:\n",
      "['ra' 'RV']\n",
      "Target not likely a cluster member\n",
      "cannot unpack non-iterable NoneType object\n",
      "Target: TOI 1236.01\n",
      "Querying Gaia DR2 catalog for ra,dec=(286.041 36.6325) within 3.0 arcsec.\n"
     ]
    },
    {
     "name": "stderr",
     "output_type": "stream",
     "text": [
      "\r",
      " 25%|██▌       | 175/690 [13:29<38:47,  4.52s/it]"
     ]
    },
    {
     "name": "stdout",
     "output_type": "stream",
     "text": [
      "ra: 9 matched\n",
      "dec: 32 matched\n",
      "parallax: 9 matched\n",
      "pmra: 3 matched\n",
      "pmdec: 5 matched\n",
      "RV: 506 matched\n",
      "matched 4 params in Melotte_20:\n",
      "['dec' 'parallax' 'pmdec' 'RV']\n",
      "Target not likely a cluster member\n",
      "cannot unpack non-iterable NoneType object\n",
      "Target: TOI 1237.01\n",
      "Querying Gaia DR2 catalog for ra,dec=(286.638 39.4879) within 3.0 arcsec.\n"
     ]
    },
    {
     "name": "stderr",
     "output_type": "stream",
     "text": [
      "\r",
      " 26%|██▌       | 176/690 [13:34<38:32,  4.50s/it]"
     ]
    },
    {
     "name": "stdout",
     "output_type": "stream",
     "text": [
      "ra: 11 matched\n",
      "dec: 21 matched\n",
      "parallax: 10 matched\n",
      "pmra: 513 matched\n",
      "pmdec: 47 matched\n",
      "RV: 520 matched\n",
      "matched 3 params in ASCC_101:\n",
      "['ra' 'pmra' 'RV']\n",
      "Target not likely a cluster member\n",
      "cannot unpack non-iterable NoneType object\n",
      "Target: TOI 1238.01\n",
      "Querying Gaia DR2 catalog for ra,dec=(201.382 68.8361) within 3.0 arcsec.\n",
      "There are 2 gaia sources within 3.0 arcsec.\n"
     ]
    },
    {
     "name": "stderr",
     "output_type": "stream",
     "text": [
      "\r",
      " 26%|██▌       | 177/690 [13:38<38:44,  4.53s/it]"
     ]
    },
    {
     "name": "stdout",
     "output_type": "stream",
     "text": [
      "ra: 9 matched\n",
      "dec: 6 matched\n",
      "parallax: 0 matched\n",
      "pmra: 276 matched\n",
      "pmdec: 1 matched\n",
      "RV: 518 matched\n",
      "matched 3 params in Basel_18:\n",
      "['ra' 'pmra' 'RV']\n",
      "Target not likely a cluster member\n",
      "cannot unpack non-iterable NoneType object\n",
      "Target: TOI 1238.02\n",
      "Querying Gaia DR2 catalog for ra,dec=(201.382 68.8361) within 3.0 arcsec.\n",
      "There are 2 gaia sources within 3.0 arcsec.\n"
     ]
    },
    {
     "name": "stderr",
     "output_type": "stream",
     "text": [
      "\r",
      " 26%|██▌       | 178/690 [13:43<39:03,  4.58s/it]"
     ]
    },
    {
     "name": "stdout",
     "output_type": "stream",
     "text": [
      "ra: 9 matched\n",
      "dec: 6 matched\n",
      "parallax: 0 matched\n",
      "pmra: 276 matched\n",
      "pmdec: 1 matched\n",
      "RV: 518 matched\n",
      "matched 3 params in Basel_18:\n",
      "['ra' 'pmra' 'RV']\n",
      "Target not likely a cluster member\n",
      "cannot unpack non-iterable NoneType object\n",
      "Target: TOI 1239.01\n",
      "Querying Gaia DR2 catalog for ra,dec=(158.011 84.0304) within 3.0 arcsec.\n"
     ]
    },
    {
     "name": "stderr",
     "output_type": "stream",
     "text": [
      "\r",
      " 26%|██▌       | 179/690 [13:48<38:41,  4.54s/it]"
     ]
    },
    {
     "name": "stdout",
     "output_type": "stream",
     "text": [
      "ra: 11 matched\n",
      "dec: 0 matched\n",
      "parallax: 2 matched\n",
      "pmra: 4 matched\n",
      "pmdec: 281 matched\n",
      "RV: 533 matched\n",
      "matched 2 params in ASCC_101:\n",
      "['pmdec' 'RV']\n",
      "Target not likely a cluster member\n",
      "cannot unpack non-iterable NoneType object\n",
      "Target: TOI 1240.01\n",
      "Querying Gaia DR2 catalog for ra,dec=(286.11 43.681) within 3.0 arcsec.\n"
     ]
    },
    {
     "name": "stderr",
     "output_type": "stream",
     "text": [
      "\r",
      " 26%|██▌       | 180/690 [13:52<38:12,  4.49s/it]"
     ]
    },
    {
     "name": "stdout",
     "output_type": "stream",
     "text": [
      "ra: 10 matched\n",
      "dec: 29 matched\n",
      "parallax: 449 matched\n",
      "pmra: 642 matched\n",
      "pmdec: 24 matched\n",
      "RV: 0 matched\n",
      "matched 3 params in Berkeley_14A:\n",
      "['dec' 'parallax' 'pmra']\n",
      "Target not likely a cluster member\n",
      "cannot unpack non-iterable NoneType object\n",
      "Target: TOI 1241.01\n",
      "Querying Gaia DR2 catalog for ra,dec=(289.74 44.6473) within 3.0 arcsec.\n"
     ]
    },
    {
     "name": "stderr",
     "output_type": "stream",
     "text": [
      "\r",
      " 26%|██▌       | 181/690 [13:56<38:10,  4.50s/it]"
     ]
    },
    {
     "name": "stdout",
     "output_type": "stream",
     "text": [
      "ra: 13 matched\n",
      "dec: 32 matched\n",
      "parallax: 189 matched\n",
      "pmra: 109 matched\n",
      "pmdec: 19 matched\n",
      "RV: 456 matched\n",
      "matched 4 params in NGC_6793:\n",
      "['ra' 'parallax' 'pmra' 'RV']\n",
      "Target not likely a cluster member\n",
      "cannot unpack non-iterable NoneType object\n",
      "Target: TOI 1242.01\n",
      "Querying Gaia DR2 catalog for ra,dec=(248.553 60.1959) within 3.0 arcsec.\n"
     ]
    },
    {
     "name": "stderr",
     "output_type": "stream",
     "text": [
      "\r",
      " 26%|██▋       | 182/690 [14:01<38:01,  4.49s/it]"
     ]
    },
    {
     "name": "stdout",
     "output_type": "stream",
     "text": [
      "ra: 13 matched\n",
      "dec: 34 matched\n",
      "parallax: 1 matched\n",
      "pmra: 215 matched\n",
      "pmdec: 1 matched\n",
      "RV: 490 matched\n",
      "matched 3 params in COIN-Gaia_35:\n",
      "['dec' 'pmra' 'RV']\n",
      "Target not likely a cluster member\n",
      "cannot unpack non-iterable NoneType object\n",
      "Target: TOI 1243.01\n",
      "Querying Gaia DR2 catalog for ra,dec=(135.733 71.6364) within 3.0 arcsec.\n"
     ]
    },
    {
     "name": "stderr",
     "output_type": "stream",
     "text": [
      "\r",
      " 27%|██▋       | 183/690 [14:05<37:45,  4.47s/it]"
     ]
    },
    {
     "name": "stdout",
     "output_type": "stream",
     "text": [
      "ra: 11 matched\n",
      "dec: 5 matched\n",
      "parallax: 0 matched\n",
      "pmra: 0 matched\n",
      "pmdec: 0 matched\n",
      "RV: 536 matched\n",
      "matched 2 params in COIN-Gaia_30:\n",
      "['dec' 'RV']\n",
      "Target not likely a cluster member\n",
      "cannot unpack non-iterable NoneType object\n",
      "Target: TOI 1244.01\n",
      "Querying Gaia DR2 catalog for ra,dec=(256.28 69.5191) within 3.0 arcsec.\n"
     ]
    },
    {
     "name": "stderr",
     "output_type": "stream",
     "text": [
      "\r",
      " 27%|██▋       | 184/690 [14:10<37:47,  4.48s/it]"
     ]
    },
    {
     "name": "stdout",
     "output_type": "stream",
     "text": [
      "ra: 18 matched\n",
      "dec: 5 matched\n",
      "parallax: 2 matched\n",
      "pmra: 0 matched\n",
      "pmdec: 0 matched\n",
      "RV: 474 matched\n",
      "matched 2 params in ASCC_87:\n",
      "['ra' 'RV']\n",
      "Target not likely a cluster member\n",
      "cannot unpack non-iterable NoneType object\n",
      "Target: TOI 1245.01\n",
      "Querying Gaia DR2 catalog for ra,dec=(283.536 69.6335) within 3.0 arcsec.\n"
     ]
    },
    {
     "name": "stderr",
     "output_type": "stream",
     "text": [
      "\r",
      " 27%|██▋       | 185/690 [14:14<37:31,  4.46s/it]"
     ]
    },
    {
     "name": "stdout",
     "output_type": "stream",
     "text": [
      "ra: 17 matched\n",
      "dec: 5 matched\n",
      "parallax: 0 matched\n",
      "pmra: 35 matched\n",
      "pmdec: 0 matched\n",
      "RV: 543 matched\n",
      "matched 2 params in ASCC_66:\n",
      "['pmra' 'RV']\n",
      "Target not likely a cluster member\n",
      "cannot unpack non-iterable NoneType object\n",
      "Target: TOI 1246.01\n",
      "Querying Gaia DR2 catalog for ra,dec=(251.116 70.43) within 3.0 arcsec.\n"
     ]
    },
    {
     "name": "stderr",
     "output_type": "stream",
     "text": [
      "\r",
      " 27%|██▋       | 186/690 [14:19<37:36,  4.48s/it]"
     ]
    },
    {
     "name": "stdout",
     "output_type": "stream",
     "text": [
      "ra: 14 matched\n",
      "dec: 4 matched\n",
      "parallax: 10 matched\n",
      "pmra: 0 matched\n",
      "pmdec: 0 matched\n",
      "RV: 439 matched\n",
      "matched 2 params in Alessi_Teutsch_12:\n",
      "['ra' 'RV']\n",
      "Target not likely a cluster member\n",
      "cannot unpack non-iterable NoneType object\n",
      "Target: TOI 1246.02\n",
      "Querying Gaia DR2 catalog for ra,dec=(251.116 70.43) within 3.0 arcsec.\n"
     ]
    },
    {
     "name": "stderr",
     "output_type": "stream",
     "text": [
      "\r",
      " 27%|██▋       | 187/690 [14:23<37:19,  4.45s/it]"
     ]
    },
    {
     "name": "stdout",
     "output_type": "stream",
     "text": [
      "ra: 14 matched\n",
      "dec: 4 matched\n",
      "parallax: 10 matched\n",
      "pmra: 0 matched\n",
      "pmdec: 0 matched\n",
      "RV: 439 matched\n",
      "matched 2 params in Alessi_Teutsch_12:\n",
      "['ra' 'RV']\n",
      "Target not likely a cluster member\n",
      "cannot unpack non-iterable NoneType object\n",
      "Target: TOI 1246.03\n",
      "Querying Gaia DR2 catalog for ra,dec=(251.116 70.43) within 3.0 arcsec.\n"
     ]
    },
    {
     "name": "stderr",
     "output_type": "stream",
     "text": [
      "\r",
      " 27%|██▋       | 188/690 [14:28<37:00,  4.42s/it]"
     ]
    },
    {
     "name": "stdout",
     "output_type": "stream",
     "text": [
      "ra: 14 matched\n",
      "dec: 4 matched\n",
      "parallax: 10 matched\n",
      "pmra: 0 matched\n",
      "pmdec: 0 matched\n",
      "RV: 439 matched\n",
      "matched 2 params in Alessi_Teutsch_12:\n",
      "['ra' 'RV']\n",
      "Target not likely a cluster member\n",
      "cannot unpack non-iterable NoneType object\n",
      "Target: TOI 1247.01\n",
      "Querying Gaia DR2 catalog for ra,dec=(227.868 71.8413) within 3.0 arcsec.\n"
     ]
    },
    {
     "name": "stderr",
     "output_type": "stream",
     "text": [
      "\r",
      " 27%|██▋       | 189/690 [14:32<37:12,  4.46s/it]"
     ]
    },
    {
     "name": "stdout",
     "output_type": "stream",
     "text": [
      "ra: 7 matched\n",
      "dec: 4 matched\n",
      "parallax: 0 matched\n",
      "pmra: 0 matched\n",
      "pmdec: 0 matched\n",
      "RV: 262 matched\n",
      "matched 2 params in ASCC_79:\n",
      "['ra' 'RV']\n",
      "Target not likely a cluster member\n",
      "cannot unpack non-iterable NoneType object\n",
      "Target: TOI 1248.01\n",
      "Querying Gaia DR2 catalog for ra,dec=(259.024 63.1056) within 3.0 arcsec.\n"
     ]
    },
    {
     "name": "stderr",
     "output_type": "stream",
     "text": [
      "\r",
      " 28%|██▊       | 190/690 [14:37<37:18,  4.48s/it]"
     ]
    },
    {
     "name": "stdout",
     "output_type": "stream",
     "text": [
      "ra: 17 matched\n",
      "dec: 27 matched\n",
      "parallax: 10 matched\n",
      "pmra: 521 matched\n",
      "pmdec: 0 matched\n",
      "RV: 480 matched\n",
      "matched 3 params in Alessi_9:\n",
      "['ra' 'parallax' 'RV']\n",
      "Target not likely a cluster member\n",
      "cannot unpack non-iterable NoneType object\n",
      "Target: TOI 1249.01\n",
      "Querying Gaia DR2 catalog for ra,dec=(200.562 66.3085) within 3.0 arcsec.\n"
     ]
    },
    {
     "name": "stderr",
     "output_type": "stream",
     "text": [
      "\r",
      " 28%|██▊       | 191/690 [14:41<37:08,  4.47s/it]"
     ]
    },
    {
     "name": "stdout",
     "output_type": "stream",
     "text": [
      "ra: 5 matched\n",
      "dec: 16 matched\n",
      "parallax: 4 matched\n",
      "pmra: 10 matched\n",
      "pmdec: 1 matched\n",
      "RV: 522 matched\n",
      "matched 2 params in ASCC_127:\n",
      "['dec' 'RV']\n",
      "Target not likely a cluster member\n",
      "cannot unpack non-iterable NoneType object\n",
      "Target: TOI 1251.01\n",
      "Querying Gaia DR2 catalog for ra,dec=(273.529 62.8582) within 3.0 arcsec.\n"
     ]
    },
    {
     "name": "stderr",
     "output_type": "stream",
     "text": [
      "\r",
      " 28%|██▊       | 192/690 [14:45<36:58,  4.46s/it]"
     ]
    },
    {
     "name": "stdout",
     "output_type": "stream",
     "text": [
      "ra: 22 matched\n",
      "dec: 73 matched\n",
      "parallax: 125 matched\n",
      "pmra: 4 matched\n",
      "pmdec: 113 matched\n",
      "RV: 493 matched\n",
      "matched 3 params in ASCC_127:\n",
      "['dec' 'parallax' 'RV']\n",
      "Target not likely a cluster member\n",
      "cannot unpack non-iterable NoneType object\n",
      "Target: TOI 1252.01\n",
      "Querying Gaia DR2 catalog for ra,dec=(266.686 70.7845) within 3.0 arcsec.\n"
     ]
    },
    {
     "name": "stderr",
     "output_type": "stream",
     "text": [
      "\r",
      " 28%|██▊       | 193/690 [14:50<37:09,  4.49s/it]"
     ]
    },
    {
     "name": "stdout",
     "output_type": "stream",
     "text": [
      "ra: 18 matched\n",
      "dec: 4 matched\n",
      "parallax: 9 matched\n",
      "pmra: 19 matched\n",
      "pmdec: 1 matched\n",
      "RV: 578 matched\n",
      "matched 2 params in ASCC_66:\n",
      "['pmra' 'RV']\n",
      "Target not likely a cluster member\n",
      "cannot unpack non-iterable NoneType object\n",
      "Target: TOI 1253.01\n",
      "Querying Gaia DR2 catalog for ra,dec=(260.903 64.8624) within 3.0 arcsec.\n"
     ]
    },
    {
     "name": "stderr",
     "output_type": "stream",
     "text": [
      "\r",
      " 28%|██▊       | 194/690 [14:54<36:59,  4.48s/it]"
     ]
    },
    {
     "name": "stdout",
     "output_type": "stream",
     "text": [
      "ra: 13 matched\n",
      "dec: 17 matched\n",
      "parallax: 10 matched\n",
      "pmra: 4 matched\n",
      "pmdec: 1 matched\n",
      "RV: 523 matched\n",
      "matched 3 params in Alessi_9:\n",
      "['ra' 'parallax' 'RV']\n",
      "Target not likely a cluster member\n",
      "cannot unpack non-iterable NoneType object\n",
      "Target: TOI 1254.01\n",
      "Querying Gaia DR2 catalog for ra,dec=(239.201 65.8888) within 3.0 arcsec.\n"
     ]
    },
    {
     "name": "stderr",
     "output_type": "stream",
     "text": [
      "\r",
      " 28%|██▊       | 195/690 [14:59<37:03,  4.49s/it]"
     ]
    },
    {
     "name": "stdout",
     "output_type": "stream",
     "text": [
      "ra: 9 matched\n",
      "dec: 14 matched\n",
      "parallax: 10 matched\n",
      "pmra: 11 matched\n",
      "pmdec: 1 matched\n",
      "RV: 491 matched\n",
      "matched 3 params in UPK_612:\n",
      "['ra' 'parallax' 'pmra']\n",
      "Target not likely a cluster member\n",
      "cannot unpack non-iterable NoneType object\n",
      "Target: TOI 1255.01\n",
      "Querying Gaia DR2 catalog for ra,dec=(296.245 74.0629) within 3.0 arcsec.\n"
     ]
    },
    {
     "name": "stderr",
     "output_type": "stream",
     "text": [
      "\r",
      " 28%|██▊       | 196/690 [15:04<37:13,  4.52s/it]"
     ]
    },
    {
     "name": "stdout",
     "output_type": "stream",
     "text": [
      "ra: 19 matched\n",
      "dec: 2 matched\n",
      "parallax: 0 matched\n",
      "pmra: 5 matched\n",
      "pmdec: 1 matched\n",
      "RV: 530 matched\n",
      "matched 2 params in ASCC_105:\n",
      "['ra' 'RV']\n",
      "Target not likely a cluster member\n",
      "cannot unpack non-iterable NoneType object\n",
      "Target: TOI 1257.01\n",
      "Querying Gaia DR2 catalog for ra,dec=(303.195 18.1048) within 3.0 arcsec.\n"
     ]
    },
    {
     "name": "stderr",
     "output_type": "stream",
     "text": [
      "\r",
      " 29%|██▊       | 197/690 [15:08<37:29,  4.56s/it]"
     ]
    },
    {
     "name": "stdout",
     "output_type": "stream",
     "text": [
      "ra: 15 matched\n",
      "dec: 10 matched\n",
      "parallax: 14 matched\n",
      "pmra: 3 matched\n",
      "pmdec: 8 matched\n",
      "RV: 405 matched\n",
      "matched 2 params in ASCC_111:\n",
      "['ra' 'RV']\n",
      "Target not likely a cluster member\n",
      "cannot unpack non-iterable NoneType object\n",
      "Target: TOI 1258.01\n",
      "Querying Gaia DR2 catalog for ra,dec=(209.484 79.5833) within 3.0 arcsec.\n"
     ]
    },
    {
     "name": "stderr",
     "output_type": "stream",
     "text": [
      "\r",
      " 29%|██▊       | 198/690 [15:13<37:30,  4.57s/it]"
     ]
    },
    {
     "name": "stdout",
     "output_type": "stream",
     "text": [
      "ra: 9 matched\n",
      "dec: 1 matched\n",
      "parallax: 9 matched\n",
      "pmra: 4 matched\n",
      "pmdec: 1 matched\n",
      "RV: 534 matched\n",
      "matched 3 params in Platais_3:\n",
      "['dec' 'parallax' 'RV']\n",
      "Target not likely a cluster member\n",
      "cannot unpack non-iterable NoneType object\n",
      "Target: TOI 1259.01\n",
      "Querying Gaia DR2 catalog for ra,dec=(282.1 79.2565) within 3.0 arcsec.\n"
     ]
    },
    {
     "name": "stderr",
     "output_type": "stream",
     "text": [
      "\r",
      " 29%|██▉       | 199/690 [15:17<37:26,  4.58s/it]"
     ]
    },
    {
     "name": "stdout",
     "output_type": "stream",
     "text": [
      "ra: 17 matched\n",
      "dec: 1 matched\n",
      "parallax: 2 matched\n",
      "pmra: 222 matched\n",
      "pmdec: 0 matched\n",
      "RV: 426 matched\n",
      "matched 2 params in ASCC_99:\n",
      "['ra' 'RV']\n",
      "Target not likely a cluster member\n",
      "cannot unpack non-iterable NoneType object\n",
      "Target: TOI 1260.01\n",
      "Querying Gaia DR2 catalog for ra,dec=(157.144 65.8542) within 3.0 arcsec.\n"
     ]
    },
    {
     "name": "stderr",
     "output_type": "stream",
     "text": [
      "\r",
      " 29%|██▉       | 200/690 [15:23<39:17,  4.81s/it]"
     ]
    },
    {
     "name": "stdout",
     "output_type": "stream",
     "text": [
      "ra: 12 matched\n",
      "dec: 13 matched\n",
      "parallax: 0 matched\n",
      "pmra: 0 matched\n",
      "pmdec: 0 matched\n",
      "RV: 512 matched\n",
      "matched 2 params in ASCC_127:\n",
      "['dec' 'RV']\n",
      "Target not likely a cluster member\n",
      "cannot unpack non-iterable NoneType object\n",
      "Target: TOI 1260.02\n",
      "Querying Gaia DR2 catalog for ra,dec=(157.144 65.8542) within 3.0 arcsec.\n"
     ]
    },
    {
     "name": "stderr",
     "output_type": "stream",
     "text": [
      "\r",
      " 29%|██▉       | 201/690 [15:27<38:17,  4.70s/it]"
     ]
    },
    {
     "name": "stdout",
     "output_type": "stream",
     "text": [
      "ra: 12 matched\n",
      "dec: 13 matched\n",
      "parallax: 0 matched\n",
      "pmra: 0 matched\n",
      "pmdec: 0 matched\n",
      "RV: 512 matched\n",
      "matched 2 params in ASCC_127:\n",
      "['dec' 'RV']\n",
      "Target not likely a cluster member\n",
      "cannot unpack non-iterable NoneType object\n",
      "Target: TOI 1261.01\n",
      "Querying Gaia DR2 catalog for ra,dec=(268.016 53.7307) within 3.0 arcsec.\n",
      "There are 2 gaia sources within 3.0 arcsec.\n"
     ]
    },
    {
     "name": "stderr",
     "output_type": "stream",
     "text": [
      "\r",
      " 29%|██▉       | 202/690 [15:32<37:41,  4.63s/it]"
     ]
    },
    {
     "name": "stdout",
     "output_type": "stream",
     "text": [
      "ra: 15 matched\n",
      "dec: 15 matched\n",
      "parallax: 10 matched\n",
      "pmra: 342 matched\n",
      "pmdec: 2 matched\n",
      "RV: 516 matched\n",
      "matched 3 params in ASCC_123:\n",
      "['dec' 'parallax' 'RV']\n",
      "Target not likely a cluster member\n",
      "cannot unpack non-iterable NoneType object\n",
      "Target: TOI 1262.01\n",
      "Querying Gaia DR2 catalog for ra,dec=(180.726 74.061) within 3.0 arcsec.\n"
     ]
    },
    {
     "name": "stderr",
     "output_type": "stream",
     "text": [
      "\r",
      " 29%|██▉       | 203/690 [15:36<37:23,  4.61s/it]"
     ]
    },
    {
     "name": "stdout",
     "output_type": "stream",
     "text": [
      "ra: 11 matched\n",
      "dec: 2 matched\n",
      "parallax: 2 matched\n",
      "pmra: 0 matched\n",
      "pmdec: 2 matched\n",
      "RV: 407 matched\n",
      "matched 2 params in ASCC_73:\n",
      "['ra' 'RV']\n",
      "Target not likely a cluster member\n",
      "cannot unpack non-iterable NoneType object\n",
      "Target: TOI 1263.01\n",
      "Querying Gaia DR2 catalog for ra,dec=(309.354 22.6544) within 3.0 arcsec.\n",
      "There are 2 gaia sources within 3.0 arcsec.\n"
     ]
    },
    {
     "name": "stderr",
     "output_type": "stream",
     "text": [
      "\r",
      " 30%|██▉       | 204/690 [15:41<37:03,  4.58s/it]"
     ]
    },
    {
     "name": "stdout",
     "output_type": "stream",
     "text": [
      "ra: 9 matched\n",
      "dec: 17 matched\n",
      "parallax: 0 matched\n",
      "pmra: 0 matched\n",
      "pmdec: 0 matched\n",
      "RV: 511 matched\n",
      "matched 3 params in UPK_88:\n",
      "['ra' 'dec' 'RV']\n",
      "Target not likely a cluster member\n",
      "cannot unpack non-iterable NoneType object\n",
      "Target: TOI 1264.01\n",
      "Querying Gaia DR2 catalog for ra,dec=(287.242 57.3441) within 3.0 arcsec.\n",
      "There are 2 gaia sources within 3.0 arcsec.\n"
     ]
    },
    {
     "name": "stderr",
     "output_type": "stream",
     "text": [
      "\r",
      " 30%|██▉       | 205/690 [15:45<36:26,  4.51s/it]"
     ]
    },
    {
     "name": "stdout",
     "output_type": "stream",
     "text": [
      "ra: 12 matched\n",
      "dec: 32 matched\n",
      "parallax: 6 matched\n",
      "pmra: 2 matched\n",
      "pmdec: 7 matched\n",
      "RV: 484 matched\n",
      "matched 3 params in ASCC_123:\n",
      "['dec' 'pmra' 'RV']\n",
      "Target not likely a cluster member\n",
      "cannot unpack non-iterable NoneType object\n",
      "Target: TOI 1265.01\n",
      "Querying Gaia DR2 catalog for ra,dec=(292.247 47.9695) within 3.0 arcsec.\n"
     ]
    },
    {
     "name": "stderr",
     "output_type": "stream",
     "text": [
      "\r",
      " 30%|██▉       | 206/690 [15:50<36:15,  4.49s/it]"
     ]
    },
    {
     "name": "stdout",
     "output_type": "stream",
     "text": [
      "ra: 16 matched\n",
      "dec: 24 matched\n",
      "parallax: 53 matched\n",
      "pmra: 6 matched\n",
      "pmdec: 11 matched\n",
      "RV: 523 matched\n",
      "matched 3 params in Aveni_Hunter_1:\n",
      "['dec' 'parallax' 'RV']\n",
      "Target not likely a cluster member\n",
      "cannot unpack non-iterable NoneType object\n",
      "Target: TOI 1266.01\n",
      "Querying Gaia DR2 catalog for ra,dec=(197.997 65.8337) within 3.0 arcsec.\n"
     ]
    },
    {
     "name": "stderr",
     "output_type": "stream",
     "text": [
      "\r",
      " 30%|███       | 207/690 [15:54<36:37,  4.55s/it]"
     ]
    },
    {
     "name": "stdout",
     "output_type": "stream",
     "text": [
      "ra: 7 matched\n",
      "dec: 13 matched\n",
      "parallax: 0 matched\n",
      "pmra: 0 matched\n",
      "pmdec: 4 matched\n",
      "RV: 423 matched\n",
      "matched 2 params in ASCC_73:\n",
      "['ra' 'RV']\n",
      "Target not likely a cluster member\n",
      "cannot unpack non-iterable NoneType object\n",
      "Target: TOI 1266.02\n",
      "Querying Gaia DR2 catalog for ra,dec=(197.997 65.8337) within 3.0 arcsec.\n"
     ]
    },
    {
     "name": "stderr",
     "output_type": "stream",
     "text": [
      "\r",
      " 30%|███       | 208/690 [15:59<36:16,  4.52s/it]"
     ]
    },
    {
     "name": "stdout",
     "output_type": "stream",
     "text": [
      "ra: 7 matched\n",
      "dec: 13 matched\n",
      "parallax: 0 matched\n",
      "pmra: 0 matched\n",
      "pmdec: 4 matched\n",
      "RV: 423 matched\n",
      "matched 2 params in ASCC_73:\n",
      "['ra' 'RV']\n",
      "Target not likely a cluster member\n",
      "cannot unpack non-iterable NoneType object\n",
      "Target: TOI 1267.01\n",
      "Querying Gaia DR2 catalog for ra,dec=(287.709 47.3331) within 3.0 arcsec.\n"
     ]
    },
    {
     "name": "stderr",
     "output_type": "stream",
     "text": [
      "\r",
      " 30%|███       | 209/690 [15:59<26:23,  3.29s/it]"
     ]
    },
    {
     "name": "stdout",
     "output_type": "stream",
     "text": [
      "No gaia star within 3.0 arcsec. Use radius>3.0 arcsec\n",
      "Target: TOI 1268.01\n",
      "Querying Gaia DR2 catalog for ra,dec=(198.389 62.3054) within 3.0 arcsec.\n"
     ]
    },
    {
     "name": "stderr",
     "output_type": "stream",
     "text": [
      "\r",
      " 30%|███       | 210/690 [16:03<28:51,  3.61s/it]"
     ]
    },
    {
     "name": "stdout",
     "output_type": "stream",
     "text": [
      "ra: 6 matched\n",
      "dec: 35 matched\n",
      "parallax: 1 matched\n",
      "pmra: 0 matched\n",
      "pmdec: 5 matched\n",
      "RV: 533 matched\n",
      "matched 2 params in Alessi_13:\n",
      "['parallax' 'RV']\n",
      "Target not likely a cluster member\n",
      "cannot unpack non-iterable NoneType object\n",
      "Target: TOI 1269.01\n",
      "Querying Gaia DR2 catalog for ra,dec=(249.697 64.5592) within 3.0 arcsec.\n"
     ]
    },
    {
     "name": "stderr",
     "output_type": "stream",
     "text": [
      "\r",
      " 31%|███       | 211/690 [16:08<31:03,  3.89s/it]"
     ]
    },
    {
     "name": "stdout",
     "output_type": "stream",
     "text": [
      "ra: 14 matched\n",
      "dec: 21 matched\n",
      "parallax: 10 matched\n",
      "pmra: 1 matched\n",
      "pmdec: 0 matched\n",
      "RV: 471 matched\n",
      "matched 2 params in Alessi_Teutsch_12:\n",
      "['ra' 'RV']\n",
      "Target not likely a cluster member\n",
      "cannot unpack non-iterable NoneType object\n",
      "Target: TOI 1269.02\n",
      "Querying Gaia DR2 catalog for ra,dec=(249.697 64.5592) within 3.0 arcsec.\n"
     ]
    },
    {
     "name": "stderr",
     "output_type": "stream",
     "text": [
      "\r",
      " 31%|███       | 212/690 [16:12<32:00,  4.02s/it]"
     ]
    },
    {
     "name": "stdout",
     "output_type": "stream",
     "text": [
      "ra: 14 matched\n",
      "dec: 21 matched\n",
      "parallax: 10 matched\n",
      "pmra: 1 matched\n",
      "pmdec: 0 matched\n",
      "RV: 471 matched\n",
      "matched 2 params in Alessi_Teutsch_12:\n",
      "['ra' 'RV']\n",
      "Target not likely a cluster member\n",
      "cannot unpack non-iterable NoneType object\n",
      "Target: TOI 1271.01\n",
      "Querying Gaia DR2 catalog for ra,dec=(203.51 53.7282) within 3.0 arcsec.\n"
     ]
    },
    {
     "name": "stderr",
     "output_type": "stream",
     "text": [
      "\r",
      " 31%|███       | 213/690 [16:17<33:20,  4.19s/it]"
     ]
    },
    {
     "name": "stdout",
     "output_type": "stream",
     "text": [
      "ra: 9 matched\n",
      "dec: 15 matched\n",
      "parallax: 2 matched\n",
      "pmra: 0 matched\n",
      "pmdec: 0 matched\n",
      "RV: 488 matched\n",
      "matched 2 params in ASCC_123:\n",
      "['dec' 'RV']\n",
      "Target not likely a cluster member\n",
      "cannot unpack non-iterable NoneType object\n",
      "Target: TOI 1272.01\n",
      "Querying Gaia DR2 catalog for ra,dec=(199.196 49.8611) within 3.0 arcsec.\n"
     ]
    },
    {
     "name": "stderr",
     "output_type": "stream",
     "text": [
      "\r",
      " 31%|███       | 214/690 [16:21<34:11,  4.31s/it]"
     ]
    },
    {
     "name": "stdout",
     "output_type": "stream",
     "text": [
      "ra: 5 matched\n",
      "dec: 20 matched\n",
      "parallax: 4 matched\n",
      "pmra: 0 matched\n",
      "pmdec: 145 matched\n",
      "RV: 536 matched\n",
      "matched 2 params in ASCC_32:\n",
      "['pmdec' 'RV']\n",
      "Target not likely a cluster member\n",
      "cannot unpack non-iterable NoneType object\n",
      "Target: TOI 1273.01\n",
      "Querying Gaia DR2 catalog for ra,dec=(214.121 58.3903) within 3.0 arcsec.\n"
     ]
    },
    {
     "name": "stderr",
     "output_type": "stream",
     "text": [
      "\r",
      " 31%|███       | 215/690 [16:26<34:40,  4.38s/it]"
     ]
    },
    {
     "name": "stdout",
     "output_type": "stream",
     "text": [
      "ra: 9 matched\n",
      "dec: 36 matched\n",
      "parallax: 9 matched\n",
      "pmra: 1 matched\n",
      "pmdec: 1 matched\n",
      "RV: 416 matched\n",
      "matched 2 params in ASCC_9:\n",
      "['dec' 'RV']\n",
      "Target not likely a cluster member\n",
      "cannot unpack non-iterable NoneType object\n",
      "Target: TOI 1274.01\n",
      "Querying Gaia DR2 catalog for ra,dec=(254.816 65.7474) within 3.0 arcsec.\n"
     ]
    },
    {
     "name": "stderr",
     "output_type": "stream",
     "text": [
      "\r",
      " 31%|███▏      | 216/690 [16:31<35:14,  4.46s/it]"
     ]
    },
    {
     "name": "stdout",
     "output_type": "stream",
     "text": [
      "ra: 18 matched\n",
      "dec: 14 matched\n",
      "parallax: 10 matched\n",
      "pmra: 0 matched\n",
      "pmdec: 0 matched\n",
      "RV: 481 matched\n",
      "matched 3 params in Alessi_9:\n",
      "['ra' 'parallax' 'RV']\n",
      "Target not likely a cluster member\n",
      "cannot unpack non-iterable NoneType object\n",
      "Target: TOI 1275.01\n",
      "Querying Gaia DR2 catalog for ra,dec=(320.202 28.0558) within 3.0 arcsec.\n"
     ]
    },
    {
     "name": "stderr",
     "output_type": "stream",
     "text": [
      "\r",
      " 31%|███▏      | 217/690 [16:35<35:50,  4.55s/it]"
     ]
    },
    {
     "name": "stdout",
     "output_type": "stream",
     "text": [
      "ra: 14 matched\n",
      "dec: 20 matched\n",
      "parallax: 4 matched\n",
      "pmra: 0 matched\n",
      "pmdec: 1 matched\n",
      "RV: 516 matched\n",
      "matched 2 params in ASCC_105:\n",
      "['dec' 'RV']\n",
      "Target not likely a cluster member\n",
      "cannot unpack non-iterable NoneType object\n",
      "Target: TOI 1277.02\n",
      "Querying Gaia DR2 catalog for ra,dec=(172.748 66.7965) within 3.0 arcsec.\n"
     ]
    },
    {
     "name": "stderr",
     "output_type": "stream",
     "text": [
      "\r",
      " 32%|███▏      | 218/690 [16:40<35:24,  4.50s/it]"
     ]
    },
    {
     "name": "stdout",
     "output_type": "stream",
     "text": [
      "ra: 7 matched\n",
      "dec: 11 matched\n",
      "parallax: 2 matched\n",
      "pmra: 0 matched\n",
      "pmdec: 5 matched\n",
      "RV: 535 matched\n",
      "matched 2 params in ASCC_127:\n",
      "['dec' 'RV']\n",
      "Target not likely a cluster member\n",
      "cannot unpack non-iterable NoneType object\n",
      "Target: TOI 1278.01\n",
      "Querying Gaia DR2 catalog for ra,dec=(320.478 35.6486) within 3.0 arcsec.\n"
     ]
    },
    {
     "name": "stderr",
     "output_type": "stream",
     "text": [
      "\r",
      " 32%|███▏      | 219/690 [16:44<35:33,  4.53s/it]"
     ]
    },
    {
     "name": "stdout",
     "output_type": "stream",
     "text": [
      "ra: 14 matched\n",
      "dec: 31 matched\n",
      "parallax: 0 matched\n",
      "pmra: 0 matched\n",
      "pmdec: 1 matched\n",
      "RV: 492 matched\n",
      "matched 2 params in ASCC_10:\n",
      "['dec' 'RV']\n",
      "Target not likely a cluster member\n",
      "cannot unpack non-iterable NoneType object\n",
      "Target: TOI 1279.01\n",
      "Querying Gaia DR2 catalog for ra,dec=(185.063 56.2014) within 3.0 arcsec.\n"
     ]
    },
    {
     "name": "stderr",
     "output_type": "stream",
     "text": [
      "\r",
      " 32%|███▏      | 220/690 [16:49<35:22,  4.52s/it]"
     ]
    },
    {
     "name": "stdout",
     "output_type": "stream",
     "text": [
      "ra: 6 matched\n",
      "dec: 23 matched\n",
      "parallax: 1 matched\n",
      "pmra: 0 matched\n",
      "pmdec: 0 matched\n",
      "RV: 469 matched\n",
      "matched 2 params in ASCC_71:\n",
      "['ra' 'RV']\n",
      "Target not likely a cluster member\n",
      "cannot unpack non-iterable NoneType object\n",
      "Target: TOI 1280.01\n",
      "Querying Gaia DR2 catalog for ra,dec=(291.465 61.7762) within 3.0 arcsec.\n",
      "There are 2 gaia sources within 3.0 arcsec.\n"
     ]
    },
    {
     "name": "stderr",
     "output_type": "stream",
     "text": [
      "\r",
      " 32%|███▏      | 221/690 [16:53<35:00,  4.48s/it]"
     ]
    },
    {
     "name": "stdout",
     "output_type": "stream",
     "text": [
      "ra: 14 matched\n",
      "dec: 36 matched\n",
      "parallax: 2 matched\n",
      "pmra: 5 matched\n",
      "pmdec: 5 matched\n",
      "RV: 462 matched\n",
      "matched 3 params in Melotte_20:\n",
      "['dec' 'pmra' 'pmdec']\n",
      "Target not likely a cluster member\n",
      "cannot unpack non-iterable NoneType object\n",
      "Target: TOI 1281.01\n",
      "Querying Gaia DR2 catalog for ra,dec=(199.443 71.7211) within 3.0 arcsec.\n"
     ]
    },
    {
     "name": "stderr",
     "output_type": "stream",
     "text": [
      "\r",
      " 32%|███▏      | 222/690 [16:58<34:54,  4.48s/it]"
     ]
    },
    {
     "name": "stdout",
     "output_type": "stream",
     "text": [
      "ra: 7 matched\n",
      "dec: 5 matched\n",
      "parallax: 10 matched\n",
      "pmra: 14 matched\n",
      "pmdec: 8 matched\n",
      "RV: 493 matched\n",
      "matched 3 params in Alessi_9:\n",
      "['parallax' 'pmdec' 'RV']\n",
      "Target not likely a cluster member\n",
      "cannot unpack non-iterable NoneType object\n",
      "Target: TOI 1282.01\n",
      "Querying Gaia DR2 catalog for ra,dec=(314.269 31.661) within 3.0 arcsec.\n"
     ]
    },
    {
     "name": "stderr",
     "output_type": "stream",
     "text": [
      "\r",
      " 32%|███▏      | 223/690 [17:02<34:42,  4.46s/it]"
     ]
    },
    {
     "name": "stdout",
     "output_type": "stream",
     "text": [
      "ra: 18 matched\n",
      "dec: 20 matched\n",
      "parallax: 98 matched\n",
      "pmra: 15 matched\n",
      "pmdec: 278 matched\n",
      "RV: 491 matched\n",
      "matched 5 params in UPK_51:\n",
      "['ra' 'parallax' 'pmra' 'pmdec' 'RV']\n",
      "Target not likely a cluster member\n",
      "cannot unpack non-iterable NoneType object\n",
      "Target: TOI 1283.01\n",
      "Querying Gaia DR2 catalog for ra,dec=(324.536 30.4882) within 3.0 arcsec.\n"
     ]
    },
    {
     "name": "stderr",
     "output_type": "stream",
     "text": [
      "\r",
      " 32%|███▏      | 224/690 [17:07<34:28,  4.44s/it]"
     ]
    },
    {
     "name": "stdout",
     "output_type": "stream",
     "text": [
      "ra: 10 matched\n",
      "dec: 15 matched\n",
      "parallax: 2 matched\n",
      "pmra: 0 matched\n",
      "pmdec: 0 matched\n",
      "RV: 513 matched\n",
      "matched 2 params in ASCC_105:\n",
      "['dec' 'RV']\n",
      "Target not likely a cluster member\n",
      "cannot unpack non-iterable NoneType object\n",
      "Target: TOI 1287.01\n",
      "Querying Gaia DR2 catalog for ra,dec=(308.748 63.4749) within 3.0 arcsec.\n"
     ]
    },
    {
     "name": "stderr",
     "output_type": "stream",
     "text": [
      "\r",
      " 33%|███▎      | 225/690 [17:11<34:23,  4.44s/it]"
     ]
    },
    {
     "name": "stdout",
     "output_type": "stream",
     "text": [
      "ra: 12 matched\n",
      "dec: 28 matched\n",
      "parallax: 2 matched\n",
      "pmra: 1 matched\n",
      "pmdec: 0 matched\n",
      "RV: 522 matched\n",
      "matched 2 params in ASCC_127:\n",
      "['dec' 'RV']\n",
      "Target not likely a cluster member\n",
      "cannot unpack non-iterable NoneType object\n",
      "Target: TOI 1288.01\n",
      "Querying Gaia DR2 catalog for ra,dec=(313.167 65.6088) within 3.0 arcsec.\n"
     ]
    },
    {
     "name": "stderr",
     "output_type": "stream",
     "text": [
      "\r",
      " 33%|███▎      | 226/690 [17:15<34:23,  4.45s/it]"
     ]
    },
    {
     "name": "stdout",
     "output_type": "stream",
     "text": [
      "ra: 11 matched\n",
      "dec: 14 matched\n",
      "parallax: 2 matched\n",
      "pmra: 0 matched\n",
      "pmdec: 0 matched\n",
      "RV: 325 matched\n",
      "matched 2 params in Barkhatova_1:\n",
      "['ra' 'RV']\n",
      "Target not likely a cluster member\n",
      "cannot unpack non-iterable NoneType object\n",
      "Target: TOI 1290.01\n",
      "Querying Gaia DR2 catalog for ra,dec=(291.032 49.0402) within 3.0 arcsec.\n"
     ]
    },
    {
     "name": "stderr",
     "output_type": "stream",
     "text": [
      "\r",
      " 33%|███▎      | 227/690 [17:20<34:29,  4.47s/it]"
     ]
    },
    {
     "name": "stdout",
     "output_type": "stream",
     "text": [
      "ra: 12 matched\n",
      "dec: 19 matched\n",
      "parallax: 6 matched\n",
      "pmra: 136 matched\n",
      "pmdec: 22 matched\n",
      "RV: 507 matched\n",
      "matched 3 params in UPK_40:\n",
      "['ra' 'pmdec' 'RV']\n",
      "Target not likely a cluster member\n",
      "cannot unpack non-iterable NoneType object\n",
      "Target: TOI 1291.01\n",
      "Querying Gaia DR2 catalog for ra,dec=(245.818 62.9251) within 3.0 arcsec.\n"
     ]
    },
    {
     "name": "stderr",
     "output_type": "stream",
     "text": [
      "\r",
      " 33%|███▎      | 228/690 [17:24<34:17,  4.45s/it]"
     ]
    },
    {
     "name": "stdout",
     "output_type": "stream",
     "text": [
      "ra: 11 matched\n",
      "dec: 30 matched\n",
      "parallax: 83 matched\n",
      "pmra: 202 matched\n",
      "pmdec: 6 matched\n",
      "RV: 509 matched\n",
      "matched 3 params in ASCC_127:\n",
      "['dec' 'parallax' 'RV']\n",
      "Target not likely a cluster member\n",
      "cannot unpack non-iterable NoneType object\n",
      "Target: TOI 1293.01\n",
      "Querying Gaia DR2 catalog for ra,dec=(230.31 63.5653) within 3.0 arcsec.\n",
      "There are 2 gaia sources within 3.0 arcsec.\n"
     ]
    },
    {
     "name": "stderr",
     "output_type": "stream",
     "text": [
      "\r",
      " 33%|███▎      | 229/690 [17:29<34:08,  4.44s/it]"
     ]
    },
    {
     "name": "stdout",
     "output_type": "stream",
     "text": [
      "ra: 8 matched\n",
      "dec: 28 matched\n",
      "parallax: 10 matched\n",
      "pmra: 3 matched\n",
      "pmdec: 0 matched\n",
      "RV: 524 matched\n",
      "matched 2 params in ASCC_123:\n",
      "['parallax' 'RV']\n",
      "Target not likely a cluster member\n",
      "cannot unpack non-iterable NoneType object\n",
      "Target: TOI 1294.01\n",
      "Querying Gaia DR2 catalog for ra,dec=(223.093 70.4766) within 3.0 arcsec.\n"
     ]
    },
    {
     "name": "stderr",
     "output_type": "stream",
     "text": [
      "\r",
      " 33%|███▎      | 230/690 [17:33<34:20,  4.48s/it]"
     ]
    },
    {
     "name": "stdout",
     "output_type": "stream",
     "text": [
      "ra: 13 matched\n",
      "dec: 4 matched\n",
      "parallax: 47 matched\n",
      "pmra: 6 matched\n",
      "pmdec: 530 matched\n",
      "RV: 239 matched\n",
      "matched 3 params in ASCC_79:\n",
      "['ra' 'pmdec' 'RV']\n",
      "Target not likely a cluster member\n",
      "cannot unpack non-iterable NoneType object\n",
      "Target: TOI 1295.01\n",
      "Querying Gaia DR2 catalog for ra,dec=(256.672 67.8715) within 3.0 arcsec.\n"
     ]
    },
    {
     "name": "stderr",
     "output_type": "stream",
     "text": [
      "\r",
      " 33%|███▎      | 231/690 [17:38<34:10,  4.47s/it]"
     ]
    },
    {
     "name": "stdout",
     "output_type": "stream",
     "text": [
      "ra: 12 matched\n",
      "dec: 8 matched\n",
      "parallax: 69 matched\n",
      "pmra: 136 matched\n",
      "pmdec: 12 matched\n",
      "RV: 512 matched\n",
      "matched 4 params in Gulliver_9:\n",
      "['parallax' 'pmra' 'pmdec' 'RV']\n",
      "Target not likely a cluster member\n",
      "cannot unpack non-iterable NoneType object\n",
      "Target: TOI 1296.01\n",
      "Querying Gaia DR2 catalog for ra,dec=(256.771 70.2385) within 3.0 arcsec.\n"
     ]
    },
    {
     "name": "stderr",
     "output_type": "stream",
     "text": [
      "\r",
      " 34%|███▎      | 232/690 [17:42<33:59,  4.45s/it]"
     ]
    },
    {
     "name": "stdout",
     "output_type": "stream",
     "text": [
      "ra: 12 matched\n",
      "dec: 3 matched\n",
      "parallax: 40 matched\n",
      "pmra: 8 matched\n",
      "pmdec: 91 matched\n",
      "RV: 487 matched\n",
      "matched 3 params in IC_4665:\n",
      "['parallax' 'pmdec' 'RV']\n",
      "Target not likely a cluster member\n",
      "cannot unpack non-iterable NoneType object\n",
      "Target: TOI 1298.01\n",
      "Querying Gaia DR2 catalog for ra,dec=(241.323 70.19) within 3.0 arcsec.\n"
     ]
    },
    {
     "name": "stderr",
     "output_type": "stream",
     "text": [
      "\r",
      " 34%|███▍      | 233/690 [17:47<34:01,  4.47s/it]"
     ]
    },
    {
     "name": "stdout",
     "output_type": "stream",
     "text": [
      "ra: 10 matched\n",
      "dec: 3 matched\n",
      "parallax: 38 matched\n",
      "pmra: 2 matched\n",
      "pmdec: 0 matched\n",
      "RV: 373 matched\n",
      "matched 2 params in ASCC_99:\n",
      "['parallax' 'RV']\n",
      "Target not likely a cluster member\n",
      "cannot unpack non-iterable NoneType object\n",
      "Target: TOI 1300.01\n",
      "Querying Gaia DR2 catalog for ra,dec=(216.524 59.4443) within 3.0 arcsec.\n"
     ]
    },
    {
     "name": "stderr",
     "output_type": "stream",
     "text": [
      "\r",
      " 34%|███▍      | 234/690 [17:51<33:56,  4.47s/it]"
     ]
    },
    {
     "name": "stdout",
     "output_type": "stream",
     "text": [
      "ra: 13 matched\n",
      "dec: 23 matched\n",
      "parallax: 40 matched\n",
      "pmra: 6 matched\n",
      "pmdec: 47 matched\n",
      "RV: 522 matched\n",
      "matched 3 params in Collinder_140:\n",
      "['parallax' 'pmdec' 'RV']\n",
      "Target not likely a cluster member\n",
      "cannot unpack non-iterable NoneType object\n",
      "Target: TOI 1301.01\n",
      "Querying Gaia DR2 catalog for ra,dec=(275.863 71.5817) within 3.0 arcsec.\n"
     ]
    },
    {
     "name": "stderr",
     "output_type": "stream",
     "text": [
      "\r",
      " 34%|███▍      | 235/690 [17:56<33:57,  4.48s/it]"
     ]
    },
    {
     "name": "stdout",
     "output_type": "stream",
     "text": [
      "ra: 14 matched\n",
      "dec: 5 matched\n",
      "parallax: 0 matched\n",
      "pmra: 0 matched\n",
      "pmdec: 0 matched\n",
      "RV: 502 matched\n",
      "matched 2 params in Alessi_19:\n",
      "['ra' 'RV']\n",
      "Target not likely a cluster member\n",
      "cannot unpack non-iterable NoneType object\n",
      "Target: TOI 1302.01\n",
      "Querying Gaia DR2 catalog for ra,dec=(264.379 73.2612) within 3.0 arcsec.\n"
     ]
    },
    {
     "name": "stderr",
     "output_type": "stream",
     "text": [
      "\r",
      " 34%|███▍      | 236/690 [18:00<33:51,  4.48s/it]"
     ]
    },
    {
     "name": "stdout",
     "output_type": "stream",
     "text": [
      "ra: 18 matched\n",
      "dec: 3 matched\n",
      "parallax: 52 matched\n",
      "pmra: 262 matched\n",
      "pmdec: 2 matched\n",
      "RV: 528 matched\n",
      "matched 4 params in Collinder_350:\n",
      "['ra' 'parallax' 'pmra' 'RV']\n",
      "Target not likely a cluster member\n",
      "cannot unpack non-iterable NoneType object\n",
      "Target: TOI 1303.01\n",
      "Querying Gaia DR2 catalog for ra,dec=(301.718 45.4992) within 3.0 arcsec.\n"
     ]
    },
    {
     "name": "stderr",
     "output_type": "stream",
     "text": [
      "\r",
      " 34%|███▍      | 237/690 [18:05<33:45,  4.47s/it]"
     ]
    },
    {
     "name": "stdout",
     "output_type": "stream",
     "text": [
      "ra: 13 matched\n",
      "dec: 36 matched\n",
      "parallax: 69 matched\n",
      "pmra: 19 matched\n",
      "pmdec: 21 matched\n",
      "RV: 0 matched\n",
      "matched 3 params in NGC_6991:\n",
      "['dec' 'pmra' 'pmdec']\n",
      "Target not likely a cluster member\n",
      "cannot unpack non-iterable NoneType object\n",
      "Target: TOI 1304.01\n",
      "Querying Gaia DR2 catalog for ra,dec=(303.073 44.4959) within 3.0 arcsec.\n"
     ]
    },
    {
     "name": "stderr",
     "output_type": "stream",
     "text": [
      "\r",
      " 34%|███▍      | 238/690 [18:09<33:49,  4.49s/it]"
     ]
    },
    {
     "name": "stdout",
     "output_type": "stream",
     "text": [
      "ra: 16 matched\n",
      "dec: 33 matched\n",
      "parallax: 9 matched\n",
      "pmra: 1 matched\n",
      "pmdec: 0 matched\n",
      "RV: 511 matched\n",
      "matched 3 params in Melotte_20:\n",
      "['dec' 'parallax' 'RV']\n",
      "Target not likely a cluster member\n",
      "cannot unpack non-iterable NoneType object\n",
      "Target: TOI 1307.01\n",
      "Querying Gaia DR2 catalog for ra,dec=(283.637 59.7632) within 3.0 arcsec.\n"
     ]
    },
    {
     "name": "stderr",
     "output_type": "stream",
     "text": [
      "\r",
      " 35%|███▍      | 239/690 [18:14<33:55,  4.51s/it]"
     ]
    },
    {
     "name": "stdout",
     "output_type": "stream",
     "text": [
      "ra: 22 matched\n",
      "dec: 59 matched\n",
      "parallax: 470 matched\n",
      "pmra: 680 matched\n",
      "pmdec: 18 matched\n",
      "RV: 502 matched\n",
      "matched 4 params in Alessi_Teutsch_5:\n",
      "['dec' 'parallax' 'pmra' 'RV']\n",
      "Target not likely a cluster member\n",
      "cannot unpack non-iterable NoneType object\n",
      "Target: TOI 1310.01\n",
      "Querying Gaia DR2 catalog for ra,dec=(300.839 53.2956) within 3.0 arcsec.\n"
     ]
    },
    {
     "name": "stderr",
     "output_type": "stream",
     "text": [
      "\r",
      " 35%|███▍      | 240/690 [18:18<33:59,  4.53s/it]"
     ]
    },
    {
     "name": "stdout",
     "output_type": "stream",
     "text": [
      "ra: 18 matched\n",
      "dec: 21 matched\n",
      "parallax: 14 matched\n",
      "pmra: 8 matched\n",
      "pmdec: 5 matched\n",
      "RV: 517 matched\n",
      "matched 3 params in ASCC_123:\n",
      "['dec' 'parallax' 'RV']\n",
      "Target not likely a cluster member\n",
      "cannot unpack non-iterable NoneType object\n",
      "Target: TOI 1314.01\n",
      "Querying Gaia DR2 catalog for ra,dec=(317.748 43.5519) within 3.0 arcsec.\n"
     ]
    },
    {
     "name": "stderr",
     "output_type": "stream",
     "text": [
      "\r",
      " 35%|███▍      | 241/690 [18:23<33:55,  4.53s/it]"
     ]
    },
    {
     "name": "stdout",
     "output_type": "stream",
     "text": [
      "ra: 15 matched\n",
      "dec: 29 matched\n",
      "parallax: 29 matched\n",
      "pmra: 144 matched\n",
      "pmdec: 7 matched\n",
      "RV: 552 matched\n",
      "matched 4 params in NGC_7092:\n",
      "['ra' 'parallax' 'pmra' 'RV']\n",
      "Target not likely a cluster member\n",
      "cannot unpack non-iterable NoneType object\n",
      "Target: TOI 1315.01\n",
      "Querying Gaia DR2 catalog for ra,dec=(318.235 46.2681) within 3.0 arcsec.\n"
     ]
    },
    {
     "name": "stderr",
     "output_type": "stream",
     "text": [
      "\r",
      " 35%|███▌      | 242/690 [18:27<33:40,  4.51s/it]"
     ]
    },
    {
     "name": "stdout",
     "output_type": "stream",
     "text": [
      "ra: 15 matched\n",
      "dec: 35 matched\n",
      "parallax: 103 matched\n",
      "pmra: 5 matched\n",
      "pmdec: 212 matched\n",
      "RV: 0 matched\n",
      "matched 2 params in ASCC_58:\n",
      "['parallax' 'pmdec']\n",
      "Target not likely a cluster member\n",
      "cannot unpack non-iterable NoneType object\n",
      "Target: TOI 1316.01\n",
      "Querying Gaia DR2 catalog for ra,dec=(307.017 39.8771) within 3.0 arcsec.\n"
     ]
    },
    {
     "name": "stderr",
     "output_type": "stream",
     "text": [
      "\r",
      " 35%|███▌      | 243/690 [18:32<33:40,  4.52s/it]"
     ]
    },
    {
     "name": "stdout",
     "output_type": "stream",
     "text": [
      "ra: 14 matched\n",
      "dec: 22 matched\n",
      "parallax: 86 matched\n",
      "pmra: 231 matched\n",
      "pmdec: 6 matched\n",
      "RV: 525 matched\n",
      "matched 4 params in COIN-Gaia_13:\n",
      "['dec' 'parallax' 'pmra' 'RV']\n",
      "Target not likely a cluster member\n",
      "cannot unpack non-iterable NoneType object\n",
      "Target: TOI 1317.01\n",
      "Querying Gaia DR2 catalog for ra,dec=(316.814 40.1672) within 3.0 arcsec.\n"
     ]
    },
    {
     "name": "stderr",
     "output_type": "stream",
     "text": [
      "\r",
      " 35%|███▌      | 244/690 [18:36<33:35,  4.52s/it]"
     ]
    },
    {
     "name": "stdout",
     "output_type": "stream",
     "text": [
      "ra: 16 matched\n",
      "dec: 23 matched\n",
      "parallax: 273 matched\n",
      "pmra: 518 matched\n",
      "pmdec: 381 matched\n",
      "RV: 0 matched\n",
      "matched 4 params in ASCC_12:\n",
      "['dec' 'parallax' 'pmra' 'pmdec']\n",
      "Target not likely a cluster member\n",
      "cannot unpack non-iterable NoneType object\n",
      "Target: TOI 1318.01\n",
      "Querying Gaia DR2 catalog for ra,dec=(318.725 38.0942) within 3.0 arcsec.\n"
     ]
    },
    {
     "name": "stderr",
     "output_type": "stream",
     "text": [
      "\r",
      " 36%|███▌      | 245/690 [18:37<24:35,  3.32s/it]"
     ]
    },
    {
     "name": "stdout",
     "output_type": "stream",
     "text": [
      "No gaia star within 3.0 arcsec. Use radius>3.0 arcsec\n",
      "Target: TOI 1320.01\n",
      "Querying Gaia DR2 catalog for ra,dec=(319.325 38.1049) within 3.0 arcsec.\n"
     ]
    },
    {
     "name": "stderr",
     "output_type": "stream",
     "text": [
      "\r",
      " 36%|███▌      | 246/690 [18:37<18:10,  2.46s/it]"
     ]
    },
    {
     "name": "stdout",
     "output_type": "stream",
     "text": [
      "No gaia star within 3.0 arcsec. Use radius>3.0 arcsec\n",
      "Target: TOI 1323.01\n",
      "Querying Gaia DR2 catalog for ra,dec=(329.385 41.4495) within 3.0 arcsec.\n"
     ]
    },
    {
     "name": "stderr",
     "output_type": "stream",
     "text": [
      "\r",
      " 36%|███▌      | 247/690 [18:42<22:44,  3.08s/it]"
     ]
    },
    {
     "name": "stdout",
     "output_type": "stream",
     "text": [
      "ra: 9 matched\n",
      "dec: 23 matched\n",
      "parallax: 32 matched\n",
      "pmra: 13 matched\n",
      "pmdec: 431 matched\n",
      "RV: 0 matched\n",
      "matched 2 params in ASCC_111:\n",
      "['dec' 'pmdec']\n",
      "Target not likely a cluster member\n",
      "cannot unpack non-iterable NoneType object\n",
      "Target: TOI 1324.01\n",
      "Querying Gaia DR2 catalog for ra,dec=(321.024 46.3847) within 3.0 arcsec.\n",
      "There are 2 gaia sources within 3.0 arcsec.\n"
     ]
    },
    {
     "name": "stderr",
     "output_type": "stream",
     "text": [
      "\r",
      " 36%|███▌      | 248/690 [18:46<25:52,  3.51s/it]"
     ]
    },
    {
     "name": "stdout",
     "output_type": "stream",
     "text": [
      "ra: 16 matched\n",
      "dec: 34 matched\n",
      "parallax: 53 matched\n",
      "pmra: 21 matched\n",
      "pmdec: 5 matched\n",
      "RV: 0 matched\n",
      "matched 3 params in NGC_7092:\n",
      "['ra' 'dec' 'parallax']\n",
      "Target not likely a cluster member\n",
      "cannot unpack non-iterable NoneType object\n",
      "Target: TOI 1327.01\n",
      "Querying Gaia DR2 catalog for ra,dec=(303.295 36.7255) within 3.0 arcsec.\n"
     ]
    },
    {
     "name": "stderr",
     "output_type": "stream",
     "text": [
      "\r",
      " 36%|███▌      | 249/690 [18:51<28:22,  3.86s/it]"
     ]
    },
    {
     "name": "stdout",
     "output_type": "stream",
     "text": [
      "ra: 14 matched\n",
      "dec: 30 matched\n",
      "parallax: 104 matched\n",
      "pmra: 346 matched\n",
      "pmdec: 502 matched\n",
      "RV: 0 matched\n",
      "matched 4 params in ASCC_111:\n",
      "['ra' 'dec' 'pmra' 'pmdec']\n",
      "Target: TOI 1328.01\n",
      "Querying Gaia DR2 catalog for ra,dec=(315.11 46.0604) within 3.0 arcsec.\n"
     ]
    },
    {
     "name": "stderr",
     "output_type": "stream",
     "text": [
      "\r",
      " 36%|███▌      | 250/690 [18:56<29:38,  4.04s/it]"
     ]
    },
    {
     "name": "stdout",
     "output_type": "stream",
     "text": [
      "ra: 14 matched\n",
      "dec: 37 matched\n",
      "parallax: 71 matched\n",
      "pmra: 47 matched\n",
      "pmdec: 6 matched\n",
      "RV: 0 matched\n",
      "matched 2 params in Aveni_Hunter_1:\n",
      "['dec' 'parallax']\n",
      "Target not likely a cluster member\n",
      "cannot unpack non-iterable NoneType object\n",
      "Target: TOI 1330.01\n",
      "Querying Gaia DR2 catalog for ra,dec=(315.541 45.7757) within 3.0 arcsec.\n"
     ]
    },
    {
     "name": "stderr",
     "output_type": "stream",
     "text": [
      "\r",
      " 36%|███▋      | 251/690 [19:00<30:31,  4.17s/it]"
     ]
    },
    {
     "name": "stdout",
     "output_type": "stream",
     "text": [
      "ra: 18 matched\n",
      "dec: 42 matched\n",
      "parallax: 751 matched\n",
      "pmra: 707 matched\n",
      "pmdec: 345 matched\n",
      "RV: 0 matched\n",
      "matched 4 params in Barkhatova_1:\n",
      "['dec' 'parallax' 'pmra' 'pmdec']\n",
      "Target not likely a cluster member\n",
      "cannot unpack non-iterable NoneType object\n",
      "Target: TOI 1333.01\n",
      "Querying Gaia DR2 catalog for ra,dec=(325.015 48.4068) within 3.0 arcsec.\n",
      "There are 2 gaia sources within 3.0 arcsec.\n"
     ]
    },
    {
     "name": "stderr",
     "output_type": "stream",
     "text": [
      "\r",
      " 37%|███▋      | 252/690 [19:05<31:13,  4.28s/it]"
     ]
    },
    {
     "name": "stdout",
     "output_type": "stream",
     "text": [
      "ra: 10 matched\n",
      "dec: 19 matched\n",
      "parallax: 10 matched\n",
      "pmra: 34 matched\n",
      "pmdec: 20 matched\n",
      "RV: 511 matched\n",
      "matched 4 params in NGC_7092:\n",
      "['ra' 'dec' 'pmra' 'RV']\n",
      "Target: TOI 1334.01\n",
      "Querying Gaia DR2 catalog for ra,dec=(302.22 38.2452) within 3.0 arcsec.\n"
     ]
    },
    {
     "name": "stderr",
     "output_type": "stream",
     "text": [
      "\r",
      " 37%|███▋      | 253/690 [19:09<31:38,  4.34s/it]"
     ]
    },
    {
     "name": "stdout",
     "output_type": "stream",
     "text": [
      "ra: 16 matched\n",
      "dec: 27 matched\n",
      "parallax: 654 matched\n",
      "pmra: 402 matched\n",
      "pmdec: 584 matched\n",
      "RV: 0 matched\n",
      "matched 5 params in ASCC_108:\n",
      "['ra' 'dec' 'parallax' 'pmra' 'pmdec']\n",
      "Target: TOI 1335.01\n",
      "Querying Gaia DR2 catalog for ra,dec=(301.565 35.5884) within 3.0 arcsec.\n"
     ]
    },
    {
     "name": "stderr",
     "output_type": "stream",
     "text": [
      "\r",
      " 37%|███▋      | 254/690 [19:13<31:45,  4.37s/it]"
     ]
    },
    {
     "name": "stdout",
     "output_type": "stream",
     "text": [
      "ra: 16 matched\n",
      "dec: 31 matched\n",
      "parallax: 229 matched\n",
      "pmra: 234 matched\n",
      "pmdec: 562 matched\n",
      "RV: 0 matched\n",
      "matched 5 params in Roslund_5:\n",
      "['ra' 'dec' 'parallax' 'pmra' 'pmdec']\n",
      "Target: TOI 1336.01\n",
      "Querying Gaia DR2 catalog for ra,dec=(303.017 35.5246) within 3.0 arcsec.\n"
     ]
    },
    {
     "name": "stderr",
     "output_type": "stream",
     "text": [
      "\r",
      " 37%|███▋      | 255/690 [19:18<31:58,  4.41s/it]"
     ]
    },
    {
     "name": "stdout",
     "output_type": "stream",
     "text": [
      "ra: 16 matched\n",
      "dec: 30 matched\n",
      "parallax: 146 matched\n",
      "pmra: 19 matched\n",
      "pmdec: 38 matched\n",
      "RV: 0 matched\n",
      "matched 3 params in Biurakan_2:\n",
      "['ra' 'dec' 'pmdec']\n",
      "Target not likely a cluster member\n",
      "cannot unpack non-iterable NoneType object\n",
      "Target: TOI 1337.01\n",
      "Querying Gaia DR2 catalog for ra,dec=(227.27 -42.705) within 3.0 arcsec.\n"
     ]
    },
    {
     "name": "stderr",
     "output_type": "stream",
     "text": [
      "\r",
      " 37%|███▋      | 256/690 [19:23<32:10,  4.45s/it]"
     ]
    },
    {
     "name": "stdout",
     "output_type": "stream",
     "text": [
      "ra: 9 matched\n",
      "dec: 20 matched\n",
      "parallax: 89 matched\n",
      "pmra: 32 matched\n",
      "pmdec: 188 matched\n",
      "RV: 0 matched\n",
      "matched 3 params in Trumpler_10:\n",
      "['dec' 'parallax' 'pmra']\n",
      "Target not likely a cluster member\n",
      "cannot unpack non-iterable NoneType object\n",
      "Target: TOI 1338.01\n",
      "Querying Gaia DR2 catalog for ra,dec=(92.1331 -59.541) within 3.0 arcsec.\n"
     ]
    },
    {
     "name": "stderr",
     "output_type": "stream",
     "text": [
      "\r",
      " 37%|███▋      | 257/690 [19:27<32:15,  4.47s/it]"
     ]
    },
    {
     "name": "stdout",
     "output_type": "stream",
     "text": [
      "ra: 18 matched\n",
      "dec: 42 matched\n",
      "parallax: 70 matched\n",
      "pmra: 19 matched\n",
      "pmdec: 0 matched\n",
      "RV: 550 matched\n",
      "matched 3 params in Alessi_3:\n",
      "['ra' 'dec' 'pmra']\n",
      "Target not likely a cluster member\n",
      "cannot unpack non-iterable NoneType object\n",
      "Target: TOI 1339.01\n",
      "Querying Gaia DR2 catalog for ra,dec=(302.026 66.8503) within 3.0 arcsec.\n"
     ]
    },
    {
     "name": "stderr",
     "output_type": "stream",
     "text": [
      "\r",
      " 37%|███▋      | 258/690 [19:32<32:24,  4.50s/it]"
     ]
    },
    {
     "name": "stdout",
     "output_type": "stream",
     "text": [
      "ra: 15 matched\n",
      "dec: 11 matched\n",
      "parallax: 0 matched\n",
      "pmra: 0 matched\n",
      "pmdec: 0 matched\n",
      "RV: 523 matched\n",
      "matched 2 params in ASCC_108:\n",
      "['ra' 'RV']\n",
      "Target not likely a cluster member\n",
      "cannot unpack non-iterable NoneType object\n",
      "Target: TOI 1339.02\n",
      "Querying Gaia DR2 catalog for ra,dec=(302.026 66.8503) within 3.0 arcsec.\n"
     ]
    },
    {
     "name": "stderr",
     "output_type": "stream",
     "text": [
      "\r",
      " 38%|███▊      | 259/690 [19:36<32:14,  4.49s/it]"
     ]
    },
    {
     "name": "stdout",
     "output_type": "stream",
     "text": [
      "ra: 15 matched\n",
      "dec: 11 matched\n",
      "parallax: 0 matched\n",
      "pmra: 0 matched\n",
      "pmdec: 0 matched\n",
      "RV: 523 matched\n",
      "matched 2 params in ASCC_108:\n",
      "['ra' 'RV']\n",
      "Target not likely a cluster member\n",
      "cannot unpack non-iterable NoneType object\n",
      "Target: TOI 1339.03\n",
      "Querying Gaia DR2 catalog for ra,dec=(302.026 66.8503) within 3.0 arcsec.\n"
     ]
    },
    {
     "name": "stderr",
     "output_type": "stream",
     "text": [
      "\r",
      " 38%|███▊      | 260/690 [19:41<32:11,  4.49s/it]"
     ]
    },
    {
     "name": "stdout",
     "output_type": "stream",
     "text": [
      "ra: 15 matched\n",
      "dec: 11 matched\n",
      "parallax: 0 matched\n",
      "pmra: 0 matched\n",
      "pmdec: 0 matched\n",
      "RV: 523 matched\n",
      "matched 2 params in ASCC_108:\n",
      "['ra' 'RV']\n",
      "Target not likely a cluster member\n",
      "cannot unpack non-iterable NoneType object\n",
      "Target: TOI 1343.01\n",
      "Querying Gaia DR2 catalog for ra,dec=(317.575 48.4643) within 3.0 arcsec.\n"
     ]
    },
    {
     "name": "stderr",
     "output_type": "stream",
     "text": [
      "\r",
      " 38%|███▊      | 261/690 [19:45<31:52,  4.46s/it]"
     ]
    },
    {
     "name": "stdout",
     "output_type": "stream",
     "text": [
      "ra: 15 matched\n",
      "dec: 19 matched\n",
      "parallax: 83 matched\n",
      "pmra: 61 matched\n",
      "pmdec: 588 matched\n",
      "RV: 0 matched\n",
      "matched 4 params in UPK_167:\n",
      "['dec' 'parallax' 'pmra' 'pmdec']\n",
      "Target not likely a cluster member\n",
      "cannot unpack non-iterable NoneType object\n",
      "Target: TOI 1345.01\n",
      "Querying Gaia DR2 catalog for ra,dec=(238.032 74.4067) within 3.0 arcsec.\n"
     ]
    },
    {
     "name": "stderr",
     "output_type": "stream",
     "text": [
      "\r",
      " 38%|███▊      | 262/690 [19:49<31:58,  4.48s/it]"
     ]
    },
    {
     "name": "stdout",
     "output_type": "stream",
     "text": [
      "ra: 11 matched\n",
      "dec: 1 matched\n",
      "parallax: 306 matched\n",
      "pmra: 334 matched\n",
      "pmdec: 8 matched\n",
      "RV: 522 matched\n",
      "matched 3 params in ASCC_11:\n",
      "['parallax' 'pmra' 'RV']\n",
      "Target not likely a cluster member\n",
      "cannot unpack non-iterable NoneType object\n",
      "Target: TOI 1346.01\n",
      "Querying Gaia DR2 catalog for ra,dec=(256.623 68.8433) within 3.0 arcsec.\n"
     ]
    },
    {
     "name": "stderr",
     "output_type": "stream",
     "text": [
      "\r",
      " 38%|███▊      | 263/690 [19:54<31:57,  4.49s/it]"
     ]
    },
    {
     "name": "stdout",
     "output_type": "stream",
     "text": [
      "ra: 12 matched\n",
      "dec: 6 matched\n",
      "parallax: 2 matched\n",
      "pmra: 6 matched\n",
      "pmdec: 0 matched\n",
      "RV: 517 matched\n",
      "matched 2 params in ASCC_87:\n",
      "['ra' 'RV']\n",
      "Target not likely a cluster member\n",
      "cannot unpack non-iterable NoneType object\n",
      "Target: TOI 1346.02\n",
      "Querying Gaia DR2 catalog for ra,dec=(256.623 68.8433) within 3.0 arcsec.\n"
     ]
    },
    {
     "name": "stderr",
     "output_type": "stream",
     "text": [
      "\r",
      " 38%|███▊      | 264/690 [19:59<31:55,  4.50s/it]"
     ]
    },
    {
     "name": "stdout",
     "output_type": "stream",
     "text": [
      "ra: 12 matched\n",
      "dec: 6 matched\n",
      "parallax: 2 matched\n",
      "pmra: 6 matched\n",
      "pmdec: 0 matched\n",
      "RV: 517 matched\n",
      "matched 2 params in ASCC_87:\n",
      "['ra' 'RV']\n",
      "Target not likely a cluster member\n",
      "cannot unpack non-iterable NoneType object\n",
      "Target: TOI 1347.01\n",
      "Querying Gaia DR2 catalog for ra,dec=(280.327 70.2901) within 3.0 arcsec.\n"
     ]
    },
    {
     "name": "stderr",
     "output_type": "stream",
     "text": [
      "\r",
      " 38%|███▊      | 265/690 [20:03<31:43,  4.48s/it]"
     ]
    },
    {
     "name": "stdout",
     "output_type": "stream",
     "text": [
      "ra: 13 matched\n",
      "dec: 4 matched\n",
      "parallax: 8 matched\n",
      "pmra: 191 matched\n",
      "pmdec: 2 matched\n",
      "RV: 516 matched\n",
      "matched 3 params in COIN-Gaia_30:\n",
      "['dec' 'pmra' 'RV']\n",
      "Target not likely a cluster member\n",
      "cannot unpack non-iterable NoneType object\n",
      "Target: TOI 1350.01\n",
      "Querying Gaia DR2 catalog for ra,dec=(305.395 56.4627) within 3.0 arcsec.\n"
     ]
    },
    {
     "name": "stderr",
     "output_type": "stream",
     "text": [
      "\r",
      " 39%|███▊      | 266/690 [20:08<31:49,  4.50s/it]"
     ]
    },
    {
     "name": "stdout",
     "output_type": "stream",
     "text": [
      "ra: 16 matched\n",
      "dec: 24 matched\n",
      "parallax: 202 matched\n",
      "pmra: 15 matched\n",
      "pmdec: 24 matched\n",
      "RV: 511 matched\n",
      "matched 4 params in NGC_6991:\n",
      "['parallax' 'pmra' 'pmdec' 'RV']\n",
      "Target not likely a cluster member\n",
      "cannot unpack non-iterable NoneType object\n",
      "Target: TOI 1353.01\n",
      "Querying Gaia DR2 catalog for ra,dec=(313.885 46.5021) within 3.0 arcsec.\n"
     ]
    },
    {
     "name": "stderr",
     "output_type": "stream",
     "text": [
      "\r",
      " 39%|███▊      | 267/690 [20:12<31:50,  4.52s/it]"
     ]
    },
    {
     "name": "stdout",
     "output_type": "stream",
     "text": [
      "ra: 15 matched\n",
      "dec: 34 matched\n",
      "parallax: 106 matched\n",
      "pmra: 531 matched\n",
      "pmdec: 254 matched\n",
      "RV: 0 matched\n",
      "matched 3 params in Aveni_Hunter_1:\n",
      "['dec' 'parallax' 'pmra']\n",
      "Target not likely a cluster member\n",
      "cannot unpack non-iterable NoneType object\n",
      "Target: TOI 1354.01\n",
      "Querying Gaia DR2 catalog for ra,dec=(312.18 51.9107) within 3.0 arcsec.\n"
     ]
    },
    {
     "name": "stderr",
     "output_type": "stream",
     "text": [
      "\r",
      " 39%|███▉      | 268/690 [20:17<31:48,  4.52s/it]"
     ]
    },
    {
     "name": "stdout",
     "output_type": "stream",
     "text": [
      "ra: 12 matched\n",
      "dec: 27 matched\n",
      "parallax: 11 matched\n",
      "pmra: 19 matched\n",
      "pmdec: 237 matched\n",
      "RV: 0 matched\n",
      "matched 3 params in NGC_6991:\n",
      "['ra' 'dec' 'pmra']\n",
      "Target not likely a cluster member\n",
      "cannot unpack non-iterable NoneType object\n",
      "Target: TOI 1355.01\n",
      "Querying Gaia DR2 catalog for ra,dec=(331.308 66.7753) within 3.0 arcsec.\n"
     ]
    },
    {
     "name": "stderr",
     "output_type": "stream",
     "text": [
      "\r",
      " 39%|███▉      | 269/690 [20:21<31:54,  4.55s/it]"
     ]
    },
    {
     "name": "stdout",
     "output_type": "stream",
     "text": [
      "ra: 8 matched\n",
      "dec: 10 matched\n",
      "parallax: 12 matched\n",
      "pmra: 3 matched\n",
      "pmdec: 15 matched\n",
      "RV: 0 matched\n",
      "matched 2 params in UBC_10a:\n",
      "['ra' 'dec']\n",
      "Target not likely a cluster member\n",
      "cannot unpack non-iterable NoneType object\n",
      "Target: TOI 1356.01\n",
      "Querying Gaia DR2 catalog for ra,dec=(311.195 54.5022) within 3.0 arcsec.\n"
     ]
    },
    {
     "name": "stderr",
     "output_type": "stream",
     "text": [
      "\r",
      " 39%|███▉      | 270/690 [20:26<31:55,  4.56s/it]"
     ]
    },
    {
     "name": "stdout",
     "output_type": "stream",
     "text": [
      "ra: 11 matched\n",
      "dec: 21 matched\n",
      "parallax: 723 matched\n",
      "pmra: 489 matched\n",
      "pmdec: 216 matched\n",
      "RV: 0 matched\n",
      "matched 4 params in Ruprecht_174:\n",
      "['ra' 'parallax' 'pmra' 'pmdec']\n",
      "Target not likely a cluster member\n",
      "cannot unpack non-iterable NoneType object\n",
      "Target: TOI 1357.01\n",
      "Querying Gaia DR2 catalog for ra,dec=(316.956 50.5009) within 3.0 arcsec.\n"
     ]
    },
    {
     "name": "stderr",
     "output_type": "stream",
     "text": [
      "\r",
      " 39%|███▉      | 271/690 [20:30<31:43,  4.54s/it]"
     ]
    },
    {
     "name": "stdout",
     "output_type": "stream",
     "text": [
      "ra: 16 matched\n",
      "dec: 26 matched\n",
      "parallax: 17 matched\n",
      "pmra: 7 matched\n",
      "pmdec: 13 matched\n",
      "RV: 441 matched\n",
      "matched 3 params in NGC_6991:\n",
      "['ra' 'dec' 'RV']\n",
      "Target not likely a cluster member\n",
      "cannot unpack non-iterable NoneType object\n",
      "Target: TOI 1358.01\n",
      "Querying Gaia DR2 catalog for ra,dec=(320.116 61.1202) within 3.0 arcsec.\n"
     ]
    },
    {
     "name": "stderr",
     "output_type": "stream",
     "text": [
      "\r",
      " 39%|███▉      | 272/690 [20:35<31:22,  4.50s/it]"
     ]
    },
    {
     "name": "stdout",
     "output_type": "stream",
     "text": [
      "ra: 14 matched\n",
      "dec: 42 matched\n",
      "parallax: 64 matched\n",
      "pmra: 19 matched\n",
      "pmdec: 217 matched\n",
      "RV: 0 matched\n",
      "matched 3 params in NGC_7058:\n",
      "['ra' 'parallax' 'pmdec']\n",
      "Target not likely a cluster member\n",
      "cannot unpack non-iterable NoneType object\n",
      "Target: TOI 1360.01\n",
      "Querying Gaia DR2 catalog for ra,dec=(315.166 47.786) within 3.0 arcsec.\n"
     ]
    },
    {
     "name": "stderr",
     "output_type": "stream",
     "text": [
      "\r",
      " 40%|███▉      | 273/690 [20:39<31:09,  4.48s/it]"
     ]
    },
    {
     "name": "stdout",
     "output_type": "stream",
     "text": [
      "ra: 15 matched\n",
      "dec: 23 matched\n",
      "parallax: 155 matched\n",
      "pmra: 143 matched\n",
      "pmdec: 400 matched\n",
      "RV: 0 matched\n",
      "matched 4 params in ASCC_23:\n",
      "['dec' 'parallax' 'pmra' 'pmdec']\n",
      "Target not likely a cluster member\n",
      "cannot unpack non-iterable NoneType object\n",
      "Target: TOI 1361.01\n",
      "Querying Gaia DR2 catalog for ra,dec=(320.829 52.8147) within 3.0 arcsec.\n"
     ]
    },
    {
     "name": "stderr",
     "output_type": "stream",
     "text": [
      "\r",
      " 40%|███▉      | 274/690 [20:44<30:55,  4.46s/it]"
     ]
    },
    {
     "name": "stdout",
     "output_type": "stream",
     "text": [
      "ra: 16 matched\n",
      "dec: 30 matched\n",
      "parallax: 53 matched\n",
      "pmra: 229 matched\n",
      "pmdec: 43 matched\n",
      "RV: 562 matched\n",
      "matched 4 params in NGC_6475:\n",
      "['parallax' 'pmra' 'pmdec' 'RV']\n",
      "Target not likely a cluster member\n",
      "cannot unpack non-iterable NoneType object\n",
      "Target: TOI 1362.01\n",
      "Querying Gaia DR2 catalog for ra,dec=(335.301 59.5608) within 3.0 arcsec.\n"
     ]
    },
    {
     "name": "stderr",
     "output_type": "stream",
     "text": [
      "\r",
      " 40%|███▉      | 275/690 [20:48<30:58,  4.48s/it]"
     ]
    },
    {
     "name": "stdout",
     "output_type": "stream",
     "text": [
      "ra: 12 matched\n",
      "dec: 26 matched\n",
      "parallax: 412 matched\n",
      "pmra: 603 matched\n",
      "pmdec: 595 matched\n",
      "RV: 0 matched\n",
      "matched 5 params in Alessi_Teutsch_5:\n",
      "['ra' 'dec' 'parallax' 'pmra' 'pmdec']\n",
      "Target: TOI 1363.01\n",
      "Querying Gaia DR2 catalog for ra,dec=(291.469 61.7761) within 3.0 arcsec.\n"
     ]
    },
    {
     "name": "stderr",
     "output_type": "stream",
     "text": [
      "\r",
      " 40%|████      | 276/690 [20:53<31:00,  4.49s/it]"
     ]
    },
    {
     "name": "stdout",
     "output_type": "stream",
     "text": [
      "ra: 14 matched\n",
      "dec: 37 matched\n",
      "parallax: 212 matched\n",
      "pmra: 164 matched\n",
      "pmdec: 34 matched\n",
      "RV: 491 matched\n",
      "matched 4 params in NGC_225:\n",
      "['dec' 'parallax' 'pmra' 'RV']\n",
      "Target not likely a cluster member\n",
      "cannot unpack non-iterable NoneType object\n",
      "Target: TOI 1364.01\n",
      "Querying Gaia DR2 catalog for ra,dec=(293.444 53.4645) within 3.0 arcsec.\n",
      "There are 2 gaia sources within 3.0 arcsec.\n"
     ]
    },
    {
     "name": "stderr",
     "output_type": "stream",
     "text": [
      "\r",
      " 40%|████      | 277/690 [20:57<30:46,  4.47s/it]"
     ]
    },
    {
     "name": "stdout",
     "output_type": "stream",
     "text": [
      "ra: 15 matched\n",
      "dec: 19 matched\n",
      "parallax: 203 matched\n",
      "pmra: 506 matched\n",
      "pmdec: 70 matched\n",
      "RV: 0 matched\n",
      "matched 3 params in ASCC_97:\n",
      "['parallax' 'pmra' 'pmdec']\n",
      "Target not likely a cluster member\n",
      "cannot unpack non-iterable NoneType object\n",
      "Target: TOI 1368.01\n",
      "Querying Gaia DR2 catalog for ra,dec=(317.966 43.5929) within 3.0 arcsec.\n"
     ]
    },
    {
     "name": "stderr",
     "output_type": "stream",
     "text": [
      "\r",
      " 40%|████      | 278/690 [21:01<30:39,  4.47s/it]"
     ]
    },
    {
     "name": "stdout",
     "output_type": "stream",
     "text": [
      "ra: 17 matched\n",
      "dec: 30 matched\n",
      "parallax: 8 matched\n",
      "pmra: 0 matched\n",
      "pmdec: 533 matched\n",
      "RV: 521 matched\n",
      "matched 3 params in ASCC_11:\n",
      "['dec' 'pmdec' 'RV']\n",
      "Target not likely a cluster member\n",
      "cannot unpack non-iterable NoneType object\n",
      "Target: TOI 1369.01\n",
      "Querying Gaia DR2 catalog for ra,dec=(345.244 42.5493) within 3.0 arcsec.\n"
     ]
    },
    {
     "name": "stderr",
     "output_type": "stream",
     "text": [
      "\r",
      " 40%|████      | 279/690 [21:06<30:39,  4.48s/it]"
     ]
    },
    {
     "name": "stdout",
     "output_type": "stream",
     "text": [
      "ra: 15 matched\n",
      "dec: 25 matched\n",
      "parallax: 157 matched\n",
      "pmra: 662 matched\n",
      "pmdec: 434 matched\n",
      "RV: 0 matched\n",
      "matched 4 params in COIN-Gaia_13:\n",
      "['dec' 'parallax' 'pmra' 'pmdec']\n",
      "Target not likely a cluster member\n",
      "cannot unpack non-iterable NoneType object\n",
      "Target: TOI 1370.01\n",
      "Querying Gaia DR2 catalog for ra,dec=(345.748 44.5648) within 3.0 arcsec.\n"
     ]
    },
    {
     "name": "stderr",
     "output_type": "stream",
     "text": [
      "\r",
      " 41%|████      | 280/690 [21:11<30:49,  4.51s/it]"
     ]
    },
    {
     "name": "stdout",
     "output_type": "stream",
     "text": [
      "ra: 13 matched\n",
      "dec: 31 matched\n",
      "parallax: 25 matched\n",
      "pmra: 2 matched\n",
      "pmdec: 33 matched\n",
      "RV: 0 matched\n",
      "matched 3 params in ASCC_123:\n",
      "['ra' 'parallax' 'pmra']\n",
      "Target not likely a cluster member\n",
      "cannot unpack non-iterable NoneType object\n",
      "Target: TOI 1372.01\n",
      "Querying Gaia DR2 catalog for ra,dec=(335.754 30.5727) within 3.0 arcsec.\n"
     ]
    },
    {
     "name": "stderr",
     "output_type": "stream",
     "text": [
      "\r",
      " 41%|████      | 281/690 [21:15<30:47,  4.52s/it]"
     ]
    },
    {
     "name": "stdout",
     "output_type": "stream",
     "text": [
      "ra: 10 matched\n",
      "dec: 15 matched\n",
      "parallax: 10 matched\n",
      "pmra: 13 matched\n",
      "pmdec: 216 matched\n",
      "RV: 536 matched\n",
      "matched 3 params in ASCC_123:\n",
      "['ra' 'parallax' 'RV']\n",
      "Target not likely a cluster member\n",
      "cannot unpack non-iterable NoneType object\n",
      "Target: TOI 1373.01\n",
      "Querying Gaia DR2 catalog for ra,dec=(354.774 42.466) within 3.0 arcsec.\n"
     ]
    },
    {
     "name": "stderr",
     "output_type": "stream",
     "text": [
      "\r",
      " 41%|████      | 282/690 [21:20<30:38,  4.51s/it]"
     ]
    },
    {
     "name": "stdout",
     "output_type": "stream",
     "text": [
      "ra: 8 matched\n",
      "dec: 25 matched\n",
      "parallax: 26 matched\n",
      "pmra: 6 matched\n",
      "pmdec: 255 matched\n",
      "RV: 508 matched\n",
      "matched 4 params in RSG_5:\n",
      "['dec' 'parallax' 'pmdec' 'RV']\n",
      "Target not likely a cluster member\n",
      "cannot unpack non-iterable NoneType object\n",
      "Target: TOI 1374.01\n",
      "Querying Gaia DR2 catalog for ra,dec=(324.922 46.2202) within 3.0 arcsec.\n"
     ]
    },
    {
     "name": "stderr",
     "output_type": "stream",
     "text": [
      "\r",
      " 41%|████      | 283/690 [21:24<30:37,  4.52s/it]"
     ]
    },
    {
     "name": "stdout",
     "output_type": "stream",
     "text": [
      "ra: 10 matched\n",
      "dec: 36 matched\n",
      "parallax: 421 matched\n",
      "pmra: 638 matched\n",
      "pmdec: 590 matched\n",
      "RV: 0 matched\n",
      "matched 4 params in COIN-Gaia_9:\n",
      "['dec' 'parallax' 'pmra' 'pmdec']\n",
      "Target not likely a cluster member\n",
      "cannot unpack non-iterable NoneType object\n",
      "Target: TOI 1375.01\n",
      "Querying Gaia DR2 catalog for ra,dec=(324.936 41.9508) within 3.0 arcsec.\n"
     ]
    },
    {
     "name": "stderr",
     "output_type": "stream",
     "text": [
      "\r",
      " 41%|████      | 284/690 [21:29<30:41,  4.54s/it]"
     ]
    },
    {
     "name": "stdout",
     "output_type": "stream",
     "text": [
      "ra: 10 matched\n",
      "dec: 23 matched\n",
      "parallax: 64 matched\n",
      "pmra: 3 matched\n",
      "pmdec: 264 matched\n",
      "RV: 547 matched\n",
      "matched 4 params in RSG_5:\n",
      "['dec' 'parallax' 'pmdec' 'RV']\n",
      "Target not likely a cluster member\n",
      "cannot unpack non-iterable NoneType object\n",
      "Target: TOI 1376.01\n",
      "Querying Gaia DR2 catalog for ra,dec=(325.787 45.6468) within 3.0 arcsec.\n"
     ]
    },
    {
     "name": "stderr",
     "output_type": "stream",
     "text": [
      "\r",
      " 41%|████▏     | 285/690 [21:33<30:28,  4.52s/it]"
     ]
    },
    {
     "name": "stdout",
     "output_type": "stream",
     "text": [
      "ra: 11 matched\n",
      "dec: 38 matched\n",
      "parallax: 10 matched\n",
      "pmra: 120 matched\n",
      "pmdec: 5 matched\n",
      "RV: 525 matched\n",
      "matched 5 params in NGC_7092:\n",
      "['ra' 'dec' 'pmra' 'pmdec' 'RV']\n",
      "Target: TOI 1378.01\n",
      "Querying Gaia DR2 catalog for ra,dec=(339.786 49.4266) within 3.0 arcsec.\n"
     ]
    },
    {
     "name": "stderr",
     "output_type": "stream",
     "text": [
      "\r",
      " 41%|████▏     | 286/690 [21:38<30:36,  4.55s/it]"
     ]
    },
    {
     "name": "stdout",
     "output_type": "stream",
     "text": [
      "ra: 14 matched\n",
      "dec: 21 matched\n",
      "parallax: 166 matched\n",
      "pmra: 19 matched\n",
      "pmdec: 349 matched\n",
      "RV: 0 matched\n",
      "matched 4 params in RSG_7:\n",
      "['ra' 'parallax' 'pmra' 'pmdec']\n",
      "Target not likely a cluster member\n",
      "cannot unpack non-iterable NoneType object\n",
      "Target: TOI 1380.01\n",
      "Querying Gaia DR2 catalog for ra,dec=(316.446 46.8452) within 3.0 arcsec.\n"
     ]
    },
    {
     "name": "stderr",
     "output_type": "stream",
     "text": [
      "\r",
      " 42%|████▏     | 287/690 [21:42<30:36,  4.56s/it]"
     ]
    },
    {
     "name": "stdout",
     "output_type": "stream",
     "text": [
      "ra: 15 matched\n",
      "dec: 29 matched\n",
      "parallax: 30 matched\n",
      "pmra: 3 matched\n",
      "pmdec: 278 matched\n",
      "RV: 487 matched\n",
      "matched 4 params in RSG_5:\n",
      "['dec' 'parallax' 'pmdec' 'RV']\n",
      "Target not likely a cluster member\n",
      "cannot unpack non-iterable NoneType object\n",
      "Target: TOI 1381.01\n",
      "Querying Gaia DR2 catalog for ra,dec=(318.785 44.8997) within 3.0 arcsec.\n"
     ]
    },
    {
     "name": "stderr",
     "output_type": "stream",
     "text": [
      "\r",
      " 42%|████▏     | 288/690 [21:47<30:34,  4.56s/it]"
     ]
    },
    {
     "name": "stdout",
     "output_type": "stream",
     "text": [
      "ra: 13 matched\n",
      "dec: 33 matched\n",
      "parallax: 290 matched\n",
      "pmra: 291 matched\n",
      "pmdec: 47 matched\n",
      "RV: 0 matched\n",
      "matched 4 params in NGC_6997:\n",
      "['dec' 'parallax' 'pmra' 'pmdec']\n",
      "Target not likely a cluster member\n",
      "cannot unpack non-iterable NoneType object\n",
      "Target: TOI 1386.01\n",
      "Querying Gaia DR2 catalog for ra,dec=(334.504 54.319) within 3.0 arcsec.\n"
     ]
    },
    {
     "name": "stderr",
     "output_type": "stream",
     "text": [
      "\r",
      " 42%|████▏     | 289/690 [21:52<31:12,  4.67s/it]"
     ]
    },
    {
     "name": "stdout",
     "output_type": "stream",
     "text": [
      "ra: 13 matched\n",
      "dec: 16 matched\n",
      "parallax: 8 matched\n",
      "pmra: 0 matched\n",
      "pmdec: 8 matched\n",
      "RV: 505 matched\n",
      "matched 3 params in ASCC_123:\n",
      "['ra' 'dec' 'RV']\n",
      "Target not likely a cluster member\n",
      "cannot unpack non-iterable NoneType object\n",
      "Target: TOI 1388.01\n",
      "Querying Gaia DR2 catalog for ra,dec=(344.445 38.6749) within 3.0 arcsec.\n"
     ]
    },
    {
     "name": "stderr",
     "output_type": "stream",
     "text": [
      "\r",
      " 42%|████▏     | 290/690 [21:56<30:45,  4.61s/it]"
     ]
    },
    {
     "name": "stdout",
     "output_type": "stream",
     "text": [
      "ra: 14 matched\n",
      "dec: 24 matched\n",
      "parallax: 9 matched\n",
      "pmra: 1 matched\n",
      "pmdec: 1 matched\n",
      "RV: 534 matched\n",
      "matched 3 params in Melotte_20:\n",
      "['dec' 'parallax' 'RV']\n",
      "Target not likely a cluster member\n",
      "cannot unpack non-iterable NoneType object\n",
      "Target: TOI 1389.01\n",
      "Querying Gaia DR2 catalog for ra,dec=(333.132 31.3647) within 3.0 arcsec.\n",
      "Target parallax (-7.800523715110472 mas) is omitted!\n"
     ]
    },
    {
     "name": "stderr",
     "output_type": "stream",
     "text": [
      "\r",
      " 42%|████▏     | 291/690 [22:01<30:34,  4.60s/it]"
     ]
    },
    {
     "name": "stdout",
     "output_type": "stream",
     "text": [
      "ra: 15 matched\n",
      "dec: 27 matched\n",
      "parallax: 0 matched\n",
      "pmra: 318 matched\n",
      "pmdec: 8 matched\n",
      "RV: 492 matched\n",
      "matched 3 params in IC_1434:\n",
      "['ra' 'pmra' 'RV']\n",
      "Target not likely a cluster member\n",
      "cannot unpack non-iterable NoneType object\n",
      "Target: TOI 1390.01\n",
      "Querying Gaia DR2 catalog for ra,dec=(323.865 51.3236) within 3.0 arcsec.\n"
     ]
    },
    {
     "name": "stderr",
     "output_type": "stream",
     "text": [
      "\r",
      " 42%|████▏     | 292/690 [22:05<30:28,  4.59s/it]"
     ]
    },
    {
     "name": "stdout",
     "output_type": "stream",
     "text": [
      "ra: 13 matched\n",
      "dec: 27 matched\n",
      "parallax: 156 matched\n",
      "pmra: 14 matched\n",
      "pmdec: 170 matched\n",
      "RV: 0 matched\n",
      "matched 3 params in NGC_6991:\n",
      "['dec' 'parallax' 'pmra']\n",
      "Target not likely a cluster member\n",
      "cannot unpack non-iterable NoneType object\n",
      "Target: TOI 1391.01\n",
      "Querying Gaia DR2 catalog for ra,dec=(343.635 54.1618) within 3.0 arcsec.\n"
     ]
    },
    {
     "name": "stderr",
     "output_type": "stream",
     "text": [
      "\r",
      " 42%|████▏     | 293/690 [22:10<30:22,  4.59s/it]"
     ]
    },
    {
     "name": "stdout",
     "output_type": "stream",
     "text": [
      "ra: 17 matched\n",
      "dec: 16 matched\n",
      "parallax: 2 matched\n",
      "pmra: 0 matched\n",
      "pmdec: 9 matched\n",
      "RV: 527 matched\n",
      "matched 3 params in ASCC_123:\n",
      "['ra' 'dec' 'RV']\n",
      "Target not likely a cluster member\n",
      "cannot unpack non-iterable NoneType object\n",
      "Target: TOI 1392.01\n",
      "Querying Gaia DR2 catalog for ra,dec=(322.892 50.3207) within 3.0 arcsec.\n"
     ]
    },
    {
     "name": "stderr",
     "output_type": "stream",
     "text": [
      "\r",
      " 43%|████▎     | 294/690 [22:15<30:11,  4.57s/it]"
     ]
    },
    {
     "name": "stdout",
     "output_type": "stream",
     "text": [
      "ra: 13 matched\n",
      "dec: 26 matched\n",
      "parallax: 203 matched\n",
      "pmra: 176 matched\n",
      "pmdec: 513 matched\n",
      "RV: 0 matched\n",
      "matched 4 params in COIN-Gaia_8:\n",
      "['dec' 'parallax' 'pmra' 'pmdec']\n",
      "Target not likely a cluster member\n",
      "cannot unpack non-iterable NoneType object\n",
      "Target: TOI 1393.01\n",
      "Querying Gaia DR2 catalog for ra,dec=(333.172 52.9011) within 3.0 arcsec.\n",
      "There are 2 gaia sources within 3.0 arcsec.\n"
     ]
    },
    {
     "name": "stderr",
     "output_type": "stream",
     "text": [
      "\r",
      " 43%|████▎     | 295/690 [22:19<30:05,  4.57s/it]"
     ]
    },
    {
     "name": "stdout",
     "output_type": "stream",
     "text": [
      "ra: 14 matched\n",
      "dec: 27 matched\n",
      "parallax: 13 matched\n",
      "pmra: 157 matched\n",
      "pmdec: 8 matched\n",
      "RV: 552 matched\n",
      "matched 4 params in ASCC_123:\n",
      "['ra' 'dec' 'parallax' 'RV']\n",
      "Target: TOI 1394.01\n",
      "Querying Gaia DR2 catalog for ra,dec=(340.396 51.9653) within 3.0 arcsec.\n"
     ]
    },
    {
     "name": "stderr",
     "output_type": "stream",
     "text": [
      "\r",
      " 43%|████▎     | 296/690 [22:24<29:52,  4.55s/it]"
     ]
    },
    {
     "name": "stdout",
     "output_type": "stream",
     "text": [
      "ra: 11 matched\n",
      "dec: 27 matched\n",
      "parallax: 11 matched\n",
      "pmra: 0 matched\n",
      "pmdec: 3 matched\n",
      "RV: 534 matched\n",
      "matched 4 params in ASCC_123:\n",
      "['ra' 'dec' 'parallax' 'RV']\n",
      "Target: TOI 1395.01\n",
      "Querying Gaia DR2 catalog for ra,dec=(321.283 40.8878) within 3.0 arcsec.\n"
     ]
    },
    {
     "name": "stderr",
     "output_type": "stream",
     "text": [
      "\r",
      " 43%|████▎     | 297/690 [22:28<29:44,  4.54s/it]"
     ]
    },
    {
     "name": "stdout",
     "output_type": "stream",
     "text": [
      "ra: 17 matched\n",
      "dec: 22 matched\n",
      "parallax: 31 matched\n",
      "pmra: 522 matched\n",
      "pmdec: 91 matched\n",
      "RV: 537 matched\n",
      "matched 3 params in Alessi_19:\n",
      "['pmra' 'pmdec' 'RV']\n",
      "Target not likely a cluster member\n",
      "cannot unpack non-iterable NoneType object\n",
      "Target: TOI 1399.01\n",
      "Querying Gaia DR2 catalog for ra,dec=(341.971 49.9181) within 3.0 arcsec.\n"
     ]
    },
    {
     "name": "stderr",
     "output_type": "stream",
     "text": [
      "\r",
      " 43%|████▎     | 298/690 [22:33<29:39,  4.54s/it]"
     ]
    },
    {
     "name": "stdout",
     "output_type": "stream",
     "text": [
      "ra: 15 matched\n",
      "dec: 21 matched\n",
      "parallax: 14 matched\n",
      "pmra: 5 matched\n",
      "pmdec: 352 matched\n",
      "RV: 538 matched\n",
      "matched 4 params in ASCC_123:\n",
      "['ra' 'parallax' 'pmdec' 'RV']\n",
      "Target not likely a cluster member\n",
      "cannot unpack non-iterable NoneType object\n",
      "Target: TOI 1402.01\n",
      "Querying Gaia DR2 catalog for ra,dec=(291.88 68.0147) within 3.0 arcsec.\n"
     ]
    },
    {
     "name": "stderr",
     "output_type": "stream",
     "text": [
      "\r",
      " 43%|████▎     | 299/690 [22:37<29:34,  4.54s/it]"
     ]
    },
    {
     "name": "stdout",
     "output_type": "stream",
     "text": [
      "ra: 15 matched\n",
      "dec: 8 matched\n",
      "parallax: 188 matched\n",
      "pmra: 96 matched\n",
      "pmdec: 16 matched\n",
      "RV: 0 matched\n",
      "matched 3 params in ASCC_105:\n",
      "['ra' 'parallax' 'pmra']\n",
      "Target not likely a cluster member\n",
      "cannot unpack non-iterable NoneType object\n",
      "Target: TOI 1403.01\n",
      "Querying Gaia DR2 catalog for ra,dec=(332.287 57.939) within 3.0 arcsec.\n"
     ]
    },
    {
     "name": "stderr",
     "output_type": "stream",
     "text": [
      "\r",
      " 43%|████▎     | 300/690 [22:43<30:58,  4.77s/it]"
     ]
    },
    {
     "name": "stdout",
     "output_type": "stream",
     "text": [
      "ra: 10 matched\n",
      "dec: 36 matched\n",
      "parallax: 115 matched\n",
      "pmra: 33 matched\n",
      "pmdec: 39 matched\n",
      "RV: 0 matched\n",
      "matched 3 params in NGC_6991:\n",
      "['parallax' 'pmra' 'pmdec']\n",
      "Target not likely a cluster member\n",
      "cannot unpack non-iterable NoneType object\n",
      "Target: TOI 1404.01\n",
      "Querying Gaia DR2 catalog for ra,dec=(292.196 58.6148) within 3.0 arcsec.\n"
     ]
    },
    {
     "name": "stderr",
     "output_type": "stream",
     "text": [
      "\r",
      " 44%|████▎     | 301/690 [22:47<30:24,  4.69s/it]"
     ]
    },
    {
     "name": "stdout",
     "output_type": "stream",
     "text": [
      "ra: 16 matched\n",
      "dec: 35 matched\n",
      "parallax: 10 matched\n",
      "pmra: 150 matched\n",
      "pmdec: 271 matched\n",
      "RV: 502 matched\n",
      "matched 3 params in ASCC_101:\n",
      "['pmra' 'pmdec' 'RV']\n",
      "Target not likely a cluster member\n",
      "cannot unpack non-iterable NoneType object\n",
      "Target: TOI 1406.01\n",
      "Querying Gaia DR2 catalog for ra,dec=(82.128 -48.4091) within 3.0 arcsec.\n"
     ]
    },
    {
     "name": "stderr",
     "output_type": "stream",
     "text": [
      "\r",
      " 44%|████▍     | 302/690 [22:52<29:57,  4.63s/it]"
     ]
    },
    {
     "name": "stdout",
     "output_type": "stream",
     "text": [
      "ra: 25 matched\n",
      "dec: 29 matched\n",
      "parallax: 79 matched\n",
      "pmra: 314 matched\n",
      "pmdec: 5 matched\n",
      "RV: 528 matched\n",
      "matched 4 params in ASCC_19:\n",
      "['ra' 'parallax' 'pmra' 'RV']\n",
      "Target not likely a cluster member\n",
      "cannot unpack non-iterable NoneType object\n",
      "Target: TOI 1407.01\n",
      "Querying Gaia DR2 catalog for ra,dec=(336.576 -18.0117) within 3.0 arcsec.\n"
     ]
    },
    {
     "name": "stderr",
     "output_type": "stream",
     "text": [
      "\r",
      " 44%|████▍     | 303/690 [22:56<29:42,  4.61s/it]"
     ]
    },
    {
     "name": "stdout",
     "output_type": "stream",
     "text": [
      "ra: 8 matched\n",
      "dec: 18 matched\n",
      "parallax: 0 matched\n",
      "pmra: 0 matched\n",
      "pmdec: 0 matched\n",
      "RV: 512 matched\n",
      "matched 2 params in ASCC_123:\n",
      "['ra' 'RV']\n",
      "Target not likely a cluster member\n",
      "cannot unpack non-iterable NoneType object\n",
      "Target: TOI 1408.01\n",
      "Querying Gaia DR2 catalog for ra,dec=(313.511 72.5806) within 3.0 arcsec.\n"
     ]
    },
    {
     "name": "stderr",
     "output_type": "stream",
     "text": [
      "\r",
      " 44%|████▍     | 304/690 [23:01<29:14,  4.55s/it]"
     ]
    },
    {
     "name": "stdout",
     "output_type": "stream",
     "text": [
      "ra: 12 matched\n",
      "dec: 3 matched\n",
      "parallax: 4 matched\n",
      "pmra: 2 matched\n",
      "pmdec: 1 matched\n",
      "RV: 521 matched\n",
      "matched 2 params in ASCC_123:\n",
      "['pmra' 'RV']\n",
      "Target not likely a cluster member\n",
      "cannot unpack non-iterable NoneType object\n",
      "Target: TOI 1410.01\n",
      "Querying Gaia DR2 catalog for ra,dec=(334.883 42.5603) within 3.0 arcsec.\n"
     ]
    },
    {
     "name": "stderr",
     "output_type": "stream",
     "text": [
      "\r",
      " 44%|████▍     | 305/690 [23:05<28:51,  4.50s/it]"
     ]
    },
    {
     "name": "stdout",
     "output_type": "stream",
     "text": [
      "ra: 13 matched\n",
      "dec: 24 matched\n",
      "parallax: 0 matched\n",
      "pmra: 0 matched\n",
      "pmdec: 8 matched\n",
      "RV: 536 matched\n",
      "matched 2 params in ASCC_108:\n",
      "['dec' 'RV']\n",
      "Target not likely a cluster member\n",
      "cannot unpack non-iterable NoneType object\n",
      "Target: TOI 1411.01\n",
      "Querying Gaia DR2 catalog for ra,dec=(232.946 47.0555) within 3.0 arcsec.\n"
     ]
    },
    {
     "name": "stderr",
     "output_type": "stream",
     "text": [
      "\r",
      " 44%|████▍     | 306/690 [23:09<28:50,  4.51s/it]"
     ]
    },
    {
     "name": "stdout",
     "output_type": "stream",
     "text": [
      "ra: 11 matched\n",
      "dec: 31 matched\n",
      "parallax: 0 matched\n",
      "pmra: 0 matched\n",
      "pmdec: 0 matched\n",
      "RV: 527 matched\n",
      "matched 2 params in ASCC_11:\n",
      "['dec' 'RV']\n",
      "Target not likely a cluster member\n",
      "cannot unpack non-iterable NoneType object\n",
      "Target: TOI 1413.01\n",
      "Querying Gaia DR2 catalog for ra,dec=(333.253 37.6276) within 3.0 arcsec.\n"
     ]
    },
    {
     "name": "stderr",
     "output_type": "stream",
     "text": [
      "\r",
      " 44%|████▍     | 307/690 [23:14<28:49,  4.52s/it]"
     ]
    },
    {
     "name": "stdout",
     "output_type": "stream",
     "text": [
      "ra: 15 matched\n",
      "dec: 32 matched\n",
      "parallax: 2 matched\n",
      "pmra: 1 matched\n",
      "pmdec: 0 matched\n",
      "RV: 449 matched\n",
      "matched 2 params in ASCC_10:\n",
      "['dec' 'RV']\n",
      "Target not likely a cluster member\n",
      "cannot unpack non-iterable NoneType object\n",
      "Target: TOI 1414.01\n",
      "Querying Gaia DR2 catalog for ra,dec=(351.58 38.5529) within 3.0 arcsec.\n"
     ]
    },
    {
     "name": "stderr",
     "output_type": "stream",
     "text": [
      "\r",
      " 45%|████▍     | 308/690 [23:19<28:53,  4.54s/it]"
     ]
    },
    {
     "name": "stdout",
     "output_type": "stream",
     "text": [
      "ra: 13 matched\n",
      "dec: 25 matched\n",
      "parallax: 105 matched\n",
      "pmra: 72 matched\n",
      "pmdec: 45 matched\n",
      "RV: 584 matched\n",
      "matched 4 params in COIN-Gaia_14:\n",
      "['dec' 'pmra' 'pmdec' 'RV']\n",
      "Target not likely a cluster member\n",
      "cannot unpack non-iterable NoneType object\n",
      "Target: TOI 1415.01\n",
      "Querying Gaia DR2 catalog for ra,dec=(219.037 42.3785) within 3.0 arcsec.\n"
     ]
    },
    {
     "name": "stderr",
     "output_type": "stream",
     "text": [
      "\r",
      " 45%|████▍     | 309/690 [23:23<28:50,  4.54s/it]"
     ]
    },
    {
     "name": "stdout",
     "output_type": "stream",
     "text": [
      "ra: 10 matched\n",
      "dec: 25 matched\n",
      "parallax: 1 matched\n",
      "pmra: 0 matched\n",
      "pmdec: 0 matched\n",
      "RV: 476 matched\n",
      "matched 2 params in ASCC_108:\n",
      "['dec' 'RV']\n",
      "Target not likely a cluster member\n",
      "cannot unpack non-iterable NoneType object\n",
      "Target: TOI 1416.01\n",
      "Querying Gaia DR2 catalog for ra,dec=(216.923 41.953) within 3.0 arcsec.\n"
     ]
    },
    {
     "name": "stderr",
     "output_type": "stream",
     "text": [
      "\r",
      " 45%|████▍     | 310/690 [23:27<28:28,  4.50s/it]"
     ]
    },
    {
     "name": "stdout",
     "output_type": "stream",
     "text": [
      "ra: 13 matched\n",
      "dec: 23 matched\n",
      "parallax: 0 matched\n",
      "pmra: 0 matched\n",
      "pmdec: 0 matched\n",
      "RV: 533 matched\n",
      "matched 2 params in ASCC_108:\n",
      "['dec' 'RV']\n",
      "Target not likely a cluster member\n",
      "cannot unpack non-iterable NoneType object\n",
      "Target: TOI 1417.01\n",
      "Querying Gaia DR2 catalog for ra,dec=(335.825 35.0349) within 3.0 arcsec.\n"
     ]
    },
    {
     "name": "stderr",
     "output_type": "stream",
     "text": [
      "\r",
      " 45%|████▌     | 311/690 [23:32<28:18,  4.48s/it]"
     ]
    },
    {
     "name": "stdout",
     "output_type": "stream",
     "text": [
      "ra: 10 matched\n",
      "dec: 29 matched\n",
      "parallax: 8 matched\n",
      "pmra: 6 matched\n",
      "pmdec: 7 matched\n",
      "RV: 506 matched\n",
      "matched 3 params in ASCC_123:\n",
      "['ra' 'pmra' 'RV']\n",
      "Target not likely a cluster member\n",
      "cannot unpack non-iterable NoneType object\n",
      "Target: TOI 1419.01\n",
      "Querying Gaia DR2 catalog for ra,dec=(206.094 48.0286) within 3.0 arcsec.\n"
     ]
    },
    {
     "name": "stderr",
     "output_type": "stream",
     "text": [
      "\r",
      " 45%|████▌     | 312/690 [23:37<28:25,  4.51s/it]"
     ]
    },
    {
     "name": "stdout",
     "output_type": "stream",
     "text": [
      "ra: 10 matched\n",
      "dec: 23 matched\n",
      "parallax: 3 matched\n",
      "pmra: 6 matched\n",
      "pmdec: 6 matched\n",
      "RV: 504 matched\n",
      "matched 3 params in Melotte_20:\n",
      "['dec' 'pmdec' 'RV']\n",
      "Target not likely a cluster member\n",
      "cannot unpack non-iterable NoneType object\n",
      "Target: TOI 1420.01\n",
      "Querying Gaia DR2 catalog for ra,dec=(322.942 66.349) within 3.0 arcsec.\n"
     ]
    },
    {
     "name": "stderr",
     "output_type": "stream",
     "text": [
      "\r",
      " 45%|████▌     | 313/690 [23:41<28:26,  4.53s/it]"
     ]
    },
    {
     "name": "stdout",
     "output_type": "stream",
     "text": [
      "ra: 13 matched\n",
      "dec: 16 matched\n",
      "parallax: 10 matched\n",
      "pmra: 0 matched\n",
      "pmdec: 1 matched\n",
      "RV: 529 matched\n",
      "matched 2 params in ASCC_123:\n",
      "['parallax' 'RV']\n",
      "Target not likely a cluster member\n",
      "cannot unpack non-iterable NoneType object\n",
      "Target: TOI 1422.01\n",
      "Querying Gaia DR2 catalog for ra,dec=(354.241 39.6393) within 3.0 arcsec.\n"
     ]
    },
    {
     "name": "stderr",
     "output_type": "stream",
     "text": [
      "\r",
      " 46%|████▌     | 314/690 [23:46<28:31,  4.55s/it]"
     ]
    },
    {
     "name": "stdout",
     "output_type": "stream",
     "text": [
      "ra: 9 matched\n",
      "dec: 22 matched\n",
      "parallax: 9 matched\n",
      "pmra: 0 matched\n",
      "pmdec: 1 matched\n",
      "RV: 500 matched\n",
      "matched 4 params in Melotte_20:\n",
      "['dec' 'parallax' 'pmdec' 'RV']\n",
      "Target not likely a cluster member\n",
      "cannot unpack non-iterable NoneType object\n",
      "Target: TOI 1423.01\n",
      "Querying Gaia DR2 catalog for ra,dec=(344.61 39.6587) within 3.0 arcsec.\n"
     ]
    },
    {
     "name": "stderr",
     "output_type": "stream",
     "text": [
      "\r",
      " 46%|████▌     | 315/690 [23:50<28:22,  4.54s/it]"
     ]
    },
    {
     "name": "stdout",
     "output_type": "stream",
     "text": [
      "ra: 14 matched\n",
      "dec: 21 matched\n",
      "parallax: 1 matched\n",
      "pmra: 0 matched\n",
      "pmdec: 0 matched\n",
      "RV: 513 matched\n",
      "matched 2 params in ASCC_108:\n",
      "['dec' 'RV']\n",
      "Target not likely a cluster member\n",
      "cannot unpack non-iterable NoneType object\n",
      "Target: TOI 1424.01\n",
      "Querying Gaia DR2 catalog for ra,dec=(344.907 36.5177) within 3.0 arcsec.\n"
     ]
    },
    {
     "name": "stderr",
     "output_type": "stream",
     "text": [
      "\r",
      " 46%|████▌     | 316/690 [23:55<27:53,  4.47s/it]"
     ]
    },
    {
     "name": "stdout",
     "output_type": "stream",
     "text": [
      "ra: 14 matched\n",
      "dec: 32 matched\n",
      "parallax: 0 matched\n",
      "pmra: 49 matched\n",
      "pmdec: 86 matched\n",
      "RV: 349 matched\n",
      "matched 3 params in Roslund_5:\n",
      "['dec' 'pmra' 'RV']\n",
      "Target not likely a cluster member\n",
      "cannot unpack non-iterable NoneType object\n",
      "Target: TOI 1425.01\n",
      "Querying Gaia DR2 catalog for ra,dec=(329.091 68.998) within 3.0 arcsec.\n"
     ]
    },
    {
     "name": "stderr",
     "output_type": "stream",
     "text": [
      "\r",
      " 46%|████▌     | 317/690 [23:59<27:48,  4.47s/it]"
     ]
    },
    {
     "name": "stdout",
     "output_type": "stream",
     "text": [
      "ra: 11 matched\n",
      "dec: 6 matched\n",
      "parallax: 9 matched\n",
      "pmra: 1 matched\n",
      "pmdec: 0 matched\n",
      "RV: 543 matched\n",
      "matched 3 params in Platais_3:\n",
      "['dec' 'parallax' 'RV']\n",
      "Target not likely a cluster member\n",
      "cannot unpack non-iterable NoneType object\n",
      "Target: TOI 1430.01\n",
      "Querying Gaia DR2 catalog for ra,dec=(300.615 53.3774) within 3.0 arcsec.\n"
     ]
    },
    {
     "name": "stderr",
     "output_type": "stream",
     "text": [
      "\r",
      " 46%|████▌     | 318/690 [24:03<27:42,  4.47s/it]"
     ]
    },
    {
     "name": "stdout",
     "output_type": "stream",
     "text": [
      "ra: 19 matched\n",
      "dec: 19 matched\n",
      "parallax: 0 matched\n",
      "pmra: 0 matched\n",
      "pmdec: 0 matched\n",
      "RV: 495 matched\n",
      "matched 2 params in ASCC_105:\n",
      "['ra' 'RV']\n",
      "Target not likely a cluster member\n",
      "cannot unpack non-iterable NoneType object\n",
      "Target: TOI 1431.01\n",
      "Querying Gaia DR2 catalog for ra,dec=(316.204 55.588) within 3.0 arcsec.\n"
     ]
    },
    {
     "name": "stderr",
     "output_type": "stream",
     "text": [
      "\r",
      " 46%|████▌     | 319/690 [24:08<27:40,  4.48s/it]"
     ]
    },
    {
     "name": "stdout",
     "output_type": "stream",
     "text": [
      "ra: 18 matched\n",
      "dec: 23 matched\n",
      "parallax: 8 matched\n",
      "pmra: 2 matched\n",
      "pmdec: 2 matched\n",
      "RV: 0 matched\n",
      "matched 2 params in ASCC_123:\n",
      "['dec' 'pmra']\n",
      "Target not likely a cluster member\n",
      "cannot unpack non-iterable NoneType object\n",
      "Target: TOI 1432.01\n",
      "Querying Gaia DR2 catalog for ra,dec=(329.402 36.3214) within 3.0 arcsec.\n"
     ]
    },
    {
     "name": "stderr",
     "output_type": "stream",
     "text": [
      "\r",
      " 46%|████▋     | 320/690 [24:13<27:48,  4.51s/it]"
     ]
    },
    {
     "name": "stdout",
     "output_type": "stream",
     "text": [
      "ra: 9 matched\n",
      "dec: 31 matched\n",
      "parallax: 2 matched\n",
      "pmra: 0 matched\n",
      "pmdec: 1 matched\n",
      "RV: 534 matched\n",
      "matched 2 params in ASCC_10:\n",
      "['dec' 'RV']\n",
      "Target not likely a cluster member\n",
      "cannot unpack non-iterable NoneType object\n",
      "Target: TOI 1433.01\n",
      "Querying Gaia DR2 catalog for ra,dec=(305.538 36.0648) within 3.0 arcsec.\n"
     ]
    },
    {
     "name": "stderr",
     "output_type": "stream",
     "text": [
      "\r",
      " 47%|████▋     | 321/690 [24:17<27:46,  4.52s/it]"
     ]
    },
    {
     "name": "stdout",
     "output_type": "stream",
     "text": [
      "ra: 16 matched\n",
      "dec: 33 matched\n",
      "parallax: 0 matched\n",
      "pmra: 0 matched\n",
      "pmdec: 0 matched\n",
      "RV: 0 matched\n",
      "matched 2 params in ASCC_111:\n",
      "['ra' 'dec']\n",
      "Target not likely a cluster member\n",
      "cannot unpack non-iterable NoneType object\n",
      "Target: TOI 1434.01\n",
      "Querying Gaia DR2 catalog for ra,dec=(176.381 65.5413) within 3.0 arcsec.\n"
     ]
    },
    {
     "name": "stderr",
     "output_type": "stream",
     "text": [
      "\r",
      " 47%|████▋     | 322/690 [24:21<27:24,  4.47s/it]"
     ]
    },
    {
     "name": "stdout",
     "output_type": "stream",
     "text": [
      "ra: 6 matched\n",
      "dec: 14 matched\n",
      "parallax: 0 matched\n",
      "pmra: 238 matched\n",
      "pmdec: 0 matched\n",
      "RV: 512 matched\n",
      "matched 2 params in ASCC_105:\n",
      "['pmra' 'RV']\n",
      "Target not likely a cluster member\n",
      "cannot unpack non-iterable NoneType object\n",
      "Target: TOI 1435.01\n",
      "Querying Gaia DR2 catalog for ra,dec=(203.538 67.6212) within 3.0 arcsec.\n"
     ]
    },
    {
     "name": "stderr",
     "output_type": "stream",
     "text": [
      "\r",
      " 47%|████▋     | 323/690 [24:26<27:13,  4.45s/it]"
     ]
    },
    {
     "name": "stdout",
     "output_type": "stream",
     "text": [
      "ra: 9 matched\n",
      "dec: 9 matched\n",
      "parallax: 2 matched\n",
      "pmra: 0 matched\n",
      "pmdec: 0 matched\n",
      "RV: 510 matched\n",
      "matched 2 params in COIN-Gaia_1:\n",
      "['dec' 'RV']\n",
      "Target not likely a cluster member\n",
      "cannot unpack non-iterable NoneType object\n",
      "Target: TOI 1436.01\n",
      "Querying Gaia DR2 catalog for ra,dec=(215.602 55.3343) within 3.0 arcsec.\n"
     ]
    },
    {
     "name": "stderr",
     "output_type": "stream",
     "text": [
      "\r",
      " 47%|████▋     | 324/690 [24:30<27:21,  4.48s/it]"
     ]
    },
    {
     "name": "stdout",
     "output_type": "stream",
     "text": [
      "ra: 9 matched\n",
      "dec: 23 matched\n",
      "parallax: 2 matched\n",
      "pmra: 1 matched\n",
      "pmdec: 0 matched\n",
      "RV: 508 matched\n",
      "matched 2 params in ASCC_123:\n",
      "['dec' 'RV']\n",
      "Target not likely a cluster member\n",
      "cannot unpack non-iterable NoneType object\n",
      "Target: TOI 1437.01\n",
      "Querying Gaia DR2 catalog for ra,dec=(256.139 56.8426) within 3.0 arcsec.\n",
      "ra: 18 matched\n",
      "dec: 30 matched\n",
      "parallax: 2 matched\n",
      "pmra: 5 matched\n",
      "pmdec: 6 matched\n"
     ]
    },
    {
     "name": "stderr",
     "output_type": "stream",
     "text": [
      "\r",
      " 47%|████▋     | 325/690 [24:35<27:35,  4.53s/it]"
     ]
    },
    {
     "name": "stdout",
     "output_type": "stream",
     "text": [
      "RV: 507 matched\n",
      "matched 3 params in ASCC_123:\n",
      "['dec' 'pmra' 'RV']\n",
      "Target not likely a cluster member\n",
      "cannot unpack non-iterable NoneType object\n",
      "Target: TOI 1438.01\n",
      "Querying Gaia DR2 catalog for ra,dec=(280.924 74.9378) within 3.0 arcsec.\n"
     ]
    },
    {
     "name": "stderr",
     "output_type": "stream",
     "text": [
      "\r",
      " 47%|████▋     | 326/690 [24:40<27:28,  4.53s/it]"
     ]
    },
    {
     "name": "stdout",
     "output_type": "stream",
     "text": [
      "ra: 17 matched\n",
      "dec: 1 matched\n",
      "parallax: 1 matched\n",
      "pmra: 6 matched\n",
      "pmdec: 0 matched\n",
      "RV: 488 matched\n",
      "matched 2 params in ASCC_99:\n",
      "['ra' 'RV']\n",
      "Target not likely a cluster member\n",
      "cannot unpack non-iterable NoneType object\n",
      "Target: TOI 1438.02\n",
      "Querying Gaia DR2 catalog for ra,dec=(280.924 74.9378) within 3.0 arcsec.\n"
     ]
    },
    {
     "name": "stderr",
     "output_type": "stream",
     "text": [
      "\r",
      " 47%|████▋     | 327/690 [24:44<27:01,  4.47s/it]"
     ]
    },
    {
     "name": "stdout",
     "output_type": "stream",
     "text": [
      "ra: 17 matched\n",
      "dec: 1 matched\n",
      "parallax: 1 matched\n",
      "pmra: 6 matched\n",
      "pmdec: 0 matched\n",
      "RV: 488 matched\n",
      "matched 2 params in ASCC_99:\n",
      "['ra' 'RV']\n",
      "Target not likely a cluster member\n",
      "cannot unpack non-iterable NoneType object\n",
      "Target: TOI 1439.01\n",
      "Querying Gaia DR2 catalog for ra,dec=(241.764 67.8776) within 3.0 arcsec.\n"
     ]
    },
    {
     "name": "stderr",
     "output_type": "stream",
     "text": [
      "\r",
      " 48%|████▊     | 328/690 [24:48<27:05,  4.49s/it]"
     ]
    },
    {
     "name": "stdout",
     "output_type": "stream",
     "text": [
      "ra: 11 matched\n",
      "dec: 8 matched\n",
      "parallax: 11 matched\n",
      "pmra: 535 matched\n",
      "pmdec: 5 matched\n",
      "RV: 477 matched\n",
      "matched 3 params in FSR_0558:\n",
      "['dec' 'pmra' 'RV']\n",
      "Target not likely a cluster member\n",
      "cannot unpack non-iterable NoneType object\n",
      "Target: TOI 1440.01\n",
      "Querying Gaia DR2 catalog for ra,dec=(283.795 64.5314) within 3.0 arcsec.\n",
      "There are 2 gaia sources within 3.0 arcsec.\n"
     ]
    },
    {
     "name": "stderr",
     "output_type": "stream",
     "text": [
      "\r",
      " 48%|████▊     | 329/690 [24:53<27:06,  4.51s/it]"
     ]
    },
    {
     "name": "stdout",
     "output_type": "stream",
     "text": [
      "ra: 18 matched\n",
      "dec: 21 matched\n",
      "parallax: 10 matched\n",
      "pmra: 22 matched\n",
      "pmdec: 21 matched\n",
      "RV: 519 matched\n",
      "matched 3 params in ASCC_99:\n",
      "['ra' 'pmra' 'RV']\n",
      "Target not likely a cluster member\n",
      "cannot unpack non-iterable NoneType object\n",
      "Target: TOI 1441.01\n",
      "Querying Gaia DR2 catalog for ra,dec=(305.413 58.1408) within 3.0 arcsec.\n"
     ]
    },
    {
     "name": "stderr",
     "output_type": "stream",
     "text": [
      "\r",
      " 48%|████▊     | 330/690 [24:58<28:12,  4.70s/it]"
     ]
    },
    {
     "name": "stdout",
     "output_type": "stream",
     "text": [
      "ra: 16 matched\n",
      "dec: 36 matched\n",
      "parallax: 6 matched\n",
      "pmra: 5 matched\n",
      "pmdec: 0 matched\n",
      "RV: 521 matched\n",
      "matched 3 params in Platais_9:\n",
      "['parallax' 'pmra' 'RV']\n",
      "Target not likely a cluster member\n",
      "cannot unpack non-iterable NoneType object\n",
      "Target: TOI 1442.01\n",
      "Querying Gaia DR2 catalog for ra,dec=(287.292 74.1743) within 3.0 arcsec.\n"
     ]
    },
    {
     "name": "stderr",
     "output_type": "stream",
     "text": [
      "\r",
      " 48%|████▊     | 331/690 [25:03<27:37,  4.62s/it]"
     ]
    },
    {
     "name": "stdout",
     "output_type": "stream",
     "text": [
      "ra: 11 matched\n",
      "dec: 1 matched\n",
      "parallax: 0 matched\n",
      "pmra: 0 matched\n",
      "pmdec: 0 matched\n",
      "RV: 0 matched\n",
      "matched 1 params in ASCC_101:\n",
      "['ra']\n",
      "Target not likely a cluster member\n",
      "cannot unpack non-iterable NoneType object\n",
      "Target: TOI 1443.01\n",
      "Querying Gaia DR2 catalog for ra,dec=(297.399 76.1392) within 3.0 arcsec.\n"
     ]
    },
    {
     "name": "stderr",
     "output_type": "stream",
     "text": [
      "\r",
      " 48%|████▊     | 332/690 [25:07<27:22,  4.59s/it]"
     ]
    },
    {
     "name": "stdout",
     "output_type": "stream",
     "text": [
      "ra: 16 matched\n",
      "dec: 1 matched\n",
      "parallax: 0 matched\n",
      "pmra: 0 matched\n",
      "pmdec: 2 matched\n",
      "RV: 535 matched\n",
      "matched 2 params in ASCC_105:\n",
      "['ra' 'RV']\n",
      "Target not likely a cluster member\n",
      "cannot unpack non-iterable NoneType object\n",
      "Target: TOI 1444.01\n",
      "Querying Gaia DR2 catalog for ra,dec=(305.475 70.9437) within 3.0 arcsec.\n"
     ]
    },
    {
     "name": "stderr",
     "output_type": "stream",
     "text": [
      "\r",
      " 48%|████▊     | 333/690 [25:11<26:53,  4.52s/it]"
     ]
    },
    {
     "name": "stdout",
     "output_type": "stream",
     "text": [
      "ra: 16 matched\n",
      "dec: 4 matched\n",
      "parallax: 2 matched\n",
      "pmra: 0 matched\n",
      "pmdec: 5 matched\n",
      "RV: 481 matched\n",
      "matched 2 params in ASCC_111:\n",
      "['ra' 'RV']\n",
      "Target not likely a cluster member\n",
      "cannot unpack non-iterable NoneType object\n",
      "Target: TOI 1445.01\n",
      "Querying Gaia DR2 catalog for ra,dec=(292.768 71.4974) within 3.0 arcsec.\n"
     ]
    },
    {
     "name": "stderr",
     "output_type": "stream",
     "text": [
      "\r",
      " 48%|████▊     | 334/690 [25:16<26:42,  4.50s/it]"
     ]
    },
    {
     "name": "stdout",
     "output_type": "stream",
     "text": [
      "ra: 14 matched\n",
      "dec: 5 matched\n",
      "parallax: 12 matched\n",
      "pmra: 24 matched\n",
      "pmdec: 98 matched\n",
      "RV: 511 matched\n",
      "matched 3 params in Alessi_9:\n",
      "['parallax' 'pmdec' 'RV']\n",
      "Target not likely a cluster member\n",
      "cannot unpack non-iterable NoneType object\n",
      "Target: TOI 1446.01\n",
      "Querying Gaia DR2 catalog for ra,dec=(302.001 51.3618) within 3.0 arcsec.\n"
     ]
    },
    {
     "name": "stderr",
     "output_type": "stream",
     "text": [
      "\r",
      " 49%|████▊     | 335/690 [25:20<26:40,  4.51s/it]"
     ]
    },
    {
     "name": "stdout",
     "output_type": "stream",
     "text": [
      "ra: 14 matched\n",
      "dec: 26 matched\n",
      "parallax: 3 matched\n",
      "pmra: 9 matched\n",
      "pmdec: 3 matched\n",
      "RV: 475 matched\n",
      "matched 3 params in Alessi_Teutsch_11:\n",
      "['ra' 'dec' 'RV']\n",
      "Target not likely a cluster member\n",
      "cannot unpack non-iterable NoneType object\n",
      "Target: TOI 1447.01\n",
      "Querying Gaia DR2 catalog for ra,dec=(201.337 75.9827) within 3.0 arcsec.\n"
     ]
    },
    {
     "name": "stderr",
     "output_type": "stream",
     "text": [
      "\r",
      " 49%|████▊     | 336/690 [25:25<26:39,  4.52s/it]"
     ]
    },
    {
     "name": "stdout",
     "output_type": "stream",
     "text": [
      "ra: 11 matched\n",
      "dec: 2 matched\n",
      "parallax: 55 matched\n",
      "pmra: 69 matched\n",
      "pmdec: 632 matched\n",
      "RV: 0 matched\n",
      "matched 3 params in Ruprecht_108:\n",
      "['ra' 'pmra' 'pmdec']\n",
      "Target not likely a cluster member\n",
      "cannot unpack non-iterable NoneType object\n",
      "Target: TOI 1448.01\n",
      "Querying Gaia DR2 catalog for ra,dec=(316.324 57.7711) within 3.0 arcsec.\n"
     ]
    },
    {
     "name": "stderr",
     "output_type": "stream",
     "text": [
      "\r",
      " 49%|████▉     | 337/690 [25:29<26:34,  4.52s/it]"
     ]
    },
    {
     "name": "stdout",
     "output_type": "stream",
     "text": [
      "ra: 15 matched\n",
      "dec: 36 matched\n",
      "parallax: 0 matched\n",
      "pmra: 7 matched\n",
      "pmdec: 0 matched\n",
      "RV: 0 matched\n",
      "matched 2 params in NGC_7789:\n",
      "['ra' 'dec']\n",
      "Target not likely a cluster member\n",
      "cannot unpack non-iterable NoneType object\n",
      "Target: TOI 1449.01\n",
      "Querying Gaia DR2 catalog for ra,dec=(300.709 39.6684) within 3.0 arcsec.\n"
     ]
    },
    {
     "name": "stderr",
     "output_type": "stream",
     "text": [
      "\r",
      " 49%|████▉     | 338/690 [25:34<26:26,  4.51s/it]"
     ]
    },
    {
     "name": "stdout",
     "output_type": "stream",
     "text": [
      "ra: 16 matched\n",
      "dec: 21 matched\n",
      "parallax: 0 matched\n",
      "pmra: 0 matched\n",
      "pmdec: 0 matched\n",
      "RV: 514 matched\n",
      "matched 3 params in ASCC_108:\n",
      "['ra' 'dec' 'RV']\n",
      "Target not likely a cluster member\n",
      "cannot unpack non-iterable NoneType object\n",
      "Target: TOI 1449.02\n",
      "Querying Gaia DR2 catalog for ra,dec=(300.709 39.6684) within 3.0 arcsec.\n"
     ]
    },
    {
     "name": "stderr",
     "output_type": "stream",
     "text": [
      "\r",
      " 49%|████▉     | 339/690 [25:38<26:12,  4.48s/it]"
     ]
    },
    {
     "name": "stdout",
     "output_type": "stream",
     "text": [
      "ra: 16 matched\n",
      "dec: 21 matched\n",
      "parallax: 0 matched\n",
      "pmra: 0 matched\n",
      "pmdec: 0 matched\n",
      "RV: 514 matched\n",
      "matched 3 params in ASCC_108:\n",
      "['ra' 'dec' 'RV']\n",
      "Target not likely a cluster member\n",
      "cannot unpack non-iterable NoneType object\n",
      "Target: TOI 1450.01\n",
      "Querying Gaia DR2 catalog for ra,dec=(286.854 59.0866) within 3.0 arcsec.\n"
     ]
    },
    {
     "name": "stderr",
     "output_type": "stream",
     "text": [
      "\r",
      " 49%|████▉     | 340/690 [25:43<26:14,  4.50s/it]"
     ]
    },
    {
     "name": "stdout",
     "output_type": "stream",
     "text": [
      "ra: 13 matched\n",
      "dec: 32 matched\n",
      "parallax: 0 matched\n",
      "pmra: 0 matched\n",
      "pmdec: 0 matched\n",
      "RV: 0 matched\n",
      "matched 2 params in UBC_1:\n",
      "['ra' 'dec']\n",
      "Target not likely a cluster member\n",
      "cannot unpack non-iterable NoneType object\n",
      "Target: TOI 1451.01\n",
      "Querying Gaia DR2 catalog for ra,dec=(186.524 61.2589) within 3.0 arcsec.\n"
     ]
    },
    {
     "name": "stderr",
     "output_type": "stream",
     "text": [
      "\r",
      " 49%|████▉     | 341/690 [25:47<25:59,  4.47s/it]"
     ]
    },
    {
     "name": "stdout",
     "output_type": "stream",
     "text": [
      "ra: 10 matched\n",
      "dec: 40 matched\n",
      "parallax: 1 matched\n",
      "pmra: 219 matched\n",
      "pmdec: 2 matched\n",
      "RV: 425 matched\n",
      "matched 3 params in Collinder_258:\n",
      "['ra' 'pmra' 'RV']\n",
      "Target not likely a cluster member\n",
      "cannot unpack non-iterable NoneType object\n",
      "Target: TOI 1452.01\n",
      "Querying Gaia DR2 catalog for ra,dec=(290.174 73.1951) within 3.0 arcsec.\n"
     ]
    },
    {
     "name": "stderr",
     "output_type": "stream",
     "text": [
      "\r",
      " 50%|████▉     | 342/690 [25:52<25:54,  4.47s/it]"
     ]
    },
    {
     "name": "stdout",
     "output_type": "stream",
     "text": [
      "ra: 12 matched\n",
      "dec: 3 matched\n",
      "parallax: 0 matched\n",
      "pmra: 14 matched\n",
      "pmdec: 0 matched\n",
      "RV: 0 matched\n",
      "matched 2 params in Platais_3:\n",
      "['dec' 'pmra']\n",
      "Target not likely a cluster member\n",
      "cannot unpack non-iterable NoneType object\n",
      "Target: TOI 1453.01\n",
      "Querying Gaia DR2 catalog for ra,dec=(258.223 57.1978) within 3.0 arcsec.\n",
      "There are 2 gaia sources within 3.0 arcsec.\n"
     ]
    },
    {
     "name": "stderr",
     "output_type": "stream",
     "text": [
      "\r",
      " 50%|████▉     | 343/690 [25:56<25:53,  4.48s/it]"
     ]
    },
    {
     "name": "stdout",
     "output_type": "stream",
     "text": [
      "ra: 12 matched\n",
      "dec: 31 matched\n",
      "parallax: 0 matched\n",
      "pmra: 0 matched\n",
      "pmdec: 427 matched\n",
      "RV: 528 matched\n",
      "matched 3 params in ASCC_123:\n",
      "['dec' 'pmdec' 'RV']\n",
      "Target not likely a cluster member\n",
      "cannot unpack non-iterable NoneType object\n",
      "Target: TOI 1453.02\n",
      "Querying Gaia DR2 catalog for ra,dec=(258.223 57.1978) within 3.0 arcsec.\n",
      "There are 2 gaia sources within 3.0 arcsec.\n"
     ]
    },
    {
     "name": "stderr",
     "output_type": "stream",
     "text": [
      "\r",
      " 50%|████▉     | 344/690 [26:01<25:44,  4.46s/it]"
     ]
    },
    {
     "name": "stdout",
     "output_type": "stream",
     "text": [
      "ra: 12 matched\n",
      "dec: 31 matched\n",
      "parallax: 0 matched\n",
      "pmra: 0 matched\n",
      "pmdec: 427 matched\n",
      "RV: 528 matched\n",
      "matched 3 params in ASCC_123:\n",
      "['dec' 'pmdec' 'RV']\n",
      "Target not likely a cluster member\n",
      "cannot unpack non-iterable NoneType object\n",
      "Target: TOI 1454.01\n",
      "Querying Gaia DR2 catalog for ra,dec=(300.842 53.2942) within 3.0 arcsec.\n"
     ]
    },
    {
     "name": "stderr",
     "output_type": "stream",
     "text": [
      "\r",
      " 50%|█████     | 345/690 [26:05<25:40,  4.46s/it]"
     ]
    },
    {
     "name": "stdout",
     "output_type": "stream",
     "text": [
      "ra: 18 matched\n",
      "dec: 21 matched\n",
      "parallax: 29 matched\n",
      "pmra: 18 matched\n",
      "pmdec: 7 matched\n",
      "RV: 517 matched\n",
      "matched 3 params in ASCC_123:\n",
      "['dec' 'parallax' 'RV']\n",
      "Target not likely a cluster member\n",
      "cannot unpack non-iterable NoneType object\n",
      "Target: TOI 1456.01\n",
      "Querying Gaia DR2 catalog for ra,dec=(306.741 33.7444) within 3.0 arcsec.\n"
     ]
    },
    {
     "name": "stderr",
     "output_type": "stream",
     "text": [
      "\r",
      " 50%|█████     | 346/690 [26:10<25:43,  4.49s/it]"
     ]
    },
    {
     "name": "stdout",
     "output_type": "stream",
     "text": [
      "ra: 11 matched\n",
      "dec: 25 matched\n",
      "parallax: 0 matched\n",
      "pmra: 2 matched\n",
      "pmdec: 5 matched\n",
      "RV: 504 matched\n",
      "matched 3 params in ASCC_111:\n",
      "['ra' 'dec' 'RV']\n",
      "Target not likely a cluster member\n",
      "cannot unpack non-iterable NoneType object\n",
      "Target: TOI 1458.01\n",
      "Querying Gaia DR2 catalog for ra,dec=(9.57304 42.4631) within 3.0 arcsec.\n"
     ]
    },
    {
     "name": "stderr",
     "output_type": "stream",
     "text": [
      "\r",
      " 50%|█████     | 347/690 [26:14<25:32,  4.47s/it]"
     ]
    },
    {
     "name": "stdout",
     "output_type": "stream",
     "text": [
      "ra: 9 matched\n",
      "dec: 26 matched\n",
      "parallax: 10 matched\n",
      "pmra: 8 matched\n",
      "pmdec: 307 matched\n",
      "RV: 514 matched\n",
      "matched 3 params in ASCC_12:\n",
      "['dec' 'pmdec' 'RV']\n",
      "Target not likely a cluster member\n",
      "cannot unpack non-iterable NoneType object\n",
      "Target: TOI 1459.01\n",
      "Querying Gaia DR2 catalog for ra,dec=(19.3618 26.746) within 3.0 arcsec.\n"
     ]
    },
    {
     "name": "stderr",
     "output_type": "stream",
     "text": [
      "\r",
      " 50%|█████     | 348/690 [26:19<25:45,  4.52s/it]"
     ]
    },
    {
     "name": "stdout",
     "output_type": "stream",
     "text": [
      "ra: 12 matched\n",
      "dec: 22 matched\n",
      "parallax: 2 matched\n",
      "pmra: 0 matched\n",
      "pmdec: 1 matched\n",
      "RV: 527 matched\n",
      "matched 2 params in ASCC_105:\n",
      "['dec' 'RV']\n",
      "Target not likely a cluster member\n",
      "cannot unpack non-iterable NoneType object\n",
      "Target: TOI 1462.01\n",
      "Querying Gaia DR2 catalog for ra,dec=(261.35 52.7905) within 3.0 arcsec.\n"
     ]
    },
    {
     "name": "stderr",
     "output_type": "stream",
     "text": [
      "\r",
      " 51%|█████     | 349/690 [26:23<25:42,  4.52s/it]"
     ]
    },
    {
     "name": "stdout",
     "output_type": "stream",
     "text": [
      "ra: 12 matched\n",
      "dec: 30 matched\n",
      "parallax: 0 matched\n",
      "pmra: 0 matched\n",
      "pmdec: 1 matched\n",
      "RV: 527 matched\n",
      "matched 2 params in ASCC_123:\n",
      "['dec' 'RV']\n",
      "Target not likely a cluster member\n",
      "cannot unpack non-iterable NoneType object\n",
      "Target: TOI 1463.01\n",
      "Querying Gaia DR2 catalog for ra,dec=(7.05392 42.0613) within 3.0 arcsec.\n"
     ]
    },
    {
     "name": "stderr",
     "output_type": "stream",
     "text": [
      "\r",
      " 51%|█████     | 350/690 [26:28<25:33,  4.51s/it]"
     ]
    },
    {
     "name": "stdout",
     "output_type": "stream",
     "text": [
      "ra: 12 matched\n",
      "dec: 23 matched\n",
      "parallax: 68 matched\n",
      "pmra: 310 matched\n",
      "pmdec: 124 matched\n",
      "RV: 530 matched\n",
      "matched 4 params in Alessi_10:\n",
      "['parallax' 'pmra' 'pmdec' 'RV']\n",
      "Target not likely a cluster member\n",
      "cannot unpack non-iterable NoneType object\n",
      "Target: TOI 1464.01\n",
      "Querying Gaia DR2 catalog for ra,dec=(288.385 62.2031) within 3.0 arcsec.\n",
      "There are 2 gaia sources within 3.0 arcsec.\n"
     ]
    },
    {
     "name": "stderr",
     "output_type": "stream",
     "text": [
      "\r",
      " 51%|█████     | 351/690 [26:32<25:15,  4.47s/it]"
     ]
    },
    {
     "name": "stdout",
     "output_type": "stream",
     "text": [
      "ra: 8 matched\n",
      "dec: 34 matched\n",
      "parallax: 8 matched\n",
      "pmra: 2 matched\n",
      "pmdec: 7 matched\n",
      "RV: 521 matched\n",
      "matched 3 params in Melotte_20:\n",
      "['dec' 'parallax' 'RV']\n",
      "Target not likely a cluster member\n",
      "cannot unpack non-iterable NoneType object\n",
      "Target: TOI 1465.01\n",
      "Querying Gaia DR2 catalog for ra,dec=(303.382 65.1623) within 3.0 arcsec.\n"
     ]
    },
    {
     "name": "stderr",
     "output_type": "stream",
     "text": [
      "\r",
      " 51%|█████     | 352/690 [26:37<25:01,  4.44s/it]"
     ]
    },
    {
     "name": "stdout",
     "output_type": "stream",
     "text": [
      "ra: 14 matched\n",
      "dec: 16 matched\n",
      "parallax: 10 matched\n",
      "pmra: 3 matched\n",
      "pmdec: 0 matched\n",
      "RV: 0 matched\n",
      "matched 2 params in Alessi_9:\n",
      "['parallax' 'pmra']\n",
      "Target not likely a cluster member\n",
      "cannot unpack non-iterable NoneType object\n",
      "Target: TOI 1466.01\n",
      "Querying Gaia DR2 catalog for ra,dec=(307.397 61.5507) within 3.0 arcsec.\n"
     ]
    },
    {
     "name": "stderr",
     "output_type": "stream",
     "text": [
      "\r",
      " 51%|█████     | 353/690 [26:41<24:51,  4.42s/it]"
     ]
    },
    {
     "name": "stdout",
     "output_type": "stream",
     "text": [
      "ra: 14 matched\n",
      "dec: 39 matched\n",
      "parallax: 0 matched\n",
      "pmra: 0 matched\n",
      "pmdec: 0 matched\n",
      "RV: 515 matched\n",
      "matched 2 params in ASCC_111:\n",
      "['ra' 'RV']\n",
      "Target not likely a cluster member\n",
      "cannot unpack non-iterable NoneType object\n",
      "Target: TOI 1467.01\n",
      "Querying Gaia DR2 catalog for ra,dec=(19.1146 49.2331) within 3.0 arcsec.\n"
     ]
    },
    {
     "name": "stderr",
     "output_type": "stream",
     "text": [
      "\r",
      " 51%|█████▏    | 354/690 [26:46<25:01,  4.47s/it]"
     ]
    },
    {
     "name": "stdout",
     "output_type": "stream",
     "text": [
      "ra: 12 matched\n",
      "dec: 19 matched\n",
      "parallax: 0 matched\n",
      "pmra: 0 matched\n",
      "pmdec: 0 matched\n",
      "RV: 500 matched\n",
      "matched 2 params in Aveni_Hunter_1:\n",
      "['dec' 'RV']\n",
      "Target not likely a cluster member\n",
      "cannot unpack non-iterable NoneType object\n",
      "Target: TOI 1468.01\n",
      "Querying Gaia DR2 catalog for ra,dec=(16.6539 19.2249) within 3.0 arcsec.\n"
     ]
    },
    {
     "name": "stderr",
     "output_type": "stream",
     "text": [
      "\r",
      " 51%|█████▏    | 355/690 [26:50<25:23,  4.55s/it]"
     ]
    },
    {
     "name": "stdout",
     "output_type": "stream",
     "text": [
      "ra: 10 matched\n",
      "dec: 13 matched\n",
      "parallax: 0 matched\n",
      "pmra: 1 matched\n",
      "pmdec: 0 matched\n",
      "RV: 0 matched\n",
      "matched 2 params in NGC_2632:\n",
      "['dec' 'pmra']\n",
      "Target not likely a cluster member\n",
      "cannot unpack non-iterable NoneType object\n",
      "Target: TOI 1468.02\n",
      "Querying Gaia DR2 catalog for ra,dec=(16.6539 19.2249) within 3.0 arcsec.\n"
     ]
    },
    {
     "name": "stderr",
     "output_type": "stream",
     "text": [
      "\r",
      " 52%|█████▏    | 356/690 [26:55<24:55,  4.48s/it]"
     ]
    },
    {
     "name": "stdout",
     "output_type": "stream",
     "text": [
      "ra: 10 matched\n",
      "dec: 13 matched\n",
      "parallax: 0 matched\n",
      "pmra: 1 matched\n",
      "pmdec: 0 matched\n",
      "RV: 0 matched\n",
      "matched 2 params in NGC_2632:\n",
      "['dec' 'pmra']\n",
      "Target not likely a cluster member\n",
      "cannot unpack non-iterable NoneType object\n",
      "Target: TOI 1469.01\n",
      "Querying Gaia DR2 catalog for ra,dec=(348.337 57.1696) within 3.0 arcsec.\n"
     ]
    },
    {
     "name": "stderr",
     "output_type": "stream",
     "text": [
      "\r",
      " 52%|█████▏    | 357/690 [26:59<24:49,  4.47s/it]"
     ]
    },
    {
     "name": "stdout",
     "output_type": "stream",
     "text": [
      "ra: 13 matched\n",
      "dec: 32 matched\n",
      "parallax: 0 matched\n",
      "pmra: 0 matched\n",
      "pmdec: 0 matched\n",
      "RV: 510 matched\n",
      "matched 3 params in ASCC_123:\n",
      "['ra' 'dec' 'RV']\n",
      "Target not likely a cluster member\n",
      "cannot unpack non-iterable NoneType object\n",
      "Target: TOI 1469.02\n",
      "Querying Gaia DR2 catalog for ra,dec=(348.337 57.1696) within 3.0 arcsec.\n"
     ]
    },
    {
     "name": "stderr",
     "output_type": "stream",
     "text": [
      "\r",
      " 52%|█████▏    | 358/690 [27:03<24:43,  4.47s/it]"
     ]
    },
    {
     "name": "stdout",
     "output_type": "stream",
     "text": [
      "ra: 13 matched\n",
      "dec: 32 matched\n",
      "parallax: 0 matched\n",
      "pmra: 0 matched\n",
      "pmdec: 0 matched\n",
      "RV: 510 matched\n",
      "matched 3 params in ASCC_123:\n",
      "['ra' 'dec' 'RV']\n",
      "Target not likely a cluster member\n",
      "cannot unpack non-iterable NoneType object\n",
      "Target: TOI 1470.01\n",
      "Querying Gaia DR2 catalog for ra,dec=(10.0891 61.2134) within 3.0 arcsec.\n"
     ]
    },
    {
     "name": "stderr",
     "output_type": "stream",
     "text": [
      "\r",
      " 52%|█████▏    | 359/690 [27:08<24:48,  4.50s/it]"
     ]
    },
    {
     "name": "stdout",
     "output_type": "stream",
     "text": [
      "ra: 8 matched\n",
      "dec: 42 matched\n",
      "parallax: 0 matched\n",
      "pmra: 0 matched\n",
      "pmdec: 0 matched\n",
      "RV: 538 matched\n",
      "matched 3 params in NGC_189:\n",
      "['ra' 'dec' 'RV']\n",
      "Target not likely a cluster member\n",
      "cannot unpack non-iterable NoneType object\n",
      "Target: TOI 1471.01\n",
      "Querying Gaia DR2 catalog for ra,dec=(30.905 21.2813) within 3.0 arcsec.\n"
     ]
    },
    {
     "name": "stderr",
     "output_type": "stream",
     "text": [
      "\r",
      " 52%|█████▏    | 360/690 [27:13<24:43,  4.49s/it]"
     ]
    },
    {
     "name": "stdout",
     "output_type": "stream",
     "text": [
      "ra: 15 matched\n",
      "dec: 21 matched\n",
      "parallax: 0 matched\n",
      "pmra: 0 matched\n",
      "pmdec: 0 matched\n",
      "RV: 0 matched\n",
      "matched 1 params in ASCC_107:\n",
      "['dec']\n",
      "Target not likely a cluster member\n",
      "cannot unpack non-iterable NoneType object\n",
      "Target: TOI 1472.01\n",
      "Querying Gaia DR2 catalog for ra,dec=(14.1142 48.6375) within 3.0 arcsec.\n"
     ]
    },
    {
     "name": "stderr",
     "output_type": "stream",
     "text": [
      "\r",
      " 52%|█████▏    | 361/690 [27:17<24:37,  4.49s/it]"
     ]
    },
    {
     "name": "stdout",
     "output_type": "stream",
     "text": [
      "ra: 11 matched\n",
      "dec: 17 matched\n",
      "parallax: 3 matched\n",
      "pmra: 0 matched\n",
      "pmdec: 7 matched\n",
      "RV: 523 matched\n",
      "matched 3 params in Alessi_1:\n",
      "['ra' 'dec' 'RV']\n",
      "Target not likely a cluster member\n",
      "cannot unpack non-iterable NoneType object\n",
      "Target: TOI 1473.01\n",
      "Querying Gaia DR2 catalog for ra,dec=(15.5981 37.1854) within 3.0 arcsec.\n",
      "There are 2 gaia sources within 3.0 arcsec.\n"
     ]
    },
    {
     "name": "stderr",
     "output_type": "stream",
     "text": [
      "\r",
      " 52%|█████▏    | 362/690 [27:22<24:43,  4.52s/it]"
     ]
    },
    {
     "name": "stdout",
     "output_type": "stream",
     "text": [
      "ra: 10 matched\n",
      "dec: 27 matched\n",
      "parallax: 0 matched\n",
      "pmra: 32 matched\n",
      "pmdec: 23 matched\n",
      "RV: 533 matched\n",
      "matched 2 params in ASCC_10:\n",
      "['dec' 'RV']\n",
      "Target not likely a cluster member\n",
      "cannot unpack non-iterable NoneType object\n",
      "Target: TOI 1474.01\n",
      "Querying Gaia DR2 catalog for ra,dec=(349.289 70.1906) within 3.0 arcsec.\n"
     ]
    },
    {
     "name": "stderr",
     "output_type": "stream",
     "text": [
      "\r",
      " 53%|█████▎    | 363/690 [27:26<24:30,  4.50s/it]"
     ]
    },
    {
     "name": "stdout",
     "output_type": "stream",
     "text": [
      "ra: 12 matched\n",
      "dec: 3 matched\n",
      "parallax: 0 matched\n",
      "pmra: 0 matched\n",
      "pmdec: 0 matched\n",
      "RV: 0 matched\n",
      "matched 1 params in ASCC_127:\n",
      "['ra']\n",
      "Target not likely a cluster member\n",
      "cannot unpack non-iterable NoneType object\n",
      "Target: TOI 1475.01\n",
      "Querying Gaia DR2 catalog for ra,dec=(357.001 49.7905) within 3.0 arcsec.\n"
     ]
    },
    {
     "name": "stderr",
     "output_type": "stream",
     "text": [
      "\r",
      " 53%|█████▎    | 364/690 [27:31<24:43,  4.55s/it]"
     ]
    },
    {
     "name": "stdout",
     "output_type": "stream",
     "text": [
      "ra: 11 matched\n",
      "dec: 21 matched\n",
      "parallax: 30 matched\n",
      "pmra: 2 matched\n",
      "pmdec: 472 matched\n",
      "RV: 0 matched\n",
      "matched 3 params in Aveni_Hunter_1:\n",
      "['ra' 'dec' 'pmdec']\n",
      "Target not likely a cluster member\n",
      "cannot unpack non-iterable NoneType object\n",
      "Target: TOI 1476.01\n",
      "Querying Gaia DR2 catalog for ra,dec=(0.362083 39.3838) within 3.0 arcsec.\n"
     ]
    },
    {
     "name": "stderr",
     "output_type": "stream",
     "text": [
      "\r",
      " 53%|█████▎    | 365/690 [27:35<24:41,  4.56s/it]"
     ]
    },
    {
     "name": "stdout",
     "output_type": "stream",
     "text": [
      "ra: 2 matched\n",
      "dec: 21 matched\n",
      "parallax: 23 matched\n",
      "pmra: 35 matched\n",
      "pmdec: 54 matched\n",
      "RV: 527 matched\n",
      "matched 3 params in Alessi_9:\n",
      "['parallax' 'pmdec' 'RV']\n",
      "Target not likely a cluster member\n",
      "cannot unpack non-iterable NoneType object\n",
      "Target: TOI 1477.01\n",
      "Querying Gaia DR2 catalog for ra,dec=(9.45875 51.2888) within 3.0 arcsec.\n"
     ]
    },
    {
     "name": "stderr",
     "output_type": "stream",
     "text": [
      "\r",
      " 53%|█████▎    | 366/690 [27:40<24:26,  4.53s/it]"
     ]
    },
    {
     "name": "stdout",
     "output_type": "stream",
     "text": [
      "ra: 9 matched\n",
      "dec: 26 matched\n",
      "parallax: 68 matched\n",
      "pmra: 164 matched\n",
      "pmdec: 282 matched\n",
      "RV: 557 matched\n",
      "matched 4 params in NGC_2451B:\n",
      "['parallax' 'pmra' 'pmdec' 'RV']\n",
      "Target not likely a cluster member\n",
      "cannot unpack non-iterable NoneType object\n",
      "Target: TOI 1478.01\n",
      "Querying Gaia DR2 catalog for ra,dec=(126.434 -13.5595) within 3.0 arcsec.\n"
     ]
    },
    {
     "name": "stderr",
     "output_type": "stream",
     "text": [
      "\r",
      " 53%|█████▎    | 367/690 [27:44<24:24,  4.53s/it]"
     ]
    },
    {
     "name": "stdout",
     "output_type": "stream",
     "text": [
      "ra: 21 matched\n",
      "dec: 26 matched\n",
      "parallax: 9 matched\n",
      "pmra: 74 matched\n",
      "pmdec: 0 matched\n",
      "RV: 503 matched\n",
      "matched 3 params in IC_2391:\n",
      "['ra' 'parallax' 'RV']\n",
      "Target not likely a cluster member\n",
      "cannot unpack non-iterable NoneType object\n",
      "Target: TOI 1479.01\n",
      "Querying Gaia DR2 catalog for ra,dec=(288.818 57.7606) within 3.0 arcsec.\n"
     ]
    },
    {
     "name": "stderr",
     "output_type": "stream",
     "text": [
      "\r",
      " 53%|█████▎    | 368/690 [27:49<24:08,  4.50s/it]"
     ]
    },
    {
     "name": "stdout",
     "output_type": "stream",
     "text": [
      "ra: 12 matched\n",
      "dec: 36 matched\n",
      "parallax: 152 matched\n",
      "pmra: 636 matched\n",
      "pmdec: 279 matched\n",
      "RV: 0 matched\n",
      "matched 4 params in UBC_1:\n",
      "['ra' 'dec' 'pmra' 'pmdec']\n",
      "Target: TOI 1480.01\n",
      "Querying Gaia DR2 catalog for ra,dec=(332.614 63.5505) within 3.0 arcsec.\n"
     ]
    },
    {
     "name": "stderr",
     "output_type": "stream",
     "text": [
      "\r",
      " 53%|█████▎    | 369/690 [27:53<24:03,  4.50s/it]"
     ]
    },
    {
     "name": "stdout",
     "output_type": "stream",
     "text": [
      "ra: 14 matched\n",
      "dec: 39 matched\n",
      "parallax: 510 matched\n",
      "pmra: 591 matched\n",
      "pmdec: 612 matched\n",
      "RV: 0 matched\n",
      "matched 4 params in Alessi_Teutsch_5:\n",
      "['ra' 'parallax' 'pmra' 'pmdec']\n",
      "Target not likely a cluster member\n",
      "cannot unpack non-iterable NoneType object\n",
      "Target: TOI 1481.01\n",
      "Querying Gaia DR2 catalog for ra,dec=(336.705 52.2278) within 3.0 arcsec.\n"
     ]
    },
    {
     "name": "stderr",
     "output_type": "stream",
     "text": [
      "\r",
      " 54%|█████▎    | 370/690 [27:58<23:53,  4.48s/it]"
     ]
    },
    {
     "name": "stdout",
     "output_type": "stream",
     "text": [
      "ra: 9 matched\n",
      "dec: 25 matched\n",
      "parallax: 451 matched\n",
      "pmra: 95 matched\n",
      "pmdec: 434 matched\n",
      "RV: 0 matched\n",
      "matched 4 params in NGC_1528:\n",
      "['dec' 'parallax' 'pmra' 'pmdec']\n",
      "Target not likely a cluster member\n",
      "cannot unpack non-iterable NoneType object\n",
      "Target: TOI 1482.01\n",
      "Querying Gaia DR2 catalog for ra,dec=(345.995 52.5627) within 3.0 arcsec.\n"
     ]
    },
    {
     "name": "stderr",
     "output_type": "stream",
     "text": [
      "\r",
      " 54%|█████▍    | 371/690 [28:02<24:06,  4.53s/it]"
     ]
    },
    {
     "name": "stdout",
     "output_type": "stream",
     "text": [
      "ra: 13 matched\n",
      "dec: 30 matched\n",
      "parallax: 38 matched\n",
      "pmra: 0 matched\n",
      "pmdec: 7 matched\n",
      "RV: 0 matched\n",
      "matched 2 params in ASCC_123:\n",
      "['ra' 'dec']\n",
      "Target not likely a cluster member\n",
      "cannot unpack non-iterable NoneType object\n",
      "Target: TOI 1483.01\n",
      "Querying Gaia DR2 catalog for ra,dec=(338.435 52.6363) within 3.0 arcsec.\n"
     ]
    },
    {
     "name": "stderr",
     "output_type": "stream",
     "text": [
      "\r",
      " 54%|█████▍    | 372/690 [28:07<23:52,  4.50s/it]"
     ]
    },
    {
     "name": "stdout",
     "output_type": "stream",
     "text": [
      "ra: 10 matched\n",
      "dec: 31 matched\n",
      "parallax: 12 matched\n",
      "pmra: 3 matched\n",
      "pmdec: 348 matched\n",
      "RV: 539 matched\n",
      "matched 5 params in ASCC_123:\n",
      "['ra' 'dec' 'parallax' 'pmdec' 'RV']\n",
      "Target: TOI 1485.01\n",
      "Querying Gaia DR2 catalog for ra,dec=(285.937 59.1641) within 3.0 arcsec.\n"
     ]
    },
    {
     "name": "stderr",
     "output_type": "stream",
     "text": [
      "\r",
      " 54%|█████▍    | 373/690 [28:11<23:48,  4.51s/it]"
     ]
    },
    {
     "name": "stdout",
     "output_type": "stream",
     "text": [
      "ra: 10 matched\n",
      "dec: 32 matched\n",
      "parallax: 69 matched\n",
      "pmra: 163 matched\n",
      "pmdec: 161 matched\n",
      "RV: 492 matched\n",
      "matched 4 params in UBC_1:\n",
      "['ra' 'dec' 'pmdec' 'RV']\n",
      "Target: TOI 1487.01\n",
      "Querying Gaia DR2 catalog for ra,dec=(255.565 64.6009) within 3.0 arcsec.\n"
     ]
    },
    {
     "name": "stderr",
     "output_type": "stream",
     "text": [
      "\r",
      " 54%|█████▍    | 374/690 [28:16<23:38,  4.49s/it]"
     ]
    },
    {
     "name": "stdout",
     "output_type": "stream",
     "text": [
      "ra: 18 matched\n",
      "dec: 21 matched\n",
      "parallax: 1 matched\n",
      "pmra: 9 matched\n",
      "pmdec: 0 matched\n",
      "RV: 503 matched\n",
      "matched 2 params in ASCC_127:\n",
      "['dec' 'RV']\n",
      "Target not likely a cluster member\n",
      "cannot unpack non-iterable NoneType object\n",
      "Target: TOI 1489.01\n",
      "Querying Gaia DR2 catalog for ra,dec=(261.2 61.4235) within 3.0 arcsec.\n"
     ]
    },
    {
     "name": "stderr",
     "output_type": "stream",
     "text": [
      "\r",
      " 54%|█████▍    | 375/690 [28:20<23:34,  4.49s/it]"
     ]
    },
    {
     "name": "stdout",
     "output_type": "stream",
     "text": [
      "ra: 12 matched\n",
      "dec: 41 matched\n",
      "parallax: 78 matched\n",
      "pmra: 48 matched\n",
      "pmdec: 2 matched\n",
      "RV: 513 matched\n",
      "matched 3 params in COIN-Gaia_37:\n",
      "['dec' 'parallax' 'RV']\n",
      "Target not likely a cluster member\n",
      "cannot unpack non-iterable NoneType object\n",
      "Target: TOI 1490.01\n",
      "Querying Gaia DR2 catalog for ra,dec=(13.0177 36.393) within 3.0 arcsec.\n"
     ]
    },
    {
     "name": "stderr",
     "output_type": "stream",
     "text": [
      "\r",
      " 54%|█████▍    | 376/690 [28:25<23:36,  4.51s/it]"
     ]
    },
    {
     "name": "stdout",
     "output_type": "stream",
     "text": [
      "ra: 10 matched\n",
      "dec: 30 matched\n",
      "parallax: 12 matched\n",
      "pmra: 0 matched\n",
      "pmdec: 2 matched\n",
      "RV: 538 matched\n",
      "matched 2 params in ASCC_10:\n",
      "['dec' 'RV']\n",
      "Target not likely a cluster member\n",
      "cannot unpack non-iterable NoneType object\n",
      "Target: TOI 1491.01\n",
      "Querying Gaia DR2 catalog for ra,dec=(14.653 34.148) within 3.0 arcsec.\n"
     ]
    },
    {
     "name": "stderr",
     "output_type": "stream",
     "text": [
      "\r",
      " 55%|█████▍    | 377/690 [28:29<23:36,  4.53s/it]"
     ]
    },
    {
     "name": "stdout",
     "output_type": "stream",
     "text": [
      "ra: 10 matched\n",
      "dec: 23 matched\n",
      "parallax: 11 matched\n",
      "pmra: 1 matched\n",
      "pmdec: 1 matched\n",
      "RV: 507 matched\n",
      "matched 2 params in ASCC_10:\n",
      "['dec' 'RV']\n",
      "Target not likely a cluster member\n",
      "cannot unpack non-iterable NoneType object\n",
      "Target: TOI 1493.01\n",
      "Querying Gaia DR2 catalog for ra,dec=(17.4747 25.6817) within 3.0 arcsec.\n"
     ]
    },
    {
     "name": "stderr",
     "output_type": "stream",
     "text": [
      "\r",
      " 55%|█████▍    | 378/690 [28:34<23:15,  4.47s/it]"
     ]
    },
    {
     "name": "stdout",
     "output_type": "stream",
     "text": [
      "ra: 9 matched\n",
      "dec: 19 matched\n",
      "parallax: 67 matched\n",
      "pmra: 5 matched\n",
      "pmdec: 20 matched\n",
      "RV: 509 matched\n",
      "matched 3 params in Stock_1:\n",
      "['dec' 'parallax' 'RV']\n",
      "Target not likely a cluster member\n",
      "cannot unpack non-iterable NoneType object\n",
      "Target: TOI 1494.01\n",
      "Querying Gaia DR2 catalog for ra,dec=(18.9953 21.6169) within 3.0 arcsec.\n"
     ]
    },
    {
     "name": "stderr",
     "output_type": "stream",
     "text": [
      "\r",
      " 55%|█████▍    | 379/690 [28:38<23:20,  4.50s/it]"
     ]
    },
    {
     "name": "stdout",
     "output_type": "stream",
     "text": [
      "ra: 11 matched\n",
      "dec: 21 matched\n",
      "parallax: 28 matched\n",
      "pmra: 2 matched\n",
      "pmdec: 34 matched\n",
      "RV: 525 matched\n",
      "matched 3 params in Alessi_9:\n",
      "['parallax' 'pmdec' 'RV']\n",
      "Target not likely a cluster member\n",
      "cannot unpack non-iterable NoneType object\n",
      "Target: TOI 1495.01\n",
      "Querying Gaia DR2 catalog for ra,dec=(334.981 53.6625) within 3.0 arcsec.\n"
     ]
    },
    {
     "name": "stderr",
     "output_type": "stream",
     "text": [
      "\r",
      " 55%|█████▌    | 380/690 [28:43<23:15,  4.50s/it]"
     ]
    },
    {
     "name": "stdout",
     "output_type": "stream",
     "text": [
      "ra: 13 matched\n",
      "dec: 18 matched\n",
      "parallax: 950 matched\n",
      "pmra: 186 matched\n",
      "pmdec: 545 matched\n",
      "RV: 0 matched\n",
      "matched 3 params in ASCC_123:\n",
      "['ra' 'dec' 'pmdec']\n",
      "Target not likely a cluster member\n",
      "cannot unpack non-iterable NoneType object\n",
      "Target: TOI 1496.01\n",
      "Querying Gaia DR2 catalog for ra,dec=(327.276 53.2938) within 3.0 arcsec.\n"
     ]
    },
    {
     "name": "stderr",
     "output_type": "stream",
     "text": [
      "\r",
      " 55%|█████▌    | 381/690 [28:47<23:05,  4.48s/it]"
     ]
    },
    {
     "name": "stdout",
     "output_type": "stream",
     "text": [
      "ra: 9 matched\n",
      "dec: 21 matched\n",
      "parallax: 0 matched\n",
      "pmra: 0 matched\n",
      "pmdec: 9 matched\n",
      "RV: 404 matched\n",
      "matched 3 params in UPK_167:\n",
      "['ra' 'dec' 'RV']\n",
      "Target not likely a cluster member\n",
      "cannot unpack non-iterable NoneType object\n",
      "Target: TOI 1497.01\n",
      "Querying Gaia DR2 catalog for ra,dec=(343.233 59.851) within 3.0 arcsec.\n"
     ]
    },
    {
     "name": "stderr",
     "output_type": "stream",
     "text": [
      "\r",
      " 55%|█████▌    | 382/690 [28:52<23:05,  4.50s/it]"
     ]
    },
    {
     "name": "stdout",
     "output_type": "stream",
     "text": [
      "ra: 17 matched\n",
      "dec: 29 matched\n",
      "parallax: 77 matched\n",
      "pmra: 33 matched\n",
      "pmdec: 539 matched\n",
      "RV: 0 matched\n",
      "matched 5 params in RSG_7:\n",
      "['ra' 'dec' 'parallax' 'pmra' 'pmdec']\n",
      "Target: TOI 1498.01\n",
      "Querying Gaia DR2 catalog for ra,dec=(321.973 54.5198) within 3.0 arcsec.\n"
     ]
    },
    {
     "name": "stderr",
     "output_type": "stream",
     "text": [
      "\r",
      " 56%|█████▌    | 383/690 [28:56<22:52,  4.47s/it]"
     ]
    },
    {
     "name": "stdout",
     "output_type": "stream",
     "text": [
      "ra: 12 matched\n",
      "dec: 20 matched\n",
      "parallax: 22 matched\n",
      "pmra: 2 matched\n",
      "pmdec: 3 matched\n",
      "RV: 0 matched\n",
      "matched 3 params in ASCC_123:\n",
      "['dec' 'parallax' 'pmra']\n",
      "Target not likely a cluster member\n",
      "cannot unpack non-iterable NoneType object\n",
      "Target: TOI 1500.01\n",
      "Querying Gaia DR2 catalog for ra,dec=(341.965 60.1736) within 3.0 arcsec.\n",
      "Target parallax (nan mas) is omitted!\n"
     ]
    },
    {
     "name": "stderr",
     "output_type": "stream",
     "text": [
      "\r",
      " 56%|█████▌    | 384/690 [29:01<22:42,  4.45s/it]"
     ]
    },
    {
     "name": "stdout",
     "output_type": "stream",
     "text": [
      "ra: 18 matched\n",
      "dec: 80 matched\n",
      "parallax: 0 matched\n",
      "pmra: 0 matched\n",
      "pmdec: 0 matched\n",
      "RV: 0 matched\n",
      "matched 2 params in Gulliver_19:\n",
      "['ra' 'dec']\n",
      "Target not likely a cluster member\n",
      "cannot unpack non-iterable NoneType object\n",
      "Target: TOI 1501.01\n",
      "Querying Gaia DR2 catalog for ra,dec=(332.713 59.6506) within 3.0 arcsec.\n"
     ]
    },
    {
     "name": "stderr",
     "output_type": "stream",
     "text": [
      "\r",
      " 56%|█████▌    | 385/690 [29:05<22:32,  4.43s/it]"
     ]
    },
    {
     "name": "stdout",
     "output_type": "stream",
     "text": [
      "ra: 14 matched\n",
      "dec: 30 matched\n",
      "parallax: 62 matched\n",
      "pmra: 11 matched\n",
      "pmdec: 32 matched\n",
      "RV: 0 matched\n",
      "matched 3 params in UPK_612:\n",
      "['parallax' 'pmra' 'pmdec']\n",
      "Target not likely a cluster member\n",
      "cannot unpack non-iterable NoneType object\n",
      "Target: TOI 1502.01\n",
      "Querying Gaia DR2 catalog for ra,dec=(328.216 60.5692) within 3.0 arcsec.\n"
     ]
    },
    {
     "name": "stderr",
     "output_type": "stream",
     "text": [
      "\r",
      " 56%|█████▌    | 386/690 [29:09<22:37,  4.47s/it]"
     ]
    },
    {
     "name": "stdout",
     "output_type": "stream",
     "text": [
      "ra: 10 matched\n",
      "dec: 42 matched\n",
      "parallax: 69 matched\n",
      "pmra: 5 matched\n",
      "pmdec: 8 matched\n",
      "RV: 511 matched\n",
      "matched 3 params in Melotte_20:\n",
      "['dec' 'pmra' 'RV']\n",
      "Target not likely a cluster member\n",
      "cannot unpack non-iterable NoneType object\n",
      "Target: TOI 1503.01\n",
      "Querying Gaia DR2 catalog for ra,dec=(339.12 52.1157) within 3.0 arcsec.\n"
     ]
    },
    {
     "name": "stderr",
     "output_type": "stream",
     "text": [
      "\r",
      " 56%|█████▌    | 387/690 [29:14<22:46,  4.51s/it]"
     ]
    },
    {
     "name": "stdout",
     "output_type": "stream",
     "text": [
      "ra: 11 matched\n",
      "dec: 27 matched\n",
      "parallax: 29 matched\n",
      "pmra: 3 matched\n",
      "pmdec: 23 matched\n",
      "RV: 0 matched\n",
      "matched 4 params in ASCC_123:\n",
      "['ra' 'dec' 'parallax' 'pmra']\n",
      "Target: TOI 1504.01\n",
      "Querying Gaia DR2 catalog for ra,dec=(331.57 52.7019) within 3.0 arcsec.\n"
     ]
    },
    {
     "name": "stderr",
     "output_type": "stream",
     "text": [
      "\r",
      " 56%|█████▌    | 388/690 [29:19<22:41,  4.51s/it]"
     ]
    },
    {
     "name": "stdout",
     "output_type": "stream",
     "text": [
      "ra: 8 matched\n",
      "dec: 31 matched\n",
      "parallax: 11 matched\n",
      "pmra: 1 matched\n",
      "pmdec: 293 matched\n",
      "RV: 450 matched\n",
      "matched 3 params in Alessi_Teutsch_5:\n",
      "['ra' 'pmdec' 'RV']\n",
      "Target not likely a cluster member\n",
      "cannot unpack non-iterable NoneType object\n",
      "Target: TOI 1505.01\n",
      "Querying Gaia DR2 catalog for ra,dec=(326.091 58.5516) within 3.0 arcsec.\n"
     ]
    },
    {
     "name": "stderr",
     "output_type": "stream",
     "text": [
      "\r",
      " 56%|█████▋    | 389/690 [29:24<23:47,  4.74s/it]"
     ]
    },
    {
     "name": "stdout",
     "output_type": "stream",
     "text": [
      "ra: 12 matched\n",
      "dec: 36 matched\n",
      "parallax: 10 matched\n",
      "pmra: 2 matched\n",
      "pmdec: 2 matched\n",
      "RV: 0 matched\n",
      "matched 2 params in IC_1396:\n",
      "['ra' 'dec']\n",
      "Target not likely a cluster member\n",
      "cannot unpack non-iterable NoneType object\n",
      "Target: TOI 1506.01\n",
      "Querying Gaia DR2 catalog for ra,dec=(338.797 55.031) within 3.0 arcsec.\n"
     ]
    },
    {
     "name": "stderr",
     "output_type": "stream",
     "text": [
      "\r",
      " 57%|█████▋    | 390/690 [29:28<23:22,  4.68s/it]"
     ]
    },
    {
     "name": "stdout",
     "output_type": "stream",
     "text": [
      "ra: 11 matched\n",
      "dec: 19 matched\n",
      "parallax: 280 matched\n",
      "pmra: 187 matched\n",
      "pmdec: 205 matched\n",
      "RV: 0 matched\n",
      "matched 3 params in Alessi_8:\n",
      "['parallax' 'pmra' 'pmdec']\n",
      "Target not likely a cluster member\n",
      "cannot unpack non-iterable NoneType object\n",
      "Target: TOI 1508.01\n",
      "Querying Gaia DR2 catalog for ra,dec=(339.144 58.2761) within 3.0 arcsec.\n"
     ]
    },
    {
     "name": "stderr",
     "output_type": "stream",
     "text": [
      "\r",
      " 57%|█████▋    | 391/690 [29:33<23:11,  4.65s/it]"
     ]
    },
    {
     "name": "stdout",
     "output_type": "stream",
     "text": [
      "ra: 11 matched\n",
      "dec: 36 matched\n",
      "parallax: 341 matched\n",
      "pmra: 237 matched\n",
      "pmdec: 517 matched\n",
      "RV: 0 matched\n",
      "matched 4 params in IC_1396:\n",
      "['dec' 'parallax' 'pmra' 'pmdec']\n",
      "Target not likely a cluster member\n",
      "cannot unpack non-iterable NoneType object\n",
      "Target: TOI 1509.01\n",
      "Querying Gaia DR2 catalog for ra,dec=(356.589 60.487) within 3.0 arcsec.\n"
     ]
    },
    {
     "name": "stderr",
     "output_type": "stream",
     "text": [
      "\r",
      " 57%|█████▋    | 392/690 [29:38<22:59,  4.63s/it]"
     ]
    },
    {
     "name": "stdout",
     "output_type": "stream",
     "text": [
      "ra: 9 matched\n",
      "dec: 40 matched\n",
      "parallax: 83 matched\n",
      "pmra: 10 matched\n",
      "pmdec: 520 matched\n",
      "RV: 0 matched\n",
      "matched 4 params in Stock_12:\n",
      "['ra' 'parallax' 'pmra' 'pmdec']\n",
      "Target not likely a cluster member\n",
      "cannot unpack non-iterable NoneType object\n",
      "Target: TOI 1510.01\n",
      "Querying Gaia DR2 catalog for ra,dec=(348.574 65.958) within 3.0 arcsec.\n"
     ]
    },
    {
     "name": "stderr",
     "output_type": "stream",
     "text": [
      "\r",
      " 57%|█████▋    | 393/690 [29:42<22:38,  4.57s/it]"
     ]
    },
    {
     "name": "stdout",
     "output_type": "stream",
     "text": [
      "ra: 13 matched\n",
      "dec: 15 matched\n",
      "parallax: 127 matched\n",
      "pmra: 1 matched\n",
      "pmdec: 58 matched\n",
      "RV: 463 matched\n",
      "matched 3 params in COIN-Gaia_1:\n",
      "['dec' 'parallax' 'RV']\n",
      "Target not likely a cluster member\n",
      "cannot unpack non-iterable NoneType object\n",
      "Target: TOI 1511.01\n",
      "Querying Gaia DR2 catalog for ra,dec=(340.352 69.0744) within 3.0 arcsec.\n"
     ]
    },
    {
     "name": "stderr",
     "output_type": "stream",
     "text": [
      "\r",
      " 57%|█████▋    | 394/690 [29:46<22:19,  4.53s/it]"
     ]
    },
    {
     "name": "stdout",
     "output_type": "stream",
     "text": [
      "ra: 13 matched\n",
      "dec: 3 matched\n",
      "parallax: 160 matched\n",
      "pmra: 31 matched\n",
      "pmdec: 460 matched\n",
      "RV: 0 matched\n",
      "matched 4 params in RSG_7:\n",
      "['ra' 'parallax' 'pmra' 'pmdec']\n",
      "Target not likely a cluster member\n",
      "cannot unpack non-iterable NoneType object\n",
      "Target: TOI 1512.01\n",
      "Querying Gaia DR2 catalog for ra,dec=(345.488 64.0673) within 3.0 arcsec.\n"
     ]
    },
    {
     "name": "stderr",
     "output_type": "stream",
     "text": [
      "\r",
      " 57%|█████▋    | 395/690 [29:51<22:02,  4.48s/it]"
     ]
    },
    {
     "name": "stdout",
     "output_type": "stream",
     "text": [
      "ra: 14 matched\n",
      "dec: 30 matched\n",
      "parallax: 614 matched\n",
      "pmra: 661 matched\n",
      "pmdec: 558 matched\n",
      "RV: 0 matched\n",
      "matched 4 params in Berkeley_101:\n",
      "['dec' 'parallax' 'pmra' 'pmdec']\n",
      "Target not likely a cluster member\n",
      "cannot unpack non-iterable NoneType object\n",
      "Target: TOI 1513.01\n",
      "Querying Gaia DR2 catalog for ra,dec=(350.374 60.1756) within 3.0 arcsec.\n"
     ]
    },
    {
     "name": "stderr",
     "output_type": "stream",
     "text": [
      "\r",
      " 57%|█████▋    | 396/690 [29:55<21:57,  4.48s/it]"
     ]
    },
    {
     "name": "stdout",
     "output_type": "stream",
     "text": [
      "ra: 12 matched\n",
      "dec: 33 matched\n",
      "parallax: 25 matched\n",
      "pmra: 0 matched\n",
      "pmdec: 9 matched\n",
      "RV: 0 matched\n",
      "matched 2 params in Alessi_3:\n",
      "['parallax' 'pmdec']\n",
      "Target not likely a cluster member\n",
      "cannot unpack non-iterable NoneType object\n",
      "Target: TOI 1515.01\n",
      "Querying Gaia DR2 catalog for ra,dec=(357.368 61.6828) within 3.0 arcsec.\n"
     ]
    },
    {
     "name": "stderr",
     "output_type": "stream",
     "text": [
      "\r",
      " 58%|█████▊    | 397/690 [30:00<21:42,  4.45s/it]"
     ]
    },
    {
     "name": "stdout",
     "output_type": "stream",
     "text": [
      "ra: 10 matched\n",
      "dec: 39 matched\n",
      "parallax: 52 matched\n",
      "pmra: 556 matched\n",
      "pmdec: 7 matched\n",
      "RV: 520 matched\n",
      "matched 3 params in ASCC_41:\n",
      "['parallax' 'pmra' 'RV']\n",
      "Target not likely a cluster member\n",
      "cannot unpack non-iterable NoneType object\n",
      "Target: TOI 1516.01\n",
      "Querying Gaia DR2 catalog for ra,dec=(340.085 69.5037) within 3.0 arcsec.\n"
     ]
    },
    {
     "name": "stderr",
     "output_type": "stream",
     "text": [
      "\r",
      " 58%|█████▊    | 398/690 [30:04<21:46,  4.47s/it]"
     ]
    },
    {
     "name": "stdout",
     "output_type": "stream",
     "text": [
      "ra: 12 matched\n",
      "dec: 5 matched\n",
      "parallax: 11 matched\n",
      "pmra: 3 matched\n",
      "pmdec: 568 matched\n",
      "RV: 0 matched\n",
      "matched 3 params in ASCC_123:\n",
      "['ra' 'parallax' 'pmdec']\n",
      "Target not likely a cluster member\n",
      "cannot unpack non-iterable NoneType object\n",
      "Target: TOI 1518.01\n",
      "Querying Gaia DR2 catalog for ra,dec=(352.267 67.0348) within 3.0 arcsec.\n"
     ]
    },
    {
     "name": "stderr",
     "output_type": "stream",
     "text": [
      "\r",
      " 58%|█████▊    | 399/690 [30:09<21:36,  4.46s/it]"
     ]
    },
    {
     "name": "stdout",
     "output_type": "stream",
     "text": [
      "ra: 13 matched\n",
      "dec: 10 matched\n",
      "parallax: 10 matched\n",
      "pmra: 130 matched\n",
      "pmdec: 249 matched\n",
      "RV: 0 matched\n",
      "matched 3 params in UPK_612:\n",
      "['parallax' 'pmra' 'pmdec']\n",
      "Target not likely a cluster member\n",
      "cannot unpack non-iterable NoneType object\n",
      "Target: TOI 1520.01\n",
      "Querying Gaia DR2 catalog for ra,dec=(350.233 62.1612) within 3.0 arcsec.\n"
     ]
    },
    {
     "name": "stderr",
     "output_type": "stream",
     "text": [
      "\r",
      " 58%|█████▊    | 400/690 [30:13<21:32,  4.46s/it]"
     ]
    },
    {
     "name": "stdout",
     "output_type": "stream",
     "text": [
      "ra: 13 matched\n",
      "dec: 37 matched\n",
      "parallax: 11 matched\n",
      "pmra: 1 matched\n",
      "pmdec: 13 matched\n",
      "RV: 0 matched\n",
      "matched 3 params in Melotte_20:\n",
      "['dec' 'parallax' 'pmra']\n",
      "Target not likely a cluster member\n",
      "cannot unpack non-iterable NoneType object\n",
      "Target: TOI 1521.01\n",
      "Querying Gaia DR2 catalog for ra,dec=(356.771 69.0495) within 3.0 arcsec.\n"
     ]
    },
    {
     "name": "stderr",
     "output_type": "stream",
     "text": [
      "\r",
      " 58%|█████▊    | 401/690 [30:18<21:37,  4.49s/it]"
     ]
    },
    {
     "name": "stdout",
     "output_type": "stream",
     "text": [
      "ra: 10 matched\n",
      "dec: 3 matched\n",
      "parallax: 37 matched\n",
      "pmra: 175 matched\n",
      "pmdec: 14 matched\n",
      "RV: 408 matched\n",
      "matched 3 params in Collinder_350:\n",
      "['parallax' 'pmra' 'RV']\n",
      "Target not likely a cluster member\n",
      "cannot unpack non-iterable NoneType object\n",
      "Target: TOI 1522.01\n",
      "Querying Gaia DR2 catalog for ra,dec=(314.269 78.6749) within 3.0 arcsec.\n"
     ]
    },
    {
     "name": "stderr",
     "output_type": "stream",
     "text": [
      "\r",
      " 58%|█████▊    | 402/690 [30:22<21:25,  4.46s/it]"
     ]
    },
    {
     "name": "stdout",
     "output_type": "stream",
     "text": [
      "ra: 18 matched\n",
      "dec: 1 matched\n",
      "parallax: 37 matched\n",
      "pmra: 3 matched\n",
      "pmdec: 2 matched\n",
      "RV: 0 matched\n",
      "matched 1 params in ASCC_16:\n",
      "['parallax']\n",
      "Target not likely a cluster member\n",
      "cannot unpack non-iterable NoneType object\n",
      "Target: TOI 1524.01\n",
      "Querying Gaia DR2 catalog for ra,dec=(319.145 58.7728) within 3.0 arcsec.\n"
     ]
    },
    {
     "name": "stderr",
     "output_type": "stream",
     "text": [
      "\r",
      " 58%|█████▊    | 403/690 [30:26<21:18,  4.46s/it]"
     ]
    },
    {
     "name": "stdout",
     "output_type": "stream",
     "text": [
      "ra: 13 matched\n",
      "dec: 34 matched\n",
      "parallax: 311 matched\n",
      "pmra: 642 matched\n",
      "pmdec: 263 matched\n",
      "RV: 0 matched\n",
      "matched 4 params in IC_1396:\n",
      "['dec' 'parallax' 'pmra' 'pmdec']\n",
      "Target not likely a cluster member\n",
      "cannot unpack non-iterable NoneType object\n",
      "Target: TOI 1526.01\n",
      "Querying Gaia DR2 catalog for ra,dec=(318.348 56.9437) within 3.0 arcsec.\n"
     ]
    },
    {
     "name": "stderr",
     "output_type": "stream",
     "text": [
      "\r",
      " 59%|█████▊    | 404/690 [30:31<21:15,  4.46s/it]"
     ]
    },
    {
     "name": "stdout",
     "output_type": "stream",
     "text": [
      "ra: 14 matched\n",
      "dec: 31 matched\n",
      "parallax: 39 matched\n",
      "pmra: 3 matched\n",
      "pmdec: 7 matched\n",
      "RV: 0 matched\n",
      "matched 3 params in NGC_7092:\n",
      "['ra' 'parallax' 'pmdec']\n",
      "Target not likely a cluster member\n",
      "cannot unpack non-iterable NoneType object\n",
      "Target: TOI 1527.01\n",
      "Querying Gaia DR2 catalog for ra,dec=(5.96546 51.4683) within 3.0 arcsec.\n"
     ]
    },
    {
     "name": "stderr",
     "output_type": "stream",
     "text": [
      "\r",
      " 59%|█████▊    | 405/690 [30:35<21:13,  4.47s/it]"
     ]
    },
    {
     "name": "stdout",
     "output_type": "stream",
     "text": [
      "ra: 15 matched\n",
      "dec: 27 matched\n",
      "parallax: 116 matched\n",
      "pmra: 516 matched\n",
      "pmdec: 581 matched\n",
      "RV: 0 matched\n",
      "matched 4 params in UPK_167:\n",
      "['dec' 'parallax' 'pmra' 'pmdec']\n",
      "Target not likely a cluster member\n",
      "cannot unpack non-iterable NoneType object\n",
      "Target: TOI 1528.01\n",
      "Querying Gaia DR2 catalog for ra,dec=(13.222 60.8917) within 3.0 arcsec.\n"
     ]
    },
    {
     "name": "stderr",
     "output_type": "stream",
     "text": [
      "\r",
      " 59%|█████▉    | 406/690 [30:36<15:25,  3.26s/it]"
     ]
    },
    {
     "name": "stdout",
     "output_type": "stream",
     "text": [
      "No gaia star within 3.0 arcsec. Use radius>3.0 arcsec\n",
      "Target: TOI 1531.01\n",
      "Querying Gaia DR2 catalog for ra,dec=(13.5973 54.528) within 3.0 arcsec.\n",
      "There are 2 gaia sources within 3.0 arcsec.\n"
     ]
    },
    {
     "name": "stderr",
     "output_type": "stream",
     "text": [
      "\r",
      " 59%|█████▉    | 407/690 [30:40<16:53,  3.58s/it]"
     ]
    },
    {
     "name": "stdout",
     "output_type": "stream",
     "text": [
      "ra: 13 matched\n",
      "dec: 23 matched\n",
      "parallax: 3 matched\n",
      "pmra: 316 matched\n",
      "pmdec: 715 matched\n",
      "RV: 521 matched\n",
      "matched 5 params in COIN-Gaia_2:\n",
      "['ra' 'dec' 'pmra' 'pmdec' 'RV']\n",
      "Target: TOI 1532.01\n",
      "Querying Gaia DR2 catalog for ra,dec=(4.73625 57.2006) within 3.0 arcsec.\n"
     ]
    },
    {
     "name": "stderr",
     "output_type": "stream",
     "text": [
      "\r",
      " 59%|█████▉    | 408/690 [30:45<18:15,  3.89s/it]"
     ]
    },
    {
     "name": "stdout",
     "output_type": "stream",
     "text": [
      "ra: 8 matched\n",
      "dec: 31 matched\n",
      "parallax: 21 matched\n",
      "pmra: 2 matched\n",
      "pmdec: 185 matched\n",
      "RV: 544 matched\n",
      "matched 4 params in ASCC_123:\n",
      "['dec' 'parallax' 'pmra' 'RV']\n",
      "Target not likely a cluster member\n",
      "cannot unpack non-iterable NoneType object\n",
      "Target: TOI 1533.01\n",
      "Querying Gaia DR2 catalog for ra,dec=(355.247 57.4852) within 3.0 arcsec.\n"
     ]
    },
    {
     "name": "stderr",
     "output_type": "stream",
     "text": [
      "\r",
      " 59%|█████▉    | 409/690 [30:49<19:12,  4.10s/it]"
     ]
    },
    {
     "name": "stdout",
     "output_type": "stream",
     "text": [
      "ra: 6 matched\n",
      "dec: 35 matched\n",
      "parallax: 2 matched\n",
      "pmra: 3 matched\n",
      "pmdec: 0 matched\n",
      "RV: 507 matched\n",
      "matched 3 params in Melotte_20:\n",
      "['dec' 'pmra' 'RV']\n",
      "Target not likely a cluster member\n",
      "cannot unpack non-iterable NoneType object\n",
      "Target: TOI 1534.01\n",
      "Querying Gaia DR2 catalog for ra,dec=(6.07467 57.8817) within 3.0 arcsec.\n"
     ]
    },
    {
     "name": "stderr",
     "output_type": "stream",
     "text": [
      "\r",
      " 59%|█████▉    | 410/690 [30:54<19:38,  4.21s/it]"
     ]
    },
    {
     "name": "stdout",
     "output_type": "stream",
     "text": [
      "ra: 16 matched\n",
      "dec: 38 matched\n",
      "parallax: 10 matched\n",
      "pmra: 70 matched\n",
      "pmdec: 12 matched\n",
      "RV: 516 matched\n",
      "matched 3 params in Alessi_9:\n",
      "['parallax' 'pmdec' 'RV']\n",
      "Target not likely a cluster member\n",
      "cannot unpack non-iterable NoneType object\n",
      "Target: TOI 1536.01\n",
      "Querying Gaia DR2 catalog for ra,dec=(11.3024 56.0701) within 3.0 arcsec.\n"
     ]
    },
    {
     "name": "stderr",
     "output_type": "stream",
     "text": [
      "\r",
      " 60%|█████▉    | 411/690 [30:58<19:51,  4.27s/it]"
     ]
    },
    {
     "name": "stdout",
     "output_type": "stream",
     "text": [
      "ra: 11 matched\n",
      "dec: 25 matched\n",
      "parallax: 360 matched\n",
      "pmra: 490 matched\n",
      "pmdec: 597 matched\n",
      "RV: 0 matched\n",
      "matched 4 params in Alessi_2:\n",
      "['dec' 'parallax' 'pmra' 'pmdec']\n",
      "Target not likely a cluster member\n",
      "cannot unpack non-iterable NoneType object\n",
      "Target: TOI 1537.01\n",
      "Querying Gaia DR2 catalog for ra,dec=(348.581 44.5088) within 3.0 arcsec.\n"
     ]
    },
    {
     "name": "stderr",
     "output_type": "stream",
     "text": [
      "\r",
      " 60%|█████▉    | 412/690 [31:03<19:57,  4.31s/it]"
     ]
    },
    {
     "name": "stdout",
     "output_type": "stream",
     "text": [
      "ra: 13 matched\n",
      "dec: 33 matched\n",
      "parallax: 10 matched\n",
      "pmra: 6 matched\n",
      "pmdec: 5 matched\n",
      "RV: 533 matched\n",
      "matched 4 params in Melotte_20:\n",
      "['dec' 'parallax' 'pmdec' 'RV']\n",
      "Target not likely a cluster member\n",
      "cannot unpack non-iterable NoneType object\n",
      "Target: TOI 1538.01\n",
      "Querying Gaia DR2 catalog for ra,dec=(356.996 47.6556) within 3.0 arcsec.\n"
     ]
    },
    {
     "name": "stderr",
     "output_type": "stream",
     "text": [
      "\r",
      " 60%|█████▉    | 413/690 [31:07<20:12,  4.38s/it]"
     ]
    },
    {
     "name": "stdout",
     "output_type": "stream",
     "text": [
      "ra: 11 matched\n",
      "dec: 24 matched\n",
      "parallax: 9 matched\n",
      "pmra: 30 matched\n",
      "pmdec: 7 matched\n",
      "RV: 524 matched\n",
      "matched 4 params in Melotte_20:\n",
      "['dec' 'parallax' 'pmdec' 'RV']\n",
      "Target not likely a cluster member\n",
      "cannot unpack non-iterable NoneType object\n",
      "Target: TOI 1539.01\n",
      "Querying Gaia DR2 catalog for ra,dec=(346.518 52.787) within 3.0 arcsec.\n"
     ]
    },
    {
     "name": "stderr",
     "output_type": "stream",
     "text": [
      "\r",
      " 60%|██████    | 414/690 [31:12<20:04,  4.36s/it]"
     ]
    },
    {
     "name": "stdout",
     "output_type": "stream",
     "text": [
      "ra: 14 matched\n",
      "dec: 30 matched\n",
      "parallax: 152 matched\n",
      "pmra: 6 matched\n",
      "pmdec: 8 matched\n",
      "RV: 497 matched\n",
      "matched 4 params in UPK_167:\n",
      "['ra' 'dec' 'parallax' 'RV']\n",
      "Target: TOI 1541.01\n",
      "Querying Gaia DR2 catalog for ra,dec=(350.109 55.5241) within 3.0 arcsec.\n"
     ]
    },
    {
     "name": "stderr",
     "output_type": "stream",
     "text": [
      "\r",
      " 60%|██████    | 415/690 [31:16<20:18,  4.43s/it]"
     ]
    },
    {
     "name": "stdout",
     "output_type": "stream",
     "text": [
      "ra: 13 matched\n",
      "dec: 32 matched\n",
      "parallax: 1152 matched\n",
      "pmra: 96 matched\n",
      "pmdec: 753 matched\n",
      "RV: 0 matched\n",
      "matched 4 params in King_6:\n",
      "['dec' 'parallax' 'pmra' 'pmdec']\n",
      "Target not likely a cluster member\n",
      "cannot unpack non-iterable NoneType object\n",
      "Target: TOI 1542.01\n",
      "Querying Gaia DR2 catalog for ra,dec=(348.875 46.576) within 3.0 arcsec.\n"
     ]
    },
    {
     "name": "stderr",
     "output_type": "stream",
     "text": [
      "\r",
      " 60%|██████    | 416/690 [31:20<20:11,  4.42s/it]"
     ]
    },
    {
     "name": "stdout",
     "output_type": "stream",
     "text": [
      "ra: 13 matched\n",
      "dec: 34 matched\n",
      "parallax: 9 matched\n",
      "pmra: 13 matched\n",
      "pmdec: 16 matched\n",
      "RV: 422 matched\n",
      "matched 3 params in IC_2602:\n",
      "['parallax' 'pmra' 'pmdec']\n",
      "Target not likely a cluster member\n",
      "cannot unpack non-iterable NoneType object\n",
      "Target: TOI 1543.01\n",
      "Querying Gaia DR2 catalog for ra,dec=(357.674 50.355) within 3.0 arcsec.\n"
     ]
    },
    {
     "name": "stderr",
     "output_type": "stream",
     "text": [
      "\r",
      " 60%|██████    | 417/690 [31:25<20:19,  4.47s/it]"
     ]
    },
    {
     "name": "stdout",
     "output_type": "stream",
     "text": [
      "ra: 10 matched\n",
      "dec: 26 matched\n",
      "parallax: 214 matched\n",
      "pmra: 86 matched\n",
      "pmdec: 174 matched\n",
      "RV: 0 matched\n",
      "matched 3 params in Alessi_1:\n",
      "['dec' 'parallax' 'pmdec']\n",
      "Target not likely a cluster member\n",
      "cannot unpack non-iterable NoneType object\n",
      "Target: TOI 1544.01\n",
      "Querying Gaia DR2 catalog for ra,dec=(346.347 46.9031) within 3.0 arcsec.\n"
     ]
    },
    {
     "name": "stderr",
     "output_type": "stream",
     "text": [
      "\r",
      " 61%|██████    | 418/690 [31:29<20:11,  4.45s/it]"
     ]
    },
    {
     "name": "stdout",
     "output_type": "stream",
     "text": [
      "ra: 16 matched\n",
      "dec: 33 matched\n",
      "parallax: 522 matched\n",
      "pmra: 381 matched\n",
      "pmdec: 140 matched\n",
      "RV: 542 matched\n",
      "matched 4 params in ASCC_79:\n",
      "['parallax' 'pmra' 'pmdec' 'RV']\n",
      "Target not likely a cluster member\n",
      "cannot unpack non-iterable NoneType object\n",
      "Target: TOI 1546.01\n",
      "Querying Gaia DR2 catalog for ra,dec=(1.19683 41.5939) within 3.0 arcsec.\n"
     ]
    },
    {
     "name": "stderr",
     "output_type": "stream",
     "text": [
      "\r",
      " 61%|██████    | 419/690 [31:34<20:06,  4.45s/it]"
     ]
    },
    {
     "name": "stdout",
     "output_type": "stream",
     "text": [
      "ra: 4 matched\n",
      "dec: 25 matched\n",
      "parallax: 13 matched\n",
      "pmra: 6 matched\n",
      "pmdec: 2 matched\n",
      "RV: 0 matched\n",
      "matched 3 params in Melotte_20:\n",
      "['dec' 'parallax' 'pmdec']\n",
      "Target not likely a cluster member\n",
      "cannot unpack non-iterable NoneType object\n",
      "Target: TOI 1548.01\n",
      "Querying Gaia DR2 catalog for ra,dec=(4.3585 42.2822) within 3.0 arcsec.\n"
     ]
    },
    {
     "name": "stderr",
     "output_type": "stream",
     "text": [
      "\r",
      " 61%|██████    | 420/690 [31:38<20:10,  4.48s/it]"
     ]
    },
    {
     "name": "stdout",
     "output_type": "stream",
     "text": [
      "ra: 8 matched\n",
      "dec: 24 matched\n",
      "parallax: 2 matched\n",
      "pmra: 0 matched\n",
      "pmdec: 2 matched\n",
      "RV: 503 matched\n",
      "matched 3 params in Melotte_20:\n",
      "['dec' 'pmdec' 'RV']\n",
      "Target not likely a cluster member\n",
      "cannot unpack non-iterable NoneType object\n",
      "Target: TOI 1551.01\n",
      "Querying Gaia DR2 catalog for ra,dec=(19.7004 41.5061) within 3.0 arcsec.\n"
     ]
    },
    {
     "name": "stderr",
     "output_type": "stream",
     "text": [
      "\r",
      " 61%|██████    | 421/690 [31:43<20:04,  4.48s/it]"
     ]
    },
    {
     "name": "stdout",
     "output_type": "stream",
     "text": [
      "ra: 10 matched\n",
      "dec: 24 matched\n",
      "parallax: 37 matched\n",
      "pmra: 25 matched\n",
      "pmdec: 5 matched\n",
      "RV: 455 matched\n",
      "matched 3 params in UPK_612:\n",
      "['parallax' 'pmra' 'pmdec']\n",
      "Target not likely a cluster member\n",
      "cannot unpack non-iterable NoneType object\n",
      "Target: TOI 1552.01\n",
      "Querying Gaia DR2 catalog for ra,dec=(22.973 46.3998) within 3.0 arcsec.\n"
     ]
    },
    {
     "name": "stderr",
     "output_type": "stream",
     "text": [
      "\r",
      " 61%|██████    | 422/690 [31:48<20:16,  4.54s/it]"
     ]
    },
    {
     "name": "stdout",
     "output_type": "stream",
     "text": [
      "ra: 8 matched\n",
      "dec: 34 matched\n",
      "parallax: 157 matched\n",
      "pmra: 236 matched\n",
      "pmdec: 313 matched\n",
      "RV: 0 matched\n",
      "matched 4 params in UBC_2:\n",
      "['dec' 'parallax' 'pmra' 'pmdec']\n",
      "Target not likely a cluster member\n",
      "cannot unpack non-iterable NoneType object\n",
      "Target: TOI 1554.01\n",
      "Querying Gaia DR2 catalog for ra,dec=(289.226 49.5483) within 3.0 arcsec.\n"
     ]
    },
    {
     "name": "stderr",
     "output_type": "stream",
     "text": [
      "\r",
      " 61%|██████▏   | 423/690 [31:52<20:23,  4.58s/it]"
     ]
    },
    {
     "name": "stdout",
     "output_type": "stream",
     "text": [
      "ra: 10 matched\n",
      "dec: 20 matched\n",
      "parallax: 10 matched\n",
      "pmra: 2 matched\n",
      "pmdec: 2 matched\n",
      "RV: 512 matched\n",
      "matched 3 params in Melotte_20:\n",
      "['dec' 'parallax' 'RV']\n",
      "Target not likely a cluster member\n",
      "cannot unpack non-iterable NoneType object\n",
      "Target: TOI 1557.01\n",
      "Querying Gaia DR2 catalog for ra,dec=(8.16358 54.6546) within 3.0 arcsec.\n",
      "There are 2 gaia sources within 3.0 arcsec.\n"
     ]
    },
    {
     "name": "stderr",
     "output_type": "stream",
     "text": [
      "\r",
      " 61%|██████▏   | 424/690 [31:57<20:18,  4.58s/it]"
     ]
    },
    {
     "name": "stdout",
     "output_type": "stream",
     "text": [
      "ra: 14 matched\n",
      "dec: 20 matched\n",
      "parallax: 29 matched\n",
      "pmra: 5 matched\n",
      "pmdec: 572 matched\n",
      "RV: 524 matched\n",
      "matched 4 params in ASCC_123:\n",
      "['dec' 'parallax' 'pmdec' 'RV']\n",
      "Target not likely a cluster member\n",
      "cannot unpack non-iterable NoneType object\n",
      "Target: TOI 1558.01\n",
      "Querying Gaia DR2 catalog for ra,dec=(48.3522 49.7838) within 3.0 arcsec.\n",
      "Target parallax (-0.5345520560283344 mas) is omitted!\n"
     ]
    },
    {
     "name": "stderr",
     "output_type": "stream",
     "text": [
      "\r",
      " 62%|██████▏   | 425/690 [32:01<20:13,  4.58s/it]"
     ]
    },
    {
     "name": "stdout",
     "output_type": "stream",
     "text": [
      "ra: 12 matched\n",
      "dec: 21 matched\n",
      "parallax: 0 matched\n",
      "pmra: 377 matched\n",
      "pmdec: 411 matched\n",
      "RV: 0 matched\n",
      "matched 3 params in King_5:\n",
      "['ra' 'pmra' 'pmdec']\n",
      "Target not likely a cluster member\n",
      "cannot unpack non-iterable NoneType object\n",
      "Target: TOI 1559.01\n",
      "Querying Gaia DR2 catalog for ra,dec=(20.7174 48.9554) within 3.0 arcsec.\n"
     ]
    },
    {
     "name": "stderr",
     "output_type": "stream",
     "text": [
      "\r",
      " 62%|██████▏   | 426/690 [32:06<19:56,  4.53s/it]"
     ]
    },
    {
     "name": "stdout",
     "output_type": "stream",
     "text": [
      "ra: 7 matched\n",
      "dec: 19 matched\n",
      "parallax: 281 matched\n",
      "pmra: 45 matched\n",
      "pmdec: 143 matched\n",
      "RV: 0 matched\n",
      "matched 4 params in UPK_296:\n",
      "['dec' 'parallax' 'pmra' 'pmdec']\n",
      "Target not likely a cluster member\n",
      "cannot unpack non-iterable NoneType object\n",
      "Target: TOI 1560.01\n",
      "Querying Gaia DR2 catalog for ra,dec=(29.0329 52.5855) within 3.0 arcsec.\n",
      "There are 2 gaia sources within 3.0 arcsec.\n"
     ]
    },
    {
     "name": "stderr",
     "output_type": "stream",
     "text": [
      "\r",
      " 62%|██████▏   | 427/690 [32:11<20:00,  4.56s/it]"
     ]
    },
    {
     "name": "stdout",
     "output_type": "stream",
     "text": [
      "ra: 16 matched\n",
      "dec: 31 matched\n",
      "parallax: 196 matched\n",
      "pmra: 62 matched\n",
      "pmdec: 278 matched\n",
      "RV: 0 matched\n",
      "matched 4 params in UPK_296:\n",
      "['dec' 'parallax' 'pmra' 'pmdec']\n",
      "Target not likely a cluster member\n",
      "cannot unpack non-iterable NoneType object\n",
      "Target: TOI 1561.01\n",
      "Querying Gaia DR2 catalog for ra,dec=(38.8217 55.7032) within 3.0 arcsec.\n"
     ]
    },
    {
     "name": "stderr",
     "output_type": "stream",
     "text": [
      "\r",
      " 62%|██████▏   | 428/690 [32:15<19:52,  4.55s/it]"
     ]
    },
    {
     "name": "stdout",
     "output_type": "stream",
     "text": [
      "ra: 16 matched\n",
      "dec: 23 matched\n",
      "parallax: 173 matched\n",
      "pmra: 18 matched\n",
      "pmdec: 56 matched\n",
      "RV: 574 matched\n",
      "matched 4 params in COIN-Gaia_37:\n",
      "['ra' 'dec' 'parallax' 'RV']\n",
      "Target: TOI 1562.01\n",
      "Querying Gaia DR2 catalog for ra,dec=(38.123 52.7041) within 3.0 arcsec.\n"
     ]
    },
    {
     "name": "stderr",
     "output_type": "stream",
     "text": [
      "\r",
      " 62%|██████▏   | 429/690 [32:20<19:50,  4.56s/it]"
     ]
    },
    {
     "name": "stdout",
     "output_type": "stream",
     "text": [
      "ra: 17 matched\n",
      "dec: 31 matched\n",
      "parallax: 10 matched\n",
      "pmra: 0 matched\n",
      "pmdec: 1 matched\n",
      "RV: 525 matched\n",
      "matched 4 params in Melotte_20:\n",
      "['ra' 'dec' 'parallax' 'RV']\n",
      "Target: TOI 1563.01\n",
      "Querying Gaia DR2 catalog for ra,dec=(38.8102 48.2738) within 3.0 arcsec.\n"
     ]
    },
    {
     "name": "stderr",
     "output_type": "stream",
     "text": [
      "\r",
      " 62%|██████▏   | 430/690 [32:24<19:44,  4.55s/it]"
     ]
    },
    {
     "name": "stdout",
     "output_type": "stream",
     "text": [
      "ra: 16 matched\n",
      "dec: 20 matched\n",
      "parallax: 0 matched\n",
      "pmra: 0 matched\n",
      "pmdec: 0 matched\n",
      "RV: 526 matched\n",
      "matched 3 params in Melotte_20:\n",
      "['ra' 'dec' 'RV']\n",
      "Target not likely a cluster member\n",
      "cannot unpack non-iterable NoneType object\n",
      "Target: TOI 1565.01\n",
      "Querying Gaia DR2 catalog for ra,dec=(44.7202 58.7352) within 3.0 arcsec.\n",
      "Target parallax (nan mas) is omitted!\n"
     ]
    },
    {
     "name": "stderr",
     "output_type": "stream",
     "text": [
      "\r",
      " 62%|██████▏   | 431/690 [32:29<19:37,  4.55s/it]"
     ]
    },
    {
     "name": "stdout",
     "output_type": "stream",
     "text": [
      "ra: 18 matched\n",
      "dec: 73 matched\n",
      "parallax: 0 matched\n",
      "pmra: 0 matched\n",
      "pmdec: 0 matched\n",
      "RV: 0 matched\n",
      "matched 2 params in ASCC_9:\n",
      "['ra' 'dec']\n",
      "Target not likely a cluster member\n",
      "cannot unpack non-iterable NoneType object\n",
      "Target: TOI 1567.01\n",
      "Querying Gaia DR2 catalog for ra,dec=(50.3459 52.6921) within 3.0 arcsec.\n"
     ]
    },
    {
     "name": "stderr",
     "output_type": "stream",
     "text": [
      "\r",
      " 63%|██████▎   | 432/690 [32:33<19:34,  4.55s/it]"
     ]
    },
    {
     "name": "stdout",
     "output_type": "stream",
     "text": [
      "ra: 15 matched\n",
      "dec: 31 matched\n",
      "parallax: 0 matched\n",
      "pmra: 0 matched\n",
      "pmdec: 0 matched\n",
      "RV: 568 matched\n",
      "matched 3 params in Czernik_15:\n",
      "['ra' 'dec' 'RV']\n",
      "Target not likely a cluster member\n",
      "cannot unpack non-iterable NoneType object\n",
      "Target: TOI 1568.01\n",
      "Querying Gaia DR2 catalog for ra,dec=(8.98987 65.026) within 3.0 arcsec.\n"
     ]
    },
    {
     "name": "stderr",
     "output_type": "stream",
     "text": [
      "\r",
      " 63%|██████▎   | 433/690 [32:38<19:26,  4.54s/it]"
     ]
    },
    {
     "name": "stdout",
     "output_type": "stream",
     "text": [
      "ra: 8 matched\n",
      "dec: 17 matched\n",
      "parallax: 2 matched\n",
      "pmra: 0 matched\n",
      "pmdec: 1 matched\n",
      "RV: 412 matched\n",
      "matched 3 params in COIN-Gaia_1:\n",
      "['ra' 'dec' 'RV']\n",
      "Target not likely a cluster member\n",
      "cannot unpack non-iterable NoneType object\n",
      "Target: TOI 1570.01\n",
      "Querying Gaia DR2 catalog for ra,dec=(53.1963 51.8845) within 3.0 arcsec.\n"
     ]
    },
    {
     "name": "stderr",
     "output_type": "stream",
     "text": [
      "\r",
      " 63%|██████▎   | 434/690 [32:42<19:08,  4.48s/it]"
     ]
    },
    {
     "name": "stdout",
     "output_type": "stream",
     "text": [
      "ra: 16 matched\n",
      "dec: 27 matched\n",
      "parallax: 30 matched\n",
      "pmra: 283 matched\n",
      "pmdec: 5 matched\n",
      "RV: 0 matched\n",
      "matched 2 params in ASCC_11:\n",
      "['ra' 'pmra']\n",
      "Target not likely a cluster member\n",
      "cannot unpack non-iterable NoneType object\n",
      "Target: TOI 1573.01\n",
      "Querying Gaia DR2 catalog for ra,dec=(42.4366 71.7531) within 3.0 arcsec.\n"
     ]
    },
    {
     "name": "stderr",
     "output_type": "stream",
     "text": [
      "\r",
      " 63%|██████▎   | 435/690 [32:47<18:57,  4.46s/it]"
     ]
    },
    {
     "name": "stdout",
     "output_type": "stream",
     "text": [
      "ra: 14 matched\n",
      "dec: 5 matched\n",
      "parallax: 0 matched\n",
      "pmra: 0 matched\n",
      "pmdec: 1 matched\n",
      "RV: 528 matched\n",
      "matched 3 params in Melotte_20:\n",
      "['ra' 'pmdec' 'RV']\n",
      "Target not likely a cluster member\n",
      "cannot unpack non-iterable NoneType object\n",
      "Target: TOI 1576.01\n",
      "Querying Gaia DR2 catalog for ra,dec=(23.4669 45.0103) within 3.0 arcsec.\n"
     ]
    },
    {
     "name": "stderr",
     "output_type": "stream",
     "text": [
      "\r",
      " 63%|██████▎   | 436/690 [32:51<18:49,  4.45s/it]"
     ]
    },
    {
     "name": "stdout",
     "output_type": "stream",
     "text": [
      "ra: 7 matched\n",
      "dec: 34 matched\n",
      "parallax: 130 matched\n",
      "pmra: 5 matched\n",
      "pmdec: 283 matched\n",
      "RV: 524 matched\n",
      "matched 4 params in UPK_167:\n",
      "['dec' 'parallax' 'pmdec' 'RV']\n",
      "Target not likely a cluster member\n",
      "cannot unpack non-iterable NoneType object\n",
      "Target: TOI 1577.01\n",
      "Querying Gaia DR2 catalog for ra,dec=(19.2786 57.5142) within 3.0 arcsec.\n"
     ]
    },
    {
     "name": "stderr",
     "output_type": "stream",
     "text": [
      "\r",
      " 63%|██████▎   | 437/690 [32:56<18:53,  4.48s/it]"
     ]
    },
    {
     "name": "stdout",
     "output_type": "stream",
     "text": [
      "ra: 13 matched\n",
      "dec: 35 matched\n",
      "parallax: 6 matched\n",
      "pmra: 0 matched\n",
      "pmdec: 4 matched\n",
      "RV: 533 matched\n",
      "matched 3 params in Melotte_20:\n",
      "['dec' 'pmdec' 'RV']\n",
      "Target not likely a cluster member\n",
      "cannot unpack non-iterable NoneType object\n",
      "Target: TOI 1578.01\n",
      "Querying Gaia DR2 catalog for ra,dec=(34.377 56.4215) within 3.0 arcsec.\n"
     ]
    },
    {
     "name": "stderr",
     "output_type": "stream",
     "text": [
      "\r",
      " 63%|██████▎   | 438/690 [33:00<18:52,  4.49s/it]"
     ]
    },
    {
     "name": "stdout",
     "output_type": "stream",
     "text": [
      "ra: 14 matched\n",
      "dec: 24 matched\n",
      "parallax: 58 matched\n",
      "pmra: 118 matched\n",
      "pmdec: 195 matched\n",
      "RV: 543 matched\n",
      "matched 4 params in NGC_6475:\n",
      "['parallax' 'pmra' 'pmdec' 'RV']\n",
      "Target not likely a cluster member\n",
      "cannot unpack non-iterable NoneType object\n",
      "Target: TOI 1580.01\n",
      "Querying Gaia DR2 catalog for ra,dec=(28.2826 52.0539) within 3.0 arcsec.\n"
     ]
    },
    {
     "name": "stderr",
     "output_type": "stream",
     "text": [
      "\r",
      " 64%|██████▎   | 439/690 [33:05<18:49,  4.50s/it]"
     ]
    },
    {
     "name": "stdout",
     "output_type": "stream",
     "text": [
      "ra: 17 matched\n",
      "dec: 26 matched\n",
      "parallax: 11 matched\n",
      "pmra: 1 matched\n",
      "pmdec: 48 matched\n",
      "RV: 535 matched\n",
      "matched 3 params in ASCC_123:\n",
      "['dec' 'parallax' 'RV']\n",
      "Target not likely a cluster member\n",
      "cannot unpack non-iterable NoneType object\n",
      "Target: TOI 1581.01\n",
      "Querying Gaia DR2 catalog for ra,dec=(28.1635 55.186) within 3.0 arcsec.\n"
     ]
    },
    {
     "name": "stderr",
     "output_type": "stream",
     "text": [
      "\r",
      " 64%|██████▍   | 440/690 [33:09<18:50,  4.52s/it]"
     ]
    },
    {
     "name": "stdout",
     "output_type": "stream",
     "text": [
      "ra: 17 matched\n",
      "dec: 20 matched\n",
      "parallax: 2 matched\n",
      "pmra: 0 matched\n",
      "pmdec: 5 matched\n",
      "RV: 468 matched\n",
      "matched 2 params in Alessi_2:\n",
      "['dec' 'RV']\n",
      "Target not likely a cluster member\n",
      "cannot unpack non-iterable NoneType object\n",
      "Target: TOI 1583.01\n",
      "Querying Gaia DR2 catalog for ra,dec=(4.24933 58.6793) within 3.0 arcsec.\n"
     ]
    },
    {
     "name": "stderr",
     "output_type": "stream",
     "text": [
      "\r",
      " 64%|██████▍   | 441/690 [33:14<18:45,  4.52s/it]"
     ]
    },
    {
     "name": "stdout",
     "output_type": "stream",
     "text": [
      "ra: 8 matched\n",
      "dec: 34 matched\n",
      "parallax: 341 matched\n",
      "pmra: 346 matched\n",
      "pmdec: 490 matched\n",
      "RV: 0 matched\n",
      "matched 4 params in IC_1396:\n",
      "['dec' 'parallax' 'pmra' 'pmdec']\n",
      "Target not likely a cluster member\n",
      "cannot unpack non-iterable NoneType object\n",
      "Target: TOI 1584.01\n",
      "Querying Gaia DR2 catalog for ra,dec=(6.51942 63.3194) within 3.0 arcsec.\n",
      "There are 2 gaia sources within 3.0 arcsec.\n"
     ]
    },
    {
     "name": "stderr",
     "output_type": "stream",
     "text": [
      "\r",
      " 64%|██████▍   | 442/690 [33:18<18:43,  4.53s/it]"
     ]
    },
    {
     "name": "stdout",
     "output_type": "stream",
     "text": [
      "ra: 17 matched\n",
      "dec: 30 matched\n",
      "parallax: 112 matched\n",
      "pmra: 14 matched\n",
      "pmdec: 456 matched\n",
      "RV: 0 matched\n",
      "matched 3 params in BH_99:\n",
      "['parallax' 'pmra' 'pmdec']\n",
      "Target not likely a cluster member\n",
      "cannot unpack non-iterable NoneType object\n",
      "Target: TOI 1585.01\n",
      "Querying Gaia DR2 catalog for ra,dec=(6.30892 62.5431) within 3.0 arcsec.\n"
     ]
    },
    {
     "name": "stderr",
     "output_type": "stream",
     "text": [
      "\r",
      " 64%|██████▍   | 443/690 [33:23<18:42,  4.55s/it]"
     ]
    },
    {
     "name": "stdout",
     "output_type": "stream",
     "text": [
      "ra: 16 matched\n",
      "dec: 33 matched\n",
      "parallax: 251 matched\n",
      "pmra: 364 matched\n",
      "pmdec: 397 matched\n",
      "RV: 0 matched\n",
      "matched 4 params in Alessi_Teutsch_5:\n",
      "['dec' 'parallax' 'pmra' 'pmdec']\n",
      "Target not likely a cluster member\n",
      "cannot unpack non-iterable NoneType object\n",
      "Target: TOI 1586.01\n",
      "Querying Gaia DR2 catalog for ra,dec=(11.2342 58.7121) within 3.0 arcsec.\n"
     ]
    },
    {
     "name": "stderr",
     "output_type": "stream",
     "text": [
      "\r",
      " 64%|██████▍   | 444/690 [33:27<18:33,  4.53s/it]"
     ]
    },
    {
     "name": "stdout",
     "output_type": "stream",
     "text": [
      "ra: 11 matched\n",
      "dec: 36 matched\n",
      "parallax: 317 matched\n",
      "pmra: 260 matched\n",
      "pmdec: 268 matched\n",
      "RV: 374 matched\n",
      "matched 4 params in ASCC_88:\n",
      "['parallax' 'pmra' 'pmdec' 'RV']\n",
      "Target not likely a cluster member\n",
      "cannot unpack non-iterable NoneType object\n",
      "Target: TOI 1587.01\n",
      "Querying Gaia DR2 catalog for ra,dec=(48.4234 61.9078) within 3.0 arcsec.\n"
     ]
    },
    {
     "name": "stderr",
     "output_type": "stream",
     "text": [
      "\r",
      " 64%|██████▍   | 445/690 [33:32<18:26,  4.52s/it]"
     ]
    },
    {
     "name": "stdout",
     "output_type": "stream",
     "text": [
      "ra: 12 matched\n",
      "dec: 35 matched\n",
      "parallax: 183 matched\n",
      "pmra: 2 matched\n",
      "pmdec: 10 matched\n",
      "RV: 0 matched\n",
      "matched 3 params in Stock_2:\n",
      "['dec' 'pmra' 'pmdec']\n",
      "Target not likely a cluster member\n",
      "cannot unpack non-iterable NoneType object\n",
      "Target: TOI 1588.01\n",
      "Querying Gaia DR2 catalog for ra,dec=(39.8911 62.4333) within 3.0 arcsec.\n"
     ]
    },
    {
     "name": "stderr",
     "output_type": "stream",
     "text": [
      "\r",
      " 65%|██████▍   | 446/690 [33:36<18:23,  4.52s/it]"
     ]
    },
    {
     "name": "stdout",
     "output_type": "stream",
     "text": [
      "ra: 15 matched\n",
      "dec: 29 matched\n",
      "parallax: 290 matched\n",
      "pmra: 470 matched\n",
      "pmdec: 559 matched\n",
      "RV: 0 matched\n",
      "matched 4 params in NGC_7160:\n",
      "['dec' 'parallax' 'pmra' 'pmdec']\n",
      "Target not likely a cluster member\n",
      "cannot unpack non-iterable NoneType object\n",
      "Target: TOI 1591.01\n",
      "Querying Gaia DR2 catalog for ra,dec=(48.7532 60.2382) within 3.0 arcsec.\n"
     ]
    },
    {
     "name": "stderr",
     "output_type": "stream",
     "text": [
      "\r",
      " 65%|██████▍   | 447/690 [33:41<18:06,  4.47s/it]"
     ]
    },
    {
     "name": "stdout",
     "output_type": "stream",
     "text": [
      "ra: 13 matched\n",
      "dec: 38 matched\n",
      "parallax: 30 matched\n",
      "pmra: 1 matched\n",
      "pmdec: 38 matched\n",
      "RV: 0 matched\n",
      "matched 3 params in Melotte_20:\n",
      "['ra' 'dec' 'pmra']\n",
      "Target not likely a cluster member\n",
      "cannot unpack non-iterable NoneType object\n",
      "Target: TOI 1592.01\n",
      "Querying Gaia DR2 catalog for ra,dec=(45.0885 39.0683) within 3.0 arcsec.\n"
     ]
    },
    {
     "name": "stderr",
     "output_type": "stream",
     "text": [
      "\r",
      " 65%|██████▍   | 448/690 [33:45<17:54,  4.44s/it]"
     ]
    },
    {
     "name": "stdout",
     "output_type": "stream",
     "text": [
      "ra: 13 matched\n",
      "dec: 25 matched\n",
      "parallax: 11 matched\n",
      "pmra: 0 matched\n",
      "pmdec: 0 matched\n",
      "RV: 479 matched\n",
      "matched 4 params in Melotte_20:\n",
      "['ra' 'dec' 'parallax' 'RV']\n",
      "Target: TOI 1593.01\n",
      "Querying Gaia DR2 catalog for ra,dec=(45.5984 43.1838) within 3.0 arcsec.\n"
     ]
    },
    {
     "name": "stderr",
     "output_type": "stream",
     "text": [
      "\r",
      " 65%|██████▌   | 449/690 [33:49<17:44,  4.42s/it]"
     ]
    },
    {
     "name": "stdout",
     "output_type": "stream",
     "text": [
      "ra: 15 matched\n",
      "dec: 27 matched\n",
      "parallax: 175 matched\n",
      "pmra: 6 matched\n",
      "pmdec: 12 matched\n",
      "RV: 0 matched\n",
      "matched 3 params in UPK_305:\n",
      "['ra' 'dec' 'parallax']\n",
      "Target not likely a cluster member\n",
      "cannot unpack non-iterable NoneType object\n",
      "Target: TOI 1594.01\n",
      "Querying Gaia DR2 catalog for ra,dec=(56.1433 41.0643) within 3.0 arcsec.\n"
     ]
    },
    {
     "name": "stderr",
     "output_type": "stream",
     "text": [
      "\r",
      " 65%|██████▌   | 450/690 [33:54<17:53,  4.47s/it]"
     ]
    },
    {
     "name": "stdout",
     "output_type": "stream",
     "text": [
      "ra: 14 matched\n",
      "dec: 20 matched\n",
      "parallax: 344 matched\n",
      "pmra: 156 matched\n",
      "pmdec: 276 matched\n",
      "RV: 0 matched\n",
      "matched 4 params in COIN-Gaia_10:\n",
      "['dec' 'parallax' 'pmra' 'pmdec']\n",
      "Target not likely a cluster member\n",
      "cannot unpack non-iterable NoneType object\n",
      "Target: TOI 1595.01\n",
      "Querying Gaia DR2 catalog for ra,dec=(50.8081 46.6821) within 3.0 arcsec.\n"
     ]
    },
    {
     "name": "stderr",
     "output_type": "stream",
     "text": [
      "\r",
      " 65%|██████▌   | 451/690 [33:58<17:46,  4.46s/it]"
     ]
    },
    {
     "name": "stdout",
     "output_type": "stream",
     "text": [
      "ra: 15 matched\n",
      "dec: 34 matched\n",
      "parallax: 30 matched\n",
      "pmra: 3 matched\n",
      "pmdec: 5 matched\n",
      "RV: 625 matched\n",
      "matched 4 params in Melotte_20:\n",
      "['ra' 'dec' 'pmra' 'RV']\n",
      "Target: TOI 1596.01\n",
      "Querying Gaia DR2 catalog for ra,dec=(56.2225 45.5072) within 3.0 arcsec.\n"
     ]
    },
    {
     "name": "stderr",
     "output_type": "stream",
     "text": [
      "\r",
      " 66%|██████▌   | 452/690 [34:03<17:41,  4.46s/it]"
     ]
    },
    {
     "name": "stdout",
     "output_type": "stream",
     "text": [
      "ra: 14 matched\n",
      "dec: 36 matched\n",
      "parallax: 288 matched\n",
      "pmra: 579 matched\n",
      "pmdec: 504 matched\n",
      "RV: 0 matched\n",
      "matched 3 params in ASCC_10:\n",
      "['parallax' 'pmra' 'pmdec']\n",
      "Target not likely a cluster member\n",
      "cannot unpack non-iterable NoneType object\n",
      "Target: TOI 1598.01\n",
      "Querying Gaia DR2 catalog for ra,dec=(28.6603 37.005) within 3.0 arcsec.\n"
     ]
    },
    {
     "name": "stderr",
     "output_type": "stream",
     "text": [
      "\r",
      " 66%|██████▌   | 453/690 [34:07<17:38,  4.47s/it]"
     ]
    },
    {
     "name": "stdout",
     "output_type": "stream",
     "text": [
      "ra: 17 matched\n",
      "dec: 31 matched\n",
      "parallax: 6 matched\n",
      "pmra: 8 matched\n",
      "pmdec: 7 matched\n",
      "RV: 539 matched\n",
      "matched 3 params in IC_2602:\n",
      "['parallax' 'pmra' 'RV']\n",
      "Target not likely a cluster member\n",
      "cannot unpack non-iterable NoneType object\n",
      "Target: TOI 1599.01\n",
      "Querying Gaia DR2 catalog for ra,dec=(36.7127 37.5504) within 3.0 arcsec.\n"
     ]
    },
    {
     "name": "stderr",
     "output_type": "stream",
     "text": [
      "\r",
      " 66%|██████▌   | 454/690 [34:12<17:34,  4.47s/it]"
     ]
    },
    {
     "name": "stdout",
     "output_type": "stream",
     "text": [
      "ra: 15 matched\n",
      "dec: 32 matched\n",
      "parallax: 2 matched\n",
      "pmra: 581 matched\n",
      "pmdec: 33 matched\n",
      "RV: 0 matched\n",
      "matched 2 params in ASCC_10:\n",
      "['dec' 'pmra']\n",
      "Target not likely a cluster member\n",
      "cannot unpack non-iterable NoneType object\n",
      "Target: TOI 1601.01\n",
      "Querying Gaia DR2 catalog for ra,dec=(38.3616 41.0134) within 3.0 arcsec.\n"
     ]
    },
    {
     "name": "stderr",
     "output_type": "stream",
     "text": [
      "\r",
      " 66%|██████▌   | 455/690 [34:16<17:25,  4.45s/it]"
     ]
    },
    {
     "name": "stdout",
     "output_type": "stream",
     "text": [
      "ra: 19 matched\n",
      "dec: 21 matched\n",
      "parallax: 55 matched\n",
      "pmra: 2 matched\n",
      "pmdec: 541 matched\n",
      "RV: 519 matched\n",
      "matched 4 params in Melotte_20:\n",
      "['ra' 'dec' 'pmra' 'RV']\n",
      "Target: TOI 1602.01\n",
      "Querying Gaia DR2 catalog for ra,dec=(37.1324 40.8913) within 3.0 arcsec.\n"
     ]
    },
    {
     "name": "stderr",
     "output_type": "stream",
     "text": [
      "\r",
      " 66%|██████▌   | 456/690 [34:21<17:19,  4.44s/it]"
     ]
    },
    {
     "name": "stdout",
     "output_type": "stream",
     "text": [
      "ra: 16 matched\n",
      "dec: 21 matched\n",
      "parallax: 12 matched\n",
      "pmra: 5 matched\n",
      "pmdec: 5 matched\n",
      "RV: 547 matched\n",
      "matched 6 params in Melotte_20:\n",
      "['ra' 'dec' 'parallax' 'pmra' 'pmdec' 'RV']\n",
      "Target: TOI 1603.01\n",
      "Querying Gaia DR2 catalog for ra,dec=(38.3081 30.3605) within 3.0 arcsec.\n"
     ]
    },
    {
     "name": "stderr",
     "output_type": "stream",
     "text": [
      "\r",
      " 66%|██████▌   | 457/690 [34:25<17:20,  4.46s/it]"
     ]
    },
    {
     "name": "stdout",
     "output_type": "stream",
     "text": [
      "ra: 18 matched\n",
      "dec: 17 matched\n",
      "parallax: 30 matched\n",
      "pmra: 11 matched\n",
      "pmdec: 14 matched\n",
      "RV: 538 matched\n",
      "matched 3 params in Alessi_9:\n",
      "['parallax' 'pmdec' 'RV']\n",
      "Target not likely a cluster member\n",
      "cannot unpack non-iterable NoneType object\n",
      "Target: TOI 1604.01\n",
      "Querying Gaia DR2 catalog for ra,dec=(34.1959 29.5705) within 3.0 arcsec.\n"
     ]
    },
    {
     "name": "stderr",
     "output_type": "stream",
     "text": [
      "\r",
      " 66%|██████▋   | 458/690 [34:30<17:20,  4.49s/it]"
     ]
    },
    {
     "name": "stdout",
     "output_type": "stream",
     "text": [
      "ra: 13 matched\n",
      "dec: 20 matched\n",
      "parallax: 68 matched\n",
      "pmra: 19 matched\n",
      "pmdec: 192 matched\n",
      "RV: 0 matched\n",
      "matched 3 params in IC_348:\n",
      "['parallax' 'pmra' 'pmdec']\n",
      "Target not likely a cluster member\n",
      "cannot unpack non-iterable NoneType object\n",
      "Target: TOI 1605.01\n",
      "Querying Gaia DR2 catalog for ra,dec=(54.4809 33.0799) within 3.0 arcsec.\n"
     ]
    },
    {
     "name": "stderr",
     "output_type": "stream",
     "text": [
      "\r",
      " 67%|██████▋   | 459/690 [34:34<17:16,  4.49s/it]"
     ]
    },
    {
     "name": "stdout",
     "output_type": "stream",
     "text": [
      "ra: 14 matched\n",
      "dec: 18 matched\n",
      "parallax: 9 matched\n",
      "pmra: 1 matched\n",
      "pmdec: 13 matched\n",
      "RV: 514 matched\n",
      "matched 3 params in ASCC_10:\n",
      "['ra' 'dec' 'RV']\n",
      "Target not likely a cluster member\n",
      "cannot unpack non-iterable NoneType object\n",
      "Target: TOI 1609.01\n",
      "Querying Gaia DR2 catalog for ra,dec=(288.675 60.6709) within 3.0 arcsec.\n"
     ]
    },
    {
     "name": "stderr",
     "output_type": "stream",
     "text": [
      "\r",
      " 67%|██████▋   | 460/690 [34:39<17:10,  4.48s/it]"
     ]
    },
    {
     "name": "stdout",
     "output_type": "stream",
     "text": [
      "ra: 11 matched\n",
      "dec: 37 matched\n",
      "parallax: 10 matched\n",
      "pmra: 519 matched\n",
      "pmdec: 7 matched\n",
      "RV: 534 matched\n",
      "matched 4 params in Melotte_20:\n",
      "['dec' 'parallax' 'pmdec' 'RV']\n",
      "Target not likely a cluster member\n",
      "cannot unpack non-iterable NoneType object\n",
      "Target: TOI 1610.01\n",
      "Querying Gaia DR2 catalog for ra,dec=(263.543 61.1215) within 3.0 arcsec.\n"
     ]
    },
    {
     "name": "stderr",
     "output_type": "stream",
     "text": [
      "\r",
      " 67%|██████▋   | 461/690 [34:43<17:10,  4.50s/it]"
     ]
    },
    {
     "name": "stdout",
     "output_type": "stream",
     "text": [
      "ra: 16 matched\n",
      "dec: 41 matched\n",
      "parallax: 10 matched\n",
      "pmra: 50 matched\n",
      "pmdec: 0 matched\n",
      "RV: 505 matched\n",
      "matched 3 params in Alessi_9:\n",
      "['ra' 'parallax' 'RV']\n",
      "Target not likely a cluster member\n",
      "cannot unpack non-iterable NoneType object\n",
      "Target: TOI 1611.01\n",
      "Querying Gaia DR2 catalog for ra,dec=(325.202 84.3338) within 3.0 arcsec.\n"
     ]
    },
    {
     "name": "stderr",
     "output_type": "stream",
     "text": [
      "\r",
      " 67%|██████▋   | 462/690 [34:48<17:08,  4.51s/it]"
     ]
    },
    {
     "name": "stdout",
     "output_type": "stream",
     "text": [
      "ra: 10 matched\n",
      "dec: 0 matched\n",
      "parallax: 0 matched\n",
      "pmra: 0 matched\n",
      "pmdec: 0 matched\n",
      "RV: 520 matched\n",
      "matched 2 params in IC_1396:\n",
      "['ra' 'RV']\n",
      "Target not likely a cluster member\n",
      "cannot unpack non-iterable NoneType object\n",
      "Target: TOI 1612.01\n",
      "Querying Gaia DR2 catalog for ra,dec=(277.478 85.2333) within 3.0 arcsec.\n"
     ]
    },
    {
     "name": "stderr",
     "output_type": "stream",
     "text": [
      "\r",
      " 67%|██████▋   | 463/690 [34:52<17:02,  4.50s/it]"
     ]
    },
    {
     "name": "stdout",
     "output_type": "stream",
     "text": [
      "ra: 17 matched\n",
      "dec: 1 matched\n",
      "parallax: 10 matched\n",
      "pmra: 8 matched\n",
      "pmdec: 2 matched\n",
      "RV: 522 matched\n",
      "matched 3 params in Alessi_9:\n",
      "['ra' 'parallax' 'RV']\n",
      "Target not likely a cluster member\n",
      "cannot unpack non-iterable NoneType object\n",
      "Target: TOI 1613.01\n",
      "Querying Gaia DR2 catalog for ra,dec=(356.319 62.1427) within 3.0 arcsec.\n"
     ]
    },
    {
     "name": "stderr",
     "output_type": "stream",
     "text": [
      "\r",
      " 67%|██████▋   | 464/690 [34:57<17:04,  4.53s/it]"
     ]
    },
    {
     "name": "stdout",
     "output_type": "stream",
     "text": [
      "ra: 10 matched\n",
      "dec: 37 matched\n",
      "parallax: 31 matched\n",
      "pmra: 3 matched\n",
      "pmdec: 311 matched\n",
      "RV: 0 matched\n",
      "matched 2 params in ASCC_16:\n",
      "['parallax' 'pmdec']\n",
      "Target not likely a cluster member\n",
      "cannot unpack non-iterable NoneType object\n",
      "Target: TOI 1614.01\n",
      "Querying Gaia DR2 catalog for ra,dec=(349.796 75.0179) within 3.0 arcsec.\n"
     ]
    },
    {
     "name": "stderr",
     "output_type": "stream",
     "text": [
      "\r",
      " 67%|██████▋   | 465/690 [35:01<17:02,  4.54s/it]"
     ]
    },
    {
     "name": "stdout",
     "output_type": "stream",
     "text": [
      "ra: 12 matched\n",
      "dec: 1 matched\n",
      "parallax: 83 matched\n",
      "pmra: 237 matched\n",
      "pmdec: 7 matched\n",
      "RV: 404 matched\n",
      "matched 3 params in Collinder_350:\n",
      "['parallax' 'pmra' 'RV']\n",
      "Target not likely a cluster member\n",
      "cannot unpack non-iterable NoneType object\n",
      "Target: TOI 1616.01\n",
      "Querying Gaia DR2 catalog for ra,dec=(323.87 68.9873) within 3.0 arcsec.\n"
     ]
    },
    {
     "name": "stderr",
     "output_type": "stream",
     "text": [
      "\r",
      " 68%|██████▊   | 466/690 [35:06<16:55,  4.53s/it]"
     ]
    },
    {
     "name": "stdout",
     "output_type": "stream",
     "text": [
      "ra: 13 matched\n",
      "dec: 4 matched\n",
      "parallax: 31 matched\n",
      "pmra: 538 matched\n",
      "pmdec: 7 matched\n",
      "RV: 0 matched\n",
      "matched 3 params in UPK_624:\n",
      "['parallax' 'pmra' 'pmdec']\n",
      "Target not likely a cluster member\n",
      "cannot unpack non-iterable NoneType object\n",
      "Target: TOI 1617.01\n",
      "Querying Gaia DR2 catalog for ra,dec=(325.325 68.8072) within 3.0 arcsec.\n"
     ]
    },
    {
     "name": "stderr",
     "output_type": "stream",
     "text": [
      "\r",
      " 68%|██████▊   | 467/690 [35:10<16:44,  4.50s/it]"
     ]
    },
    {
     "name": "stdout",
     "output_type": "stream",
     "text": [
      "ra: 10 matched\n",
      "dec: 7 matched\n",
      "parallax: 2 matched\n",
      "pmra: 0 matched\n",
      "pmdec: 1 matched\n",
      "RV: 533 matched\n",
      "matched 2 params in COIN-Gaia_1:\n",
      "['dec' 'RV']\n",
      "Target not likely a cluster member\n",
      "cannot unpack non-iterable NoneType object\n",
      "Target: TOI 1618.01\n",
      "Querying Gaia DR2 catalog for ra,dec=(340.91 69.0919) within 3.0 arcsec.\n"
     ]
    },
    {
     "name": "stderr",
     "output_type": "stream",
     "text": [
      "\r",
      " 68%|██████▊   | 468/690 [35:15<16:44,  4.52s/it]"
     ]
    },
    {
     "name": "stdout",
     "output_type": "stream",
     "text": [
      "ra: 12 matched\n",
      "dec: 3 matched\n",
      "parallax: 101 matched\n",
      "pmra: 2 matched\n",
      "pmdec: 279 matched\n",
      "RV: 0 matched\n",
      "matched 2 params in ASCC_101:\n",
      "['parallax' 'pmdec']\n",
      "Target not likely a cluster member\n",
      "cannot unpack non-iterable NoneType object\n",
      "Target: TOI 1619.01\n",
      "Querying Gaia DR2 catalog for ra,dec=(342.444 68.2511) within 3.0 arcsec.\n"
     ]
    },
    {
     "name": "stderr",
     "output_type": "stream",
     "text": [
      "\r",
      " 68%|██████▊   | 469/690 [35:19<16:31,  4.49s/it]"
     ]
    },
    {
     "name": "stdout",
     "output_type": "stream",
     "text": [
      "ra: 15 matched\n",
      "dec: 7 matched\n",
      "parallax: 72 matched\n",
      "pmra: 0 matched\n",
      "pmdec: 249 matched\n",
      "RV: 524 matched\n",
      "matched 3 params in Collinder_140:\n",
      "['parallax' 'pmdec' 'RV']\n",
      "Target not likely a cluster member\n",
      "cannot unpack non-iterable NoneType object\n",
      "Target: TOI 1620.01\n",
      "Querying Gaia DR2 catalog for ra,dec=(358.214 61.3603) within 3.0 arcsec.\n"
     ]
    },
    {
     "name": "stderr",
     "output_type": "stream",
     "text": [
      "\r",
      " 68%|██████▊   | 470/690 [35:24<16:30,  4.50s/it]"
     ]
    },
    {
     "name": "stdout",
     "output_type": "stream",
     "text": [
      "ra: 6 matched\n",
      "dec: 42 matched\n",
      "parallax: 11 matched\n",
      "pmra: 2 matched\n",
      "pmdec: 5 matched\n",
      "RV: 526 matched\n",
      "matched 3 params in ASCC_123:\n",
      "['parallax' 'pmra' 'RV']\n",
      "Target not likely a cluster member\n",
      "cannot unpack non-iterable NoneType object\n",
      "Target: TOI 1621.01\n",
      "Querying Gaia DR2 catalog for ra,dec=(309.349 70.9541) within 3.0 arcsec.\n"
     ]
    },
    {
     "name": "stderr",
     "output_type": "stream",
     "text": [
      "\r",
      " 68%|██████▊   | 471/690 [35:28<16:26,  4.50s/it]"
     ]
    },
    {
     "name": "stdout",
     "output_type": "stream",
     "text": [
      "ra: 9 matched\n",
      "dec: 4 matched\n",
      "parallax: 9 matched\n",
      "pmra: 6 matched\n",
      "pmdec: 5 matched\n",
      "RV: 536 matched\n",
      "matched 4 params in Platais_3:\n",
      "['dec' 'parallax' 'pmdec' 'RV']\n",
      "Target not likely a cluster member\n",
      "cannot unpack non-iterable NoneType object\n",
      "Target: TOI 1624.01\n",
      "Querying Gaia DR2 catalog for ra,dec=(3.02179 66.6505) within 3.0 arcsec.\n"
     ]
    },
    {
     "name": "stderr",
     "output_type": "stream",
     "text": [
      "\r",
      " 68%|██████▊   | 472/690 [35:33<16:26,  4.53s/it]"
     ]
    },
    {
     "name": "stdout",
     "output_type": "stream",
     "text": [
      "ra: 7 matched\n",
      "dec: 11 matched\n",
      "parallax: 10 matched\n",
      "pmra: 5 matched\n",
      "pmdec: 36 matched\n",
      "RV: 0 matched\n",
      "matched 2 params in Alessi_9:\n",
      "['parallax' 'pmdec']\n",
      "Target not likely a cluster member\n",
      "cannot unpack non-iterable NoneType object\n",
      "Target: TOI 1625.01\n",
      "Querying Gaia DR2 catalog for ra,dec=(359.741 61.5541) within 3.0 arcsec.\n"
     ]
    },
    {
     "name": "stderr",
     "output_type": "stream",
     "text": [
      "\r",
      " 69%|██████▊   | 473/690 [35:37<16:20,  4.52s/it]"
     ]
    },
    {
     "name": "stdout",
     "output_type": "stream",
     "text": [
      "ra: 4 matched\n",
      "dec: 40 matched\n",
      "parallax: 23 matched\n",
      "pmra: 1 matched\n",
      "pmdec: 7 matched\n",
      "RV: 560 matched\n",
      "matched 3 params in FSR_0451:\n",
      "['ra' 'dec' 'RV']\n",
      "Target not likely a cluster member\n",
      "cannot unpack non-iterable NoneType object\n",
      "Target: TOI 1626.01\n",
      "Querying Gaia DR2 catalog for ra,dec=(279.262 40.0187) within 3.0 arcsec.\n",
      "There are 2 gaia sources within 3.0 arcsec.\n"
     ]
    },
    {
     "name": "stderr",
     "output_type": "stream",
     "text": [
      "\r",
      " 69%|██████▊   | 474/690 [35:42<16:18,  4.53s/it]"
     ]
    },
    {
     "name": "stdout",
     "output_type": "stream",
     "text": [
      "ra: 16 matched\n",
      "dec: 21 matched\n",
      "parallax: 210 matched\n",
      "pmra: 12 matched\n",
      "pmdec: 368 matched\n",
      "RV: 507 matched\n",
      "matched 4 params in ASCC_111:\n",
      "['dec' 'parallax' 'pmdec' 'RV']\n",
      "Target not likely a cluster member\n",
      "cannot unpack non-iterable NoneType object\n",
      "Target: TOI 1627.01\n",
      "Querying Gaia DR2 catalog for ra,dec=(274.701 45.1722) within 3.0 arcsec.\n"
     ]
    },
    {
     "name": "stderr",
     "output_type": "stream",
     "text": [
      "\r",
      " 69%|██████▉   | 475/690 [35:47<16:13,  4.53s/it]"
     ]
    },
    {
     "name": "stdout",
     "output_type": "stream",
     "text": [
      "ra: 16 matched\n",
      "dec: 31 matched\n",
      "parallax: 29 matched\n",
      "pmra: 1 matched\n",
      "pmdec: 0 matched\n",
      "RV: 495 matched\n",
      "matched 3 params in Alessi_9:\n",
      "['ra' 'parallax' 'RV']\n",
      "Target not likely a cluster member\n",
      "cannot unpack non-iterable NoneType object\n",
      "Target: TOI 1628.01\n",
      "Querying Gaia DR2 catalog for ra,dec=(291.162 55.473) within 3.0 arcsec.\n"
     ]
    },
    {
     "name": "stderr",
     "output_type": "stream",
     "text": [
      "\r",
      " 69%|██████▉   | 476/690 [35:51<16:05,  4.51s/it]"
     ]
    },
    {
     "name": "stdout",
     "output_type": "stream",
     "text": [
      "ra: 12 matched\n",
      "dec: 23 matched\n",
      "parallax: 100 matched\n",
      "pmra: 17 matched\n",
      "pmdec: 2 matched\n",
      "RV: 515 matched\n",
      "matched 4 params in RSG_7:\n",
      "['dec' 'parallax' 'pmra' 'RV']\n",
      "Target not likely a cluster member\n",
      "cannot unpack non-iterable NoneType object\n",
      "Target: TOI 1629.01\n",
      "Querying Gaia DR2 catalog for ra,dec=(224.873 46.9601) within 3.0 arcsec.\n",
      "There are 2 gaia sources within 3.0 arcsec.\n"
     ]
    },
    {
     "name": "stderr",
     "output_type": "stream",
     "text": [
      "\r",
      " 69%|██████▉   | 477/690 [35:55<15:52,  4.47s/it]"
     ]
    },
    {
     "name": "stdout",
     "output_type": "stream",
     "text": [
      "ra: 10 matched\n",
      "dec: 30 matched\n",
      "parallax: 85 matched\n",
      "pmra: 18 matched\n",
      "pmdec: 52 matched\n",
      "RV: 523 matched\n",
      "matched 4 params in UPK_296:\n",
      "['dec' 'parallax' 'pmdec' 'RV']\n",
      "Target not likely a cluster member\n",
      "cannot unpack non-iterable NoneType object\n",
      "Target: TOI 1630.01\n",
      "Querying Gaia DR2 catalog for ra,dec=(352.017 75.5526) within 3.0 arcsec.\n"
     ]
    },
    {
     "name": "stderr",
     "output_type": "stream",
     "text": [
      "\r",
      " 69%|██████▉   | 478/690 [36:00<15:51,  4.49s/it]"
     ]
    },
    {
     "name": "stdout",
     "output_type": "stream",
     "text": [
      "ra: 12 matched\n",
      "dec: 2 matched\n",
      "parallax: 0 matched\n",
      "pmra: 252 matched\n",
      "pmdec: 0 matched\n",
      "RV: 518 matched\n",
      "matched 2 params in Alessi_21:\n",
      "['pmra' 'RV']\n",
      "Target not likely a cluster member\n",
      "cannot unpack non-iterable NoneType object\n",
      "Target: TOI 1631.01\n",
      "Querying Gaia DR2 catalog for ra,dec=(50.9165 25.0479) within 3.0 arcsec.\n"
     ]
    },
    {
     "name": "stderr",
     "output_type": "stream",
     "text": [
      "\r",
      " 69%|██████▉   | 479/690 [36:04<15:51,  4.51s/it]"
     ]
    },
    {
     "name": "stdout",
     "output_type": "stream",
     "text": [
      "ra: 15 matched\n",
      "dec: 19 matched\n",
      "parallax: 6 matched\n",
      "pmra: 3 matched\n",
      "pmdec: 1 matched\n",
      "RV: 532 matched\n",
      "matched 4 params in Melotte_20:\n",
      "['ra' 'pmra' 'pmdec' 'RV']\n",
      "Target not likely a cluster member\n",
      "cannot unpack non-iterable NoneType object\n",
      "Target: TOI 1632.01\n",
      "Querying Gaia DR2 catalog for ra,dec=(42.1552 62.1893) within 3.0 arcsec.\n",
      "There are 2 gaia sources within 3.0 arcsec.\n"
     ]
    },
    {
     "name": "stderr",
     "output_type": "stream",
     "text": [
      "\r",
      " 70%|██████▉   | 480/690 [36:09<15:41,  4.48s/it]"
     ]
    },
    {
     "name": "stdout",
     "output_type": "stream",
     "text": [
      "ra: 15 matched\n",
      "dec: 38 matched\n",
      "parallax: 0 matched\n",
      "pmra: 0 matched\n",
      "pmdec: 0 matched\n",
      "RV: 0 matched\n",
      "matched 2 params in Melotte_20:\n",
      "['ra' 'dec']\n",
      "Target not likely a cluster member\n",
      "cannot unpack non-iterable NoneType object\n",
      "Target: TOI 1633.01\n",
      "Querying Gaia DR2 catalog for ra,dec=(266.767 57.2267) within 3.0 arcsec.\n"
     ]
    },
    {
     "name": "stderr",
     "output_type": "stream",
     "text": [
      "\r",
      " 70%|██████▉   | 481/690 [36:13<15:34,  4.47s/it]"
     ]
    },
    {
     "name": "stdout",
     "output_type": "stream",
     "text": [
      "ra: 16 matched\n",
      "dec: 31 matched\n",
      "parallax: 0 matched\n",
      "pmra: 0 matched\n",
      "pmdec: 0 matched\n",
      "RV: 0 matched\n",
      "matched 2 params in NGC_7789:\n",
      "['ra' 'dec']\n",
      "Target not likely a cluster member\n",
      "cannot unpack non-iterable NoneType object\n",
      "Target: TOI 1634.01\n",
      "Querying Gaia DR2 catalog for ra,dec=(56.3906 37.1123) within 3.0 arcsec.\n",
      "There are 2 gaia sources within 3.0 arcsec.\n"
     ]
    },
    {
     "name": "stderr",
     "output_type": "stream",
     "text": [
      "\r",
      " 70%|██████▉   | 482/690 [36:18<15:29,  4.47s/it]"
     ]
    },
    {
     "name": "stdout",
     "output_type": "stream",
     "text": [
      "ra: 12 matched\n",
      "dec: 29 matched\n",
      "parallax: 0 matched\n",
      "pmra: 0 matched\n",
      "pmdec: 7 matched\n",
      "RV: 0 matched\n",
      "matched 2 params in Melotte_20:\n",
      "['ra' 'dec']\n",
      "Target not likely a cluster member\n",
      "cannot unpack non-iterable NoneType object\n",
      "Target: TOI 1636.01\n",
      "Querying Gaia DR2 catalog for ra,dec=(44.293 33.3127) within 3.0 arcsec.\n"
     ]
    },
    {
     "name": "stderr",
     "output_type": "stream",
     "text": [
      "\r",
      " 70%|███████   | 483/690 [36:22<15:28,  4.49s/it]"
     ]
    },
    {
     "name": "stdout",
     "output_type": "stream",
     "text": [
      "ra: 14 matched\n",
      "dec: 21 matched\n",
      "parallax: 9 matched\n",
      "pmra: 2 matched\n",
      "pmdec: 72 matched\n",
      "RV: 504 matched\n",
      "matched 4 params in Melotte_20:\n",
      "['ra' 'parallax' 'pmra' 'RV']\n",
      "Target not likely a cluster member\n",
      "cannot unpack non-iterable NoneType object\n",
      "Target: TOI 1638.01\n",
      "Querying Gaia DR2 catalog for ra,dec=(15.3215 55.698) within 3.0 arcsec.\n"
     ]
    },
    {
     "name": "stderr",
     "output_type": "stream",
     "text": [
      "\r",
      " 70%|███████   | 484/690 [36:27<15:35,  4.54s/it]"
     ]
    },
    {
     "name": "stdout",
     "output_type": "stream",
     "text": [
      "ra: 9 matched\n",
      "dec: 23 matched\n",
      "parallax: 2 matched\n",
      "pmra: 4 matched\n",
      "pmdec: 5 matched\n",
      "RV: 547 matched\n",
      "matched 3 params in COIN-Gaia_2:\n",
      "['ra' 'dec' 'RV']\n",
      "Target not likely a cluster member\n",
      "cannot unpack non-iterable NoneType object\n",
      "Target: TOI 1639.01\n",
      "Querying Gaia DR2 catalog for ra,dec=(35.8073 56.57) within 3.0 arcsec.\n",
      "There are 2 gaia sources within 3.0 arcsec.\n"
     ]
    },
    {
     "name": "stderr",
     "output_type": "stream",
     "text": [
      "\r",
      " 70%|███████   | 485/690 [36:31<15:20,  4.49s/it]"
     ]
    },
    {
     "name": "stdout",
     "output_type": "stream",
     "text": [
      "ra: 12 matched\n",
      "dec: 26 matched\n",
      "parallax: 9 matched\n",
      "pmra: 3 matched\n",
      "pmdec: 0 matched\n",
      "RV: 0 matched\n",
      "matched 4 params in Melotte_20:\n",
      "['ra' 'dec' 'parallax' 'pmra']\n",
      "Target: TOI 1640.01\n",
      "Querying Gaia DR2 catalog for ra,dec=(44.3389 76.5514) within 3.0 arcsec.\n"
     ]
    },
    {
     "name": "stderr",
     "output_type": "stream",
     "text": [
      "\r",
      " 70%|███████   | 486/690 [36:36<15:18,  4.50s/it]"
     ]
    },
    {
     "name": "stdout",
     "output_type": "stream",
     "text": [
      "ra: 13 matched\n",
      "dec: 1 matched\n",
      "parallax: 0 matched\n",
      "pmra: 0 matched\n",
      "pmdec: 0 matched\n",
      "RV: 0 matched\n",
      "matched 1 params in ASCC_9:\n",
      "['ra']\n",
      "Target not likely a cluster member\n",
      "cannot unpack non-iterable NoneType object\n",
      "Target: TOI 1641.01\n",
      "Querying Gaia DR2 catalog for ra,dec=(40.2456 42.8712) within 3.0 arcsec.\n"
     ]
    },
    {
     "name": "stderr",
     "output_type": "stream",
     "text": [
      "\r",
      " 71%|███████   | 487/690 [36:40<15:19,  4.53s/it]"
     ]
    },
    {
     "name": "stdout",
     "output_type": "stream",
     "text": [
      "ra: 15 matched\n",
      "dec: 30 matched\n",
      "parallax: 383 matched\n",
      "pmra: 171 matched\n",
      "pmdec: 146 matched\n",
      "RV: 0 matched\n",
      "matched 4 params in NGC_1039:\n",
      "['ra' 'dec' 'parallax' 'pmdec']\n",
      "Target: TOI 1642.01\n",
      "Querying Gaia DR2 catalog for ra,dec=(288.049 63.6571) within 3.0 arcsec.\n"
     ]
    },
    {
     "name": "stderr",
     "output_type": "stream",
     "text": [
      "\r",
      " 71%|███████   | 488/690 [36:45<15:02,  4.47s/it]"
     ]
    },
    {
     "name": "stdout",
     "output_type": "stream",
     "text": [
      "ra: 9 matched\n",
      "dec: 26 matched\n",
      "parallax: 53 matched\n",
      "pmra: 18 matched\n",
      "pmdec: 2 matched\n",
      "RV: 517 matched\n",
      "matched 4 params in ASCC_127:\n",
      "['dec' 'parallax' 'pmra' 'RV']\n",
      "Target not likely a cluster member\n",
      "cannot unpack non-iterable NoneType object\n",
      "Target: TOI 1643.01\n",
      "Querying Gaia DR2 catalog for ra,dec=(272.264 53.2177) within 3.0 arcsec.\n",
      "There are 2 gaia sources within 3.0 arcsec.\n"
     ]
    },
    {
     "name": "stderr",
     "output_type": "stream",
     "text": [
      "\r",
      " 71%|███████   | 489/690 [36:50<15:47,  4.72s/it]"
     ]
    },
    {
     "name": "stdout",
     "output_type": "stream",
     "text": [
      "ra: 12 matched\n",
      "dec: 21 matched\n",
      "parallax: 0 matched\n",
      "pmra: 0 matched\n",
      "pmdec: 2 matched\n",
      "RV: 505 matched\n",
      "matched 2 params in ASCC_123:\n",
      "['dec' 'RV']\n",
      "Target not likely a cluster member\n",
      "cannot unpack non-iterable NoneType object\n",
      "Target: TOI 1648.01\n",
      "Querying Gaia DR2 catalog for ra,dec=(45.4012 69.2299) within 3.0 arcsec.\n"
     ]
    },
    {
     "name": "stderr",
     "output_type": "stream",
     "text": [
      "\r",
      " 71%|███████   | 490/690 [36:55<15:28,  4.64s/it]"
     ]
    },
    {
     "name": "stdout",
     "output_type": "stream",
     "text": [
      "ra: 13 matched\n",
      "dec: 3 matched\n",
      "parallax: 0 matched\n",
      "pmra: 3 matched\n",
      "pmdec: 81 matched\n",
      "RV: 477 matched\n",
      "matched 3 params in Melotte_20:\n",
      "['ra' 'pmra' 'RV']\n",
      "Target not likely a cluster member\n",
      "cannot unpack non-iterable NoneType object\n",
      "Target: TOI 1651.01\n",
      "Querying Gaia DR2 catalog for ra,dec=(94.793 73.8276) within 3.0 arcsec.\n"
     ]
    },
    {
     "name": "stderr",
     "output_type": "stream",
     "text": [
      "\r",
      " 71%|███████   | 491/690 [36:59<15:05,  4.55s/it]"
     ]
    },
    {
     "name": "stdout",
     "output_type": "stream",
     "text": [
      "ra: 14 matched\n",
      "dec: 2 matched\n",
      "parallax: 10 matched\n",
      "pmra: 7 matched\n",
      "pmdec: 6 matched\n",
      "RV: 545 matched\n",
      "matched 2 params in ASCC_123:\n",
      "['parallax' 'RV']\n",
      "Target not likely a cluster member\n",
      "cannot unpack non-iterable NoneType object\n",
      "Target: TOI 1652.01\n",
      "Querying Gaia DR2 catalog for ra,dec=(188.355 84.679) within 3.0 arcsec.\n"
     ]
    },
    {
     "name": "stderr",
     "output_type": "stream",
     "text": [
      "\r",
      " 71%|███████▏  | 492/690 [37:03<14:58,  4.54s/it]"
     ]
    },
    {
     "name": "stdout",
     "output_type": "stream",
     "text": [
      "ra: 9 matched\n",
      "dec: 1 matched\n",
      "parallax: 2 matched\n",
      "pmra: 0 matched\n",
      "pmdec: 1 matched\n",
      "RV: 422 matched\n",
      "matched 2 params in ASCC_71:\n",
      "['ra' 'RV']\n",
      "Target not likely a cluster member\n",
      "cannot unpack non-iterable NoneType object\n",
      "Target: TOI 1653.01\n",
      "Querying Gaia DR2 catalog for ra,dec=(72.0318 39.9669) within 3.0 arcsec.\n"
     ]
    },
    {
     "name": "stderr",
     "output_type": "stream",
     "text": [
      "\r",
      " 71%|███████▏  | 493/690 [37:08<14:52,  4.53s/it]"
     ]
    },
    {
     "name": "stdout",
     "output_type": "stream",
     "text": [
      "ra: 14 matched\n",
      "dec: 32 matched\n",
      "parallax: 1253 matched\n",
      "pmra: 337 matched\n",
      "pmdec: 44 matched\n",
      "RV: 0 matched\n",
      "matched 3 params in ASCC_12:\n",
      "['ra' 'dec' 'parallax']\n",
      "Target not likely a cluster member\n",
      "cannot unpack non-iterable NoneType object\n",
      "Target: TOI 1654.01\n",
      "Querying Gaia DR2 catalog for ra,dec=(287.666 66.7681) within 3.0 arcsec.\n"
     ]
    },
    {
     "name": "stderr",
     "output_type": "stream",
     "text": [
      "\r",
      " 72%|███████▏  | 494/690 [37:12<14:38,  4.48s/it]"
     ]
    },
    {
     "name": "stdout",
     "output_type": "stream",
     "text": [
      "ra: 13 matched\n",
      "dec: 12 matched\n",
      "parallax: 39 matched\n",
      "pmra: 18 matched\n",
      "pmdec: 7 matched\n",
      "RV: 0 matched\n",
      "matched 3 params in Platais_3:\n",
      "['dec' 'pmra' 'pmdec']\n",
      "Target not likely a cluster member\n",
      "cannot unpack non-iterable NoneType object\n",
      "Target: TOI 1655.01\n",
      "Querying Gaia DR2 catalog for ra,dec=(61.1722 52.257) within 3.0 arcsec.\n"
     ]
    },
    {
     "name": "stderr",
     "output_type": "stream",
     "text": [
      "\r",
      " 72%|███████▏  | 495/690 [37:17<14:38,  4.50s/it]"
     ]
    },
    {
     "name": "stdout",
     "output_type": "stream",
     "text": [
      "ra: 12 matched\n",
      "dec: 24 matched\n",
      "parallax: 10 matched\n",
      "pmra: 14 matched\n",
      "pmdec: 5 matched\n",
      "RV: 521 matched\n",
      "matched 4 params in Melotte_20:\n",
      "['ra' 'dec' 'parallax' 'RV']\n",
      "Target: TOI 1658.01\n",
      "Querying Gaia DR2 catalog for ra,dec=(65.8762 35.4951) within 3.0 arcsec.\n"
     ]
    },
    {
     "name": "stderr",
     "output_type": "stream",
     "text": [
      "\r",
      " 72%|███████▏  | 496/690 [37:21<14:37,  4.52s/it]"
     ]
    },
    {
     "name": "stdout",
     "output_type": "stream",
     "text": [
      "ra: 13 matched\n",
      "dec: 30 matched\n",
      "parallax: 139 matched\n",
      "pmra: 547 matched\n",
      "pmdec: 8 matched\n",
      "RV: 0 matched\n",
      "matched 3 params in ASCC_10:\n",
      "['dec' 'parallax' 'pmra']\n",
      "Target not likely a cluster member\n",
      "cannot unpack non-iterable NoneType object\n",
      "Target: TOI 1659.01\n",
      "Querying Gaia DR2 catalog for ra,dec=(277.925 82.3059) within 3.0 arcsec.\n"
     ]
    },
    {
     "name": "stderr",
     "output_type": "stream",
     "text": [
      "\r",
      " 72%|███████▏  | 497/690 [37:26<14:28,  4.50s/it]"
     ]
    },
    {
     "name": "stdout",
     "output_type": "stream",
     "text": [
      "ra: 19 matched\n",
      "dec: 0 matched\n",
      "parallax: 2 matched\n",
      "pmra: 19 matched\n",
      "pmdec: 0 matched\n",
      "RV: 533 matched\n",
      "matched 3 params in Alessi_9:\n",
      "['ra' 'pmra' 'RV']\n",
      "Target not likely a cluster member\n",
      "cannot unpack non-iterable NoneType object\n",
      "Target: TOI 1661.01\n",
      "Querying Gaia DR2 catalog for ra,dec=(88.476 30.446) within 3.0 arcsec.\n"
     ]
    },
    {
     "name": "stderr",
     "output_type": "stream",
     "text": [
      "\r",
      " 72%|███████▏  | 498/690 [37:30<14:26,  4.51s/it]"
     ]
    },
    {
     "name": "stdout",
     "output_type": "stream",
     "text": [
      "ra: 15 matched\n",
      "dec: 17 matched\n",
      "parallax: 687 matched\n",
      "pmra: 320 matched\n",
      "pmdec: 358 matched\n",
      "RV: 0 matched\n",
      "matched 4 params in Koposov_43:\n",
      "['ra' 'dec' 'parallax' 'pmra']\n",
      "Target: TOI 1662.01\n",
      "Querying Gaia DR2 catalog for ra,dec=(93.3189 63.685) within 3.0 arcsec.\n"
     ]
    },
    {
     "name": "stderr",
     "output_type": "stream",
     "text": [
      "\r",
      " 72%|███████▏  | 499/690 [37:35<14:27,  4.54s/it]"
     ]
    },
    {
     "name": "stdout",
     "output_type": "stream",
     "text": [
      "ra: 24 matched\n",
      "dec: 44 matched\n",
      "parallax: 19 matched\n",
      "pmra: 437 matched\n",
      "pmdec: 403 matched\n",
      "RV: 0 matched\n",
      "matched 3 params in COIN-Gaia_29:\n",
      "['dec' 'pmra' 'pmdec']\n",
      "Target not likely a cluster member\n",
      "cannot unpack non-iterable NoneType object\n",
      "Target: TOI 1663.01\n",
      "Querying Gaia DR2 catalog for ra,dec=(89.9348 33.507) within 3.0 arcsec.\n"
     ]
    },
    {
     "name": "stderr",
     "output_type": "stream",
     "text": [
      "\r",
      " 72%|███████▏  | 500/690 [37:40<14:20,  4.53s/it]"
     ]
    },
    {
     "name": "stdout",
     "output_type": "stream",
     "text": [
      "ra: 11 matched\n",
      "dec: 25 matched\n",
      "parallax: 80 matched\n",
      "pmra: 529 matched\n",
      "pmdec: 130 matched\n",
      "RV: 0 matched\n",
      "matched 3 params in COIN-Gaia_19:\n",
      "['dec' 'pmra' 'pmdec']\n",
      "Target not likely a cluster member\n",
      "cannot unpack non-iterable NoneType object\n",
      "Target: TOI 1664.01\n",
      "Querying Gaia DR2 catalog for ra,dec=(276.938 55.7558) within 3.0 arcsec.\n"
     ]
    },
    {
     "name": "stderr",
     "output_type": "stream",
     "text": [
      "\r",
      " 73%|███████▎  | 501/690 [37:44<14:11,  4.51s/it]"
     ]
    },
    {
     "name": "stdout",
     "output_type": "stream",
     "text": [
      "ra: 18 matched\n",
      "dec: 24 matched\n",
      "parallax: 6 matched\n",
      "pmra: 21 matched\n",
      "pmdec: 1 matched\n",
      "RV: 393 matched\n",
      "matched 3 params in NGC_7789:\n",
      "['ra' 'dec' 'RV']\n",
      "Target not likely a cluster member\n",
      "cannot unpack non-iterable NoneType object\n",
      "Target: TOI 1665.01\n",
      "Querying Gaia DR2 catalog for ra,dec=(88.369 37.3394) within 3.0 arcsec.\n",
      "There are 2 gaia sources within 3.0 arcsec.\n"
     ]
    },
    {
     "name": "stderr",
     "output_type": "stream",
     "text": [
      "\r",
      " 73%|███████▎  | 502/690 [37:48<14:06,  4.50s/it]"
     ]
    },
    {
     "name": "stdout",
     "output_type": "stream",
     "text": [
      "ra: 13 matched\n",
      "dec: 28 matched\n",
      "parallax: 0 matched\n",
      "pmra: 0 matched\n",
      "pmdec: 0 matched\n",
      "RV: 504 matched\n",
      "matched 3 params in COIN-Gaia_13:\n",
      "['ra' 'dec' 'RV']\n",
      "Target not likely a cluster member\n",
      "cannot unpack non-iterable NoneType object\n",
      "Target: TOI 1668.01\n",
      "Querying Gaia DR2 catalog for ra,dec=(348.608 76.9343) within 3.0 arcsec.\n"
     ]
    },
    {
     "name": "stderr",
     "output_type": "stream",
     "text": [
      "\r",
      " 73%|███████▎  | 503/690 [37:53<14:04,  4.52s/it]"
     ]
    },
    {
     "name": "stdout",
     "output_type": "stream",
     "text": [
      "ra: 13 matched\n",
      "dec: 1 matched\n",
      "parallax: 2 matched\n",
      "pmra: 40 matched\n",
      "pmdec: 9 matched\n",
      "RV: 521 matched\n",
      "matched 3 params in NGC_6991:\n",
      "['pmra' 'pmdec' 'RV']\n",
      "Target not likely a cluster member\n",
      "cannot unpack non-iterable NoneType object\n",
      "Target: TOI 1669.01\n",
      "Querying Gaia DR2 catalog for ra,dec=(45.9565 83.5874) within 3.0 arcsec.\n"
     ]
    },
    {
     "name": "stderr",
     "output_type": "stream",
     "text": [
      "\r",
      " 73%|███████▎  | 504/690 [37:57<13:56,  4.50s/it]"
     ]
    },
    {
     "name": "stdout",
     "output_type": "stream",
     "text": [
      "ra: 14 matched\n",
      "dec: 0 matched\n",
      "parallax: 1 matched\n",
      "pmra: 0 matched\n",
      "pmdec: 0 matched\n",
      "RV: 515 matched\n",
      "matched 2 params in Alessi_13:\n",
      "['ra' 'parallax']\n",
      "Target not likely a cluster member\n",
      "cannot unpack non-iterable NoneType object\n",
      "Target: TOI 1670.01\n",
      "Querying Gaia DR2 catalog for ra,dec=(259.017 72.1612) within 3.0 arcsec.\n"
     ]
    },
    {
     "name": "stderr",
     "output_type": "stream",
     "text": [
      "\r",
      " 73%|███████▎  | 505/690 [38:02<13:49,  4.48s/it]"
     ]
    },
    {
     "name": "stdout",
     "output_type": "stream",
     "text": [
      "ra: 17 matched\n",
      "dec: 3 matched\n",
      "parallax: 10 matched\n",
      "pmra: 198 matched\n",
      "pmdec: 100 matched\n",
      "RV: 525 matched\n",
      "matched 3 params in Alessi_9:\n",
      "['ra' 'parallax' 'RV']\n",
      "Target not likely a cluster member\n",
      "cannot unpack non-iterable NoneType object\n",
      "Target: TOI 1671.01\n",
      "Querying Gaia DR2 catalog for ra,dec=(130.969 86.2284) within 3.0 arcsec.\n"
     ]
    },
    {
     "name": "stderr",
     "output_type": "stream",
     "text": [
      "\r",
      " 73%|███████▎  | 506/690 [38:06<13:49,  4.51s/it]"
     ]
    },
    {
     "name": "stdout",
     "output_type": "stream",
     "text": [
      "ra: 25 matched\n",
      "dec: 0 matched\n",
      "parallax: 10 matched\n",
      "pmra: 3 matched\n",
      "pmdec: 278 matched\n",
      "RV: 449 matched\n",
      "matched 3 params in Blanco_1:\n",
      "['parallax' 'pmra' 'pmdec']\n",
      "Target not likely a cluster member\n",
      "cannot unpack non-iterable NoneType object\n",
      "Target: TOI 1672.01\n",
      "Querying Gaia DR2 catalog for ra,dec=(91.872 66.8577) within 3.0 arcsec.\n"
     ]
    },
    {
     "name": "stderr",
     "output_type": "stream",
     "text": [
      "\r",
      " 73%|███████▎  | 507/690 [38:11<13:39,  4.48s/it]"
     ]
    },
    {
     "name": "stdout",
     "output_type": "stream",
     "text": [
      "ra: 21 matched\n",
      "dec: 11 matched\n",
      "parallax: 30 matched\n",
      "pmra: 6 matched\n",
      "pmdec: 0 matched\n",
      "RV: 525 matched\n",
      "matched 2 params in ASCC_123:\n",
      "['parallax' 'RV']\n",
      "Target not likely a cluster member\n",
      "cannot unpack non-iterable NoneType object\n",
      "Target: TOI 1673.01\n",
      "Querying Gaia DR2 catalog for ra,dec=(64.6485 52.865) within 3.0 arcsec.\n",
      "There are 2 gaia sources within 3.0 arcsec.\n"
     ]
    },
    {
     "name": "stderr",
     "output_type": "stream",
     "text": [
      "\r",
      " 74%|███████▎  | 508/690 [38:15<13:35,  4.48s/it]"
     ]
    },
    {
     "name": "stdout",
     "output_type": "stream",
     "text": [
      "ra: 18 matched\n",
      "dec: 42 matched\n",
      "parallax: 20 matched\n",
      "pmra: 5 matched\n",
      "pmdec: 4 matched\n",
      "RV: 0 matched\n",
      "matched 4 params in Melotte_20:\n",
      "['ra' 'dec' 'parallax' 'pmra']\n",
      "Target: TOI 1675.01\n",
      "Querying Gaia DR2 catalog for ra,dec=(47.8066 61.7624) within 3.0 arcsec.\n",
      "There are 2 gaia sources within 3.0 arcsec.\n"
     ]
    },
    {
     "name": "stderr",
     "output_type": "stream",
     "text": [
      "\r",
      " 74%|███████▍  | 509/690 [38:20<13:36,  4.51s/it]"
     ]
    },
    {
     "name": "stdout",
     "output_type": "stream",
     "text": [
      "ra: 12 matched\n",
      "dec: 36 matched\n",
      "parallax: 72 matched\n",
      "pmra: 471 matched\n",
      "pmdec: 574 matched\n",
      "RV: 0 matched\n",
      "matched 4 params in Stock_23:\n",
      "['ra' 'dec' 'pmra' 'pmdec']\n",
      "Target: TOI 1676.01\n",
      "Querying Gaia DR2 catalog for ra,dec=(65.4696 57.8172) within 3.0 arcsec.\n"
     ]
    },
    {
     "name": "stderr",
     "output_type": "stream",
     "text": [
      "\r",
      " 74%|███████▍  | 510/690 [38:24<13:26,  4.48s/it]"
     ]
    },
    {
     "name": "stdout",
     "output_type": "stream",
     "text": [
      "ra: 14 matched\n",
      "dec: 37 matched\n",
      "parallax: 12 matched\n",
      "pmra: 600 matched\n",
      "pmdec: 207 matched\n",
      "RV: 531 matched\n",
      "matched 4 params in Melotte_20:\n",
      "['ra' 'dec' 'parallax' 'RV']\n",
      "Target: TOI 1677.01\n",
      "Querying Gaia DR2 catalog for ra,dec=(58.4866 58.9683) within 3.0 arcsec.\n"
     ]
    },
    {
     "name": "stderr",
     "output_type": "stream",
     "text": [
      "\r",
      " 74%|███████▍  | 511/690 [38:29<13:24,  4.49s/it]"
     ]
    },
    {
     "name": "stdout",
     "output_type": "stream",
     "text": [
      "ra: 12 matched\n",
      "dec: 32 matched\n",
      "parallax: 11 matched\n",
      "pmra: 0 matched\n",
      "pmdec: 0 matched\n",
      "RV: 543 matched\n",
      "matched 4 params in Melotte_20:\n",
      "['ra' 'dec' 'parallax' 'RV']\n",
      "Target: TOI 1678.01\n",
      "Querying Gaia DR2 catalog for ra,dec=(73.0348 30.2804) within 3.0 arcsec.\n"
     ]
    },
    {
     "name": "stderr",
     "output_type": "stream",
     "text": [
      "\r",
      " 74%|███████▍  | 512/690 [38:33<13:21,  4.50s/it]"
     ]
    },
    {
     "name": "stdout",
     "output_type": "stream",
     "text": [
      "ra: 13 matched\n",
      "dec: 23 matched\n",
      "parallax: 636 matched\n",
      "pmra: 62 matched\n",
      "pmdec: 51 matched\n",
      "RV: 0 matched\n",
      "matched 3 params in BH_164:\n",
      "['parallax' 'pmra' 'pmdec']\n",
      "Target not likely a cluster member\n",
      "cannot unpack non-iterable NoneType object\n",
      "Target: TOI 1680.01\n",
      "Querying Gaia DR2 catalog for ra,dec=(292.314 65.9738) within 3.0 arcsec.\n"
     ]
    },
    {
     "name": "stderr",
     "output_type": "stream",
     "text": [
      "\r",
      " 74%|███████▍  | 513/690 [38:38<13:18,  4.51s/it]"
     ]
    },
    {
     "name": "stdout",
     "output_type": "stream",
     "text": [
      "ra: 17 matched\n",
      "dec: 15 matched\n",
      "parallax: 0 matched\n",
      "pmra: 0 matched\n",
      "pmdec: 0 matched\n",
      "RV: 0 matched\n",
      "matched 1 params in ASCC_105:\n",
      "['ra']\n",
      "Target not likely a cluster member\n",
      "cannot unpack non-iterable NoneType object\n",
      "Target: TOI 1681.01\n",
      "Querying Gaia DR2 catalog for ra,dec=(81.671 56.9636) within 3.0 arcsec.\n"
     ]
    },
    {
     "name": "stderr",
     "output_type": "stream",
     "text": [
      "\r",
      " 74%|███████▍  | 514/690 [38:42<13:12,  4.50s/it]"
     ]
    },
    {
     "name": "stdout",
     "output_type": "stream",
     "text": [
      "ra: 29 matched\n",
      "dec: 31 matched\n",
      "parallax: 9 matched\n",
      "pmra: 2 matched\n",
      "pmdec: 75 matched\n",
      "RV: 341 matched\n",
      "matched 3 params in NGC_7789:\n",
      "['ra' 'dec' 'RV']\n",
      "Target not likely a cluster member\n",
      "cannot unpack non-iterable NoneType object\n",
      "Target: TOI 1682.01\n",
      "Querying Gaia DR2 catalog for ra,dec=(78.2956 33.318) within 3.0 arcsec.\n"
     ]
    },
    {
     "name": "stderr",
     "output_type": "stream",
     "text": [
      "\r",
      " 75%|███████▍  | 515/690 [38:47<13:13,  4.54s/it]"
     ]
    },
    {
     "name": "stdout",
     "output_type": "stream",
     "text": [
      "ra: 16 matched\n",
      "dec: 21 matched\n",
      "parallax: 4 matched\n",
      "pmra: 6 matched\n",
      "pmdec: 1 matched\n",
      "RV: 429 matched\n",
      "matched 2 params in ASCC_110:\n",
      "['dec' 'RV']\n",
      "Target not likely a cluster member\n",
      "cannot unpack non-iterable NoneType object\n",
      "Target: TOI 1683.01\n",
      "Querying Gaia DR2 catalog for ra,dec=(65.9797 27.8224) within 3.0 arcsec.\n"
     ]
    },
    {
     "name": "stderr",
     "output_type": "stream",
     "text": [
      "\r",
      " 75%|███████▍  | 516/690 [38:52<13:09,  4.54s/it]"
     ]
    },
    {
     "name": "stdout",
     "output_type": "stream",
     "text": [
      "ra: 14 matched\n",
      "dec: 18 matched\n",
      "parallax: 0 matched\n",
      "pmra: 8 matched\n",
      "pmdec: 1 matched\n",
      "RV: 439 matched\n",
      "matched 3 params in UBC_31:\n",
      "['ra' 'dec' 'RV']\n",
      "Target not likely a cluster member\n",
      "cannot unpack non-iterable NoneType object\n",
      "Target: TOI 1684.01\n",
      "Querying Gaia DR2 catalog for ra,dec=(65.3461 62.2452) within 3.0 arcsec.\n"
     ]
    },
    {
     "name": "stderr",
     "output_type": "stream",
     "text": [
      "\r",
      " 75%|███████▍  | 517/690 [38:56<13:04,  4.53s/it]"
     ]
    },
    {
     "name": "stdout",
     "output_type": "stream",
     "text": [
      "ra: 16 matched\n",
      "dec: 34 matched\n",
      "parallax: 0 matched\n",
      "pmra: 0 matched\n",
      "pmdec: 0 matched\n",
      "RV: 467 matched\n",
      "matched 3 params in Melotte_20:\n",
      "['ra' 'dec' 'RV']\n",
      "Target not likely a cluster member\n",
      "cannot unpack non-iterable NoneType object\n",
      "Target: TOI 1685.01\n",
      "Querying Gaia DR2 catalog for ra,dec=(68.594 43.037) within 3.0 arcsec.\n"
     ]
    },
    {
     "name": "stderr",
     "output_type": "stream",
     "text": [
      "\r",
      " 75%|███████▌  | 518/690 [39:01<12:57,  4.52s/it]"
     ]
    },
    {
     "name": "stdout",
     "output_type": "stream",
     "text": [
      "ra: 14 matched\n",
      "dec: 25 matched\n",
      "parallax: 0 matched\n",
      "pmra: 1 matched\n",
      "pmdec: 0 matched\n",
      "RV: 0 matched\n",
      "matched 2 params in COIN-Gaia_39:\n",
      "['ra' 'dec']\n",
      "Target not likely a cluster member\n",
      "cannot unpack non-iterable NoneType object\n",
      "Target: TOI 1686.01\n",
      "Querying Gaia DR2 catalog for ra,dec=(61.7311 66.1196) within 3.0 arcsec.\n"
     ]
    },
    {
     "name": "stderr",
     "output_type": "stream",
     "text": [
      "\r",
      " 75%|███████▌  | 519/690 [39:05<12:47,  4.49s/it]"
     ]
    },
    {
     "name": "stdout",
     "output_type": "stream",
     "text": [
      "ra: 13 matched\n",
      "dec: 16 matched\n",
      "parallax: 12 matched\n",
      "pmra: 8 matched\n",
      "pmdec: 211 matched\n",
      "RV: 513 matched\n",
      "matched 4 params in Platais_3:\n",
      "['ra' 'dec' 'parallax' 'pmra']\n",
      "Target: TOI 1687.01\n",
      "Querying Gaia DR2 catalog for ra,dec=(66.835 73.0237) within 3.0 arcsec.\n"
     ]
    },
    {
     "name": "stderr",
     "output_type": "stream",
     "text": [
      "\r",
      " 75%|███████▌  | 520/690 [39:09<12:41,  4.48s/it]"
     ]
    },
    {
     "name": "stdout",
     "output_type": "stream",
     "text": [
      "ra: 16 matched\n",
      "dec: 3 matched\n",
      "parallax: 2 matched\n",
      "pmra: 3 matched\n",
      "pmdec: 1 matched\n",
      "RV: 525 matched\n",
      "matched 3 params in Melotte_20:\n",
      "['ra' 'pmra' 'RV']\n",
      "Target not likely a cluster member\n",
      "cannot unpack non-iterable NoneType object\n",
      "Target: TOI 1689.01\n",
      "Querying Gaia DR2 catalog for ra,dec=(257.785 56.6589) within 3.0 arcsec.\n"
     ]
    },
    {
     "name": "stderr",
     "output_type": "stream",
     "text": [
      "\r",
      " 76%|███████▌  | 521/690 [39:14<12:40,  4.50s/it]"
     ]
    },
    {
     "name": "stdout",
     "output_type": "stream",
     "text": [
      "ra: 13 matched\n",
      "dec: 37 matched\n",
      "parallax: 0 matched\n",
      "pmra: 13 matched\n",
      "pmdec: 0 matched\n",
      "RV: 0 matched\n",
      "matched 2 params in NGC_7789:\n",
      "['ra' 'dec']\n",
      "Target not likely a cluster member\n",
      "cannot unpack non-iterable NoneType object\n",
      "Target: TOI 1690.01\n",
      "Querying Gaia DR2 catalog for ra,dec=(284.416 53.509) within 3.0 arcsec.\n"
     ]
    },
    {
     "name": "stderr",
     "output_type": "stream",
     "text": [
      "\r",
      " 76%|███████▌  | 522/690 [39:19<12:36,  4.51s/it]"
     ]
    },
    {
     "name": "stdout",
     "output_type": "stream",
     "text": [
      "ra: 13 matched\n",
      "dec: 19 matched\n",
      "parallax: 0 matched\n",
      "pmra: 0 matched\n",
      "pmdec: 0 matched\n",
      "RV: 0 matched\n",
      "matched 1 params in ASCC_114:\n",
      "['dec']\n",
      "Target not likely a cluster member\n",
      "cannot unpack non-iterable NoneType object\n",
      "Target: TOI 1691.01\n",
      "Querying Gaia DR2 catalog for ra,dec=(272.404 86.8603) within 3.0 arcsec.\n"
     ]
    },
    {
     "name": "stderr",
     "output_type": "stream",
     "text": [
      "\r",
      " 76%|███████▌  | 523/690 [39:23<12:34,  4.52s/it]"
     ]
    },
    {
     "name": "stdout",
     "output_type": "stream",
     "text": [
      "ra: 12 matched\n",
      "dec: 0 matched\n",
      "parallax: 1 matched\n",
      "pmra: 4 matched\n",
      "pmdec: 0 matched\n",
      "RV: 370 matched\n",
      "matched 2 params in Alessi_19:\n",
      "['ra' 'RV']\n",
      "Target not likely a cluster member\n",
      "cannot unpack non-iterable NoneType object\n",
      "Target: TOI 1692.01\n",
      "Querying Gaia DR2 catalog for ra,dec=(279.464 78.6111) within 3.0 arcsec.\n"
     ]
    },
    {
     "name": "stderr",
     "output_type": "stream",
     "text": [
      "\r",
      " 76%|███████▌  | 524/690 [39:28<12:29,  4.51s/it]"
     ]
    },
    {
     "name": "stdout",
     "output_type": "stream",
     "text": [
      "ra: 13 matched\n",
      "dec: 1 matched\n",
      "parallax: 56 matched\n",
      "pmra: 215 matched\n",
      "pmdec: 286 matched\n",
      "RV: 513 matched\n",
      "matched 3 params in ASCC_41:\n",
      "['parallax' 'pmdec' 'RV']\n",
      "Target not likely a cluster member\n",
      "cannot unpack non-iterable NoneType object\n",
      "Target: TOI 1693.01\n",
      "Querying Gaia DR2 catalog for ra,dec=(90.3083 34.7731) within 3.0 arcsec.\n"
     ]
    },
    {
     "name": "stderr",
     "output_type": "stream",
     "text": [
      "\r",
      " 76%|███████▌  | 525/690 [39:32<12:30,  4.55s/it]"
     ]
    },
    {
     "name": "stdout",
     "output_type": "stream",
     "text": [
      "ra: 13 matched\n",
      "dec: 25 matched\n",
      "parallax: 0 matched\n",
      "pmra: 6 matched\n",
      "pmdec: 8 matched\n",
      "RV: 525 matched\n",
      "matched 2 params in ASCC_10:\n",
      "['dec' 'RV']\n",
      "Target not likely a cluster member\n",
      "cannot unpack non-iterable NoneType object\n",
      "Target: TOI 1694.01\n",
      "Querying Gaia DR2 catalog for ra,dec=(97.7487 66.3606) within 3.0 arcsec.\n"
     ]
    },
    {
     "name": "stderr",
     "output_type": "stream",
     "text": [
      "\r",
      " 76%|███████▌  | 526/690 [39:37<12:20,  4.52s/it]"
     ]
    },
    {
     "name": "stdout",
     "output_type": "stream",
     "text": [
      "ra: 22 matched\n",
      "dec: 16 matched\n",
      "parallax: 2 matched\n",
      "pmra: 0 matched\n",
      "pmdec: 5 matched\n",
      "RV: 507 matched\n",
      "matched 2 params in ASCC_127:\n",
      "['dec' 'RV']\n",
      "Target not likely a cluster member\n",
      "cannot unpack non-iterable NoneType object\n",
      "Target: TOI 1695.01\n",
      "Querying Gaia DR2 catalog for ra,dec=(21.9217 72.2966) within 3.0 arcsec.\n"
     ]
    },
    {
     "name": "stderr",
     "output_type": "stream",
     "text": [
      "\r",
      " 76%|███████▋  | 527/690 [39:41<12:16,  4.52s/it]"
     ]
    },
    {
     "name": "stdout",
     "output_type": "stream",
     "text": [
      "ra: 8 matched\n",
      "dec: 3 matched\n",
      "parallax: 0 matched\n",
      "pmra: 0 matched\n",
      "pmdec: 0 matched\n",
      "RV: 353 matched\n",
      "matched 3 params in Collinder_463:\n",
      "['ra' 'dec' 'RV']\n",
      "Target not likely a cluster member\n",
      "cannot unpack non-iterable NoneType object\n",
      "Target: TOI 1696.01\n",
      "Querying Gaia DR2 catalog for ra,dec=(65.2807 48.8198) within 3.0 arcsec.\n"
     ]
    },
    {
     "name": "stderr",
     "output_type": "stream",
     "text": [
      "\r",
      " 77%|███████▋  | 528/690 [39:46<12:13,  4.53s/it]"
     ]
    },
    {
     "name": "stdout",
     "output_type": "stream",
     "text": [
      "ra: 17 matched\n",
      "dec: 17 matched\n",
      "parallax: 0 matched\n",
      "pmra: 3 matched\n",
      "pmdec: 7 matched\n",
      "RV: 0 matched\n",
      "matched 3 params in Melotte_20:\n",
      "['ra' 'dec' 'pmdec']\n",
      "Target not likely a cluster member\n",
      "cannot unpack non-iterable NoneType object\n",
      "Target: TOI 1697.01\n",
      "Querying Gaia DR2 catalog for ra,dec=(290.109 61.0854) within 3.0 arcsec.\n",
      "There are 2 gaia sources within 3.0 arcsec.\n"
     ]
    },
    {
     "name": "stderr",
     "output_type": "stream",
     "text": [
      "\r",
      " 77%|███████▋  | 529/690 [39:50<12:01,  4.48s/it]"
     ]
    },
    {
     "name": "stdout",
     "output_type": "stream",
     "text": [
      "ra: 12 matched\n",
      "dec: 41 matched\n",
      "parallax: 0 matched\n",
      "pmra: 0 matched\n",
      "pmdec: 0 matched\n",
      "RV: 515 matched\n",
      "matched 2 params in ASCC_101:\n",
      "['ra' 'RV']\n",
      "Target not likely a cluster member\n",
      "cannot unpack non-iterable NoneType object\n",
      "Target: TOI 1698.01\n",
      "Querying Gaia DR2 catalog for ra,dec=(98.5032 41.9008) within 3.0 arcsec.\n",
      "There are 2 gaia sources within 3.0 arcsec.\n"
     ]
    },
    {
     "name": "stderr",
     "output_type": "stream",
     "text": [
      "\r",
      " 77%|███████▋  | 530/690 [39:55<11:59,  4.50s/it]"
     ]
    },
    {
     "name": "stdout",
     "output_type": "stream",
     "text": [
      "ra: 24 matched\n",
      "dec: 23 matched\n",
      "parallax: 305 matched\n",
      "pmra: 576 matched\n",
      "pmdec: 74 matched\n",
      "RV: 0 matched\n",
      "matched 4 params in Dolidze_8:\n",
      "['dec' 'parallax' 'pmra' 'pmdec']\n",
      "Target not likely a cluster member\n",
      "cannot unpack non-iterable NoneType object\n",
      "Target: TOI 1699.01\n",
      "Querying Gaia DR2 catalog for ra,dec=(125.189 46.2036) within 3.0 arcsec.\n",
      "There are 2 gaia sources within 3.0 arcsec.\n"
     ]
    },
    {
     "name": "stderr",
     "output_type": "stream",
     "text": [
      "\r",
      " 77%|███████▋  | 531/690 [39:59<11:55,  4.50s/it]"
     ]
    },
    {
     "name": "stdout",
     "output_type": "stream",
     "text": [
      "ra: 19 matched\n",
      "dec: 36 matched\n",
      "parallax: 11 matched\n",
      "pmra: 261 matched\n",
      "pmdec: 3 matched\n",
      "RV: 373 matched\n",
      "matched 3 params in Melotte_20:\n",
      "['dec' 'parallax' 'pmdec']\n",
      "Target not likely a cluster member\n",
      "cannot unpack non-iterable NoneType object\n",
      "Target: TOI 1701.01\n",
      "Querying Gaia DR2 catalog for ra,dec=(99.8982 42.1313) within 3.0 arcsec.\n"
     ]
    },
    {
     "name": "stderr",
     "output_type": "stream",
     "text": [
      "\r",
      " 77%|███████▋  | 532/690 [40:04<11:43,  4.45s/it]"
     ]
    },
    {
     "name": "stdout",
     "output_type": "stream",
     "text": [
      "ra: 19 matched\n",
      "dec: 23 matched\n",
      "parallax: 2 matched\n",
      "pmra: 16 matched\n",
      "pmdec: 0 matched\n",
      "RV: 443 matched\n",
      "matched 2 params in ASCC_108:\n",
      "['dec' 'RV']\n",
      "Target not likely a cluster member\n",
      "cannot unpack non-iterable NoneType object\n",
      "Target: TOI 1703.01\n",
      "Querying Gaia DR2 catalog for ra,dec=(113.874 49.4781) within 3.0 arcsec.\n"
     ]
    },
    {
     "name": "stderr",
     "output_type": "stream",
     "text": [
      "\r",
      " 77%|███████▋  | 533/690 [40:08<11:35,  4.43s/it]"
     ]
    },
    {
     "name": "stdout",
     "output_type": "stream",
     "text": [
      "ra: 21 matched\n",
      "dec: 21 matched\n",
      "parallax: 11 matched\n",
      "pmra: 6 matched\n",
      "pmdec: 0 matched\n",
      "RV: 524 matched\n",
      "matched 4 params in NGC_2451A:\n",
      "['ra' 'parallax' 'pmra' 'RV']\n",
      "Target not likely a cluster member\n",
      "cannot unpack non-iterable NoneType object\n",
      "Target: TOI 1704.01\n",
      "Querying Gaia DR2 catalog for ra,dec=(114.933 28.1201) within 3.0 arcsec.\n"
     ]
    },
    {
     "name": "stderr",
     "output_type": "stream",
     "text": [
      "\r",
      " 77%|███████▋  | 534/690 [40:12<11:36,  4.46s/it]"
     ]
    },
    {
     "name": "stdout",
     "output_type": "stream",
     "text": [
      "ra: 26 matched\n",
      "dec: 20 matched\n",
      "parallax: 62 matched\n",
      "pmra: 73 matched\n",
      "pmdec: 244 matched\n",
      "RV: 519 matched\n",
      "matched 4 params in ASCC_41:\n",
      "['ra' 'parallax' 'pmdec' 'RV']\n",
      "Target not likely a cluster member\n",
      "cannot unpack non-iterable NoneType object\n",
      "Target: TOI 1705.01\n",
      "Querying Gaia DR2 catalog for ra,dec=(132.635 82.9271) within 3.0 arcsec.\n"
     ]
    },
    {
     "name": "stderr",
     "output_type": "stream",
     "text": [
      "\r",
      " 78%|███████▊  | 535/690 [40:17<11:30,  4.45s/it]"
     ]
    },
    {
     "name": "stdout",
     "output_type": "stream",
     "text": [
      "ra: 22 matched\n",
      "dec: 0 matched\n",
      "parallax: 51 matched\n",
      "pmra: 289 matched\n",
      "pmdec: 8 matched\n",
      "RV: 539 matched\n",
      "matched 3 params in Collinder_350:\n",
      "['parallax' 'pmra' 'RV']\n",
      "Target not likely a cluster member\n",
      "cannot unpack non-iterable NoneType object\n",
      "Target: TOI 1706.01\n",
      "Querying Gaia DR2 catalog for ra,dec=(285.206 60.2337) within 3.0 arcsec.\n"
     ]
    },
    {
     "name": "stderr",
     "output_type": "stream",
     "text": [
      "\r",
      " 78%|███████▊  | 536/690 [40:21<11:26,  4.46s/it]"
     ]
    },
    {
     "name": "stdout",
     "output_type": "stream",
     "text": [
      "ra: 13 matched\n",
      "dec: 37 matched\n",
      "parallax: 9 matched\n",
      "pmra: 8 matched\n",
      "pmdec: 1 matched\n",
      "RV: 502 matched\n",
      "matched 3 params in Melotte_20:\n",
      "['dec' 'parallax' 'RV']\n",
      "Target not likely a cluster member\n",
      "cannot unpack non-iterable NoneType object\n",
      "Target: TOI 1707.01\n",
      "Querying Gaia DR2 catalog for ra,dec=(101.382 31.4655) within 3.0 arcsec.\n"
     ]
    },
    {
     "name": "stderr",
     "output_type": "stream",
     "text": [
      "\r",
      " 78%|███████▊  | 537/690 [40:26<11:23,  4.47s/it]"
     ]
    },
    {
     "name": "stdout",
     "output_type": "stream",
     "text": [
      "ra: 16 matched\n",
      "dec: 18 matched\n",
      "parallax: 31 matched\n",
      "pmra: 5 matched\n",
      "pmdec: 2 matched\n",
      "RV: 513 matched\n",
      "matched 3 params in Melotte_20:\n",
      "['pmra' 'pmdec' 'RV']\n",
      "Target not likely a cluster member\n",
      "cannot unpack non-iterable NoneType object\n",
      "Target: TOI 1708.01\n",
      "Querying Gaia DR2 catalog for ra,dec=(116.107 43.0091) within 3.0 arcsec.\n"
     ]
    },
    {
     "name": "stderr",
     "output_type": "stream",
     "text": [
      "\r",
      " 78%|███████▊  | 538/690 [40:30<11:22,  4.49s/it]"
     ]
    },
    {
     "name": "stdout",
     "output_type": "stream",
     "text": [
      "ra: 23 matched\n",
      "dec: 25 matched\n",
      "parallax: 10 matched\n",
      "pmra: 522 matched\n",
      "pmdec: 2 matched\n",
      "RV: 488 matched\n",
      "matched 3 params in ASCC_11:\n",
      "['dec' 'pmra' 'RV']\n",
      "Target not likely a cluster member\n",
      "cannot unpack non-iterable NoneType object\n",
      "Target: TOI 1709.01\n",
      "Querying Gaia DR2 catalog for ra,dec=(118.63 45.8078) within 3.0 arcsec.\n"
     ]
    },
    {
     "name": "stderr",
     "output_type": "stream",
     "text": [
      "\r",
      " 78%|███████▊  | 539/690 [40:35<11:16,  4.48s/it]"
     ]
    },
    {
     "name": "stdout",
     "output_type": "stream",
     "text": [
      "ra: 22 matched\n",
      "dec: 38 matched\n",
      "parallax: 26 matched\n",
      "pmra: 62 matched\n",
      "pmdec: 1 matched\n",
      "RV: 508 matched\n",
      "matched 3 params in ASCC_99:\n",
      "['parallax' 'pmra' 'RV']\n",
      "Target not likely a cluster member\n",
      "cannot unpack non-iterable NoneType object\n",
      "Target: TOI 1710.01\n",
      "Querying Gaia DR2 catalog for ra,dec=(94.2838 76.211) within 3.0 arcsec.\n"
     ]
    },
    {
     "name": "stderr",
     "output_type": "stream",
     "text": [
      "\r",
      " 78%|███████▊  | 540/690 [40:39<11:16,  4.51s/it]"
     ]
    },
    {
     "name": "stdout",
     "output_type": "stream",
     "text": [
      "ra: 16 matched\n",
      "dec: 1 matched\n",
      "parallax: 0 matched\n",
      "pmra: 0 matched\n",
      "pmdec: 0 matched\n",
      "RV: 430 matched\n",
      "matched 2 params in ASCC_23:\n",
      "['ra' 'RV']\n",
      "Target not likely a cluster member\n",
      "cannot unpack non-iterable NoneType object\n",
      "Target: TOI 1713.01\n",
      "Querying Gaia DR2 catalog for ra,dec=(100.521 39.8429) within 3.0 arcsec.\n"
     ]
    },
    {
     "name": "stderr",
     "output_type": "stream",
     "text": [
      "\r",
      " 78%|███████▊  | 541/690 [40:44<11:09,  4.49s/it]"
     ]
    },
    {
     "name": "stdout",
     "output_type": "stream",
     "text": [
      "ra: 17 matched\n",
      "dec: 22 matched\n",
      "parallax: 4 matched\n",
      "pmra: 32 matched\n",
      "pmdec: 0 matched\n",
      "RV: 507 matched\n",
      "matched 2 params in ASCC_108:\n",
      "['dec' 'RV']\n",
      "Target not likely a cluster member\n",
      "cannot unpack non-iterable NoneType object\n",
      "Target: TOI 1714.01\n",
      "Querying Gaia DR2 catalog for ra,dec=(113.184 33.835) within 3.0 arcsec.\n"
     ]
    },
    {
     "name": "stderr",
     "output_type": "stream",
     "text": [
      "\r",
      " 79%|███████▊  | 542/690 [40:48<11:06,  4.50s/it]"
     ]
    },
    {
     "name": "stdout",
     "output_type": "stream",
     "text": [
      "ra: 21 matched\n",
      "dec: 25 matched\n",
      "parallax: 76 matched\n",
      "pmra: 443 matched\n",
      "pmdec: 530 matched\n",
      "RV: 498 matched\n",
      "matched 4 params in ASCC_111:\n",
      "['dec' 'pmra' 'pmdec' 'RV']\n",
      "Target not likely a cluster member\n",
      "cannot unpack non-iterable NoneType object\n",
      "Target: TOI 1715.01\n",
      "Querying Gaia DR2 catalog for ra,dec=(79.0735 79.7377) within 3.0 arcsec.\n"
     ]
    },
    {
     "name": "stderr",
     "output_type": "stream",
     "text": [
      "\r",
      " 79%|███████▊  | 543/690 [40:53<10:58,  4.48s/it]"
     ]
    },
    {
     "name": "stdout",
     "output_type": "stream",
     "text": [
      "ra: 17 matched\n",
      "dec: 1 matched\n",
      "parallax: 10 matched\n",
      "pmra: 179 matched\n",
      "pmdec: 7 matched\n",
      "RV: 516 matched\n",
      "matched 3 params in Platais_3:\n",
      "['ra' 'dec' 'parallax']\n",
      "Target not likely a cluster member\n",
      "cannot unpack non-iterable NoneType object\n",
      "Target: TOI 1716.01\n",
      "Querying Gaia DR2 catalog for ra,dec=(105.083 56.8242) within 3.0 arcsec.\n"
     ]
    },
    {
     "name": "stderr",
     "output_type": "stream",
     "text": [
      "\r",
      " 79%|███████▉  | 544/690 [40:57<11:02,  4.54s/it]"
     ]
    },
    {
     "name": "stdout",
     "output_type": "stream",
     "text": [
      "ra: 24 matched\n",
      "dec: 31 matched\n",
      "parallax: 2 matched\n",
      "pmra: 0 matched\n",
      "pmdec: 0 matched\n",
      "RV: 527 matched\n",
      "matched 2 params in ASCC_123:\n",
      "['dec' 'RV']\n",
      "Target not likely a cluster member\n",
      "cannot unpack non-iterable NoneType object\n",
      "Target: TOI 1717.01\n",
      "Querying Gaia DR2 catalog for ra,dec=(104.629 67.6773) within 3.0 arcsec.\n",
      "There are 2 gaia sources within 3.0 arcsec.\n"
     ]
    },
    {
     "name": "stderr",
     "output_type": "stream",
     "text": [
      "\r",
      " 79%|███████▉  | 545/690 [41:02<10:49,  4.48s/it]"
     ]
    },
    {
     "name": "stdout",
     "output_type": "stream",
     "text": [
      "ra: 24 matched\n",
      "dec: 9 matched\n",
      "parallax: 10 matched\n",
      "pmra: 268 matched\n",
      "pmdec: 10 matched\n",
      "RV: 540 matched\n",
      "matched 3 params in Platais_3:\n",
      "['dec' 'parallax' 'pmra']\n",
      "Target not likely a cluster member\n",
      "cannot unpack non-iterable NoneType object\n",
      "Target: TOI 1718.01\n",
      "Querying Gaia DR2 catalog for ra,dec=(112.018 30.3217) within 3.0 arcsec.\n"
     ]
    },
    {
     "name": "stderr",
     "output_type": "stream",
     "text": [
      "\r",
      " 79%|███████▉  | 546/690 [41:07<11:00,  4.59s/it]"
     ]
    },
    {
     "name": "stdout",
     "output_type": "stream",
     "text": [
      "ra: 21 matched\n",
      "dec: 18 matched\n",
      "parallax: 0 matched\n",
      "pmra: 7 matched\n",
      "pmdec: 0 matched\n",
      "RV: 511 matched\n",
      "matched 2 params in ASCC_105:\n",
      "['dec' 'RV']\n",
      "Target not likely a cluster member\n",
      "cannot unpack non-iterable NoneType object\n",
      "Target: TOI 1719.01\n",
      "Querying Gaia DR2 catalog for ra,dec=(135.297 55.8599) within 3.0 arcsec.\n"
     ]
    },
    {
     "name": "stderr",
     "output_type": "stream",
     "text": [
      "\r",
      " 79%|███████▉  | 547/690 [41:11<10:53,  4.57s/it]"
     ]
    },
    {
     "name": "stdout",
     "output_type": "stream",
     "text": [
      "ra: 13 matched\n",
      "dec: 25 matched\n",
      "parallax: 12 matched\n",
      "pmra: 40 matched\n",
      "pmdec: 606 matched\n",
      "RV: 536 matched\n",
      "matched 4 params in ASCC_123:\n",
      "['dec' 'parallax' 'pmdec' 'RV']\n",
      "Target not likely a cluster member\n",
      "cannot unpack non-iterable NoneType object\n",
      "Target: TOI 1720.01\n",
      "Querying Gaia DR2 catalog for ra,dec=(117.027 50.2251) within 3.0 arcsec.\n"
     ]
    },
    {
     "name": "stderr",
     "output_type": "stream",
     "text": [
      "\r",
      " 79%|███████▉  | 548/690 [41:16<10:47,  4.56s/it]"
     ]
    },
    {
     "name": "stdout",
     "output_type": "stream",
     "text": [
      "ra: 24 matched\n",
      "dec: 24 matched\n",
      "parallax: 9 matched\n",
      "pmra: 4 matched\n",
      "pmdec: 0 matched\n",
      "RV: 396 matched\n",
      "matched 3 params in Platais_9:\n",
      "['parallax' 'pmra' 'RV']\n",
      "Target not likely a cluster member\n",
      "cannot unpack non-iterable NoneType object\n",
      "Target: TOI 1721.01\n",
      "Querying Gaia DR2 catalog for ra,dec=(110.388 58.2681) within 3.0 arcsec.\n"
     ]
    },
    {
     "name": "stderr",
     "output_type": "stream",
     "text": [
      "\r",
      " 80%|███████▉  | 549/690 [41:20<10:38,  4.53s/it]"
     ]
    },
    {
     "name": "stdout",
     "output_type": "stream",
     "text": [
      "ra: 25 matched\n",
      "dec: 36 matched\n",
      "parallax: 25 matched\n",
      "pmra: 7 matched\n",
      "pmdec: 88 matched\n",
      "RV: 535 matched\n",
      "matched 3 params in Collinder_135:\n",
      "['ra' 'parallax' 'pmdec']\n",
      "Target not likely a cluster member\n",
      "cannot unpack non-iterable NoneType object\n",
      "Target: TOI 1722.01\n",
      "Querying Gaia DR2 catalog for ra,dec=(114.345 61.1539) within 3.0 arcsec.\n"
     ]
    },
    {
     "name": "stderr",
     "output_type": "stream",
     "text": [
      "\r",
      " 80%|███████▉  | 550/690 [41:25<10:32,  4.51s/it]"
     ]
    },
    {
     "name": "stdout",
     "output_type": "stream",
     "text": [
      "ra: 28 matched\n",
      "dec: 41 matched\n",
      "parallax: 4 matched\n",
      "pmra: 55 matched\n",
      "pmdec: 0 matched\n",
      "RV: 478 matched\n",
      "matched 3 params in Collinder_140:\n",
      "['ra' 'pmra' 'RV']\n",
      "Target not likely a cluster member\n",
      "cannot unpack non-iterable NoneType object\n",
      "Target: TOI 1723.01\n",
      "Querying Gaia DR2 catalog for ra,dec=(116.797 68.4767) within 3.0 arcsec.\n"
     ]
    },
    {
     "name": "stderr",
     "output_type": "stream",
     "text": [
      "\r",
      " 80%|███████▉  | 551/690 [41:29<10:26,  4.51s/it]"
     ]
    },
    {
     "name": "stdout",
     "output_type": "stream",
     "text": [
      "ra: 24 matched\n",
      "dec: 7 matched\n",
      "parallax: 2 matched\n",
      "pmra: 21 matched\n",
      "pmdec: 8 matched\n",
      "RV: 500 matched\n",
      "matched 2 params in ASCC_41:\n",
      "['ra' 'RV']\n",
      "Target not likely a cluster member\n",
      "cannot unpack non-iterable NoneType object\n",
      "Target: TOI 1724.01\n",
      "Querying Gaia DR2 catalog for ra,dec=(127.033 56.4275) within 3.0 arcsec.\n"
     ]
    },
    {
     "name": "stderr",
     "output_type": "stream",
     "text": [
      "\r",
      " 80%|████████  | 552/690 [41:34<10:19,  4.49s/it]"
     ]
    },
    {
     "name": "stdout",
     "output_type": "stream",
     "text": [
      "ra: 16 matched\n",
      "dec: 24 matched\n",
      "parallax: 0 matched\n",
      "pmra: 0 matched\n",
      "pmdec: 55 matched\n",
      "RV: 0 matched\n",
      "matched 2 params in IC_1396:\n",
      "['dec' 'pmdec']\n",
      "Target not likely a cluster member\n",
      "cannot unpack non-iterable NoneType object\n",
      "Target: TOI 1725.01\n",
      "Querying Gaia DR2 catalog for ra,dec=(97.6366 29.6723) within 3.0 arcsec.\n"
     ]
    },
    {
     "name": "stderr",
     "output_type": "stream",
     "text": [
      "\r",
      " 80%|████████  | 553/690 [41:38<10:12,  4.47s/it]"
     ]
    },
    {
     "name": "stdout",
     "output_type": "stream",
     "text": [
      "ra: 21 matched\n",
      "dec: 19 matched\n",
      "parallax: 85 matched\n",
      "pmra: 643 matched\n",
      "pmdec: 89 matched\n",
      "RV: 515 matched\n",
      "matched 4 params in Collinder_95:\n",
      "['ra' 'pmra' 'pmdec' 'RV']\n",
      "Target not likely a cluster member\n",
      "cannot unpack non-iterable NoneType object\n",
      "Target: TOI 1726.01\n",
      "Querying Gaia DR2 catalog for ra,dec=(117.479 27.3631) within 3.0 arcsec.\n"
     ]
    },
    {
     "name": "stderr",
     "output_type": "stream",
     "text": [
      "\r",
      " 80%|████████  | 554/690 [41:43<10:13,  4.51s/it]"
     ]
    },
    {
     "name": "stdout",
     "output_type": "stream",
     "text": [
      "ra: 22 matched\n",
      "dec: 20 matched\n",
      "parallax: 0 matched\n",
      "pmra: 32 matched\n",
      "pmdec: 14 matched\n",
      "RV: 514 matched\n",
      "matched 2 params in ASCC_105:\n",
      "['dec' 'RV']\n",
      "Target not likely a cluster member\n",
      "cannot unpack non-iterable NoneType object\n",
      "Target: TOI 1726.02\n",
      "Querying Gaia DR2 catalog for ra,dec=(117.479 27.3631) within 3.0 arcsec.\n"
     ]
    },
    {
     "name": "stderr",
     "output_type": "stream",
     "text": [
      "\r",
      " 80%|████████  | 555/690 [41:47<10:03,  4.47s/it]"
     ]
    },
    {
     "name": "stdout",
     "output_type": "stream",
     "text": [
      "ra: 22 matched\n",
      "dec: 20 matched\n",
      "parallax: 0 matched\n",
      "pmra: 32 matched\n",
      "pmdec: 14 matched\n",
      "RV: 514 matched\n",
      "matched 2 params in ASCC_105:\n",
      "['dec' 'RV']\n",
      "Target not likely a cluster member\n",
      "cannot unpack non-iterable NoneType object\n",
      "Target: TOI 1727.01\n",
      "Querying Gaia DR2 catalog for ra,dec=(93.5585 53.1359) within 3.0 arcsec.\n"
     ]
    },
    {
     "name": "stderr",
     "output_type": "stream",
     "text": [
      "\r",
      " 81%|████████  | 556/690 [41:51<09:59,  4.47s/it]"
     ]
    },
    {
     "name": "stdout",
     "output_type": "stream",
     "text": [
      "ra: 22 matched\n",
      "dec: 21 matched\n",
      "parallax: 2 matched\n",
      "pmra: 154 matched\n",
      "pmdec: 0 matched\n",
      "RV: 527 matched\n",
      "matched 3 params in ASCC_23:\n",
      "['ra' 'pmra' 'RV']\n",
      "Target not likely a cluster member\n",
      "cannot unpack non-iterable NoneType object\n",
      "Target: TOI 1728.01\n",
      "Querying Gaia DR2 catalog for ra,dec=(120.612 64.7972) within 3.0 arcsec.\n"
     ]
    },
    {
     "name": "stderr",
     "output_type": "stream",
     "text": [
      "\r",
      " 81%|████████  | 557/690 [41:56<10:01,  4.52s/it]"
     ]
    },
    {
     "name": "stdout",
     "output_type": "stream",
     "text": [
      "ra: 19 matched\n",
      "dec: 17 matched\n",
      "parallax: 0 matched\n",
      "pmra: 0 matched\n",
      "pmdec: 0 matched\n",
      "RV: 417 matched\n",
      "matched 2 params in COIN-Gaia_1:\n",
      "['dec' 'RV']\n",
      "Target not likely a cluster member\n",
      "cannot unpack non-iterable NoneType object\n",
      "Target: TOI 1730.01\n",
      "Querying Gaia DR2 catalog for ra,dec=(107.866 48.3279) within 3.0 arcsec.\n"
     ]
    },
    {
     "name": "stderr",
     "output_type": "stream",
     "text": [
      "\r",
      " 81%|████████  | 558/690 [42:01<09:53,  4.49s/it]"
     ]
    },
    {
     "name": "stdout",
     "output_type": "stream",
     "text": [
      "ra: 21 matched\n",
      "dec: 21 matched\n",
      "parallax: 0 matched\n",
      "pmra: 0 matched\n",
      "pmdec: 0 matched\n",
      "RV: 469 matched\n",
      "matched 2 params in ASCC_23:\n",
      "['dec' 'RV']\n",
      "Target not likely a cluster member\n",
      "cannot unpack non-iterable NoneType object\n",
      "Target: TOI 1730.02\n",
      "Querying Gaia DR2 catalog for ra,dec=(107.866 48.3279) within 3.0 arcsec.\n"
     ]
    },
    {
     "name": "stderr",
     "output_type": "stream",
     "text": [
      "\r",
      " 81%|████████  | 559/690 [42:05<09:42,  4.45s/it]"
     ]
    },
    {
     "name": "stdout",
     "output_type": "stream",
     "text": [
      "ra: 21 matched\n",
      "dec: 21 matched\n",
      "parallax: 0 matched\n",
      "pmra: 0 matched\n",
      "pmdec: 0 matched\n",
      "RV: 469 matched\n",
      "matched 2 params in ASCC_23:\n",
      "['dec' 'RV']\n",
      "Target not likely a cluster member\n",
      "cannot unpack non-iterable NoneType object\n",
      "Target: TOI 1731.01\n",
      "Querying Gaia DR2 catalog for ra,dec=(110.168 37.1406) within 3.0 arcsec.\n"
     ]
    },
    {
     "name": "stderr",
     "output_type": "stream",
     "text": [
      "\r",
      " 81%|████████  | 560/690 [42:09<09:34,  4.42s/it]"
     ]
    },
    {
     "name": "stdout",
     "output_type": "stream",
     "text": [
      "ra: 23 matched\n",
      "dec: 29 matched\n",
      "parallax: 105 matched\n",
      "pmra: 38 matched\n",
      "pmdec: 7 matched\n",
      "RV: 0 matched\n",
      "matched 3 params in Collinder_140:\n",
      "['ra' 'parallax' 'pmra']\n",
      "Target not likely a cluster member\n",
      "cannot unpack non-iterable NoneType object\n",
      "Target: TOI 1732.01\n",
      "Querying Gaia DR2 catalog for ra,dec=(111.801 53.0453) within 3.0 arcsec.\n"
     ]
    },
    {
     "name": "stderr",
     "output_type": "stream",
     "text": [
      "\r",
      " 81%|████████▏ | 561/690 [42:14<09:36,  4.47s/it]"
     ]
    },
    {
     "name": "stdout",
     "output_type": "stream",
     "text": [
      "ra: 21 matched\n",
      "dec: 22 matched\n",
      "parallax: 0 matched\n",
      "pmra: 166 matched\n",
      "pmdec: 0 matched\n",
      "RV: 516 matched\n",
      "matched 3 params in Collinder_140:\n",
      "['ra' 'pmra' 'RV']\n",
      "Target not likely a cluster member\n",
      "cannot unpack non-iterable NoneType object\n",
      "Target: TOI 1733.01\n",
      "Querying Gaia DR2 catalog for ra,dec=(118.882 54.5966) within 3.0 arcsec.\n"
     ]
    },
    {
     "name": "stderr",
     "output_type": "stream",
     "text": [
      "\r",
      " 81%|████████▏ | 562/690 [42:18<09:35,  4.50s/it]"
     ]
    },
    {
     "name": "stdout",
     "output_type": "stream",
     "text": [
      "ra: 23 matched\n",
      "dec: 21 matched\n",
      "parallax: 14 matched\n",
      "pmra: 9 matched\n",
      "pmdec: 33 matched\n",
      "RV: 539 matched\n",
      "matched 3 params in ASCC_123:\n",
      "['dec' 'parallax' 'RV']\n",
      "Target not likely a cluster member\n",
      "cannot unpack non-iterable NoneType object\n",
      "Target: TOI 1734.01\n",
      "Querying Gaia DR2 catalog for ra,dec=(254.503 57.3053) within 3.0 arcsec.\n"
     ]
    },
    {
     "name": "stderr",
     "output_type": "stream",
     "text": [
      "\r",
      " 82%|████████▏ | 563/690 [42:23<09:28,  4.47s/it]"
     ]
    },
    {
     "name": "stdout",
     "output_type": "stream",
     "text": [
      "ra: 20 matched\n",
      "dec: 32 matched\n",
      "parallax: 9 matched\n",
      "pmra: 0 matched\n",
      "pmdec: 1 matched\n",
      "RV: 404 matched\n",
      "matched 3 params in NGC_7789:\n",
      "['ra' 'dec' 'RV']\n",
      "Target not likely a cluster member\n",
      "cannot unpack non-iterable NoneType object\n",
      "Target: TOI 1735.01\n",
      "Querying Gaia DR2 catalog for ra,dec=(313.339 64.2292) within 3.0 arcsec.\n"
     ]
    },
    {
     "name": "stderr",
     "output_type": "stream",
     "text": [
      "\r",
      " 82%|████████▏ | 564/690 [42:27<09:26,  4.49s/it]"
     ]
    },
    {
     "name": "stdout",
     "output_type": "stream",
     "text": [
      "ra: 11 matched\n",
      "dec: 25 matched\n",
      "parallax: 2 matched\n",
      "pmra: 0 matched\n",
      "pmdec: 0 matched\n",
      "RV: 0 matched\n",
      "matched 1 params in ASCC_127:\n",
      "['dec']\n",
      "Target not likely a cluster member\n",
      "cannot unpack non-iterable NoneType object\n",
      "Target: TOI 1736.01\n",
      "Querying Gaia DR2 catalog for ra,dec=(43.4345 69.1013) within 3.0 arcsec.\n"
     ]
    },
    {
     "name": "stderr",
     "output_type": "stream",
     "text": [
      "\r",
      " 82%|████████▏ | 565/690 [42:32<09:18,  4.47s/it]"
     ]
    },
    {
     "name": "stdout",
     "output_type": "stream",
     "text": [
      "ra: 12 matched\n",
      "dec: 3 matched\n",
      "parallax: 0 matched\n",
      "pmra: 0 matched\n",
      "pmdec: 5 matched\n",
      "RV: 500 matched\n",
      "matched 2 params in ASCC_9:\n",
      "['ra' 'RV']\n",
      "Target not likely a cluster member\n",
      "cannot unpack non-iterable NoneType object\n",
      "Target: TOI 1737.01\n",
      "Querying Gaia DR2 catalog for ra,dec=(248.253 72.9255) within 3.0 arcsec.\n"
     ]
    },
    {
     "name": "stderr",
     "output_type": "stream",
     "text": [
      "\r",
      " 82%|████████▏ | 566/690 [42:36<09:17,  4.50s/it]"
     ]
    },
    {
     "name": "stdout",
     "output_type": "stream",
     "text": [
      "ra: 13 matched\n",
      "dec: 3 matched\n",
      "parallax: 9 matched\n",
      "pmra: 2 matched\n",
      "pmdec: 0 matched\n",
      "RV: 511 matched\n",
      "matched 3 params in Melotte_20:\n",
      "['parallax' 'pmra' 'RV']\n",
      "Target not likely a cluster member\n",
      "cannot unpack non-iterable NoneType object\n",
      "Target: TOI 1738.01\n",
      "Querying Gaia DR2 catalog for ra,dec=(54.5022 50.9551) within 3.0 arcsec.\n"
     ]
    },
    {
     "name": "stderr",
     "output_type": "stream",
     "text": [
      "\r",
      " 82%|████████▏ | 567/690 [42:41<09:08,  4.46s/it]"
     ]
    },
    {
     "name": "stdout",
     "output_type": "stream",
     "text": [
      "ra: 14 matched\n",
      "dec: 24 matched\n",
      "parallax: 6 matched\n",
      "pmra: 1 matched\n",
      "pmdec: 0 matched\n",
      "RV: 521 matched\n",
      "matched 4 params in Melotte_20:\n",
      "['ra' 'dec' 'pmra' 'RV']\n",
      "Target: TOI 1739.01\n",
      "Querying Gaia DR2 catalog for ra,dec=(240.172 83.2587) within 3.0 arcsec.\n"
     ]
    },
    {
     "name": "stderr",
     "output_type": "stream",
     "text": [
      "\r",
      " 82%|████████▏ | 568/690 [42:45<09:05,  4.47s/it]"
     ]
    },
    {
     "name": "stdout",
     "output_type": "stream",
     "text": [
      "ra: 9 matched\n",
      "dec: 0 matched\n",
      "parallax: 0 matched\n",
      "pmra: 0 matched\n",
      "pmdec: 0 matched\n",
      "RV: 496 matched\n",
      "matched 2 params in NGC_6025:\n",
      "['ra' 'RV']\n",
      "Target not likely a cluster member\n",
      "cannot unpack non-iterable NoneType object\n",
      "Target: TOI 1740.01\n",
      "Querying Gaia DR2 catalog for ra,dec=(351.018 43.3767) within 3.0 arcsec.\n"
     ]
    },
    {
     "name": "stderr",
     "output_type": "stream",
     "text": [
      "\r",
      " 82%|████████▏ | 569/690 [42:50<08:58,  4.45s/it]"
     ]
    },
    {
     "name": "stdout",
     "output_type": "stream",
     "text": [
      "ra: 15 matched\n",
      "dec: 28 matched\n",
      "parallax: 2 matched\n",
      "pmra: 0 matched\n",
      "pmdec: 1 matched\n",
      "RV: 513 matched\n",
      "matched 2 params in ASCC_11:\n",
      "['dec' 'RV']\n",
      "Target not likely a cluster member\n",
      "cannot unpack non-iterable NoneType object\n",
      "Target: TOI 1741.01\n",
      "Querying Gaia DR2 catalog for ra,dec=(247.043 63.4991) within 3.0 arcsec.\n"
     ]
    },
    {
     "name": "stderr",
     "output_type": "stream",
     "text": [
      "\r",
      " 83%|████████▎ | 570/690 [42:54<09:09,  4.58s/it]"
     ]
    },
    {
     "name": "stdout",
     "output_type": "stream",
     "text": [
      "ra: 13 matched\n",
      "dec: 28 matched\n",
      "parallax: 0 matched\n",
      "pmra: 0 matched\n",
      "pmdec: 0 matched\n",
      "RV: 514 matched\n",
      "matched 2 params in Berkeley_63:\n",
      "['dec' 'RV']\n",
      "Target not likely a cluster member\n",
      "cannot unpack non-iterable NoneType object\n",
      "Target: TOI 1742.01\n",
      "Querying Gaia DR2 catalog for ra,dec=(257.329 71.8767) within 3.0 arcsec.\n"
     ]
    },
    {
     "name": "stderr",
     "output_type": "stream",
     "text": [
      "\r",
      " 83%|████████▎ | 571/690 [42:59<09:03,  4.57s/it]"
     ]
    },
    {
     "name": "stdout",
     "output_type": "stream",
     "text": [
      "ra: 12 matched\n",
      "dec: 4 matched\n",
      "parallax: 0 matched\n",
      "pmra: 2 matched\n",
      "pmdec: 0 matched\n",
      "RV: 479 matched\n",
      "matched 2 params in ASCC_87:\n",
      "['ra' 'RV']\n",
      "Target not likely a cluster member\n",
      "cannot unpack non-iterable NoneType object\n",
      "Target: TOI 1743.01\n",
      "Querying Gaia DR2 catalog for ra,dec=(257.747 71.8722) within 3.0 arcsec.\n"
     ]
    },
    {
     "name": "stderr",
     "output_type": "stream",
     "text": [
      "\r",
      " 83%|████████▎ | 572/690 [43:04<08:56,  4.55s/it]"
     ]
    },
    {
     "name": "stdout",
     "output_type": "stream",
     "text": [
      "ra: 12 matched\n",
      "dec: 4 matched\n",
      "parallax: 0 matched\n",
      "pmra: 0 matched\n",
      "pmdec: 0 matched\n",
      "RV: 0 matched\n",
      "matched 1 params in ASCC_87:\n",
      "['ra']\n",
      "Target not likely a cluster member\n",
      "cannot unpack non-iterable NoneType object\n",
      "Target: TOI 1744.01\n",
      "Querying Gaia DR2 catalog for ra,dec=(294.291 60.8813) within 3.0 arcsec.\n"
     ]
    },
    {
     "name": "stderr",
     "output_type": "stream",
     "text": [
      "\r",
      " 83%|████████▎ | 573/690 [43:08<08:44,  4.49s/it]"
     ]
    },
    {
     "name": "stdout",
     "output_type": "stream",
     "text": [
      "ra: 16 matched\n",
      "dec: 43 matched\n",
      "parallax: 2 matched\n",
      "pmra: 634 matched\n",
      "pmdec: 7 matched\n",
      "RV: 522 matched\n",
      "matched 3 params in Alessi_Teutsch_5:\n",
      "['dec' 'pmra' 'RV']\n",
      "Target not likely a cluster member\n",
      "cannot unpack non-iterable NoneType object\n",
      "Target: TOI 1745.01\n",
      "Querying Gaia DR2 catalog for ra,dec=(281.136 54.9499) within 3.0 arcsec.\n",
      "There are 2 gaia sources within 3.0 arcsec.\n"
     ]
    },
    {
     "name": "stderr",
     "output_type": "stream",
     "text": [
      "\r",
      " 83%|████████▎ | 574/690 [43:12<08:43,  4.51s/it]"
     ]
    },
    {
     "name": "stdout",
     "output_type": "stream",
     "text": [
      "ra: 16 matched\n",
      "dec: 19 matched\n",
      "parallax: 0 matched\n",
      "pmra: 0 matched\n",
      "pmdec: 1 matched\n",
      "RV: 549 matched\n",
      "matched 2 params in ASCC_123:\n",
      "['dec' 'RV']\n",
      "Target not likely a cluster member\n",
      "cannot unpack non-iterable NoneType object\n",
      "Target: TOI 1746.01\n",
      "Querying Gaia DR2 catalog for ra,dec=(281.768 54.9107) within 3.0 arcsec.\n",
      "There are 2 gaia sources within 3.0 arcsec.\n"
     ]
    },
    {
     "name": "stderr",
     "output_type": "stream",
     "text": [
      "\r",
      " 83%|████████▎ | 575/690 [43:17<08:39,  4.52s/it]"
     ]
    },
    {
     "name": "stdout",
     "output_type": "stream",
     "text": [
      "ra: 27 matched\n",
      "dec: 29 matched\n",
      "parallax: 0 matched\n",
      "pmra: 9 matched\n",
      "pmdec: 0 matched\n",
      "RV: 0 matched\n",
      "matched 2 params in ASCC_123:\n",
      "['dec' 'pmra']\n",
      "Target not likely a cluster member\n",
      "cannot unpack non-iterable NoneType object\n",
      "Target: TOI 1747.01\n",
      "Querying Gaia DR2 catalog for ra,dec=(270.806 60.6752) within 3.0 arcsec.\n"
     ]
    },
    {
     "name": "stderr",
     "output_type": "stream",
     "text": [
      "\r",
      " 83%|████████▎ | 576/690 [43:21<08:33,  4.51s/it]"
     ]
    },
    {
     "name": "stdout",
     "output_type": "stream",
     "text": [
      "ra: 14 matched\n",
      "dec: 37 matched\n",
      "parallax: 0 matched\n",
      "pmra: 0 matched\n",
      "pmdec: 0 matched\n",
      "RV: 505 matched\n",
      "matched 2 params in Alessi_19:\n",
      "['ra' 'RV']\n",
      "Target not likely a cluster member\n",
      "cannot unpack non-iterable NoneType object\n",
      "Target: TOI 1748.01\n",
      "Querying Gaia DR2 catalog for ra,dec=(270.739 60.4176) within 3.0 arcsec.\n"
     ]
    },
    {
     "name": "stderr",
     "output_type": "stream",
     "text": [
      "\r",
      " 84%|████████▎ | 577/690 [43:26<08:29,  4.51s/it]"
     ]
    },
    {
     "name": "stdout",
     "output_type": "stream",
     "text": [
      "ra: 15 matched\n",
      "dec: 40 matched\n",
      "parallax: 2 matched\n",
      "pmra: 3 matched\n",
      "pmdec: 0 matched\n",
      "RV: 504 matched\n",
      "matched 3 params in Melotte_20:\n",
      "['dec' 'pmra' 'RV']\n",
      "Target not likely a cluster member\n",
      "cannot unpack non-iterable NoneType object\n",
      "Target: TOI 1749.01\n",
      "Querying Gaia DR2 catalog for ra,dec=(282.737 64.4195) within 3.0 arcsec.\n"
     ]
    },
    {
     "name": "stderr",
     "output_type": "stream",
     "text": [
      "\r",
      " 84%|████████▍ | 578/690 [43:30<08:23,  4.50s/it]"
     ]
    },
    {
     "name": "stdout",
     "output_type": "stream",
     "text": [
      "ra: 19 matched\n",
      "dec: 24 matched\n",
      "parallax: 2 matched\n",
      "pmra: 0 matched\n",
      "pmdec: 0 matched\n",
      "RV: 548 matched\n",
      "matched 2 params in ASCC_127:\n",
      "['dec' 'RV']\n",
      "Target not likely a cluster member\n",
      "cannot unpack non-iterable NoneType object\n",
      "Target: TOI 1749.02\n",
      "Querying Gaia DR2 catalog for ra,dec=(282.737 64.4195) within 3.0 arcsec.\n"
     ]
    },
    {
     "name": "stderr",
     "output_type": "stream",
     "text": [
      "\r",
      " 84%|████████▍ | 579/690 [43:35<08:15,  4.47s/it]"
     ]
    },
    {
     "name": "stdout",
     "output_type": "stream",
     "text": [
      "ra: 19 matched\n",
      "dec: 24 matched\n",
      "parallax: 2 matched\n",
      "pmra: 0 matched\n",
      "pmdec: 0 matched\n",
      "RV: 548 matched\n",
      "matched 2 params in ASCC_127:\n",
      "['dec' 'RV']\n",
      "Target not likely a cluster member\n",
      "cannot unpack non-iterable NoneType object\n",
      "Target: TOI 1750.01\n",
      "Querying Gaia DR2 catalog for ra,dec=(240.302 68.9373) within 3.0 arcsec.\n"
     ]
    },
    {
     "name": "stderr",
     "output_type": "stream",
     "text": [
      "\r",
      " 84%|████████▍ | 580/690 [43:39<08:06,  4.43s/it]"
     ]
    },
    {
     "name": "stdout",
     "output_type": "stream",
     "text": [
      "ra: 9 matched\n",
      "dec: 4 matched\n",
      "parallax: 9 matched\n",
      "pmra: 0 matched\n",
      "pmdec: 0 matched\n",
      "RV: 518 matched\n",
      "matched 2 params in Alessi_9:\n",
      "['parallax' 'RV']\n",
      "Target not likely a cluster member\n",
      "cannot unpack non-iterable NoneType object\n",
      "Target: TOI 1751.01\n",
      "Querying Gaia DR2 catalog for ra,dec=(243.489 63.5335) within 3.0 arcsec.\n"
     ]
    },
    {
     "name": "stderr",
     "output_type": "stream",
     "text": [
      "\r",
      " 84%|████████▍ | 581/690 [43:44<08:05,  4.46s/it]"
     ]
    },
    {
     "name": "stdout",
     "output_type": "stream",
     "text": [
      "ra: 12 matched\n",
      "dec: 27 matched\n",
      "parallax: 2 matched\n",
      "pmra: 13 matched\n",
      "pmdec: 0 matched\n",
      "RV: 405 matched\n",
      "matched 2 params in ASCC_127:\n",
      "['dec' 'pmra']\n",
      "Target not likely a cluster member\n",
      "cannot unpack non-iterable NoneType object\n",
      "Target: TOI 1752.01\n",
      "Querying Gaia DR2 catalog for ra,dec=(253.461 60.7096) within 3.0 arcsec.\n"
     ]
    },
    {
     "name": "stderr",
     "output_type": "stream",
     "text": [
      "\r",
      " 84%|████████▍ | 582/690 [43:48<08:00,  4.45s/it]"
     ]
    },
    {
     "name": "stdout",
     "output_type": "stream",
     "text": [
      "ra: 18 matched\n",
      "dec: 37 matched\n",
      "parallax: 2 matched\n",
      "pmra: 0 matched\n",
      "pmdec: 0 matched\n",
      "RV: 0 matched\n",
      "matched 1 params in ASCC_85:\n",
      "['ra']\n",
      "Target not likely a cluster member\n",
      "cannot unpack non-iterable NoneType object\n",
      "Target: TOI 1753.01\n",
      "Querying Gaia DR2 catalog for ra,dec=(252.47 61.1736) within 3.0 arcsec.\n"
     ]
    },
    {
     "name": "stderr",
     "output_type": "stream",
     "text": [
      "\r",
      " 84%|████████▍ | 583/690 [43:53<07:58,  4.47s/it]"
     ]
    },
    {
     "name": "stdout",
     "output_type": "stream",
     "text": [
      "ra: 15 matched\n",
      "dec: 41 matched\n",
      "parallax: 10 matched\n",
      "pmra: 646 matched\n",
      "pmdec: 8 matched\n",
      "RV: 517 matched\n",
      "matched 3 params in ASCC_87:\n",
      "['ra' 'pmra' 'RV']\n",
      "Target not likely a cluster member\n",
      "cannot unpack non-iterable NoneType object\n",
      "Target: TOI 1754.01\n",
      "Querying Gaia DR2 catalog for ra,dec=(265.594 57.4478) within 3.0 arcsec.\n"
     ]
    },
    {
     "name": "stderr",
     "output_type": "stream",
     "text": [
      "\r",
      " 85%|████████▍ | 584/690 [43:57<07:51,  4.45s/it]"
     ]
    },
    {
     "name": "stdout",
     "output_type": "stream",
     "text": [
      "ra: 17 matched\n",
      "dec: 34 matched\n",
      "parallax: 0 matched\n",
      "pmra: 79 matched\n",
      "pmdec: 10 matched\n",
      "RV: 535 matched\n",
      "matched 3 params in Alessi_9:\n",
      "['ra' 'pmdec' 'RV']\n",
      "Target not likely a cluster member\n",
      "cannot unpack non-iterable NoneType object\n",
      "Target: TOI 1756.01\n",
      "Querying Gaia DR2 catalog for ra,dec=(306.329 77.6364) within 3.0 arcsec.\n"
     ]
    },
    {
     "name": "stderr",
     "output_type": "stream",
     "text": [
      "\r",
      " 85%|████████▍ | 585/690 [44:02<07:50,  4.48s/it]"
     ]
    },
    {
     "name": "stdout",
     "output_type": "stream",
     "text": [
      "ra: 14 matched\n",
      "dec: 1 matched\n",
      "parallax: 0 matched\n",
      "pmra: 17 matched\n",
      "pmdec: 0 matched\n",
      "RV: 523 matched\n",
      "matched 2 params in ASCC_111:\n",
      "['ra' 'RV']\n",
      "Target not likely a cluster member\n",
      "cannot unpack non-iterable NoneType object\n",
      "Target: TOI 1757.01\n",
      "Querying Gaia DR2 catalog for ra,dec=(255.401 79.0671) within 3.0 arcsec.\n"
     ]
    },
    {
     "name": "stderr",
     "output_type": "stream",
     "text": [
      "\r",
      " 85%|████████▍ | 586/690 [44:06<07:46,  4.48s/it]"
     ]
    },
    {
     "name": "stdout",
     "output_type": "stream",
     "text": [
      "ra: 18 matched\n",
      "dec: 1 matched\n",
      "parallax: 2 matched\n",
      "pmra: 0 matched\n",
      "pmdec: 0 matched\n",
      "RV: 496 matched\n",
      "matched 2 params in ASCC_87:\n",
      "['ra' 'RV']\n",
      "Target not likely a cluster member\n",
      "cannot unpack non-iterable NoneType object\n",
      "Target: TOI 1758.01\n",
      "Querying Gaia DR2 catalog for ra,dec=(354.742 75.6852) within 3.0 arcsec.\n"
     ]
    },
    {
     "name": "stderr",
     "output_type": "stream",
     "text": [
      "\r",
      " 85%|████████▌ | 587/690 [44:11<07:44,  4.51s/it]"
     ]
    },
    {
     "name": "stdout",
     "output_type": "stream",
     "text": [
      "ra: 8 matched\n",
      "dec: 2 matched\n",
      "parallax: 2 matched\n",
      "pmra: 0 matched\n",
      "pmdec: 2 matched\n",
      "RV: 496 matched\n",
      "matched 2 params in Aveni_Hunter_1:\n",
      "['ra' 'RV']\n",
      "Target not likely a cluster member\n",
      "cannot unpack non-iterable NoneType object\n",
      "Target: TOI 1759.01\n",
      "Querying Gaia DR2 catalog for ra,dec=(326.852 62.7538) within 3.0 arcsec.\n"
     ]
    },
    {
     "name": "stderr",
     "output_type": "stream",
     "text": [
      "\r",
      " 85%|████████▌ | 588/690 [44:15<07:40,  4.52s/it]"
     ]
    },
    {
     "name": "stdout",
     "output_type": "stream",
     "text": [
      "ra: 11 matched\n",
      "dec: 29 matched\n",
      "parallax: 0 matched\n",
      "pmra: 0 matched\n",
      "pmdec: 22 matched\n",
      "RV: 349 matched\n",
      "matched 2 params in Alessi_Teutsch_12:\n",
      "['pmdec' 'RV']\n",
      "Target not likely a cluster member\n",
      "cannot unpack non-iterable NoneType object\n",
      "Target: TOI 1760.01\n",
      "Querying Gaia DR2 catalog for ra,dec=(290.174 73.196) within 3.0 arcsec.\n"
     ]
    },
    {
     "name": "stderr",
     "output_type": "stream",
     "text": [
      "\r",
      " 85%|████████▌ | 589/690 [44:21<08:02,  4.78s/it]"
     ]
    },
    {
     "name": "stdout",
     "output_type": "stream",
     "text": [
      "ra: 12 matched\n",
      "dec: 3 matched\n",
      "parallax: 0 matched\n",
      "pmra: 19 matched\n",
      "pmdec: 0 matched\n",
      "RV: 0 matched\n",
      "matched 2 params in Platais_3:\n",
      "['dec' 'pmra']\n",
      "Target not likely a cluster member\n",
      "cannot unpack non-iterable NoneType object\n",
      "Target: TOI 1761.01\n",
      "Querying Gaia DR2 catalog for ra,dec=(281.578 75.3034) within 3.0 arcsec.\n"
     ]
    },
    {
     "name": "stderr",
     "output_type": "stream",
     "text": [
      "\r",
      " 86%|████████▌ | 590/690 [44:25<07:48,  4.69s/it]"
     ]
    },
    {
     "name": "stdout",
     "output_type": "stream",
     "text": [
      "ra: 15 matched\n",
      "dec: 2 matched\n",
      "parallax: 10 matched\n",
      "pmra: 3 matched\n",
      "pmdec: 2 matched\n",
      "RV: 511 matched\n",
      "matched 2 params in ASCC_123:\n",
      "['parallax' 'RV']\n",
      "Target not likely a cluster member\n",
      "cannot unpack non-iterable NoneType object\n",
      "Target: TOI 1762.01\n",
      "Querying Gaia DR2 catalog for ra,dec=(17.915 79.1655) within 3.0 arcsec.\n"
     ]
    },
    {
     "name": "stderr",
     "output_type": "stream",
     "text": [
      "\r",
      " 86%|████████▌ | 591/690 [44:30<07:37,  4.62s/it]"
     ]
    },
    {
     "name": "stdout",
     "output_type": "stream",
     "text": [
      "ra: 9 matched\n",
      "dec: 1 matched\n",
      "parallax: 10 matched\n",
      "pmra: 0 matched\n",
      "pmdec: 5 matched\n",
      "RV: 528 matched\n",
      "matched 3 params in Melotte_20:\n",
      "['parallax' 'pmdec' 'RV']\n",
      "Target not likely a cluster member\n",
      "cannot unpack non-iterable NoneType object\n",
      "Target: TOI 1763.01\n",
      "Querying Gaia DR2 catalog for ra,dec=(259.564 74.3027) within 3.0 arcsec.\n"
     ]
    },
    {
     "name": "stderr",
     "output_type": "stream",
     "text": [
      "\r",
      " 86%|████████▌ | 592/690 [44:34<07:30,  4.59s/it]"
     ]
    },
    {
     "name": "stdout",
     "output_type": "stream",
     "text": [
      "ra: 16 matched\n",
      "dec: 1 matched\n",
      "parallax: 0 matched\n",
      "pmra: 276 matched\n",
      "pmdec: 0 matched\n",
      "RV: 0 matched\n",
      "matched 2 params in Gulliver_14:\n",
      "['ra' 'pmra']\n",
      "Target not likely a cluster member\n",
      "cannot unpack non-iterable NoneType object\n",
      "Target: TOI 1764.01\n",
      "Querying Gaia DR2 catalog for ra,dec=(277.293 55.3131) within 3.0 arcsec.\n",
      "There are 2 gaia sources within 3.0 arcsec.\n"
     ]
    },
    {
     "name": "stderr",
     "output_type": "stream",
     "text": [
      "\r",
      " 86%|████████▌ | 593/690 [44:38<07:18,  4.52s/it]"
     ]
    },
    {
     "name": "stdout",
     "output_type": "stream",
     "text": [
      "ra: 17 matched\n",
      "dec: 23 matched\n",
      "parallax: 0 matched\n",
      "pmra: 0 matched\n",
      "pmdec: 23 matched\n",
      "RV: 0 matched\n",
      "matched 2 params in Alessi_9:\n",
      "['ra' 'pmdec']\n",
      "Target not likely a cluster member\n",
      "cannot unpack non-iterable NoneType object\n",
      "Target: TOI 1765.01\n",
      "Querying Gaia DR2 catalog for ra,dec=(234.242 67.4526) within 3.0 arcsec.\n"
     ]
    },
    {
     "name": "stderr",
     "output_type": "stream",
     "text": [
      "\r",
      " 86%|████████▌ | 594/690 [44:43<07:14,  4.53s/it]"
     ]
    },
    {
     "name": "stdout",
     "output_type": "stream",
     "text": [
      "ra: 10 matched\n",
      "dec: 11 matched\n",
      "parallax: 10 matched\n",
      "pmra: 2 matched\n",
      "pmdec: 2 matched\n",
      "RV: 430 matched\n",
      "matched 2 params in ASCC_79:\n",
      "['ra' 'RV']\n",
      "Target not likely a cluster member\n",
      "cannot unpack non-iterable NoneType object\n",
      "Target: TOI 1766.01\n",
      "Querying Gaia DR2 catalog for ra,dec=(148.643 40.3879) within 3.0 arcsec.\n"
     ]
    },
    {
     "name": "stderr",
     "output_type": "stream",
     "text": [
      "\r",
      " 86%|████████▌ | 595/690 [44:47<07:10,  4.53s/it]"
     ]
    },
    {
     "name": "stdout",
     "output_type": "stream",
     "text": [
      "ra: 10 matched\n",
      "dec: 23 matched\n",
      "parallax: 13 matched\n",
      "pmra: 4 matched\n",
      "pmdec: 6 matched\n",
      "RV: 0 matched\n",
      "matched 3 params in Melotte_20:\n",
      "['dec' 'parallax' 'pmdec']\n",
      "Target not likely a cluster member\n",
      "cannot unpack non-iterable NoneType object\n",
      "Target: TOI 1767.01\n",
      "Querying Gaia DR2 catalog for ra,dec=(140.103 33.8823) within 3.0 arcsec.\n"
     ]
    },
    {
     "name": "stderr",
     "output_type": "stream",
     "text": [
      "\r",
      " 86%|████████▋ | 596/690 [44:52<07:08,  4.56s/it]"
     ]
    },
    {
     "name": "stdout",
     "output_type": "stream",
     "text": [
      "ra: 9 matched\n",
      "dec: 25 matched\n",
      "parallax: 10 matched\n",
      "pmra: 642 matched\n",
      "pmdec: 6 matched\n",
      "RV: 532 matched\n",
      "matched 3 params in ASCC_10:\n",
      "['dec' 'pmra' 'RV']\n",
      "Target not likely a cluster member\n",
      "cannot unpack non-iterable NoneType object\n",
      "Target: TOI 1768.01\n",
      "Querying Gaia DR2 catalog for ra,dec=(152.103 55.54) within 3.0 arcsec.\n",
      "There are 2 gaia sources within 3.0 arcsec.\n"
     ]
    },
    {
     "name": "stderr",
     "output_type": "stream",
     "text": [
      "\r",
      " 87%|████████▋ | 597/690 [44:56<06:59,  4.51s/it]"
     ]
    },
    {
     "name": "stdout",
     "output_type": "stream",
     "text": [
      "ra: 12 matched\n",
      "dec: 23 matched\n",
      "parallax: 8 matched\n",
      "pmra: 8 matched\n",
      "pmdec: 2 matched\n",
      "RV: 538 matched\n",
      "matched 4 params in IC_2602:\n",
      "['ra' 'parallax' 'pmra' 'RV']\n",
      "Target not likely a cluster member\n",
      "cannot unpack non-iterable NoneType object\n",
      "Target: TOI 1769.01\n",
      "Querying Gaia DR2 catalog for ra,dec=(144 51.6078) within 3.0 arcsec.\n"
     ]
    },
    {
     "name": "stderr",
     "output_type": "stream",
     "text": [
      "\r",
      " 87%|████████▋ | 598/690 [45:01<06:53,  4.49s/it]"
     ]
    },
    {
     "name": "stdout",
     "output_type": "stream",
     "text": [
      "ra: 7 matched\n",
      "dec: 26 matched\n",
      "parallax: 0 matched\n",
      "pmra: 7 matched\n",
      "pmdec: 0 matched\n",
      "RV: 527 matched\n",
      "matched 3 params in Platais_8:\n",
      "['ra' 'pmra' 'RV']\n",
      "Target not likely a cluster member\n",
      "cannot unpack non-iterable NoneType object\n",
      "Target: TOI 1770.01\n",
      "Querying Gaia DR2 catalog for ra,dec=(141.368 50.9089) within 3.0 arcsec.\n"
     ]
    },
    {
     "name": "stderr",
     "output_type": "stream",
     "text": [
      "\r",
      " 87%|████████▋ | 599/690 [45:05<06:50,  4.51s/it]"
     ]
    },
    {
     "name": "stdout",
     "output_type": "stream",
     "text": [
      "ra: 11 matched\n",
      "dec: 26 matched\n",
      "parallax: 10 matched\n",
      "pmra: 4 matched\n",
      "pmdec: 12 matched\n",
      "RV: 527 matched\n",
      "matched 4 params in Platais_9:\n",
      "['ra' 'parallax' 'pmra' 'RV']\n",
      "Target not likely a cluster member\n",
      "cannot unpack non-iterable NoneType object\n",
      "Target: TOI 1771.01\n",
      "Querying Gaia DR2 catalog for ra,dec=(155.681 50.1287) within 3.0 arcsec.\n"
     ]
    },
    {
     "name": "stderr",
     "output_type": "stream",
     "text": [
      "\r",
      " 87%|████████▋ | 600/690 [45:10<06:42,  4.47s/it]"
     ]
    },
    {
     "name": "stdout",
     "output_type": "stream",
     "text": [
      "ra: 15 matched\n",
      "dec: 23 matched\n",
      "parallax: 0 matched\n",
      "pmra: 4 matched\n",
      "pmdec: 0 matched\n",
      "RV: 526 matched\n",
      "matched 2 params in Alessi_1:\n",
      "['dec' 'RV']\n",
      "Target not likely a cluster member\n",
      "cannot unpack non-iterable NoneType object\n",
      "Target: TOI 1772.01\n",
      "Querying Gaia DR2 catalog for ra,dec=(156.838 34.3909) within 3.0 arcsec.\n"
     ]
    },
    {
     "name": "stderr",
     "output_type": "stream",
     "text": [
      "\r",
      " 87%|████████▋ | 601/690 [45:14<06:36,  4.46s/it]"
     ]
    },
    {
     "name": "stdout",
     "output_type": "stream",
     "text": [
      "ra: 14 matched\n",
      "dec: 23 matched\n",
      "parallax: 2 matched\n",
      "pmra: 1 matched\n",
      "pmdec: 7 matched\n",
      "RV: 524 matched\n",
      "matched 2 params in ASCC_10:\n",
      "['dec' 'RV']\n",
      "Target not likely a cluster member\n",
      "cannot unpack non-iterable NoneType object\n",
      "Target: TOI 1773.01\n",
      "Querying Gaia DR2 catalog for ra,dec=(133.147 28.3298) within 3.0 arcsec.\n"
     ]
    },
    {
     "name": "stderr",
     "output_type": "stream",
     "text": [
      "\r",
      " 87%|████████▋ | 602/690 [45:19<06:33,  4.47s/it]"
     ]
    },
    {
     "name": "stdout",
     "output_type": "stream",
     "text": [
      "ra: 21 matched\n",
      "dec: 21 matched\n",
      "parallax: 0 matched\n",
      "pmra: 0 matched\n",
      "pmdec: 0 matched\n",
      "RV: 480 matched\n",
      "matched 2 params in ASCC_105:\n",
      "['dec' 'RV']\n",
      "Target not likely a cluster member\n",
      "cannot unpack non-iterable NoneType object\n",
      "Target: TOI 1774.01\n",
      "Querying Gaia DR2 catalog for ra,dec=(148.162 35.111) within 3.0 arcsec.\n"
     ]
    },
    {
     "name": "stderr",
     "output_type": "stream",
     "text": [
      "\r",
      " 87%|████████▋ | 603/690 [45:23<06:26,  4.45s/it]"
     ]
    },
    {
     "name": "stdout",
     "output_type": "stream",
     "text": [
      "ra: 8 matched\n",
      "dec: 29 matched\n",
      "parallax: 0 matched\n",
      "pmra: 0 matched\n",
      "pmdec: 0 matched\n",
      "RV: 374 matched\n",
      "matched 2 params in ASCC_10:\n",
      "['dec' 'RV']\n",
      "Target not likely a cluster member\n",
      "cannot unpack non-iterable NoneType object\n",
      "Target: TOI 1775.01\n",
      "Querying Gaia DR2 catalog for ra,dec=(150.115 39.4578) within 3.0 arcsec.\n"
     ]
    },
    {
     "name": "stderr",
     "output_type": "stream",
     "text": [
      "\r",
      " 88%|████████▊ | 604/690 [45:28<06:24,  4.47s/it]"
     ]
    },
    {
     "name": "stdout",
     "output_type": "stream",
     "text": [
      "ra: 12 matched\n",
      "dec: 21 matched\n",
      "parallax: 8 matched\n",
      "pmra: 214 matched\n",
      "pmdec: 5 matched\n",
      "RV: 513 matched\n",
      "matched 3 params in COIN-Gaia_13:\n",
      "['dec' 'pmra' 'RV']\n",
      "Target not likely a cluster member\n",
      "cannot unpack non-iterable NoneType object\n",
      "Target: TOI 1776.01\n",
      "Querying Gaia DR2 catalog for ra,dec=(164.777 40.9837) within 3.0 arcsec.\n"
     ]
    },
    {
     "name": "stderr",
     "output_type": "stream",
     "text": [
      "\r",
      " 88%|████████▊ | 605/690 [45:32<06:21,  4.48s/it]"
     ]
    },
    {
     "name": "stdout",
     "output_type": "stream",
     "text": [
      "ra: 12 matched\n",
      "dec: 22 matched\n",
      "parallax: 0 matched\n",
      "pmra: 0 matched\n",
      "pmdec: 2 matched\n",
      "RV: 500 matched\n",
      "matched 2 params in ASCC_108:\n",
      "['dec' 'RV']\n",
      "Target not likely a cluster member\n",
      "cannot unpack non-iterable NoneType object\n",
      "Target: TOI 1777.01\n",
      "Querying Gaia DR2 catalog for ra,dec=(151.807 46.1149) within 3.0 arcsec.\n"
     ]
    },
    {
     "name": "stderr",
     "output_type": "stream",
     "text": [
      "\r",
      " 88%|████████▊ | 606/690 [45:37<06:14,  4.46s/it]"
     ]
    },
    {
     "name": "stdout",
     "output_type": "stream",
     "text": [
      "ra: 13 matched\n",
      "dec: 36 matched\n",
      "parallax: 0 matched\n",
      "pmra: 544 matched\n",
      "pmdec: 5 matched\n",
      "RV: 523 matched\n",
      "matched 3 params in Aveni_Hunter_1:\n",
      "['dec' 'pmra' 'RV']\n",
      "Target not likely a cluster member\n",
      "cannot unpack non-iterable NoneType object\n",
      "Target: TOI 1778.01\n",
      "Querying Gaia DR2 catalog for ra,dec=(136.778 46.6724) within 3.0 arcsec.\n"
     ]
    },
    {
     "name": "stderr",
     "output_type": "stream",
     "text": [
      "\r",
      " 88%|████████▊ | 607/690 [45:41<06:14,  4.51s/it]"
     ]
    },
    {
     "name": "stdout",
     "output_type": "stream",
     "text": [
      "ra: 11 matched\n",
      "dec: 34 matched\n",
      "parallax: 2 matched\n",
      "pmra: 0 matched\n",
      "pmdec: 1 matched\n",
      "RV: 421 matched\n",
      "matched 2 params in ASCC_11:\n",
      "['dec' 'RV']\n",
      "Target not likely a cluster member\n",
      "cannot unpack non-iterable NoneType object\n",
      "Target: TOI 1779.01\n",
      "Querying Gaia DR2 catalog for ra,dec=(147.769 35.9686) within 3.0 arcsec.\n"
     ]
    },
    {
     "name": "stderr",
     "output_type": "stream",
     "text": [
      "\r",
      " 88%|████████▊ | 608/690 [45:46<06:09,  4.51s/it]"
     ]
    },
    {
     "name": "stdout",
     "output_type": "stream",
     "text": [
      "ra: 9 matched\n",
      "dec: 32 matched\n",
      "parallax: 0 matched\n",
      "pmra: 0 matched\n",
      "pmdec: 0 matched\n",
      "RV: 0 matched\n",
      "matched 1 params in ASCC_10:\n",
      "['dec']\n",
      "Target not likely a cluster member\n",
      "cannot unpack non-iterable NoneType object\n",
      "Target: TOI 1780.01\n",
      "Querying Gaia DR2 catalog for ra,dec=(165.167 64.9638) within 3.0 arcsec.\n"
     ]
    },
    {
     "name": "stderr",
     "output_type": "stream",
     "text": [
      "\r",
      " 88%|████████▊ | 609/690 [45:50<06:06,  4.52s/it]"
     ]
    },
    {
     "name": "stdout",
     "output_type": "stream",
     "text": [
      "ra: 12 matched\n",
      "dec: 17 matched\n",
      "parallax: 22 matched\n",
      "pmra: 6 matched\n",
      "pmdec: 1 matched\n",
      "RV: 0 matched\n",
      "matched 1 params in ASCC_123:\n",
      "['parallax']\n",
      "Target not likely a cluster member\n",
      "cannot unpack non-iterable NoneType object\n",
      "Target: TOI 1781.01\n",
      "Querying Gaia DR2 catalog for ra,dec=(150.573 53.9508) within 3.0 arcsec.\n"
     ]
    },
    {
     "name": "stderr",
     "output_type": "stream",
     "text": [
      "\r",
      " 88%|████████▊ | 610/690 [45:55<05:58,  4.48s/it]"
     ]
    },
    {
     "name": "stdout",
     "output_type": "stream",
     "text": [
      "ra: 14 matched\n",
      "dec: 18 matched\n",
      "parallax: 369 matched\n",
      "pmra: 34 matched\n",
      "pmdec: 5 matched\n",
      "RV: 623 matched\n",
      "matched 3 params in ASCC_71:\n",
      "['parallax' 'pmra' 'RV']\n",
      "Target not likely a cluster member\n",
      "cannot unpack non-iterable NoneType object\n",
      "Target: TOI 1782.01\n",
      "Querying Gaia DR2 catalog for ra,dec=(213.079 74.4118) within 3.0 arcsec.\n"
     ]
    },
    {
     "name": "stderr",
     "output_type": "stream",
     "text": [
      "\r",
      " 89%|████████▊ | 611/690 [45:59<05:52,  4.46s/it]"
     ]
    },
    {
     "name": "stdout",
     "output_type": "stream",
     "text": [
      "ra: 7 matched\n",
      "dec: 1 matched\n",
      "parallax: 2 matched\n",
      "pmra: 0 matched\n",
      "pmdec: 0 matched\n",
      "RV: 545 matched\n",
      "matched 2 params in Alessi_13:\n",
      "['parallax' 'RV']\n",
      "Target not likely a cluster member\n",
      "cannot unpack non-iterable NoneType object\n",
      "Target: TOI 1783.01\n",
      "Querying Gaia DR2 catalog for ra,dec=(287.681 64.1537) within 3.0 arcsec.\n",
      "There are 2 gaia sources within 3.0 arcsec.\n"
     ]
    },
    {
     "name": "stderr",
     "output_type": "stream",
     "text": [
      "\r",
      " 89%|████████▊ | 612/690 [46:04<05:49,  4.48s/it]"
     ]
    },
    {
     "name": "stdout",
     "output_type": "stream",
     "text": [
      "ra: 12 matched\n",
      "dec: 27 matched\n",
      "parallax: 0 matched\n",
      "pmra: 52 matched\n",
      "pmdec: 0 matched\n",
      "RV: 524 matched\n",
      "matched 3 params in NGC_886:\n",
      "['dec' 'pmra' 'RV']\n",
      "Target not likely a cluster member\n",
      "cannot unpack non-iterable NoneType object\n",
      "Target: TOI 1784.01\n",
      "Querying Gaia DR2 catalog for ra,dec=(153.55 29.0855) within 3.0 arcsec.\n"
     ]
    },
    {
     "name": "stderr",
     "output_type": "stream",
     "text": [
      "\r",
      " 89%|████████▉ | 613/690 [46:08<05:47,  4.51s/it]"
     ]
    },
    {
     "name": "stdout",
     "output_type": "stream",
     "text": [
      "ra: 13 matched\n",
      "dec: 25 matched\n",
      "parallax: 10 matched\n",
      "pmra: 2 matched\n",
      "pmdec: 23 matched\n",
      "RV: 551 matched\n",
      "matched 4 params in NGC_2632:\n",
      "['parallax' 'pmra' 'pmdec' 'RV']\n",
      "Target not likely a cluster member\n",
      "cannot unpack non-iterable NoneType object\n",
      "Target: TOI 1785.01\n",
      "Querying Gaia DR2 catalog for ra,dec=(285.729 63.9489) within 3.0 arcsec.\n"
     ]
    },
    {
     "name": "stderr",
     "output_type": "stream",
     "text": [
      "\r",
      " 89%|████████▉ | 614/690 [46:13<05:39,  4.47s/it]"
     ]
    },
    {
     "name": "stdout",
     "output_type": "stream",
     "text": [
      "ra: 11 matched\n",
      "dec: 30 matched\n",
      "parallax: 68 matched\n",
      "pmra: 408 matched\n",
      "pmdec: 8 matched\n",
      "RV: 497 matched\n",
      "matched 3 params in ASCC_127:\n",
      "['dec' 'parallax' 'RV']\n",
      "Target not likely a cluster member\n",
      "cannot unpack non-iterable NoneType object\n",
      "Target: TOI 1786.01\n",
      "Querying Gaia DR2 catalog for ra,dec=(141.721 61.699) within 3.0 arcsec.\n"
     ]
    },
    {
     "name": "stderr",
     "output_type": "stream",
     "text": [
      "\r",
      " 89%|████████▉ | 615/690 [46:17<05:34,  4.46s/it]"
     ]
    },
    {
     "name": "stdout",
     "output_type": "stream",
     "text": [
      "ra: 9 matched\n",
      "dec: 38 matched\n",
      "parallax: 12 matched\n",
      "pmra: 17 matched\n",
      "pmdec: 7 matched\n",
      "RV: 622 matched\n",
      "matched 3 params in Melotte_20:\n",
      "['dec' 'pmdec' 'RV']\n",
      "Target not likely a cluster member\n",
      "cannot unpack non-iterable NoneType object\n",
      "Target: TOI 1787.01\n",
      "Querying Gaia DR2 catalog for ra,dec=(152.33 39.1624) within 3.0 arcsec.\n"
     ]
    },
    {
     "name": "stderr",
     "output_type": "stream",
     "text": [
      "\r",
      " 89%|████████▉ | 616/690 [46:22<05:31,  4.48s/it]"
     ]
    },
    {
     "name": "stdout",
     "output_type": "stream",
     "text": [
      "ra: 11 matched\n",
      "dec: 23 matched\n",
      "parallax: 51 matched\n",
      "pmra: 2 matched\n",
      "pmdec: 1 matched\n",
      "RV: 0 matched\n",
      "matched 2 params in Melotte_20:\n",
      "['dec' 'pmdec']\n",
      "Target not likely a cluster member\n",
      "cannot unpack non-iterable NoneType object\n",
      "Target: TOI 1789.01\n",
      "Querying Gaia DR2 catalog for ra,dec=(142.743 26.54) within 3.0 arcsec.\n"
     ]
    },
    {
     "name": "stderr",
     "output_type": "stream",
     "text": [
      "\r",
      " 89%|████████▉ | 617/690 [46:26<05:24,  4.45s/it]"
     ]
    },
    {
     "name": "stdout",
     "output_type": "stream",
     "text": [
      "ra: 10 matched\n",
      "dec: 20 matched\n",
      "parallax: 10 matched\n",
      "pmra: 91 matched\n",
      "pmdec: 1 matched\n",
      "RV: 426 matched\n",
      "matched 2 params in ASCC_105:\n",
      "['dec' 'RV']\n",
      "Target not likely a cluster member\n",
      "cannot unpack non-iterable NoneType object\n",
      "Target: TOI 1790.01\n",
      "Querying Gaia DR2 catalog for ra,dec=(161.428 69.2008) within 3.0 arcsec.\n"
     ]
    },
    {
     "name": "stderr",
     "output_type": "stream",
     "text": [
      "\r",
      " 90%|████████▉ | 618/690 [46:30<05:19,  4.43s/it]"
     ]
    },
    {
     "name": "stdout",
     "output_type": "stream",
     "text": [
      "ra: 16 matched\n",
      "dec: 3 matched\n",
      "parallax: 10 matched\n",
      "pmra: 6 matched\n",
      "pmdec: 584 matched\n",
      "RV: 479 matched\n",
      "matched 3 params in IC_2602:\n",
      "['ra' 'parallax' 'RV']\n",
      "Target not likely a cluster member\n",
      "cannot unpack non-iterable NoneType object\n",
      "Target: TOI 1791.01\n",
      "Querying Gaia DR2 catalog for ra,dec=(260.763 63.1107) within 3.0 arcsec.\n"
     ]
    },
    {
     "name": "stderr",
     "output_type": "stream",
     "text": [
      "\r",
      " 90%|████████▉ | 619/690 [46:35<05:13,  4.41s/it]"
     ]
    },
    {
     "name": "stdout",
     "output_type": "stream",
     "text": [
      "ra: 12 matched\n",
      "dec: 27 matched\n",
      "parallax: 11 matched\n",
      "pmra: 8 matched\n",
      "pmdec: 108 matched\n",
      "RV: 512 matched\n",
      "matched 4 params in Alessi_9:\n",
      "['ra' 'parallax' 'pmdec' 'RV']\n",
      "Target not likely a cluster member\n",
      "cannot unpack non-iterable NoneType object\n",
      "Target: TOI 1792.01\n",
      "Querying Gaia DR2 catalog for ra,dec=(151.72 45.8833) within 3.0 arcsec.\n",
      "There are 2 gaia sources within 3.0 arcsec.\n"
     ]
    },
    {
     "name": "stderr",
     "output_type": "stream",
     "text": [
      "\r",
      " 90%|████████▉ | 620/690 [46:39<05:11,  4.44s/it]"
     ]
    },
    {
     "name": "stdout",
     "output_type": "stream",
     "text": [
      "ra: 13 matched\n",
      "dec: 39 matched\n",
      "parallax: 0 matched\n",
      "pmra: 0 matched\n",
      "pmdec: 1 matched\n",
      "RV: 541 matched\n",
      "matched 2 params in ASCC_11:\n",
      "['dec' 'RV']\n",
      "Target not likely a cluster member\n",
      "cannot unpack non-iterable NoneType object\n",
      "Target: TOI 1793.01\n",
      "Querying Gaia DR2 catalog for ra,dec=(164.856 -56.6236) within 3.0 arcsec.\n"
     ]
    },
    {
     "name": "stderr",
     "output_type": "stream",
     "text": [
      "\r",
      " 90%|█████████ | 621/690 [46:44<05:06,  4.44s/it]"
     ]
    },
    {
     "name": "stdout",
     "output_type": "stream",
     "text": [
      "ra: 11 matched\n",
      "dec: 32 matched\n",
      "parallax: 0 matched\n",
      "pmra: 0 matched\n",
      "pmdec: 0 matched\n",
      "RV: 181 matched\n",
      "matched 2 params in BH_99:\n",
      "['ra' 'dec']\n",
      "Target not likely a cluster member\n",
      "cannot unpack non-iterable NoneType object\n",
      "Target: TOI 1794.01\n",
      "Querying Gaia DR2 catalog for ra,dec=(203.397 49.0608) within 3.0 arcsec.\n"
     ]
    },
    {
     "name": "stderr",
     "output_type": "stream",
     "text": [
      "\r",
      " 90%|█████████ | 622/690 [46:48<05:00,  4.42s/it]"
     ]
    },
    {
     "name": "stdout",
     "output_type": "stream",
     "text": [
      "ra: 9 matched\n",
      "dec: 19 matched\n",
      "parallax: 9 matched\n",
      "pmra: 3 matched\n",
      "pmdec: 0 matched\n",
      "RV: 480 matched\n",
      "matched 3 params in Melotte_20:\n",
      "['dec' 'parallax' 'RV']\n",
      "Target not likely a cluster member\n",
      "cannot unpack non-iterable NoneType object\n",
      "Target: TOI 1795.01\n",
      "Querying Gaia DR2 catalog for ra,dec=(184.367 19.84) within 3.0 arcsec.\n"
     ]
    },
    {
     "name": "stderr",
     "output_type": "stream",
     "text": [
      "\r",
      " 90%|█████████ | 623/690 [46:53<04:58,  4.46s/it]"
     ]
    },
    {
     "name": "stdout",
     "output_type": "stream",
     "text": [
      "ra: 6 matched\n",
      "dec: 13 matched\n",
      "parallax: 10 matched\n",
      "pmra: 2 matched\n",
      "pmdec: 373 matched\n",
      "RV: 538 matched\n",
      "matched 3 params in ASCC_73:\n",
      "['ra' 'pmdec' 'RV']\n",
      "Target not likely a cluster member\n",
      "cannot unpack non-iterable NoneType object\n",
      "Target: TOI 1796.01\n",
      "Querying Gaia DR2 catalog for ra,dec=(175.551 26.7031) within 3.0 arcsec.\n"
     ]
    },
    {
     "name": "stderr",
     "output_type": "stream",
     "text": [
      "\r",
      " 90%|█████████ | 624/690 [46:57<04:56,  4.49s/it]"
     ]
    },
    {
     "name": "stdout",
     "output_type": "stream",
     "text": [
      "ra: 8 matched\n",
      "dec: 22 matched\n",
      "parallax: 0 matched\n",
      "pmra: 0 matched\n",
      "pmdec: 0 matched\n",
      "RV: 0 matched\n",
      "matched 1 params in ASCC_105:\n",
      "['dec']\n",
      "Target not likely a cluster member\n",
      "cannot unpack non-iterable NoneType object\n",
      "Target: TOI 1797.01\n",
      "Querying Gaia DR2 catalog for ra,dec=(162.777 25.6411) within 3.0 arcsec.\n"
     ]
    },
    {
     "name": "stderr",
     "output_type": "stream",
     "text": [
      "\r",
      " 91%|█████████ | 625/690 [47:02<04:54,  4.53s/it]"
     ]
    },
    {
     "name": "stdout",
     "output_type": "stream",
     "text": [
      "ra: 13 matched\n",
      "dec: 19 matched\n",
      "parallax: 0 matched\n",
      "pmra: 0 matched\n",
      "pmdec: 6 matched\n",
      "RV: 0 matched\n",
      "matched 1 params in ASCC_105:\n",
      "['dec']\n",
      "Target not likely a cluster member\n",
      "cannot unpack non-iterable NoneType object\n",
      "Target: TOI 1798.01\n",
      "Querying Gaia DR2 catalog for ra,dec=(211.094 46.5193) within 3.0 arcsec.\n"
     ]
    },
    {
     "name": "stderr",
     "output_type": "stream",
     "text": [
      "\r",
      " 91%|█████████ | 626/690 [47:06<04:50,  4.54s/it]"
     ]
    },
    {
     "name": "stdout",
     "output_type": "stream",
     "text": [
      "ra: 8 matched\n",
      "dec: 34 matched\n",
      "parallax: 2 matched\n",
      "pmra: 3 matched\n",
      "pmdec: 2 matched\n",
      "RV: 488 matched\n",
      "matched 3 params in Melotte_20:\n",
      "['dec' 'pmdec' 'RV']\n",
      "Target not likely a cluster member\n",
      "cannot unpack non-iterable NoneType object\n",
      "Target: TOI 1799.01\n",
      "Querying Gaia DR2 catalog for ra,dec=(167.233 34.303) within 3.0 arcsec.\n"
     ]
    },
    {
     "name": "stderr",
     "output_type": "stream",
     "text": [
      "\r",
      " 91%|█████████ | 627/690 [47:11<04:48,  4.58s/it]"
     ]
    },
    {
     "name": "stdout",
     "output_type": "stream",
     "text": [
      "ra: 15 matched\n",
      "dec: 24 matched\n",
      "parallax: 0 matched\n",
      "pmra: 41 matched\n",
      "pmdec: 1 matched\n",
      "RV: 477 matched\n",
      "matched 2 params in ASCC_10:\n",
      "['dec' 'RV']\n",
      "Target not likely a cluster member\n",
      "cannot unpack non-iterable NoneType object\n",
      "Target: TOI 1800.01\n",
      "Querying Gaia DR2 catalog for ra,dec=(171.275 41.028) within 3.0 arcsec.\n"
     ]
    },
    {
     "name": "stderr",
     "output_type": "stream",
     "text": [
      "\r",
      " 91%|█████████ | 628/690 [47:16<04:43,  4.58s/it]"
     ]
    },
    {
     "name": "stdout",
     "output_type": "stream",
     "text": [
      "ra: 6 matched\n",
      "dec: 21 matched\n",
      "parallax: 27 matched\n",
      "pmra: 571 matched\n",
      "pmdec: 7 matched\n",
      "RV: 384 matched\n",
      "matched 3 params in ASCC_108:\n",
      "['dec' 'pmra' 'RV']\n",
      "Target not likely a cluster member\n",
      "cannot unpack non-iterable NoneType object\n",
      "Target: TOI 1801.01\n",
      "Querying Gaia DR2 catalog for ra,dec=(175.576 23.027) within 3.0 arcsec.\n"
     ]
    },
    {
     "name": "stderr",
     "output_type": "stream",
     "text": [
      "\r",
      " 91%|█████████ | 629/690 [47:20<04:37,  4.55s/it]"
     ]
    },
    {
     "name": "stdout",
     "output_type": "stream",
     "text": [
      "ra: 8 matched\n",
      "dec: 21 matched\n",
      "parallax: 0 matched\n",
      "pmra: 0 matched\n",
      "pmdec: 0 matched\n",
      "RV: 538 matched\n",
      "matched 2 params in ASCC_105:\n",
      "['dec' 'RV']\n",
      "Target not likely a cluster member\n",
      "cannot unpack non-iterable NoneType object\n",
      "Target: TOI 1802.01\n",
      "Querying Gaia DR2 catalog for ra,dec=(164.255 24.8823) within 3.0 arcsec.\n"
     ]
    },
    {
     "name": "stderr",
     "output_type": "stream",
     "text": [
      "\r",
      " 91%|█████████▏| 630/690 [47:25<04:32,  4.55s/it]"
     ]
    },
    {
     "name": "stdout",
     "output_type": "stream",
     "text": [
      "ra: 13 matched\n",
      "dec: 24 matched\n",
      "parallax: 0 matched\n",
      "pmra: 0 matched\n",
      "pmdec: 5 matched\n",
      "RV: 489 matched\n",
      "matched 2 params in ASCC_105:\n",
      "['dec' 'RV']\n",
      "Target not likely a cluster member\n",
      "cannot unpack non-iterable NoneType object\n",
      "Target: TOI 1803.01\n",
      "Querying Gaia DR2 catalog for ra,dec=(178.046 35.1718) within 3.0 arcsec.\n"
     ]
    },
    {
     "name": "stderr",
     "output_type": "stream",
     "text": [
      "\r",
      " 91%|█████████▏| 631/690 [47:29<04:27,  4.53s/it]"
     ]
    },
    {
     "name": "stdout",
     "output_type": "stream",
     "text": [
      "ra: 6 matched\n",
      "dec: 31 matched\n",
      "parallax: 3 matched\n",
      "pmra: 0 matched\n",
      "pmdec: 259 matched\n",
      "RV: 537 matched\n",
      "matched 3 params in Roslund_6:\n",
      "['dec' 'pmdec' 'RV']\n",
      "Target not likely a cluster member\n",
      "cannot unpack non-iterable NoneType object\n",
      "Target: TOI 1803.02\n",
      "Querying Gaia DR2 catalog for ra,dec=(178.046 35.1718) within 3.0 arcsec.\n"
     ]
    },
    {
     "name": "stderr",
     "output_type": "stream",
     "text": [
      "\r",
      " 92%|█████████▏| 632/690 [47:33<04:20,  4.49s/it]"
     ]
    },
    {
     "name": "stdout",
     "output_type": "stream",
     "text": [
      "ra: 6 matched\n",
      "dec: 31 matched\n",
      "parallax: 3 matched\n",
      "pmra: 0 matched\n",
      "pmdec: 259 matched\n",
      "RV: 537 matched\n",
      "matched 3 params in Roslund_6:\n",
      "['dec' 'pmdec' 'RV']\n",
      "Target not likely a cluster member\n",
      "cannot unpack non-iterable NoneType object\n",
      "Target: TOI 1804.01\n",
      "Querying Gaia DR2 catalog for ra,dec=(172.171 46.4805) within 3.0 arcsec.\n"
     ]
    },
    {
     "name": "stderr",
     "output_type": "stream",
     "text": [
      "\r",
      " 92%|█████████▏| 633/690 [47:38<04:16,  4.50s/it]"
     ]
    },
    {
     "name": "stdout",
     "output_type": "stream",
     "text": [
      "ra: 8 matched\n",
      "dec: 32 matched\n",
      "parallax: 4 matched\n",
      "pmra: 313 matched\n",
      "pmdec: 2 matched\n",
      "RV: 496 matched\n",
      "matched 3 params in COIN-Gaia_13:\n",
      "['dec' 'pmra' 'RV']\n",
      "Target not likely a cluster member\n",
      "cannot unpack non-iterable NoneType object\n",
      "Target: TOI 1805.01\n",
      "Querying Gaia DR2 catalog for ra,dec=(232.14 55.1853) within 3.0 arcsec.\n"
     ]
    },
    {
     "name": "stderr",
     "output_type": "stream",
     "text": [
      "\r",
      " 92%|█████████▏| 634/690 [47:43<04:13,  4.53s/it]"
     ]
    },
    {
     "name": "stdout",
     "output_type": "stream",
     "text": [
      "ra: 7 matched\n",
      "dec: 20 matched\n",
      "parallax: 6 matched\n",
      "pmra: 0 matched\n",
      "pmdec: 6 matched\n",
      "RV: 445 matched\n",
      "matched 2 params in ASCC_79:\n",
      "['ra' 'RV']\n",
      "Target not likely a cluster member\n",
      "cannot unpack non-iterable NoneType object\n",
      "Target: TOI 1806.01\n",
      "Querying Gaia DR2 catalog for ra,dec=(166.118 30.4586) within 3.0 arcsec.\n"
     ]
    },
    {
     "name": "stderr",
     "output_type": "stream",
     "text": [
      "\r",
      " 92%|█████████▏| 635/690 [47:47<04:09,  4.54s/it]"
     ]
    },
    {
     "name": "stdout",
     "output_type": "stream",
     "text": [
      "ra: 10 matched\n",
      "dec: 16 matched\n",
      "parallax: 0 matched\n",
      "pmra: 0 matched\n",
      "pmdec: 1 matched\n",
      "RV: 0 matched\n",
      "matched 1 params in ASCC_105:\n",
      "['dec']\n",
      "Target not likely a cluster member\n",
      "cannot unpack non-iterable NoneType object\n",
      "Target: TOI 1807.01\n",
      "Querying Gaia DR2 catalog for ra,dec=(201.283 38.9224) within 3.0 arcsec.\n"
     ]
    },
    {
     "name": "stderr",
     "output_type": "stream",
     "text": [
      "\r",
      " 92%|█████████▏| 636/690 [47:52<04:04,  4.53s/it]"
     ]
    },
    {
     "name": "stdout",
     "output_type": "stream",
     "text": [
      "ra: 9 matched\n",
      "dec: 24 matched\n",
      "parallax: 0 matched\n",
      "pmra: 0 matched\n",
      "pmdec: 2 matched\n",
      "RV: 524 matched\n",
      "matched 3 params in Melotte_20:\n",
      "['dec' 'pmdec' 'RV']\n",
      "Target not likely a cluster member\n",
      "cannot unpack non-iterable NoneType object\n",
      "Target: TOI 1808.01\n",
      "Querying Gaia DR2 catalog for ra,dec=(171.597 28.0565) within 3.0 arcsec.\n"
     ]
    },
    {
     "name": "stderr",
     "output_type": "stream",
     "text": [
      "\r",
      " 92%|█████████▏| 637/690 [47:56<03:57,  4.49s/it]"
     ]
    },
    {
     "name": "stdout",
     "output_type": "stream",
     "text": [
      "ra: 6 matched\n",
      "dec: 20 matched\n",
      "parallax: 192 matched\n",
      "pmra: 5 matched\n",
      "pmdec: 472 matched\n",
      "RV: 531 matched\n",
      "matched 4 params in ASCC_105:\n",
      "['dec' 'parallax' 'pmdec' 'RV']\n",
      "Target not likely a cluster member\n",
      "cannot unpack non-iterable NoneType object\n",
      "Target: TOI 1809.01\n",
      "Querying Gaia DR2 catalog for ra,dec=(183.366 23.0557) within 3.0 arcsec.\n"
     ]
    },
    {
     "name": "stderr",
     "output_type": "stream",
     "text": [
      "\r",
      " 92%|█████████▏| 638/690 [48:01<03:53,  4.50s/it]"
     ]
    },
    {
     "name": "stdout",
     "output_type": "stream",
     "text": [
      "ra: 9 matched\n",
      "dec: 20 matched\n",
      "parallax: 40 matched\n",
      "pmra: 2 matched\n",
      "pmdec: 279 matched\n",
      "RV: 552 matched\n",
      "matched 3 params in NGC_2451B:\n",
      "['parallax' 'pmdec' 'RV']\n",
      "Target not likely a cluster member\n",
      "cannot unpack non-iterable NoneType object\n",
      "Target: TOI 1810.01\n",
      "Querying Gaia DR2 catalog for ra,dec=(188.266 44.9154) within 3.0 arcsec.\n"
     ]
    },
    {
     "name": "stderr",
     "output_type": "stream",
     "text": [
      "\r",
      " 93%|█████████▎| 639/690 [48:05<03:49,  4.50s/it]"
     ]
    },
    {
     "name": "stdout",
     "output_type": "stream",
     "text": [
      "ra: 9 matched\n",
      "dec: 33 matched\n",
      "parallax: 30 matched\n",
      "pmra: 22 matched\n",
      "pmdec: 14 matched\n",
      "RV: 517 matched\n",
      "matched 3 params in ASCC_73:\n",
      "['ra' 'pmra' 'RV']\n",
      "Target not likely a cluster member\n",
      "cannot unpack non-iterable NoneType object\n",
      "Target: TOI 1811.01\n",
      "Querying Gaia DR2 catalog for ra,dec=(188.922 27.2144) within 3.0 arcsec.\n"
     ]
    },
    {
     "name": "stderr",
     "output_type": "stream",
     "text": [
      "\r",
      " 93%|█████████▎| 640/690 [48:10<03:46,  4.52s/it]"
     ]
    },
    {
     "name": "stdout",
     "output_type": "stream",
     "text": [
      "ra: 9 matched\n",
      "dec: 21 matched\n",
      "parallax: 2 matched\n",
      "pmra: 0 matched\n",
      "pmdec: 18 matched\n",
      "RV: 533 matched\n",
      "matched 3 params in Ruprecht_98:\n",
      "['ra' 'pmdec' 'RV']\n",
      "Target not likely a cluster member\n",
      "cannot unpack non-iterable NoneType object\n",
      "Target: TOI 1812.01\n",
      "Querying Gaia DR2 catalog for ra,dec=(242.748 58.2946) within 3.0 arcsec.\n"
     ]
    },
    {
     "name": "stderr",
     "output_type": "stream",
     "text": [
      "\r",
      " 93%|█████████▎| 641/690 [48:14<03:40,  4.50s/it]"
     ]
    },
    {
     "name": "stdout",
     "output_type": "stream",
     "text": [
      "ra: 13 matched\n",
      "dec: 36 matched\n",
      "parallax: 10 matched\n",
      "pmra: 3 matched\n",
      "pmdec: 398 matched\n",
      "RV: 523 matched\n",
      "matched 4 params in Melotte_20:\n",
      "['dec' 'parallax' 'pmra' 'RV']\n",
      "Target not likely a cluster member\n",
      "cannot unpack non-iterable NoneType object\n",
      "Target: TOI 1812.03\n",
      "Querying Gaia DR2 catalog for ra,dec=(242.748 58.2946) within 3.0 arcsec.\n"
     ]
    },
    {
     "name": "stderr",
     "output_type": "stream",
     "text": [
      "\r",
      " 93%|█████████▎| 642/690 [48:19<03:35,  4.50s/it]"
     ]
    },
    {
     "name": "stdout",
     "output_type": "stream",
     "text": [
      "ra: 13 matched\n",
      "dec: 36 matched\n",
      "parallax: 10 matched\n",
      "pmra: 3 matched\n",
      "pmdec: 398 matched\n",
      "RV: 523 matched\n",
      "matched 4 params in Melotte_20:\n",
      "['dec' 'parallax' 'pmra' 'RV']\n",
      "Target not likely a cluster member\n",
      "cannot unpack non-iterable NoneType object\n",
      "Target: TOI 1813.01\n",
      "Querying Gaia DR2 catalog for ra,dec=(286.593 56.6293) within 3.0 arcsec.\n"
     ]
    },
    {
     "name": "stderr",
     "output_type": "stream",
     "text": [
      "\r",
      " 93%|█████████▎| 643/690 [48:23<03:32,  4.51s/it]"
     ]
    },
    {
     "name": "stdout",
     "output_type": "stream",
     "text": [
      "ra: 11 matched\n",
      "dec: 26 matched\n",
      "parallax: 29 matched\n",
      "pmra: 13 matched\n",
      "pmdec: 1 matched\n",
      "RV: 535 matched\n",
      "matched 3 params in ASCC_123:\n",
      "['dec' 'parallax' 'RV']\n",
      "Target not likely a cluster member\n",
      "cannot unpack non-iterable NoneType object\n",
      "Target: TOI 1814.01\n",
      "Querying Gaia DR2 catalog for ra,dec=(236.817 77.2326) within 3.0 arcsec.\n"
     ]
    },
    {
     "name": "stderr",
     "output_type": "stream",
     "text": [
      "\r",
      " 93%|█████████▎| 644/690 [48:28<03:27,  4.52s/it]"
     ]
    },
    {
     "name": "stdout",
     "output_type": "stream",
     "text": [
      "ra: 9 matched\n",
      "dec: 1 matched\n",
      "parallax: 64 matched\n",
      "pmra: 21 matched\n",
      "pmdec: 6 matched\n",
      "RV: 509 matched\n",
      "matched 3 params in ASCC_99:\n",
      "['parallax' 'pmra' 'RV']\n",
      "Target not likely a cluster member\n",
      "cannot unpack non-iterable NoneType object\n",
      "Target: TOI 1815.01\n",
      "Querying Gaia DR2 catalog for ra,dec=(276.379 63.4881) within 3.0 arcsec.\n"
     ]
    },
    {
     "name": "stderr",
     "output_type": "stream",
     "text": [
      "\r",
      " 93%|█████████▎| 645/690 [48:32<03:21,  4.48s/it]"
     ]
    },
    {
     "name": "stdout",
     "output_type": "stream",
     "text": [
      "ra: 17 matched\n",
      "dec: 28 matched\n",
      "parallax: 212 matched\n",
      "pmra: 202 matched\n",
      "pmdec: 321 matched\n",
      "RV: 558 matched\n",
      "matched 4 params in ASCC_23:\n",
      "['parallax' 'pmra' 'pmdec' 'RV']\n",
      "Target not likely a cluster member\n",
      "cannot unpack non-iterable NoneType object\n",
      "Target: TOI 1816.01\n",
      "Querying Gaia DR2 catalog for ra,dec=(257.139 78.5871) within 3.0 arcsec.\n"
     ]
    },
    {
     "name": "stderr",
     "output_type": "stream",
     "text": [
      "\r",
      " 94%|█████████▎| 646/690 [48:37<03:17,  4.49s/it]"
     ]
    },
    {
     "name": "stdout",
     "output_type": "stream",
     "text": [
      "ra: 14 matched\n",
      "dec: 1 matched\n",
      "parallax: 112 matched\n",
      "pmra: 5 matched\n",
      "pmdec: 3 matched\n",
      "RV: 509 matched\n",
      "matched 3 params in Alessi_9:\n",
      "['ra' 'parallax' 'RV']\n",
      "Target not likely a cluster member\n",
      "cannot unpack non-iterable NoneType object\n",
      "Target: TOI 1817.01\n",
      "Querying Gaia DR2 catalog for ra,dec=(186.582 46.4708) within 3.0 arcsec.\n"
     ]
    },
    {
     "name": "stderr",
     "output_type": "stream",
     "text": [
      "\r",
      " 94%|█████████▍| 647/690 [48:41<03:13,  4.50s/it]"
     ]
    },
    {
     "name": "stdout",
     "output_type": "stream",
     "text": [
      "ra: 11 matched\n",
      "dec: 33 matched\n",
      "parallax: 26 matched\n",
      "pmra: 4 matched\n",
      "pmdec: 311 matched\n",
      "RV: 538 matched\n",
      "matched 4 params in RSG_5:\n",
      "['dec' 'parallax' 'pmdec' 'RV']\n",
      "Target not likely a cluster member\n",
      "cannot unpack non-iterable NoneType object\n",
      "Target: TOI 1818.01\n",
      "Querying Gaia DR2 catalog for ra,dec=(193.131 34.901) within 3.0 arcsec.\n"
     ]
    },
    {
     "name": "stderr",
     "output_type": "stream",
     "text": [
      "\r",
      " 94%|█████████▍| 648/690 [48:46<03:07,  4.48s/it]"
     ]
    },
    {
     "name": "stdout",
     "output_type": "stream",
     "text": [
      "ra: 6 matched\n",
      "dec: 27 matched\n",
      "parallax: 78 matched\n",
      "pmra: 2 matched\n",
      "pmdec: 5 matched\n",
      "RV: 538 matched\n",
      "matched 3 params in ASCC_101:\n",
      "['dec' 'parallax' 'RV']\n",
      "Target not likely a cluster member\n",
      "cannot unpack non-iterable NoneType object\n",
      "Target: TOI 1819.01\n",
      "Querying Gaia DR2 catalog for ra,dec=(267.52 54.6361) within 3.0 arcsec.\n"
     ]
    },
    {
     "name": "stderr",
     "output_type": "stream",
     "text": [
      "\r",
      " 94%|█████████▍| 649/690 [48:50<03:02,  4.45s/it]"
     ]
    },
    {
     "name": "stdout",
     "output_type": "stream",
     "text": [
      "ra: 12 matched\n",
      "dec: 20 matched\n",
      "parallax: 9 matched\n",
      "pmra: 2 matched\n",
      "pmdec: 11 matched\n",
      "RV: 533 matched\n",
      "matched 4 params in Alessi_9:\n",
      "['ra' 'parallax' 'pmdec' 'RV']\n",
      "Target not likely a cluster member\n",
      "cannot unpack non-iterable NoneType object\n",
      "Target: TOI 1820.01\n",
      "Querying Gaia DR2 catalog for ra,dec=(187.687 27.452) within 3.0 arcsec.\n"
     ]
    },
    {
     "name": "stderr",
     "output_type": "stream",
     "text": [
      "\r",
      " 94%|█████████▍| 650/690 [48:54<02:59,  4.49s/it]"
     ]
    },
    {
     "name": "stdout",
     "output_type": "stream",
     "text": [
      "ra: 8 matched\n",
      "dec: 18 matched\n",
      "parallax: 14 matched\n",
      "pmra: 0 matched\n",
      "pmdec: 0 matched\n",
      "RV: 508 matched\n",
      "matched 2 params in ASCC_105:\n",
      "['dec' 'RV']\n",
      "Target not likely a cluster member\n",
      "cannot unpack non-iterable NoneType object\n",
      "Target: TOI 1821.01\n",
      "Querying Gaia DR2 catalog for ra,dec=(168.638 25.7106) within 3.0 arcsec.\n"
     ]
    },
    {
     "name": "stderr",
     "output_type": "stream",
     "text": [
      "\r",
      " 94%|█████████▍| 651/690 [48:59<02:55,  4.50s/it]"
     ]
    },
    {
     "name": "stdout",
     "output_type": "stream",
     "text": [
      "ra: 11 matched\n",
      "dec: 18 matched\n",
      "parallax: 0 matched\n",
      "pmra: 0 matched\n",
      "pmdec: 0 matched\n",
      "RV: 536 matched\n",
      "matched 2 params in ASCC_105:\n",
      "['dec' 'RV']\n",
      "Target not likely a cluster member\n",
      "cannot unpack non-iterable NoneType object\n",
      "Target: TOI 1822.01\n",
      "Querying Gaia DR2 catalog for ra,dec=(167.778 39.5267) within 3.0 arcsec.\n"
     ]
    },
    {
     "name": "stderr",
     "output_type": "stream",
     "text": [
      "\r",
      " 94%|█████████▍| 652/690 [49:04<02:51,  4.52s/it]"
     ]
    },
    {
     "name": "stdout",
     "output_type": "stream",
     "text": [
      "ra: 14 matched\n",
      "dec: 23 matched\n",
      "parallax: 37 matched\n",
      "pmra: 25 matched\n",
      "pmdec: 6 matched\n",
      "RV: 493 matched\n",
      "matched 3 params in ASCC_99:\n",
      "['parallax' 'pmra' 'RV']\n",
      "Target not likely a cluster member\n",
      "cannot unpack non-iterable NoneType object\n",
      "Target: TOI 1823.01\n",
      "Querying Gaia DR2 catalog for ra,dec=(196.22 63.7533) within 3.0 arcsec.\n"
     ]
    },
    {
     "name": "stderr",
     "output_type": "stream",
     "text": [
      "\r",
      " 95%|█████████▍| 653/690 [49:08<02:47,  4.53s/it]"
     ]
    },
    {
     "name": "stdout",
     "output_type": "stream",
     "text": [
      "ra: 6 matched\n",
      "dec: 26 matched\n",
      "parallax: 0 matched\n",
      "pmra: 0 matched\n",
      "pmdec: 0 matched\n",
      "RV: 523 matched\n",
      "matched 2 params in ASCC_127:\n",
      "['dec' 'RV']\n",
      "Target not likely a cluster member\n",
      "cannot unpack non-iterable NoneType object\n",
      "Target: TOI 1824.01\n",
      "Querying Gaia DR2 catalog for ra,dec=(197.731 61.7448) within 3.0 arcsec.\n"
     ]
    },
    {
     "name": "stderr",
     "output_type": "stream",
     "text": [
      "\r",
      " 95%|█████████▍| 654/690 [49:13<02:43,  4.53s/it]"
     ]
    },
    {
     "name": "stdout",
     "output_type": "stream",
     "text": [
      "ra: 5 matched\n",
      "dec: 36 matched\n",
      "parallax: 0 matched\n",
      "pmra: 28 matched\n",
      "pmdec: 3 matched\n",
      "RV: 533 matched\n",
      "matched 3 params in Platais_3:\n",
      "['dec' 'pmra' 'RV']\n",
      "Target not likely a cluster member\n",
      "cannot unpack non-iterable NoneType object\n",
      "Target: TOI 1825.01\n",
      "Querying Gaia DR2 catalog for ra,dec=(280.679 66.3031) within 3.0 arcsec.\n",
      "There are 2 gaia sources within 3.0 arcsec.\n"
     ]
    },
    {
     "name": "stderr",
     "output_type": "stream",
     "text": [
      "\r",
      " 95%|█████████▍| 655/690 [49:17<02:38,  4.53s/it]"
     ]
    },
    {
     "name": "stdout",
     "output_type": "stream",
     "text": [
      "ra: 15 matched\n",
      "dec: 16 matched\n",
      "parallax: 29 matched\n",
      "pmra: 480 matched\n",
      "pmdec: 0 matched\n",
      "RV: 390 matched\n",
      "matched 3 params in ASCC_99:\n",
      "['ra' 'parallax' 'RV']\n",
      "Target not likely a cluster member\n",
      "cannot unpack non-iterable NoneType object\n",
      "Target: TOI 1826.01\n",
      "Querying Gaia DR2 catalog for ra,dec=(292.459 62.5292) within 3.0 arcsec.\n"
     ]
    },
    {
     "name": "stderr",
     "output_type": "stream",
     "text": [
      "\r",
      " 95%|█████████▌| 656/690 [49:22<02:33,  4.53s/it]"
     ]
    },
    {
     "name": "stdout",
     "output_type": "stream",
     "text": [
      "ra: 15 matched\n",
      "dec: 33 matched\n",
      "parallax: 21 matched\n",
      "pmra: 3 matched\n",
      "pmdec: 150 matched\n",
      "RV: 507 matched\n",
      "matched 3 params in Alessi_9:\n",
      "['parallax' 'pmdec' 'RV']\n",
      "Target not likely a cluster member\n",
      "cannot unpack non-iterable NoneType object\n",
      "Target: TOI 1827.01\n",
      "Querying Gaia DR2 catalog for ra,dec=(191.982 9.74942) within 3.0 arcsec.\n"
     ]
    },
    {
     "name": "stderr",
     "output_type": "stream",
     "text": [
      "\r",
      " 95%|█████████▌| 657/690 [49:26<02:29,  4.52s/it]"
     ]
    },
    {
     "name": "stdout",
     "output_type": "stream",
     "text": [
      "ra: 8 matched\n",
      "dec: 10 matched\n",
      "parallax: 0 matched\n",
      "pmra: 0 matched\n",
      "pmdec: 0 matched\n",
      "RV: 0 matched\n",
      "matched 1 params in ASCC_73:\n",
      "['ra']\n",
      "Target not likely a cluster member\n",
      "cannot unpack non-iterable NoneType object\n",
      "Target: TOI 1828.01\n",
      "Querying Gaia DR2 catalog for ra,dec=(241.562 69.6218) within 3.0 arcsec.\n"
     ]
    },
    {
     "name": "stderr",
     "output_type": "stream",
     "text": [
      "\r",
      " 95%|█████████▌| 658/690 [49:31<02:24,  4.51s/it]"
     ]
    },
    {
     "name": "stdout",
     "output_type": "stream",
     "text": [
      "ra: 11 matched\n",
      "dec: 5 matched\n",
      "parallax: 65 matched\n",
      "pmra: 14 matched\n",
      "pmdec: 2 matched\n",
      "RV: 525 matched\n",
      "matched 3 params in Trumpler_10:\n",
      "['parallax' 'pmra' 'RV']\n",
      "Target not likely a cluster member\n",
      "cannot unpack non-iterable NoneType object\n",
      "Target: TOI 1829.01\n",
      "Querying Gaia DR2 catalog for ra,dec=(290.877 78.7542) within 3.0 arcsec.\n",
      "There are 2 gaia sources within 3.0 arcsec.\n"
     ]
    },
    {
     "name": "stderr",
     "output_type": "stream",
     "text": [
      "\r",
      " 96%|█████████▌| 659/690 [49:35<02:20,  4.52s/it]"
     ]
    },
    {
     "name": "stdout",
     "output_type": "stream",
     "text": [
      "ra: 11 matched\n",
      "dec: 1 matched\n",
      "parallax: 108 matched\n",
      "pmra: 577 matched\n",
      "pmdec: 116 matched\n",
      "RV: 0 matched\n",
      "matched 2 params in ASCC_10:\n",
      "['parallax' 'pmra']\n",
      "Target not likely a cluster member\n",
      "cannot unpack non-iterable NoneType object\n",
      "Target: TOI 1830.01\n",
      "Querying Gaia DR2 catalog for ra,dec=(226.181 38.6054) within 3.0 arcsec.\n"
     ]
    },
    {
     "name": "stderr",
     "output_type": "stream",
     "text": [
      "\r",
      " 96%|█████████▌| 660/690 [49:40<02:15,  4.52s/it]"
     ]
    },
    {
     "name": "stdout",
     "output_type": "stream",
     "text": [
      "ra: 9 matched\n",
      "dec: 25 matched\n",
      "parallax: 0 matched\n",
      "pmra: 7 matched\n",
      "pmdec: 0 matched\n",
      "RV: 533 matched\n",
      "matched 2 params in ASCC_101:\n",
      "['dec' 'RV']\n",
      "Target not likely a cluster member\n",
      "cannot unpack non-iterable NoneType object\n",
      "Target: TOI 1831.01\n",
      "Querying Gaia DR2 catalog for ra,dec=(200.453 17.7654) within 3.0 arcsec.\n"
     ]
    },
    {
     "name": "stderr",
     "output_type": "stream",
     "text": [
      "\r",
      " 96%|█████████▌| 661/690 [49:44<02:11,  4.53s/it]"
     ]
    },
    {
     "name": "stdout",
     "output_type": "stream",
     "text": [
      "ra: 5 matched\n",
      "dec: 9 matched\n",
      "parallax: 2 matched\n",
      "pmra: 6 matched\n",
      "pmdec: 14 matched\n",
      "RV: 512 matched\n",
      "matched 2 params in Alessi_19:\n",
      "['dec' 'RV']\n",
      "Target not likely a cluster member\n",
      "cannot unpack non-iterable NoneType object\n",
      "Target: TOI 1832.01\n",
      "Querying Gaia DR2 catalog for ra,dec=(256.662 63.7786) within 3.0 arcsec.\n"
     ]
    },
    {
     "name": "stderr",
     "output_type": "stream",
     "text": [
      "\r",
      " 96%|█████████▌| 662/690 [49:49<02:09,  4.61s/it]"
     ]
    },
    {
     "name": "stdout",
     "output_type": "stream",
     "text": [
      "ra: 12 matched\n",
      "dec: 26 matched\n",
      "parallax: 23 matched\n",
      "pmra: 5 matched\n",
      "pmdec: 7 matched\n",
      "RV: 0 matched\n",
      "matched 3 params in UPK_612:\n",
      "['ra' 'parallax' 'pmra']\n",
      "Target not likely a cluster member\n",
      "cannot unpack non-iterable NoneType object\n",
      "Target: TOI 1833.01\n",
      "Querying Gaia DR2 catalog for ra,dec=(205.454 -0.128172) within 3.0 arcsec.\n"
     ]
    },
    {
     "name": "stderr",
     "output_type": "stream",
     "text": [
      "\r",
      " 96%|█████████▌| 663/690 [49:54<02:04,  4.61s/it]"
     ]
    },
    {
     "name": "stdout",
     "output_type": "stream",
     "text": [
      "ra: 8 matched\n",
      "dec: 22 matched\n",
      "parallax: 16 matched\n",
      "pmra: 27 matched\n",
      "pmdec: 6 matched\n",
      "RV: 532 matched\n",
      "matched 3 params in UPK_599:\n",
      "['ra' 'pmra' 'RV']\n",
      "Target not likely a cluster member\n",
      "cannot unpack non-iterable NoneType object\n",
      "Target: TOI 1834.01\n",
      "Querying Gaia DR2 catalog for ra,dec=(202.294 31.4019) within 3.0 arcsec.\n"
     ]
    },
    {
     "name": "stderr",
     "output_type": "stream",
     "text": [
      "\r",
      " 96%|█████████▌| 664/690 [49:58<01:59,  4.59s/it]"
     ]
    },
    {
     "name": "stdout",
     "output_type": "stream",
     "text": [
      "ra: 12 matched\n",
      "dec: 16 matched\n",
      "parallax: 23 matched\n",
      "pmra: 0 matched\n",
      "pmdec: 74 matched\n",
      "RV: 545 matched\n",
      "matched 3 params in Alessi_9:\n",
      "['parallax' 'pmdec' 'RV']\n",
      "Target not likely a cluster member\n",
      "cannot unpack non-iterable NoneType object\n",
      "Target: TOI 1835.01\n",
      "Querying Gaia DR2 catalog for ra,dec=(189.839 20.0273) within 3.0 arcsec.\n"
     ]
    },
    {
     "name": "stderr",
     "output_type": "stream",
     "text": [
      "\r",
      " 96%|█████████▋| 665/690 [50:03<01:54,  4.56s/it]"
     ]
    },
    {
     "name": "stdout",
     "output_type": "stream",
     "text": [
      "ra: 9 matched\n",
      "dec: 16 matched\n",
      "parallax: 0 matched\n",
      "pmra: 0 matched\n",
      "pmdec: 0 matched\n",
      "RV: 519 matched\n",
      "matched 2 params in ASCC_73:\n",
      "['ra' 'RV']\n",
      "Target not likely a cluster member\n",
      "cannot unpack non-iterable NoneType object\n",
      "Target: TOI 1835.02\n",
      "Querying Gaia DR2 catalog for ra,dec=(189.839 20.0273) within 3.0 arcsec.\n"
     ]
    },
    {
     "name": "stderr",
     "output_type": "stream",
     "text": [
      "\r",
      " 97%|█████████▋| 666/690 [50:07<01:48,  4.53s/it]"
     ]
    },
    {
     "name": "stdout",
     "output_type": "stream",
     "text": [
      "ra: 9 matched\n",
      "dec: 16 matched\n",
      "parallax: 0 matched\n",
      "pmra: 0 matched\n",
      "pmdec: 0 matched\n",
      "RV: 519 matched\n",
      "matched 2 params in ASCC_73:\n",
      "['ra' 'RV']\n",
      "Target not likely a cluster member\n",
      "cannot unpack non-iterable NoneType object\n",
      "Target: TOI 1836.01\n",
      "Querying Gaia DR2 catalog for ra,dec=(245.908 54.6901) within 3.0 arcsec.\n"
     ]
    },
    {
     "name": "stderr",
     "output_type": "stream",
     "text": [
      "\r",
      " 97%|█████████▋| 667/690 [50:12<01:45,  4.58s/it]"
     ]
    },
    {
     "name": "stdout",
     "output_type": "stream",
     "text": [
      "ra: 12 matched\n",
      "dec: 20 matched\n",
      "parallax: 10 matched\n",
      "pmra: 2 matched\n",
      "pmdec: 0 matched\n",
      "RV: 398 matched\n",
      "matched 2 params in Alessi_2:\n",
      "['dec' 'RV']\n",
      "Target not likely a cluster member\n",
      "cannot unpack non-iterable NoneType object\n",
      "Target: TOI 1837.01\n",
      "Querying Gaia DR2 catalog for ra,dec=(207.906 33.4924) within 3.0 arcsec.\n"
     ]
    },
    {
     "name": "stderr",
     "output_type": "stream",
     "text": [
      "\r",
      " 97%|█████████▋| 668/690 [50:16<01:40,  4.56s/it]"
     ]
    },
    {
     "name": "stdout",
     "output_type": "stream",
     "text": [
      "ra: 8 matched\n",
      "dec: 27 matched\n",
      "parallax: 10 matched\n",
      "pmra: 0 matched\n",
      "pmdec: 28 matched\n",
      "RV: 564 matched\n",
      "matched 3 params in Alessi_9:\n",
      "['parallax' 'pmdec' 'RV']\n",
      "Target not likely a cluster member\n",
      "cannot unpack non-iterable NoneType object\n",
      "Target: TOI 1838.01\n",
      "Querying Gaia DR2 catalog for ra,dec=(246.692 51.0411) within 3.0 arcsec.\n"
     ]
    },
    {
     "name": "stderr",
     "output_type": "stream",
     "text": [
      "\r",
      " 97%|█████████▋| 669/690 [50:21<01:35,  4.55s/it]"
     ]
    },
    {
     "name": "stdout",
     "output_type": "stream",
     "text": [
      "ra: 12 matched\n",
      "dec: 26 matched\n",
      "parallax: 184 matched\n",
      "pmra: 223 matched\n",
      "pmdec: 8 matched\n",
      "RV: 0 matched\n",
      "matched 3 params in UPK_350:\n",
      "['dec' 'parallax' 'pmra']\n",
      "Target not likely a cluster member\n",
      "cannot unpack non-iterable NoneType object\n",
      "Target: TOI 1839.01\n",
      "Querying Gaia DR2 catalog for ra,dec=(196.833 5.85204) within 3.0 arcsec.\n"
     ]
    },
    {
     "name": "stderr",
     "output_type": "stream",
     "text": [
      "\r",
      " 97%|█████████▋| 670/690 [50:25<01:30,  4.53s/it]"
     ]
    },
    {
     "name": "stdout",
     "output_type": "stream",
     "text": [
      "ra: 6 matched\n",
      "dec: 14 matched\n",
      "parallax: 2 matched\n",
      "pmra: 15 matched\n",
      "pmdec: 0 matched\n",
      "RV: 520 matched\n",
      "matched 3 params in ASCC_73:\n",
      "['ra' 'pmra' 'RV']\n",
      "Target not likely a cluster member\n",
      "cannot unpack non-iterable NoneType object\n",
      "Target: TOI 1840.01\n",
      "Querying Gaia DR2 catalog for ra,dec=(195.982 30.6401) within 3.0 arcsec.\n"
     ]
    },
    {
     "name": "stderr",
     "output_type": "stream",
     "text": [
      "\r",
      " 97%|█████████▋| 671/690 [50:30<01:25,  4.51s/it]"
     ]
    },
    {
     "name": "stdout",
     "output_type": "stream",
     "text": [
      "ra: 6 matched\n",
      "dec: 17 matched\n",
      "parallax: 10 matched\n",
      "pmra: 262 matched\n",
      "pmdec: 3 matched\n",
      "RV: 532 matched\n",
      "matched 3 params in Platais_9:\n",
      "['parallax' 'pmdec' 'RV']\n",
      "Target not likely a cluster member\n",
      "cannot unpack non-iterable NoneType object\n",
      "Target: TOI 1841.01\n",
      "Querying Gaia DR2 catalog for ra,dec=(213.144 47.0148) within 3.0 arcsec.\n"
     ]
    },
    {
     "name": "stderr",
     "output_type": "stream",
     "text": [
      "\r",
      " 97%|█████████▋| 672/690 [50:34<01:21,  4.51s/it]"
     ]
    },
    {
     "name": "stdout",
     "output_type": "stream",
     "text": [
      "ra: 7 matched\n",
      "dec: 31 matched\n",
      "parallax: 60 matched\n",
      "pmra: 4 matched\n",
      "pmdec: 8 matched\n",
      "RV: 0 matched\n",
      "matched 2 params in Alessi_3:\n",
      "['parallax' 'pmdec']\n",
      "Target not likely a cluster member\n",
      "cannot unpack non-iterable NoneType object\n",
      "Target: TOI 1842.01\n",
      "Querying Gaia DR2 catalog for ra,dec=(201.963 9.03064) within 3.0 arcsec.\n"
     ]
    },
    {
     "name": "stderr",
     "output_type": "stream",
     "text": [
      "\r",
      " 98%|█████████▊| 673/690 [50:39<01:16,  4.50s/it]"
     ]
    },
    {
     "name": "stdout",
     "output_type": "stream",
     "text": [
      "ra: 11 matched\n",
      "dec: 11 matched\n",
      "parallax: 10 matched\n",
      "pmra: 5 matched\n",
      "pmdec: 60 matched\n",
      "RV: 535 matched\n",
      "matched 3 params in Alessi_19:\n",
      "['dec' 'pmdec' 'RV']\n",
      "Target not likely a cluster member\n",
      "cannot unpack non-iterable NoneType object\n",
      "Target: TOI 1843.01\n",
      "Querying Gaia DR2 catalog for ra,dec=(287.895 66.3281) within 3.0 arcsec.\n"
     ]
    },
    {
     "name": "stderr",
     "output_type": "stream",
     "text": [
      "\r",
      " 98%|█████████▊| 674/690 [50:43<01:11,  4.50s/it]"
     ]
    },
    {
     "name": "stdout",
     "output_type": "stream",
     "text": [
      "ra: 11 matched\n",
      "dec: 16 matched\n",
      "parallax: 212 matched\n",
      "pmra: 329 matched\n",
      "pmdec: 5 matched\n",
      "RV: 0 matched\n",
      "matched 3 params in UPK_12:\n",
      "['ra' 'parallax' 'pmra']\n",
      "Target not likely a cluster member\n",
      "cannot unpack non-iterable NoneType object\n",
      "Target: TOI 1844.01\n",
      "Querying Gaia DR2 catalog for ra,dec=(209.389 43.4933) within 3.0 arcsec.\n"
     ]
    },
    {
     "name": "stderr",
     "output_type": "stream",
     "text": [
      "\r",
      " 98%|█████████▊| 675/690 [50:48<01:07,  4.50s/it]"
     ]
    },
    {
     "name": "stdout",
     "output_type": "stream",
     "text": [
      "ra: 9 matched\n",
      "dec: 29 matched\n",
      "parallax: 6 matched\n",
      "pmra: 0 matched\n",
      "pmdec: 1 matched\n",
      "RV: 431 matched\n",
      "matched 2 params in ASCC_11:\n",
      "['dec' 'RV']\n",
      "Target not likely a cluster member\n",
      "cannot unpack non-iterable NoneType object\n",
      "Target: TOI 1845.01\n",
      "Querying Gaia DR2 catalog for ra,dec=(237.317 71.4429) within 3.0 arcsec.\n"
     ]
    },
    {
     "name": "stderr",
     "output_type": "stream",
     "text": [
      "\r",
      " 98%|█████████▊| 676/690 [50:52<01:02,  4.49s/it]"
     ]
    },
    {
     "name": "stdout",
     "output_type": "stream",
     "text": [
      "ra: 10 matched\n",
      "dec: 4 matched\n",
      "parallax: 79 matched\n",
      "pmra: 531 matched\n",
      "pmdec: 7 matched\n",
      "RV: 0 matched\n",
      "matched 2 params in ASCC_79:\n",
      "['ra' 'pmra']\n",
      "Target not likely a cluster member\n",
      "cannot unpack non-iterable NoneType object\n",
      "Target: TOI 1846.01\n",
      "Querying Gaia DR2 catalog for ra,dec=(257.955 54.5278) within 3.0 arcsec.\n"
     ]
    },
    {
     "name": "stderr",
     "output_type": "stream",
     "text": [
      "\r",
      " 98%|█████████▊| 677/690 [50:57<00:58,  4.50s/it]"
     ]
    },
    {
     "name": "stdout",
     "output_type": "stream",
     "text": [
      "ra: 13 matched\n",
      "dec: 20 matched\n",
      "parallax: 0 matched\n",
      "pmra: 0 matched\n",
      "pmdec: 0 matched\n",
      "RV: 515 matched\n",
      "matched 2 params in ASCC_123:\n",
      "['dec' 'RV']\n",
      "Target not likely a cluster member\n",
      "cannot unpack non-iterable NoneType object\n",
      "Target: TOI 1847.01\n",
      "Querying Gaia DR2 catalog for ra,dec=(23.5215 -14.4192) within 3.0 arcsec.\n"
     ]
    },
    {
     "name": "stderr",
     "output_type": "stream",
     "text": [
      "\r",
      " 98%|█████████▊| 678/690 [51:01<00:54,  4.51s/it]"
     ]
    },
    {
     "name": "stdout",
     "output_type": "stream",
     "text": [
      "ra: 8 matched\n",
      "dec: 19 matched\n",
      "parallax: 10 matched\n",
      "pmra: 5 matched\n",
      "pmdec: 6 matched\n",
      "RV: 507 matched\n",
      "matched 3 params in NGC_2451A:\n",
      "['parallax' 'pmdec' 'RV']\n",
      "Target not likely a cluster member\n",
      "cannot unpack non-iterable NoneType object\n",
      "Target: TOI 1848.01\n",
      "Querying Gaia DR2 catalog for ra,dec=(204.44 48.2501) within 3.0 arcsec.\n"
     ]
    },
    {
     "name": "stderr",
     "output_type": "stream",
     "text": [
      "\r",
      " 98%|█████████▊| 679/690 [51:06<00:49,  4.53s/it]"
     ]
    },
    {
     "name": "stdout",
     "output_type": "stream",
     "text": [
      "ra: 7 matched\n",
      "dec: 20 matched\n",
      "parallax: 29 matched\n",
      "pmra: 1 matched\n",
      "pmdec: 36 matched\n",
      "RV: 495 matched\n",
      "matched 3 params in NGC_6991:\n",
      "['dec' 'pmdec' 'RV']\n",
      "Target not likely a cluster member\n",
      "cannot unpack non-iterable NoneType object\n",
      "Target: TOI 1849.01\n",
      "Querying Gaia DR2 catalog for ra,dec=(208.1 37.7486) within 3.0 arcsec.\n"
     ]
    },
    {
     "name": "stderr",
     "output_type": "stream",
     "text": [
      "\r",
      " 99%|█████████▊| 680/690 [51:10<00:45,  4.51s/it]"
     ]
    },
    {
     "name": "stdout",
     "output_type": "stream",
     "text": [
      "ra: 8 matched\n",
      "dec: 31 matched\n",
      "parallax: 10 matched\n",
      "pmra: 208 matched\n",
      "pmdec: 3 matched\n",
      "RV: 513 matched\n",
      "matched 3 params in COIN-Gaia_13:\n",
      "['dec' 'pmra' 'RV']\n",
      "Target not likely a cluster member\n",
      "cannot unpack non-iterable NoneType object\n",
      "Target: TOI 1850.01\n",
      "Querying Gaia DR2 catalog for ra,dec=(195.762 21.9231) within 3.0 arcsec.\n"
     ]
    },
    {
     "name": "stderr",
     "output_type": "stream",
     "text": [
      "\r",
      " 99%|█████████▊| 681/690 [51:15<00:40,  4.53s/it]"
     ]
    },
    {
     "name": "stdout",
     "output_type": "stream",
     "text": [
      "ra: 6 matched\n",
      "dec: 20 matched\n",
      "parallax: 11 matched\n",
      "pmra: 4 matched\n",
      "pmdec: 530 matched\n",
      "RV: 0 matched\n",
      "matched 3 params in NGC_2632:\n",
      "['dec' 'parallax' 'pmra']\n",
      "Target not likely a cluster member\n",
      "cannot unpack non-iterable NoneType object\n",
      "Target: TOI 1851.01\n",
      "Querying Gaia DR2 catalog for ra,dec=(197.749 6.68656) within 3.0 arcsec.\n"
     ]
    },
    {
     "name": "stderr",
     "output_type": "stream",
     "text": [
      "\r",
      " 99%|█████████▉| 682/690 [51:20<00:36,  4.54s/it]"
     ]
    },
    {
     "name": "stdout",
     "output_type": "stream",
     "text": [
      "ra: 5 matched\n",
      "dec: 20 matched\n",
      "parallax: 25 matched\n",
      "pmra: 0 matched\n",
      "pmdec: 6 matched\n",
      "RV: 0 matched\n",
      "matched 2 params in IC_4665:\n",
      "['dec' 'parallax']\n",
      "Target not likely a cluster member\n",
      "cannot unpack non-iterable NoneType object\n",
      "Target: TOI 1852.01\n",
      "Querying Gaia DR2 catalog for ra,dec=(197.072 23.1209) within 3.0 arcsec.\n"
     ]
    },
    {
     "name": "stderr",
     "output_type": "stream",
     "text": [
      "\r",
      " 99%|█████████▉| 683/690 [51:24<00:31,  4.52s/it]"
     ]
    },
    {
     "name": "stdout",
     "output_type": "stream",
     "text": [
      "ra: 5 matched\n",
      "dec: 19 matched\n",
      "parallax: 159 matched\n",
      "pmra: 9 matched\n",
      "pmdec: 27 matched\n",
      "RV: 0 matched\n",
      "matched 3 params in UPK_99:\n",
      "['dec' 'parallax' 'pmdec']\n",
      "Target not likely a cluster member\n",
      "cannot unpack non-iterable NoneType object\n",
      "Target: TOI 1853.01\n",
      "Querying Gaia DR2 catalog for ra,dec=(211.459 16.9924) within 3.0 arcsec.\n"
     ]
    },
    {
     "name": "stderr",
     "output_type": "stream",
     "text": [
      "\r",
      " 99%|█████████▉| 684/690 [51:28<00:26,  4.45s/it]"
     ]
    },
    {
     "name": "stdout",
     "output_type": "stream",
     "text": [
      "ra: 8 matched\n",
      "dec: 13 matched\n",
      "parallax: 10 matched\n",
      "pmra: 0 matched\n",
      "pmdec: 11 matched\n",
      "RV: 497 matched\n",
      "matched 3 params in Alessi_9:\n",
      "['parallax' 'pmdec' 'RV']\n",
      "Target not likely a cluster member\n",
      "cannot unpack non-iterable NoneType object\n",
      "Target: TOI 1854.01\n",
      "Querying Gaia DR2 catalog for ra,dec=(206.845 19.7585) within 3.0 arcsec.\n"
     ]
    },
    {
     "name": "stderr",
     "output_type": "stream",
     "text": [
      "\r",
      " 99%|█████████▉| 685/690 [51:33<00:22,  4.45s/it]"
     ]
    },
    {
     "name": "stdout",
     "output_type": "stream",
     "text": [
      "ra: 10 matched\n",
      "dec: 13 matched\n",
      "parallax: 61 matched\n",
      "pmra: 136 matched\n",
      "pmdec: 0 matched\n",
      "RV: 0 matched\n",
      "matched 2 params in Alessi_3:\n",
      "['parallax' 'pmra']\n",
      "Target not likely a cluster member\n",
      "cannot unpack non-iterable NoneType object\n",
      "Target: TOI 1855.01\n",
      "Querying Gaia DR2 catalog for ra,dec=(205.354 17.6869) within 3.0 arcsec.\n"
     ]
    },
    {
     "name": "stderr",
     "output_type": "stream",
     "text": [
      "\r",
      " 99%|█████████▉| 686/690 [51:37<00:17,  4.42s/it]"
     ]
    },
    {
     "name": "stdout",
     "output_type": "stream",
     "text": [
      "ra: 8 matched\n",
      "dec: 10 matched\n",
      "parallax: 9 matched\n",
      "pmra: 0 matched\n",
      "pmdec: 0 matched\n",
      "RV: 477 matched\n",
      "matched 2 params in Alessi_19:\n",
      "['dec' 'RV']\n",
      "Target not likely a cluster member\n",
      "cannot unpack non-iterable NoneType object\n",
      "Target: TOI 1856.01\n",
      "Querying Gaia DR2 catalog for ra,dec=(234.099 57.8907) within 3.0 arcsec.\n"
     ]
    },
    {
     "name": "stderr",
     "output_type": "stream",
     "text": [
      "\r",
      "100%|█████████▉| 687/690 [51:42<00:13,  4.47s/it]"
     ]
    },
    {
     "name": "stdout",
     "output_type": "stream",
     "text": [
      "ra: 9 matched\n",
      "dec: 38 matched\n",
      "parallax: 11 matched\n",
      "pmra: 7 matched\n",
      "pmdec: 3 matched\n",
      "RV: 549 matched\n",
      "matched 3 params in Melotte_20:\n",
      "['dec' 'parallax' 'RV']\n",
      "Target not likely a cluster member\n",
      "cannot unpack non-iterable NoneType object\n",
      "Target: TOI 1857.01\n",
      "Querying Gaia DR2 catalog for ra,dec=(199.607 35.954) within 3.0 arcsec.\n"
     ]
    },
    {
     "name": "stderr",
     "output_type": "stream",
     "text": [
      "\r",
      "100%|█████████▉| 688/690 [51:46<00:08,  4.48s/it]"
     ]
    },
    {
     "name": "stdout",
     "output_type": "stream",
     "text": [
      "ra: 7 matched\n",
      "dec: 30 matched\n",
      "parallax: 38 matched\n",
      "pmra: 19 matched\n",
      "pmdec: 560 matched\n",
      "RV: 532 matched\n",
      "matched 4 params in ASCC_127:\n",
      "['parallax' 'pmra' 'pmdec' 'RV']\n",
      "Target not likely a cluster member\n",
      "cannot unpack non-iterable NoneType object\n",
      "Target: TOI 1858.01\n",
      "Querying Gaia DR2 catalog for ra,dec=(199.413 22.8501) within 3.0 arcsec.\n"
     ]
    },
    {
     "name": "stderr",
     "output_type": "stream",
     "text": [
      "\r",
      "100%|█████████▉| 689/690 [51:53<00:05,  5.03s/it]"
     ]
    },
    {
     "name": "stdout",
     "output_type": "stream",
     "text": [
      "ra: 7 matched\n",
      "dec: 17 matched\n",
      "parallax: 11 matched\n",
      "pmra: 4 matched\n",
      "pmdec: 252 matched\n",
      "RV: 0 matched\n",
      "matched 2 params in Blanco_1:\n",
      "['parallax' 'pmdec']\n",
      "Target not likely a cluster member\n",
      "cannot unpack non-iterable NoneType object\n",
      "Target: TOI 1859.01\n",
      "Querying Gaia DR2 catalog for ra,dec=(279.832 69.5229) within 3.0 arcsec.\n"
     ]
    },
    {
     "name": "stderr",
     "output_type": "stream",
     "text": [
      "100%|██████████| 690/690 [51:57<00:00,  4.52s/it]"
     ]
    },
    {
     "name": "stdout",
     "output_type": "stream",
     "text": [
      "ra: 13 matched\n",
      "dec: 5 matched\n",
      "parallax: 10 matched\n",
      "pmra: 2 matched\n",
      "pmdec: 10 matched\n",
      "RV: 513 matched\n",
      "matched 4 params in Alessi_9:\n",
      "['parallax' 'pmra' 'pmdec' 'RV']\n",
      "Target not likely a cluster member\n",
      "cannot unpack non-iterable NoneType object\n"
     ]
    },
    {
     "name": "stderr",
     "output_type": "stream",
     "text": [
      "\n"
     ]
    }
   ],
   "source": [
    "from tqdm import tqdm\n",
    "\n",
    "tois = cr.get_tois()\n",
    "#recent, northern targets\n",
    "tois = tois[tois.TOI>1000]\n",
    "\n",
    "cluster_matches = {}\n",
    "for toi in tqdm(tois.TOI):\n",
    "    try:\n",
    "        t = cr.Target(toiid=toi)\n",
    "        cluster, idxs = t.get_cluster_membership(catalog_name=\"CantatGaudin2020\",\n",
    "                                               return_idxs=True, \n",
    "                                               frac=0.5, \n",
    "                                               sigma=5)\n",
    "        cluster_matches[toi] = cluster\n",
    "    except Exception as e:\n",
    "        print(e)"
   ]
  },
  {
   "cell_type": "code",
   "execution_count": 28,
   "metadata": {},
   "outputs": [
    {
     "data": {
      "text/plain": [
       "dict_keys([1004.01, 1009.01, 1013.01, 1014.01, 1016.01, 1018.01, 1019.01, 1025.01, 1035.01, 1037.01, 1039.01, 1041.01, 1043.01, 1044.01, 1089.01, 1094.01, 1117.01, 1162.01, 1191.01, 1198.01, 1213.01, 1232.01, 1327.01, 1333.01, 1334.01, 1335.01, 1362.01, 1376.01, 1393.01, 1394.01, 1479.01, 1483.01, 1485.01, 1497.01, 1503.01, 1531.01, 1539.01, 1561.01, 1562.01, 1592.01, 1595.01, 1601.01, 1602.01, 1639.01, 1641.01, 1655.01, 1661.01, 1673.01, 1675.01, 1676.01, 1677.01, 1686.01, 1738.01])"
      ]
     },
     "execution_count": 28,
     "metadata": {},
     "output_type": "execute_result"
    }
   ],
   "source": [
    "(cluster_matches.keys())"
   ]
  },
  {
   "cell_type": "code",
   "execution_count": 49,
   "metadata": {},
   "outputs": [
    {
     "name": "stdout",
     "output_type": "stream",
     "text": [
      "Target: TOI 1014.01\n",
      "Querying Gaia DR2 catalog for ra,dec=(103.562 -34.2228) within 3.0 arcsec.\n",
      "There are 2 gaia sources within 3.0 arcsec.\n",
      "ra: 19 matched\n",
      "dec: 24 matched\n",
      "parallax: 10 matched\n",
      "pmra: 13 matched\n",
      "pmdec: 10 matched\n",
      "RV: 0 matched\n",
      "matched 5 params in Alessi_3:\n",
      "['ra' 'dec' 'parallax' 'pmra' 'pmdec']\n"
     ]
    },
    {
     "data": {
      "text/plain": [
       "Cluster       Alessi_3\n",
       "raJ2015        109.275\n",
       "decJ2015       -46.142\n",
       "GLON           257.449\n",
       "GLAT           -15.064\n",
       "r50              1.541\n",
       "Nstars             178\n",
       "pmra            -9.875\n",
       "pmdec           11.958\n",
       "parallax         3.566\n",
       "distance         278.1\n",
       "X                -58.4\n",
       "Y               -262.2\n",
       "Z                -72.3\n",
       "Rgc             8402.5\n",
       "ra             109.275\n",
       "dec           -46.1421\n",
       "RV             8.88577\n",
       "e_ra           3.53854\n",
       "e_dec          2.80614\n",
       "e_parallax    0.174892\n",
       "e_pmra        0.713151\n",
       "e_pmdec       0.682595\n",
       "e_RV           11.7487\n",
       "Name: 51, dtype: object"
      ]
     },
     "execution_count": 49,
     "metadata": {},
     "output_type": "execute_result"
    }
   ],
   "source": [
    "#1, \n",
    "t = cr.Target(toiid=list(cluster_matches.keys())[3])\n",
    "cluster, idxs = t.get_cluster_membership(catalog_name=\"CantatGaudin2020\",\n",
    "                                               return_idxs=True, \n",
    "                                               frac=0.5, \n",
    "                                               sigma=5)\n",
    "cluster"
   ]
  },
  {
   "cell_type": "code",
   "execution_count": 50,
   "metadata": {},
   "outputs": [
    {
     "name": "stdout",
     "output_type": "stream",
     "text": [
      "Using CantatGaudin2020 catalog.\n"
     ]
    }
   ],
   "source": [
    "c = cr.Cluster(cluster_name=cluster.Cluster)"
   ]
  },
  {
   "cell_type": "code",
   "execution_count": 51,
   "metadata": {},
   "outputs": [
    {
     "name": "stdout",
     "output_type": "stream",
     "text": [
      "Querying Gaia DR2 catalog for ra,dec=(103.562 -34.2228) within 3.0 arcsec.\n",
      "There are 2 gaia sources within 3.0 arcsec.\n"
     ]
    }
   ],
   "source": [
    "df_target=t.query_gaia_dr2_catalog(return_nearest_xmatch=True)"
   ]
  },
  {
   "cell_type": "code",
   "execution_count": 53,
   "metadata": {},
   "outputs": [
    {
     "data": {
      "image/png": "[encoded data removed]",
      "text/plain": [
       "<Figure size 864x576 with 7 Axes>"
      ]
     },
     "metadata": {
      "needs_background": "light"
     },
     "output_type": "display_data"
    }
   ],
   "source": [
    "fig = c.plot_xyz_uvw(target_gaiaid=t.gaiaid, \n",
    "                     df_target=df_target,\n",
    "                     match_id=False)"
   ]
  },
  {
   "cell_type": "code",
   "execution_count": 54,
   "metadata": {},
   "outputs": [
    {
     "data": {
      "image/png": "[encoded data removed]",
      "text/plain": [
       "<Figure size 720x720 with 6 Axes>"
      ]
     },
     "metadata": {
      "needs_background": "light"
     },
     "output_type": "display_data"
    }
   ],
   "source": [
    "fig = c.plot_rdp_pmrv(target_gaiaid=t.gaiaid, \n",
    "                     df_target=df_target,\n",
    "                     match_id=False)"
   ]
  },
  {
   "cell_type": "markdown",
   "metadata": {},
   "source": [
    "## position match"
   ]
  },
  {
   "cell_type": "code",
   "execution_count": 18,
   "metadata": {},
   "outputs": [
    {
     "name": "stderr",
     "output_type": "stream",
     "text": [
      "\r",
      "  0%|          | 0/12 [00:00<?, ?it/s]"
     ]
    },
    {
     "name": "stdout",
     "output_type": "stream",
     "text": [
      "Some parallaxes are negative in Bouma2019!\n",
      "These are removed for the meantime.\n",
      "For proper treatment, see:\n",
      "https://arxiv.org/pdf/1804.09366.pdf\n",
      "\n"
     ]
    },
    {
     "name": "stderr",
     "output_type": "stream",
     "text": [
      "\r",
      "  8%|▊         | 1/12 [00:06<01:11,  6.49s/it]"
     ]
    },
    {
     "name": "stdout",
     "output_type": "stream",
     "text": [
      "Target is in Vel_OB2 (Bouma2019)!\n",
      "Some parallaxes are negative in Bouma2019!\n",
      "These are removed for the meantime.\n",
      "For proper treatment, see:\n",
      "https://arxiv.org/pdf/1804.09366.pdf\n",
      "\n"
     ]
    },
    {
     "name": "stderr",
     "output_type": "stream",
     "text": [
      "\r",
      " 17%|█▋        | 2/12 [00:12<01:03,  6.39s/it]"
     ]
    },
    {
     "name": "stdout",
     "output_type": "stream",
     "text": [
      "Target is in Trumpler_10 (Bouma2019)!\n",
      "Some parallaxes are negative in Bouma2019!\n",
      "These are removed for the meantime.\n",
      "For proper treatment, see:\n",
      "https://arxiv.org/pdf/1804.09366.pdf\n",
      "\n"
     ]
    },
    {
     "name": "stderr",
     "output_type": "stream",
     "text": [
      "\r",
      " 25%|██▌       | 3/12 [00:17<00:54,  6.06s/it]"
     ]
    },
    {
     "name": "stdout",
     "output_type": "stream",
     "text": [
      "Target is in NGC_2516 (Bouma2019)!\n",
      "Some parallaxes are negative in Bouma2019!\n",
      "These are removed for the meantime.\n",
      "For proper treatment, see:\n",
      "https://arxiv.org/pdf/1804.09366.pdf\n",
      "\n"
     ]
    },
    {
     "name": "stderr",
     "output_type": "stream",
     "text": [
      "\r",
      " 33%|███▎      | 4/12 [00:22<00:45,  5.65s/it]"
     ]
    },
    {
     "name": "stdout",
     "output_type": "stream",
     "text": [
      "Target is in IC_2602 (Bouma2019)!\n",
      "Some parallaxes are negative in Bouma2019!\n",
      "These are removed for the meantime.\n",
      "For proper treatment, see:\n",
      "https://arxiv.org/pdf/1804.09366.pdf\n",
      "\n"
     ]
    },
    {
     "name": "stderr",
     "output_type": "stream",
     "text": [
      "\r",
      " 42%|████▏     | 5/12 [00:28<00:39,  5.68s/it]"
     ]
    },
    {
     "name": "stdout",
     "output_type": "stream",
     "text": [
      "Target is in Loden_306 (Bouma2019)!\n",
      "Some parallaxes are negative in Bouma2019!\n",
      "These are removed for the meantime.\n",
      "For proper treatment, see:\n",
      "https://arxiv.org/pdf/1804.09366.pdf\n",
      "\n"
     ]
    },
    {
     "name": "stderr",
     "output_type": "stream",
     "text": [
      "\r",
      " 50%|█████     | 6/12 [00:33<00:33,  5.63s/it]"
     ]
    },
    {
     "name": "stdout",
     "output_type": "stream",
     "text": [
      "Target is in NGC_2516 (Bouma2019)!\n",
      "Some parallaxes are negative in Bouma2019!\n",
      "These are removed for the meantime.\n",
      "For proper treatment, see:\n",
      "https://arxiv.org/pdf/1804.09366.pdf\n",
      "\n"
     ]
    },
    {
     "name": "stderr",
     "output_type": "stream",
     "text": [
      "\r",
      " 58%|█████▊    | 7/12 [00:39<00:27,  5.48s/it]"
     ]
    },
    {
     "name": "stdout",
     "output_type": "stream",
     "text": [
      "Target is in NGC_2306 (Bouma2019)!\n",
      "Some parallaxes are negative in Bouma2019!\n",
      "These are removed for the meantime.\n",
      "For proper treatment, see:\n",
      "https://arxiv.org/pdf/1804.09366.pdf\n",
      "\n"
     ]
    },
    {
     "name": "stderr",
     "output_type": "stream",
     "text": [
      "\r",
      " 67%|██████▋   | 8/12 [00:44<00:21,  5.44s/it]"
     ]
    },
    {
     "name": "stdout",
     "output_type": "stream",
     "text": [
      "Target is in Ruprecht_172 (Bouma2019)!\n",
      "Some parallaxes are negative in Bouma2019!\n",
      "These are removed for the meantime.\n",
      "For proper treatment, see:\n",
      "https://arxiv.org/pdf/1804.09366.pdf\n",
      "\n"
     ]
    },
    {
     "name": "stderr",
     "output_type": "stream",
     "text": [
      "\r",
      " 75%|███████▌  | 9/12 [00:49<00:16,  5.36s/it]"
     ]
    },
    {
     "name": "stdout",
     "output_type": "stream",
     "text": [
      "Target is in RSG_7 (Bouma2019)!\n",
      "Some parallaxes are negative in Bouma2019!\n",
      "These are removed for the meantime.\n",
      "For proper treatment, see:\n",
      "https://arxiv.org/pdf/1804.09366.pdf\n",
      "\n"
     ]
    },
    {
     "name": "stderr",
     "output_type": "stream",
     "text": [
      "\r",
      " 83%|████████▎ | 10/12 [00:55<00:11,  5.60s/it]"
     ]
    },
    {
     "name": "stdout",
     "output_type": "stream",
     "text": [
      "Target is in Stock_20 (Bouma2019)!\n",
      "Some parallaxes are negative in Bouma2019!\n",
      "These are removed for the meantime.\n",
      "For proper treatment, see:\n",
      "https://arxiv.org/pdf/1804.09366.pdf\n",
      "\n"
     ]
    },
    {
     "name": "stderr",
     "output_type": "stream",
     "text": [
      "\r",
      " 92%|█████████▏| 11/12 [01:03<00:06,  6.22s/it]"
     ]
    },
    {
     "name": "stdout",
     "output_type": "stream",
     "text": [
      "Target is in NGC_1039 (Bouma2019)!\n",
      "Some parallaxes are negative in Bouma2019!\n",
      "These are removed for the meantime.\n",
      "For proper treatment, see:\n",
      "https://arxiv.org/pdf/1804.09366.pdf\n",
      "\n"
     ]
    },
    {
     "name": "stderr",
     "output_type": "stream",
     "text": [
      "100%|██████████| 12/12 [01:08<00:00,  5.68s/it]"
     ]
    },
    {
     "name": "stdout",
     "output_type": "stream",
     "text": [
      "Target is in Waterloo_1 (Bouma2019)!\n"
     ]
    },
    {
     "name": "stderr",
     "output_type": "stream",
     "text": [
      "\n"
     ]
    }
   ],
   "source": [
    "cluster_planets = {}\n",
    "\n",
    "#idx = tois_gaia.source_id.astype(int).isin(df_mem.source_id)\n",
    "\n",
    "for toi in tqdm(short_list.TOI.tolist()): \n",
    "    gaiaid = tois_gaia.loc[toi,'source_id']\n",
    "    t = cr.Target(gaiaDR2id=gaiaid, verbose=False)\n",
    "    idx = df_mem.source_id.isin([t.gaiaid])\n",
    "    if idx.sum()>0:\n",
    "        #find nearest cluster\n",
    "        try:\n",
    "            cluster = t.find_nearest_cluster_member(match_id=True)\n",
    "            cluster_planets[toi]=(t.gaiaid, cluster)\n",
    "        except Exception as e:\n",
    "            print(e)"
   ]
  },
  {
   "cell_type": "code",
   "execution_count": null,
   "metadata": {},
   "outputs": [],
   "source": [
    "from chronos import Cluster\n",
    "from chronos.plot import plot_hrd\n",
    "from chronos.plot import plot_rdp_pmrv\n",
    "\n",
    "for row in short_list[['source_id','Cluster']].values:\n",
    "    gaiaid,cluster_name = row\n",
    "    t = cr.Target(gaiaDR2id=gaiaid)   \n",
    "    d = t.query_gaia_dr2_catalog(return_nearest_xmatch=True)\n",
    "    c = cr.Cluster(cluster_name=cluster_name)\n",
    "#     df_mem = c.query_cluster_members()\n",
    "    df_gaia_mem = c.query_cluster_members_gaia_params(gmag_cut=None, clobber=False)\n",
    "\n",
    "    #CMD\n",
    "    ax = cr.plot_cmd(df=df_gaia_mem, target_gaia_id=t.gaiaid, match_id=True, df_target=t.gaia_params);\n",
    "    ax.set_title(cluster_name)\n",
    "    ax.figure.savefig(f'../data/{t.gaiaid}_{cluster_name}_cmd.png')\n",
    "    \n",
    "    #kinematics plot\n",
    "    fig = cr.plot_rdp_pmrv(df=df_gaia_mem, target_gaia_id=t.gaiaid, match_id=False, df_target=t.gaia_params);\n",
    "    # fig.suptitle(t.nearest_cluster_name)\n",
    "    fig.suptitle(cluster_name)\n",
    "    fig.savefig(f'../data/{t.gaiaid}_{cluster_name}_xyz.png')"
   ]
  },
  {
   "cell_type": "code",
   "execution_count": null,
   "metadata": {},
   "outputs": [],
   "source": []
  },
  {
   "cell_type": "code",
   "execution_count": null,
   "metadata": {},
   "outputs": [],
   "source": []
  }
 ],
 "metadata": {
  "kernelspec": {
   "display_name": "Python 3",
   "language": "python",
   "name": "python3"
  },
  "language_info": {
   "codemirror_mode": {
    "name": "ipython",
    "version": 3
   },
   "file_extension": ".py",
   "mimetype": "text/x-python",
   "name": "python",
   "nbconvert_exporter": "python",
   "pygments_lexer": "ipython3",
   "version": "3.6.13"
  },
  "toc": {
   "base_numbering": 1,
   "nav_menu": {},
   "number_sections": true,
   "sideBar": true,
   "skip_h1_title": false,
   "title_cell": "Table of Contents",
   "title_sidebar": "Contents",
   "toc_cell": false,
   "toc_position": {},
   "toc_section_display": true,
   "toc_window_display": false
  }
 },
 "nbformat": 4,
 "nbformat_minor": 2
}
