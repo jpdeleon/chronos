{
 "cells": [
  {
   "cell_type": "markdown",
   "metadata": {},
   "source": [
    "* candidates: http://vizier.u-strasbg.fr/viz-bin/VizieR?-source=J/AJ/158/25\n",
    "* See tql in seidan/Yu2018sector6 \n",
    "* candidates in [gslides](https://docs.google.com/presentation/d/12lWhQKs1iTrabLjGhu7tOk9GqA48xR9Noc16OjCcDrg/edit#slide=id.g9091e50287_0_0)"
   ]
  },
  {
   "cell_type": "code",
   "execution_count": 2,
   "metadata": {},
   "outputs": [
    {
     "name": "stdout",
     "output_type": "stream",
     "text": [
      "Created TAP+ (v1.2.1) - Connection:\n",
      "\tHost: gea.esac.esa.int\n",
      "\tUse HTTPS: True\n",
      "\tPort: 443\n",
      "\tSSL Port: 443\n",
      "Created TAP+ (v1.2.1) - Connection:\n",
      "\tHost: geadata.esac.esa.int\n",
      "\tUse HTTPS: True\n",
      "\tPort: 443\n",
      "\tSSL Port: 443\n"
     ]
    }
   ],
   "source": [
    "import chronos as cr"
   ]
  },
  {
   "cell_type": "code",
   "execution_count": 26,
   "metadata": {},
   "outputs": [],
   "source": [
    "from astroquery.vizier import Vizier\n",
    "Vizier.ROW_LIMIT = -1"
   ]
  },
  {
   "cell_type": "code",
   "execution_count": 4,
   "metadata": {},
   "outputs": [
    {
     "data": {
      "text/plain": [
       "TableList with 1 tables:\n",
       "\t'0:J/AJ/158/25/table2' with 8 column(s) and 288 row(s) "
      ]
     },
     "execution_count": 4,
     "metadata": {},
     "output_type": "execute_result"
    }
   ],
   "source": [
    "tables = Vizier.get_catalogs(\"J/AJ/158/25\")\n",
    "tables"
   ]
  },
  {
   "cell_type": "code",
   "execution_count": 9,
   "metadata": {},
   "outputs": [
    {
     "data": {
      "text/html": [
       "<div>\n",
       "<style scoped>\n",
       "    .dataframe tbody tr th:only-of-type {\n",
       "        vertical-align: middle;\n",
       "    }\n",
       "\n",
       "    .dataframe tbody tr th {\n",
       "        vertical-align: top;\n",
       "    }\n",
       "\n",
       "    .dataframe thead th {\n",
       "        text-align: right;\n",
       "    }\n",
       "</style>\n",
       "<table border=\"1\" class=\"dataframe\">\n",
       "  <thead>\n",
       "    <tr style=\"text-align: right;\">\n",
       "      <th></th>\n",
       "      <th>TIC</th>\n",
       "      <th>Tmag</th>\n",
       "      <th>Per</th>\n",
       "      <th>_tab1_4</th>\n",
       "      <th>Dur</th>\n",
       "      <th>Depth</th>\n",
       "      <th>Tri</th>\n",
       "      <th>Vet</th>\n",
       "    </tr>\n",
       "  </thead>\n",
       "  <tbody>\n",
       "    <tr>\n",
       "      <th>0</th>\n",
       "      <td>363914762</td>\n",
       "      <td>10.931</td>\n",
       "      <td>13.862950</td>\n",
       "      <td>1445.332277</td>\n",
       "      <td>6.57</td>\n",
       "      <td>7490</td>\n",
       "      <td>0.894</td>\n",
       "      <td>0.935</td>\n",
       "    </tr>\n",
       "    <tr>\n",
       "      <th>1</th>\n",
       "      <td>318063607</td>\n",
       "      <td>11.591</td>\n",
       "      <td>1.972508</td>\n",
       "      <td>1470.574615</td>\n",
       "      <td>3.98</td>\n",
       "      <td>6900</td>\n",
       "      <td>0.994</td>\n",
       "      <td>0.930</td>\n",
       "    </tr>\n",
       "    <tr>\n",
       "      <th>2</th>\n",
       "      <td>72556406</td>\n",
       "      <td>10.763</td>\n",
       "      <td>5.564581</td>\n",
       "      <td>1470.665685</td>\n",
       "      <td>5.36</td>\n",
       "      <td>3590</td>\n",
       "      <td>0.976</td>\n",
       "      <td>0.926</td>\n",
       "    </tr>\n",
       "    <tr>\n",
       "      <th>3</th>\n",
       "      <td>375144153</td>\n",
       "      <td>11.611</td>\n",
       "      <td>3.349557</td>\n",
       "      <td>1328.947672</td>\n",
       "      <td>3.20</td>\n",
       "      <td>1370</td>\n",
       "      <td>0.989</td>\n",
       "      <td>0.913</td>\n",
       "    </tr>\n",
       "    <tr>\n",
       "      <th>4</th>\n",
       "      <td>238920875</td>\n",
       "      <td>11.740</td>\n",
       "      <td>6.534533</td>\n",
       "      <td>1326.067219</td>\n",
       "      <td>3.70</td>\n",
       "      <td>6610</td>\n",
       "      <td>0.935</td>\n",
       "      <td>0.911</td>\n",
       "    </tr>\n",
       "    <tr>\n",
       "      <th>...</th>\n",
       "      <td>...</td>\n",
       "      <td>...</td>\n",
       "      <td>...</td>\n",
       "      <td>...</td>\n",
       "      <td>...</td>\n",
       "      <td>...</td>\n",
       "      <td>...</td>\n",
       "      <td>...</td>\n",
       "    </tr>\n",
       "    <tr>\n",
       "      <th>283</th>\n",
       "      <td>375032908</td>\n",
       "      <td>9.328</td>\n",
       "      <td>8.518659</td>\n",
       "      <td>1333.616043</td>\n",
       "      <td>3.21</td>\n",
       "      <td>530</td>\n",
       "      <td>0.260</td>\n",
       "      <td>0.110</td>\n",
       "    </tr>\n",
       "    <tr>\n",
       "      <th>284</th>\n",
       "      <td>143218704</td>\n",
       "      <td>11.692</td>\n",
       "      <td>1.857112</td>\n",
       "      <td>1469.812388</td>\n",
       "      <td>5.55</td>\n",
       "      <td>30850</td>\n",
       "      <td>0.997</td>\n",
       "      <td>0.106</td>\n",
       "    </tr>\n",
       "    <tr>\n",
       "      <th>285</th>\n",
       "      <td>317876382</td>\n",
       "      <td>10.966</td>\n",
       "      <td>2.150539</td>\n",
       "      <td>1470.621890</td>\n",
       "      <td>4.18</td>\n",
       "      <td>950</td>\n",
       "      <td>0.774</td>\n",
       "      <td>0.104</td>\n",
       "    </tr>\n",
       "    <tr>\n",
       "      <th>286</th>\n",
       "      <td>382068562</td>\n",
       "      <td>11.293</td>\n",
       "      <td>12.129942</td>\n",
       "      <td>1330.347472</td>\n",
       "      <td>2.15</td>\n",
       "      <td>16680</td>\n",
       "      <td>0.959</td>\n",
       "      <td>0.102</td>\n",
       "    </tr>\n",
       "    <tr>\n",
       "      <th>287</th>\n",
       "      <td>4616346</td>\n",
       "      <td>11.498</td>\n",
       "      <td>0.690059</td>\n",
       "      <td>1468.773630</td>\n",
       "      <td>1.77</td>\n",
       "      <td>1230</td>\n",
       "      <td>0.409</td>\n",
       "      <td>0.100</td>\n",
       "    </tr>\n",
       "  </tbody>\n",
       "</table>\n",
       "<p>288 rows × 8 columns</p>\n",
       "</div>"
      ],
      "text/plain": [
       "           TIC    Tmag        Per      _tab1_4   Dur  Depth    Tri    Vet\n",
       "0    363914762  10.931  13.862950  1445.332277  6.57   7490  0.894  0.935\n",
       "1    318063607  11.591   1.972508  1470.574615  3.98   6900  0.994  0.930\n",
       "2     72556406  10.763   5.564581  1470.665685  5.36   3590  0.976  0.926\n",
       "3    375144153  11.611   3.349557  1328.947672  3.20   1370  0.989  0.913\n",
       "4    238920875  11.740   6.534533  1326.067219  3.70   6610  0.935  0.911\n",
       "..         ...     ...        ...          ...   ...    ...    ...    ...\n",
       "283  375032908   9.328   8.518659  1333.616043  3.21    530  0.260  0.110\n",
       "284  143218704  11.692   1.857112  1469.812388  5.55  30850  0.997  0.106\n",
       "285  317876382  10.966   2.150539  1470.621890  4.18    950  0.774  0.104\n",
       "286  382068562  11.293  12.129942  1330.347472  2.15  16680  0.959  0.102\n",
       "287    4616346  11.498   0.690059  1468.773630  1.77   1230  0.409  0.100\n",
       "\n",
       "[288 rows x 8 columns]"
      ]
     },
     "execution_count": 9,
     "metadata": {},
     "output_type": "execute_result"
    }
   ],
   "source": [
    "df = tables[0].to_pandas()\n",
    "df"
   ]
  },
  {
   "cell_type": "code",
   "execution_count": 6,
   "metadata": {},
   "outputs": [],
   "source": [
    "tois = cr.get_tois()\n",
    "ctois = cr.get_ctois()"
   ]
  },
  {
   "cell_type": "code",
   "execution_count": 7,
   "metadata": {},
   "outputs": [
    {
     "data": {
      "text/plain": [
       "41"
      ]
     },
     "execution_count": 7,
     "metadata": {},
     "output_type": "execute_result"
    }
   ],
   "source": [
    "tois['TIC ID'].isin(df.TIC).sum()"
   ]
  },
  {
   "cell_type": "code",
   "execution_count": 8,
   "metadata": {},
   "outputs": [
    {
     "data": {
      "text/plain": [
       "22"
      ]
     },
     "execution_count": 8,
     "metadata": {},
     "output_type": "execute_result"
    }
   ],
   "source": [
    "ctois['TIC ID'].isin(df.TIC).sum()"
   ]
  },
  {
   "cell_type": "code",
   "execution_count": 9,
   "metadata": {},
   "outputs": [
    {
     "data": {
      "text/plain": [
       "Text(0.5, 1.0, 'Yu+2019 Sector 6 PC')"
      ]
     },
     "execution_count": 9,
     "metadata": {},
     "output_type": "execute_result"
    },
    {
     "data": {
      "image/png": "[encoded data removed]",
      "text/plain": [
       "<Figure size 640x480 with 1 Axes>"
      ]
     },
     "metadata": {},
     "output_type": "display_data"
    }
   ],
   "source": [
    "ax = df.plot.scatter(x='Depth', y='Tmag')\n",
    "ax.set_xscale('log')\n",
    "ax.set_title('Yu+2019 Sector 6 PC')"
   ]
  },
  {
   "cell_type": "code",
   "execution_count": 10,
   "metadata": {},
   "outputs": [
    {
     "data": {
      "text/plain": [
       "0.8368055555555556"
      ]
     },
     "execution_count": 10,
     "metadata": {},
     "output_type": "execute_result"
    }
   ],
   "source": [
    "df[df.Depth>1000].shape[0]/df.shape[0]"
   ]
  },
  {
   "cell_type": "code",
   "execution_count": 11,
   "metadata": {},
   "outputs": [
    {
     "data": {
      "text/plain": [
       "0.7326388888888888"
      ]
     },
     "execution_count": 11,
     "metadata": {},
     "output_type": "execute_result"
    }
   ],
   "source": [
    "#not in TOI\n",
    "idx = df.TIC.isin(tois['TIC ID'])\n",
    "df[~idx][df[~idx].Depth>1000].shape[0]/df.shape[0]"
   ]
  },
  {
   "cell_type": "code",
   "execution_count": 24,
   "metadata": {},
   "outputs": [],
   "source": [
    "idx1 = df.TIC.isin(tois['TIC ID'])\n",
    "idx2 = df.TIC.isin(ctois['TIC ID'])\n",
    "idx3 = df.Depth>1000\n",
    "\n",
    "tics = df[~idx1 & ~idx2 & idx3].TIC.tolist()"
   ]
  },
  {
   "cell_type": "markdown",
   "metadata": {},
   "source": [
    "## cluster search"
   ]
  },
  {
   "cell_type": "code",
   "execution_count": null,
   "metadata": {},
   "outputs": [
    {
     "name": "stderr",
     "output_type": "stream",
     "text": [
      "\n",
      "\n",
      "  0%|          | 0/288 [00:00<?, ?it/s]\u001b[A\u001b[A\n",
      "\n",
      "  0%|          | 1/288 [00:12<1:01:01, 12.76s/it]\u001b[A\u001b[A"
     ]
    },
    {
     "name": "stdout",
     "output_type": "stream",
     "text": [
      "Target not likely a cluster member\n"
     ]
    },
    {
     "name": "stderr",
     "output_type": "stream",
     "text": [
      "\n",
      "\n",
      "  1%|          | 2/288 [00:20<53:08, 11.15s/it]  \u001b[A\u001b[A"
     ]
    },
    {
     "name": "stdout",
     "output_type": "stream",
     "text": [
      "Target not likely a cluster member\n"
     ]
    },
    {
     "name": "stderr",
     "output_type": "stream",
     "text": [
      "\n",
      "\n",
      "  1%|          | 3/288 [00:28<49:16, 10.37s/it]\u001b[A\u001b[A"
     ]
    },
    {
     "name": "stdout",
     "output_type": "stream",
     "text": [
      "Target not likely a cluster member\n"
     ]
    },
    {
     "name": "stderr",
     "output_type": "stream",
     "text": [
      "\n",
      "\n",
      "  1%|▏         | 4/288 [00:44<57:15, 12.10s/it]\u001b[A\u001b[A"
     ]
    },
    {
     "name": "stdout",
     "output_type": "stream",
     "text": [
      "Target not likely a cluster member\n"
     ]
    },
    {
     "name": "stderr",
     "output_type": "stream",
     "text": [
      "\n",
      "\n",
      "  2%|▏         | 5/288 [01:01<1:02:50, 13.32s/it]\u001b[A\u001b[A"
     ]
    },
    {
     "name": "stdout",
     "output_type": "stream",
     "text": [
      "Target not likely a cluster member\n"
     ]
    },
    {
     "name": "stderr",
     "output_type": "stream",
     "text": [
      "\n",
      "\n",
      "  2%|▏         | 6/288 [01:11<59:12, 12.60s/it]  \u001b[A\u001b[A"
     ]
    },
    {
     "name": "stdout",
     "output_type": "stream",
     "text": [
      "Target not likely a cluster member\n",
      "astrometric_excess_noise_sig>4036.09 (>5 hints binarity).\n",
      "\n",
      "astrometric_gof_al>171.08 (>20 hints binarity).\n",
      "See https://arxiv.org/pdf/1804.11082.pdf\n",
      "\n"
     ]
    },
    {
     "name": "stderr",
     "output_type": "stream",
     "text": [
      "\n",
      "\n",
      "  2%|▏         | 7/288 [01:34<1:13:25, 15.68s/it]\u001b[A\u001b[A"
     ]
    },
    {
     "name": "stdout",
     "output_type": "stream",
     "text": [
      "Target not likely a cluster member\n"
     ]
    },
    {
     "name": "stderr",
     "output_type": "stream",
     "text": [
      "\n",
      "\n",
      "  3%|▎         | 8/288 [01:43<1:02:58, 13.50s/it]\u001b[A\u001b[A"
     ]
    },
    {
     "name": "stdout",
     "output_type": "stream",
     "text": [
      "Target not likely a cluster member\n"
     ]
    },
    {
     "name": "stderr",
     "output_type": "stream",
     "text": [
      "\n",
      "\n",
      "  3%|▎         | 9/288 [02:00<1:07:41, 14.56s/it]\u001b[A\u001b[A"
     ]
    },
    {
     "name": "stdout",
     "output_type": "stream",
     "text": [
      "Target not likely a cluster member\n"
     ]
    },
    {
     "name": "stderr",
     "output_type": "stream",
     "text": [
      "\n",
      "\n",
      "  3%|▎         | 10/288 [02:18<1:12:36, 15.67s/it]\u001b[A\u001b[A"
     ]
    },
    {
     "name": "stdout",
     "output_type": "stream",
     "text": [
      "Target not likely a cluster member\n"
     ]
    },
    {
     "name": "stderr",
     "output_type": "stream",
     "text": [
      "\n",
      "\n",
      "  4%|▍         | 11/288 [02:35<1:13:50, 16.00s/it]\u001b[A\u001b[A"
     ]
    },
    {
     "name": "stdout",
     "output_type": "stream",
     "text": [
      "Target not likely a cluster member\n"
     ]
    },
    {
     "name": "stderr",
     "output_type": "stream",
     "text": [
      "\n",
      "\n",
      "  4%|▍         | 12/288 [02:37<54:15, 11.80s/it]  \u001b[A\u001b[A\n",
      "\n",
      "  5%|▍         | 13/288 [03:03<1:13:43, 16.08s/it]\u001b[A\u001b[A"
     ]
    },
    {
     "name": "stdout",
     "output_type": "stream",
     "text": [
      "Target not likely a cluster member\n"
     ]
    },
    {
     "name": "stderr",
     "output_type": "stream",
     "text": [
      "\n",
      "\n",
      "  5%|▍         | 14/288 [03:27<1:23:57, 18.38s/it]\u001b[A\u001b[A"
     ]
    },
    {
     "name": "stdout",
     "output_type": "stream",
     "text": [
      "Target not likely a cluster member\n"
     ]
    },
    {
     "name": "stderr",
     "output_type": "stream",
     "text": [
      "\n",
      "\n",
      "  5%|▌         | 15/288 [03:57<1:39:54, 21.96s/it]\u001b[A\u001b[A"
     ]
    },
    {
     "name": "stdout",
     "output_type": "stream",
     "text": [
      "Target not likely a cluster member\n"
     ]
    },
    {
     "name": "stderr",
     "output_type": "stream",
     "text": [
      "\n",
      "\n",
      "  6%|▌         | 16/288 [04:25<1:47:36, 23.74s/it]\u001b[A\u001b[A"
     ]
    },
    {
     "name": "stdout",
     "output_type": "stream",
     "text": [
      "Target not likely a cluster member\n"
     ]
    },
    {
     "name": "stderr",
     "output_type": "stream",
     "text": [
      "\n",
      "\n",
      "  6%|▌         | 17/288 [04:49<1:48:11, 23.95s/it]\u001b[A\u001b[A"
     ]
    },
    {
     "name": "stdout",
     "output_type": "stream",
     "text": [
      "Target not likely a cluster member\n"
     ]
    },
    {
     "name": "stderr",
     "output_type": "stream",
     "text": [
      "\n",
      "\n",
      "  6%|▋         | 18/288 [05:38<2:21:46, 31.51s/it]\u001b[A\u001b[A"
     ]
    },
    {
     "name": "stdout",
     "output_type": "stream",
     "text": [
      "Target not likely a cluster member\n"
     ]
    },
    {
     "name": "stderr",
     "output_type": "stream",
     "text": [
      "\n",
      "\n",
      "  7%|▋         | 19/288 [06:06<2:16:07, 30.36s/it]\u001b[A\u001b[A"
     ]
    },
    {
     "name": "stdout",
     "output_type": "stream",
     "text": [
      "Target not likely a cluster member\n"
     ]
    },
    {
     "name": "stderr",
     "output_type": "stream",
     "text": [
      "\n",
      "\n",
      "  7%|▋         | 20/288 [06:41<2:21:42, 31.72s/it]\u001b[A\u001b[A"
     ]
    },
    {
     "name": "stdout",
     "output_type": "stream",
     "text": [
      "Target not likely a cluster member\n"
     ]
    },
    {
     "name": "stderr",
     "output_type": "stream",
     "text": [
      "\n",
      "\n",
      "  7%|▋         | 21/288 [06:54<1:55:57, 26.06s/it]\u001b[A\u001b[A\n",
      "\n",
      "  8%|▊         | 22/288 [07:15<1:49:31, 24.70s/it]\u001b[A\u001b[A"
     ]
    },
    {
     "name": "stdout",
     "output_type": "stream",
     "text": [
      "Target not likely a cluster member\n",
      "astrometric_excess_noise_sig>2610.09 (>5 hints binarity).\n",
      "\n",
      "astrometric_gof_al>245.29 (>20 hints binarity).\n",
      "See https://arxiv.org/pdf/1804.11082.pdf\n",
      "\n"
     ]
    },
    {
     "name": "stderr",
     "output_type": "stream",
     "text": [
      "\n",
      "\n",
      "  8%|▊         | 23/288 [07:44<1:53:57, 25.80s/it]\u001b[A\u001b[A"
     ]
    },
    {
     "name": "stdout",
     "output_type": "stream",
     "text": [
      "Target not likely a cluster member\n"
     ]
    },
    {
     "name": "stderr",
     "output_type": "stream",
     "text": [
      "\n",
      "\n",
      "  8%|▊         | 24/288 [08:19<2:06:07, 28.66s/it]\u001b[A\u001b[A"
     ]
    },
    {
     "name": "stdout",
     "output_type": "stream",
     "text": [
      "Target not likely a cluster member\n"
     ]
    },
    {
     "name": "stderr",
     "output_type": "stream",
     "text": [
      "\n",
      "\n",
      "  9%|▊         | 25/288 [08:48<2:06:19, 28.82s/it]\u001b[A\u001b[A"
     ]
    },
    {
     "name": "stdout",
     "output_type": "stream",
     "text": [
      "Target not likely a cluster member\n",
      "astrometric_excess_noise_sig>45.19 (>5 hints binarity).\n",
      "\n",
      "astrometric_gof_al>38.41 (>20 hints binarity).\n",
      "See https://arxiv.org/pdf/1804.11082.pdf\n",
      "\n"
     ]
    },
    {
     "name": "stderr",
     "output_type": "stream",
     "text": [
      "\n",
      "\n",
      "  9%|▉         | 26/288 [09:20<2:09:12, 29.59s/it]\u001b[A\u001b[A"
     ]
    },
    {
     "name": "stdout",
     "output_type": "stream",
     "text": [
      "Target not likely a cluster member\n"
     ]
    },
    {
     "name": "stderr",
     "output_type": "stream",
     "text": [
      "\n",
      "\n",
      "  9%|▉         | 27/288 [09:45<2:03:40, 28.43s/it]\u001b[A\u001b[A"
     ]
    },
    {
     "name": "stdout",
     "output_type": "stream",
     "text": [
      "Target not likely a cluster member\n"
     ]
    },
    {
     "name": "stderr",
     "output_type": "stream",
     "text": [
      "\n",
      "\n",
      " 10%|▉         | 28/288 [10:08<1:55:52, 26.74s/it]\u001b[A\u001b[A"
     ]
    },
    {
     "name": "stdout",
     "output_type": "stream",
     "text": [
      "Target not likely a cluster member\n"
     ]
    },
    {
     "name": "stderr",
     "output_type": "stream",
     "text": [
      "\n",
      "\n",
      " 10%|█         | 29/288 [10:34<1:54:55, 26.62s/it]\u001b[A\u001b[A"
     ]
    },
    {
     "name": "stdout",
     "output_type": "stream",
     "text": [
      "Target not likely a cluster member\n"
     ]
    },
    {
     "name": "stderr",
     "output_type": "stream",
     "text": [
      "\n",
      "\n",
      " 10%|█         | 30/288 [10:54<1:45:15, 24.48s/it]\u001b[A\u001b[A"
     ]
    },
    {
     "name": "stdout",
     "output_type": "stream",
     "text": [
      "Target not likely a cluster member\n",
      "astrometric_gof_al>20.07 (>20 hints binarity).\n",
      "See https://arxiv.org/pdf/1804.11082.pdf\n",
      "\n"
     ]
    },
    {
     "name": "stderr",
     "output_type": "stream",
     "text": [
      "\n",
      "\n",
      " 11%|█         | 31/288 [11:17<1:43:34, 24.18s/it]\u001b[A\u001b[A"
     ]
    },
    {
     "name": "stdout",
     "output_type": "stream",
     "text": [
      "Target not likely a cluster member\n",
      "There are 2 gaia sources within 3.0 arcsec.\n"
     ]
    },
    {
     "name": "stderr",
     "output_type": "stream",
     "text": [
      "\n",
      "\n",
      " 11%|█         | 32/288 [11:39<1:39:14, 23.26s/it]\u001b[A\u001b[A"
     ]
    },
    {
     "name": "stdout",
     "output_type": "stream",
     "text": [
      "Target not likely a cluster member\n",
      "astrometric_excess_noise_sig>5.77 (>5 hints binarity).\n",
      "\n",
      "See https://arxiv.org/pdf/1804.11082.pdf\n",
      "\n"
     ]
    },
    {
     "name": "stderr",
     "output_type": "stream",
     "text": [
      "\n",
      "\n",
      " 11%|█▏        | 33/288 [12:13<1:52:33, 26.48s/it]\u001b[A\u001b[A\n",
      "\n",
      " 12%|█▏        | 34/288 [12:37<1:49:26, 25.85s/it]\u001b[A\u001b[A"
     ]
    },
    {
     "name": "stdout",
     "output_type": "stream",
     "text": [
      "Target not likely a cluster member\n"
     ]
    },
    {
     "name": "stderr",
     "output_type": "stream",
     "text": [
      "\n",
      "\n",
      " 12%|█▏        | 35/288 [13:05<1:52:25, 26.66s/it]\u001b[A\u001b[A"
     ]
    },
    {
     "name": "stdout",
     "output_type": "stream",
     "text": [
      "Target not likely a cluster member\n",
      "astrometric_excess_noise_sig>5.41 (>5 hints binarity).\n",
      "\n",
      "See https://arxiv.org/pdf/1804.11082.pdf\n",
      "\n"
     ]
    },
    {
     "name": "stderr",
     "output_type": "stream",
     "text": [
      "\n",
      "\n",
      " 12%|█▎        | 36/288 [13:34<1:54:39, 27.30s/it]\u001b[A\u001b[A"
     ]
    },
    {
     "name": "stdout",
     "output_type": "stream",
     "text": [
      "Target not likely a cluster member\n",
      "There are 2 gaia sources within 3.0 arcsec.\n"
     ]
    },
    {
     "name": "stderr",
     "output_type": "stream",
     "text": [
      "\n",
      "\n",
      " 13%|█▎        | 37/288 [14:02<1:54:20, 27.33s/it]\u001b[A\u001b[A"
     ]
    },
    {
     "name": "stdout",
     "output_type": "stream",
     "text": [
      "Target not likely a cluster member\n",
      "Target parallax (-3.8703650839831547 mas) is omitted!\n",
      "astrometric_excess_noise_sig>3372.77 (>5 hints binarity).\n",
      "\n",
      "astrometric_gof_al>259.65 (>20 hints binarity).\n",
      "See https://arxiv.org/pdf/1804.11082.pdf\n",
      "\n"
     ]
    },
    {
     "name": "stderr",
     "output_type": "stream",
     "text": [
      "\n",
      "\n",
      " 13%|█▎        | 38/288 [14:11<1:30:58, 21.83s/it]\u001b[A\u001b[A"
     ]
    },
    {
     "name": "stdout",
     "output_type": "stream",
     "text": [
      "Target not likely a cluster member\n"
     ]
    },
    {
     "name": "stderr",
     "output_type": "stream",
     "text": [
      "\n",
      "\n",
      " 14%|█▎        | 39/288 [14:33<1:31:11, 21.97s/it]\u001b[A\u001b[A"
     ]
    },
    {
     "name": "stdout",
     "output_type": "stream",
     "text": [
      "Target not likely a cluster member\n"
     ]
    },
    {
     "name": "stderr",
     "output_type": "stream",
     "text": [
      "\n",
      "\n",
      " 14%|█▍        | 40/288 [15:17<1:57:55, 28.53s/it]\u001b[A\u001b[A"
     ]
    },
    {
     "name": "stdout",
     "output_type": "stream",
     "text": [
      "Target not likely a cluster member\n",
      "astrometric_excess_noise_sig>13.79 (>5 hints binarity).\n",
      "\n",
      "See https://arxiv.org/pdf/1804.11082.pdf\n",
      "\n"
     ]
    },
    {
     "name": "stderr",
     "output_type": "stream",
     "text": [
      "\n",
      "\n",
      " 14%|█▍        | 41/288 [15:39<1:49:49, 26.68s/it]\u001b[A\u001b[A"
     ]
    },
    {
     "name": "stdout",
     "output_type": "stream",
     "text": [
      "Target not likely a cluster member\n",
      "astrometric_excess_noise_sig>16.65 (>5 hints binarity).\n",
      "\n",
      "astrometric_gof_al>27.47 (>20 hints binarity).\n",
      "See https://arxiv.org/pdf/1804.11082.pdf\n",
      "\n"
     ]
    },
    {
     "name": "stderr",
     "output_type": "stream",
     "text": [
      "\n",
      "\n",
      " 15%|█▍        | 42/288 [16:12<1:56:39, 28.45s/it]\u001b[A\u001b[A"
     ]
    },
    {
     "name": "stdout",
     "output_type": "stream",
     "text": [
      "Target not likely a cluster member\n"
     ]
    },
    {
     "name": "stderr",
     "output_type": "stream",
     "text": [
      "\n",
      "\n",
      " 15%|█▍        | 43/288 [16:52<2:10:54, 32.06s/it]\u001b[A\u001b[A"
     ]
    },
    {
     "name": "stdout",
     "output_type": "stream",
     "text": [
      "Target not likely a cluster member\n",
      "TIC 63571763 is in ASCC_32!\n"
     ]
    },
    {
     "name": "stderr",
     "output_type": "stream",
     "text": [
      "\n",
      "\n",
      " 15%|█▌        | 44/288 [17:47<2:38:08, 38.89s/it]\u001b[A\u001b[A"
     ]
    },
    {
     "name": "stdout",
     "output_type": "stream",
     "text": [
      "astrometric_excess_noise_sig>12.68 (>5 hints binarity).\n",
      "\n",
      "astrometric_gof_al>26.88 (>20 hints binarity).\n",
      "See https://arxiv.org/pdf/1804.11082.pdf\n",
      "\n"
     ]
    },
    {
     "name": "stderr",
     "output_type": "stream",
     "text": [
      "\n",
      "\n",
      " 16%|█▌        | 45/288 [18:19<2:29:24, 36.89s/it]\u001b[A\u001b[A"
     ]
    },
    {
     "name": "stdout",
     "output_type": "stream",
     "text": [
      "Target not likely a cluster member\n",
      "astrometric_excess_noise_sig>2758.82 (>5 hints binarity).\n",
      "\n",
      "astrometric_gof_al>191.10 (>20 hints binarity).\n",
      "See https://arxiv.org/pdf/1804.11082.pdf\n",
      "\n"
     ]
    },
    {
     "name": "stderr",
     "output_type": "stream",
     "text": [
      "\n",
      "\n",
      " 16%|█▌        | 46/288 [19:02<2:35:51, 38.64s/it]\u001b[A\u001b[A"
     ]
    },
    {
     "name": "stdout",
     "output_type": "stream",
     "text": [
      "Target not likely a cluster member\n"
     ]
    },
    {
     "name": "stderr",
     "output_type": "stream",
     "text": [
      "\n",
      "\n",
      " 16%|█▋        | 47/288 [19:29<2:21:35, 35.25s/it]\u001b[A\u001b[A"
     ]
    },
    {
     "name": "stdout",
     "output_type": "stream",
     "text": [
      "Target not likely a cluster member\n"
     ]
    },
    {
     "name": "stderr",
     "output_type": "stream",
     "text": [
      "\n",
      "\n",
      " 17%|█▋        | 48/288 [19:55<2:08:57, 32.24s/it]\u001b[A\u001b[A"
     ]
    },
    {
     "name": "stdout",
     "output_type": "stream",
     "text": [
      "Target not likely a cluster member\n"
     ]
    },
    {
     "name": "stderr",
     "output_type": "stream",
     "text": [
      "\n",
      "\n",
      " 17%|█▋        | 49/288 [20:19<1:59:21, 29.96s/it]\u001b[A\u001b[A"
     ]
    },
    {
     "name": "stdout",
     "output_type": "stream",
     "text": [
      "Target not likely a cluster member\n"
     ]
    },
    {
     "name": "stderr",
     "output_type": "stream",
     "text": [
      "\n",
      "\n",
      " 17%|█▋        | 50/288 [20:49<1:58:45, 29.94s/it]\u001b[A\u001b[A"
     ]
    },
    {
     "name": "stdout",
     "output_type": "stream",
     "text": [
      "Target not likely a cluster member\n"
     ]
    }
   ],
   "source": [
    "from tqdm import tqdm\n",
    "\n",
    "members = {}\n",
    "for tic in tqdm(df.TIC):\n",
    "    try:\n",
    "        t = cr.Target(ticid=tic, verbose=False)\n",
    "        c = t.get_cluster_membership()\n",
    "        if c is not None:\n",
    "            members[tic] = c\n",
    "    except:\n",
    "        pass"
   ]
  }
 ],
 "metadata": {
  "kernelspec": {
   "display_name": "Python 3",
   "language": "python",
   "name": "python3"
  },
  "language_info": {
   "codemirror_mode": {
    "name": "ipython",
    "version": 3
   },
   "file_extension": ".py",
   "mimetype": "text/x-python",
   "name": "python",
   "nbconvert_exporter": "python",
   "pygments_lexer": "ipython3",
   "version": "3.7.6"
  },
  "toc": {
   "base_numbering": 1,
   "nav_menu": {},
   "number_sections": true,
   "sideBar": true,
   "skip_h1_title": false,
   "title_cell": "Table of Contents",
   "title_sidebar": "Contents",
   "toc_cell": false,
   "toc_position": {},
   "toc_section_display": true,
   "toc_window_display": false
  }
 },
 "nbformat": 4,
 "nbformat_minor": 4
}
