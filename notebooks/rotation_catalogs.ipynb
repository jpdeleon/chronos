{
 "cells": [
  {
   "cell_type": "markdown",
   "metadata": {},
   "source": [
    "https://ui.adsabs.harvard.edu/abs/2020AJ....160..219F/abstract"
   ]
  },
  {
   "cell_type": "code",
   "execution_count": 4,
   "metadata": {},
   "outputs": [
    {
     "name": "stdout",
     "output_type": "stream",
     "text": [
      "Created TAP+ (v1.2.1) - Connection:\n",
      "\tHost: gea.esac.esa.int\n",
      "\tUse HTTPS: True\n",
      "\tPort: 443\n",
      "\tSSL Port: 443\n",
      "Created TAP+ (v1.2.1) - Connection:\n",
      "\tHost: geadata.esac.esa.int\n",
      "\tUse HTTPS: True\n",
      "\tPort: 443\n",
      "\tSSL Port: 443\n"
     ]
    },
    {
     "data": {
      "text/plain": [
       "{'Barnes2015': 'J/A+A/583/A73',\n",
       " 'Meibom2011_NGC6811': 'J/ApJ/733/L9',\n",
       " 'Curtis2019_NGC6811': 'J/AJ/158/77',\n",
       " 'Douglas2017_Praesepe': 'J/ApJ/842/83',\n",
       " 'Rebull2016_Pleiades': 'J/AJ/152/114',\n",
       " 'Rebull2018_USco_rhoOph': 'J/AJ/155/196',\n",
       " 'Rebull2020_Taurus': 'J/AJ/159/273',\n",
       " 'Reinhold2020_K2C0C18': 'J/A+A/635/A43',\n",
       " 'Douglas2019_Praesepe': '2019ApJ...879..100D',\n",
       " 'Fang2020_PleiadesPraesepeHyades': '2020MNRAS.495.2949F',\n",
       " 'Gillen2020_BlancoI': '2020MNRAS.492.1008G'}"
      ]
     },
     "execution_count": 4,
     "metadata": {},
     "output_type": "execute_result"
    }
   ],
   "source": [
    "import chronos as cr\n",
    "\n",
    "cr.cluster.PROT_CATALOG_DICT"
   ]
  },
  {
   "cell_type": "markdown",
   "metadata": {},
   "source": [
    "## Reinhold+2020"
   ]
  },
  {
   "cell_type": "code",
   "execution_count": 13,
   "metadata": {},
   "outputs": [
    {
     "name": "stdout",
     "output_type": "stream",
     "text": [
      "Downloading the first 50 rows of each table in J/A+A/635/A43 from vizier.\n"
     ]
    },
    {
     "data": {
      "text/plain": [
       "Index(['EPIC', 'Campaign', 'Teff', 'logg', 'Prot', 'e_Prot', 'HPeak', 'Rvar',\n",
       "       'Kpmag', 'GMAG', '_RA', '_DE'],\n",
       "      dtype='object')"
      ]
     },
     "execution_count": 13,
     "metadata": {},
     "output_type": "execute_result"
    }
   ],
   "source": [
    "key = cr.cluster.PROT_CATALOG_DICT['Reinhold2020_K2C0C18']\n",
    "tab = cr.get_vizier_tables(key, tab_index=0)\n",
    "tab.columns"
   ]
  },
  {
   "cell_type": "markdown",
   "metadata": {},
   "source": [
    "## Curtis+2019"
   ]
  },
  {
   "cell_type": "code",
   "execution_count": null,
   "metadata": {},
   "outputs": [],
   "source": []
  },
  {
   "cell_type": "markdown",
   "metadata": {},
   "source": [
    "## Rebull+2016"
   ]
  },
  {
   "cell_type": "code",
   "execution_count": 7,
   "metadata": {},
   "outputs": [
    {
     "name": "stdout",
     "output_type": "stream",
     "text": [
      "Downloading the first 50 rows of each table in J/AJ/152/114 from vizier.\n"
     ]
    },
    {
     "data": {
      "text/plain": [
       "Index(['EPIC', 'RAJ2000', 'DEJ2000', 'Vmag', 'Ksmag', '__V-K_0', 'Prot', 'Mm',\n",
       "       'P', 'dd', 'ddm', 'shch', 'beat', 'cpeak', 'resc', 'resd', 'dScu',\n",
       "       'cloud', 'PapI', 'PapIII', 'Simbad'],\n",
       "      dtype='object')"
      ]
     },
     "execution_count": 7,
     "metadata": {},
     "output_type": "execute_result"
    }
   ],
   "source": [
    "key = cr.cluster.PROT_CATALOG_DICT['Rebull2016_Pleiades']\n",
    "tab = cr.get_vizier_tables(key, tab_index=0)\n",
    "tab.columns"
   ]
  },
  {
   "cell_type": "code",
   "execution_count": 9,
   "metadata": {},
   "outputs": [
    {
     "name": "stdout",
     "output_type": "stream",
     "text": [
      "Downloading the first 50 rows of each table in J/AJ/155/196 from vizier.\n"
     ]
    },
    {
     "data": {
      "text/plain": [
       "Index(['EPIC', 'RAJ2000', 'DEJ2000', 'Vmag', 'Ksmag', '__V-Ks_u', 'E_V-Ks_',\n",
       "       'Ksmag0', 'Per1', 'Per2', 'Per3', 'Per4', 'Disk', 'Simbad'],\n",
       "      dtype='object')"
      ]
     },
     "execution_count": 9,
     "metadata": {},
     "output_type": "execute_result"
    }
   ],
   "source": [
    "key = cr.cluster.PROT_CATALOG_DICT['Rebull2018_USco_rhoOph']\n",
    "tab = cr.get_vizier_tables(key, tab_index=0)\n",
    "tab.columns"
   ]
  },
  {
   "cell_type": "markdown",
   "metadata": {},
   "source": [
    "## Barnes+2015"
   ]
  },
  {
   "cell_type": "code",
   "execution_count": 12,
   "metadata": {},
   "outputs": [
    {
     "name": "stdout",
     "output_type": "stream",
     "text": [
      "Downloading the first 50 rows of each table in J/A+A/583/A73 from vizier.\n"
     ]
    },
    {
     "data": {
      "text/plain": [
       "Index(['Id', 'Vmag', 'B-V', 'Per', 'e_Per', 'Amp', 'e_Amp', 'Memb', 'Prov',\n",
       "       'Name'],\n",
       "      dtype='object')"
      ]
     },
     "execution_count": 12,
     "metadata": {},
     "output_type": "execute_result"
    }
   ],
   "source": [
    "key = cr.cluster.PROT_CATALOG_DICT[\"Barnes2015\"]\n",
    "tab = cr.get_vizier_tables(key, tab_index=0)\n",
    "tab.columns"
   ]
  },
  {
   "cell_type": "markdown",
   "metadata": {},
   "source": [
    "## Feinstein+2020"
   ]
  },
  {
   "cell_type": "code",
   "execution_count": 3,
   "metadata": {},
   "outputs": [
    {
     "data": {
      "text/html": [
       "<div>\n",
       "<style scoped>\n",
       "    .dataframe tbody tr th:only-of-type {\n",
       "        vertical-align: middle;\n",
       "    }\n",
       "\n",
       "    .dataframe tbody tr th {\n",
       "        vertical-align: top;\n",
       "    }\n",
       "\n",
       "    .dataframe thead th {\n",
       "        text-align: right;\n",
       "    }\n",
       "</style>\n",
       "<table border=\"1\" class=\"dataframe\">\n",
       "  <thead>\n",
       "    <tr style=\"text-align: right;\">\n",
       "      <th></th>\n",
       "      <th>TIC</th>\n",
       "      <th>Teff</th>\n",
       "      <th>Flare_rate</th>\n",
       "      <th>Period_days</th>\n",
       "    </tr>\n",
       "  </thead>\n",
       "  <tbody>\n",
       "    <tr>\n",
       "      <th>0</th>\n",
       "      <td>134947</td>\n",
       "      <td>3286.0</td>\n",
       "      <td>0.851026</td>\n",
       "      <td>1.321325</td>\n",
       "    </tr>\n",
       "    <tr>\n",
       "      <th>1</th>\n",
       "      <td>671393</td>\n",
       "      <td>3096.0</td>\n",
       "      <td>0.000000</td>\n",
       "      <td>0.437796</td>\n",
       "    </tr>\n",
       "    <tr>\n",
       "      <th>2</th>\n",
       "      <td>1223040</td>\n",
       "      <td>3172.0</td>\n",
       "      <td>0.251992</td>\n",
       "      <td>0.843112</td>\n",
       "    </tr>\n",
       "    <tr>\n",
       "      <th>3</th>\n",
       "      <td>1232360</td>\n",
       "      <td>0.0</td>\n",
       "      <td>0.000000</td>\n",
       "      <td>2.363182</td>\n",
       "    </tr>\n",
       "    <tr>\n",
       "      <th>4</th>\n",
       "      <td>1273249</td>\n",
       "      <td>0.0</td>\n",
       "      <td>0.000000</td>\n",
       "      <td>1.800985</td>\n",
       "    </tr>\n",
       "    <tr>\n",
       "      <th>...</th>\n",
       "      <td>...</td>\n",
       "      <td>...</td>\n",
       "      <td>...</td>\n",
       "      <td>...</td>\n",
       "    </tr>\n",
       "    <tr>\n",
       "      <th>1526</th>\n",
       "      <td>468330671</td>\n",
       "      <td>0.0</td>\n",
       "      <td>0.351719</td>\n",
       "      <td>2.206000</td>\n",
       "    </tr>\n",
       "    <tr>\n",
       "      <th>1527</th>\n",
       "      <td>469171560</td>\n",
       "      <td>4911.0</td>\n",
       "      <td>0.124019</td>\n",
       "      <td>10.725478</td>\n",
       "    </tr>\n",
       "    <tr>\n",
       "      <th>1528</th>\n",
       "      <td>609530751</td>\n",
       "      <td>0.0</td>\n",
       "      <td>0.000000</td>\n",
       "      <td>2.617656</td>\n",
       "    </tr>\n",
       "    <tr>\n",
       "      <th>1529</th>\n",
       "      <td>611620106</td>\n",
       "      <td>3985.0</td>\n",
       "      <td>0.514022</td>\n",
       "      <td>3.121375</td>\n",
       "    </tr>\n",
       "    <tr>\n",
       "      <th>1530</th>\n",
       "      <td>622285940</td>\n",
       "      <td>0.0</td>\n",
       "      <td>0.000000</td>\n",
       "      <td>2.775247</td>\n",
       "    </tr>\n",
       "  </tbody>\n",
       "</table>\n",
       "<p>1531 rows × 4 columns</p>\n",
       "</div>"
      ],
      "text/plain": [
       "            TIC    Teff  Flare_rate  Period_days\n",
       "0        134947  3286.0    0.851026     1.321325\n",
       "1        671393  3096.0    0.000000     0.437796\n",
       "2       1223040  3172.0    0.251992     0.843112\n",
       "3       1232360     0.0    0.000000     2.363182\n",
       "4       1273249     0.0    0.000000     1.800985\n",
       "...         ...     ...         ...          ...\n",
       "1526  468330671     0.0    0.351719     2.206000\n",
       "1527  469171560  4911.0    0.124019    10.725478\n",
       "1528  609530751     0.0    0.000000     2.617656\n",
       "1529  611620106  3985.0    0.514022     3.121375\n",
       "1530  622285940     0.0    0.000000     2.775247\n",
       "\n",
       "[1531 rows x 4 columns]"
      ]
     },
     "execution_count": 3,
     "metadata": {},
     "output_type": "execute_result"
    }
   ],
   "source": [
    "import pandas as pd\n",
    "\n",
    "pd.read_csv('../chronos/data/feinstein2020.txt')"
   ]
  },
  {
   "cell_type": "markdown",
   "metadata": {},
   "source": [
    "## paper"
   ]
  },
  {
   "cell_type": "raw",
   "metadata": {},
   "source": [
    "!pip install tabula-py"
   ]
  },
  {
   "cell_type": "raw",
   "metadata": {},
   "source": [
    "import tabula\n",
    "\n",
    "url = \"https://arxiv.org/pdf/2005.07710.pdf\"\n",
    "df = tabula.read_pdf(url, pages=19)[0]\n",
    "df"
   ]
  },
  {
   "cell_type": "code",
   "execution_count": 13,
   "metadata": {},
   "outputs": [
    {
     "data": {
      "text/html": [
       "<div>\n",
       "<style scoped>\n",
       "    .dataframe tbody tr th:only-of-type {\n",
       "        vertical-align: middle;\n",
       "    }\n",
       "\n",
       "    .dataframe tbody tr th {\n",
       "        vertical-align: top;\n",
       "    }\n",
       "\n",
       "    .dataframe thead th {\n",
       "        text-align: right;\n",
       "    }\n",
       "</style>\n",
       "<table border=\"1\" class=\"dataframe\">\n",
       "  <thead>\n",
       "    <tr style=\"text-align: right;\">\n",
       "      <th></th>\n",
       "      <th>Population</th>\n",
       "      <th>Age [Myr]</th>\n",
       "      <th>Count</th>\n",
       "      <th>Age Ref.</th>\n",
       "    </tr>\n",
       "  </thead>\n",
       "  <tbody>\n",
       "    <tr>\n",
       "      <th>0</th>\n",
       "      <td>AB Doradus</td>\n",
       "      <td>149+51−19</td>\n",
       "      <td>283</td>\n",
       "      <td>Bell et al. (2015)</td>\n",
       "    </tr>\n",
       "    <tr>\n",
       "      <th>1</th>\n",
       "      <td>Argus</td>\n",
       "      <td>40-50</td>\n",
       "      <td>38</td>\n",
       "      <td>Zuckerman (2019)</td>\n",
       "    </tr>\n",
       "    <tr>\n",
       "      <th>2</th>\n",
       "      <td>β Pictoris</td>\n",
       "      <td>24±3</td>\n",
       "      <td>144</td>\n",
       "      <td>Bell et al. (2015)</td>\n",
       "    </tr>\n",
       "    <tr>\n",
       "      <th>3</th>\n",
       "      <td>Carina</td>\n",
       "      <td>45+11−7</td>\n",
       "      <td>78</td>\n",
       "      <td>Bell et al. (2015)</td>\n",
       "    </tr>\n",
       "    <tr>\n",
       "      <th>4</th>\n",
       "      <td>Carina-Near</td>\n",
       "      <td>∼200</td>\n",
       "      <td>57</td>\n",
       "      <td>Zuckerman et al. (2006)</td>\n",
       "    </tr>\n",
       "    <tr>\n",
       "      <th>5</th>\n",
       "      <td>Columba</td>\n",
       "      <td>42+6−4</td>\n",
       "      <td>129</td>\n",
       "      <td>Bell et al. (2015)</td>\n",
       "    </tr>\n",
       "    <tr>\n",
       "      <th>6</th>\n",
       "      <td>eta Chamaeleontis</td>\n",
       "      <td>3.7+4.6−1.4</td>\n",
       "      <td>14</td>\n",
       "      <td>Murphy et al. (2013)</td>\n",
       "    </tr>\n",
       "    <tr>\n",
       "      <th>7</th>\n",
       "      <td>η Chamaeleontis</td>\n",
       "      <td>11±3</td>\n",
       "      <td>3</td>\n",
       "      <td>Bell et al. (2015)</td>\n",
       "    </tr>\n",
       "    <tr>\n",
       "      <th>8</th>\n",
       "      <td>Hyades</td>\n",
       "      <td>750±100</td>\n",
       "      <td>61</td>\n",
       "      <td>Brandt &amp; Huang (2015)</td>\n",
       "    </tr>\n",
       "    <tr>\n",
       "      <th>9</th>\n",
       "      <td>IC2391</td>\n",
       "      <td>50±5</td>\n",
       "      <td>7</td>\n",
       "      <td>Barrado y Navascues et al. (2004)</td>\n",
       "    </tr>\n",
       "    <tr>\n",
       "      <th>10</th>\n",
       "      <td>IC2602</td>\n",
       "      <td>46+6−5</td>\n",
       "      <td>22</td>\n",
       "      <td>Dobbie et al. (2010)</td>\n",
       "    </tr>\n",
       "    <tr>\n",
       "      <th>11</th>\n",
       "      <td>Lower Centaurus Crux</td>\n",
       "      <td>15±3</td>\n",
       "      <td>338</td>\n",
       "      <td>Pecaut &amp; Mamajek (2016)</td>\n",
       "    </tr>\n",
       "    <tr>\n",
       "      <th>12</th>\n",
       "      <td>Octans</td>\n",
       "      <td>35±5</td>\n",
       "      <td>80</td>\n",
       "      <td>Murphy &amp; Lawson (2015)</td>\n",
       "    </tr>\n",
       "    <tr>\n",
       "      <th>13</th>\n",
       "      <td>Platais 8</td>\n",
       "      <td>∼60</td>\n",
       "      <td>13</td>\n",
       "      <td>Platais et al. (1998)</td>\n",
       "    </tr>\n",
       "    <tr>\n",
       "      <th>14</th>\n",
       "      <td>Pleiades</td>\n",
       "      <td>112±5</td>\n",
       "      <td>11</td>\n",
       "      <td>Dahm (2015)</td>\n",
       "    </tr>\n",
       "    <tr>\n",
       "      <th>15</th>\n",
       "      <td>Taurus</td>\n",
       "      <td>1-2</td>\n",
       "      <td>11</td>\n",
       "      <td>Kenyon &amp; Hartmann (1995)</td>\n",
       "    </tr>\n",
       "    <tr>\n",
       "      <th>16</th>\n",
       "      <td>Tucana-Horologium</td>\n",
       "      <td>45±5</td>\n",
       "      <td>182</td>\n",
       "      <td>Bell et al. (2015)</td>\n",
       "    </tr>\n",
       "    <tr>\n",
       "      <th>17</th>\n",
       "      <td>TW Hydrae</td>\n",
       "      <td>10±3</td>\n",
       "      <td>33</td>\n",
       "      <td>Bell et al. (2015)</td>\n",
       "    </tr>\n",
       "    <tr>\n",
       "      <th>18</th>\n",
       "      <td>Upper Centaurus Lupus</td>\n",
       "      <td>16±2</td>\n",
       "      <td>436</td>\n",
       "      <td>Pecaut &amp; Mamajek (2016)</td>\n",
       "    </tr>\n",
       "    <tr>\n",
       "      <th>19</th>\n",
       "      <td>Upper CrA</td>\n",
       "      <td>10</td>\n",
       "      <td>6</td>\n",
       "      <td>Gagne et al. (2018)</td>\n",
       "    </tr>\n",
       "    <tr>\n",
       "      <th>20</th>\n",
       "      <td>Upper Scorpius</td>\n",
       "      <td>10±3</td>\n",
       "      <td>13</td>\n",
       "      <td>Pecaut &amp; Mamajek (2016)</td>\n",
       "    </tr>\n",
       "    <tr>\n",
       "      <th>21</th>\n",
       "      <td>Ursa Major cluster</td>\n",
       "      <td>414±23</td>\n",
       "      <td>3</td>\n",
       "      <td>Jones et al. (2015)</td>\n",
       "    </tr>\n",
       "    <tr>\n",
       "      <th>22</th>\n",
       "      <td>χ For</td>\n",
       "      <td>∼500</td>\n",
       "      <td>9</td>\n",
       "      <td>Pohnl &amp; Paunzen (2010)</td>\n",
       "    </tr>\n",
       "  </tbody>\n",
       "</table>\n",
       "</div>"
      ],
      "text/plain": [
       "               Population    Age [Myr]  Count  \\\n",
       "0              AB Doradus    149+51−19    283   \n",
       "1                   Argus        40-50     38   \n",
       "2              β Pictoris         24±3    144   \n",
       "3                  Carina      45+11−7     78   \n",
       "4             Carina-Near         ∼200     57   \n",
       "5                 Columba       42+6−4    129   \n",
       "6       eta Chamaeleontis  3.7+4.6−1.4     14   \n",
       "7         η Chamaeleontis         11±3      3   \n",
       "8                  Hyades      750±100     61   \n",
       "9                  IC2391         50±5      7   \n",
       "10                 IC2602       46+6−5     22   \n",
       "11   Lower Centaurus Crux         15±3    338   \n",
       "12                 Octans         35±5     80   \n",
       "13              Platais 8          ∼60     13   \n",
       "14               Pleiades        112±5     11   \n",
       "15                 Taurus          1-2     11   \n",
       "16      Tucana-Horologium         45±5    182   \n",
       "17              TW Hydrae         10±3     33   \n",
       "18  Upper Centaurus Lupus         16±2    436   \n",
       "19              Upper CrA           10      6   \n",
       "20         Upper Scorpius         10±3     13   \n",
       "21     Ursa Major cluster       414±23      3   \n",
       "22                  χ For         ∼500      9   \n",
       "\n",
       "                             Age Ref.  \n",
       "0                  Bell et al. (2015)  \n",
       "1                    Zuckerman (2019)  \n",
       "2                  Bell et al. (2015)  \n",
       "3                  Bell et al. (2015)  \n",
       "4             Zuckerman et al. (2006)  \n",
       "5                  Bell et al. (2015)  \n",
       "6                Murphy et al. (2013)  \n",
       "7                  Bell et al. (2015)  \n",
       "8               Brandt & Huang (2015)  \n",
       "9   Barrado y Navascues et al. (2004)  \n",
       "10               Dobbie et al. (2010)  \n",
       "11            Pecaut & Mamajek (2016)  \n",
       "12             Murphy & Lawson (2015)  \n",
       "13              Platais et al. (1998)  \n",
       "14                        Dahm (2015)  \n",
       "15           Kenyon & Hartmann (1995)  \n",
       "16                 Bell et al. (2015)  \n",
       "17                 Bell et al. (2015)  \n",
       "18            Pecaut & Mamajek (2016)  \n",
       "19                Gagne et al. (2018)  \n",
       "20            Pecaut & Mamajek (2016)  \n",
       "21                Jones et al. (2015)  \n",
       "22             Pohnl & Paunzen (2010)  "
      ]
     },
     "execution_count": 13,
     "metadata": {},
     "output_type": "execute_result"
    }
   ],
   "source": [
    "import pandas as pd\n",
    "\n",
    "pd.read_csv('../chronos/data/Feinstein2020.csv')"
   ]
  },
  {
   "cell_type": "code",
   "execution_count": null,
   "metadata": {},
   "outputs": [],
   "source": []
  }
 ],
 "metadata": {
  "kernelspec": {
   "display_name": "Python 3",
   "language": "python",
   "name": "python3"
  },
  "language_info": {
   "codemirror_mode": {
    "name": "ipython",
    "version": 3
   },
   "file_extension": ".py",
   "mimetype": "text/x-python",
   "name": "python",
   "nbconvert_exporter": "python",
   "pygments_lexer": "ipython3",
   "version": "3.7.6"
  },
  "toc": {
   "base_numbering": 1,
   "nav_menu": {},
   "number_sections": true,
   "sideBar": true,
   "skip_h1_title": false,
   "title_cell": "Table of Contents",
   "title_sidebar": "Contents",
   "toc_cell": false,
   "toc_position": {},
   "toc_section_display": true,
   "toc_window_display": false
  }
 },
 "nbformat": 4,
 "nbformat_minor": 4
}
