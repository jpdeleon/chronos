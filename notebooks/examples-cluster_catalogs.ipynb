{
 "cells": [
  {
   "cell_type": "markdown",
   "metadata": {},
   "source": [
    "<a href=\"https://colab.research.google.com/github/jpdeleon/chronos/blob/master/notebooks/examples-cluster_catalogs.ipynb\" target=\"_parent\"><img src=\"https://colab.research.google.com/assets/colab-badge.svg\" alt=\"Open In Colab\"/></a>"
   ]
  },
  {
   "cell_type": "code",
   "execution_count": 1,
   "metadata": {
    "ExecuteTime": {
     "end_time": "2022-09-26T03:40:46.676711Z",
     "start_time": "2022-09-26T03:40:46.674119Z"
    }
   },
   "outputs": [],
   "source": [
    "#!pip install git+https://github.com/jpdeleon/chronos.git@master"
   ]
  },
  {
   "cell_type": "code",
   "execution_count": 2,
   "metadata": {
    "ExecuteTime": {
     "end_time": "2022-09-26T03:40:50.115989Z",
     "start_time": "2022-09-26T03:40:46.683259Z"
    }
   },
   "outputs": [
    {
     "name": "stdout",
     "output_type": "stream",
     "text": [
      "Created TAP+ (v1.2.1) - Connection:\n",
      "\tHost: gea.esac.esa.int\n",
      "\tUse HTTPS: True\n",
      "\tPort: 443\n",
      "\tSSL Port: 443\n",
      "Created TAP+ (v1.2.1) - Connection:\n",
      "\tHost: geadata.esac.esa.int\n",
      "\tUse HTTPS: True\n",
      "\tPort: 443\n",
      "\tSSL Port: 443\n"
     ]
    }
   ],
   "source": [
    "import chronos as cr"
   ]
  },
  {
   "cell_type": "markdown",
   "metadata": {},
   "source": [
    "## Hao+2022"
   ]
  },
  {
   "cell_type": "code",
   "execution_count": 3,
   "metadata": {
    "ExecuteTime": {
     "end_time": "2022-09-26T03:40:50.124670Z",
     "start_time": "2022-09-26T03:40:50.117829Z"
    }
   },
   "outputs": [
    {
     "data": {
      "text/plain": [
       "ClusterCatalog(catalog_name=Hao2022)"
      ]
     },
     "execution_count": 3,
     "metadata": {},
     "output_type": "execute_result"
    }
   ],
   "source": [
    "#initialize\n",
    "cc = cr.ClusterCatalog(catalog_name='Hao2022')\n",
    "cc"
   ]
  },
  {
   "cell_type": "code",
   "execution_count": 4,
   "metadata": {
    "ExecuteTime": {
     "end_time": "2022-09-26T03:40:50.140094Z",
     "start_time": "2022-09-26T03:40:50.126647Z"
    }
   },
   "outputs": [
    {
     "data": {
      "text/plain": [
       "'https://vizier.u-strasbg.fr/viz-bin/VizieR?-source=J/A+A/660/A4'"
      ]
     },
     "execution_count": 4,
     "metadata": {},
     "output_type": "execute_result"
    }
   ],
   "source": [
    "#info\n",
    "cc.get_vizier_url()"
   ]
  },
  {
   "cell_type": "code",
   "execution_count": 5,
   "metadata": {
    "ExecuteTime": {
     "end_time": "2022-09-26T03:40:50.248144Z",
     "start_time": "2022-09-26T03:40:50.142551Z"
    }
   },
   "outputs": [
    {
     "name": "stdout",
     "output_type": "stream",
     "text": [
      "Using Hao2022 catalog.\n"
     ]
    },
    {
     "data": {
      "text/html": [
       "<div>\n",
       "<style scoped>\n",
       "    .dataframe tbody tr th:only-of-type {\n",
       "        vertical-align: middle;\n",
       "    }\n",
       "\n",
       "    .dataframe tbody tr th {\n",
       "        vertical-align: top;\n",
       "    }\n",
       "\n",
       "    .dataframe thead th {\n",
       "        text-align: right;\n",
       "    }\n",
       "</style>\n",
       "<table border=\"1\" class=\"dataframe\">\n",
       "  <thead>\n",
       "    <tr style=\"text-align: right;\">\n",
       "      <th></th>\n",
       "      <th>Cluster</th>\n",
       "      <th>RA_ICRS</th>\n",
       "      <th>e_RA_ICRS</th>\n",
       "      <th>DE_ICRS</th>\n",
       "      <th>e_DE_ICRS</th>\n",
       "      <th>GLON</th>\n",
       "      <th>e_GLON</th>\n",
       "      <th>GLAT</th>\n",
       "      <th>e_GLAT</th>\n",
       "      <th>adeg</th>\n",
       "      <th>...</th>\n",
       "      <th>e_age</th>\n",
       "      <th>AG</th>\n",
       "      <th>Z</th>\n",
       "      <th>RV</th>\n",
       "      <th>s_RV</th>\n",
       "      <th>N</th>\n",
       "      <th>o_RV</th>\n",
       "      <th>ra</th>\n",
       "      <th>dec</th>\n",
       "      <th>distance</th>\n",
       "    </tr>\n",
       "  </thead>\n",
       "  <tbody>\n",
       "    <tr>\n",
       "      <th>0</th>\n",
       "      <td>OC-0001</td>\n",
       "      <td>267.981796</td>\n",
       "      <td>0.027433</td>\n",
       "      <td>-27.851308</td>\n",
       "      <td>0.019313</td>\n",
       "      <td>1.644622</td>\n",
       "      <td>0.021793</td>\n",
       "      <td>-0.629447</td>\n",
       "      <td>0.022055</td>\n",
       "      <td>0.031006</td>\n",
       "      <td>...</td>\n",
       "      <td>0.17</td>\n",
       "      <td>3.22</td>\n",
       "      <td>0.028</td>\n",
       "      <td>NaN</td>\n",
       "      <td>NaN</td>\n",
       "      <td>17</td>\n",
       "      <td>0</td>\n",
       "      <td>267.981792</td>\n",
       "      <td>-27.851309</td>\n",
       "      <td>2882.425850</td>\n",
       "    </tr>\n",
       "    <tr>\n",
       "      <th>1</th>\n",
       "      <td>OC-0002</td>\n",
       "      <td>263.377750</td>\n",
       "      <td>0.068219</td>\n",
       "      <td>-25.019992</td>\n",
       "      <td>0.045327</td>\n",
       "      <td>1.887284</td>\n",
       "      <td>0.050364</td>\n",
       "      <td>4.365118</td>\n",
       "      <td>0.057918</td>\n",
       "      <td>0.076753</td>\n",
       "      <td>...</td>\n",
       "      <td>0.18</td>\n",
       "      <td>3.72</td>\n",
       "      <td>0.028</td>\n",
       "      <td>-12.260829</td>\n",
       "      <td>NaN</td>\n",
       "      <td>33</td>\n",
       "      <td>1</td>\n",
       "      <td>263.377744</td>\n",
       "      <td>-25.019991</td>\n",
       "      <td>1223.322397</td>\n",
       "    </tr>\n",
       "    <tr>\n",
       "      <th>2</th>\n",
       "      <td>OC-0003</td>\n",
       "      <td>270.241890</td>\n",
       "      <td>0.034381</td>\n",
       "      <td>-24.870192</td>\n",
       "      <td>0.034047</td>\n",
       "      <td>5.239749</td>\n",
       "      <td>0.037631</td>\n",
       "      <td>-0.881702</td>\n",
       "      <td>0.026765</td>\n",
       "      <td>0.046179</td>\n",
       "      <td>...</td>\n",
       "      <td>0.20</td>\n",
       "      <td>2.56</td>\n",
       "      <td>0.028</td>\n",
       "      <td>NaN</td>\n",
       "      <td>NaN</td>\n",
       "      <td>16</td>\n",
       "      <td>0</td>\n",
       "      <td>270.241885</td>\n",
       "      <td>-24.870191</td>\n",
       "      <td>1830.351995</td>\n",
       "    </tr>\n",
       "    <tr>\n",
       "      <th>3</th>\n",
       "      <td>OC-0004</td>\n",
       "      <td>270.678504</td>\n",
       "      <td>0.024258</td>\n",
       "      <td>-24.261303</td>\n",
       "      <td>0.027998</td>\n",
       "      <td>5.965418</td>\n",
       "      <td>0.023713</td>\n",
       "      <td>-0.925977</td>\n",
       "      <td>0.026662</td>\n",
       "      <td>0.035681</td>\n",
       "      <td>...</td>\n",
       "      <td>0.15</td>\n",
       "      <td>1.38</td>\n",
       "      <td>0.016</td>\n",
       "      <td>NaN</td>\n",
       "      <td>NaN</td>\n",
       "      <td>17</td>\n",
       "      <td>0</td>\n",
       "      <td>270.678495</td>\n",
       "      <td>-24.261295</td>\n",
       "      <td>1319.139393</td>\n",
       "    </tr>\n",
       "    <tr>\n",
       "      <th>4</th>\n",
       "      <td>OC-0005</td>\n",
       "      <td>271.798880</td>\n",
       "      <td>0.031469</td>\n",
       "      <td>-24.728354</td>\n",
       "      <td>0.034868</td>\n",
       "      <td>6.057161</td>\n",
       "      <td>0.038092</td>\n",
       "      <td>-2.043646</td>\n",
       "      <td>0.024160</td>\n",
       "      <td>0.045108</td>\n",
       "      <td>...</td>\n",
       "      <td>0.19</td>\n",
       "      <td>3.46</td>\n",
       "      <td>0.028</td>\n",
       "      <td>3.358612</td>\n",
       "      <td>NaN</td>\n",
       "      <td>20</td>\n",
       "      <td>1</td>\n",
       "      <td>271.798877</td>\n",
       "      <td>-24.728351</td>\n",
       "      <td>1810.174265</td>\n",
       "    </tr>\n",
       "  </tbody>\n",
       "</table>\n",
       "<p>5 rows × 27 columns</p>\n",
       "</div>"
      ],
      "text/plain": [
       "   Cluster     RA_ICRS  e_RA_ICRS    DE_ICRS  e_DE_ICRS      GLON    e_GLON  \\\n",
       "0  OC-0001  267.981796   0.027433 -27.851308   0.019313  1.644622  0.021793   \n",
       "1  OC-0002  263.377750   0.068219 -25.019992   0.045327  1.887284  0.050364   \n",
       "2  OC-0003  270.241890   0.034381 -24.870192   0.034047  5.239749  0.037631   \n",
       "3  OC-0004  270.678504   0.024258 -24.261303   0.027998  5.965418  0.023713   \n",
       "4  OC-0005  271.798880   0.031469 -24.728354   0.034868  6.057161  0.038092   \n",
       "\n",
       "       GLAT    e_GLAT      adeg  ...  e_age    AG      Z         RV  s_RV   N  \\\n",
       "0 -0.629447  0.022055  0.031006  ...   0.17  3.22  0.028        NaN   NaN  17   \n",
       "1  4.365118  0.057918  0.076753  ...   0.18  3.72  0.028 -12.260829   NaN  33   \n",
       "2 -0.881702  0.026765  0.046179  ...   0.20  2.56  0.028        NaN   NaN  16   \n",
       "3 -0.925977  0.026662  0.035681  ...   0.15  1.38  0.016        NaN   NaN  17   \n",
       "4 -2.043646  0.024160  0.045108  ...   0.19  3.46  0.028   3.358612   NaN  20   \n",
       "\n",
       "   o_RV          ra        dec     distance  \n",
       "0     0  267.981792 -27.851309  2882.425850  \n",
       "1     1  263.377744 -25.019991  1223.322397  \n",
       "2     0  270.241885 -24.870191  1830.351995  \n",
       "3     0  270.678495 -24.261295  1319.139393  \n",
       "4     1  271.798877 -24.728351  1810.174265  \n",
       "\n",
       "[5 rows x 27 columns]"
      ]
     },
     "execution_count": 5,
     "metadata": {},
     "output_type": "execute_result"
    }
   ],
   "source": [
    "df = cc.query_catalog()\n",
    "df.head()"
   ]
  },
  {
   "cell_type": "code",
   "execution_count": 6,
   "metadata": {
    "ExecuteTime": {
     "end_time": "2022-09-26T03:40:50.258040Z",
     "start_time": "2022-09-26T03:40:50.252328Z"
    }
   },
   "outputs": [
    {
     "data": {
      "text/plain": [
       "Index(['Cluster', 'RA_ICRS', 'e_RA_ICRS', 'DE_ICRS', 'e_DE_ICRS', 'GLON',\n",
       "       'e_GLON', 'GLAT', 'e_GLAT', 'adeg', 'parallax', 'e_parallax', 'pmra',\n",
       "       'e_pmra', 'pmdec', 'e_pmdec', 'log10_age', 'e_age', 'AG', 'Z', 'RV',\n",
       "       's_RV', 'N', 'o_RV', 'ra', 'dec', 'distance'],\n",
       "      dtype='object')"
      ]
     },
     "execution_count": 6,
     "metadata": {},
     "output_type": "execute_result"
    }
   ],
   "source": [
    "df.columns"
   ]
  },
  {
   "cell_type": "code",
   "execution_count": 7,
   "metadata": {
    "ExecuteTime": {
     "end_time": "2022-09-26T03:40:50.277158Z",
     "start_time": "2022-09-26T03:40:50.265022Z"
    }
   },
   "outputs": [
    {
     "data": {
      "text/html": [
       "<div>\n",
       "<style scoped>\n",
       "    .dataframe tbody tr th:only-of-type {\n",
       "        vertical-align: middle;\n",
       "    }\n",
       "\n",
       "    .dataframe tbody tr th {\n",
       "        vertical-align: top;\n",
       "    }\n",
       "\n",
       "    .dataframe thead th {\n",
       "        text-align: right;\n",
       "    }\n",
       "</style>\n",
       "<table border=\"1\" class=\"dataframe\">\n",
       "  <thead>\n",
       "    <tr style=\"text-align: right;\">\n",
       "      <th></th>\n",
       "      <th>Cluster</th>\n",
       "      <th>log10_age</th>\n",
       "      <th>distance</th>\n",
       "    </tr>\n",
       "  </thead>\n",
       "  <tbody>\n",
       "    <tr>\n",
       "      <th>148</th>\n",
       "      <td>OC-0149</td>\n",
       "      <td>6.0</td>\n",
       "      <td>1787.265377</td>\n",
       "    </tr>\n",
       "    <tr>\n",
       "      <th>30</th>\n",
       "      <td>OC-0031</td>\n",
       "      <td>6.0</td>\n",
       "      <td>2046.240953</td>\n",
       "    </tr>\n",
       "    <tr>\n",
       "      <th>439</th>\n",
       "      <td>OC-0440</td>\n",
       "      <td>6.0</td>\n",
       "      <td>14296.947602</td>\n",
       "    </tr>\n",
       "    <tr>\n",
       "      <th>687</th>\n",
       "      <td>OC-0688</td>\n",
       "      <td>6.0</td>\n",
       "      <td>1805.210560</td>\n",
       "    </tr>\n",
       "    <tr>\n",
       "      <th>681</th>\n",
       "      <td>OC-0682</td>\n",
       "      <td>6.0</td>\n",
       "      <td>5889.385560</td>\n",
       "    </tr>\n",
       "    <tr>\n",
       "      <th>222</th>\n",
       "      <td>OC-0223</td>\n",
       "      <td>6.0</td>\n",
       "      <td>720.292958</td>\n",
       "    </tr>\n",
       "    <tr>\n",
       "      <th>50</th>\n",
       "      <td>OC-0051</td>\n",
       "      <td>6.0</td>\n",
       "      <td>1944.927435</td>\n",
       "    </tr>\n",
       "    <tr>\n",
       "      <th>291</th>\n",
       "      <td>OC-0292</td>\n",
       "      <td>6.0</td>\n",
       "      <td>1729.451522</td>\n",
       "    </tr>\n",
       "    <tr>\n",
       "      <th>62</th>\n",
       "      <td>OC-0063</td>\n",
       "      <td>6.0</td>\n",
       "      <td>3131.850924</td>\n",
       "    </tr>\n",
       "    <tr>\n",
       "      <th>63</th>\n",
       "      <td>OC-0064</td>\n",
       "      <td>6.0</td>\n",
       "      <td>1852.023335</td>\n",
       "    </tr>\n",
       "  </tbody>\n",
       "</table>\n",
       "</div>"
      ],
      "text/plain": [
       "     Cluster  log10_age      distance\n",
       "148  OC-0149        6.0   1787.265377\n",
       "30   OC-0031        6.0   2046.240953\n",
       "439  OC-0440        6.0  14296.947602\n",
       "687  OC-0688        6.0   1805.210560\n",
       "681  OC-0682        6.0   5889.385560\n",
       "222  OC-0223        6.0    720.292958\n",
       "50   OC-0051        6.0   1944.927435\n",
       "291  OC-0292        6.0   1729.451522\n",
       "62   OC-0063        6.0   3131.850924\n",
       "63   OC-0064        6.0   1852.023335"
      ]
     },
     "execution_count": 7,
     "metadata": {},
     "output_type": "execute_result"
    }
   ],
   "source": [
    "cc.all_clusters.sort_values(by='log10_age')[['Cluster','log10_age','distance']].head(10)"
   ]
  },
  {
   "cell_type": "code",
   "execution_count": 8,
   "metadata": {
    "ExecuteTime": {
     "end_time": "2022-09-26T03:40:50.676409Z",
     "start_time": "2022-09-26T03:40:50.279369Z"
    }
   },
   "outputs": [
    {
     "data": {
      "image/png": "[encoded data removed]",
      "text/plain": [
       "<Figure size 640x480 with 2 Axes>"
      ]
     },
     "metadata": {},
     "output_type": "display_data"
    }
   ],
   "source": [
    "#plot clusters in catalog\n",
    "cc.all_clusters = cc.all_clusters[cc.all_clusters['distance']<200]\n",
    "fig = cc.plot_all_clusters(x='GLON', y='GLAT', c='distance');"
   ]
  },
  {
   "cell_type": "code",
   "execution_count": 9,
   "metadata": {
    "ExecuteTime": {
     "end_time": "2022-09-26T03:40:50.886006Z",
     "start_time": "2022-09-26T03:40:50.678281Z"
    }
   },
   "outputs": [
    {
     "name": "stdout",
     "output_type": "stream",
     "text": [
      "Using Hao2022 catalog.\n"
     ]
    }
   ],
   "source": [
    "mem=cc.query_catalog(return_members=True)"
   ]
  },
  {
   "cell_type": "code",
   "execution_count": 10,
   "metadata": {
    "ExecuteTime": {
     "end_time": "2022-09-26T03:40:50.906664Z",
     "start_time": "2022-09-26T03:40:50.887628Z"
    }
   },
   "outputs": [
    {
     "data": {
      "text/html": [
       "<div>\n",
       "<style scoped>\n",
       "    .dataframe tbody tr th:only-of-type {\n",
       "        vertical-align: middle;\n",
       "    }\n",
       "\n",
       "    .dataframe tbody tr th {\n",
       "        vertical-align: top;\n",
       "    }\n",
       "\n",
       "    .dataframe thead th {\n",
       "        text-align: right;\n",
       "    }\n",
       "</style>\n",
       "<table border=\"1\" class=\"dataframe\">\n",
       "  <thead>\n",
       "    <tr style=\"text-align: right;\">\n",
       "      <th></th>\n",
       "      <th>source_id</th>\n",
       "      <th>RA_ICRS</th>\n",
       "      <th>DE_ICRS</th>\n",
       "      <th>GLON</th>\n",
       "      <th>GLAT</th>\n",
       "      <th>parallax</th>\n",
       "      <th>pmra</th>\n",
       "      <th>pmdec</th>\n",
       "      <th>radial_velocity</th>\n",
       "      <th>e_radial_velocity</th>\n",
       "      <th>Gmag</th>\n",
       "      <th>BP-RP</th>\n",
       "      <th>ra</th>\n",
       "      <th>dec</th>\n",
       "      <th>distance</th>\n",
       "    </tr>\n",
       "    <tr>\n",
       "      <th>Cluster</th>\n",
       "      <th></th>\n",
       "      <th></th>\n",
       "      <th></th>\n",
       "      <th></th>\n",
       "      <th></th>\n",
       "      <th></th>\n",
       "      <th></th>\n",
       "      <th></th>\n",
       "      <th></th>\n",
       "      <th></th>\n",
       "      <th></th>\n",
       "      <th></th>\n",
       "      <th></th>\n",
       "      <th></th>\n",
       "      <th></th>\n",
       "    </tr>\n",
       "  </thead>\n",
       "  <tbody>\n",
       "    <tr>\n",
       "      <th>OC-0066</th>\n",
       "      <td>31</td>\n",
       "      <td>31</td>\n",
       "      <td>31</td>\n",
       "      <td>31</td>\n",
       "      <td>31</td>\n",
       "      <td>31</td>\n",
       "      <td>31</td>\n",
       "      <td>31</td>\n",
       "      <td>8</td>\n",
       "      <td>8</td>\n",
       "      <td>31</td>\n",
       "      <td>31</td>\n",
       "      <td>31</td>\n",
       "      <td>31</td>\n",
       "      <td>31</td>\n",
       "    </tr>\n",
       "    <tr>\n",
       "      <th>OC-0067</th>\n",
       "      <td>25</td>\n",
       "      <td>25</td>\n",
       "      <td>25</td>\n",
       "      <td>25</td>\n",
       "      <td>25</td>\n",
       "      <td>25</td>\n",
       "      <td>25</td>\n",
       "      <td>25</td>\n",
       "      <td>8</td>\n",
       "      <td>8</td>\n",
       "      <td>25</td>\n",
       "      <td>25</td>\n",
       "      <td>25</td>\n",
       "      <td>25</td>\n",
       "      <td>25</td>\n",
       "    </tr>\n",
       "    <tr>\n",
       "      <th>OC-0150</th>\n",
       "      <td>124</td>\n",
       "      <td>124</td>\n",
       "      <td>124</td>\n",
       "      <td>124</td>\n",
       "      <td>124</td>\n",
       "      <td>124</td>\n",
       "      <td>124</td>\n",
       "      <td>124</td>\n",
       "      <td>7</td>\n",
       "      <td>7</td>\n",
       "      <td>124</td>\n",
       "      <td>124</td>\n",
       "      <td>124</td>\n",
       "      <td>124</td>\n",
       "      <td>124</td>\n",
       "    </tr>\n",
       "    <tr>\n",
       "      <th>OC-0347</th>\n",
       "      <td>217</td>\n",
       "      <td>217</td>\n",
       "      <td>217</td>\n",
       "      <td>217</td>\n",
       "      <td>217</td>\n",
       "      <td>217</td>\n",
       "      <td>217</td>\n",
       "      <td>217</td>\n",
       "      <td>7</td>\n",
       "      <td>7</td>\n",
       "      <td>217</td>\n",
       "      <td>211</td>\n",
       "      <td>217</td>\n",
       "      <td>217</td>\n",
       "      <td>217</td>\n",
       "    </tr>\n",
       "    <tr>\n",
       "      <th>OC-0011</th>\n",
       "      <td>289</td>\n",
       "      <td>289</td>\n",
       "      <td>289</td>\n",
       "      <td>289</td>\n",
       "      <td>289</td>\n",
       "      <td>289</td>\n",
       "      <td>289</td>\n",
       "      <td>289</td>\n",
       "      <td>6</td>\n",
       "      <td>6</td>\n",
       "      <td>289</td>\n",
       "      <td>287</td>\n",
       "      <td>289</td>\n",
       "      <td>289</td>\n",
       "      <td>289</td>\n",
       "    </tr>\n",
       "    <tr>\n",
       "      <th>...</th>\n",
       "      <td>...</td>\n",
       "      <td>...</td>\n",
       "      <td>...</td>\n",
       "      <td>...</td>\n",
       "      <td>...</td>\n",
       "      <td>...</td>\n",
       "      <td>...</td>\n",
       "      <td>...</td>\n",
       "      <td>...</td>\n",
       "      <td>...</td>\n",
       "      <td>...</td>\n",
       "      <td>...</td>\n",
       "      <td>...</td>\n",
       "      <td>...</td>\n",
       "      <td>...</td>\n",
       "    </tr>\n",
       "    <tr>\n",
       "      <th>OC-0257</th>\n",
       "      <td>15</td>\n",
       "      <td>15</td>\n",
       "      <td>15</td>\n",
       "      <td>15</td>\n",
       "      <td>15</td>\n",
       "      <td>15</td>\n",
       "      <td>15</td>\n",
       "      <td>15</td>\n",
       "      <td>0</td>\n",
       "      <td>0</td>\n",
       "      <td>15</td>\n",
       "      <td>15</td>\n",
       "      <td>15</td>\n",
       "      <td>15</td>\n",
       "      <td>15</td>\n",
       "    </tr>\n",
       "    <tr>\n",
       "      <th>OC-0256</th>\n",
       "      <td>19</td>\n",
       "      <td>19</td>\n",
       "      <td>19</td>\n",
       "      <td>19</td>\n",
       "      <td>19</td>\n",
       "      <td>19</td>\n",
       "      <td>19</td>\n",
       "      <td>19</td>\n",
       "      <td>0</td>\n",
       "      <td>0</td>\n",
       "      <td>19</td>\n",
       "      <td>19</td>\n",
       "      <td>19</td>\n",
       "      <td>19</td>\n",
       "      <td>19</td>\n",
       "    </tr>\n",
       "    <tr>\n",
       "      <th>OC-0255</th>\n",
       "      <td>15</td>\n",
       "      <td>15</td>\n",
       "      <td>15</td>\n",
       "      <td>15</td>\n",
       "      <td>15</td>\n",
       "      <td>15</td>\n",
       "      <td>15</td>\n",
       "      <td>15</td>\n",
       "      <td>0</td>\n",
       "      <td>0</td>\n",
       "      <td>15</td>\n",
       "      <td>15</td>\n",
       "      <td>15</td>\n",
       "      <td>15</td>\n",
       "      <td>15</td>\n",
       "    </tr>\n",
       "    <tr>\n",
       "      <th>OC-0254</th>\n",
       "      <td>29</td>\n",
       "      <td>29</td>\n",
       "      <td>29</td>\n",
       "      <td>29</td>\n",
       "      <td>29</td>\n",
       "      <td>29</td>\n",
       "      <td>29</td>\n",
       "      <td>29</td>\n",
       "      <td>0</td>\n",
       "      <td>0</td>\n",
       "      <td>29</td>\n",
       "      <td>29</td>\n",
       "      <td>29</td>\n",
       "      <td>29</td>\n",
       "      <td>29</td>\n",
       "    </tr>\n",
       "    <tr>\n",
       "      <th>OC-0353</th>\n",
       "      <td>15</td>\n",
       "      <td>15</td>\n",
       "      <td>15</td>\n",
       "      <td>15</td>\n",
       "      <td>15</td>\n",
       "      <td>15</td>\n",
       "      <td>15</td>\n",
       "      <td>15</td>\n",
       "      <td>0</td>\n",
       "      <td>0</td>\n",
       "      <td>15</td>\n",
       "      <td>15</td>\n",
       "      <td>15</td>\n",
       "      <td>15</td>\n",
       "      <td>15</td>\n",
       "    </tr>\n",
       "  </tbody>\n",
       "</table>\n",
       "<p>704 rows × 15 columns</p>\n",
       "</div>"
      ],
      "text/plain": [
       "         source_id  RA_ICRS  DE_ICRS  GLON  GLAT  parallax  pmra  pmdec  \\\n",
       "Cluster                                                                   \n",
       "OC-0066         31       31       31    31    31        31    31     31   \n",
       "OC-0067         25       25       25    25    25        25    25     25   \n",
       "OC-0150        124      124      124   124   124       124   124    124   \n",
       "OC-0347        217      217      217   217   217       217   217    217   \n",
       "OC-0011        289      289      289   289   289       289   289    289   \n",
       "...            ...      ...      ...   ...   ...       ...   ...    ...   \n",
       "OC-0257         15       15       15    15    15        15    15     15   \n",
       "OC-0256         19       19       19    19    19        19    19     19   \n",
       "OC-0255         15       15       15    15    15        15    15     15   \n",
       "OC-0254         29       29       29    29    29        29    29     29   \n",
       "OC-0353         15       15       15    15    15        15    15     15   \n",
       "\n",
       "         radial_velocity  e_radial_velocity  Gmag  BP-RP   ra  dec  distance  \n",
       "Cluster                                                                       \n",
       "OC-0066                8                  8    31     31   31   31        31  \n",
       "OC-0067                8                  8    25     25   25   25        25  \n",
       "OC-0150                7                  7   124    124  124  124       124  \n",
       "OC-0347                7                  7   217    211  217  217       217  \n",
       "OC-0011                6                  6   289    287  289  289       289  \n",
       "...                  ...                ...   ...    ...  ...  ...       ...  \n",
       "OC-0257                0                  0    15     15   15   15        15  \n",
       "OC-0256                0                  0    19     19   19   19        19  \n",
       "OC-0255                0                  0    15     15   15   15        15  \n",
       "OC-0254                0                  0    29     29   29   29        29  \n",
       "OC-0353                0                  0    15     15   15   15        15  \n",
       "\n",
       "[704 rows x 15 columns]"
      ]
     },
     "execution_count": 10,
     "metadata": {},
     "output_type": "execute_result"
    }
   ],
   "source": [
    "g=mem.groupby(by='Cluster')\n",
    "g.count().sort_values(by='radial_velocity', ascending=False)"
   ]
  },
  {
   "cell_type": "markdown",
   "metadata": {},
   "source": [
    "## He+2022b"
   ]
  },
  {
   "cell_type": "code",
   "execution_count": 11,
   "metadata": {
    "ExecuteTime": {
     "end_time": "2022-09-26T03:40:50.917075Z",
     "start_time": "2022-09-26T03:40:50.911513Z"
    }
   },
   "outputs": [],
   "source": [
    "import chronos as cr"
   ]
  },
  {
   "cell_type": "code",
   "execution_count": 12,
   "metadata": {
    "ExecuteTime": {
     "end_time": "2022-09-26T03:40:50.924010Z",
     "start_time": "2022-09-26T03:40:50.919258Z"
    }
   },
   "outputs": [
    {
     "data": {
      "text/plain": [
       "ClusterCatalog(catalog_name=He2022b)"
      ]
     },
     "execution_count": 12,
     "metadata": {},
     "output_type": "execute_result"
    }
   ],
   "source": [
    "#initialize\n",
    "cc = cr.ClusterCatalog(catalog_name='He2022b')\n",
    "cc"
   ]
  },
  {
   "cell_type": "raw",
   "metadata": {
    "ExecuteTime": {
     "end_time": "2022-09-22T06:58:41.592455Z",
     "start_time": "2022-09-22T06:58:41.578612Z"
    }
   },
   "source": [
    "#info\n",
    "cc.get_vizier_url()"
   ]
  },
  {
   "cell_type": "code",
   "execution_count": 13,
   "metadata": {
    "ExecuteTime": {
     "end_time": "2022-09-26T03:40:50.975777Z",
     "start_time": "2022-09-26T03:40:50.928347Z"
    }
   },
   "outputs": [
    {
     "name": "stdout",
     "output_type": "stream",
     "text": [
      "Using He2022b catalog.\n"
     ]
    },
    {
     "data": {
      "text/html": [
       "<div>\n",
       "<style scoped>\n",
       "    .dataframe tbody tr th:only-of-type {\n",
       "        vertical-align: middle;\n",
       "    }\n",
       "\n",
       "    .dataframe tbody tr th {\n",
       "        vertical-align: top;\n",
       "    }\n",
       "\n",
       "    .dataframe thead th {\n",
       "        text-align: right;\n",
       "    }\n",
       "</style>\n",
       "<table border=\"1\" class=\"dataframe\">\n",
       "  <thead>\n",
       "    <tr style=\"text-align: right;\">\n",
       "      <th></th>\n",
       "      <th>Cluster</th>\n",
       "      <th>GLON</th>\n",
       "      <th>e_GLON</th>\n",
       "      <th>GLAT</th>\n",
       "      <th>e_GLAT</th>\n",
       "      <th>Num</th>\n",
       "      <th>parallax</th>\n",
       "      <th>e_plx</th>\n",
       "      <th>pmra</th>\n",
       "      <th>e_pmra</th>\n",
       "      <th>pmdec</th>\n",
       "      <th>e_pmdec</th>\n",
       "      <th>log10_age</th>\n",
       "      <th>A0</th>\n",
       "      <th>ra</th>\n",
       "      <th>dec</th>\n",
       "      <th>distance</th>\n",
       "    </tr>\n",
       "  </thead>\n",
       "  <tbody>\n",
       "    <tr>\n",
       "      <th>0</th>\n",
       "      <td>Alessi_1</td>\n",
       "      <td>123.2631</td>\n",
       "      <td>0.118</td>\n",
       "      <td>-13.3595</td>\n",
       "      <td>0.100</td>\n",
       "      <td>46</td>\n",
       "      <td>1.411</td>\n",
       "      <td>0.036</td>\n",
       "      <td>6.476</td>\n",
       "      <td>0.105</td>\n",
       "      <td>-6.420</td>\n",
       "      <td>0.155</td>\n",
       "      <td>8.70</td>\n",
       "      <td>0.60</td>\n",
       "      <td>13.3557</td>\n",
       "      <td>49.5110</td>\n",
       "      <td>708.717222</td>\n",
       "    </tr>\n",
       "    <tr>\n",
       "      <th>1</th>\n",
       "      <td>Alessi_10</td>\n",
       "      <td>31.6259</td>\n",
       "      <td>0.272</td>\n",
       "      <td>-21.0414</td>\n",
       "      <td>0.169</td>\n",
       "      <td>81</td>\n",
       "      <td>2.260</td>\n",
       "      <td>0.046</td>\n",
       "      <td>1.447</td>\n",
       "      <td>0.173</td>\n",
       "      <td>-7.898</td>\n",
       "      <td>0.214</td>\n",
       "      <td>7.90</td>\n",
       "      <td>0.60</td>\n",
       "      <td>301.2290</td>\n",
       "      <td>-10.5241</td>\n",
       "      <td>442.477876</td>\n",
       "    </tr>\n",
       "    <tr>\n",
       "      <th>2</th>\n",
       "      <td>Alessi_12</td>\n",
       "      <td>67.4483</td>\n",
       "      <td>0.400</td>\n",
       "      <td>-11.4755</td>\n",
       "      <td>0.357</td>\n",
       "      <td>198</td>\n",
       "      <td>1.837</td>\n",
       "      <td>0.047</td>\n",
       "      <td>4.315</td>\n",
       "      <td>0.193</td>\n",
       "      <td>-4.701</td>\n",
       "      <td>0.155</td>\n",
       "      <td>7.90</td>\n",
       "      <td>0.35</td>\n",
       "      <td>310.9106</td>\n",
       "      <td>23.7975</td>\n",
       "      <td>544.365814</td>\n",
       "    </tr>\n",
       "    <tr>\n",
       "      <th>3</th>\n",
       "      <td>Alessi_13</td>\n",
       "      <td>237.2373</td>\n",
       "      <td>2.393</td>\n",
       "      <td>-55.7144</td>\n",
       "      <td>1.100</td>\n",
       "      <td>66</td>\n",
       "      <td>9.535</td>\n",
       "      <td>0.299</td>\n",
       "      <td>36.141</td>\n",
       "      <td>1.600</td>\n",
       "      <td>-4.606</td>\n",
       "      <td>0.985</td>\n",
       "      <td>7.50</td>\n",
       "      <td>0.05</td>\n",
       "      <td>52.0532</td>\n",
       "      <td>-35.6693</td>\n",
       "      <td>104.876770</td>\n",
       "    </tr>\n",
       "    <tr>\n",
       "      <th>4</th>\n",
       "      <td>Alessi_19</td>\n",
       "      <td>40.0609</td>\n",
       "      <td>0.278</td>\n",
       "      <td>12.6327</td>\n",
       "      <td>0.177</td>\n",
       "      <td>43</td>\n",
       "      <td>1.691</td>\n",
       "      <td>0.039</td>\n",
       "      <td>-1.000</td>\n",
       "      <td>0.134</td>\n",
       "      <td>-7.180</td>\n",
       "      <td>0.144</td>\n",
       "      <td>7.25</td>\n",
       "      <td>0.30</td>\n",
       "      <td>274.6656</td>\n",
       "      <td>11.9759</td>\n",
       "      <td>591.366056</td>\n",
       "    </tr>\n",
       "  </tbody>\n",
       "</table>\n",
       "</div>"
      ],
      "text/plain": [
       "     Cluster      GLON  e_GLON     GLAT  e_GLAT  Num  parallax  e_plx    pmra  \\\n",
       "0   Alessi_1  123.2631   0.118 -13.3595   0.100   46     1.411  0.036   6.476   \n",
       "1  Alessi_10   31.6259   0.272 -21.0414   0.169   81     2.260  0.046   1.447   \n",
       "2  Alessi_12   67.4483   0.400 -11.4755   0.357  198     1.837  0.047   4.315   \n",
       "3  Alessi_13  237.2373   2.393 -55.7144   1.100   66     9.535  0.299  36.141   \n",
       "4  Alessi_19   40.0609   0.278  12.6327   0.177   43     1.691  0.039  -1.000   \n",
       "\n",
       "   e_pmra  pmdec  e_pmdec  log10_age    A0        ra      dec    distance  \n",
       "0   0.105 -6.420    0.155       8.70  0.60   13.3557  49.5110  708.717222  \n",
       "1   0.173 -7.898    0.214       7.90  0.60  301.2290 -10.5241  442.477876  \n",
       "2   0.193 -4.701    0.155       7.90  0.35  310.9106  23.7975  544.365814  \n",
       "3   1.600 -4.606    0.985       7.50  0.05   52.0532 -35.6693  104.876770  \n",
       "4   0.134 -7.180    0.144       7.25  0.30  274.6656  11.9759  591.366056  "
      ]
     },
     "execution_count": 13,
     "metadata": {},
     "output_type": "execute_result"
    }
   ],
   "source": [
    "df = cc.query_catalog()\n",
    "df.head()"
   ]
  },
  {
   "cell_type": "code",
   "execution_count": 14,
   "metadata": {
    "ExecuteTime": {
     "end_time": "2022-09-26T03:40:52.339046Z",
     "start_time": "2022-09-26T03:40:50.977617Z"
    }
   },
   "outputs": [
    {
     "name": "stdout",
     "output_type": "stream",
     "text": [
      "Using He2022b catalog.\n"
     ]
    }
   ],
   "source": [
    "mem=cc.query_catalog(return_members=True)"
   ]
  },
  {
   "cell_type": "code",
   "execution_count": 15,
   "metadata": {
    "ExecuteTime": {
     "end_time": "2022-09-26T03:40:52.350781Z",
     "start_time": "2022-09-26T03:40:52.344129Z"
    }
   },
   "outputs": [
    {
     "data": {
      "text/plain": [
       "Index(['source_id', 'GLON', 'GLAT', 'parallax', 'e_parallax', 'pmra', 'e_pmra',\n",
       "       'pmdec', 'e_pmdec', 'RUWE', 'Gmag', 'BP-RP', 'nre', 'Cluster', 'ra',\n",
       "       'dec', 'distance'],\n",
       "      dtype='object')"
      ]
     },
     "execution_count": 15,
     "metadata": {},
     "output_type": "execute_result"
    }
   ],
   "source": [
    "mem.columns"
   ]
  },
  {
   "cell_type": "markdown",
   "metadata": {},
   "source": [
    "## He+2022a"
   ]
  },
  {
   "cell_type": "code",
   "execution_count": 16,
   "metadata": {
    "ExecuteTime": {
     "end_time": "2022-09-26T03:40:52.364865Z",
     "start_time": "2022-09-26T03:40:52.353731Z"
    }
   },
   "outputs": [
    {
     "data": {
      "text/plain": [
       "ClusterCatalog(catalog_name=He2022a)"
      ]
     },
     "execution_count": 16,
     "metadata": {},
     "output_type": "execute_result"
    }
   ],
   "source": [
    "#initialize\n",
    "cc = cr.ClusterCatalog(catalog_name='He2022a')\n",
    "cc"
   ]
  },
  {
   "cell_type": "raw",
   "metadata": {
    "ExecuteTime": {
     "end_time": "2022-09-22T06:58:41.592455Z",
     "start_time": "2022-09-22T06:58:41.578612Z"
    }
   },
   "source": [
    "#info\n",
    "cc.get_vizier_url()"
   ]
  },
  {
   "cell_type": "code",
   "execution_count": 17,
   "metadata": {
    "ExecuteTime": {
     "end_time": "2022-09-26T03:40:52.461184Z",
     "start_time": "2022-09-26T03:40:52.371434Z"
    }
   },
   "outputs": [
    {
     "name": "stdout",
     "output_type": "stream",
     "text": [
      "Using He2022a catalog.\n"
     ]
    },
    {
     "data": {
      "text/html": [
       "<div>\n",
       "<style scoped>\n",
       "    .dataframe tbody tr th:only-of-type {\n",
       "        vertical-align: middle;\n",
       "    }\n",
       "\n",
       "    .dataframe tbody tr th {\n",
       "        vertical-align: top;\n",
       "    }\n",
       "\n",
       "    .dataframe thead th {\n",
       "        text-align: right;\n",
       "    }\n",
       "</style>\n",
       "<table border=\"1\" class=\"dataframe\">\n",
       "  <thead>\n",
       "    <tr style=\"text-align: right;\">\n",
       "      <th></th>\n",
       "      <th>Cluster</th>\n",
       "      <th>GLON</th>\n",
       "      <th>s_GLON</th>\n",
       "      <th>GLAT</th>\n",
       "      <th>s_GLAT</th>\n",
       "      <th>parallax</th>\n",
       "      <th>e_parallax</th>\n",
       "      <th>pmra</th>\n",
       "      <th>e_pmra</th>\n",
       "      <th>pmdec</th>\n",
       "      <th>...</th>\n",
       "      <th>AG</th>\n",
       "      <th>log10_age</th>\n",
       "      <th>Z</th>\n",
       "      <th>N70</th>\n",
       "      <th>minProb</th>\n",
       "      <th>NminProb</th>\n",
       "      <th>Class</th>\n",
       "      <th>ra</th>\n",
       "      <th>dec</th>\n",
       "      <th>distance</th>\n",
       "    </tr>\n",
       "  </thead>\n",
       "  <tbody>\n",
       "    <tr>\n",
       "      <th>0</th>\n",
       "      <td>1</td>\n",
       "      <td>346.147</td>\n",
       "      <td>0.06</td>\n",
       "      <td>-2.132</td>\n",
       "      <td>0.06</td>\n",
       "      <td>0.60</td>\n",
       "      <td>0.06</td>\n",
       "      <td>-0.03</td>\n",
       "      <td>0.12</td>\n",
       "      <td>-3.58</td>\n",
       "      <td>...</td>\n",
       "      <td>2.60</td>\n",
       "      <td>8.3</td>\n",
       "      <td>0.008</td>\n",
       "      <td>115</td>\n",
       "      <td>0.70</td>\n",
       "      <td>115</td>\n",
       "      <td>1</td>\n",
       "      <td>259.2575</td>\n",
       "      <td>-41.6921</td>\n",
       "      <td>1666.666667</td>\n",
       "    </tr>\n",
       "    <tr>\n",
       "      <th>1</th>\n",
       "      <td>2</td>\n",
       "      <td>283.662</td>\n",
       "      <td>0.61</td>\n",
       "      <td>-11.431</td>\n",
       "      <td>0.22</td>\n",
       "      <td>1.39</td>\n",
       "      <td>0.04</td>\n",
       "      <td>-9.45</td>\n",
       "      <td>0.14</td>\n",
       "      <td>5.90</td>\n",
       "      <td>...</td>\n",
       "      <td>0.45</td>\n",
       "      <td>7.7</td>\n",
       "      <td>0.036</td>\n",
       "      <td>24</td>\n",
       "      <td>1.00</td>\n",
       "      <td>24</td>\n",
       "      <td>1</td>\n",
       "      <td>140.0578</td>\n",
       "      <td>-66.0403</td>\n",
       "      <td>719.424460</td>\n",
       "    </tr>\n",
       "    <tr>\n",
       "      <th>2</th>\n",
       "      <td>3</td>\n",
       "      <td>131.435</td>\n",
       "      <td>0.20</td>\n",
       "      <td>3.074</td>\n",
       "      <td>0.19</td>\n",
       "      <td>1.28</td>\n",
       "      <td>0.03</td>\n",
       "      <td>-2.42</td>\n",
       "      <td>0.09</td>\n",
       "      <td>-1.06</td>\n",
       "      <td>...</td>\n",
       "      <td>1.45</td>\n",
       "      <td>7.6</td>\n",
       "      <td>0.006</td>\n",
       "      <td>48</td>\n",
       "      <td>0.96</td>\n",
       "      <td>48</td>\n",
       "      <td>1</td>\n",
       "      <td>32.9997</td>\n",
       "      <td>64.6075</td>\n",
       "      <td>781.250000</td>\n",
       "    </tr>\n",
       "    <tr>\n",
       "      <th>3</th>\n",
       "      <td>4</td>\n",
       "      <td>348.551</td>\n",
       "      <td>0.05</td>\n",
       "      <td>-0.988</td>\n",
       "      <td>0.06</td>\n",
       "      <td>0.60</td>\n",
       "      <td>0.04</td>\n",
       "      <td>0.99</td>\n",
       "      <td>0.12</td>\n",
       "      <td>-1.14</td>\n",
       "      <td>...</td>\n",
       "      <td>2.60</td>\n",
       "      <td>8.4</td>\n",
       "      <td>0.030</td>\n",
       "      <td>55</td>\n",
       "      <td>0.73</td>\n",
       "      <td>55</td>\n",
       "      <td>1</td>\n",
       "      <td>259.8456</td>\n",
       "      <td>-39.0686</td>\n",
       "      <td>1666.666667</td>\n",
       "    </tr>\n",
       "    <tr>\n",
       "      <th>4</th>\n",
       "      <td>5</td>\n",
       "      <td>176.325</td>\n",
       "      <td>0.24</td>\n",
       "      <td>-10.221</td>\n",
       "      <td>0.17</td>\n",
       "      <td>2.27</td>\n",
       "      <td>0.12</td>\n",
       "      <td>1.27</td>\n",
       "      <td>0.17</td>\n",
       "      <td>-5.95</td>\n",
       "      <td>...</td>\n",
       "      <td>1.20</td>\n",
       "      <td>6.8</td>\n",
       "      <td>0.022</td>\n",
       "      <td>26</td>\n",
       "      <td>0.40</td>\n",
       "      <td>30</td>\n",
       "      <td>1</td>\n",
       "      <td>74.5512</td>\n",
       "      <td>26.1923</td>\n",
       "      <td>440.528634</td>\n",
       "    </tr>\n",
       "  </tbody>\n",
       "</table>\n",
       "<p>5 rows × 25 columns</p>\n",
       "</div>"
      ],
      "text/plain": [
       "   Cluster     GLON  s_GLON    GLAT  s_GLAT  parallax  e_parallax  pmra  \\\n",
       "0        1  346.147    0.06  -2.132    0.06      0.60        0.06 -0.03   \n",
       "1        2  283.662    0.61 -11.431    0.22      1.39        0.04 -9.45   \n",
       "2        3  131.435    0.20   3.074    0.19      1.28        0.03 -2.42   \n",
       "3        4  348.551    0.05  -0.988    0.06      0.60        0.04  0.99   \n",
       "4        5  176.325    0.24 -10.221    0.17      2.27        0.12  1.27   \n",
       "\n",
       "   e_pmra  pmdec  ...    AG log10_age      Z  N70  minProb  NminProb  Class  \\\n",
       "0    0.12  -3.58  ...  2.60       8.3  0.008  115     0.70       115      1   \n",
       "1    0.14   5.90  ...  0.45       7.7  0.036   24     1.00        24      1   \n",
       "2    0.09  -1.06  ...  1.45       7.6  0.006   48     0.96        48      1   \n",
       "3    0.12  -1.14  ...  2.60       8.4  0.030   55     0.73        55      1   \n",
       "4    0.17  -5.95  ...  1.20       6.8  0.022   26     0.40        30      1   \n",
       "\n",
       "         ra      dec     distance  \n",
       "0  259.2575 -41.6921  1666.666667  \n",
       "1  140.0578 -66.0403   719.424460  \n",
       "2   32.9997  64.6075   781.250000  \n",
       "3  259.8456 -39.0686  1666.666667  \n",
       "4   74.5512  26.1923   440.528634  \n",
       "\n",
       "[5 rows x 25 columns]"
      ]
     },
     "execution_count": 17,
     "metadata": {},
     "output_type": "execute_result"
    }
   ],
   "source": [
    "df = cc.query_catalog()\n",
    "df.head()"
   ]
  },
  {
   "cell_type": "code",
   "execution_count": 18,
   "metadata": {
    "ExecuteTime": {
     "end_time": "2022-09-26T03:40:53.500830Z",
     "start_time": "2022-09-26T03:40:52.465790Z"
    }
   },
   "outputs": [
    {
     "name": "stdout",
     "output_type": "stream",
     "text": [
      "Using He2022a catalog.\n"
     ]
    }
   ],
   "source": [
    "mem=cc.query_catalog(return_members=True)"
   ]
  },
  {
   "cell_type": "code",
   "execution_count": 19,
   "metadata": {
    "ExecuteTime": {
     "end_time": "2022-09-26T03:40:53.506203Z",
     "start_time": "2022-09-26T03:40:53.502310Z"
    }
   },
   "outputs": [
    {
     "data": {
      "text/plain": [
       "Index(['Seq', 'source_id', 'GLON', 'GLAT', 'parallax', 'e_parallax', 'pmra',\n",
       "       'e_pmra', 'pmdec', 'e_pmdec', 'Gmag', 'BP-RP', 'radial_velocity',\n",
       "       'e_radial_velocity', 'Pcl', 'Cluster', 'ra', 'dec', 'distance'],\n",
       "      dtype='object')"
      ]
     },
     "execution_count": 19,
     "metadata": {},
     "output_type": "execute_result"
    }
   ],
   "source": [
    "mem.columns"
   ]
  },
  {
   "cell_type": "code",
   "execution_count": 20,
   "metadata": {
    "ExecuteTime": {
     "end_time": "2022-09-26T03:40:53.562919Z",
     "start_time": "2022-09-26T03:40:53.507817Z"
    }
   },
   "outputs": [
    {
     "data": {
      "text/html": [
       "<div>\n",
       "<style scoped>\n",
       "    .dataframe tbody tr th:only-of-type {\n",
       "        vertical-align: middle;\n",
       "    }\n",
       "\n",
       "    .dataframe tbody tr th {\n",
       "        vertical-align: top;\n",
       "    }\n",
       "\n",
       "    .dataframe thead th {\n",
       "        text-align: right;\n",
       "    }\n",
       "</style>\n",
       "<table border=\"1\" class=\"dataframe\">\n",
       "  <thead>\n",
       "    <tr style=\"text-align: right;\">\n",
       "      <th></th>\n",
       "      <th>Seq</th>\n",
       "      <th>source_id</th>\n",
       "      <th>GLON</th>\n",
       "      <th>GLAT</th>\n",
       "      <th>parallax</th>\n",
       "      <th>e_parallax</th>\n",
       "      <th>pmra</th>\n",
       "      <th>e_pmra</th>\n",
       "      <th>pmdec</th>\n",
       "      <th>e_pmdec</th>\n",
       "      <th>Gmag</th>\n",
       "      <th>BP-RP</th>\n",
       "      <th>radial_velocity</th>\n",
       "      <th>e_radial_velocity</th>\n",
       "      <th>Pcl</th>\n",
       "      <th>ra</th>\n",
       "      <th>dec</th>\n",
       "      <th>distance</th>\n",
       "    </tr>\n",
       "    <tr>\n",
       "      <th>Cluster</th>\n",
       "      <th></th>\n",
       "      <th></th>\n",
       "      <th></th>\n",
       "      <th></th>\n",
       "      <th></th>\n",
       "      <th></th>\n",
       "      <th></th>\n",
       "      <th></th>\n",
       "      <th></th>\n",
       "      <th></th>\n",
       "      <th></th>\n",
       "      <th></th>\n",
       "      <th></th>\n",
       "      <th></th>\n",
       "      <th></th>\n",
       "      <th></th>\n",
       "      <th></th>\n",
       "      <th></th>\n",
       "    </tr>\n",
       "  </thead>\n",
       "  <tbody>\n",
       "    <tr>\n",
       "      <th>347</th>\n",
       "      <td>360</td>\n",
       "      <td>360</td>\n",
       "      <td>360</td>\n",
       "      <td>360</td>\n",
       "      <td>360</td>\n",
       "      <td>360</td>\n",
       "      <td>360</td>\n",
       "      <td>360</td>\n",
       "      <td>360</td>\n",
       "      <td>360</td>\n",
       "      <td>360</td>\n",
       "      <td>346</td>\n",
       "      <td>28</td>\n",
       "      <td>28</td>\n",
       "      <td>360</td>\n",
       "      <td>360</td>\n",
       "      <td>360</td>\n",
       "      <td>360</td>\n",
       "    </tr>\n",
       "    <tr>\n",
       "      <th>343</th>\n",
       "      <td>1182</td>\n",
       "      <td>1182</td>\n",
       "      <td>1182</td>\n",
       "      <td>1182</td>\n",
       "      <td>1182</td>\n",
       "      <td>1182</td>\n",
       "      <td>1182</td>\n",
       "      <td>1182</td>\n",
       "      <td>1182</td>\n",
       "      <td>1182</td>\n",
       "      <td>1182</td>\n",
       "      <td>1172</td>\n",
       "      <td>27</td>\n",
       "      <td>27</td>\n",
       "      <td>1182</td>\n",
       "      <td>1182</td>\n",
       "      <td>1182</td>\n",
       "      <td>1182</td>\n",
       "    </tr>\n",
       "    <tr>\n",
       "      <th>499</th>\n",
       "      <td>2422</td>\n",
       "      <td>2422</td>\n",
       "      <td>2422</td>\n",
       "      <td>2422</td>\n",
       "      <td>2422</td>\n",
       "      <td>2422</td>\n",
       "      <td>2422</td>\n",
       "      <td>2422</td>\n",
       "      <td>2422</td>\n",
       "      <td>2422</td>\n",
       "      <td>2422</td>\n",
       "      <td>2393</td>\n",
       "      <td>21</td>\n",
       "      <td>21</td>\n",
       "      <td>2422</td>\n",
       "      <td>2422</td>\n",
       "      <td>2422</td>\n",
       "      <td>2422</td>\n",
       "    </tr>\n",
       "    <tr>\n",
       "      <th>286</th>\n",
       "      <td>991</td>\n",
       "      <td>991</td>\n",
       "      <td>991</td>\n",
       "      <td>991</td>\n",
       "      <td>991</td>\n",
       "      <td>991</td>\n",
       "      <td>991</td>\n",
       "      <td>991</td>\n",
       "      <td>991</td>\n",
       "      <td>991</td>\n",
       "      <td>991</td>\n",
       "      <td>973</td>\n",
       "      <td>19</td>\n",
       "      <td>19</td>\n",
       "      <td>991</td>\n",
       "      <td>991</td>\n",
       "      <td>991</td>\n",
       "      <td>991</td>\n",
       "    </tr>\n",
       "    <tr>\n",
       "      <th>160</th>\n",
       "      <td>921</td>\n",
       "      <td>921</td>\n",
       "      <td>921</td>\n",
       "      <td>921</td>\n",
       "      <td>921</td>\n",
       "      <td>921</td>\n",
       "      <td>921</td>\n",
       "      <td>921</td>\n",
       "      <td>921</td>\n",
       "      <td>921</td>\n",
       "      <td>921</td>\n",
       "      <td>916</td>\n",
       "      <td>17</td>\n",
       "      <td>17</td>\n",
       "      <td>921</td>\n",
       "      <td>921</td>\n",
       "      <td>921</td>\n",
       "      <td>921</td>\n",
       "    </tr>\n",
       "    <tr>\n",
       "      <th>...</th>\n",
       "      <td>...</td>\n",
       "      <td>...</td>\n",
       "      <td>...</td>\n",
       "      <td>...</td>\n",
       "      <td>...</td>\n",
       "      <td>...</td>\n",
       "      <td>...</td>\n",
       "      <td>...</td>\n",
       "      <td>...</td>\n",
       "      <td>...</td>\n",
       "      <td>...</td>\n",
       "      <td>...</td>\n",
       "      <td>...</td>\n",
       "      <td>...</td>\n",
       "      <td>...</td>\n",
       "      <td>...</td>\n",
       "      <td>...</td>\n",
       "      <td>...</td>\n",
       "    </tr>\n",
       "    <tr>\n",
       "      <th>166</th>\n",
       "      <td>122</td>\n",
       "      <td>122</td>\n",
       "      <td>122</td>\n",
       "      <td>122</td>\n",
       "      <td>122</td>\n",
       "      <td>122</td>\n",
       "      <td>122</td>\n",
       "      <td>122</td>\n",
       "      <td>122</td>\n",
       "      <td>122</td>\n",
       "      <td>122</td>\n",
       "      <td>118</td>\n",
       "      <td>0</td>\n",
       "      <td>0</td>\n",
       "      <td>122</td>\n",
       "      <td>122</td>\n",
       "      <td>122</td>\n",
       "      <td>122</td>\n",
       "    </tr>\n",
       "    <tr>\n",
       "      <th>165</th>\n",
       "      <td>73</td>\n",
       "      <td>73</td>\n",
       "      <td>73</td>\n",
       "      <td>73</td>\n",
       "      <td>73</td>\n",
       "      <td>73</td>\n",
       "      <td>73</td>\n",
       "      <td>73</td>\n",
       "      <td>73</td>\n",
       "      <td>73</td>\n",
       "      <td>73</td>\n",
       "      <td>72</td>\n",
       "      <td>0</td>\n",
       "      <td>0</td>\n",
       "      <td>73</td>\n",
       "      <td>73</td>\n",
       "      <td>73</td>\n",
       "      <td>73</td>\n",
       "    </tr>\n",
       "    <tr>\n",
       "      <th>164</th>\n",
       "      <td>35</td>\n",
       "      <td>35</td>\n",
       "      <td>35</td>\n",
       "      <td>35</td>\n",
       "      <td>35</td>\n",
       "      <td>35</td>\n",
       "      <td>35</td>\n",
       "      <td>35</td>\n",
       "      <td>35</td>\n",
       "      <td>35</td>\n",
       "      <td>35</td>\n",
       "      <td>35</td>\n",
       "      <td>0</td>\n",
       "      <td>0</td>\n",
       "      <td>35</td>\n",
       "      <td>35</td>\n",
       "      <td>35</td>\n",
       "      <td>35</td>\n",
       "    </tr>\n",
       "    <tr>\n",
       "      <th>378</th>\n",
       "      <td>72</td>\n",
       "      <td>72</td>\n",
       "      <td>72</td>\n",
       "      <td>72</td>\n",
       "      <td>72</td>\n",
       "      <td>72</td>\n",
       "      <td>72</td>\n",
       "      <td>72</td>\n",
       "      <td>72</td>\n",
       "      <td>72</td>\n",
       "      <td>72</td>\n",
       "      <td>70</td>\n",
       "      <td>0</td>\n",
       "      <td>0</td>\n",
       "      <td>72</td>\n",
       "      <td>72</td>\n",
       "      <td>72</td>\n",
       "      <td>72</td>\n",
       "    </tr>\n",
       "    <tr>\n",
       "      <th>541</th>\n",
       "      <td>17</td>\n",
       "      <td>17</td>\n",
       "      <td>17</td>\n",
       "      <td>17</td>\n",
       "      <td>17</td>\n",
       "      <td>17</td>\n",
       "      <td>17</td>\n",
       "      <td>17</td>\n",
       "      <td>17</td>\n",
       "      <td>17</td>\n",
       "      <td>17</td>\n",
       "      <td>16</td>\n",
       "      <td>0</td>\n",
       "      <td>0</td>\n",
       "      <td>17</td>\n",
       "      <td>17</td>\n",
       "      <td>17</td>\n",
       "      <td>17</td>\n",
       "    </tr>\n",
       "  </tbody>\n",
       "</table>\n",
       "<p>541 rows × 18 columns</p>\n",
       "</div>"
      ],
      "text/plain": [
       "          Seq  source_id  GLON  GLAT  parallax  e_parallax  pmra  e_pmra  \\\n",
       "Cluster                                                                    \n",
       "347       360        360   360   360       360         360   360     360   \n",
       "343      1182       1182  1182  1182      1182        1182  1182    1182   \n",
       "499      2422       2422  2422  2422      2422        2422  2422    2422   \n",
       "286       991        991   991   991       991         991   991     991   \n",
       "160       921        921   921   921       921         921   921     921   \n",
       "...       ...        ...   ...   ...       ...         ...   ...     ...   \n",
       "166       122        122   122   122       122         122   122     122   \n",
       "165        73         73    73    73        73          73    73      73   \n",
       "164        35         35    35    35        35          35    35      35   \n",
       "378        72         72    72    72        72          72    72      72   \n",
       "541        17         17    17    17        17          17    17      17   \n",
       "\n",
       "         pmdec  e_pmdec  Gmag  BP-RP  radial_velocity  e_radial_velocity  \\\n",
       "Cluster                                                                    \n",
       "347        360      360   360    346               28                 28   \n",
       "343       1182     1182  1182   1172               27                 27   \n",
       "499       2422     2422  2422   2393               21                 21   \n",
       "286        991      991   991    973               19                 19   \n",
       "160        921      921   921    916               17                 17   \n",
       "...        ...      ...   ...    ...              ...                ...   \n",
       "166        122      122   122    118                0                  0   \n",
       "165         73       73    73     72                0                  0   \n",
       "164         35       35    35     35                0                  0   \n",
       "378         72       72    72     70                0                  0   \n",
       "541         17       17    17     16                0                  0   \n",
       "\n",
       "          Pcl    ra   dec  distance  \n",
       "Cluster                              \n",
       "347       360   360   360       360  \n",
       "343      1182  1182  1182      1182  \n",
       "499      2422  2422  2422      2422  \n",
       "286       991   991   991       991  \n",
       "160       921   921   921       921  \n",
       "...       ...   ...   ...       ...  \n",
       "166       122   122   122       122  \n",
       "165        73    73    73        73  \n",
       "164        35    35    35        35  \n",
       "378        72    72    72        72  \n",
       "541        17    17    17        17  \n",
       "\n",
       "[541 rows x 18 columns]"
      ]
     },
     "execution_count": 20,
     "metadata": {},
     "output_type": "execute_result"
    }
   ],
   "source": [
    "g=mem.groupby(by='Cluster')\n",
    "g.count().sort_values(by='radial_velocity', ascending=False)"
   ]
  },
  {
   "cell_type": "code",
   "execution_count": 21,
   "metadata": {
    "ExecuteTime": {
     "end_time": "2022-09-26T03:40:55.991985Z",
     "start_time": "2022-09-26T03:40:53.572382Z"
    }
   },
   "outputs": [
    {
     "name": "stdout",
     "output_type": "stream",
     "text": [
      "Using He2022a catalog.\n"
     ]
    },
    {
     "data": {
      "image/png": "[encoded data removed]",
      "text/plain": [
       "<Figure size 1000x1000 with 6 Axes>"
      ]
     },
     "metadata": {},
     "output_type": "display_data"
    }
   ],
   "source": [
    "c=cr.Cluster(cluster_name=\"347\", catalog_name=\"He2022a\")\n",
    "fig=c.plot_rdp_pmrv(color='BP-RP')"
   ]
  },
  {
   "cell_type": "markdown",
   "metadata": {},
   "source": [
    "## Castro-Ginard+2022"
   ]
  },
  {
   "cell_type": "code",
   "execution_count": 50,
   "metadata": {
    "ExecuteTime": {
     "end_time": "2022-09-26T03:42:54.519009Z",
     "start_time": "2022-09-26T03:42:54.512177Z"
    }
   },
   "outputs": [
    {
     "data": {
      "text/plain": [
       "'https://vizier.u-strasbg.fr/viz-bin/VizieR?-source=J/A+A/661/A118'"
      ]
     },
     "execution_count": 50,
     "metadata": {},
     "output_type": "execute_result"
    }
   ],
   "source": [
    "cc = cr.ClusterCatalog(catalog_name=\"CastroGinard2022\")\n",
    "cc.get_vizier_url()"
   ]
  },
  {
   "cell_type": "code",
   "execution_count": 51,
   "metadata": {
    "ExecuteTime": {
     "end_time": "2022-09-26T03:42:54.911019Z",
     "start_time": "2022-09-26T03:42:54.844738Z"
    }
   },
   "outputs": [
    {
     "name": "stdout",
     "output_type": "stream",
     "text": [
      "Using CastroGinard2022 catalog.\n"
     ]
    },
    {
     "data": {
      "text/html": [
       "<div>\n",
       "<style scoped>\n",
       "    .dataframe tbody tr th:only-of-type {\n",
       "        vertical-align: middle;\n",
       "    }\n",
       "\n",
       "    .dataframe tbody tr th {\n",
       "        vertical-align: top;\n",
       "    }\n",
       "\n",
       "    .dataframe thead th {\n",
       "        text-align: right;\n",
       "    }\n",
       "</style>\n",
       "<table border=\"1\" class=\"dataframe\">\n",
       "  <thead>\n",
       "    <tr style=\"text-align: right;\">\n",
       "      <th></th>\n",
       "      <th>Seq</th>\n",
       "      <th>Cluster</th>\n",
       "      <th>raJ2015</th>\n",
       "      <th>e_raJ2015</th>\n",
       "      <th>decJ2015</th>\n",
       "      <th>e_decJ2015</th>\n",
       "      <th>GLON</th>\n",
       "      <th>s_GLON</th>\n",
       "      <th>GLAT</th>\n",
       "      <th>s_GLAT</th>\n",
       "      <th>...</th>\n",
       "      <th>e_radial_velocity</th>\n",
       "      <th>Nmemb</th>\n",
       "      <th>NmembRV</th>\n",
       "      <th>Flag</th>\n",
       "      <th>logAge</th>\n",
       "      <th>Dist</th>\n",
       "      <th>AV</th>\n",
       "      <th>ra</th>\n",
       "      <th>dec</th>\n",
       "      <th>distance</th>\n",
       "    </tr>\n",
       "  </thead>\n",
       "  <tbody>\n",
       "    <tr>\n",
       "      <th>0</th>\n",
       "      <td>0</td>\n",
       "      <td>UBC1001</td>\n",
       "      <td>267.36</td>\n",
       "      <td>0.10</td>\n",
       "      <td>-29.23</td>\n",
       "      <td>0.04</td>\n",
       "      <td>0.18</td>\n",
       "      <td>0.05</td>\n",
       "      <td>-0.86</td>\n",
       "      <td>0.08</td>\n",
       "      <td>...</td>\n",
       "      <td>NaN</td>\n",
       "      <td>29</td>\n",
       "      <td>0</td>\n",
       "      <td>a</td>\n",
       "      <td>7.464</td>\n",
       "      <td>2786.0</td>\n",
       "      <td>1.914</td>\n",
       "      <td>267.36</td>\n",
       "      <td>-29.23</td>\n",
       "      <td>2702.702703</td>\n",
       "    </tr>\n",
       "    <tr>\n",
       "      <th>1</th>\n",
       "      <td>1</td>\n",
       "      <td>UBC1002</td>\n",
       "      <td>268.11</td>\n",
       "      <td>0.05</td>\n",
       "      <td>-28.20</td>\n",
       "      <td>0.07</td>\n",
       "      <td>1.40</td>\n",
       "      <td>0.06</td>\n",
       "      <td>-0.90</td>\n",
       "      <td>0.05</td>\n",
       "      <td>...</td>\n",
       "      <td>NaN</td>\n",
       "      <td>71</td>\n",
       "      <td>1</td>\n",
       "      <td>NaN</td>\n",
       "      <td>8.339</td>\n",
       "      <td>3233.0</td>\n",
       "      <td>2.314</td>\n",
       "      <td>268.11</td>\n",
       "      <td>-28.20</td>\n",
       "      <td>3571.428571</td>\n",
       "    </tr>\n",
       "    <tr>\n",
       "      <th>2</th>\n",
       "      <td>2</td>\n",
       "      <td>UBC1003</td>\n",
       "      <td>268.60</td>\n",
       "      <td>0.05</td>\n",
       "      <td>-24.89</td>\n",
       "      <td>0.05</td>\n",
       "      <td>4.48</td>\n",
       "      <td>0.05</td>\n",
       "      <td>0.40</td>\n",
       "      <td>0.05</td>\n",
       "      <td>...</td>\n",
       "      <td>NaN</td>\n",
       "      <td>44</td>\n",
       "      <td>0</td>\n",
       "      <td>NaN</td>\n",
       "      <td>7.782</td>\n",
       "      <td>2809.0</td>\n",
       "      <td>2.659</td>\n",
       "      <td>268.60</td>\n",
       "      <td>-24.89</td>\n",
       "      <td>2564.102564</td>\n",
       "    </tr>\n",
       "    <tr>\n",
       "      <th>3</th>\n",
       "      <td>3</td>\n",
       "      <td>UBC1004</td>\n",
       "      <td>270.56</td>\n",
       "      <td>0.07</td>\n",
       "      <td>-25.07</td>\n",
       "      <td>0.06</td>\n",
       "      <td>5.21</td>\n",
       "      <td>0.07</td>\n",
       "      <td>-1.23</td>\n",
       "      <td>0.06</td>\n",
       "      <td>...</td>\n",
       "      <td>2.12</td>\n",
       "      <td>418</td>\n",
       "      <td>2</td>\n",
       "      <td>NaN</td>\n",
       "      <td>8.497</td>\n",
       "      <td>2436.0</td>\n",
       "      <td>2.318</td>\n",
       "      <td>270.56</td>\n",
       "      <td>-25.07</td>\n",
       "      <td>2631.578947</td>\n",
       "    </tr>\n",
       "    <tr>\n",
       "      <th>4</th>\n",
       "      <td>4</td>\n",
       "      <td>UBC1005</td>\n",
       "      <td>272.18</td>\n",
       "      <td>0.06</td>\n",
       "      <td>-21.42</td>\n",
       "      <td>0.08</td>\n",
       "      <td>9.12</td>\n",
       "      <td>0.08</td>\n",
       "      <td>-0.75</td>\n",
       "      <td>0.06</td>\n",
       "      <td>...</td>\n",
       "      <td>NaN</td>\n",
       "      <td>31</td>\n",
       "      <td>0</td>\n",
       "      <td>a</td>\n",
       "      <td>7.371</td>\n",
       "      <td>1542.0</td>\n",
       "      <td>1.230</td>\n",
       "      <td>272.18</td>\n",
       "      <td>-21.42</td>\n",
       "      <td>1515.151515</td>\n",
       "    </tr>\n",
       "  </tbody>\n",
       "</table>\n",
       "<p>5 rows × 27 columns</p>\n",
       "</div>"
      ],
      "text/plain": [
       "   Seq  Cluster  raJ2015  e_raJ2015  decJ2015  e_decJ2015  GLON  s_GLON  GLAT  \\\n",
       "0    0  UBC1001   267.36       0.10    -29.23        0.04  0.18    0.05 -0.86   \n",
       "1    1  UBC1002   268.11       0.05    -28.20        0.07  1.40    0.06 -0.90   \n",
       "2    2  UBC1003   268.60       0.05    -24.89        0.05  4.48    0.05  0.40   \n",
       "3    3  UBC1004   270.56       0.07    -25.07        0.06  5.21    0.07 -1.23   \n",
       "4    4  UBC1005   272.18       0.06    -21.42        0.08  9.12    0.08 -0.75   \n",
       "\n",
       "   s_GLAT  ...  e_radial_velocity  Nmemb  NmembRV  Flag  logAge    Dist  \\\n",
       "0    0.08  ...                NaN     29        0     a   7.464  2786.0   \n",
       "1    0.05  ...                NaN     71        1   NaN   8.339  3233.0   \n",
       "2    0.05  ...                NaN     44        0   NaN   7.782  2809.0   \n",
       "3    0.06  ...               2.12    418        2   NaN   8.497  2436.0   \n",
       "4    0.06  ...                NaN     31        0     a   7.371  1542.0   \n",
       "\n",
       "      AV      ra    dec     distance  \n",
       "0  1.914  267.36 -29.23  2702.702703  \n",
       "1  2.314  268.11 -28.20  3571.428571  \n",
       "2  2.659  268.60 -24.89  2564.102564  \n",
       "3  2.318  270.56 -25.07  2631.578947  \n",
       "4  1.230  272.18 -21.42  1515.151515  \n",
       "\n",
       "[5 rows x 27 columns]"
      ]
     },
     "execution_count": 51,
     "metadata": {},
     "output_type": "execute_result"
    }
   ],
   "source": [
    "df = cc.query_catalog()\n",
    "df.head()"
   ]
  },
  {
   "cell_type": "code",
   "execution_count": 52,
   "metadata": {
    "ExecuteTime": {
     "end_time": "2022-09-26T03:42:55.404327Z",
     "start_time": "2022-09-26T03:42:55.044157Z"
    }
   },
   "outputs": [
    {
     "name": "stdout",
     "output_type": "stream",
     "text": [
      "Using CastroGinard2022 catalog.\n"
     ]
    },
    {
     "data": {
      "text/html": [
       "<div>\n",
       "<style scoped>\n",
       "    .dataframe tbody tr th:only-of-type {\n",
       "        vertical-align: middle;\n",
       "    }\n",
       "\n",
       "    .dataframe tbody tr th {\n",
       "        vertical-align: top;\n",
       "    }\n",
       "\n",
       "    .dataframe thead th {\n",
       "        text-align: right;\n",
       "    }\n",
       "</style>\n",
       "<table border=\"1\" class=\"dataframe\">\n",
       "  <thead>\n",
       "    <tr style=\"text-align: right;\">\n",
       "      <th></th>\n",
       "      <th>Seq</th>\n",
       "      <th>Cluster</th>\n",
       "      <th>source_id</th>\n",
       "      <th>raJ2015</th>\n",
       "      <th>decJ2015</th>\n",
       "      <th>GLON</th>\n",
       "      <th>GLAT</th>\n",
       "      <th>parallax</th>\n",
       "      <th>pmra</th>\n",
       "      <th>pmdec</th>\n",
       "      <th>RV</th>\n",
       "      <th>Gmag</th>\n",
       "      <th>BP-RP</th>\n",
       "      <th>ra</th>\n",
       "      <th>dec</th>\n",
       "    </tr>\n",
       "  </thead>\n",
       "  <tbody>\n",
       "    <tr>\n",
       "      <th>0</th>\n",
       "      <td>0</td>\n",
       "      <td>UBC1001</td>\n",
       "      <td>4057224024226708992</td>\n",
       "      <td>267.525044</td>\n",
       "      <td>-29.364191</td>\n",
       "      <td>0.139327</td>\n",
       "      <td>-1.058598</td>\n",
       "      <td>0.367668</td>\n",
       "      <td>0.429</td>\n",
       "      <td>-1.939</td>\n",
       "      <td>NaN</td>\n",
       "      <td>14.143807</td>\n",
       "      <td>1.114144</td>\n",
       "      <td>267.525042</td>\n",
       "      <td>-29.364182</td>\n",
       "    </tr>\n",
       "    <tr>\n",
       "      <th>1</th>\n",
       "      <td>1</td>\n",
       "      <td>UBC1001</td>\n",
       "      <td>4057230174598255232</td>\n",
       "      <td>267.567029</td>\n",
       "      <td>-29.305336</td>\n",
       "      <td>0.208635</td>\n",
       "      <td>-1.059843</td>\n",
       "      <td>0.363644</td>\n",
       "      <td>0.453</td>\n",
       "      <td>-1.929</td>\n",
       "      <td>NaN</td>\n",
       "      <td>16.556490</td>\n",
       "      <td>1.466582</td>\n",
       "      <td>267.567027</td>\n",
       "      <td>-29.305328</td>\n",
       "    </tr>\n",
       "    <tr>\n",
       "      <th>2</th>\n",
       "      <td>2</td>\n",
       "      <td>UBC1001</td>\n",
       "      <td>4057237115289677184</td>\n",
       "      <td>267.488406</td>\n",
       "      <td>-29.267053</td>\n",
       "      <td>0.206327</td>\n",
       "      <td>-0.981341</td>\n",
       "      <td>0.382895</td>\n",
       "      <td>0.479</td>\n",
       "      <td>-1.878</td>\n",
       "      <td>NaN</td>\n",
       "      <td>16.589193</td>\n",
       "      <td>1.633885</td>\n",
       "      <td>267.488404</td>\n",
       "      <td>-29.267045</td>\n",
       "    </tr>\n",
       "    <tr>\n",
       "      <th>3</th>\n",
       "      <td>3</td>\n",
       "      <td>UBC1001</td>\n",
       "      <td>4057239344344064256</td>\n",
       "      <td>267.284129</td>\n",
       "      <td>-29.270346</td>\n",
       "      <td>0.111911</td>\n",
       "      <td>-0.830168</td>\n",
       "      <td>0.353141</td>\n",
       "      <td>0.405</td>\n",
       "      <td>-1.848</td>\n",
       "      <td>NaN</td>\n",
       "      <td>13.447580</td>\n",
       "      <td>0.924681</td>\n",
       "      <td>267.284127</td>\n",
       "      <td>-29.270338</td>\n",
       "    </tr>\n",
       "    <tr>\n",
       "      <th>4</th>\n",
       "      <td>4</td>\n",
       "      <td>UBC1001</td>\n",
       "      <td>4057239657910636672</td>\n",
       "      <td>267.275512</td>\n",
       "      <td>-29.228923</td>\n",
       "      <td>0.143560</td>\n",
       "      <td>-0.802402</td>\n",
       "      <td>0.352058</td>\n",
       "      <td>0.308</td>\n",
       "      <td>-1.801</td>\n",
       "      <td>NaN</td>\n",
       "      <td>13.205015</td>\n",
       "      <td>0.924160</td>\n",
       "      <td>267.275510</td>\n",
       "      <td>-29.228915</td>\n",
       "    </tr>\n",
       "  </tbody>\n",
       "</table>\n",
       "</div>"
      ],
      "text/plain": [
       "   Seq  Cluster            source_id     raJ2015   decJ2015      GLON  \\\n",
       "0    0  UBC1001  4057224024226708992  267.525044 -29.364191  0.139327   \n",
       "1    1  UBC1001  4057230174598255232  267.567029 -29.305336  0.208635   \n",
       "2    2  UBC1001  4057237115289677184  267.488406 -29.267053  0.206327   \n",
       "3    3  UBC1001  4057239344344064256  267.284129 -29.270346  0.111911   \n",
       "4    4  UBC1001  4057239657910636672  267.275512 -29.228923  0.143560   \n",
       "\n",
       "       GLAT  parallax   pmra  pmdec  RV       Gmag     BP-RP          ra  \\\n",
       "0 -1.058598  0.367668  0.429 -1.939 NaN  14.143807  1.114144  267.525042   \n",
       "1 -1.059843  0.363644  0.453 -1.929 NaN  16.556490  1.466582  267.567027   \n",
       "2 -0.981341  0.382895  0.479 -1.878 NaN  16.589193  1.633885  267.488404   \n",
       "3 -0.830168  0.353141  0.405 -1.848 NaN  13.447580  0.924681  267.284127   \n",
       "4 -0.802402  0.352058  0.308 -1.801 NaN  13.205015  0.924160  267.275510   \n",
       "\n",
       "         dec  \n",
       "0 -29.364182  \n",
       "1 -29.305328  \n",
       "2 -29.267045  \n",
       "3 -29.270338  \n",
       "4 -29.228915  "
      ]
     },
     "execution_count": 52,
     "metadata": {},
     "output_type": "execute_result"
    }
   ],
   "source": [
    "mem = cc.query_catalog(return_members=True)\n",
    "mem.head()"
   ]
  },
  {
   "cell_type": "code",
   "execution_count": 53,
   "metadata": {
    "ExecuteTime": {
     "end_time": "2022-09-26T03:42:57.077426Z",
     "start_time": "2022-09-26T03:42:57.063826Z"
    }
   },
   "outputs": [
    {
     "data": {
      "text/plain": [
       "((628, 27), (25466, 15))"
      ]
     },
     "execution_count": 53,
     "metadata": {},
     "output_type": "execute_result"
    }
   ],
   "source": [
    "df.shape, mem.shape"
   ]
  },
  {
   "cell_type": "markdown",
   "metadata": {},
   "source": [
    "## Castro-Ginard+2020"
   ]
  },
  {
   "cell_type": "code",
   "execution_count": null,
   "metadata": {
    "ExecuteTime": {
     "end_time": "2022-09-26T03:42:54.519009Z",
     "start_time": "2022-09-26T03:42:54.512177Z"
    }
   },
   "outputs": [],
   "source": [
    "cc = cr.ClusterCatalog(catalog_name=\"CastroGinard2020\")\n",
    "cc.get_vizier_url()"
   ]
  },
  {
   "cell_type": "code",
   "execution_count": null,
   "metadata": {
    "ExecuteTime": {
     "end_time": "2022-09-26T03:42:54.911019Z",
     "start_time": "2022-09-26T03:42:54.844738Z"
    }
   },
   "outputs": [],
   "source": [
    "df = cc.query_catalog()\n",
    "df.head()"
   ]
  },
  {
   "cell_type": "code",
   "execution_count": null,
   "metadata": {
    "ExecuteTime": {
     "end_time": "2022-09-26T03:42:55.404327Z",
     "start_time": "2022-09-26T03:42:55.044157Z"
    }
   },
   "outputs": [],
   "source": [
    "mem = cc.query_catalog(return_members=True)\n",
    "mem.head()"
   ]
  },
  {
   "cell_type": "code",
   "execution_count": null,
   "metadata": {
    "ExecuteTime": {
     "end_time": "2022-09-26T03:42:57.077426Z",
     "start_time": "2022-09-26T03:42:57.063826Z"
    }
   },
   "outputs": [],
   "source": [
    "df.shape, mem.shape"
   ]
  },
  {
   "cell_type": "markdown",
   "metadata": {},
   "source": [
    "## Castro-Ginard+2019"
   ]
  },
  {
   "cell_type": "code",
   "execution_count": null,
   "metadata": {
    "ExecuteTime": {
     "end_time": "2022-09-26T03:41:10.024981Z",
     "start_time": "2022-09-26T03:40:46.951Z"
    }
   },
   "outputs": [],
   "source": [
    "cc = cr.ClusterCatalog(catalog_name=\"CastroGinard2019\")\n",
    "cc.get_vizier_url()"
   ]
  },
  {
   "cell_type": "code",
   "execution_count": null,
   "metadata": {
    "ExecuteTime": {
     "end_time": "2022-09-26T03:41:10.026218Z",
     "start_time": "2022-09-26T03:40:46.954Z"
    }
   },
   "outputs": [],
   "source": [
    "df = cc.query_catalog()\n",
    "df.head()"
   ]
  },
  {
   "cell_type": "code",
   "execution_count": null,
   "metadata": {
    "ExecuteTime": {
     "end_time": "2022-09-26T03:41:10.027414Z",
     "start_time": "2022-09-26T03:40:46.957Z"
    },
    "scrolled": true
   },
   "outputs": [],
   "source": [
    "mem = cc.query_catalog(return_members=True)\n",
    "mem.head()"
   ]
  },
  {
   "cell_type": "code",
   "execution_count": null,
   "metadata": {
    "ExecuteTime": {
     "end_time": "2022-09-26T03:41:10.028567Z",
     "start_time": "2022-09-26T03:40:46.959Z"
    }
   },
   "outputs": [],
   "source": [
    "df.shape, mem.shape"
   ]
  },
  {
   "cell_type": "markdown",
   "metadata": {},
   "source": [
    "## Cantat-Gaudin+2020"
   ]
  },
  {
   "cell_type": "code",
   "execution_count": 22,
   "metadata": {
    "ExecuteTime": {
     "end_time": "2022-09-26T03:40:55.997913Z",
     "start_time": "2022-09-26T03:40:55.994582Z"
    }
   },
   "outputs": [
    {
     "data": {
      "text/plain": [
       "ClusterCatalog(catalog_name=CantatGaudin2020)"
      ]
     },
     "execution_count": 22,
     "metadata": {},
     "output_type": "execute_result"
    }
   ],
   "source": [
    "#initialize\n",
    "cc = cr.ClusterCatalog(catalog_name='CantatGaudin2020')\n",
    "cc"
   ]
  },
  {
   "cell_type": "code",
   "execution_count": 23,
   "metadata": {
    "ExecuteTime": {
     "end_time": "2022-09-26T03:40:56.007604Z",
     "start_time": "2022-09-26T03:40:55.999385Z"
    }
   },
   "outputs": [
    {
     "data": {
      "text/plain": [
       "'https://vizier.u-strasbg.fr/viz-bin/VizieR?-source=J/A+A/633/A99'"
      ]
     },
     "execution_count": 23,
     "metadata": {},
     "output_type": "execute_result"
    }
   ],
   "source": [
    "#info\n",
    "cc.get_vizier_url()"
   ]
  },
  {
   "cell_type": "code",
   "execution_count": 24,
   "metadata": {
    "ExecuteTime": {
     "end_time": "2022-09-26T03:40:56.084989Z",
     "start_time": "2022-09-26T03:40:56.009074Z"
    }
   },
   "outputs": [
    {
     "name": "stdout",
     "output_type": "stream",
     "text": [
      "Using CantatGaudin2020 catalog.\n"
     ]
    },
    {
     "data": {
      "text/html": [
       "<div>\n",
       "<style scoped>\n",
       "    .dataframe tbody tr th:only-of-type {\n",
       "        vertical-align: middle;\n",
       "    }\n",
       "\n",
       "    .dataframe tbody tr th {\n",
       "        vertical-align: top;\n",
       "    }\n",
       "\n",
       "    .dataframe thead th {\n",
       "        text-align: right;\n",
       "    }\n",
       "</style>\n",
       "<table border=\"1\" class=\"dataframe\">\n",
       "  <thead>\n",
       "    <tr style=\"text-align: right;\">\n",
       "      <th></th>\n",
       "      <th>Cluster</th>\n",
       "      <th>raJ2015</th>\n",
       "      <th>decJ2015</th>\n",
       "      <th>GLON</th>\n",
       "      <th>GLAT</th>\n",
       "      <th>r50</th>\n",
       "      <th>Nstars</th>\n",
       "      <th>pmra</th>\n",
       "      <th>pmdec</th>\n",
       "      <th>parallax</th>\n",
       "      <th>distance</th>\n",
       "      <th>X</th>\n",
       "      <th>Y</th>\n",
       "      <th>Z</th>\n",
       "      <th>Rgc</th>\n",
       "      <th>ra</th>\n",
       "      <th>dec</th>\n",
       "    </tr>\n",
       "  </thead>\n",
       "  <tbody>\n",
       "    <tr>\n",
       "      <th>0</th>\n",
       "      <td>ASCC_10</td>\n",
       "      <td>51.870</td>\n",
       "      <td>34.981</td>\n",
       "      <td>155.723</td>\n",
       "      <td>-17.770</td>\n",
       "      <td>0.558</td>\n",
       "      <td>71</td>\n",
       "      <td>-1.737</td>\n",
       "      <td>-1.368</td>\n",
       "      <td>1.459</td>\n",
       "      <td>672.0</td>\n",
       "      <td>-583.3</td>\n",
       "      <td>263.1</td>\n",
       "      <td>-205.1</td>\n",
       "      <td>8927.2</td>\n",
       "      <td>51.870</td>\n",
       "      <td>34.981</td>\n",
       "    </tr>\n",
       "    <tr>\n",
       "      <th>1</th>\n",
       "      <td>ASCC_101</td>\n",
       "      <td>288.399</td>\n",
       "      <td>36.369</td>\n",
       "      <td>68.028</td>\n",
       "      <td>11.608</td>\n",
       "      <td>0.372</td>\n",
       "      <td>75</td>\n",
       "      <td>0.934</td>\n",
       "      <td>1.288</td>\n",
       "      <td>2.488</td>\n",
       "      <td>397.3</td>\n",
       "      <td>145.6</td>\n",
       "      <td>360.9</td>\n",
       "      <td>79.9</td>\n",
       "      <td>8202.3</td>\n",
       "      <td>288.399</td>\n",
       "      <td>36.369</td>\n",
       "    </tr>\n",
       "    <tr>\n",
       "      <th>2</th>\n",
       "      <td>ASCC_105</td>\n",
       "      <td>295.548</td>\n",
       "      <td>27.366</td>\n",
       "      <td>62.825</td>\n",
       "      <td>2.063</td>\n",
       "      <td>0.648</td>\n",
       "      <td>127</td>\n",
       "      <td>1.464</td>\n",
       "      <td>-1.635</td>\n",
       "      <td>1.783</td>\n",
       "      <td>551.8</td>\n",
       "      <td>251.8</td>\n",
       "      <td>490.5</td>\n",
       "      <td>19.9</td>\n",
       "      <td>8103.0</td>\n",
       "      <td>295.548</td>\n",
       "      <td>27.366</td>\n",
       "    </tr>\n",
       "    <tr>\n",
       "      <th>3</th>\n",
       "      <td>ASCC_107</td>\n",
       "      <td>297.164</td>\n",
       "      <td>21.987</td>\n",
       "      <td>58.904</td>\n",
       "      <td>-1.901</td>\n",
       "      <td>0.174</td>\n",
       "      <td>59</td>\n",
       "      <td>-0.155</td>\n",
       "      <td>-5.156</td>\n",
       "      <td>1.109</td>\n",
       "      <td>878.5</td>\n",
       "      <td>453.5</td>\n",
       "      <td>751.9</td>\n",
       "      <td>-29.2</td>\n",
       "      <td>7922.3</td>\n",
       "      <td>297.164</td>\n",
       "      <td>21.987</td>\n",
       "    </tr>\n",
       "    <tr>\n",
       "      <th>4</th>\n",
       "      <td>ASCC_108</td>\n",
       "      <td>298.306</td>\n",
       "      <td>39.349</td>\n",
       "      <td>74.378</td>\n",
       "      <td>6.074</td>\n",
       "      <td>0.537</td>\n",
       "      <td>230</td>\n",
       "      <td>-0.519</td>\n",
       "      <td>-1.690</td>\n",
       "      <td>0.838</td>\n",
       "      <td>1154.0</td>\n",
       "      <td>309.0</td>\n",
       "      <td>1105.1</td>\n",
       "      <td>122.1</td>\n",
       "      <td>8106.7</td>\n",
       "      <td>298.306</td>\n",
       "      <td>39.349</td>\n",
       "    </tr>\n",
       "  </tbody>\n",
       "</table>\n",
       "</div>"
      ],
      "text/plain": [
       "    Cluster  raJ2015  decJ2015     GLON    GLAT    r50  Nstars   pmra  pmdec  \\\n",
       "0   ASCC_10   51.870    34.981  155.723 -17.770  0.558      71 -1.737 -1.368   \n",
       "1  ASCC_101  288.399    36.369   68.028  11.608  0.372      75  0.934  1.288   \n",
       "2  ASCC_105  295.548    27.366   62.825   2.063  0.648     127  1.464 -1.635   \n",
       "3  ASCC_107  297.164    21.987   58.904  -1.901  0.174      59 -0.155 -5.156   \n",
       "4  ASCC_108  298.306    39.349   74.378   6.074  0.537     230 -0.519 -1.690   \n",
       "\n",
       "   parallax  distance      X       Y      Z     Rgc       ra     dec  \n",
       "0     1.459     672.0 -583.3   263.1 -205.1  8927.2   51.870  34.981  \n",
       "1     2.488     397.3  145.6   360.9   79.9  8202.3  288.399  36.369  \n",
       "2     1.783     551.8  251.8   490.5   19.9  8103.0  295.548  27.366  \n",
       "3     1.109     878.5  453.5   751.9  -29.2  7922.3  297.164  21.987  \n",
       "4     0.838    1154.0  309.0  1105.1  122.1  8106.7  298.306  39.349  "
      ]
     },
     "execution_count": 24,
     "metadata": {},
     "output_type": "execute_result"
    }
   ],
   "source": [
    "df = cc.query_catalog()\n",
    "df.head()"
   ]
  },
  {
   "cell_type": "raw",
   "metadata": {},
   "source": [
    "cc.all_clusters.columns"
   ]
  },
  {
   "cell_type": "code",
   "execution_count": 25,
   "metadata": {
    "ExecuteTime": {
     "end_time": "2022-09-26T03:40:56.518274Z",
     "start_time": "2022-09-26T03:40:56.087438Z"
    }
   },
   "outputs": [
    {
     "data": {
      "image/png": "[encoded data removed]",
      "text/plain": [
       "<Figure size 640x480 with 2 Axes>"
      ]
     },
     "metadata": {},
     "output_type": "display_data"
    }
   ],
   "source": [
    "#plot clusters in catalog\n",
    "cc.all_clusters = cc.all_clusters[cc.all_clusters['distance']<200]\n",
    "fig = cc.plot_all_clusters(x='GLON', y='GLAT', c='distance');"
   ]
  },
  {
   "cell_type": "code",
   "execution_count": 26,
   "metadata": {
    "ExecuteTime": {
     "end_time": "2022-09-26T03:41:00.576861Z",
     "start_time": "2022-09-26T03:40:56.520389Z"
    }
   },
   "outputs": [
    {
     "name": "stdout",
     "output_type": "stream",
     "text": [
      "Using CantatGaudin2020 catalog.\n"
     ]
    },
    {
     "data": {
      "text/html": [
       "<div>\n",
       "<style scoped>\n",
       "    .dataframe tbody tr th:only-of-type {\n",
       "        vertical-align: middle;\n",
       "    }\n",
       "\n",
       "    .dataframe tbody tr th {\n",
       "        vertical-align: top;\n",
       "    }\n",
       "\n",
       "    .dataframe thead th {\n",
       "        text-align: right;\n",
       "    }\n",
       "</style>\n",
       "<table border=\"1\" class=\"dataframe\">\n",
       "  <thead>\n",
       "    <tr style=\"text-align: right;\">\n",
       "      <th></th>\n",
       "      <th>raJ2015</th>\n",
       "      <th>decJ2015</th>\n",
       "      <th>source_id</th>\n",
       "      <th>parallax</th>\n",
       "      <th>pmra</th>\n",
       "      <th>pmdec</th>\n",
       "      <th>radial_velocity</th>\n",
       "      <th>phot_g_mean_mag</th>\n",
       "      <th>bp_rp</th>\n",
       "      <th>Proba</th>\n",
       "      <th>Cluster</th>\n",
       "      <th>ra</th>\n",
       "      <th>dec</th>\n",
       "    </tr>\n",
       "  </thead>\n",
       "  <tbody>\n",
       "    <tr>\n",
       "      <th>0</th>\n",
       "      <td>52.756558</td>\n",
       "      <td>34.689531</td>\n",
       "      <td>221090730122510976</td>\n",
       "      <td>1.3799</td>\n",
       "      <td>-1.601</td>\n",
       "      <td>-1.205</td>\n",
       "      <td>NaN</td>\n",
       "      <td>13.0581</td>\n",
       "      <td>0.9138</td>\n",
       "      <td>0.8</td>\n",
       "      <td>ASCC_10</td>\n",
       "      <td>52.756566</td>\n",
       "      <td>34.689536</td>\n",
       "    </tr>\n",
       "    <tr>\n",
       "      <th>1</th>\n",
       "      <td>52.730263</td>\n",
       "      <td>34.341461</td>\n",
       "      <td>221065132117493376</td>\n",
       "      <td>1.6550</td>\n",
       "      <td>-2.455</td>\n",
       "      <td>-1.998</td>\n",
       "      <td>NaN</td>\n",
       "      <td>14.7757</td>\n",
       "      <td>1.2807</td>\n",
       "      <td>0.6</td>\n",
       "      <td>ASCC_10</td>\n",
       "      <td>52.730275</td>\n",
       "      <td>34.341469</td>\n",
       "    </tr>\n",
       "    <tr>\n",
       "      <th>2</th>\n",
       "      <td>52.684345</td>\n",
       "      <td>34.003600</td>\n",
       "      <td>220988819138630016</td>\n",
       "      <td>1.5876</td>\n",
       "      <td>-2.437</td>\n",
       "      <td>-0.949</td>\n",
       "      <td>NaN</td>\n",
       "      <td>10.8832</td>\n",
       "      <td>0.7241</td>\n",
       "      <td>0.1</td>\n",
       "      <td>ASCC_10</td>\n",
       "      <td>52.684358</td>\n",
       "      <td>34.003604</td>\n",
       "    </tr>\n",
       "    <tr>\n",
       "      <th>3</th>\n",
       "      <td>52.676106</td>\n",
       "      <td>34.733687</td>\n",
       "      <td>221094367958697088</td>\n",
       "      <td>1.5586</td>\n",
       "      <td>-1.532</td>\n",
       "      <td>-1.558</td>\n",
       "      <td>NaN</td>\n",
       "      <td>16.8798</td>\n",
       "      <td>1.8380</td>\n",
       "      <td>0.7</td>\n",
       "      <td>ASCC_10</td>\n",
       "      <td>52.676114</td>\n",
       "      <td>34.733694</td>\n",
       "    </tr>\n",
       "    <tr>\n",
       "      <th>4</th>\n",
       "      <td>52.712100</td>\n",
       "      <td>34.578004</td>\n",
       "      <td>221083888238423552</td>\n",
       "      <td>1.4173</td>\n",
       "      <td>-1.403</td>\n",
       "      <td>-1.242</td>\n",
       "      <td>NaN</td>\n",
       "      <td>17.9800</td>\n",
       "      <td>2.2854</td>\n",
       "      <td>0.6</td>\n",
       "      <td>ASCC_10</td>\n",
       "      <td>52.712107</td>\n",
       "      <td>34.578009</td>\n",
       "    </tr>\n",
       "  </tbody>\n",
       "</table>\n",
       "</div>"
      ],
      "text/plain": [
       "     raJ2015   decJ2015           source_id  parallax   pmra  pmdec  \\\n",
       "0  52.756558  34.689531  221090730122510976    1.3799 -1.601 -1.205   \n",
       "1  52.730263  34.341461  221065132117493376    1.6550 -2.455 -1.998   \n",
       "2  52.684345  34.003600  220988819138630016    1.5876 -2.437 -0.949   \n",
       "3  52.676106  34.733687  221094367958697088    1.5586 -1.532 -1.558   \n",
       "4  52.712100  34.578004  221083888238423552    1.4173 -1.403 -1.242   \n",
       "\n",
       "   radial_velocity  phot_g_mean_mag   bp_rp  Proba  Cluster         ra  \\\n",
       "0              NaN          13.0581  0.9138    0.8  ASCC_10  52.756566   \n",
       "1              NaN          14.7757  1.2807    0.6  ASCC_10  52.730275   \n",
       "2              NaN          10.8832  0.7241    0.1  ASCC_10  52.684358   \n",
       "3              NaN          16.8798  1.8380    0.7  ASCC_10  52.676114   \n",
       "4              NaN          17.9800  2.2854    0.6  ASCC_10  52.712107   \n",
       "\n",
       "         dec  \n",
       "0  34.689536  \n",
       "1  34.341469  \n",
       "2  34.003604  \n",
       "3  34.733694  \n",
       "4  34.578009  "
      ]
     },
     "execution_count": 26,
     "metadata": {},
     "output_type": "execute_result"
    }
   ],
   "source": [
    "mem = cc.query_catalog(return_members=True)\n",
    "mem.head()"
   ]
  },
  {
   "cell_type": "code",
   "execution_count": 27,
   "metadata": {
    "ExecuteTime": {
     "end_time": "2022-09-26T03:41:04.477587Z",
     "start_time": "2022-09-26T03:41:00.579020Z"
    }
   },
   "outputs": [
    {
     "name": "stdout",
     "output_type": "stream",
     "text": [
      "Using CantatGaudin2020 catalog.\n"
     ]
    }
   ],
   "source": [
    "mem=cc.query_catalog(return_members=True)"
   ]
  },
  {
   "cell_type": "code",
   "execution_count": 28,
   "metadata": {
    "ExecuteTime": {
     "end_time": "2022-09-26T03:41:04.583499Z",
     "start_time": "2022-09-26T03:41:04.479775Z"
    }
   },
   "outputs": [
    {
     "data": {
      "text/html": [
       "<div>\n",
       "<style scoped>\n",
       "    .dataframe tbody tr th:only-of-type {\n",
       "        vertical-align: middle;\n",
       "    }\n",
       "\n",
       "    .dataframe tbody tr th {\n",
       "        vertical-align: top;\n",
       "    }\n",
       "\n",
       "    .dataframe thead th {\n",
       "        text-align: right;\n",
       "    }\n",
       "</style>\n",
       "<table border=\"1\" class=\"dataframe\">\n",
       "  <thead>\n",
       "    <tr style=\"text-align: right;\">\n",
       "      <th></th>\n",
       "      <th>raJ2015</th>\n",
       "      <th>decJ2015</th>\n",
       "      <th>source_id</th>\n",
       "      <th>parallax</th>\n",
       "      <th>pmra</th>\n",
       "      <th>pmdec</th>\n",
       "      <th>radial_velocity</th>\n",
       "      <th>phot_g_mean_mag</th>\n",
       "      <th>bp_rp</th>\n",
       "      <th>Proba</th>\n",
       "      <th>ra</th>\n",
       "      <th>dec</th>\n",
       "    </tr>\n",
       "    <tr>\n",
       "      <th>Cluster</th>\n",
       "      <th></th>\n",
       "      <th></th>\n",
       "      <th></th>\n",
       "      <th></th>\n",
       "      <th></th>\n",
       "      <th></th>\n",
       "      <th></th>\n",
       "      <th></th>\n",
       "      <th></th>\n",
       "      <th></th>\n",
       "      <th></th>\n",
       "      <th></th>\n",
       "    </tr>\n",
       "  </thead>\n",
       "  <tbody>\n",
       "    <tr>\n",
       "      <th>NGC_3532</th>\n",
       "      <td>1981</td>\n",
       "      <td>1981</td>\n",
       "      <td>1981</td>\n",
       "      <td>1981</td>\n",
       "      <td>1981</td>\n",
       "      <td>1981</td>\n",
       "      <td>237</td>\n",
       "      <td>1981</td>\n",
       "      <td>1944</td>\n",
       "      <td>1981</td>\n",
       "      <td>1981</td>\n",
       "      <td>1981</td>\n",
       "    </tr>\n",
       "    <tr>\n",
       "      <th>Melotte_22</th>\n",
       "      <td>1061</td>\n",
       "      <td>1061</td>\n",
       "      <td>1061</td>\n",
       "      <td>1061</td>\n",
       "      <td>1061</td>\n",
       "      <td>1061</td>\n",
       "      <td>230</td>\n",
       "      <td>1061</td>\n",
       "      <td>1046</td>\n",
       "      <td>1061</td>\n",
       "      <td>1061</td>\n",
       "      <td>1061</td>\n",
       "    </tr>\n",
       "    <tr>\n",
       "      <th>NGC_2632</th>\n",
       "      <td>719</td>\n",
       "      <td>719</td>\n",
       "      <td>719</td>\n",
       "      <td>719</td>\n",
       "      <td>719</td>\n",
       "      <td>719</td>\n",
       "      <td>194</td>\n",
       "      <td>719</td>\n",
       "      <td>715</td>\n",
       "      <td>719</td>\n",
       "      <td>719</td>\n",
       "      <td>719</td>\n",
       "    </tr>\n",
       "    <tr>\n",
       "      <th>Stock_2</th>\n",
       "      <td>1209</td>\n",
       "      <td>1209</td>\n",
       "      <td>1209</td>\n",
       "      <td>1209</td>\n",
       "      <td>1209</td>\n",
       "      <td>1209</td>\n",
       "      <td>194</td>\n",
       "      <td>1209</td>\n",
       "      <td>1199</td>\n",
       "      <td>1209</td>\n",
       "      <td>1209</td>\n",
       "      <td>1209</td>\n",
       "    </tr>\n",
       "    <tr>\n",
       "      <th>NGC_6475</th>\n",
       "      <td>1555</td>\n",
       "      <td>1555</td>\n",
       "      <td>1555</td>\n",
       "      <td>1555</td>\n",
       "      <td>1555</td>\n",
       "      <td>1555</td>\n",
       "      <td>168</td>\n",
       "      <td>1555</td>\n",
       "      <td>1477</td>\n",
       "      <td>1555</td>\n",
       "      <td>1555</td>\n",
       "      <td>1555</td>\n",
       "    </tr>\n",
       "    <tr>\n",
       "      <th>...</th>\n",
       "      <td>...</td>\n",
       "      <td>...</td>\n",
       "      <td>...</td>\n",
       "      <td>...</td>\n",
       "      <td>...</td>\n",
       "      <td>...</td>\n",
       "      <td>...</td>\n",
       "      <td>...</td>\n",
       "      <td>...</td>\n",
       "      <td>...</td>\n",
       "      <td>...</td>\n",
       "      <td>...</td>\n",
       "    </tr>\n",
       "    <tr>\n",
       "      <th>UBC_27</th>\n",
       "      <td>65</td>\n",
       "      <td>65</td>\n",
       "      <td>65</td>\n",
       "      <td>65</td>\n",
       "      <td>65</td>\n",
       "      <td>65</td>\n",
       "      <td>0</td>\n",
       "      <td>65</td>\n",
       "      <td>65</td>\n",
       "      <td>65</td>\n",
       "      <td>65</td>\n",
       "      <td>65</td>\n",
       "    </tr>\n",
       "    <tr>\n",
       "      <th>Pfleiderer_3</th>\n",
       "      <td>73</td>\n",
       "      <td>73</td>\n",
       "      <td>73</td>\n",
       "      <td>73</td>\n",
       "      <td>73</td>\n",
       "      <td>73</td>\n",
       "      <td>0</td>\n",
       "      <td>73</td>\n",
       "      <td>72</td>\n",
       "      <td>73</td>\n",
       "      <td>73</td>\n",
       "      <td>73</td>\n",
       "    </tr>\n",
       "    <tr>\n",
       "      <th>FSR_0985</th>\n",
       "      <td>101</td>\n",
       "      <td>101</td>\n",
       "      <td>101</td>\n",
       "      <td>101</td>\n",
       "      <td>101</td>\n",
       "      <td>101</td>\n",
       "      <td>0</td>\n",
       "      <td>101</td>\n",
       "      <td>101</td>\n",
       "      <td>101</td>\n",
       "      <td>101</td>\n",
       "      <td>101</td>\n",
       "    </tr>\n",
       "    <tr>\n",
       "      <th>Patchick_94</th>\n",
       "      <td>70</td>\n",
       "      <td>70</td>\n",
       "      <td>70</td>\n",
       "      <td>70</td>\n",
       "      <td>70</td>\n",
       "      <td>70</td>\n",
       "      <td>0</td>\n",
       "      <td>70</td>\n",
       "      <td>65</td>\n",
       "      <td>70</td>\n",
       "      <td>70</td>\n",
       "      <td>70</td>\n",
       "    </tr>\n",
       "    <tr>\n",
       "      <th>Feibelman_1</th>\n",
       "      <td>126</td>\n",
       "      <td>126</td>\n",
       "      <td>126</td>\n",
       "      <td>126</td>\n",
       "      <td>126</td>\n",
       "      <td>126</td>\n",
       "      <td>0</td>\n",
       "      <td>126</td>\n",
       "      <td>124</td>\n",
       "      <td>126</td>\n",
       "      <td>126</td>\n",
       "      <td>126</td>\n",
       "    </tr>\n",
       "  </tbody>\n",
       "</table>\n",
       "<p>1481 rows × 12 columns</p>\n",
       "</div>"
      ],
      "text/plain": [
       "              raJ2015  decJ2015  source_id  parallax  pmra  pmdec  \\\n",
       "Cluster                                                             \n",
       "NGC_3532         1981      1981       1981      1981  1981   1981   \n",
       "Melotte_22       1061      1061       1061      1061  1061   1061   \n",
       "NGC_2632          719       719        719       719   719    719   \n",
       "Stock_2          1209      1209       1209      1209  1209   1209   \n",
       "NGC_6475         1555      1555       1555      1555  1555   1555   \n",
       "...               ...       ...        ...       ...   ...    ...   \n",
       "UBC_27             65        65         65        65    65     65   \n",
       "Pfleiderer_3       73        73         73        73    73     73   \n",
       "FSR_0985          101       101        101       101   101    101   \n",
       "Patchick_94        70        70         70        70    70     70   \n",
       "Feibelman_1       126       126        126       126   126    126   \n",
       "\n",
       "              radial_velocity  phot_g_mean_mag  bp_rp  Proba    ra   dec  \n",
       "Cluster                                                                   \n",
       "NGC_3532                  237             1981   1944   1981  1981  1981  \n",
       "Melotte_22                230             1061   1046   1061  1061  1061  \n",
       "NGC_2632                  194              719    715    719   719   719  \n",
       "Stock_2                   194             1209   1199   1209  1209  1209  \n",
       "NGC_6475                  168             1555   1477   1555  1555  1555  \n",
       "...                       ...              ...    ...    ...   ...   ...  \n",
       "UBC_27                      0               65     65     65    65    65  \n",
       "Pfleiderer_3                0               73     72     73    73    73  \n",
       "FSR_0985                    0              101    101    101   101   101  \n",
       "Patchick_94                 0               70     65     70    70    70  \n",
       "Feibelman_1                 0              126    124    126   126   126  \n",
       "\n",
       "[1481 rows x 12 columns]"
      ]
     },
     "execution_count": 28,
     "metadata": {},
     "output_type": "execute_result"
    }
   ],
   "source": [
    "g=mem.groupby(by='Cluster')\n",
    "g.count().sort_values(by='radial_velocity', ascending=False)"
   ]
  },
  {
   "cell_type": "markdown",
   "metadata": {},
   "source": [
    "## Cantat-Gaudin+2018"
   ]
  },
  {
   "cell_type": "code",
   "execution_count": 29,
   "metadata": {
    "ExecuteTime": {
     "end_time": "2022-09-26T03:41:04.590042Z",
     "start_time": "2022-09-26T03:41:04.585675Z"
    }
   },
   "outputs": [
    {
     "data": {
      "text/plain": [
       "'https://vizier.u-strasbg.fr/viz-bin/VizieR?-source=J/A+A/618/A93'"
      ]
     },
     "execution_count": 29,
     "metadata": {},
     "output_type": "execute_result"
    }
   ],
   "source": [
    "cc = cr.ClusterCatalog(catalog_name=\"CantatGaudin2018\")\n",
    "cc.get_vizier_url()"
   ]
  },
  {
   "cell_type": "code",
   "execution_count": 30,
   "metadata": {
    "ExecuteTime": {
     "end_time": "2022-09-26T03:41:04.798406Z",
     "start_time": "2022-09-26T03:41:04.592157Z"
    }
   },
   "outputs": [
    {
     "name": "stdout",
     "output_type": "stream",
     "text": [
      "Using CantatGaudin2018 catalog.\n"
     ]
    },
    {
     "data": {
      "text/html": [
       "<div>\n",
       "<style scoped>\n",
       "    .dataframe tbody tr th:only-of-type {\n",
       "        vertical-align: middle;\n",
       "    }\n",
       "\n",
       "    .dataframe tbody tr th {\n",
       "        vertical-align: top;\n",
       "    }\n",
       "\n",
       "    .dataframe thead th {\n",
       "        text-align: right;\n",
       "    }\n",
       "</style>\n",
       "<table border=\"1\" class=\"dataframe\">\n",
       "  <thead>\n",
       "    <tr style=\"text-align: right;\">\n",
       "      <th></th>\n",
       "      <th>Cluster</th>\n",
       "      <th>ra</th>\n",
       "      <th>dec</th>\n",
       "      <th>GLON</th>\n",
       "      <th>GLAT</th>\n",
       "      <th>r50</th>\n",
       "      <th>Nstars</th>\n",
       "      <th>pmra</th>\n",
       "      <th>pmdec</th>\n",
       "      <th>parallax</th>\n",
       "      <th>distance</th>\n",
       "      <th>X</th>\n",
       "      <th>Y</th>\n",
       "      <th>Z</th>\n",
       "      <th>Rgc</th>\n",
       "    </tr>\n",
       "  </thead>\n",
       "  <tbody>\n",
       "    <tr>\n",
       "      <th>0</th>\n",
       "      <td>ASCC_10</td>\n",
       "      <td>51.870</td>\n",
       "      <td>34.981</td>\n",
       "      <td>155.723</td>\n",
       "      <td>-17.770</td>\n",
       "      <td>0.558</td>\n",
       "      <td>71</td>\n",
       "      <td>-1.737</td>\n",
       "      <td>-1.368</td>\n",
       "      <td>1.459</td>\n",
       "      <td>672.0</td>\n",
       "      <td>-583.3</td>\n",
       "      <td>263.1</td>\n",
       "      <td>-205.1</td>\n",
       "      <td>8927.2</td>\n",
       "    </tr>\n",
       "    <tr>\n",
       "      <th>1</th>\n",
       "      <td>ASCC_101</td>\n",
       "      <td>288.399</td>\n",
       "      <td>36.369</td>\n",
       "      <td>68.028</td>\n",
       "      <td>11.608</td>\n",
       "      <td>0.372</td>\n",
       "      <td>75</td>\n",
       "      <td>0.934</td>\n",
       "      <td>1.288</td>\n",
       "      <td>2.488</td>\n",
       "      <td>397.3</td>\n",
       "      <td>145.6</td>\n",
       "      <td>360.9</td>\n",
       "      <td>79.9</td>\n",
       "      <td>8202.3</td>\n",
       "    </tr>\n",
       "    <tr>\n",
       "      <th>2</th>\n",
       "      <td>ASCC_105</td>\n",
       "      <td>295.548</td>\n",
       "      <td>27.366</td>\n",
       "      <td>62.825</td>\n",
       "      <td>2.063</td>\n",
       "      <td>0.648</td>\n",
       "      <td>127</td>\n",
       "      <td>1.464</td>\n",
       "      <td>-1.635</td>\n",
       "      <td>1.783</td>\n",
       "      <td>551.8</td>\n",
       "      <td>251.8</td>\n",
       "      <td>490.5</td>\n",
       "      <td>19.9</td>\n",
       "      <td>8103.0</td>\n",
       "    </tr>\n",
       "    <tr>\n",
       "      <th>3</th>\n",
       "      <td>ASCC_107</td>\n",
       "      <td>297.164</td>\n",
       "      <td>21.987</td>\n",
       "      <td>58.904</td>\n",
       "      <td>-1.901</td>\n",
       "      <td>0.174</td>\n",
       "      <td>59</td>\n",
       "      <td>-0.155</td>\n",
       "      <td>-5.156</td>\n",
       "      <td>1.109</td>\n",
       "      <td>878.5</td>\n",
       "      <td>453.5</td>\n",
       "      <td>751.9</td>\n",
       "      <td>-29.2</td>\n",
       "      <td>7922.3</td>\n",
       "    </tr>\n",
       "    <tr>\n",
       "      <th>4</th>\n",
       "      <td>ASCC_108</td>\n",
       "      <td>298.306</td>\n",
       "      <td>39.349</td>\n",
       "      <td>74.378</td>\n",
       "      <td>6.074</td>\n",
       "      <td>0.537</td>\n",
       "      <td>230</td>\n",
       "      <td>-0.519</td>\n",
       "      <td>-1.690</td>\n",
       "      <td>0.838</td>\n",
       "      <td>1154.0</td>\n",
       "      <td>309.0</td>\n",
       "      <td>1105.1</td>\n",
       "      <td>122.1</td>\n",
       "      <td>8106.7</td>\n",
       "    </tr>\n",
       "  </tbody>\n",
       "</table>\n",
       "</div>"
      ],
      "text/plain": [
       "    Cluster       ra     dec     GLON    GLAT    r50  Nstars   pmra  pmdec  \\\n",
       "0   ASCC_10   51.870  34.981  155.723 -17.770  0.558      71 -1.737 -1.368   \n",
       "1  ASCC_101  288.399  36.369   68.028  11.608  0.372      75  0.934  1.288   \n",
       "2  ASCC_105  295.548  27.366   62.825   2.063  0.648     127  1.464 -1.635   \n",
       "3  ASCC_107  297.164  21.987   58.904  -1.901  0.174      59 -0.155 -5.156   \n",
       "4  ASCC_108  298.306  39.349   74.378   6.074  0.537     230 -0.519 -1.690   \n",
       "\n",
       "   parallax  distance      X       Y      Z     Rgc  \n",
       "0     1.459     672.0 -583.3   263.1 -205.1  8927.2  \n",
       "1     2.488     397.3  145.6   360.9   79.9  8202.3  \n",
       "2     1.783     551.8  251.8   490.5   19.9  8103.0  \n",
       "3     1.109     878.5  453.5   751.9  -29.2  7922.3  \n",
       "4     0.838    1154.0  309.0  1105.1  122.1  8106.7  "
      ]
     },
     "execution_count": 30,
     "metadata": {},
     "output_type": "execute_result"
    }
   ],
   "source": [
    "df = cc.query_catalog()\n",
    "df.head()"
   ]
  },
  {
   "cell_type": "code",
   "execution_count": 31,
   "metadata": {
    "ExecuteTime": {
     "end_time": "2022-09-26T03:41:05.095492Z",
     "start_time": "2022-09-26T03:41:04.800190Z"
    }
   },
   "outputs": [
    {
     "data": {
      "image/png": "[encoded data removed]",
      "text/plain": [
       "<Figure size 640x480 with 2 Axes>"
      ]
     },
     "metadata": {},
     "output_type": "display_data"
    }
   ],
   "source": [
    "#plot clusters in catalog\n",
    "cc.all_clusters = cc.all_clusters[cc.all_clusters['distance']<200]\n",
    "fig = cc.plot_all_clusters(x='GLON', y='GLAT', c='distance');"
   ]
  },
  {
   "cell_type": "code",
   "execution_count": 32,
   "metadata": {
    "ExecuteTime": {
     "end_time": "2022-09-26T03:41:09.203482Z",
     "start_time": "2022-09-26T03:41:05.097349Z"
    }
   },
   "outputs": [
    {
     "name": "stdout",
     "output_type": "stream",
     "text": [
      "Using CantatGaudin2018 catalog.\n"
     ]
    },
    {
     "data": {
      "text/html": [
       "<div>\n",
       "<style scoped>\n",
       "    .dataframe tbody tr th:only-of-type {\n",
       "        vertical-align: middle;\n",
       "    }\n",
       "\n",
       "    .dataframe tbody tr th {\n",
       "        vertical-align: top;\n",
       "    }\n",
       "\n",
       "    .dataframe thead th {\n",
       "        text-align: right;\n",
       "    }\n",
       "</style>\n",
       "<table border=\"1\" class=\"dataframe\">\n",
       "  <thead>\n",
       "    <tr style=\"text-align: right;\">\n",
       "      <th></th>\n",
       "      <th>raJ2015</th>\n",
       "      <th>decJ2015</th>\n",
       "      <th>source_id</th>\n",
       "      <th>GLON</th>\n",
       "      <th>GLAT</th>\n",
       "      <th>parallax</th>\n",
       "      <th>pmra</th>\n",
       "      <th>pmdec</th>\n",
       "      <th>phot_g_n_obs</th>\n",
       "      <th>Gmag</th>\n",
       "      <th>bp_rp</th>\n",
       "      <th>PMemb</th>\n",
       "      <th>Cluster</th>\n",
       "      <th>ra</th>\n",
       "      <th>dec</th>\n",
       "    </tr>\n",
       "  </thead>\n",
       "  <tbody>\n",
       "    <tr>\n",
       "      <th>0</th>\n",
       "      <td>301.229391</td>\n",
       "      <td>-11.186849</td>\n",
       "      <td>4190669036038417152</td>\n",
       "      <td>30.982256</td>\n",
       "      <td>-21.322445</td>\n",
       "      <td>2.1358</td>\n",
       "      <td>1.268</td>\n",
       "      <td>-8.560</td>\n",
       "      <td>348</td>\n",
       "      <td>14.804825</td>\n",
       "      <td>1.412944</td>\n",
       "      <td>0.7</td>\n",
       "      <td>Alessi_10</td>\n",
       "      <td>301.229385</td>\n",
       "      <td>-11.186812</td>\n",
       "    </tr>\n",
       "    <tr>\n",
       "      <th>1</th>\n",
       "      <td>301.014346</td>\n",
       "      <td>-11.419202</td>\n",
       "      <td>4190657903483144960</td>\n",
       "      <td>30.660791</td>\n",
       "      <td>-21.229051</td>\n",
       "      <td>2.2071</td>\n",
       "      <td>1.136</td>\n",
       "      <td>-8.043</td>\n",
       "      <td>331</td>\n",
       "      <td>17.350530</td>\n",
       "      <td>2.605459</td>\n",
       "      <td>1.0</td>\n",
       "      <td>Alessi_10</td>\n",
       "      <td>301.014341</td>\n",
       "      <td>-11.419167</td>\n",
       "    </tr>\n",
       "    <tr>\n",
       "      <th>2</th>\n",
       "      <td>300.801432</td>\n",
       "      <td>-11.195500</td>\n",
       "      <td>4190723255705770240</td>\n",
       "      <td>30.783967</td>\n",
       "      <td>-20.945461</td>\n",
       "      <td>2.0438</td>\n",
       "      <td>1.259</td>\n",
       "      <td>-8.064</td>\n",
       "      <td>329</td>\n",
       "      <td>12.473157</td>\n",
       "      <td>0.865277</td>\n",
       "      <td>0.8</td>\n",
       "      <td>Alessi_10</td>\n",
       "      <td>300.801426</td>\n",
       "      <td>-11.195466</td>\n",
       "    </tr>\n",
       "    <tr>\n",
       "      <th>3</th>\n",
       "      <td>301.006976</td>\n",
       "      <td>-11.037219</td>\n",
       "      <td>4190732120518267776</td>\n",
       "      <td>31.028893</td>\n",
       "      <td>-21.061430</td>\n",
       "      <td>2.3256</td>\n",
       "      <td>1.189</td>\n",
       "      <td>-8.100</td>\n",
       "      <td>301</td>\n",
       "      <td>16.400896</td>\n",
       "      <td>1.935030</td>\n",
       "      <td>1.0</td>\n",
       "      <td>Alessi_10</td>\n",
       "      <td>301.006971</td>\n",
       "      <td>-11.037184</td>\n",
       "    </tr>\n",
       "    <tr>\n",
       "      <th>4</th>\n",
       "      <td>301.678011</td>\n",
       "      <td>-10.865093</td>\n",
       "      <td>4190774206899418880</td>\n",
       "      <td>31.495512</td>\n",
       "      <td>-21.585570</td>\n",
       "      <td>2.2585</td>\n",
       "      <td>1.598</td>\n",
       "      <td>-7.630</td>\n",
       "      <td>322</td>\n",
       "      <td>17.435835</td>\n",
       "      <td>2.370981</td>\n",
       "      <td>1.0</td>\n",
       "      <td>Alessi_10</td>\n",
       "      <td>301.678004</td>\n",
       "      <td>-10.865060</td>\n",
       "    </tr>\n",
       "  </tbody>\n",
       "</table>\n",
       "</div>"
      ],
      "text/plain": [
       "      raJ2015   decJ2015            source_id       GLON       GLAT  parallax  \\\n",
       "0  301.229391 -11.186849  4190669036038417152  30.982256 -21.322445    2.1358   \n",
       "1  301.014346 -11.419202  4190657903483144960  30.660791 -21.229051    2.2071   \n",
       "2  300.801432 -11.195500  4190723255705770240  30.783967 -20.945461    2.0438   \n",
       "3  301.006976 -11.037219  4190732120518267776  31.028893 -21.061430    2.3256   \n",
       "4  301.678011 -10.865093  4190774206899418880  31.495512 -21.585570    2.2585   \n",
       "\n",
       "    pmra  pmdec  phot_g_n_obs       Gmag     bp_rp  PMemb    Cluster  \\\n",
       "0  1.268 -8.560           348  14.804825  1.412944    0.7  Alessi_10   \n",
       "1  1.136 -8.043           331  17.350530  2.605459    1.0  Alessi_10   \n",
       "2  1.259 -8.064           329  12.473157  0.865277    0.8  Alessi_10   \n",
       "3  1.189 -8.100           301  16.400896  1.935030    1.0  Alessi_10   \n",
       "4  1.598 -7.630           322  17.435835  2.370981    1.0  Alessi_10   \n",
       "\n",
       "           ra        dec  \n",
       "0  301.229385 -11.186812  \n",
       "1  301.014341 -11.419167  \n",
       "2  300.801426 -11.195466  \n",
       "3  301.006971 -11.037184  \n",
       "4  301.678004 -10.865060  "
      ]
     },
     "execution_count": 32,
     "metadata": {},
     "output_type": "execute_result"
    }
   ],
   "source": [
    "mem = cc.query_catalog(return_members=True)\n",
    "mem.head()"
   ]
  },
  {
   "cell_type": "code",
   "execution_count": 33,
   "metadata": {
    "ExecuteTime": {
     "end_time": "2022-09-26T03:41:09.209137Z",
     "start_time": "2022-09-26T03:41:09.205196Z"
    }
   },
   "outputs": [
    {
     "data": {
      "text/plain": [
       "((1229, 15), (401448, 15))"
      ]
     },
     "execution_count": 33,
     "metadata": {},
     "output_type": "execute_result"
    }
   ],
   "source": [
    "df.shape, mem.shape"
   ]
  },
  {
   "cell_type": "markdown",
   "metadata": {},
   "source": [
    "## Bossini+2019"
   ]
  },
  {
   "cell_type": "code",
   "execution_count": 34,
   "metadata": {
    "ExecuteTime": {
     "end_time": "2022-09-26T03:41:09.223219Z",
     "start_time": "2022-09-26T03:41:09.210937Z"
    }
   },
   "outputs": [
    {
     "data": {
      "text/plain": [
       "'https://vizier.u-strasbg.fr/viz-bin/VizieR?-source=J/A+A/623/A108/tablea'"
      ]
     },
     "execution_count": 34,
     "metadata": {},
     "output_type": "execute_result"
    }
   ],
   "source": [
    "cc = cr.ClusterCatalog(catalog_name=\"Bossini2019\")\n",
    "cc.get_vizier_url()"
   ]
  },
  {
   "cell_type": "code",
   "execution_count": 35,
   "metadata": {
    "ExecuteTime": {
     "end_time": "2022-09-26T03:41:09.299499Z",
     "start_time": "2022-09-26T03:41:09.225448Z"
    }
   },
   "outputs": [
    {
     "name": "stdout",
     "output_type": "stream",
     "text": [
      "Using Bossini2019 catalog.\n"
     ]
    },
    {
     "data": {
      "text/html": [
       "<div>\n",
       "<style scoped>\n",
       "    .dataframe tbody tr th:only-of-type {\n",
       "        vertical-align: middle;\n",
       "    }\n",
       "\n",
       "    .dataframe tbody tr th {\n",
       "        vertical-align: top;\n",
       "    }\n",
       "\n",
       "    .dataframe thead th {\n",
       "        text-align: right;\n",
       "    }\n",
       "</style>\n",
       "<table border=\"1\" class=\"dataframe\">\n",
       "  <thead>\n",
       "    <tr style=\"text-align: right;\">\n",
       "      <th></th>\n",
       "      <th>Cluster</th>\n",
       "      <th>ra</th>\n",
       "      <th>dec</th>\n",
       "      <th>log10_age</th>\n",
       "      <th>e_logA</th>\n",
       "      <th>E_logA</th>\n",
       "      <th>dist_mod</th>\n",
       "      <th>dist_mod_e1</th>\n",
       "      <th>dist_mod_e2</th>\n",
       "      <th>AV</th>\n",
       "      <th>e_AV</th>\n",
       "      <th>E_AV</th>\n",
       "      <th>AGTO</th>\n",
       "      <th>e_AGTO</th>\n",
       "      <th>E_AGTO</th>\n",
       "      <th>Fe_H</th>\n",
       "      <th>r_Fe_H</th>\n",
       "      <th>distance</th>\n",
       "    </tr>\n",
       "  </thead>\n",
       "  <tbody>\n",
       "    <tr>\n",
       "      <th>0</th>\n",
       "      <td>Blanco_1</td>\n",
       "      <td>0.853</td>\n",
       "      <td>-29.958</td>\n",
       "      <td>7.975</td>\n",
       "      <td>7.998</td>\n",
       "      <td>7.943</td>\n",
       "      <td>6.876</td>\n",
       "      <td>6.876</td>\n",
       "      <td>6.876</td>\n",
       "      <td>0.031</td>\n",
       "      <td>0.031</td>\n",
       "      <td>0.031</td>\n",
       "      <td>0.030</td>\n",
       "      <td>0.030</td>\n",
       "      <td>0.030</td>\n",
       "      <td>0.00</td>\n",
       "      <td>HRS</td>\n",
       "      <td>237.246602</td>\n",
       "    </tr>\n",
       "    <tr>\n",
       "      <th>1</th>\n",
       "      <td>IC_2391</td>\n",
       "      <td>130.292</td>\n",
       "      <td>-52.991</td>\n",
       "      <td>7.561</td>\n",
       "      <td>7.583</td>\n",
       "      <td>7.540</td>\n",
       "      <td>5.908</td>\n",
       "      <td>5.908</td>\n",
       "      <td>5.908</td>\n",
       "      <td>0.093</td>\n",
       "      <td>0.093</td>\n",
       "      <td>0.093</td>\n",
       "      <td>0.091</td>\n",
       "      <td>0.091</td>\n",
       "      <td>0.091</td>\n",
       "      <td>0.00</td>\n",
       "      <td>HRS</td>\n",
       "      <td>151.914770</td>\n",
       "    </tr>\n",
       "    <tr>\n",
       "      <th>2</th>\n",
       "      <td>IC_2602</td>\n",
       "      <td>160.613</td>\n",
       "      <td>-64.426</td>\n",
       "      <td>7.547</td>\n",
       "      <td>7.563</td>\n",
       "      <td>7.533</td>\n",
       "      <td>5.914</td>\n",
       "      <td>5.914</td>\n",
       "      <td>5.914</td>\n",
       "      <td>0.096</td>\n",
       "      <td>0.096</td>\n",
       "      <td>0.096</td>\n",
       "      <td>0.094</td>\n",
       "      <td>0.094</td>\n",
       "      <td>0.094</td>\n",
       "      <td>0.00</td>\n",
       "      <td>HRS</td>\n",
       "      <td>152.335106</td>\n",
       "    </tr>\n",
       "    <tr>\n",
       "      <th>3</th>\n",
       "      <td>IC_2714</td>\n",
       "      <td>169.373</td>\n",
       "      <td>-62.719</td>\n",
       "      <td>8.550</td>\n",
       "      <td>8.550</td>\n",
       "      <td>8.550</td>\n",
       "      <td>10.711</td>\n",
       "      <td>10.720</td>\n",
       "      <td>10.704</td>\n",
       "      <td>0.991</td>\n",
       "      <td>1.000</td>\n",
       "      <td>0.984</td>\n",
       "      <td>0.967</td>\n",
       "      <td>0.976</td>\n",
       "      <td>0.960</td>\n",
       "      <td>0.02</td>\n",
       "      <td>HRS</td>\n",
       "      <td>1387.394601</td>\n",
       "    </tr>\n",
       "    <tr>\n",
       "      <th>4</th>\n",
       "      <td>IC_4665</td>\n",
       "      <td>266.554</td>\n",
       "      <td>5.615</td>\n",
       "      <td>7.581</td>\n",
       "      <td>7.636</td>\n",
       "      <td>7.550</td>\n",
       "      <td>7.450</td>\n",
       "      <td>7.495</td>\n",
       "      <td>7.395</td>\n",
       "      <td>0.397</td>\n",
       "      <td>0.430</td>\n",
       "      <td>0.364</td>\n",
       "      <td>0.388</td>\n",
       "      <td>0.420</td>\n",
       "      <td>0.355</td>\n",
       "      <td>-0.03</td>\n",
       "      <td>HRS</td>\n",
       "      <td>309.029543</td>\n",
       "    </tr>\n",
       "  </tbody>\n",
       "</table>\n",
       "</div>"
      ],
      "text/plain": [
       "    Cluster       ra     dec  log10_age  e_logA  E_logA  dist_mod  \\\n",
       "0  Blanco_1    0.853 -29.958      7.975   7.998   7.943     6.876   \n",
       "1   IC_2391  130.292 -52.991      7.561   7.583   7.540     5.908   \n",
       "2   IC_2602  160.613 -64.426      7.547   7.563   7.533     5.914   \n",
       "3   IC_2714  169.373 -62.719      8.550   8.550   8.550    10.711   \n",
       "4   IC_4665  266.554   5.615      7.581   7.636   7.550     7.450   \n",
       "\n",
       "   dist_mod_e1  dist_mod_e2     AV   e_AV   E_AV   AGTO  e_AGTO  E_AGTO  Fe_H  \\\n",
       "0        6.876        6.876  0.031  0.031  0.031  0.030   0.030   0.030  0.00   \n",
       "1        5.908        5.908  0.093  0.093  0.093  0.091   0.091   0.091  0.00   \n",
       "2        5.914        5.914  0.096  0.096  0.096  0.094   0.094   0.094  0.00   \n",
       "3       10.720       10.704  0.991  1.000  0.984  0.967   0.976   0.960  0.02   \n",
       "4        7.495        7.395  0.397  0.430  0.364  0.388   0.420   0.355 -0.03   \n",
       "\n",
       "  r_Fe_H     distance  \n",
       "0    HRS   237.246602  \n",
       "1    HRS   151.914770  \n",
       "2    HRS   152.335106  \n",
       "3    HRS  1387.394601  \n",
       "4    HRS   309.029543  "
      ]
     },
     "execution_count": 35,
     "metadata": {},
     "output_type": "execute_result"
    }
   ],
   "source": [
    "df = cc.query_catalog()\n",
    "df.head()"
   ]
  },
  {
   "cell_type": "code",
   "execution_count": 36,
   "metadata": {
    "ExecuteTime": {
     "end_time": "2022-09-26T03:41:09.688079Z",
     "start_time": "2022-09-26T03:41:09.302225Z"
    }
   },
   "outputs": [
    {
     "data": {
      "image/png": "[encoded data removed]",
      "text/plain": [
       "<Figure size 640x480 with 2 Axes>"
      ]
     },
     "metadata": {},
     "output_type": "display_data"
    }
   ],
   "source": [
    "#plot clusters in catalog\n",
    "cc.all_clusters = cc.all_clusters[cc.all_clusters['distance']<200]\n",
    "fig = cc.plot_all_clusters(x='ra', y='dec', c='distance');"
   ]
  },
  {
   "cell_type": "code",
   "execution_count": null,
   "metadata": {
    "ExecuteTime": {
     "end_time": "2022-09-26T03:41:10.004349Z",
     "start_time": "2022-09-26T03:40:46.885Z"
    }
   },
   "outputs": [],
   "source": [
    "ax = c.plot_hrd(log_age=8)"
   ]
  },
  {
   "cell_type": "raw",
   "metadata": {},
   "source": [
    "mem = cc.query_catalog(return_members=True)\n",
    "mem.head()"
   ]
  },
  {
   "cell_type": "raw",
   "metadata": {},
   "source": [
    "df.shape, mem.shape"
   ]
  },
  {
   "cell_type": "markdown",
   "metadata": {},
   "source": [
    "## Babusiaux+2018"
   ]
  },
  {
   "cell_type": "code",
   "execution_count": 40,
   "metadata": {
    "ExecuteTime": {
     "end_time": "2022-09-26T03:42:14.035086Z",
     "start_time": "2022-09-26T03:42:14.028881Z"
    }
   },
   "outputs": [
    {
     "data": {
      "text/plain": [
       "'https://vizier.u-strasbg.fr/viz-bin/VizieR?-source=J/A+A/616/A10'"
      ]
     },
     "execution_count": 40,
     "metadata": {},
     "output_type": "execute_result"
    }
   ],
   "source": [
    "cc = cr.ClusterCatalog(catalog_name=\"Babusiaux2018\")\n",
    "cc.get_vizier_url()"
   ]
  },
  {
   "cell_type": "code",
   "execution_count": 41,
   "metadata": {
    "ExecuteTime": {
     "end_time": "2022-09-26T03:42:14.429575Z",
     "start_time": "2022-09-26T03:42:14.358415Z"
    }
   },
   "outputs": [
    {
     "name": "stdout",
     "output_type": "stream",
     "text": [
      "Using Babusiaux2018 catalog.\n"
     ]
    },
    {
     "data": {
      "text/html": [
       "<div>\n",
       "<style scoped>\n",
       "    .dataframe tbody tr th:only-of-type {\n",
       "        vertical-align: middle;\n",
       "    }\n",
       "\n",
       "    .dataframe tbody tr th {\n",
       "        vertical-align: top;\n",
       "    }\n",
       "\n",
       "    .dataframe thead th {\n",
       "        text-align: right;\n",
       "    }\n",
       "</style>\n",
       "<table border=\"1\" class=\"dataframe\">\n",
       "  <thead>\n",
       "    <tr style=\"text-align: right;\">\n",
       "      <th></th>\n",
       "      <th>Nstars</th>\n",
       "      <th>Cluster</th>\n",
       "      <th>raJ2015</th>\n",
       "      <th>decJ2015</th>\n",
       "      <th>U</th>\n",
       "      <th>e_U</th>\n",
       "      <th>V</th>\n",
       "      <th>e_V</th>\n",
       "      <th>W</th>\n",
       "      <th>e_W</th>\n",
       "      <th>...</th>\n",
       "      <th>RV</th>\n",
       "      <th>e_RV</th>\n",
       "      <th>ra</th>\n",
       "      <th>dec</th>\n",
       "      <th>cc1</th>\n",
       "      <th>cc2</th>\n",
       "      <th>cc3</th>\n",
       "      <th>rMax</th>\n",
       "      <th>RV_n_obs</th>\n",
       "      <th>distance</th>\n",
       "    </tr>\n",
       "  </thead>\n",
       "  <tbody>\n",
       "    <tr>\n",
       "      <th>0</th>\n",
       "      <td>740</td>\n",
       "      <td>alphaPer</td>\n",
       "      <td>52.06</td>\n",
       "      <td>49.06</td>\n",
       "      <td>-5.110</td>\n",
       "      <td>0.053</td>\n",
       "      <td>24.183</td>\n",
       "      <td>0.067</td>\n",
       "      <td>-14.122</td>\n",
       "      <td>0.097</td>\n",
       "      <td>...</td>\n",
       "      <td>-0.29</td>\n",
       "      <td>0.08</td>\n",
       "      <td>52.0598</td>\n",
       "      <td>49.0601</td>\n",
       "      <td>NaN</td>\n",
       "      <td>NaN</td>\n",
       "      <td>NaN</td>\n",
       "      <td>NaN</td>\n",
       "      <td>NaN</td>\n",
       "      <td>174.886324</td>\n",
       "    </tr>\n",
       "    <tr>\n",
       "      <th>1</th>\n",
       "      <td>489</td>\n",
       "      <td>Blanco1</td>\n",
       "      <td>0.72</td>\n",
       "      <td>-30.09</td>\n",
       "      <td>6.176</td>\n",
       "      <td>0.111</td>\n",
       "      <td>21.150</td>\n",
       "      <td>0.020</td>\n",
       "      <td>-0.296</td>\n",
       "      <td>0.065</td>\n",
       "      <td>...</td>\n",
       "      <td>5.78</td>\n",
       "      <td>0.10</td>\n",
       "      <td>0.7199</td>\n",
       "      <td>-30.0900</td>\n",
       "      <td>NaN</td>\n",
       "      <td>NaN</td>\n",
       "      <td>NaN</td>\n",
       "      <td>NaN</td>\n",
       "      <td>NaN</td>\n",
       "      <td>237.191651</td>\n",
       "    </tr>\n",
       "    <tr>\n",
       "      <th>2</th>\n",
       "      <td>153</td>\n",
       "      <td>ComaBer</td>\n",
       "      <td>185.98</td>\n",
       "      <td>26.09</td>\n",
       "      <td>-1.638</td>\n",
       "      <td>0.078</td>\n",
       "      <td>4.785</td>\n",
       "      <td>0.018</td>\n",
       "      <td>-3.528</td>\n",
       "      <td>0.040</td>\n",
       "      <td>...</td>\n",
       "      <td>-0.52</td>\n",
       "      <td>0.07</td>\n",
       "      <td>185.9801</td>\n",
       "      <td>26.0900</td>\n",
       "      <td>NaN</td>\n",
       "      <td>NaN</td>\n",
       "      <td>NaN</td>\n",
       "      <td>NaN</td>\n",
       "      <td>NaN</td>\n",
       "      <td>85.910653</td>\n",
       "    </tr>\n",
       "    <tr>\n",
       "      <th>3</th>\n",
       "      <td>515</td>\n",
       "      <td>Hyades</td>\n",
       "      <td>67.98</td>\n",
       "      <td>17.01</td>\n",
       "      <td>-6.059</td>\n",
       "      <td>0.031</td>\n",
       "      <td>45.691</td>\n",
       "      <td>0.069</td>\n",
       "      <td>5.544</td>\n",
       "      <td>0.025</td>\n",
       "      <td>...</td>\n",
       "      <td>39.96</td>\n",
       "      <td>0.06</td>\n",
       "      <td>67.9795</td>\n",
       "      <td>17.0101</td>\n",
       "      <td>NaN</td>\n",
       "      <td>NaN</td>\n",
       "      <td>NaN</td>\n",
       "      <td>NaN</td>\n",
       "      <td>NaN</td>\n",
       "      <td>47.501425</td>\n",
       "    </tr>\n",
       "    <tr>\n",
       "      <th>4</th>\n",
       "      <td>325</td>\n",
       "      <td>IC2391</td>\n",
       "      <td>130.29</td>\n",
       "      <td>-52.99</td>\n",
       "      <td>-0.751</td>\n",
       "      <td>0.054</td>\n",
       "      <td>28.459</td>\n",
       "      <td>0.062</td>\n",
       "      <td>-1.590</td>\n",
       "      <td>0.105</td>\n",
       "      <td>...</td>\n",
       "      <td>14.59</td>\n",
       "      <td>0.09</td>\n",
       "      <td>130.2902</td>\n",
       "      <td>-52.9901</td>\n",
       "      <td>NaN</td>\n",
       "      <td>NaN</td>\n",
       "      <td>NaN</td>\n",
       "      <td>NaN</td>\n",
       "      <td>NaN</td>\n",
       "      <td>151.584053</td>\n",
       "    </tr>\n",
       "  </tbody>\n",
       "</table>\n",
       "<p>5 rows × 32 columns</p>\n",
       "</div>"
      ],
      "text/plain": [
       "   Nstars   Cluster  raJ2015  decJ2015      U    e_U       V    e_V       W  \\\n",
       "0     740  alphaPer    52.06     49.06 -5.110  0.053  24.183  0.067 -14.122   \n",
       "1     489   Blanco1     0.72    -30.09  6.176  0.111  21.150  0.020  -0.296   \n",
       "2     153   ComaBer   185.98     26.09 -1.638  0.078   4.785  0.018  -3.528   \n",
       "3     515    Hyades    67.98     17.01 -6.059  0.031  45.691  0.069   5.544   \n",
       "4     325    IC2391   130.29    -52.99 -0.751  0.054  28.459  0.062  -1.590   \n",
       "\n",
       "     e_W  ...     RV  e_RV        ra      dec  cc1  cc2  cc3  rMax  RV_n_obs  \\\n",
       "0  0.097  ...  -0.29  0.08   52.0598  49.0601  NaN  NaN  NaN   NaN       NaN   \n",
       "1  0.065  ...   5.78  0.10    0.7199 -30.0900  NaN  NaN  NaN   NaN       NaN   \n",
       "2  0.040  ...  -0.52  0.07  185.9801  26.0900  NaN  NaN  NaN   NaN       NaN   \n",
       "3  0.025  ...  39.96  0.06   67.9795  17.0101  NaN  NaN  NaN   NaN       NaN   \n",
       "4  0.105  ...  14.59  0.09  130.2902 -52.9901  NaN  NaN  NaN   NaN       NaN   \n",
       "\n",
       "     distance  \n",
       "0  174.886324  \n",
       "1  237.191651  \n",
       "2   85.910653  \n",
       "3   47.501425  \n",
       "4  151.584053  \n",
       "\n",
       "[5 rows x 32 columns]"
      ]
     },
     "execution_count": 41,
     "metadata": {},
     "output_type": "execute_result"
    }
   ],
   "source": [
    "df = cc.query_catalog()\n",
    "df.head()"
   ]
  },
  {
   "cell_type": "code",
   "execution_count": 42,
   "metadata": {
    "ExecuteTime": {
     "end_time": "2022-09-26T03:42:15.098666Z",
     "start_time": "2022-09-26T03:42:14.761629Z"
    }
   },
   "outputs": [
    {
     "data": {
      "image/png": "[encoded data removed]",
      "text/plain": [
       "<Figure size 640x480 with 2 Axes>"
      ]
     },
     "metadata": {},
     "output_type": "display_data"
    }
   ],
   "source": [
    "#plot clusters in catalog\n",
    "cc.all_clusters = cc.all_clusters[cc.all_clusters['distance']<200]\n",
    "fig = cc.plot_all_clusters(x='ra', y='dec', c='distance');"
   ]
  },
  {
   "cell_type": "code",
   "execution_count": 43,
   "metadata": {
    "ExecuteTime": {
     "end_time": "2022-09-26T03:42:16.267757Z",
     "start_time": "2022-09-26T03:42:15.874704Z"
    }
   },
   "outputs": [
    {
     "name": "stdout",
     "output_type": "stream",
     "text": [
      "Using Babusiaux2018 catalog.\n"
     ]
    },
    {
     "data": {
      "text/html": [
       "<div>\n",
       "<style scoped>\n",
       "    .dataframe tbody tr th:only-of-type {\n",
       "        vertical-align: middle;\n",
       "    }\n",
       "\n",
       "    .dataframe tbody tr th {\n",
       "        vertical-align: top;\n",
       "    }\n",
       "\n",
       "    .dataframe thead th {\n",
       "        text-align: right;\n",
       "    }\n",
       "</style>\n",
       "<table border=\"1\" class=\"dataframe\">\n",
       "  <thead>\n",
       "    <tr style=\"text-align: right;\">\n",
       "      <th></th>\n",
       "      <th>source_id</th>\n",
       "      <th>Cluster</th>\n",
       "      <th>raJ2015</th>\n",
       "      <th>decJ2015</th>\n",
       "      <th>Gmag</th>\n",
       "      <th>parallax</th>\n",
       "      <th>e_plx</th>\n",
       "      <th>ra</th>\n",
       "      <th>dec</th>\n",
       "    </tr>\n",
       "  </thead>\n",
       "  <tbody>\n",
       "    <tr>\n",
       "      <th>0</th>\n",
       "      <td>49520255665123328</td>\n",
       "      <td>Hyades</td>\n",
       "      <td>64.87461</td>\n",
       "      <td>21.75372</td>\n",
       "      <td>12.861</td>\n",
       "      <td>20.866</td>\n",
       "      <td>0.033</td>\n",
       "      <td>64.87410</td>\n",
       "      <td>21.75388</td>\n",
       "    </tr>\n",
       "    <tr>\n",
       "      <th>1</th>\n",
       "      <td>49729231594420096</td>\n",
       "      <td>Hyades</td>\n",
       "      <td>60.20378</td>\n",
       "      <td>18.19388</td>\n",
       "      <td>5.790</td>\n",
       "      <td>21.789</td>\n",
       "      <td>0.045</td>\n",
       "      <td>60.20319</td>\n",
       "      <td>18.19400</td>\n",
       "    </tr>\n",
       "    <tr>\n",
       "      <th>2</th>\n",
       "      <td>51383893515451392</td>\n",
       "      <td>Hyades</td>\n",
       "      <td>59.80696</td>\n",
       "      <td>20.42805</td>\n",
       "      <td>12.570</td>\n",
       "      <td>22.737</td>\n",
       "      <td>0.006</td>\n",
       "      <td>59.80634</td>\n",
       "      <td>20.42821</td>\n",
       "    </tr>\n",
       "    <tr>\n",
       "      <th>3</th>\n",
       "      <td>145373377272257664</td>\n",
       "      <td>Hyades</td>\n",
       "      <td>66.06127</td>\n",
       "      <td>21.73605</td>\n",
       "      <td>6.990</td>\n",
       "      <td>23.109</td>\n",
       "      <td>0.003</td>\n",
       "      <td>66.06072</td>\n",
       "      <td>21.73625</td>\n",
       "    </tr>\n",
       "    <tr>\n",
       "      <th>4</th>\n",
       "      <td>145391484855481344</td>\n",
       "      <td>Hyades</td>\n",
       "      <td>67.00371</td>\n",
       "      <td>21.61972</td>\n",
       "      <td>5.643</td>\n",
       "      <td>19.968</td>\n",
       "      <td>0.067</td>\n",
       "      <td>67.00326</td>\n",
       "      <td>21.61990</td>\n",
       "    </tr>\n",
       "  </tbody>\n",
       "</table>\n",
       "</div>"
      ],
      "text/plain": [
       "            source_id Cluster   raJ2015  decJ2015    Gmag  parallax  e_plx  \\\n",
       "0   49520255665123328  Hyades  64.87461  21.75372  12.861    20.866  0.033   \n",
       "1   49729231594420096  Hyades  60.20378  18.19388   5.790    21.789  0.045   \n",
       "2   51383893515451392  Hyades  59.80696  20.42805  12.570    22.737  0.006   \n",
       "3  145373377272257664  Hyades  66.06127  21.73605   6.990    23.109  0.003   \n",
       "4  145391484855481344  Hyades  67.00371  21.61972   5.643    19.968  0.067   \n",
       "\n",
       "         ra       dec  \n",
       "0  64.87410  21.75388  \n",
       "1  60.20319  18.19400  \n",
       "2  59.80634  20.42821  \n",
       "3  66.06072  21.73625  \n",
       "4  67.00326  21.61990  "
      ]
     },
     "execution_count": 43,
     "metadata": {},
     "output_type": "execute_result"
    }
   ],
   "source": [
    "mem = cc.query_catalog(return_members=True)\n",
    "mem.head()"
   ]
  },
  {
   "cell_type": "code",
   "execution_count": 44,
   "metadata": {
    "ExecuteTime": {
     "end_time": "2022-09-26T03:42:17.358813Z",
     "start_time": "2022-09-26T03:42:17.354301Z"
    }
   },
   "outputs": [
    {
     "data": {
      "text/plain": [
       "((46, 32), (40903, 9))"
      ]
     },
     "execution_count": 44,
     "metadata": {},
     "output_type": "execute_result"
    }
   ],
   "source": [
    "df.shape, mem.shape"
   ]
  },
  {
   "cell_type": "markdown",
   "metadata": {},
   "source": [
    "## Bouma+2019"
   ]
  },
  {
   "cell_type": "code",
   "execution_count": 45,
   "metadata": {
    "ExecuteTime": {
     "end_time": "2022-09-26T03:42:17.797710Z",
     "start_time": "2022-09-26T03:42:17.792957Z"
    }
   },
   "outputs": [
    {
     "data": {
      "text/plain": [
       "'https://vizier.u-strasbg.fr/viz-bin/VizieR?-source=J/ApJS/245/13'"
      ]
     },
     "execution_count": 45,
     "metadata": {},
     "output_type": "execute_result"
    }
   ],
   "source": [
    "cc = cr.ClusterCatalog(catalog_name=\"Bouma2019\")\n",
    "cc.get_vizier_url()"
   ]
  },
  {
   "cell_type": "code",
   "execution_count": 46,
   "metadata": {
    "ExecuteTime": {
     "end_time": "2022-09-26T03:42:22.368386Z",
     "start_time": "2022-09-26T03:42:18.023359Z"
    }
   },
   "outputs": [
    {
     "name": "stdout",
     "output_type": "stream",
     "text": [
      "Using Bouma2019 catalog.\n",
      "Some parallaxes are negative in Bouma2019!\n",
      "These are removed for the meantime.\n",
      "For proper treatment, see:\n",
      "https://arxiv.org/pdf/1804.09366.pdf\n",
      "\n"
     ]
    },
    {
     "data": {
      "text/html": [
       "<div>\n",
       "<style scoped>\n",
       "    .dataframe tbody tr th:only-of-type {\n",
       "        vertical-align: middle;\n",
       "    }\n",
       "\n",
       "    .dataframe tbody tr th {\n",
       "        vertical-align: top;\n",
       "    }\n",
       "\n",
       "    .dataframe thead th {\n",
       "        text-align: right;\n",
       "    }\n",
       "</style>\n",
       "<table border=\"1\" class=\"dataframe\">\n",
       "  <thead>\n",
       "    <tr style=\"text-align: right;\">\n",
       "      <th></th>\n",
       "      <th>Cluster</th>\n",
       "      <th>dec</th>\n",
       "      <th>distance</th>\n",
       "      <th>k13_e_logt</th>\n",
       "      <th>k13_logt</th>\n",
       "      <th>parallax</th>\n",
       "      <th>phot_bp_mean_mag</th>\n",
       "      <th>phot_g_mean_mag</th>\n",
       "      <th>phot_rp_mean_mag</th>\n",
       "      <th>pmdec</th>\n",
       "      <th>pmra</th>\n",
       "      <th>ra</th>\n",
       "      <th>count</th>\n",
       "    </tr>\n",
       "  </thead>\n",
       "  <tbody>\n",
       "    <tr>\n",
       "      <th>0</th>\n",
       "      <td>118TAU</td>\n",
       "      <td>23.569544</td>\n",
       "      <td>106.242354</td>\n",
       "      <td>NaN</td>\n",
       "      <td>NaN</td>\n",
       "      <td>9.412442</td>\n",
       "      <td>13.518909</td>\n",
       "      <td>12.354570</td>\n",
       "      <td>11.282246</td>\n",
       "      <td>-28.354268</td>\n",
       "      <td>7.761713</td>\n",
       "      <td>82.427007</td>\n",
       "      <td>1</td>\n",
       "    </tr>\n",
       "    <tr>\n",
       "      <th>1</th>\n",
       "      <td>ABDMG</td>\n",
       "      <td>31.705265</td>\n",
       "      <td>45.836645</td>\n",
       "      <td>NaN</td>\n",
       "      <td>NaN</td>\n",
       "      <td>21.816606</td>\n",
       "      <td>14.296335</td>\n",
       "      <td>13.025639</td>\n",
       "      <td>11.763298</td>\n",
       "      <td>-100.307957</td>\n",
       "      <td>64.861784</td>\n",
       "      <td>56.561986</td>\n",
       "      <td>97</td>\n",
       "    </tr>\n",
       "    <tr>\n",
       "      <th>2</th>\n",
       "      <td>AH03_J0822-36.4</td>\n",
       "      <td>-36.407564</td>\n",
       "      <td>1858.138397</td>\n",
       "      <td>NaN</td>\n",
       "      <td>8.915</td>\n",
       "      <td>0.538181</td>\n",
       "      <td>16.184860</td>\n",
       "      <td>15.705580</td>\n",
       "      <td>15.055792</td>\n",
       "      <td>3.345756</td>\n",
       "      <td>-3.555434</td>\n",
       "      <td>125.517644</td>\n",
       "      <td>119</td>\n",
       "    </tr>\n",
       "    <tr>\n",
       "      <th>3</th>\n",
       "      <td>AH03_J1725-34.4</td>\n",
       "      <td>-34.411341</td>\n",
       "      <td>1714.096934</td>\n",
       "      <td>NaN</td>\n",
       "      <td>NaN</td>\n",
       "      <td>0.583398</td>\n",
       "      <td>15.837820</td>\n",
       "      <td>14.560573</td>\n",
       "      <td>13.435419</td>\n",
       "      <td>-2.348778</td>\n",
       "      <td>-1.038870</td>\n",
       "      <td>261.376282</td>\n",
       "      <td>3</td>\n",
       "    </tr>\n",
       "    <tr>\n",
       "      <th>4</th>\n",
       "      <td>AH03_J2011+26.7</td>\n",
       "      <td>26.725594</td>\n",
       "      <td>2147.299714</td>\n",
       "      <td>NaN</td>\n",
       "      <td>NaN</td>\n",
       "      <td>0.465701</td>\n",
       "      <td>16.392403</td>\n",
       "      <td>15.595353</td>\n",
       "      <td>14.680267</td>\n",
       "      <td>-3.585821</td>\n",
       "      <td>-2.188606</td>\n",
       "      <td>302.997192</td>\n",
       "      <td>11</td>\n",
       "    </tr>\n",
       "  </tbody>\n",
       "</table>\n",
       "</div>"
      ],
      "text/plain": [
       "           Cluster        dec     distance  k13_e_logt  k13_logt   parallax  \\\n",
       "0           118TAU  23.569544   106.242354         NaN       NaN   9.412442   \n",
       "1            ABDMG  31.705265    45.836645         NaN       NaN  21.816606   \n",
       "2  AH03_J0822-36.4 -36.407564  1858.138397         NaN     8.915   0.538181   \n",
       "3  AH03_J1725-34.4 -34.411341  1714.096934         NaN       NaN   0.583398   \n",
       "4  AH03_J2011+26.7  26.725594  2147.299714         NaN       NaN   0.465701   \n",
       "\n",
       "   phot_bp_mean_mag  phot_g_mean_mag  phot_rp_mean_mag       pmdec       pmra  \\\n",
       "0         13.518909        12.354570         11.282246  -28.354268   7.761713   \n",
       "1         14.296335        13.025639         11.763298 -100.307957  64.861784   \n",
       "2         16.184860        15.705580         15.055792    3.345756  -3.555434   \n",
       "3         15.837820        14.560573         13.435419   -2.348778  -1.038870   \n",
       "4         16.392403        15.595353         14.680267   -3.585821  -2.188606   \n",
       "\n",
       "           ra  count  \n",
       "0   82.427007      1  \n",
       "1   56.561986     97  \n",
       "2  125.517644    119  \n",
       "3  261.376282      3  \n",
       "4  302.997192     11  "
      ]
     },
     "execution_count": 46,
     "metadata": {},
     "output_type": "execute_result"
    }
   ],
   "source": [
    "df = cc.query_catalog()\n",
    "df.head()"
   ]
  },
  {
   "cell_type": "code",
   "execution_count": 47,
   "metadata": {
    "ExecuteTime": {
     "end_time": "2022-09-26T03:42:22.893727Z",
     "start_time": "2022-09-26T03:42:22.370544Z"
    }
   },
   "outputs": [
    {
     "data": {
      "image/png": "[encoded data removed]",
      "text/plain": [
       "<Figure size 640x480 with 2 Axes>"
      ]
     },
     "metadata": {},
     "output_type": "display_data"
    }
   ],
   "source": [
    "#plot clusters in catalog\n",
    "cc.all_clusters = cc.all_clusters[cc.all_clusters['distance']<100]\n",
    "fig = cc.plot_all_clusters(x='ra', y='dec', c='distance');"
   ]
  },
  {
   "cell_type": "code",
   "execution_count": 48,
   "metadata": {
    "ExecuteTime": {
     "end_time": "2022-09-26T03:42:26.767246Z",
     "start_time": "2022-09-26T03:42:22.895691Z"
    }
   },
   "outputs": [
    {
     "name": "stdout",
     "output_type": "stream",
     "text": [
      "Using Bouma2019 catalog.\n",
      "Some parallaxes are negative in Bouma2019!\n",
      "These are removed for the meantime.\n",
      "For proper treatment, see:\n",
      "https://arxiv.org/pdf/1804.09366.pdf\n",
      "\n"
     ]
    },
    {
     "data": {
      "text/html": [
       "<div>\n",
       "<style scoped>\n",
       "    .dataframe tbody tr th:only-of-type {\n",
       "        vertical-align: middle;\n",
       "    }\n",
       "\n",
       "    .dataframe tbody tr th {\n",
       "        vertical-align: top;\n",
       "    }\n",
       "\n",
       "    .dataframe thead th {\n",
       "        text-align: right;\n",
       "    }\n",
       "</style>\n",
       "<table border=\"1\" class=\"dataframe\">\n",
       "  <thead>\n",
       "    <tr style=\"text-align: right;\">\n",
       "      <th></th>\n",
       "      <th>source_id</th>\n",
       "      <th>clusters</th>\n",
       "      <th>reference</th>\n",
       "      <th>ext_catalog_name</th>\n",
       "      <th>ra</th>\n",
       "      <th>dec</th>\n",
       "      <th>pmra</th>\n",
       "      <th>pmdec</th>\n",
       "      <th>parallax</th>\n",
       "      <th>phot_g_mean_mag</th>\n",
       "      <th>phot_bp_mean_mag</th>\n",
       "      <th>phot_rp_mean_mag</th>\n",
       "      <th>k13_name_match</th>\n",
       "      <th>Cluster</th>\n",
       "      <th>how_match</th>\n",
       "      <th>not_in_k13</th>\n",
       "      <th>comment</th>\n",
       "      <th>k13_logt</th>\n",
       "      <th>k13_e_logt</th>\n",
       "      <th>distance</th>\n",
       "    </tr>\n",
       "  </thead>\n",
       "  <tbody>\n",
       "    <tr>\n",
       "      <th>0</th>\n",
       "      <td>915553884118144</td>\n",
       "      <td>NaN</td>\n",
       "      <td>Zari_2018_UMS</td>\n",
       "      <td>915553884118144</td>\n",
       "      <td>45.408172</td>\n",
       "      <td>2.168272</td>\n",
       "      <td>-5.332160</td>\n",
       "      <td>-4.481473</td>\n",
       "      <td>2.163371</td>\n",
       "      <td>9.071013</td>\n",
       "      <td>9.128693</td>\n",
       "      <td>8.993386</td>\n",
       "      <td>NaN</td>\n",
       "      <td>NaN</td>\n",
       "      <td>NaN</td>\n",
       "      <td>NaN</td>\n",
       "      <td>NaN</td>\n",
       "      <td>NaN</td>\n",
       "      <td>NaN</td>\n",
       "      <td>462.241463</td>\n",
       "    </tr>\n",
       "    <tr>\n",
       "      <th>1</th>\n",
       "      <td>1195551392247936</td>\n",
       "      <td>NaN</td>\n",
       "      <td>Zari_2018_UMS</td>\n",
       "      <td>1195551392247936</td>\n",
       "      <td>43.881549</td>\n",
       "      <td>2.018219</td>\n",
       "      <td>6.070629</td>\n",
       "      <td>-11.761800</td>\n",
       "      <td>6.101615</td>\n",
       "      <td>6.574962</td>\n",
       "      <td>6.582521</td>\n",
       "      <td>6.628116</td>\n",
       "      <td>NaN</td>\n",
       "      <td>NaN</td>\n",
       "      <td>NaN</td>\n",
       "      <td>NaN</td>\n",
       "      <td>NaN</td>\n",
       "      <td>NaN</td>\n",
       "      <td>NaN</td>\n",
       "      <td>163.891049</td>\n",
       "    </tr>\n",
       "    <tr>\n",
       "      <th>2</th>\n",
       "      <td>1402912413121792</td>\n",
       "      <td>NaN</td>\n",
       "      <td>Zari_2018_UMS</td>\n",
       "      <td>1402912413121792</td>\n",
       "      <td>44.375186</td>\n",
       "      <td>2.895904</td>\n",
       "      <td>7.408781</td>\n",
       "      <td>-14.308718</td>\n",
       "      <td>2.092020</td>\n",
       "      <td>10.367023</td>\n",
       "      <td>10.427338</td>\n",
       "      <td>10.212925</td>\n",
       "      <td>NaN</td>\n",
       "      <td>NaN</td>\n",
       "      <td>NaN</td>\n",
       "      <td>NaN</td>\n",
       "      <td>NaN</td>\n",
       "      <td>NaN</td>\n",
       "      <td>NaN</td>\n",
       "      <td>478.006813</td>\n",
       "    </tr>\n",
       "    <tr>\n",
       "      <th>3</th>\n",
       "      <td>1546703623466880</td>\n",
       "      <td>NaN</td>\n",
       "      <td>Zari_2018_UMS</td>\n",
       "      <td>1546703623466880</td>\n",
       "      <td>42.959304</td>\n",
       "      <td>2.920459</td>\n",
       "      <td>1.597504</td>\n",
       "      <td>1.721123</td>\n",
       "      <td>2.853298</td>\n",
       "      <td>10.033413</td>\n",
       "      <td>10.229258</td>\n",
       "      <td>9.744271</td>\n",
       "      <td>NaN</td>\n",
       "      <td>NaN</td>\n",
       "      <td>NaN</td>\n",
       "      <td>NaN</td>\n",
       "      <td>NaN</td>\n",
       "      <td>NaN</td>\n",
       "      <td>NaN</td>\n",
       "      <td>350.471615</td>\n",
       "    </tr>\n",
       "    <tr>\n",
       "      <th>4</th>\n",
       "      <td>1939920764151808</td>\n",
       "      <td>NaN</td>\n",
       "      <td>Zari_2018_PMS</td>\n",
       "      <td>1939920764151808</td>\n",
       "      <td>45.599782</td>\n",
       "      <td>3.707654</td>\n",
       "      <td>2.253568</td>\n",
       "      <td>-8.906024</td>\n",
       "      <td>8.919021</td>\n",
       "      <td>14.358600</td>\n",
       "      <td>15.910364</td>\n",
       "      <td>13.139349</td>\n",
       "      <td>NaN</td>\n",
       "      <td>NaN</td>\n",
       "      <td>NaN</td>\n",
       "      <td>NaN</td>\n",
       "      <td>NaN</td>\n",
       "      <td>NaN</td>\n",
       "      <td>NaN</td>\n",
       "      <td>112.119933</td>\n",
       "    </tr>\n",
       "  </tbody>\n",
       "</table>\n",
       "</div>"
      ],
      "text/plain": [
       "          source_id clusters      reference  ext_catalog_name         ra  \\\n",
       "0   915553884118144      NaN  Zari_2018_UMS   915553884118144  45.408172   \n",
       "1  1195551392247936      NaN  Zari_2018_UMS  1195551392247936  43.881549   \n",
       "2  1402912413121792      NaN  Zari_2018_UMS  1402912413121792  44.375186   \n",
       "3  1546703623466880      NaN  Zari_2018_UMS  1546703623466880  42.959304   \n",
       "4  1939920764151808      NaN  Zari_2018_PMS  1939920764151808  45.599782   \n",
       "\n",
       "        dec      pmra      pmdec  parallax  phot_g_mean_mag  phot_bp_mean_mag  \\\n",
       "0  2.168272 -5.332160  -4.481473  2.163371         9.071013          9.128693   \n",
       "1  2.018219  6.070629 -11.761800  6.101615         6.574962          6.582521   \n",
       "2  2.895904  7.408781 -14.308718  2.092020        10.367023         10.427338   \n",
       "3  2.920459  1.597504   1.721123  2.853298        10.033413         10.229258   \n",
       "4  3.707654  2.253568  -8.906024  8.919021        14.358600         15.910364   \n",
       "\n",
       "   phot_rp_mean_mag k13_name_match Cluster how_match not_in_k13 comment  \\\n",
       "0          8.993386            NaN     NaN       NaN        NaN     NaN   \n",
       "1          6.628116            NaN     NaN       NaN        NaN     NaN   \n",
       "2         10.212925            NaN     NaN       NaN        NaN     NaN   \n",
       "3          9.744271            NaN     NaN       NaN        NaN     NaN   \n",
       "4         13.139349            NaN     NaN       NaN        NaN     NaN   \n",
       "\n",
       "   k13_logt  k13_e_logt    distance  \n",
       "0       NaN         NaN  462.241463  \n",
       "1       NaN         NaN  163.891049  \n",
       "2       NaN         NaN  478.006813  \n",
       "3       NaN         NaN  350.471615  \n",
       "4       NaN         NaN  112.119933  "
      ]
     },
     "execution_count": 48,
     "metadata": {},
     "output_type": "execute_result"
    }
   ],
   "source": [
    "mem = cc.query_catalog(return_members=True)\n",
    "mem.head()"
   ]
  },
  {
   "cell_type": "code",
   "execution_count": 49,
   "metadata": {
    "ExecuteTime": {
     "end_time": "2022-09-26T03:42:26.774977Z",
     "start_time": "2022-09-26T03:42:26.770671Z"
    }
   },
   "outputs": [
    {
     "data": {
      "text/plain": [
       "((3216, 13), (1040410, 20))"
      ]
     },
     "execution_count": 49,
     "metadata": {},
     "output_type": "execute_result"
    }
   ],
   "source": [
    "df.shape, mem.shape"
   ]
  },
  {
   "cell_type": "markdown",
   "metadata": {},
   "source": [
    "## Grandjean+2020"
   ]
  },
  {
   "cell_type": "code",
   "execution_count": null,
   "metadata": {
    "ExecuteTime": {
     "end_time": "2022-09-26T03:41:10.029717Z",
     "start_time": "2022-09-26T03:40:46.962Z"
    }
   },
   "outputs": [],
   "source": [
    "cc = cr.ClusterCatalog(catalog_name=\"Grandjean2020\")\n",
    "cc.get_vizier_url()"
   ]
  },
  {
   "cell_type": "code",
   "execution_count": null,
   "metadata": {
    "ExecuteTime": {
     "end_time": "2022-09-26T03:41:10.030797Z",
     "start_time": "2022-09-26T03:40:46.965Z"
    }
   },
   "outputs": [],
   "source": [
    "df = cc.query_catalog()\n",
    "df.head()"
   ]
  },
  {
   "cell_type": "raw",
   "metadata": {},
   "source": [
    "mem = cc.query_catalog(return_members=True)\n",
    "mem.head()"
   ]
  },
  {
   "cell_type": "markdown",
   "metadata": {},
   "source": [
    "## catalog cross-match"
   ]
  },
  {
   "cell_type": "code",
   "execution_count": 58,
   "metadata": {
    "ExecuteTime": {
     "end_time": "2022-09-26T03:43:30.074335Z",
     "start_time": "2022-09-26T03:43:30.019881Z"
    }
   },
   "outputs": [
    {
     "name": "stdout",
     "output_type": "stream",
     "text": [
      "Using CantatGaudin2020 catalog.\n"
     ]
    }
   ],
   "source": [
    "cc0 = cr.ClusterCatalog(catalog_name=\"CantatGaudin2020\")\n",
    "df0 = cc0.query_catalog()"
   ]
  },
  {
   "cell_type": "code",
   "execution_count": 69,
   "metadata": {
    "ExecuteTime": {
     "end_time": "2022-09-26T03:44:47.348247Z",
     "start_time": "2022-09-26T03:44:47.325141Z"
    }
   },
   "outputs": [
    {
     "data": {
      "text/html": [
       "<div>\n",
       "<style scoped>\n",
       "    .dataframe tbody tr th:only-of-type {\n",
       "        vertical-align: middle;\n",
       "    }\n",
       "\n",
       "    .dataframe tbody tr th {\n",
       "        vertical-align: top;\n",
       "    }\n",
       "\n",
       "    .dataframe thead th {\n",
       "        text-align: right;\n",
       "    }\n",
       "</style>\n",
       "<table border=\"1\" class=\"dataframe\">\n",
       "  <thead>\n",
       "    <tr style=\"text-align: right;\">\n",
       "      <th></th>\n",
       "      <th>Cluster</th>\n",
       "      <th>raJ2015</th>\n",
       "      <th>decJ2015</th>\n",
       "      <th>GLON</th>\n",
       "      <th>GLAT</th>\n",
       "      <th>r50</th>\n",
       "      <th>Nstars</th>\n",
       "      <th>pmra</th>\n",
       "      <th>pmdec</th>\n",
       "      <th>parallax</th>\n",
       "      <th>distance</th>\n",
       "      <th>X</th>\n",
       "      <th>Y</th>\n",
       "      <th>Z</th>\n",
       "      <th>Rgc</th>\n",
       "      <th>ra</th>\n",
       "      <th>dec</th>\n",
       "    </tr>\n",
       "  </thead>\n",
       "  <tbody>\n",
       "    <tr>\n",
       "      <th>42</th>\n",
       "      <td>Alessi_13</td>\n",
       "      <td>51.762</td>\n",
       "      <td>-35.821</td>\n",
       "      <td>237.532</td>\n",
       "      <td>-55.941</td>\n",
       "      <td>1.361</td>\n",
       "      <td>48</td>\n",
       "      <td>36.332</td>\n",
       "      <td>-4.709</td>\n",
       "      <td>9.584</td>\n",
       "      <td>104.0</td>\n",
       "      <td>-31.3</td>\n",
       "      <td>-49.2</td>\n",
       "      <td>-86.2</td>\n",
       "      <td>8371.4</td>\n",
       "      <td>51.7618</td>\n",
       "      <td>-35.8210</td>\n",
       "    </tr>\n",
       "    <tr>\n",
       "      <th>689</th>\n",
       "      <td>Mamajek_1</td>\n",
       "      <td>130.637</td>\n",
       "      <td>-78.963</td>\n",
       "      <td>292.436</td>\n",
       "      <td>-21.601</td>\n",
       "      <td>0.362</td>\n",
       "      <td>20</td>\n",
       "      <td>-29.834</td>\n",
       "      <td>26.990</td>\n",
       "      <td>10.130</td>\n",
       "      <td>104.0</td>\n",
       "      <td>36.9</td>\n",
       "      <td>-89.4</td>\n",
       "      <td>-38.3</td>\n",
       "      <td>8303.6</td>\n",
       "      <td>130.6377</td>\n",
       "      <td>-78.9631</td>\n",
       "    </tr>\n",
       "    <tr>\n",
       "      <th>1051</th>\n",
       "      <td>Platais_8</td>\n",
       "      <td>136.718</td>\n",
       "      <td>-58.685</td>\n",
       "      <td>277.121</td>\n",
       "      <td>-7.576</td>\n",
       "      <td>2.716</td>\n",
       "      <td>211</td>\n",
       "      <td>-15.596</td>\n",
       "      <td>14.474</td>\n",
       "      <td>7.415</td>\n",
       "      <td>134.3</td>\n",
       "      <td>16.5</td>\n",
       "      <td>-132.1</td>\n",
       "      <td>-17.7</td>\n",
       "      <td>8324.5</td>\n",
       "      <td>136.7181</td>\n",
       "      <td>-58.6851</td>\n",
       "    </tr>\n",
       "    <tr>\n",
       "      <th>698</th>\n",
       "      <td>Melotte_22</td>\n",
       "      <td>56.601</td>\n",
       "      <td>24.114</td>\n",
       "      <td>166.462</td>\n",
       "      <td>-23.614</td>\n",
       "      <td>1.274</td>\n",
       "      <td>992</td>\n",
       "      <td>20.077</td>\n",
       "      <td>-45.503</td>\n",
       "      <td>7.346</td>\n",
       "      <td>135.6</td>\n",
       "      <td>-120.8</td>\n",
       "      <td>29.1</td>\n",
       "      <td>-54.3</td>\n",
       "      <td>8460.8</td>\n",
       "      <td>56.6009</td>\n",
       "      <td>24.1142</td>\n",
       "    </tr>\n",
       "    <tr>\n",
       "      <th>608</th>\n",
       "      <td>IC_2391</td>\n",
       "      <td>130.292</td>\n",
       "      <td>-52.991</td>\n",
       "      <td>270.386</td>\n",
       "      <td>-6.737</td>\n",
       "      <td>0.814</td>\n",
       "      <td>224</td>\n",
       "      <td>-24.644</td>\n",
       "      <td>23.316</td>\n",
       "      <td>6.582</td>\n",
       "      <td>151.3</td>\n",
       "      <td>1.0</td>\n",
       "      <td>-150.2</td>\n",
       "      <td>-17.7</td>\n",
       "      <td>8340.3</td>\n",
       "      <td>130.2922</td>\n",
       "      <td>-52.9911</td>\n",
       "    </tr>\n",
       "  </tbody>\n",
       "</table>\n",
       "</div>"
      ],
      "text/plain": [
       "         Cluster  raJ2015  decJ2015     GLON    GLAT    r50  Nstars    pmra  \\\n",
       "42     Alessi_13   51.762   -35.821  237.532 -55.941  1.361      48  36.332   \n",
       "689    Mamajek_1  130.637   -78.963  292.436 -21.601  0.362      20 -29.834   \n",
       "1051   Platais_8  136.718   -58.685  277.121  -7.576  2.716     211 -15.596   \n",
       "698   Melotte_22   56.601    24.114  166.462 -23.614  1.274     992  20.077   \n",
       "608      IC_2391  130.292   -52.991  270.386  -6.737  0.814     224 -24.644   \n",
       "\n",
       "       pmdec  parallax  distance      X      Y     Z     Rgc        ra  \\\n",
       "42    -4.709     9.584     104.0  -31.3  -49.2 -86.2  8371.4   51.7618   \n",
       "689   26.990    10.130     104.0   36.9  -89.4 -38.3  8303.6  130.6377   \n",
       "1051  14.474     7.415     134.3   16.5 -132.1 -17.7  8324.5  136.7181   \n",
       "698  -45.503     7.346     135.6 -120.8   29.1 -54.3  8460.8   56.6009   \n",
       "608   23.316     6.582     151.3    1.0 -150.2 -17.7  8340.3  130.2922   \n",
       "\n",
       "          dec  \n",
       "42   -35.8210  \n",
       "689  -78.9631  \n",
       "1051 -58.6851  \n",
       "698   24.1142  \n",
       "608  -52.9911  "
      ]
     },
     "execution_count": 69,
     "metadata": {},
     "output_type": "execute_result"
    }
   ],
   "source": [
    "df0.sort_values(by=\"distance\").head()"
   ]
  },
  {
   "cell_type": "code",
   "execution_count": 59,
   "metadata": {
    "ExecuteTime": {
     "end_time": "2022-09-26T03:43:30.249062Z",
     "start_time": "2022-09-26T03:43:30.209871Z"
    }
   },
   "outputs": [
    {
     "name": "stdout",
     "output_type": "stream",
     "text": [
      "Using CastroGinard2020 catalog.\n"
     ]
    }
   ],
   "source": [
    "cc1 = cr.ClusterCatalog(catalog_name=\"CastroGinard2020\")\n",
    "df1 = cc1.query_catalog()"
   ]
  },
  {
   "cell_type": "code",
   "execution_count": 70,
   "metadata": {
    "ExecuteTime": {
     "end_time": "2022-09-26T03:46:20.784394Z",
     "start_time": "2022-09-26T03:46:20.747481Z"
    }
   },
   "outputs": [
    {
     "data": {
      "text/html": [
       "<div>\n",
       "<style scoped>\n",
       "    .dataframe tbody tr th:only-of-type {\n",
       "        vertical-align: middle;\n",
       "    }\n",
       "\n",
       "    .dataframe tbody tr th {\n",
       "        vertical-align: top;\n",
       "    }\n",
       "\n",
       "    .dataframe thead th {\n",
       "        text-align: right;\n",
       "    }\n",
       "</style>\n",
       "<table border=\"1\" class=\"dataframe\">\n",
       "  <thead>\n",
       "    <tr style=\"text-align: right;\">\n",
       "      <th></th>\n",
       "      <th>Cluster</th>\n",
       "      <th>raJ2015</th>\n",
       "      <th>e_raJ2015</th>\n",
       "      <th>decJ2015</th>\n",
       "      <th>e_decJ2015</th>\n",
       "      <th>GLON</th>\n",
       "      <th>e_GLON</th>\n",
       "      <th>GLAT</th>\n",
       "      <th>e_GLAT</th>\n",
       "      <th>parallax</th>\n",
       "      <th>e_parallax</th>\n",
       "      <th>pmra</th>\n",
       "      <th>e_pmra</th>\n",
       "      <th>pmdec</th>\n",
       "      <th>e_pmdec</th>\n",
       "      <th>Note</th>\n",
       "      <th>ra</th>\n",
       "      <th>dec</th>\n",
       "      <th>distance</th>\n",
       "    </tr>\n",
       "  </thead>\n",
       "  <tbody>\n",
       "    <tr>\n",
       "      <th>117</th>\n",
       "      <td>UBC208</td>\n",
       "      <td>83.797229</td>\n",
       "      <td>0.105651</td>\n",
       "      <td>-5.930379</td>\n",
       "      <td>0.173098</td>\n",
       "      <td>209.512631</td>\n",
       "      <td>0.156003</td>\n",
       "      <td>-19.646823</td>\n",
       "      <td>0.139384</td>\n",
       "      <td>2.5823</td>\n",
       "      <td>0.0525</td>\n",
       "      <td>1.219</td>\n",
       "      <td>0.194</td>\n",
       "      <td>0.558</td>\n",
       "      <td>0.234</td>\n",
       "      <td>NaN</td>\n",
       "      <td>83.797224</td>\n",
       "      <td>-5.930381</td>\n",
       "      <td>387.251675</td>\n",
       "    </tr>\n",
       "    <tr>\n",
       "      <th>116</th>\n",
       "      <td>UBC207</td>\n",
       "      <td>83.865611</td>\n",
       "      <td>0.120933</td>\n",
       "      <td>-4.505249</td>\n",
       "      <td>0.249467</td>\n",
       "      <td>208.199286</td>\n",
       "      <td>0.266403</td>\n",
       "      <td>-18.940235</td>\n",
       "      <td>0.115249</td>\n",
       "      <td>2.5387</td>\n",
       "      <td>0.0658</td>\n",
       "      <td>1.071</td>\n",
       "      <td>0.202</td>\n",
       "      <td>0.614</td>\n",
       "      <td>0.377</td>\n",
       "      <td>NaN</td>\n",
       "      <td>83.865606</td>\n",
       "      <td>-4.505252</td>\n",
       "      <td>393.902391</td>\n",
       "    </tr>\n",
       "    <tr>\n",
       "      <th>521</th>\n",
       "      <td>UBC621</td>\n",
       "      <td>83.780111</td>\n",
       "      <td>0.118558</td>\n",
       "      <td>-4.801913</td>\n",
       "      <td>0.132965</td>\n",
       "      <td>208.437457</td>\n",
       "      <td>0.146073</td>\n",
       "      <td>-19.151443</td>\n",
       "      <td>0.112245</td>\n",
       "      <td>2.5287</td>\n",
       "      <td>0.0674</td>\n",
       "      <td>1.236</td>\n",
       "      <td>0.427</td>\n",
       "      <td>-0.768</td>\n",
       "      <td>0.476</td>\n",
       "      <td>NaN</td>\n",
       "      <td>83.780106</td>\n",
       "      <td>-4.801909</td>\n",
       "      <td>395.460118</td>\n",
       "    </tr>\n",
       "    <tr>\n",
       "      <th>114</th>\n",
       "      <td>UBC205</td>\n",
       "      <td>84.766474</td>\n",
       "      <td>0.154848</td>\n",
       "      <td>-2.573446</td>\n",
       "      <td>0.155415</td>\n",
       "      <td>206.830493</td>\n",
       "      <td>0.124701</td>\n",
       "      <td>-17.252862</td>\n",
       "      <td>0.184125</td>\n",
       "      <td>2.4822</td>\n",
       "      <td>0.0893</td>\n",
       "      <td>1.617</td>\n",
       "      <td>0.492</td>\n",
       "      <td>-0.522</td>\n",
       "      <td>0.421</td>\n",
       "      <td>NaN</td>\n",
       "      <td>84.766467</td>\n",
       "      <td>-2.573443</td>\n",
       "      <td>402.868423</td>\n",
       "    </tr>\n",
       "    <tr>\n",
       "      <th>387</th>\n",
       "      <td>UBC480</td>\n",
       "      <td>119.942773</td>\n",
       "      <td>0.184935</td>\n",
       "      <td>-50.661381</td>\n",
       "      <td>0.089721</td>\n",
       "      <td>264.848742</td>\n",
       "      <td>0.095421</td>\n",
       "      <td>-10.773931</td>\n",
       "      <td>0.114100</td>\n",
       "      <td>2.0751</td>\n",
       "      <td>0.0229</td>\n",
       "      <td>-5.396</td>\n",
       "      <td>0.101</td>\n",
       "      <td>5.683</td>\n",
       "      <td>0.095</td>\n",
       "      <td>NaN</td>\n",
       "      <td>119.942809</td>\n",
       "      <td>-50.661406</td>\n",
       "      <td>481.904487</td>\n",
       "    </tr>\n",
       "  </tbody>\n",
       "</table>\n",
       "</div>"
      ],
      "text/plain": [
       "    Cluster     raJ2015  e_raJ2015   decJ2015  e_decJ2015        GLON  \\\n",
       "117  UBC208   83.797229   0.105651  -5.930379    0.173098  209.512631   \n",
       "116  UBC207   83.865611   0.120933  -4.505249    0.249467  208.199286   \n",
       "521  UBC621   83.780111   0.118558  -4.801913    0.132965  208.437457   \n",
       "114  UBC205   84.766474   0.154848  -2.573446    0.155415  206.830493   \n",
       "387  UBC480  119.942773   0.184935 -50.661381    0.089721  264.848742   \n",
       "\n",
       "       e_GLON       GLAT    e_GLAT  parallax  e_parallax   pmra  e_pmra  \\\n",
       "117  0.156003 -19.646823  0.139384    2.5823      0.0525  1.219   0.194   \n",
       "116  0.266403 -18.940235  0.115249    2.5387      0.0658  1.071   0.202   \n",
       "521  0.146073 -19.151443  0.112245    2.5287      0.0674  1.236   0.427   \n",
       "114  0.124701 -17.252862  0.184125    2.4822      0.0893  1.617   0.492   \n",
       "387  0.095421 -10.773931  0.114100    2.0751      0.0229 -5.396   0.101   \n",
       "\n",
       "     pmdec  e_pmdec Note          ra        dec    distance  \n",
       "117  0.558    0.234  NaN   83.797224  -5.930381  387.251675  \n",
       "116  0.614    0.377  NaN   83.865606  -4.505252  393.902391  \n",
       "521 -0.768    0.476  NaN   83.780106  -4.801909  395.460118  \n",
       "114 -0.522    0.421  NaN   84.766467  -2.573443  402.868423  \n",
       "387  5.683    0.095  NaN  119.942809 -50.661406  481.904487  "
      ]
     },
     "execution_count": 70,
     "metadata": {},
     "output_type": "execute_result"
    }
   ],
   "source": [
    "#far\n",
    "df1.sort_values(by=\"distance\").head()"
   ]
  },
  {
   "cell_type": "code",
   "execution_count": 60,
   "metadata": {
    "ExecuteTime": {
     "end_time": "2022-09-26T03:43:30.448418Z",
     "start_time": "2022-09-26T03:43:30.410497Z"
    },
    "scrolled": true
   },
   "outputs": [
    {
     "name": "stdout",
     "output_type": "stream",
     "text": [
      "Using CastroGinard2022 catalog.\n"
     ]
    }
   ],
   "source": [
    "cc2 = cr.ClusterCatalog(catalog_name=\"CastroGinard2022\")\n",
    "df2 = cc2.query_catalog()"
   ]
  },
  {
   "cell_type": "code",
   "execution_count": 71,
   "metadata": {
    "ExecuteTime": {
     "end_time": "2022-09-26T03:46:20.784394Z",
     "start_time": "2022-09-26T03:46:20.747481Z"
    }
   },
   "outputs": [
    {
     "data": {
      "text/html": [
       "<div>\n",
       "<style scoped>\n",
       "    .dataframe tbody tr th:only-of-type {\n",
       "        vertical-align: middle;\n",
       "    }\n",
       "\n",
       "    .dataframe tbody tr th {\n",
       "        vertical-align: top;\n",
       "    }\n",
       "\n",
       "    .dataframe thead th {\n",
       "        text-align: right;\n",
       "    }\n",
       "</style>\n",
       "<table border=\"1\" class=\"dataframe\">\n",
       "  <thead>\n",
       "    <tr style=\"text-align: right;\">\n",
       "      <th></th>\n",
       "      <th>Seq</th>\n",
       "      <th>Cluster</th>\n",
       "      <th>raJ2015</th>\n",
       "      <th>e_raJ2015</th>\n",
       "      <th>decJ2015</th>\n",
       "      <th>e_decJ2015</th>\n",
       "      <th>GLON</th>\n",
       "      <th>s_GLON</th>\n",
       "      <th>GLAT</th>\n",
       "      <th>s_GLAT</th>\n",
       "      <th>...</th>\n",
       "      <th>e_radial_velocity</th>\n",
       "      <th>Nmemb</th>\n",
       "      <th>NmembRV</th>\n",
       "      <th>Flag</th>\n",
       "      <th>logAge</th>\n",
       "      <th>Dist</th>\n",
       "      <th>AV</th>\n",
       "      <th>ra</th>\n",
       "      <th>dec</th>\n",
       "      <th>distance</th>\n",
       "    </tr>\n",
       "  </thead>\n",
       "  <tbody>\n",
       "    <tr>\n",
       "      <th>186</th>\n",
       "      <td>186</td>\n",
       "      <td>UBC1187</td>\n",
       "      <td>352.23</td>\n",
       "      <td>0.23</td>\n",
       "      <td>66.92</td>\n",
       "      <td>0.06</td>\n",
       "      <td>114.96</td>\n",
       "      <td>0.09</td>\n",
       "      <td>5.33</td>\n",
       "      <td>0.05</td>\n",
       "      <td>...</td>\n",
       "      <td>NaN</td>\n",
       "      <td>18</td>\n",
       "      <td>0</td>\n",
       "      <td>NaN</td>\n",
       "      <td>7.576</td>\n",
       "      <td>862.0</td>\n",
       "      <td>2.862</td>\n",
       "      <td>352.23</td>\n",
       "      <td>66.92</td>\n",
       "      <td>793.650794</td>\n",
       "    </tr>\n",
       "    <tr>\n",
       "      <th>572</th>\n",
       "      <td>572</td>\n",
       "      <td>UBC1573</td>\n",
       "      <td>343.45</td>\n",
       "      <td>0.08</td>\n",
       "      <td>62.61</td>\n",
       "      <td>0.03</td>\n",
       "      <td>109.86</td>\n",
       "      <td>0.04</td>\n",
       "      <td>2.76</td>\n",
       "      <td>0.02</td>\n",
       "      <td>...</td>\n",
       "      <td>NaN</td>\n",
       "      <td>17</td>\n",
       "      <td>0</td>\n",
       "      <td>a</td>\n",
       "      <td>7.288</td>\n",
       "      <td>863.0</td>\n",
       "      <td>4.087</td>\n",
       "      <td>343.45</td>\n",
       "      <td>62.61</td>\n",
       "      <td>847.457627</td>\n",
       "    </tr>\n",
       "    <tr>\n",
       "      <th>591</th>\n",
       "      <td>591</td>\n",
       "      <td>UBC1592</td>\n",
       "      <td>213.59</td>\n",
       "      <td>0.07</td>\n",
       "      <td>-64.19</td>\n",
       "      <td>0.04</td>\n",
       "      <td>311.81</td>\n",
       "      <td>0.04</td>\n",
       "      <td>-2.75</td>\n",
       "      <td>0.04</td>\n",
       "      <td>...</td>\n",
       "      <td>NaN</td>\n",
       "      <td>16</td>\n",
       "      <td>0</td>\n",
       "      <td>NaN</td>\n",
       "      <td>7.994</td>\n",
       "      <td>978.0</td>\n",
       "      <td>0.680</td>\n",
       "      <td>213.59</td>\n",
       "      <td>-64.19</td>\n",
       "      <td>925.925926</td>\n",
       "    </tr>\n",
       "    <tr>\n",
       "      <th>594</th>\n",
       "      <td>594</td>\n",
       "      <td>UBC1595</td>\n",
       "      <td>289.95</td>\n",
       "      <td>0.07</td>\n",
       "      <td>-1.87</td>\n",
       "      <td>0.04</td>\n",
       "      <td>34.50</td>\n",
       "      <td>0.03</td>\n",
       "      <td>-7.16</td>\n",
       "      <td>0.08</td>\n",
       "      <td>...</td>\n",
       "      <td>NaN</td>\n",
       "      <td>11</td>\n",
       "      <td>0</td>\n",
       "      <td>NaN</td>\n",
       "      <td>8.099</td>\n",
       "      <td>1028.0</td>\n",
       "      <td>2.130</td>\n",
       "      <td>289.95</td>\n",
       "      <td>-1.87</td>\n",
       "      <td>934.579439</td>\n",
       "    </tr>\n",
       "    <tr>\n",
       "      <th>560</th>\n",
       "      <td>560</td>\n",
       "      <td>UBC1561</td>\n",
       "      <td>251.67</td>\n",
       "      <td>0.13</td>\n",
       "      <td>-41.21</td>\n",
       "      <td>0.07</td>\n",
       "      <td>343.04</td>\n",
       "      <td>0.08</td>\n",
       "      <td>2.66</td>\n",
       "      <td>0.08</td>\n",
       "      <td>...</td>\n",
       "      <td>NaN</td>\n",
       "      <td>35</td>\n",
       "      <td>0</td>\n",
       "      <td>NaN</td>\n",
       "      <td>8.150</td>\n",
       "      <td>1231.0</td>\n",
       "      <td>0.887</td>\n",
       "      <td>251.67</td>\n",
       "      <td>-41.21</td>\n",
       "      <td>1123.595506</td>\n",
       "    </tr>\n",
       "  </tbody>\n",
       "</table>\n",
       "<p>5 rows × 27 columns</p>\n",
       "</div>"
      ],
      "text/plain": [
       "     Seq  Cluster  raJ2015  e_raJ2015  decJ2015  e_decJ2015    GLON  s_GLON  \\\n",
       "186  186  UBC1187   352.23       0.23     66.92        0.06  114.96    0.09   \n",
       "572  572  UBC1573   343.45       0.08     62.61        0.03  109.86    0.04   \n",
       "591  591  UBC1592   213.59       0.07    -64.19        0.04  311.81    0.04   \n",
       "594  594  UBC1595   289.95       0.07     -1.87        0.04   34.50    0.03   \n",
       "560  560  UBC1561   251.67       0.13    -41.21        0.07  343.04    0.08   \n",
       "\n",
       "     GLAT  s_GLAT  ...  e_radial_velocity  Nmemb  NmembRV  Flag  logAge  \\\n",
       "186  5.33    0.05  ...                NaN     18        0   NaN   7.576   \n",
       "572  2.76    0.02  ...                NaN     17        0     a   7.288   \n",
       "591 -2.75    0.04  ...                NaN     16        0   NaN   7.994   \n",
       "594 -7.16    0.08  ...                NaN     11        0   NaN   8.099   \n",
       "560  2.66    0.08  ...                NaN     35        0   NaN   8.150   \n",
       "\n",
       "       Dist     AV      ra    dec     distance  \n",
       "186   862.0  2.862  352.23  66.92   793.650794  \n",
       "572   863.0  4.087  343.45  62.61   847.457627  \n",
       "591   978.0  0.680  213.59 -64.19   925.925926  \n",
       "594  1028.0  2.130  289.95  -1.87   934.579439  \n",
       "560  1231.0  0.887  251.67 -41.21  1123.595506  \n",
       "\n",
       "[5 rows x 27 columns]"
      ]
     },
     "execution_count": 71,
     "metadata": {},
     "output_type": "execute_result"
    }
   ],
   "source": [
    "#far\n",
    "df2.sort_values(by=\"distance\").head()"
   ]
  },
  {
   "cell_type": "code",
   "execution_count": 61,
   "metadata": {
    "ExecuteTime": {
     "end_time": "2022-09-26T03:43:30.630404Z",
     "start_time": "2022-09-26T03:43:30.592965Z"
    }
   },
   "outputs": [
    {
     "name": "stdout",
     "output_type": "stream",
     "text": [
      "Using Hao2022 catalog.\n"
     ]
    }
   ],
   "source": [
    "cc3 = cr.ClusterCatalog(catalog_name=\"Hao2022\")\n",
    "df3 = cc3.query_catalog()"
   ]
  },
  {
   "cell_type": "code",
   "execution_count": 72,
   "metadata": {
    "ExecuteTime": {
     "end_time": "2022-09-26T03:46:20.784394Z",
     "start_time": "2022-09-26T03:46:20.747481Z"
    }
   },
   "outputs": [
    {
     "data": {
      "text/html": [
       "<div>\n",
       "<style scoped>\n",
       "    .dataframe tbody tr th:only-of-type {\n",
       "        vertical-align: middle;\n",
       "    }\n",
       "\n",
       "    .dataframe tbody tr th {\n",
       "        vertical-align: top;\n",
       "    }\n",
       "\n",
       "    .dataframe thead th {\n",
       "        text-align: right;\n",
       "    }\n",
       "</style>\n",
       "<table border=\"1\" class=\"dataframe\">\n",
       "  <thead>\n",
       "    <tr style=\"text-align: right;\">\n",
       "      <th></th>\n",
       "      <th>Cluster</th>\n",
       "      <th>RA_ICRS</th>\n",
       "      <th>e_RA_ICRS</th>\n",
       "      <th>DE_ICRS</th>\n",
       "      <th>e_DE_ICRS</th>\n",
       "      <th>GLON</th>\n",
       "      <th>e_GLON</th>\n",
       "      <th>GLAT</th>\n",
       "      <th>e_GLAT</th>\n",
       "      <th>adeg</th>\n",
       "      <th>...</th>\n",
       "      <th>e_age</th>\n",
       "      <th>AG</th>\n",
       "      <th>Z</th>\n",
       "      <th>RV</th>\n",
       "      <th>s_RV</th>\n",
       "      <th>N</th>\n",
       "      <th>o_RV</th>\n",
       "      <th>ra</th>\n",
       "      <th>dec</th>\n",
       "      <th>distance</th>\n",
       "    </tr>\n",
       "  </thead>\n",
       "  <tbody>\n",
       "    <tr>\n",
       "      <th>689</th>\n",
       "      <td>OC-0690</td>\n",
       "      <td>246.377489</td>\n",
       "      <td>0.079503</td>\n",
       "      <td>-23.452150</td>\n",
       "      <td>0.077651</td>\n",
       "      <td>353.670045</td>\n",
       "      <td>0.057640</td>\n",
       "      <td>17.696443</td>\n",
       "      <td>0.091286</td>\n",
       "      <td>0.107961</td>\n",
       "      <td>...</td>\n",
       "      <td>0.16</td>\n",
       "      <td>3.60</td>\n",
       "      <td>0.016</td>\n",
       "      <td>-6.678561</td>\n",
       "      <td>4.813663</td>\n",
       "      <td>28</td>\n",
       "      <td>2</td>\n",
       "      <td>246.377524</td>\n",
       "      <td>-23.452037</td>\n",
       "      <td>138.995317</td>\n",
       "    </tr>\n",
       "    <tr>\n",
       "      <th>665</th>\n",
       "      <td>OC-0666</td>\n",
       "      <td>242.142811</td>\n",
       "      <td>0.077431</td>\n",
       "      <td>-39.076122</td>\n",
       "      <td>0.037411</td>\n",
       "      <td>339.544489</td>\n",
       "      <td>0.051060</td>\n",
       "      <td>9.396181</td>\n",
       "      <td>0.049752</td>\n",
       "      <td>0.071291</td>\n",
       "      <td>...</td>\n",
       "      <td>0.15</td>\n",
       "      <td>1.16</td>\n",
       "      <td>0.021</td>\n",
       "      <td>-4.243456</td>\n",
       "      <td>NaN</td>\n",
       "      <td>26</td>\n",
       "      <td>1</td>\n",
       "      <td>242.142867</td>\n",
       "      <td>-39.076018</td>\n",
       "      <td>158.385131</td>\n",
       "    </tr>\n",
       "    <tr>\n",
       "      <th>578</th>\n",
       "      <td>OC-0579</td>\n",
       "      <td>167.046274</td>\n",
       "      <td>0.257570</td>\n",
       "      <td>-77.588335</td>\n",
       "      <td>0.091479</td>\n",
       "      <td>297.348931</td>\n",
       "      <td>0.058412</td>\n",
       "      <td>-15.850377</td>\n",
       "      <td>0.091010</td>\n",
       "      <td>0.108142</td>\n",
       "      <td>...</td>\n",
       "      <td>0.14</td>\n",
       "      <td>0.74</td>\n",
       "      <td>0.018</td>\n",
       "      <td>-2.268192</td>\n",
       "      <td>46.917564</td>\n",
       "      <td>37</td>\n",
       "      <td>2</td>\n",
       "      <td>167.046749</td>\n",
       "      <td>-77.588338</td>\n",
       "      <td>188.844038</td>\n",
       "    </tr>\n",
       "    <tr>\n",
       "      <th>577</th>\n",
       "      <td>OC-0578</td>\n",
       "      <td>167.637254</td>\n",
       "      <td>0.433090</td>\n",
       "      <td>-76.529436</td>\n",
       "      <td>0.083727</td>\n",
       "      <td>297.038255</td>\n",
       "      <td>0.105398</td>\n",
       "      <td>-14.826424</td>\n",
       "      <td>0.082473</td>\n",
       "      <td>0.133830</td>\n",
       "      <td>...</td>\n",
       "      <td>0.15</td>\n",
       "      <td>1.36</td>\n",
       "      <td>0.018</td>\n",
       "      <td>11.369120</td>\n",
       "      <td>5.955675</td>\n",
       "      <td>30</td>\n",
       "      <td>4</td>\n",
       "      <td>167.637669</td>\n",
       "      <td>-76.529433</td>\n",
       "      <td>193.127071</td>\n",
       "    </tr>\n",
       "    <tr>\n",
       "      <th>278</th>\n",
       "      <td>OC-0279</td>\n",
       "      <td>58.538459</td>\n",
       "      <td>0.058149</td>\n",
       "      <td>31.893251</td>\n",
       "      <td>0.049035</td>\n",
       "      <td>162.286050</td>\n",
       "      <td>0.038846</td>\n",
       "      <td>-16.680120</td>\n",
       "      <td>0.058802</td>\n",
       "      <td>0.070475</td>\n",
       "      <td>...</td>\n",
       "      <td>0.16</td>\n",
       "      <td>4.04</td>\n",
       "      <td>0.021</td>\n",
       "      <td>14.917052</td>\n",
       "      <td>NaN</td>\n",
       "      <td>16</td>\n",
       "      <td>1</td>\n",
       "      <td>58.538426</td>\n",
       "      <td>31.893294</td>\n",
       "      <td>284.998938</td>\n",
       "    </tr>\n",
       "  </tbody>\n",
       "</table>\n",
       "<p>5 rows × 27 columns</p>\n",
       "</div>"
      ],
      "text/plain": [
       "     Cluster     RA_ICRS  e_RA_ICRS    DE_ICRS  e_DE_ICRS        GLON  \\\n",
       "689  OC-0690  246.377489   0.079503 -23.452150   0.077651  353.670045   \n",
       "665  OC-0666  242.142811   0.077431 -39.076122   0.037411  339.544489   \n",
       "578  OC-0579  167.046274   0.257570 -77.588335   0.091479  297.348931   \n",
       "577  OC-0578  167.637254   0.433090 -76.529436   0.083727  297.038255   \n",
       "278  OC-0279   58.538459   0.058149  31.893251   0.049035  162.286050   \n",
       "\n",
       "       e_GLON       GLAT    e_GLAT      adeg  ...  e_age    AG      Z  \\\n",
       "689  0.057640  17.696443  0.091286  0.107961  ...   0.16  3.60  0.016   \n",
       "665  0.051060   9.396181  0.049752  0.071291  ...   0.15  1.16  0.021   \n",
       "578  0.058412 -15.850377  0.091010  0.108142  ...   0.14  0.74  0.018   \n",
       "577  0.105398 -14.826424  0.082473  0.133830  ...   0.15  1.36  0.018   \n",
       "278  0.038846 -16.680120  0.058802  0.070475  ...   0.16  4.04  0.021   \n",
       "\n",
       "            RV       s_RV   N  o_RV          ra        dec    distance  \n",
       "689  -6.678561   4.813663  28     2  246.377524 -23.452037  138.995317  \n",
       "665  -4.243456        NaN  26     1  242.142867 -39.076018  158.385131  \n",
       "578  -2.268192  46.917564  37     2  167.046749 -77.588338  188.844038  \n",
       "577  11.369120   5.955675  30     4  167.637669 -76.529433  193.127071  \n",
       "278  14.917052        NaN  16     1   58.538426  31.893294  284.998938  \n",
       "\n",
       "[5 rows x 27 columns]"
      ]
     },
     "execution_count": 72,
     "metadata": {},
     "output_type": "execute_result"
    }
   ],
   "source": [
    "df3.sort_values(by=\"distance\").head()"
   ]
  },
  {
   "cell_type": "code",
   "execution_count": 62,
   "metadata": {
    "ExecuteTime": {
     "end_time": "2022-09-26T03:43:30.844764Z",
     "start_time": "2022-09-26T03:43:30.812386Z"
    }
   },
   "outputs": [
    {
     "name": "stdout",
     "output_type": "stream",
     "text": [
      "Using He2022a catalog.\n"
     ]
    }
   ],
   "source": [
    "cc4 = cr.ClusterCatalog(catalog_name=\"He2022a\")\n",
    "df4 = cc4.query_catalog()"
   ]
  },
  {
   "cell_type": "code",
   "execution_count": 73,
   "metadata": {
    "ExecuteTime": {
     "end_time": "2022-09-26T03:46:20.784394Z",
     "start_time": "2022-09-26T03:46:20.747481Z"
    }
   },
   "outputs": [
    {
     "data": {
      "text/html": [
       "<div>\n",
       "<style scoped>\n",
       "    .dataframe tbody tr th:only-of-type {\n",
       "        vertical-align: middle;\n",
       "    }\n",
       "\n",
       "    .dataframe tbody tr th {\n",
       "        vertical-align: top;\n",
       "    }\n",
       "\n",
       "    .dataframe thead th {\n",
       "        text-align: right;\n",
       "    }\n",
       "</style>\n",
       "<table border=\"1\" class=\"dataframe\">\n",
       "  <thead>\n",
       "    <tr style=\"text-align: right;\">\n",
       "      <th></th>\n",
       "      <th>Cluster</th>\n",
       "      <th>GLON</th>\n",
       "      <th>s_GLON</th>\n",
       "      <th>GLAT</th>\n",
       "      <th>s_GLAT</th>\n",
       "      <th>parallax</th>\n",
       "      <th>e_parallax</th>\n",
       "      <th>pmra</th>\n",
       "      <th>e_pmra</th>\n",
       "      <th>pmdec</th>\n",
       "      <th>...</th>\n",
       "      <th>AG</th>\n",
       "      <th>log10_age</th>\n",
       "      <th>Z</th>\n",
       "      <th>N70</th>\n",
       "      <th>minProb</th>\n",
       "      <th>NminProb</th>\n",
       "      <th>Class</th>\n",
       "      <th>ra</th>\n",
       "      <th>dec</th>\n",
       "      <th>distance</th>\n",
       "    </tr>\n",
       "  </thead>\n",
       "  <tbody>\n",
       "    <tr>\n",
       "      <th>514</th>\n",
       "      <td>515</td>\n",
       "      <td>279.489</td>\n",
       "      <td>0.38</td>\n",
       "      <td>-12.351</td>\n",
       "      <td>0.32</td>\n",
       "      <td>4.84</td>\n",
       "      <td>0.10</td>\n",
       "      <td>-26.65</td>\n",
       "      <td>0.75</td>\n",
       "      <td>15.39</td>\n",
       "      <td>...</td>\n",
       "      <td>0.35</td>\n",
       "      <td>7.4</td>\n",
       "      <td>0.010</td>\n",
       "      <td>24</td>\n",
       "      <td>1.0</td>\n",
       "      <td>24</td>\n",
       "      <td>3</td>\n",
       "      <td>132.1827</td>\n",
       "      <td>-63.5293</td>\n",
       "      <td>206.611570</td>\n",
       "    </tr>\n",
       "    <tr>\n",
       "      <th>535</th>\n",
       "      <td>536</td>\n",
       "      <td>255.816</td>\n",
       "      <td>0.44</td>\n",
       "      <td>-17.198</td>\n",
       "      <td>0.37</td>\n",
       "      <td>3.95</td>\n",
       "      <td>0.15</td>\n",
       "      <td>-3.35</td>\n",
       "      <td>0.72</td>\n",
       "      <td>2.99</td>\n",
       "      <td>...</td>\n",
       "      <td>0.50</td>\n",
       "      <td>7.9</td>\n",
       "      <td>0.024</td>\n",
       "      <td>31</td>\n",
       "      <td>1.0</td>\n",
       "      <td>31</td>\n",
       "      <td>3</td>\n",
       "      <td>105.5819</td>\n",
       "      <td>-45.5119</td>\n",
       "      <td>253.164557</td>\n",
       "    </tr>\n",
       "    <tr>\n",
       "      <th>106</th>\n",
       "      <td>107</td>\n",
       "      <td>223.450</td>\n",
       "      <td>0.64</td>\n",
       "      <td>-18.164</td>\n",
       "      <td>0.54</td>\n",
       "      <td>3.88</td>\n",
       "      <td>0.24</td>\n",
       "      <td>-5.33</td>\n",
       "      <td>2.01</td>\n",
       "      <td>6.76</td>\n",
       "      <td>...</td>\n",
       "      <td>0.05</td>\n",
       "      <td>7.3</td>\n",
       "      <td>0.004</td>\n",
       "      <td>37</td>\n",
       "      <td>1.0</td>\n",
       "      <td>37</td>\n",
       "      <td>1</td>\n",
       "      <td>90.8723</td>\n",
       "      <td>-17.2484</td>\n",
       "      <td>257.731959</td>\n",
       "    </tr>\n",
       "    <tr>\n",
       "      <th>533</th>\n",
       "      <td>534</td>\n",
       "      <td>53.242</td>\n",
       "      <td>0.53</td>\n",
       "      <td>19.278</td>\n",
       "      <td>0.37</td>\n",
       "      <td>3.31</td>\n",
       "      <td>0.12</td>\n",
       "      <td>-1.23</td>\n",
       "      <td>0.82</td>\n",
       "      <td>-5.68</td>\n",
       "      <td>...</td>\n",
       "      <td>0.10</td>\n",
       "      <td>7.6</td>\n",
       "      <td>0.040</td>\n",
       "      <td>25</td>\n",
       "      <td>1.0</td>\n",
       "      <td>25</td>\n",
       "      <td>3</td>\n",
       "      <td>273.5929</td>\n",
       "      <td>26.2404</td>\n",
       "      <td>302.114804</td>\n",
       "    </tr>\n",
       "    <tr>\n",
       "      <th>539</th>\n",
       "      <td>540</td>\n",
       "      <td>79.052</td>\n",
       "      <td>0.40</td>\n",
       "      <td>5.468</td>\n",
       "      <td>0.22</td>\n",
       "      <td>3.28</td>\n",
       "      <td>0.05</td>\n",
       "      <td>4.22</td>\n",
       "      <td>0.34</td>\n",
       "      <td>2.45</td>\n",
       "      <td>...</td>\n",
       "      <td>0.35</td>\n",
       "      <td>7.6</td>\n",
       "      <td>0.032</td>\n",
       "      <td>19</td>\n",
       "      <td>1.0</td>\n",
       "      <td>19</td>\n",
       "      <td>3</td>\n",
       "      <td>302.2138</td>\n",
       "      <td>43.0025</td>\n",
       "      <td>304.878049</td>\n",
       "    </tr>\n",
       "  </tbody>\n",
       "</table>\n",
       "<p>5 rows × 25 columns</p>\n",
       "</div>"
      ],
      "text/plain": [
       "     Cluster     GLON  s_GLON    GLAT  s_GLAT  parallax  e_parallax   pmra  \\\n",
       "514      515  279.489    0.38 -12.351    0.32      4.84        0.10 -26.65   \n",
       "535      536  255.816    0.44 -17.198    0.37      3.95        0.15  -3.35   \n",
       "106      107  223.450    0.64 -18.164    0.54      3.88        0.24  -5.33   \n",
       "533      534   53.242    0.53  19.278    0.37      3.31        0.12  -1.23   \n",
       "539      540   79.052    0.40   5.468    0.22      3.28        0.05   4.22   \n",
       "\n",
       "     e_pmra  pmdec  ...    AG log10_age      Z  N70  minProb  NminProb  Class  \\\n",
       "514    0.75  15.39  ...  0.35       7.4  0.010   24      1.0        24      3   \n",
       "535    0.72   2.99  ...  0.50       7.9  0.024   31      1.0        31      3   \n",
       "106    2.01   6.76  ...  0.05       7.3  0.004   37      1.0        37      1   \n",
       "533    0.82  -5.68  ...  0.10       7.6  0.040   25      1.0        25      3   \n",
       "539    0.34   2.45  ...  0.35       7.6  0.032   19      1.0        19      3   \n",
       "\n",
       "           ra      dec    distance  \n",
       "514  132.1827 -63.5293  206.611570  \n",
       "535  105.5819 -45.5119  253.164557  \n",
       "106   90.8723 -17.2484  257.731959  \n",
       "533  273.5929  26.2404  302.114804  \n",
       "539  302.2138  43.0025  304.878049  \n",
       "\n",
       "[5 rows x 25 columns]"
      ]
     },
     "execution_count": 73,
     "metadata": {},
     "output_type": "execute_result"
    }
   ],
   "source": [
    "#>200pc\n",
    "df4.sort_values(by=\"distance\").head()"
   ]
  },
  {
   "cell_type": "code",
   "execution_count": 63,
   "metadata": {
    "ExecuteTime": {
     "end_time": "2022-09-26T03:43:31.097822Z",
     "start_time": "2022-09-26T03:43:31.053017Z"
    }
   },
   "outputs": [
    {
     "name": "stdout",
     "output_type": "stream",
     "text": [
      "Using He2022b catalog.\n"
     ]
    }
   ],
   "source": [
    "cc5 = cr.ClusterCatalog(catalog_name=\"He2022b\")\n",
    "df5 = cc5.query_catalog()"
   ]
  },
  {
   "cell_type": "code",
   "execution_count": 74,
   "metadata": {
    "ExecuteTime": {
     "end_time": "2022-09-26T03:46:20.784394Z",
     "start_time": "2022-09-26T03:46:20.747481Z"
    }
   },
   "outputs": [
    {
     "data": {
      "text/html": [
       "<div>\n",
       "<style scoped>\n",
       "    .dataframe tbody tr th:only-of-type {\n",
       "        vertical-align: middle;\n",
       "    }\n",
       "\n",
       "    .dataframe tbody tr th {\n",
       "        vertical-align: top;\n",
       "    }\n",
       "\n",
       "    .dataframe thead th {\n",
       "        text-align: right;\n",
       "    }\n",
       "</style>\n",
       "<table border=\"1\" class=\"dataframe\">\n",
       "  <thead>\n",
       "    <tr style=\"text-align: right;\">\n",
       "      <th></th>\n",
       "      <th>Cluster</th>\n",
       "      <th>GLON</th>\n",
       "      <th>e_GLON</th>\n",
       "      <th>GLAT</th>\n",
       "      <th>e_GLAT</th>\n",
       "      <th>Num</th>\n",
       "      <th>parallax</th>\n",
       "      <th>e_plx</th>\n",
       "      <th>pmra</th>\n",
       "      <th>e_pmra</th>\n",
       "      <th>pmdec</th>\n",
       "      <th>e_pmdec</th>\n",
       "      <th>log10_age</th>\n",
       "      <th>A0</th>\n",
       "      <th>ra</th>\n",
       "      <th>dec</th>\n",
       "      <th>distance</th>\n",
       "    </tr>\n",
       "  </thead>\n",
       "  <tbody>\n",
       "    <tr>\n",
       "      <th>255</th>\n",
       "      <td>Melotte_25</td>\n",
       "      <td>179.6266</td>\n",
       "      <td>3.011</td>\n",
       "      <td>-21.7450</td>\n",
       "      <td>2.798</td>\n",
       "      <td>257</td>\n",
       "      <td>21.386</td>\n",
       "      <td>0.791</td>\n",
       "      <td>106.447</td>\n",
       "      <td>9.700</td>\n",
       "      <td>-26.814</td>\n",
       "      <td>10.525</td>\n",
       "      <td>8.75</td>\n",
       "      <td>0.55</td>\n",
       "      <td>66.9427</td>\n",
       "      <td>16.5581</td>\n",
       "      <td>46.759562</td>\n",
       "    </tr>\n",
       "    <tr>\n",
       "      <th>252</th>\n",
       "      <td>Melotte_111</td>\n",
       "      <td>222.5044</td>\n",
       "      <td>18.390</td>\n",
       "      <td>83.3681</td>\n",
       "      <td>1.658</td>\n",
       "      <td>99</td>\n",
       "      <td>11.665</td>\n",
       "      <td>0.259</td>\n",
       "      <td>-12.106</td>\n",
       "      <td>0.513</td>\n",
       "      <td>-8.951</td>\n",
       "      <td>0.745</td>\n",
       "      <td>8.75</td>\n",
       "      <td>0.35</td>\n",
       "      <td>185.5902</td>\n",
       "      <td>25.8388</td>\n",
       "      <td>85.726532</td>\n",
       "    </tr>\n",
       "    <tr>\n",
       "      <th>177</th>\n",
       "      <td>GroupX_a</td>\n",
       "      <td>101.1817</td>\n",
       "      <td>6.484</td>\n",
       "      <td>61.5513</td>\n",
       "      <td>1.630</td>\n",
       "      <td>61</td>\n",
       "      <td>10.652</td>\n",
       "      <td>0.220</td>\n",
       "      <td>-18.068</td>\n",
       "      <td>0.954</td>\n",
       "      <td>-4.668</td>\n",
       "      <td>1.538</td>\n",
       "      <td>8.25</td>\n",
       "      <td>0.25</td>\n",
       "      <td>209.7663</td>\n",
       "      <td>52.6272</td>\n",
       "      <td>93.879084</td>\n",
       "    </tr>\n",
       "    <tr>\n",
       "      <th>681</th>\n",
       "      <td>CWNU_1066</td>\n",
       "      <td>60.0434</td>\n",
       "      <td>3.139</td>\n",
       "      <td>-73.5259</td>\n",
       "      <td>1.209</td>\n",
       "      <td>22</td>\n",
       "      <td>10.021</td>\n",
       "      <td>0.216</td>\n",
       "      <td>27.540</td>\n",
       "      <td>0.912</td>\n",
       "      <td>-3.606</td>\n",
       "      <td>0.920</td>\n",
       "      <td>8.10</td>\n",
       "      <td>0.30</td>\n",
       "      <td>357.3947</td>\n",
       "      <td>-18.7989</td>\n",
       "      <td>99.790440</td>\n",
       "    </tr>\n",
       "    <tr>\n",
       "      <th>163</th>\n",
       "      <td>Feigelson_1</td>\n",
       "      <td>300.3394</td>\n",
       "      <td>0.173</td>\n",
       "      <td>-16.0627</td>\n",
       "      <td>0.635</td>\n",
       "      <td>21</td>\n",
       "      <td>9.818</td>\n",
       "      <td>0.132</td>\n",
       "      <td>-41.347</td>\n",
       "      <td>0.885</td>\n",
       "      <td>-6.050</td>\n",
       "      <td>1.759</td>\n",
       "      <td>6.90</td>\n",
       "      <td>0.05</td>\n",
       "      <td>180.0701</td>\n",
       "      <td>-78.6761</td>\n",
       "      <td>101.853738</td>\n",
       "    </tr>\n",
       "  </tbody>\n",
       "</table>\n",
       "</div>"
      ],
      "text/plain": [
       "         Cluster      GLON  e_GLON     GLAT  e_GLAT  Num  parallax  e_plx  \\\n",
       "255   Melotte_25  179.6266   3.011 -21.7450   2.798  257    21.386  0.791   \n",
       "252  Melotte_111  222.5044  18.390  83.3681   1.658   99    11.665  0.259   \n",
       "177     GroupX_a  101.1817   6.484  61.5513   1.630   61    10.652  0.220   \n",
       "681    CWNU_1066   60.0434   3.139 -73.5259   1.209   22    10.021  0.216   \n",
       "163  Feigelson_1  300.3394   0.173 -16.0627   0.635   21     9.818  0.132   \n",
       "\n",
       "        pmra  e_pmra   pmdec  e_pmdec  log10_age    A0        ra      dec  \\\n",
       "255  106.447   9.700 -26.814   10.525       8.75  0.55   66.9427  16.5581   \n",
       "252  -12.106   0.513  -8.951    0.745       8.75  0.35  185.5902  25.8388   \n",
       "177  -18.068   0.954  -4.668    1.538       8.25  0.25  209.7663  52.6272   \n",
       "681   27.540   0.912  -3.606    0.920       8.10  0.30  357.3947 -18.7989   \n",
       "163  -41.347   0.885  -6.050    1.759       6.90  0.05  180.0701 -78.6761   \n",
       "\n",
       "       distance  \n",
       "255   46.759562  \n",
       "252   85.726532  \n",
       "177   93.879084  \n",
       "681   99.790440  \n",
       "163  101.853738  "
      ]
     },
     "execution_count": 74,
     "metadata": {},
     "output_type": "execute_result"
    }
   ],
   "source": [
    "#nearby\n",
    "df5.sort_values(by=\"distance\").head()"
   ]
  },
  {
   "cell_type": "code",
   "execution_count": 80,
   "metadata": {
    "ExecuteTime": {
     "end_time": "2022-09-26T03:52:52.082281Z",
     "start_time": "2022-09-26T03:52:51.650740Z"
    }
   },
   "outputs": [
    {
     "data": {
      "image/png": "[encoded data removed]",
      "text/plain": [
       "<Figure size 640x480 with 1 Axes>"
      ]
     },
     "metadata": {},
     "output_type": "display_data"
    }
   ],
   "source": [
    "ax = df0.plot.scatter(x='ra',y='dec', c='C5', label=f\"{cc0.catalog_name} ({len(df0)})\")\n",
    "_ = df1.plot.scatter(x='ra',y='dec', c='C0', label=f\"{cc1.catalog_name} ({len(df1)})\", ax=ax)\n",
    "_ = df2.plot.scatter(x='ra',y='dec', c='C1', label=f\"{cc2.catalog_name} ({len(df2)})\", ax=ax)\n",
    "_ = df3.plot.scatter(x='ra',y='dec', c='C2', label=f\"{cc3.catalog_name} ({len(df3)})\", ax=ax)\n",
    "_ = df4.plot.scatter(x='ra',y='dec', c='C3', label=f\"{cc4.catalog_name} ({len(df4)})\", ax=ax)\n",
    "_ = df5.plot.scatter(x='ra',y='dec', c='C4', label=f\"{cc5.catalog_name} ({len(df5)})\", ax=ax)"
   ]
  },
  {
   "cell_type": "code",
   "execution_count": 81,
   "metadata": {
    "ExecuteTime": {
     "end_time": "2022-09-26T03:53:22.282724Z",
     "start_time": "2022-09-26T03:53:16.174157Z"
    }
   },
   "outputs": [
    {
     "name": "stdout",
     "output_type": "stream",
     "text": [
      "Using CantatGaudin2020 catalog.\n",
      "(886, 17) (435833, 13)\n",
      "Using CastroGinard2020 catalog.\n",
      "(886, 17) (33635, 14)\n",
      "Using CastroGinard2022 catalog.\n",
      "(886, 17) (25466, 15)\n",
      "Using Hao2022 catalog.\n",
      "(886, 17) (19425, 16)\n",
      "Using He2022a catalog.\n",
      "(886, 17) (66468, 19)\n",
      "Using He2022b catalog.\n",
      "(886, 17) (134192, 17)\n"
     ]
    }
   ],
   "source": [
    "for cc in [cc0,cc1,cc2,cc3,cc4,cc5]:\n",
    "#     d = cc.query_catalog()\n",
    "    m = cc.query_catalog(return_members=True)\n",
    "    print(d.shape, m.shape)"
   ]
  }
 ],
 "metadata": {
  "kernelspec": {
   "display_name": "Python 3",
   "language": "python",
   "name": "python3"
  },
  "language_info": {
   "codemirror_mode": {
    "name": "ipython",
    "version": 3
   },
   "file_extension": ".py",
   "mimetype": "text/x-python",
   "name": "python",
   "nbconvert_exporter": "python",
   "pygments_lexer": "ipython3",
   "version": "3.6.13"
  },
  "toc": {
   "base_numbering": 1,
   "nav_menu": {},
   "number_sections": true,
   "sideBar": true,
   "skip_h1_title": false,
   "title_cell": "Table of Contents",
   "title_sidebar": "Contents",
   "toc_cell": false,
   "toc_position": {
    "height": "calc(100% - 180px)",
    "left": "10px",
    "top": "150px",
    "width": "295.529px"
   },
   "toc_section_display": true,
   "toc_window_display": true
  }
 },
 "nbformat": 4,
 "nbformat_minor": 2
}
