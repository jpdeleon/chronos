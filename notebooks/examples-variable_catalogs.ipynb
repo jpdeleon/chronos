{
 "cells": [
  {
   "cell_type": "markdown",
   "metadata": {},
   "source": [
    "<a href=\"https://colab.research.google.com/github/jpdeleon/chronos/blob/master/notebooks/examples-variable_catalogs.ipynb\" target=\"_parent\"><img src=\"https://colab.research.google.com/assets/colab-badge.svg\" alt=\"Open In Colab\"/></a>"
   ]
  },
  {
   "cell_type": "code",
   "execution_count": 1,
   "metadata": {},
   "outputs": [],
   "source": [
    "#!pip install git+https://github.com/jpdeleon/chronos.git@master"
   ]
  },
  {
   "cell_type": "code",
   "execution_count": 1,
   "metadata": {},
   "outputs": [
    {
     "name": "stdout",
     "output_type": "stream",
     "text": [
      "Created TAP+ (v1.2.1) - Connection:\n",
      "\tHost: gea.esac.esa.int\n",
      "\tUse HTTPS: True\n",
      "\tPort: 443\n",
      "\tSSL Port: 443\n",
      "Created TAP+ (v1.2.1) - Connection:\n",
      "\tHost: geadata.esac.esa.int\n",
      "\tUse HTTPS: True\n",
      "\tPort: 443\n",
      "\tSSL Port: 443\n"
     ]
    }
   ],
   "source": [
    "import chronos as cr"
   ]
  },
  {
   "cell_type": "code",
   "execution_count": 2,
   "metadata": {},
   "outputs": [
    {
     "name": "stdout",
     "output_type": "stream",
     "text": [
      "Target: TOI 2123\n"
     ]
    }
   ],
   "source": [
    "t=cr.Target(toiid=2123)"
   ]
  },
  {
   "cell_type": "code",
   "execution_count": 6,
   "metadata": {},
   "outputs": [
    {
     "name": "stdout",
     "output_type": "stream",
     "text": [
      "Target: TOI 179\n"
     ]
    }
   ],
   "source": [
    "t=cr.Target(toiid=179)\n",
    "t.gaiaid"
   ]
  },
  {
   "cell_type": "code",
   "execution_count": 3,
   "metadata": {},
   "outputs": [
    {
     "name": "stdout",
     "output_type": "stream",
     "text": [
      "Target: Gaia DR2 4689625041910756480\n"
     ]
    }
   ],
   "source": [
    "# t=cr.Target(gaiaDR2id=4689625041910756480)"
   ]
  },
  {
   "cell_type": "markdown",
   "metadata": {},
   "source": [
    "1. Clement+2001-2017: variable stars in globular cluster [V/150]\n",
    "2. Pawlak+2016: EB in OGLE [J/AcA/66/421/ecl]\n",
    "3. Samus+2007-2017: Gen. Catalog of Variable Stars [B/gcvs]\n",
    "    \n",
    "1. Watson+2006-2014: AAVSO International Variable Star Index VSX [B/vsx]\n",
    "2. Collins+2018: KELT Follow-Up Network and Transit False Positive Catalog (KELT-FUN) [J/AJ/156/234]\n",
    "3. Schanche+2019b: SuperWASP dispositions and false positive catalogue [J/MNRAS/488/4905]\n",
    "\n",
    "* Oelkers+2018: TIC sources with KELT [J/AJ/155/39]"
   ]
  },
  {
   "cell_type": "code",
   "execution_count": 12,
   "metadata": {},
   "outputs": [
    {
     "data": {
      "text/latex": [
       "$44^\\circ15{}^\\prime43.2{}^{\\prime\\prime}$"
      ],
      "text/plain": [
       "<Longitude 44.262 deg>"
      ]
     },
     "execution_count": 12,
     "metadata": {},
     "output_type": "execute_result"
    }
   ],
   "source": [
    "t.target_coord.ra"
   ]
  },
  {
   "cell_type": "code",
   "execution_count": 13,
   "metadata": {},
   "outputs": [
    {
     "data": {
      "text/latex": [
       "$-56^\\circ11{}^\\prime30.73{}^{\\prime\\prime}$"
      ],
      "text/plain": [
       "<Latitude -56.19186944 deg>"
      ]
     },
     "execution_count": 13,
     "metadata": {},
     "output_type": "execute_result"
    }
   ],
   "source": [
    "t.target_coord.dec"
   ]
  },
  {
   "cell_type": "code",
   "execution_count": 14,
   "metadata": {},
   "outputs": [
    {
     "name": "stdout",
     "output_type": "stream",
     "text": [
      "J/AJ/155/39/Variables:\n",
      "_r                  1.2\n",
      "_2MASS              b''\n",
      "TIC                 NaN\n",
      "RAJ2000     b'02 57 03'\n",
      "DEJ2000    b'-56 11 30'\n",
      "pmRA                NaN\n",
      "pmDE                NaN\n",
      "Tmag                NaN\n",
      "Bmag                NaN\n",
      "Jmag                NaN\n",
      "Hmag                NaN\n",
      "Js                1.351\n",
      "Ls                0.917\n",
      "Per-LS         0.894556\n",
      "Name: 0, dtype: object\n"
     ]
    }
   ],
   "source": [
    "t.query_variable_star_catalogs()"
   ]
  },
  {
   "cell_type": "code",
   "execution_count": 46,
   "metadata": {},
   "outputs": [
    {
     "name": "stdout",
     "output_type": "stream",
     "text": [
      "Downloading the first 50 rows of each table in V/150 from vizier.\n",
      "{'V/150/clusters': 'Globular cluster data', 'V/150/variabls': '*Variables in and near Globular Clusters', 'V/150/refs': 'References to the data', 'V/150/notessup': 'Supplementary notes on the cluster', 'V/150/notesind': 'Notes on individual stars', 'V/150/notedisc': '*Notes on the \"Discovery of the Variable Stars\"'}\n"
     ]
    },
    {
     "data": {
      "text/plain": [
       "TableList with 6 tables:\n",
       "\t'0:V/150/clusters' with 13 column(s) and 50 row(s) \n",
       "\t'1:V/150/variabls' with 16 column(s) and 50 row(s) \n",
       "\t'2:V/150/refs' with 3 column(s) and 50 row(s) \n",
       "\t'3:V/150/notessup' with 2 column(s) and 50 row(s) \n",
       "\t'4:V/150/notesind' with 3 column(s) and 50 row(s) \n",
       "\t'5:V/150/notedisc' with 2 column(s) and 50 row(s) "
      ]
     },
     "execution_count": 46,
     "metadata": {},
     "output_type": "execute_result"
    }
   ],
   "source": [
    "from astropy.coordinates import SkyCoord\n",
    "\n",
    "clement2017 = cr.get_vizier_tables(\"V/150\", tab_index=1, row_limit=-1).dropna(subset=['RAJ2000','DEJ2000'])\n",
    "clement2017\n",
    "# clement2017.astype(float).dropna(axis=1)\n",
    "# coords = SkyCoord(\n",
    "#         ra=clement2017[\"RAJ2000\"], \n",
    "#         dec=clement2017[\"DEJ2000\"], \n",
    "#         unit=(\"hourangle\", \"degree\")\n",
    "#         )\n",
    "# clement2017['reference'] ='Clement+2001-2017'\n",
    "# clement2017['ra']  = coords.ra.deg\n",
    "# clement2017['dec']  = coords.dec.deg"
   ]
  },
  {
   "cell_type": "code",
   "execution_count": 47,
   "metadata": {},
   "outputs": [
    {
     "name": "stdout",
     "output_type": "stream",
     "text": [
      "Downloading the first 50 rows of each table in J/AcA/66/421/ecl from vizier.\n",
      "{'J/AcA/66/421/ecl': 'Parameters and identifications of eclipsing binary stars'}\n"
     ]
    },
    {
     "data": {
      "text/plain": [
       "TableList with 1 tables:\n",
       "\t'0:J/AcA/66/421/ecl' with 17 column(s) and 50 row(s) "
      ]
     },
     "execution_count": 47,
     "metadata": {},
     "output_type": "execute_result"
    }
   ],
   "source": [
    "Pawlak2016 = cr.get_vizier_tables(\"J/AcA/66/421/ecl\", tab_index=0, row_limit=-1)\n",
    "# Pawlak2016\n",
    "coords = SkyCoord(\n",
    "    ra=Pawlak2016[\"RAJ2000\"], \n",
    "    dec=Pawlak2016[\"DEJ2000\"], \n",
    "    unit=(\"hourangle\", \"degree\")\n",
    "        )\n",
    "Pawlak2016['reference'] = 'Pawlak+2016'\n",
    "Pawlak2016['ra']  = coords.ra.deg\n",
    "Pawlak2016['dec']  = coords.dec.deg"
   ]
  },
  {
   "cell_type": "code",
   "execution_count": 48,
   "metadata": {},
   "outputs": [
    {
     "name": "stdout",
     "output_type": "stream",
     "text": [
      "Downloading the first 50 rows of each table in B/gcvs from vizier.\n",
      "{'B/gcvs/gcvs_cat': 'GCVS catalog (GCVS 5.1, version Oct, 2020)', 'B/gcvs/gcvs_rem': 'GCVS remarks', 'B/gcvs/crossid': 'Cross-Identifications (Vol. V)', 'B/gcvs/nsv_cat': 'NSV and supplement', 'B/gcvs/nsv_rem': 'NSV and NSVS remarks', 'B/gcvs/evs_cat': 'Extragalactic Variable Stars. Catalogue (Vol. V)', 'B/gcvs/evs_rem': 'Extragalactic Variable Stars. Remarks', 'B/gcvs/refs': 'References'}\n"
     ]
    },
    {
     "data": {
      "text/plain": [
       "TableList with 8 tables:\n",
       "\t'0:B/gcvs/gcvs_cat' with 11 column(s) and 50 row(s) \n",
       "\t'1:B/gcvs/gcvs_rem' with 2 column(s) and 50 row(s) \n",
       "\t'2:B/gcvs/crossid' with 3 column(s) and 50 row(s) \n",
       "\t'3:B/gcvs/nsv_cat' with 10 column(s) and 50 row(s) \n",
       "\t'4:B/gcvs/nsv_rem' with 2 column(s) and 50 row(s) \n",
       "\t'5:B/gcvs/evs_cat' with 12 column(s) and 50 row(s) \n",
       "\t'6:B/gcvs/evs_rem' with 2 column(s) and 50 row(s) \n",
       "\t'7:B/gcvs/refs' with 2 column(s) and 50 row(s) "
      ]
     },
     "execution_count": 48,
     "metadata": {},
     "output_type": "execute_result"
    }
   ],
   "source": [
    "Samus2017 = cr.get_vizier_tables(\"B/gcvs\", tab_index=0, row_limit=-1).dropna()\n",
    "# Samus2017\n",
    "coords = SkyCoord(\n",
    "    ra=Samus2017[\"RAJ2000\"], \n",
    "    dec=Samus2017[\"DEJ2000\"], \n",
    "    unit=(\"hourangle\", \"degree\")\n",
    "        )\n",
    "Samus2017['reference'] = 'Samus+2007-2017'\n",
    "Samus2017['ra']  = coords.ra.deg\n",
    "Samus2017['dec']  = coords.dec.deg"
   ]
  },
  {
   "cell_type": "code",
   "execution_count": 50,
   "metadata": {},
   "outputs": [
    {
     "name": "stdout",
     "output_type": "stream",
     "text": [
      "Downloading the first 50 rows of each table in B/vsx from vizier.\n",
      "{'B/vsx/vsx': 'Variable Star indeX, Version 2020-11-30', 'B/vsx/refs': 'Bibliography (references) of VSX stars', 'B/vsx/vsx_id': 'Stars having a \"VSX\" name'}\n"
     ]
    },
    {
     "data": {
      "text/plain": [
       "TableList with 3 tables:\n",
       "\t'0:B/vsx/vsx' with 19 column(s) and 50 row(s) \n",
       "\t'1:B/vsx/refs' with 2 column(s) and 50 row(s) \n",
       "\t'2:B/vsx/vsx_id' with 3 column(s) and 50 row(s) "
      ]
     },
     "execution_count": 50,
     "metadata": {},
     "output_type": "execute_result"
    }
   ],
   "source": [
    "Watson2014 = cr.get_vizier_tables(\"B/vsx\", tab_index=0, row_limit=-1)\n",
    "# Watson2014\n",
    "coords = SkyCoord(\n",
    "    ra=Watson2014[\"RAJ2000\"], \n",
    "    dec=Watson2014[\"DEJ2000\"], \n",
    "    unit=(\"degree\", \"degree\")\n",
    "        )\n",
    "Watson2014['reference'] = 'Watson+2006-2014'\n",
    "Watson2014['ra']  = coords.ra.deg\n",
    "Watson2014['dec']  = coords.dec.deg"
   ]
  },
  {
   "cell_type": "code",
   "execution_count": 52,
   "metadata": {},
   "outputs": [
    {
     "name": "stdout",
     "output_type": "stream",
     "text": [
      "Downloading the first 50 rows of each table in J/AJ/156/234 from vizier.\n",
      "{'J/AJ/156/234/table4': 'False positive catalog'}\n"
     ]
    },
    {
     "data": {
      "text/plain": [
       "TableList with 1 tables:\n",
       "\t'0:J/AJ/156/234/table4' with 11 column(s) and 50 row(s) "
      ]
     },
     "execution_count": 52,
     "metadata": {},
     "output_type": "execute_result"
    }
   ],
   "source": [
    "Collins2018 = cr.get_vizier_tables(\"J/AJ/156/234\", tab_index=0, row_limit=-1)\n",
    "# Collins2018\n",
    "coords = SkyCoord(\n",
    "    ra=Collins2018[\"RAJ2000\"], \n",
    "    dec=Collins2018[\"DEJ2000\"], \n",
    "    unit=(\"hourangle\", \"degree\")\n",
    "        )\n",
    "Collins2018['reference'] = 'Collins+2018'\n",
    "Collins2018['ra']  = coords.ra.deg\n",
    "Collins2018['dec']  = coords.dec.deg"
   ]
  },
  {
   "cell_type": "code",
   "execution_count": 56,
   "metadata": {},
   "outputs": [
    {
     "name": "stdout",
     "output_type": "stream",
     "text": [
      "Downloading the first 50 rows of each table in J/MNRAS/488/4905 from vizier.\n",
      "{'J/MNRAS/488/4905/table2': 'SuperWASP false positive catalogue'}\n"
     ]
    },
    {
     "data": {
      "text/plain": [
       "TableList with 1 tables:\n",
       "\t'0:J/MNRAS/488/4905/table2' with 8 column(s) and 50 row(s) "
      ]
     },
     "execution_count": 56,
     "metadata": {},
     "output_type": "execute_result"
    }
   ],
   "source": [
    "Schanche2019 = cr.get_vizier_tables(\"J/MNRAS/488/4905\", tab_index=0, row_limit=-1)\n",
    "# Schanche2019\n",
    "coords = SkyCoord(\n",
    "    ra=Schanche2019[\"RAJ2000\"], \n",
    "    dec=Schanche2019[\"DEJ2000\"], \n",
    "    unit=(\"hourangle\", \"degree\")\n",
    "        )\n",
    "Schanche2019['reference'] = 'Schanche+2019'\n",
    "Schanche2019['ra']  = coords.ra.deg\n",
    "Schanche2019['dec']  = coords.dec.deg"
   ]
  },
  {
   "cell_type": "code",
   "execution_count": 57,
   "metadata": {},
   "outputs": [
    {
     "name": "stdout",
     "output_type": "stream",
     "text": [
      "Downloading the first 50 rows of each table in J/AJ/155/39 from vizier.\n",
      "{'J/AJ/155/39/Variables': 'Astrometric Information (table 2) , Magnitude Information (table 3) and Variability Information (table 4) for KELT Variables', 'J/AJ/155/39/table5': 'Variability Upper Limits for Non-Variable Sources in the TESS Input Catalog', 'J/AJ/155/39/table6': 'Rotation Information for TIC Dwarf Candidates'}\n"
     ]
    },
    {
     "data": {
      "text/plain": [
       "TableList with 3 tables:\n",
       "\t'0:J/AJ/155/39/Variables' with 13 column(s) and 50 row(s) \n",
       "\t'1:J/AJ/155/39/table5' with 10 column(s) and 50 row(s) \n",
       "\t'2:J/AJ/155/39/table6' with 12 column(s) and 50 row(s) "
      ]
     },
     "execution_count": 57,
     "metadata": {},
     "output_type": "execute_result"
    }
   ],
   "source": [
    "Oelkers2018 = cr.get_vizier_tables(\"J/AJ/155/39\", tab_index=0, row_limit=-1)\n",
    "# Oelkers2018\n",
    "coords = SkyCoord(\n",
    "    ra=Oelkers2018[\"RAJ2000\"], \n",
    "    dec=Oelkers2018[\"DEJ2000\"], \n",
    "    unit=(\"hourangle\", \"degree\")\n",
    "        )\n",
    "Oelkers2018['reference'] = 'Oelkers+2018'\n",
    "Oelkers2018['ra']  = coords.ra.deg\n",
    "Oelkers2018['dec']  = coords.dec.deg"
   ]
  },
  {
   "cell_type": "code",
   "execution_count": null,
   "metadata": {},
   "outputs": [],
   "source": [
    "import pandas as pd\n",
    "\n",
    "df = pd.concat([clement2017,Pawlak2016,Samus2017,Watson2014,Collins2018,Schanche2019,Oelkers2018], ignore_index=True)\n",
    "df.plot(x='ra',y='dec', marker='o',ls='')"
   ]
  },
  {
   "cell_type": "code",
   "execution_count": null,
   "metadata": {},
   "outputs": [],
   "source": [
    "df.tail()"
   ]
  },
  {
   "cell_type": "raw",
   "metadata": {},
   "source": [
    "t.query_variable_star_catalogs()"
   ]
  },
  {
   "cell_type": "code",
   "execution_count": 6,
   "metadata": {},
   "outputs": [
    {
     "data": {
      "text/plain": [
       "{'ID': 'I_254_out',\n",
       " 'name': 'I/254/out',\n",
       " 'description': 'output (out of 25,258,765 positions)'}"
      ]
     },
     "execution_count": 6,
     "metadata": {},
     "output_type": "execute_result"
    }
   ],
   "source": [
    "tabs[0]._meta['name']"
   ]
  },
  {
   "cell_type": "code",
   "execution_count": 4,
   "metadata": {},
   "outputs": [
    {
     "name": "stdout",
     "output_type": "stream",
     "text": [
      "  _r   Cluster Var  n_Var   RAJ2000   ...  Epoch   r_pos OName n_OName Com\n",
      "arcsec                      \"h:m:s\"   ...    yr                           \n",
      "------ ------- ---- ----- ----------- ... -------- ----- ----- ------- ---\n",
      "  0.13 NGC 104 V050       00 22 47.46 ... 1998.601 2MASS                  \n"
     ]
    }
   ],
   "source": [
    "tabs = t.query_vizier(verbose=False)\n",
    "idx = [n if 'var' in t._meta[\"description\"] else False for n,t in enumerate(tabs)]\n",
    "for i in idx:\n",
    "    if i:\n",
    "        print(tabs[i])"
   ]
  },
  {
   "cell_type": "raw",
   "metadata": {},
   "source": [
    "tabs = cr.get_vizier_tables(\"B/gcvs\")"
   ]
  },
  {
   "cell_type": "raw",
   "metadata": {},
   "source": [
    "coord = tab[['RAJ2000','DEJ2000']].apply(lambda x: x.str.replace(' ', ':'))"
   ]
  },
  {
   "cell_type": "raw",
   "metadata": {},
   "source": [
    "from astropy.coordinates import SkyCoord\n",
    "tab = cr.get_vizier_tables(\"B/gcvs\", tab_index=0)\n",
    "\n",
    "SkyCoord(ra=coord['RAJ2000'], dec=coord['DEJ2000'], unit=('hourangle','deg'))"
   ]
  },
  {
   "cell_type": "code",
   "execution_count": null,
   "metadata": {},
   "outputs": [],
   "source": []
  }
 ],
 "metadata": {
  "kernelspec": {
   "display_name": "Python 3",
   "language": "python",
   "name": "python3"
  },
  "language_info": {
   "codemirror_mode": {
    "name": "ipython",
    "version": 3
   },
   "file_extension": ".py",
   "mimetype": "text/x-python",
   "name": "python",
   "nbconvert_exporter": "python",
   "pygments_lexer": "ipython3",
   "version": "3.7.6"
  },
  "toc": {
   "base_numbering": 1,
   "nav_menu": {},
   "number_sections": true,
   "sideBar": true,
   "skip_h1_title": false,
   "title_cell": "Table of Contents",
   "title_sidebar": "Contents",
   "toc_cell": false,
   "toc_position": {},
   "toc_section_display": true,
   "toc_window_display": false
  }
 },
 "nbformat": 4,
 "nbformat_minor": 4
}
