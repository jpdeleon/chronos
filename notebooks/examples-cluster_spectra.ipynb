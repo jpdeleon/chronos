{
 "cells": [
  {
   "cell_type": "markdown",
   "metadata": {},
   "source": [
    "<a href=\"https://colab.research.google.com/github/jpdeleon/chronos/blob/master/notebooks/examples-cluster_spectra.ipynb\" target=\"_parent\"><img src=\"https://colab.research.google.com/assets/colab-badge.svg\" alt=\"Open In Colab\"/></a>"
   ]
  },
  {
   "cell_type": "code",
   "execution_count": 1,
   "metadata": {},
   "outputs": [],
   "source": [
    "#!pip install git+https://github.com/jpdeleon/chronos.git@master"
   ]
  },
  {
   "cell_type": "code",
   "execution_count": 2,
   "metadata": {
    "scrolled": true
   },
   "outputs": [
    {
     "name": "stdout",
     "output_type": "stream",
     "text": [
      "Created TAP+ (v1.2.1) - Connection:\n",
      "\tHost: gea.esac.esa.int\n",
      "\tUse HTTPS: True\n",
      "\tPort: 443\n",
      "\tSSL Port: 443\n",
      "Created TAP+ (v1.2.1) - Connection:\n",
      "\tHost: geadata.esac.esa.int\n",
      "\tUse HTTPS: True\n",
      "\tPort: 443\n",
      "\tSSL Port: 443\n"
     ]
    }
   ],
   "source": [
    "%matplotlib inline\n",
    "import chronos as cr"
   ]
  },
  {
   "cell_type": "code",
   "execution_count": 3,
   "metadata": {},
   "outputs": [],
   "source": [
    "cc = cr.ClusterCatalog()"
   ]
  },
  {
   "cell_type": "code",
   "execution_count": 4,
   "metadata": {},
   "outputs": [
    {
     "name": "stdout",
     "output_type": "stream",
     "text": [
      "Using CantatGaudin2020 catalog.\n"
     ]
    },
    {
     "data": {
      "text/html": [
       "<div>\n",
       "<style scoped>\n",
       "    .dataframe tbody tr th:only-of-type {\n",
       "        vertical-align: middle;\n",
       "    }\n",
       "\n",
       "    .dataframe tbody tr th {\n",
       "        vertical-align: top;\n",
       "    }\n",
       "\n",
       "    .dataframe thead th {\n",
       "        text-align: right;\n",
       "    }\n",
       "</style>\n",
       "<table border=\"1\" class=\"dataframe\">\n",
       "  <thead>\n",
       "    <tr style=\"text-align: right;\">\n",
       "      <th></th>\n",
       "      <th>Cluster</th>\n",
       "      <th>raJ2015</th>\n",
       "      <th>decJ2015</th>\n",
       "      <th>GLON</th>\n",
       "      <th>GLAT</th>\n",
       "      <th>r50</th>\n",
       "      <th>Nstars</th>\n",
       "      <th>pmra</th>\n",
       "      <th>pmdec</th>\n",
       "      <th>parallax</th>\n",
       "      <th>distance</th>\n",
       "      <th>X</th>\n",
       "      <th>Y</th>\n",
       "      <th>Z</th>\n",
       "      <th>Rgc</th>\n",
       "      <th>ra</th>\n",
       "      <th>dec</th>\n",
       "    </tr>\n",
       "  </thead>\n",
       "  <tbody>\n",
       "    <tr>\n",
       "      <th>0</th>\n",
       "      <td>ASCC_10</td>\n",
       "      <td>51.870</td>\n",
       "      <td>34.981</td>\n",
       "      <td>155.723</td>\n",
       "      <td>-17.770</td>\n",
       "      <td>0.558</td>\n",
       "      <td>71</td>\n",
       "      <td>-1.737</td>\n",
       "      <td>-1.368</td>\n",
       "      <td>1.459</td>\n",
       "      <td>672.0</td>\n",
       "      <td>-583.3</td>\n",
       "      <td>263.1</td>\n",
       "      <td>-205.1</td>\n",
       "      <td>8927.2</td>\n",
       "      <td>51.870</td>\n",
       "      <td>34.981</td>\n",
       "    </tr>\n",
       "    <tr>\n",
       "      <th>1</th>\n",
       "      <td>ASCC_101</td>\n",
       "      <td>288.399</td>\n",
       "      <td>36.369</td>\n",
       "      <td>68.028</td>\n",
       "      <td>11.608</td>\n",
       "      <td>0.372</td>\n",
       "      <td>75</td>\n",
       "      <td>0.934</td>\n",
       "      <td>1.288</td>\n",
       "      <td>2.488</td>\n",
       "      <td>397.3</td>\n",
       "      <td>145.6</td>\n",
       "      <td>360.9</td>\n",
       "      <td>79.9</td>\n",
       "      <td>8202.3</td>\n",
       "      <td>288.399</td>\n",
       "      <td>36.369</td>\n",
       "    </tr>\n",
       "    <tr>\n",
       "      <th>2</th>\n",
       "      <td>ASCC_105</td>\n",
       "      <td>295.548</td>\n",
       "      <td>27.366</td>\n",
       "      <td>62.825</td>\n",
       "      <td>2.063</td>\n",
       "      <td>0.648</td>\n",
       "      <td>127</td>\n",
       "      <td>1.464</td>\n",
       "      <td>-1.635</td>\n",
       "      <td>1.783</td>\n",
       "      <td>551.8</td>\n",
       "      <td>251.8</td>\n",
       "      <td>490.5</td>\n",
       "      <td>19.9</td>\n",
       "      <td>8103.0</td>\n",
       "      <td>295.548</td>\n",
       "      <td>27.366</td>\n",
       "    </tr>\n",
       "    <tr>\n",
       "      <th>3</th>\n",
       "      <td>ASCC_107</td>\n",
       "      <td>297.164</td>\n",
       "      <td>21.987</td>\n",
       "      <td>58.904</td>\n",
       "      <td>-1.901</td>\n",
       "      <td>0.174</td>\n",
       "      <td>59</td>\n",
       "      <td>-0.155</td>\n",
       "      <td>-5.156</td>\n",
       "      <td>1.109</td>\n",
       "      <td>878.5</td>\n",
       "      <td>453.5</td>\n",
       "      <td>751.9</td>\n",
       "      <td>-29.2</td>\n",
       "      <td>7922.3</td>\n",
       "      <td>297.164</td>\n",
       "      <td>21.987</td>\n",
       "    </tr>\n",
       "    <tr>\n",
       "      <th>4</th>\n",
       "      <td>ASCC_108</td>\n",
       "      <td>298.306</td>\n",
       "      <td>39.349</td>\n",
       "      <td>74.378</td>\n",
       "      <td>6.074</td>\n",
       "      <td>0.537</td>\n",
       "      <td>230</td>\n",
       "      <td>-0.519</td>\n",
       "      <td>-1.690</td>\n",
       "      <td>0.838</td>\n",
       "      <td>1154.0</td>\n",
       "      <td>309.0</td>\n",
       "      <td>1105.1</td>\n",
       "      <td>122.1</td>\n",
       "      <td>8106.7</td>\n",
       "      <td>298.306</td>\n",
       "      <td>39.349</td>\n",
       "    </tr>\n",
       "  </tbody>\n",
       "</table>\n",
       "</div>"
      ],
      "text/plain": [
       "    Cluster  raJ2015  decJ2015     GLON    GLAT    r50  Nstars   pmra  pmdec  \\\n",
       "0   ASCC_10   51.870    34.981  155.723 -17.770  0.558      71 -1.737 -1.368   \n",
       "1  ASCC_101  288.399    36.369   68.028  11.608  0.372      75  0.934  1.288   \n",
       "2  ASCC_105  295.548    27.366   62.825   2.063  0.648     127  1.464 -1.635   \n",
       "3  ASCC_107  297.164    21.987   58.904  -1.901  0.174      59 -0.155 -5.156   \n",
       "4  ASCC_108  298.306    39.349   74.378   6.074  0.537     230 -0.519 -1.690   \n",
       "\n",
       "   parallax  distance      X       Y      Z     Rgc       ra     dec  \n",
       "0     1.459     672.0 -583.3   263.1 -205.1  8927.2   51.870  34.981  \n",
       "1     2.488     397.3  145.6   360.9   79.9  8202.3  288.399  36.369  \n",
       "2     1.783     551.8  251.8   490.5   19.9  8103.0  295.548  27.366  \n",
       "3     1.109     878.5  453.5   751.9  -29.2  7922.3  297.164  21.987  \n",
       "4     0.838    1154.0  309.0  1105.1  122.1  8106.7  298.306  39.349  "
      ]
     },
     "execution_count": 4,
     "metadata": {},
     "output_type": "execute_result"
    }
   ],
   "source": [
    "cat = cc.query_catalog()\n",
    "cat.head()"
   ]
  },
  {
   "cell_type": "code",
   "execution_count": 5,
   "metadata": {},
   "outputs": [
    {
     "name": "stdout",
     "output_type": "stream",
     "text": [
      "Using CantatGaudin2020 catalog.\n"
     ]
    },
    {
     "data": {
      "text/html": [
       "<div>\n",
       "<style scoped>\n",
       "    .dataframe tbody tr th:only-of-type {\n",
       "        vertical-align: middle;\n",
       "    }\n",
       "\n",
       "    .dataframe tbody tr th {\n",
       "        vertical-align: top;\n",
       "    }\n",
       "\n",
       "    .dataframe thead th {\n",
       "        text-align: right;\n",
       "    }\n",
       "</style>\n",
       "<table border=\"1\" class=\"dataframe\">\n",
       "  <thead>\n",
       "    <tr style=\"text-align: right;\">\n",
       "      <th></th>\n",
       "      <th>raJ2015</th>\n",
       "      <th>decJ2015</th>\n",
       "      <th>source_id</th>\n",
       "      <th>parallax</th>\n",
       "      <th>pmra</th>\n",
       "      <th>pmdec</th>\n",
       "      <th>RV</th>\n",
       "      <th>phot_g_mean_mag</th>\n",
       "      <th>bp_rp</th>\n",
       "      <th>Proba</th>\n",
       "      <th>Cluster</th>\n",
       "      <th>ra</th>\n",
       "      <th>dec</th>\n",
       "    </tr>\n",
       "  </thead>\n",
       "  <tbody>\n",
       "    <tr>\n",
       "      <th>0</th>\n",
       "      <td>52.756558</td>\n",
       "      <td>34.689531</td>\n",
       "      <td>221090730122510976</td>\n",
       "      <td>1.3799</td>\n",
       "      <td>-1.601</td>\n",
       "      <td>-1.205</td>\n",
       "      <td>NaN</td>\n",
       "      <td>13.0581</td>\n",
       "      <td>0.9138</td>\n",
       "      <td>0.8</td>\n",
       "      <td>ASCC_10</td>\n",
       "      <td>52.756566</td>\n",
       "      <td>34.689536</td>\n",
       "    </tr>\n",
       "    <tr>\n",
       "      <th>1</th>\n",
       "      <td>52.730263</td>\n",
       "      <td>34.341461</td>\n",
       "      <td>221065132117493376</td>\n",
       "      <td>1.6550</td>\n",
       "      <td>-2.455</td>\n",
       "      <td>-1.998</td>\n",
       "      <td>NaN</td>\n",
       "      <td>14.7757</td>\n",
       "      <td>1.2807</td>\n",
       "      <td>0.6</td>\n",
       "      <td>ASCC_10</td>\n",
       "      <td>52.730275</td>\n",
       "      <td>34.341469</td>\n",
       "    </tr>\n",
       "    <tr>\n",
       "      <th>2</th>\n",
       "      <td>52.684345</td>\n",
       "      <td>34.003600</td>\n",
       "      <td>220988819138630016</td>\n",
       "      <td>1.5876</td>\n",
       "      <td>-2.437</td>\n",
       "      <td>-0.949</td>\n",
       "      <td>NaN</td>\n",
       "      <td>10.8832</td>\n",
       "      <td>0.7241</td>\n",
       "      <td>0.1</td>\n",
       "      <td>ASCC_10</td>\n",
       "      <td>52.684358</td>\n",
       "      <td>34.003604</td>\n",
       "    </tr>\n",
       "    <tr>\n",
       "      <th>3</th>\n",
       "      <td>52.676106</td>\n",
       "      <td>34.733687</td>\n",
       "      <td>221094367958697088</td>\n",
       "      <td>1.5586</td>\n",
       "      <td>-1.532</td>\n",
       "      <td>-1.558</td>\n",
       "      <td>NaN</td>\n",
       "      <td>16.8798</td>\n",
       "      <td>1.8380</td>\n",
       "      <td>0.7</td>\n",
       "      <td>ASCC_10</td>\n",
       "      <td>52.676114</td>\n",
       "      <td>34.733694</td>\n",
       "    </tr>\n",
       "    <tr>\n",
       "      <th>4</th>\n",
       "      <td>52.712100</td>\n",
       "      <td>34.578004</td>\n",
       "      <td>221083888238423552</td>\n",
       "      <td>1.4173</td>\n",
       "      <td>-1.403</td>\n",
       "      <td>-1.242</td>\n",
       "      <td>NaN</td>\n",
       "      <td>17.9800</td>\n",
       "      <td>2.2854</td>\n",
       "      <td>0.6</td>\n",
       "      <td>ASCC_10</td>\n",
       "      <td>52.712107</td>\n",
       "      <td>34.578009</td>\n",
       "    </tr>\n",
       "  </tbody>\n",
       "</table>\n",
       "</div>"
      ],
      "text/plain": [
       "     raJ2015   decJ2015           source_id  parallax   pmra  pmdec  RV  \\\n",
       "0  52.756558  34.689531  221090730122510976    1.3799 -1.601 -1.205 NaN   \n",
       "1  52.730263  34.341461  221065132117493376    1.6550 -2.455 -1.998 NaN   \n",
       "2  52.684345  34.003600  220988819138630016    1.5876 -2.437 -0.949 NaN   \n",
       "3  52.676106  34.733687  221094367958697088    1.5586 -1.532 -1.558 NaN   \n",
       "4  52.712100  34.578004  221083888238423552    1.4173 -1.403 -1.242 NaN   \n",
       "\n",
       "   phot_g_mean_mag   bp_rp  Proba  Cluster         ra        dec  \n",
       "0          13.0581  0.9138    0.8  ASCC_10  52.756566  34.689536  \n",
       "1          14.7757  1.2807    0.6  ASCC_10  52.730275  34.341469  \n",
       "2          10.8832  0.7241    0.1  ASCC_10  52.684358  34.003604  \n",
       "3          16.8798  1.8380    0.7  ASCC_10  52.676114  34.733694  \n",
       "4          17.9800  2.2854    0.6  ASCC_10  52.712107  34.578009  "
      ]
     },
     "execution_count": 5,
     "metadata": {},
     "output_type": "execute_result"
    }
   ],
   "source": [
    "mem = cc.query_catalog(return_members=True)\n",
    "mem.head()"
   ]
  },
  {
   "cell_type": "markdown",
   "metadata": {},
   "source": [
    "## cross-match each cluster with TGv8"
   ]
  },
  {
   "cell_type": "code",
   "execution_count": 6,
   "metadata": {},
   "outputs": [],
   "source": [
    "df = cr.get_TGv8_catalog()"
   ]
  },
  {
   "cell_type": "code",
   "execution_count": null,
   "metadata": {},
   "outputs": [],
   "source": [
    "from tqdm import tqdm\n",
    "\n",
    "clusters = {}\n",
    "for cluster in tqdm(mem.Cluster.unique()):\n",
    "    stars = mem.query(\"Cluster==@cluster\")\n",
    "    idx = df.Gaia_source_id.isin(stars.source_id)\n",
    "    clusters[cluster]=df[idx]\n",
    "    if len(idx)>0:\n",
    "        print(cluster)"
   ]
  },
  {
   "cell_type": "code",
   "execution_count": 8,
   "metadata": {
    "scrolled": true
   },
   "outputs": [
    {
     "name": "stdout",
     "output_type": "stream",
     "text": [
      "ASCC_19\n",
      "ASCC_41\n",
      "Alessi_24\n",
      "Alessi_3\n",
      "Blanco_1\n",
      "Collinder_135\n",
      "Collinder_350\n"
     ]
    }
   ],
   "source": [
    "for key in clusters.keys():\n",
    "    d = clusters[key]\n",
    "    feh_cols = d.columns[d.columns.str.contains(\"Fe_H\")]\n",
    "    if d[feh_cols].dropna(how=\"all\", axis=1).shape[1]>2:\n",
    "        print(key)"
   ]
  },
  {
   "cell_type": "code",
   "execution_count": 15,
   "metadata": {
    "scrolled": false
   },
   "outputs": [
    {
     "name": "stdout",
     "output_type": "stream",
     "text": [
      "Probability: D=0.99\n",
      "No data for APOGEE_Fe_H\n",
      "Probability: D=0.99\n",
      "Probability: D=0.99\n",
      "No data for GALAH_Fe_H\n",
      "Probability: D=0.99\n",
      "No data for LAMOST_Fe_H\n",
      "Probability: D=0.99\n",
      "Probability: D=0.99\n"
     ]
    },
    {
     "data": {
      "image/png": "[encoded data removed]",
      "text/plain": [
       "<Figure size 1500x1000 with 9 Axes>"
      ]
     },
     "metadata": {},
     "output_type": "display_data"
    }
   ],
   "source": [
    "d = clusters[\"Blanco_1\"]\n",
    "fig = plot_Toomre_diagrams(d, color=\"Fe_H\") #color=\"Teff\""
   ]
  },
  {
   "cell_type": "code",
   "execution_count": 16,
   "metadata": {},
   "outputs": [
    {
     "data": {
      "text/plain": [
       "Index(['Gaia_source_id', 'Gaia_RA', 'Gaia_Dec', 'Gaia_parallax',\n",
       "       'Gaia_e_parallax', 'Gaia_pmra', 'Gaia_e_pmra', 'Gaia_pmdec',\n",
       "       'Gaia_e_pmdec', 'Gaia_vrad', 'Gaia_e_vrad', 'Gaia_G_mag',\n",
       "       'Gaia_G_mag_error', 'Gaia_BP_mag', 'Gaia_BP_mag_error', 'Gaia_RP_mag',\n",
       "       'Gaia_RP_mag_error', 'Marchetti_U', 'Marchetti_el_U', 'Marchetti_eu_U',\n",
       "       'Marchetti_V', 'Marchetti_el_V', 'Marchetti_eu_V', 'Marchetti_W',\n",
       "       'Marchetti_el_W', 'Marchetti_eu_W', 'Marchetti_vtot',\n",
       "       'Marchetti_el_vtot', 'Marchetti_eu_vtot', 'Bailer-Jones_r_est',\n",
       "       'Bailer-Jones_r_lo', 'Bailer-Jones_r_hi', '2MASS_ID', 'TICID',\n",
       "       'TESS_RA', 'TESS_Dec', 'GLONG', 'GLAT', 'TESSMAG', 'PRIORITY', 'HIP',\n",
       "       'TYCHO2', 'TD_D', 'TD_D_le', 'TD_D_ue', 'TD_H', 'TD_H_le', 'TD_H_ue',\n",
       "       'D', 'TD', 'H', 'APOGEE_Fe_H', 'APOGEE_Teff', 'APOGEE_logg',\n",
       "       'APOGEE_alpha', 'GALAH_Fe_H', 'GALAH_Teff', 'GALAH_logg', 'GALAH_alpha',\n",
       "       'RAVE_Fe_H', 'RAVE_Teff', 'RAVE_logg', 'RAVE_alpha', 'LAMOST_Fe_H',\n",
       "       'LAMOST_Teff', 'LAMOST_logg', 'LAMOST_alpha', 'Casagrande_Fe_H',\n",
       "       'Casagrande_Teff', 'Deacon_Fe_H', 'Deacon_Teff', 'Deacon_logg'],\n",
       "      dtype='object')"
      ]
     },
     "execution_count": 16,
     "metadata": {},
     "output_type": "execute_result"
    }
   ],
   "source": [
    "d.columns"
   ]
  },
  {
   "cell_type": "markdown",
   "metadata": {},
   "source": [
    "## TOIs"
   ]
  },
  {
   "cell_type": "markdown",
   "metadata": {},
   "source": [
    "### Thin disk planetary systems"
   ]
  },
  {
   "cell_type": "code",
   "execution_count": null,
   "metadata": {},
   "outputs": [],
   "source": [
    "tois_thin_disc = cr.get_tois_in_TGv8_catalog(query_str=\"D>0.9\")\n",
    "fig = plot_Toomre_diagrams(tois_thin_disc)"
   ]
  },
  {
   "cell_type": "markdown",
   "metadata": {},
   "source": [
    "### Thick disk planetary systems"
   ]
  },
  {
   "cell_type": "code",
   "execution_count": null,
   "metadata": {},
   "outputs": [],
   "source": [
    "tois_thick_disc = cr.get_tois_in_TGv8_catalog(query_str=\"TD>0.9\")\n",
    "fig = plot_Toomre_diagrams(tois_thick_disc)"
   ]
  }
 ],
 "metadata": {
  "kernelspec": {
   "display_name": "Python 3",
   "language": "python",
   "name": "python3"
  },
  "language_info": {
   "codemirror_mode": {
    "name": "ipython",
    "version": 3
   },
   "file_extension": ".py",
   "mimetype": "text/x-python",
   "name": "python",
   "nbconvert_exporter": "python",
   "pygments_lexer": "ipython3",
   "version": "3.7.6"
  },
  "toc": {
   "base_numbering": 1,
   "nav_menu": {},
   "number_sections": true,
   "sideBar": true,
   "skip_h1_title": false,
   "title_cell": "Table of Contents",
   "title_sidebar": "Contents",
   "toc_cell": false,
   "toc_position": {},
   "toc_section_display": true,
   "toc_window_display": false
  }
 },
 "nbformat": 4,
 "nbformat_minor": 4
}
