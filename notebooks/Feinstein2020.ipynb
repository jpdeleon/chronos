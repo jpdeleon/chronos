{
 "cells": [
  {
   "cell_type": "code",
   "execution_count": 2,
   "metadata": {},
   "outputs": [
    {
     "data": {
      "text/html": [
       "<div>\n",
       "<style scoped>\n",
       "    .dataframe tbody tr th:only-of-type {\n",
       "        vertical-align: middle;\n",
       "    }\n",
       "\n",
       "    .dataframe tbody tr th {\n",
       "        vertical-align: top;\n",
       "    }\n",
       "\n",
       "    .dataframe thead th {\n",
       "        text-align: right;\n",
       "    }\n",
       "</style>\n",
       "<table border=\"1\" class=\"dataframe\">\n",
       "  <thead>\n",
       "    <tr style=\"text-align: right;\">\n",
       "      <th></th>\n",
       "      <th>TIC</th>\n",
       "      <th>Teff</th>\n",
       "      <th>Flare_rate</th>\n",
       "      <th>Period_days</th>\n",
       "    </tr>\n",
       "  </thead>\n",
       "  <tbody>\n",
       "    <tr>\n",
       "      <th>0</th>\n",
       "      <td>134947</td>\n",
       "      <td>3286.0</td>\n",
       "      <td>0.851026</td>\n",
       "      <td>1.321325</td>\n",
       "    </tr>\n",
       "    <tr>\n",
       "      <th>1</th>\n",
       "      <td>671393</td>\n",
       "      <td>3096.0</td>\n",
       "      <td>0.000000</td>\n",
       "      <td>0.437796</td>\n",
       "    </tr>\n",
       "    <tr>\n",
       "      <th>2</th>\n",
       "      <td>1223040</td>\n",
       "      <td>3172.0</td>\n",
       "      <td>0.251992</td>\n",
       "      <td>0.843112</td>\n",
       "    </tr>\n",
       "    <tr>\n",
       "      <th>3</th>\n",
       "      <td>1232360</td>\n",
       "      <td>0.0</td>\n",
       "      <td>0.000000</td>\n",
       "      <td>2.363182</td>\n",
       "    </tr>\n",
       "    <tr>\n",
       "      <th>4</th>\n",
       "      <td>1273249</td>\n",
       "      <td>0.0</td>\n",
       "      <td>0.000000</td>\n",
       "      <td>1.800985</td>\n",
       "    </tr>\n",
       "    <tr>\n",
       "      <th>...</th>\n",
       "      <td>...</td>\n",
       "      <td>...</td>\n",
       "      <td>...</td>\n",
       "      <td>...</td>\n",
       "    </tr>\n",
       "    <tr>\n",
       "      <th>1526</th>\n",
       "      <td>468330671</td>\n",
       "      <td>0.0</td>\n",
       "      <td>0.351719</td>\n",
       "      <td>2.206000</td>\n",
       "    </tr>\n",
       "    <tr>\n",
       "      <th>1527</th>\n",
       "      <td>469171560</td>\n",
       "      <td>4911.0</td>\n",
       "      <td>0.124019</td>\n",
       "      <td>10.725478</td>\n",
       "    </tr>\n",
       "    <tr>\n",
       "      <th>1528</th>\n",
       "      <td>609530751</td>\n",
       "      <td>0.0</td>\n",
       "      <td>0.000000</td>\n",
       "      <td>2.617656</td>\n",
       "    </tr>\n",
       "    <tr>\n",
       "      <th>1529</th>\n",
       "      <td>611620106</td>\n",
       "      <td>3985.0</td>\n",
       "      <td>0.514022</td>\n",
       "      <td>3.121375</td>\n",
       "    </tr>\n",
       "    <tr>\n",
       "      <th>1530</th>\n",
       "      <td>622285940</td>\n",
       "      <td>0.0</td>\n",
       "      <td>0.000000</td>\n",
       "      <td>2.775247</td>\n",
       "    </tr>\n",
       "  </tbody>\n",
       "</table>\n",
       "<p>1531 rows × 4 columns</p>\n",
       "</div>"
      ],
      "text/plain": [
       "            TIC    Teff  Flare_rate  Period_days\n",
       "0        134947  3286.0    0.851026     1.321325\n",
       "1        671393  3096.0    0.000000     0.437796\n",
       "2       1223040  3172.0    0.251992     0.843112\n",
       "3       1232360     0.0    0.000000     2.363182\n",
       "4       1273249     0.0    0.000000     1.800985\n",
       "...         ...     ...         ...          ...\n",
       "1526  468330671     0.0    0.351719     2.206000\n",
       "1527  469171560  4911.0    0.124019    10.725478\n",
       "1528  609530751     0.0    0.000000     2.617656\n",
       "1529  611620106  3985.0    0.514022     3.121375\n",
       "1530  622285940     0.0    0.000000     2.775247\n",
       "\n",
       "[1531 rows x 4 columns]"
      ]
     },
     "execution_count": 2,
     "metadata": {},
     "output_type": "execute_result"
    }
   ],
   "source": [
    "import pandas as pd\n",
    "\n",
    "df = pd.read_csv('../chronos/data/Feinstein2020_Prot_NYMG.txt')\n",
    "df"
   ]
  },
  {
   "cell_type": "raw",
   "metadata": {},
   "source": [
    "ls /home/jp/github/research/project/tql/tests/Binks2020/"
   ]
  },
  {
   "cell_type": "code",
   "execution_count": 3,
   "metadata": {},
   "outputs": [],
   "source": [
    "mkdir /home/jp/github/research/project/tql/tests/Feinstein2020"
   ]
  },
  {
   "cell_type": "code",
   "execution_count": 5,
   "metadata": {},
   "outputs": [],
   "source": [
    "df.TIC.to_csv('/home/jp/github/research/project/tql/tests/Feinstein2020/feinstein2020.txt',\n",
    "              index=False\n",
    "             )"
   ]
  },
  {
   "cell_type": "code",
   "execution_count": null,
   "metadata": {},
   "outputs": [],
   "source": []
  }
 ],
 "metadata": {
  "kernelspec": {
   "display_name": "Python 3",
   "language": "python",
   "name": "python3"
  },
  "language_info": {
   "codemirror_mode": {
    "name": "ipython",
    "version": 3
   },
   "file_extension": ".py",
   "mimetype": "text/x-python",
   "name": "python",
   "nbconvert_exporter": "python",
   "pygments_lexer": "ipython3",
   "version": "3.7.6"
  },
  "toc": {
   "base_numbering": 1,
   "nav_menu": {},
   "number_sections": true,
   "sideBar": true,
   "skip_h1_title": false,
   "title_cell": "Table of Contents",
   "title_sidebar": "Contents",
   "toc_cell": false,
   "toc_position": {},
   "toc_section_display": true,
   "toc_window_display": false
  }
 },
 "nbformat": 4,
 "nbformat_minor": 4
}
