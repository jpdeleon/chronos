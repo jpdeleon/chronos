{
 "cells": [
  {
   "cell_type": "code",
   "execution_count": 1,
   "metadata": {},
   "outputs": [
    {
     "name": "stdout",
     "output_type": "stream",
     "text": [
      "Created TAP+ (v1.2.1) - Connection:\n",
      "\tHost: gea.esac.esa.int\n",
      "\tUse HTTPS: True\n",
      "\tPort: 443\n",
      "\tSSL Port: 443\n",
      "Created TAP+ (v1.2.1) - Connection:\n",
      "\tHost: geadata.esac.esa.int\n",
      "\tUse HTTPS: True\n",
      "\tPort: 443\n",
      "\tSSL Port: 443\n"
     ]
    }
   ],
   "source": [
    "import chronos as cr"
   ]
  },
  {
   "cell_type": "code",
   "execution_count": 2,
   "metadata": {},
   "outputs": [
    {
     "name": "stdout",
     "output_type": "stream",
     "text": [
      "Target: TOI 179\n",
      "Searching Vizier: (44.262 -56.1919) with radius=3.0 arcsec\n"
     ]
    }
   ],
   "source": [
    "p = cr.Planet(toiid=179, clobber=False)"
   ]
  },
  {
   "cell_type": "code",
   "execution_count": 3,
   "metadata": {},
   "outputs": [
    {
     "name": "stdout",
     "output_type": "stream",
     "text": [
      "Querying Gaia DR2 catalog for ra,dec=(44.262 -56.1919) within 3.0 arcsec.\n",
      "Querying TIC catalog for ra,dec=(44.262 -56.1919) within 3.0 arcsec.\n",
      "Gaia and TIC catalog cross-match succeeded.\n",
      "Saved: TOI179/star.ini\n",
      "['parallax = 25.901097647182596, 0.10293960586359334', 'TESS = 8.1796, 0.01', 'G = 8.73117352, 0.01', 'BP = 9.211318, 0.01', 'RP = 8.138369, 0.01', 'J = 7.428, 0.018', 'H = 7.029, 0.015', 'K = 6.883, 0.02', 'W1 = 6.81, 0.04', 'W2 = 6.88, 0.02', 'W3 = 6.87, 0.02']\n"
     ]
    }
   ],
   "source": [
    "p.save_ini_isochrones()"
   ]
  },
  {
   "cell_type": "code",
   "execution_count": 4,
   "metadata": {},
   "outputs": [
    {
     "name": "stdout",
     "output_type": "stream",
     "text": [
      "Querying short cadence PDCSAP light curve\n",
      "TIC 207141131 is TOI 179!\n"
     ]
    },
    {
     "name": "stderr",
     "output_type": "stream",
     "text": [
      "\r",
      "  0%|          | 0/2 [00:00<?, ?it/s]"
     ]
    },
    {
     "name": "stdout",
     "output_type": "stream",
     "text": [
      "Target: TIC 207141131\n",
      "Available sectors: [2 3]\n",
      "Using sector=2.\n",
      "Using TESS short cadence.\n",
      "\n",
      "Searching lightcurvefile for TIC 207141131 (sector 2)\n",
      "Found 1 lightcurves\n"
     ]
    },
    {
     "name": "stderr",
     "output_type": "stream",
     "text": [
      "\r",
      " 50%|█████     | 1/2 [00:04<00:04,  4.99s/it]"
     ]
    },
    {
     "name": "stdout",
     "output_type": "stream",
     "text": [
      "Saved:  TOI179/TOI179-pdcsap-s2-raw.txt\n",
      "Searching lightcurvefile for TIC 207141131 (sector 3)\n",
      "Found 1 lightcurves\n"
     ]
    },
    {
     "name": "stderr",
     "output_type": "stream",
     "text": [
      "Warning: 31% (6168/19692) of the cadences will be ignored due to the quality mask (quality_bitmask=175).\n",
      "100%|██████████| 2/2 [00:09<00:00,  4.73s/it]"
     ]
    },
    {
     "name": "stdout",
     "output_type": "stream",
     "text": [
      "Saved:  TOI179/TOI179-pdcsap-s3-raw.txt\n",
      "Saved:  TOI179/TOI179-00-pdcsap-s2-fold.txt\n",
      "Saved:  TOI179/TOI179-00-pdcsap-s3-fold.txt\n",
      "===179.01===\n",
      "Saved: TOI179/TOI179.ini\n",
      "#command: lcfit -i TOI179-pdcsap-s3-raw.txt -c TOI179.ini -o johannes --mcmc-burn 500 --mcmc-thin 10 --mcmc-steps 1000\n",
      "[planets]\n",
      "\t[[179.01]]\n",
      "\t\tper = 4.137394\n",
      "\t\tt0 = 2458354.588379\n",
      "\t\tt14 = 0.08\n",
      "[star]\n",
      "\tteff = 5058, 181\n",
      "\tlogg = 4.52, 0.28\n",
      "\tfeh = 0.00, 0.10\n",
      "\trad = 0.84, 0.11\n",
      "\n"
     ]
    },
    {
     "name": "stderr",
     "output_type": "stream",
     "text": [
      "\n"
     ]
    }
   ],
   "source": [
    "p.save_ini_johannes(feh=(0,0.1), save_lc=True)"
   ]
  },
  {
   "cell_type": "code",
   "execution_count": 5,
   "metadata": {},
   "outputs": [
    {
     "name": "stdout",
     "output_type": "stream",
     "text": [
      "Double check entries for cadence and band.\n",
      "Saved: TOI179/fpp.ini\n",
      "['name = TOI179', 'ra = 44.2620', 'dec = -56.1919', 'period = 4.1374', 'rprs = 0.0011', 'cadence = 0.02', 'band = TESS', 'photfile = TOI179-lc-folded.txt', '[constraints]', 'maxrad = 60.0', 'secthresh = None']\n"
     ]
    }
   ],
   "source": [
    "p.save_ini_vespa()"
   ]
  },
  {
   "cell_type": "code",
   "execution_count": null,
   "metadata": {},
   "outputs": [],
   "source": []
  }
 ],
 "metadata": {
  "kernelspec": {
   "display_name": "Python 3",
   "language": "python",
   "name": "python3"
  },
  "language_info": {
   "codemirror_mode": {
    "name": "ipython",
    "version": 3
   },
   "file_extension": ".py",
   "mimetype": "text/x-python",
   "name": "python",
   "nbconvert_exporter": "python",
   "pygments_lexer": "ipython3",
   "version": "3.7.6"
  },
  "toc": {
   "base_numbering": 1,
   "nav_menu": {},
   "number_sections": true,
   "sideBar": true,
   "skip_h1_title": false,
   "title_cell": "Table of Contents",
   "title_sidebar": "Contents",
   "toc_cell": false,
   "toc_position": {},
   "toc_section_display": true,
   "toc_window_display": false
  }
 },
 "nbformat": 4,
 "nbformat_minor": 4
}
