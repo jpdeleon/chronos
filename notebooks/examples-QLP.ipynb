{
 "cells": [
  {
   "cell_type": "markdown",
   "metadata": {},
   "source": [
    "<a href=\"https://colab.research.google.com/github/jpdeleon/chronos/blob/master/notebooks/examples-QLP.ipynb\" target=\"_parent\"><img src=\"https://colab.research.google.com/assets/colab-badge.svg\" alt=\"Open In Colab\"/></a>"
   ]
  },
  {
   "cell_type": "code",
   "execution_count": null,
   "metadata": {},
   "outputs": [
    {
     "name": "stdout",
     "output_type": "stream",
     "text": [
      "Created TAP+ (v1.2.1) - Connection:\n",
      "\tHost: gea.esac.esa.int\n",
      "\tUse HTTPS: True\n",
      "\tPort: 443\n",
      "\tSSL Port: 443\n",
      "Created TAP+ (v1.2.1) - Connection:\n",
      "\tHost: geadata.esac.esa.int\n",
      "\tUse HTTPS: True\n",
      "\tPort: 443\n",
      "\tSSL Port: 443\n"
     ]
    }
   ],
   "source": [
    "import chronos as cr"
   ]
  },
  {
   "cell_type": "code",
   "execution_count": 2,
   "metadata": {},
   "outputs": [
    {
     "name": "stdout",
     "output_type": "stream",
     "text": [
      "Target: TIC 21278334\n",
      "Using lightcurve with custom aperture.\n",
      "Searching targetpixelfile for ra,dec=(276.97 49.9165) using Tesscut\n",
      "Brightest star detected is far from the center.\n",
      "Aperture mask is placed at the center instead.\n",
      "\n",
      "Removing scattered light + applying PLD\n",
      "Querying Gaia DR2 catalog for ra,dec=(276.97 49.9165) within 120.0 arcsec.\n",
      "Using TESS long cadence.\n",
      "\n"
     ]
    }
   ],
   "source": [
    "t = cr.LongCadence(ticid=21278334, sector=26)"
   ]
  },
  {
   "cell_type": "code",
   "execution_count": 3,
   "metadata": {},
   "outputs": [
    {
     "name": "stdout",
     "output_type": "stream",
     "text": [
      "https://archive.stsci.edu/hlsps/qlp/s0026/0000/0000/2127/8334/hlsp_qlp_tess_ffi_s0026-0000000021278334_tess_v01_llc.fits\n"
     ]
    }
   ],
   "source": [
    "from astropy.io import fits\n",
    "\n",
    "ext = 'fits'\n",
    "sec = str(t.sector).zfill(4)\n",
    "tic = str(t.ticid).zfill(16)\n",
    "base = \"https://archive.stsci.edu/hlsps/qlp/\"\n",
    "url = base+f\"s{sec}/{tic[:4]}/{tic[4:8]}/{tic[8:12]}/{tic[12:16]}/hlsp_qlp_tess_ffi_s{sec}-{tic}_tess_v01_llc.{ext}\"\n",
    "print(url)"
   ]
  },
  {
   "cell_type": "code",
   "execution_count": 4,
   "metadata": {},
   "outputs": [
    {
     "name": "stdout",
     "output_type": "stream",
     "text": [
      "Filename: /home/jp/.astropy/cache/download/py3/666746e99d3d8277476430b8fa36e787\n",
      "No.    Name      Ver    Type      Cards   Dimensions   Format\n",
      "  0  PRIMARY       1 PrimaryHDU      29   ()      \n",
      "  1  LIGHTCURVE    1 BinTableHDU     65   1148R x 13C   [D, J, E, E, E, J, J, E, E, E, E, E, E]   \n"
     ]
    }
   ],
   "source": [
    "hdulist = fits.open(url)\n",
    "hdulist.info()"
   ]
  },
  {
   "cell_type": "code",
   "execution_count": 5,
   "metadata": {},
   "outputs": [
    {
     "data": {
      "text/plain": [
       "ColDefs(\n",
       "    name = 'TIME'; format = 'D'; unit = 'BJD-2457000, days'\n",
       "    name = 'CADENCENO'; format = 'J'\n",
       "    name = 'SAP_FLUX'; format = 'E'\n",
       "    name = 'KSPSAP_FLUX'; format = 'E'\n",
       "    name = 'KSPSAP_FLUX_ERR'; format = 'E'\n",
       "    name = 'QUALITY'; format = 'J'\n",
       "    name = 'ORBITID'; format = 'J'\n",
       "    name = 'SAP_X'; format = 'E'; unit = 'pixel'\n",
       "    name = 'SAP_Y'; format = 'E'; unit = 'pixel'\n",
       "    name = 'SAP_BKG'; format = 'E'\n",
       "    name = 'SAP_BKG_ERR'; format = 'E'\n",
       "    name = 'KSPSAP_FLUX_SML'; format = 'E'\n",
       "    name = 'KSPSAP_FLUX_LAG'; format = 'E'\n",
       ")"
      ]
     },
     "execution_count": 5,
     "metadata": {},
     "output_type": "execute_result"
    }
   ],
   "source": [
    "hdulist[1].data._coldefs"
   ]
  },
  {
   "cell_type": "code",
   "execution_count": 6,
   "metadata": {},
   "outputs": [
    {
     "data": {
      "text/plain": [
       "XTENSION= 'BINTABLE'           / binary table extension                         \n",
       "BITPIX  =                    8 / array data type                                \n",
       "NAXIS   =                    2 / number of array dimensions                     \n",
       "NAXIS1  =                   56 / length of dimension 1                          \n",
       "NAXIS2  =                 1148 / length of dimension 2                          \n",
       "PCOUNT  =                    0 / number of group parameters                     \n",
       "GCOUNT  =                    1 / number of groups                               \n",
       "TFIELDS =                   13 / number of table fields                         \n",
       "TTYPE1  = 'TIME    '                                                            \n",
       "TFORM1  = 'D       '                                                            "
      ]
     },
     "execution_count": 6,
     "metadata": {},
     "output_type": "execute_result"
    }
   ],
   "source": [
    "hdulist[1].header[:10]"
   ]
  },
  {
   "cell_type": "markdown",
   "metadata": {},
   "source": [
    "## QLP module"
   ]
  },
  {
   "cell_type": "code",
   "execution_count": null,
   "metadata": {},
   "outputs": [],
   "source": [
    "qlp = cr.QLP(ticid=21278334, sector=26)"
   ]
  },
  {
   "cell_type": "code",
   "execution_count": null,
   "metadata": {},
   "outputs": [],
   "source": [
    "ax = qlp.lc.remove_outliers().scatter()"
   ]
  },
  {
   "cell_type": "markdown",
   "metadata": {},
   "source": [
    "## multiple TIC at a time"
   ]
  },
  {
   "cell_type": "code",
   "execution_count": null,
   "metadata": {},
   "outputs": [],
   "source": [
    "from astroquery.mast import Observations\n",
    "\n",
    "tic_ids = ['21278334', '7583207']\n",
    "obsTable = Observations.query_criteria(provenance_name=\"QLP\",\n",
    "                               target_name=tic_ids,\n",
    "                               sequence_number=26)\n",
    "\n",
    "data = Observations.get_product_list(obsTable)\n",
    "\n",
    "download_lc = Observations.download_products(data)"
   ]
  },
  {
   "cell_type": "code",
   "execution_count": null,
   "metadata": {},
   "outputs": [],
   "source": [
    "d = fits.open(download_lc[0]['Local Path'])\n",
    "d.info()"
   ]
  }
 ],
 "metadata": {
  "kernelspec": {
   "display_name": "Python 3",
   "language": "python",
   "name": "python3"
  },
  "language_info": {
   "codemirror_mode": {
    "name": "ipython",
    "version": 3
   },
   "file_extension": ".py",
   "mimetype": "text/x-python",
   "name": "python",
   "nbconvert_exporter": "python",
   "pygments_lexer": "ipython3",
   "version": "3.7.6"
  },
  "toc": {
   "base_numbering": 1,
   "nav_menu": {},
   "number_sections": true,
   "sideBar": true,
   "skip_h1_title": false,
   "title_cell": "Table of Contents",
   "title_sidebar": "Contents",
   "toc_cell": false,
   "toc_position": {},
   "toc_section_display": true,
   "toc_window_display": false
  }
 },
 "nbformat": 4,
 "nbformat_minor": 4
}
